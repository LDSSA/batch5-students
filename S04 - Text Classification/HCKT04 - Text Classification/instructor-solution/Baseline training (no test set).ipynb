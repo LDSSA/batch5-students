{
 "cells": [
  {
   "cell_type": "code",
   "execution_count": 1,
   "id": "5eb31d2d",
   "metadata": {},
   "outputs": [],
   "source": [
    "import re\n",
    "import string\n",
    "import pandas as pd\n",
    "import numpy as np\n",
    "\n",
    "from sklearn.model_selection import train_test_split\n",
    "from sklearn.preprocessing import StandardScaler\n",
    "from sklearn.feature_extraction.text import TfidfVectorizer, CountVectorizer\n",
    "\n",
    "# from sklearn.feature_selection import SelectKBest, chi2\n",
    "# from sklearn.decomposition import TruncatedSVD, PCA\n",
    "\n",
    "\n",
    "from sklearn.svm import SVC\n",
    "from sklearn.naive_bayes import MultinomialNB\n",
    "from sklearn.tree import DecisionTreeClassifier\n",
    "from sklearn.ensemble import RandomForestClassifier\n",
    "\n",
    "from sklearn.metrics import f1_score, precision_score, recall_score\n",
    "\n",
    "from sklearn.pipeline import Pipeline, FeatureUnion\n",
    "from sklearn.base import BaseEstimator, TransformerMixin, clone\n"
   ]
  },
  {
   "cell_type": "code",
   "execution_count": 2,
   "id": "84f47ae0",
   "metadata": {},
   "outputs": [],
   "source": [
    "dataset_train = pd.read_csv(\"./train_set_preprocessed.csv\")\n",
    "dataset_train = dataset_train.fillna('')\n"
   ]
  },
  {
   "cell_type": "markdown",
   "id": "c25edf84",
   "metadata": {},
   "source": [
    "### Naive conversion to true/false "
   ]
  },
  {
   "cell_type": "code",
   "execution_count": 3,
   "id": "4a6c1487",
   "metadata": {},
   "outputs": [],
   "source": [
    "def set_is_helpful(row):\n",
    "    if row[\"rates_count\"] > 0 and row[\"helpful_count\"] > 0 and (row['helpful_count'] / row['rates_count']) > 0.5:\n",
    "        return \"true\"\n",
    "    return \"false\"\n",
    "\n",
    "dataset_with_label = dataset_train.copy()\n",
    "dataset_with_label['is_helpful'] = dataset_train.apply(lambda row: set_is_helpful(row), axis=1)\n",
    "#dataset_with_label.drop([\"rates_count\", \"helpful_count\"], axis=1, inplace=True)\n"
   ]
  },
  {
   "cell_type": "code",
   "execution_count": 4,
   "id": "14845dbe",
   "metadata": {},
   "outputs": [
    {
     "data": {
      "text/plain": [
       "true     19512\n",
       "false     8911\n",
       "Name: is_helpful, dtype: int64"
      ]
     },
     "execution_count": 4,
     "metadata": {},
     "output_type": "execute_result"
    }
   ],
   "source": [
    "dataset_with_label.is_helpful.value_counts()"
   ]
  },
  {
   "cell_type": "code",
   "execution_count": 5,
   "id": "abe55fc4",
   "metadata": {},
   "outputs": [
    {
     "data": {
      "text/plain": [
       "array([<AxesSubplot:title={'center':'false'}>,\n",
       "       <AxesSubplot:title={'center':'true'}>], dtype=object)"
      ]
     },
     "execution_count": 5,
     "metadata": {},
     "output_type": "execute_result"
    },
    {
     "data": {
      "image/png": "[encoded data removed]",
      "text/plain": [
       "<Figure size 432x288 with 2 Axes>"
      ]
     },
     "metadata": {
      "needs_background": "light"
     },
     "output_type": "display_data"
    }
   ],
   "source": [
    "dataset_with_label.hist(column='rating', by='is_helpful')"
   ]
  },
  {
   "cell_type": "code",
   "execution_count": 6,
   "id": "3cdb1d30",
   "metadata": {},
   "outputs": [],
   "source": [
    "dataset_balanced = pd.concat(\n",
    "    (\n",
    "        dataset_with_label[dataset_with_label.is_helpful == \"true\"].sample(frac=0.6, random_state=42), \n",
    "        dataset_with_label[dataset_with_label.is_helpful == \"false\"]\n",
    "    )\n",
    ")\n"
   ]
  },
  {
   "cell_type": "code",
   "execution_count": 7,
   "id": "84191857",
   "metadata": {},
   "outputs": [
    {
     "data": {
      "text/plain": [
       "true     11707\n",
       "false     8911\n",
       "Name: is_helpful, dtype: int64"
      ]
     },
     "execution_count": 7,
     "metadata": {},
     "output_type": "execute_result"
    }
   ],
   "source": [
    "dataset_balanced.is_helpful.value_counts()\n"
   ]
  },
  {
   "cell_type": "markdown",
   "id": "85975d6e",
   "metadata": {},
   "source": [
    "### Train/dev split  "
   ]
  },
  {
   "cell_type": "code",
   "execution_count": 8,
   "id": "3fe4ea0d",
   "metadata": {},
   "outputs": [],
   "source": [
    "X_train, \\\n",
    "X_dev, \\\n",
    "y_train, \\\n",
    "y_dev = train_test_split(\n",
    "    dataset_balanced.drop(columns=[\"is_helpful\"]), \n",
    "    dataset_balanced[\"is_helpful\"], \n",
    "    test_size=0.33, \n",
    "    random_state=42,\n",
    ")\n"
   ]
  },
  {
   "cell_type": "code",
   "execution_count": 9,
   "id": "273b9a71",
   "metadata": {},
   "outputs": [
    {
     "name": "stdout",
     "output_type": "stream",
     "text": [
      "['false' 'true'] [5980 7834]\n"
     ]
    }
   ],
   "source": [
    "unique, counts = np.unique(y_train, return_counts=True)\n",
    "print(unique, counts)"
   ]
  },
  {
   "cell_type": "markdown",
   "id": "220efb55",
   "metadata": {},
   "source": [
    "## 0. Useful selectors (From BLU09)\n"
   ]
  },
  {
   "cell_type": "code",
   "execution_count": 10,
   "id": "95c9110f",
   "metadata": {},
   "outputs": [],
   "source": [
    "class Selector(BaseEstimator, TransformerMixin):\n",
    "    \"\"\"\n",
    "    Transformer to select a column from the dataframe to perform additional transformations on\n",
    "    \"\"\" \n",
    "    def __init__(self, key):\n",
    "        self.key = key\n",
    "        \n",
    "    def fit(self, X, y=None):\n",
    "        return self\n",
    "    \n",
    "\n",
    "class TextSelector(Selector):\n",
    "    \"\"\"\n",
    "    Transformer to select a single column from the data frame to perform additional transformations on\n",
    "    Use on text columns in the data\n",
    "    \"\"\"\n",
    "    def transform(self, X):\n",
    "        return X[self.key]\n",
    "    \n",
    "    \n",
    "class NumberSelector(Selector):\n",
    "    \"\"\"\n",
    "    Transformer to select a single column from the data frame to perform additional transformations on\n",
    "    Use on numeric columns in the data\n",
    "    \"\"\"\n",
    "    def transform(self, X):\n",
    "        return X[[self.key]]"
   ]
  },
  {
   "cell_type": "code",
   "execution_count": 11,
   "id": "c53310be",
   "metadata": {},
   "outputs": [],
   "source": [
    "def get_and_print_metrics_helpful(true_labels, predictions):\n",
    "    precision = precision_score(true_labels, predictions, pos_label=\"true\")\n",
    "    recall = recall_score(true_labels, predictions, pos_label=\"true\")\n",
    "    f1 = f1_score(true_labels, predictions, pos_label=\"true\")\n",
    "\n",
    "    print(f\"Precision: {precision}\")\n",
    "    print(f\"Recall: {recall}\")\n",
    "    print(f\"F1-Score: {f1}\")\n",
    "\n",
    "    return precision, recall, f1\n"
   ]
  },
  {
   "cell_type": "markdown",
   "id": "f192edb9",
   "metadata": {},
   "source": [
    "## 1. Majority class\n"
   ]
  },
  {
   "cell_type": "code",
   "execution_count": 12,
   "id": "6620a608",
   "metadata": {},
   "outputs": [
    {
     "name": "stdout",
     "output_type": "stream",
     "text": [
      "Precision: 0.5692239858906526\n",
      "Recall: 1.0\n",
      "F1-Score: 0.7254846867097499\n"
     ]
    }
   ],
   "source": [
    "y_pred = pd.Series([\"true\"]).repeat(len(X_dev))\n",
    "precision ,recall, f1 = get_and_print_metrics_helpful(y_dev, y_pred)\n"
   ]
  },
  {
   "cell_type": "markdown",
   "id": "d8ce095d",
   "metadata": {},
   "source": [
    "## 2. Pure numerical baseline\n"
   ]
  },
  {
   "cell_type": "code",
   "execution_count": 22,
   "id": "bd5cdf63",
   "metadata": {},
   "outputs": [],
   "source": [
    "numerical_columns = [\n",
    "#     'len_review', \n",
    "#     'len_summary', \n",
    "#     'word_count_summary', \n",
    "#     'word_count_review', \n",
    "#     'punctuation_count_summary',\n",
    "#     'punctuation_count_review',\n",
    "    'rating',\n",
    "#     'review_ADJ_count',  # -> interesting bump in precision can be a good indicator we'll not de-generate to majority\n",
    "]\n",
    "\n",
    "numeric_steps = []\n",
    "for feature in numerical_columns:\n",
    "    pipeline_step = Pipeline(\n",
    "        [\n",
    "            (feature, NumberSelector(feature)),\n",
    "            (f'scaled_{feature}', StandardScaler())\n",
    "        ]\n",
    "    )\n",
    "    numeric_steps.append((feature, pipeline_step))\n",
    "\n",
    "features_step = FeatureUnion(numeric_steps)\n",
    "\n",
    "numeric_pipeline = Pipeline([\n",
    "    ('features', features_step),\n",
    "    ('classifier', RandomForestClassifier(random_state=42)), # eg. try also DecisionTreeClassifier()\n",
    "\n",
    "])\n",
    "\n",
    "numeric_pipeline_run = clone(numeric_pipeline)\n",
    "numeric_pipeline_run.fit(X_train, y_train)\n",
    "y_pred_dev = numeric_pipeline_run.predict(X_dev)\n",
    "\n"
   ]
  },
  {
   "cell_type": "code",
   "execution_count": 23,
   "id": "b73354ae",
   "metadata": {},
   "outputs": [
    {
     "name": "stdout",
     "output_type": "stream",
     "text": [
      "---- Metrics ----\n",
      "Precision: 0.6748318924111432\n",
      "Recall: 0.7255357603924606\n",
      "F1-Score: 0.6992658952345403\n",
      "\n",
      "---- Balance ----\n",
      "['false' 'true'] [2640 4164]\n"
     ]
    }
   ],
   "source": [
    "print(\"---- Metrics ----\")\n",
    "precision ,recall, f1 = get_and_print_metrics_helpful(y_dev, y_pred_dev)\n",
    "\n",
    "unique, counts = np.unique(y_pred_dev, return_counts=True)\n",
    "print(\"\\n---- Balance ----\")\n",
    "print(unique, counts)"
   ]
  },
  {
   "cell_type": "markdown",
   "id": "ba2fcadf",
   "metadata": {},
   "source": [
    "## 3. Pure text baseline\n"
   ]
  },
  {
   "cell_type": "code",
   "execution_count": 15,
   "id": "38745088",
   "metadata": {},
   "outputs": [],
   "source": [
    "summary = Pipeline([\n",
    "                ('selector', TextSelector(\"summaryPreprocessed\")),\n",
    "                ('tfidf', TfidfVectorizer())\n",
    "            ])\n",
    "\n",
    "review = Pipeline([\n",
    "                ('selector', TextSelector(\"reviewTextPreprocessed\")),\n",
    "                ('tfidf', TfidfVectorizer())\n",
    "            ])\n",
    "\n",
    "features_step = FeatureUnion([('summary', summary), ('review', review)])\n",
    "\n",
    "text_pipeline = Pipeline([\n",
    "    ('features', features_step),\n",
    "    ('classifier', RandomForestClassifier(max_depth=10, random_state=42)),  # eg. try also MultinomialNB()\n",
    "])\n",
    "\n",
    "text_pipeline_run = clone(text_pipeline)\n",
    "text_pipeline_run.fit(X_train, y_train)\n",
    "y_pred_dev = text_pipeline_run.predict(X_dev)\n"
   ]
  },
  {
   "cell_type": "code",
   "execution_count": 16,
   "id": "2ba8d282",
   "metadata": {},
   "outputs": [
    {
     "name": "stdout",
     "output_type": "stream",
     "text": [
      "---- Metrics ----\n",
      "Precision: 0.6245665267384559\n",
      "Recall: 0.8835528014459075\n",
      "F1-Score: 0.7318220701454234\n",
      "\n",
      "---- Balance ----\n",
      "['false' 'true'] [1325 5479]\n"
     ]
    }
   ],
   "source": [
    "print(\"---- Metrics ----\")\n",
    "precision ,recall, f1 = get_and_print_metrics_helpful(y_dev, y_pred_dev)\n",
    "\n",
    "unique, counts = np.unique(y_pred_dev, return_counts=True)\n",
    "print(\"\\n---- Balance ----\")\n",
    "print(unique, counts)"
   ]
  },
  {
   "cell_type": "markdown",
   "id": "526225eb",
   "metadata": {},
   "source": [
    "## 4. Combining both\n"
   ]
  },
  {
   "cell_type": "code",
   "execution_count": 17,
   "id": "4f81b571",
   "metadata": {},
   "outputs": [],
   "source": [
    "combined_steps = numeric_steps + [('summary', summary), ('review', review)]\n",
    "combined_features = FeatureUnion(combined_steps)\n",
    "\n",
    "combined_pipeline = Pipeline([\n",
    "    ('features', combined_features),\n",
    "    ('classifier', RandomForestClassifier(max_depth=10, random_state=42)),\n",
    "])\n",
    "\n",
    "combined_pipeline_run = clone(combined_pipeline)\n",
    "combined_pipeline_run.fit(X_train, y_train)\n",
    "y_pred_dev = combined_pipeline_run.predict(X_dev)\n"
   ]
  },
  {
   "cell_type": "code",
   "execution_count": 18,
   "id": "17bda43c",
   "metadata": {},
   "outputs": [
    {
     "name": "stdout",
     "output_type": "stream",
     "text": [
      "---- Metrics ----\n",
      "Precision: 0.6260473588342441\n",
      "Recall: 0.887425768138394\n",
      "F1-Score: 0.7341663996582293\n",
      "\n",
      "---- Balance ----\n",
      "['false' 'true'] [1314 5490]\n"
     ]
    }
   ],
   "source": [
    "print(\"---- Metrics ----\")\n",
    "precision ,recall, f1 = get_and_print_metrics_helpful(y_dev, y_pred_dev)\n",
    "\n",
    "unique, counts = np.unique(y_pred_dev, return_counts=True)\n",
    "print(\"\\n---- Balance ----\")\n",
    "print(unique, counts)"
   ]
  },
  {
   "cell_type": "markdown",
   "id": "cc8a14b2",
   "metadata": {},
   "source": [
    "## 5. Finding useful data\n"
   ]
  },
  {
   "cell_type": "code",
   "execution_count": 19,
   "id": "43a9606c",
   "metadata": {},
   "outputs": [],
   "source": [
    "min_rate = 2\n",
    "df_train = pd.concat((X_train, pd.Series(y_train, name=\"is_helpful\")), axis=1)\n"
   ]
  },
  {
   "cell_type": "code",
   "execution_count": 20,
   "id": "aa1855a4",
   "metadata": {},
   "outputs": [
    {
     "name": "stdout",
     "output_type": "stream",
     "text": [
      "Min rate 2. Got 7309 samples\n",
      "---- Metrics ----\n",
      "Precision: 0.5737045860631328\n",
      "Recall: 0.994836044410018\n",
      "F1-Score: 0.7277363301539334\n",
      "\n",
      "---- Balance ----\n",
      "['false' 'true'] [  88 6716]\n"
     ]
    }
   ],
   "source": [
    "#for min_rate in [1, 2, 3, 5, 10]: # -> notice drop in precision even though f1 goes up!\n",
    "df_train_filtered = df_train[df_train.rates_count > min_rate]\n",
    "\n",
    "X_train_filtered = df_train_filtered.drop(columns=[\"is_helpful\"])\n",
    "y_train_filtered = df_train_filtered[[\"is_helpful\"]]\n",
    "print(f'Min rate {min_rate}. Got {len(X_train_filtered)} samples')\n",
    "\n",
    "min_rate_combined_pipeline_run = clone(combined_pipeline)\n",
    "min_rate_combined_pipeline_run.fit(X_train_filtered, y_train_filtered)\n",
    "y_pred_dev = min_rate_combined_pipeline_run.predict(X_dev)\n",
    "\n",
    "print(\"---- Metrics ----\")\n",
    "precision ,recall, f1 = get_and_print_metrics_helpful(y_dev, y_pred_dev)\n",
    "\n",
    "unique, counts = np.unique(y_pred_dev, return_counts=True)\n",
    "print(\"\\n---- Balance ----\")\n",
    "print(unique, counts)\n"
   ]
  },
  {
   "cell_type": "markdown",
   "id": "6d901545",
   "metadata": {},
   "source": [
    "## Submitting best model\n",
    "\n",
    "How would it transfer to the test set?\n",
    "\n",
    "We'll go with combined since it looked best so far (both precision and f1-score)"
   ]
  },
  {
   "cell_type": "code",
   "execution_count": 24,
   "id": "8677bcdd",
   "metadata": {},
   "outputs": [
    {
     "name": "stdout",
     "output_type": "stream",
     "text": [
      "---- Metrics ----\n",
      "Precision: 0.660857908847185\n",
      "Recall: 0.61625\n",
      "F1-Score: 0.6377749029754203\n",
      "\n",
      "---- Balance ----\n",
      "['false' 'true'] [1254  746]\n"
     ]
    }
   ],
   "source": [
    "dataset_held_out_test = pd.read_csv(\"./test_set_preprocessed.csv\", dtype={\"is_helpful\": str})\n",
    "dataset_held_out_test = dataset_held_out_test.fillna('')\n",
    "\n",
    "dataset_held_out_test_labels = pd.read_csv(\"../portal/data\", dtype={\"is_helpful\": str})\n",
    "\n",
    "# Combined \n",
    "y_pred_test = numeric_pipeline_run.predict(dataset_held_out_test)\n",
    "\n",
    "print(\"---- Metrics ----\")\n",
    "precision ,recall, f1 = get_and_print_metrics_helpful(dataset_held_out_test_labels.is_helpful, y_pred_test)\n",
    "\n",
    "print(\"\\n---- Balance ----\")\n",
    "unique, counts = np.unique(y_pred_test, return_counts=True)\n",
    "print(unique, counts)"
   ]
  }
 ],
 "metadata": {
  "kernelspec": {
   "display_name": "Python 3 (ipykernel)",
   "language": "python",
   "name": "python3"
  },
  "language_info": {
   "codemirror_mode": {
    "name": "ipython",
    "version": 3
   },
   "file_extension": ".py",
   "mimetype": "text/x-python",
   "name": "python",
   "nbconvert_exporter": "python",
   "pygments_lexer": "ipython3",
   "version": "3.9.6"
  }
 },
 "nbformat": 4,
 "nbformat_minor": 5
}
