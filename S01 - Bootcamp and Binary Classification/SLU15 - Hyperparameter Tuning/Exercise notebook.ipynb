{
 "cells": [
  {
   "cell_type": "markdown",
   "metadata": {
    "colab_type": "text",
    "deletable": false,
    "editable": false,
    "id": "jc1eU_dVECIZ",
    "nbgrader": {
     "grade": false,
     "grade_id": "cell-e37aef4d78b4c632",
     "locked": true,
     "schema_version": 1,
     "solution": false
    }
   },
   "source": [
    "# SLU15 - Hyperparameter Tuning : Exercise notebook\n",
    "\n",
    "### New concepts in this unit\n",
    "\n",
    "*  Hyperparameter definition\n",
    "*  Hyperparameter search\n",
    "*  Model selection\n",
    "\n",
    "### New tools in this unit\n",
    "- [GridSearchCV](http://scikit-learn.org/stable/modules/generated/sklearn.model_selection.GridSearchCV.html)\n",
    "- [RandomizedSearchCV](http://scikit-learn.org/stable/modules/generated/sklearn.model_selection.RandomizedSearchCV.html)"
   ]
  },
  {
   "cell_type": "markdown",
   "metadata": {
    "colab_type": "text",
    "deletable": false,
    "editable": false,
    "id": "UpoBQazfOcdm",
    "nbgrader": {
     "grade": false,
     "grade_id": "cell-673e46abe486e6cf",
     "locked": true,
     "schema_version": 1,
     "solution": false
    }
   },
   "source": [
    "## Introduction\n",
    "You decide you want to apply your data science skills to help identify the risk of heart disease in patients, and so decide to take a look at the [Heart Disease UCI ](https://archive.ics.uci.edu/ml/datasets/Heart+Disease)dataset. This database contains 76 attributes, but all published experiments refer to using a subset of 14 of them. You follow the example and load the simplified dataset. "
   ]
  },
  {
   "cell_type": "code",
   "execution_count": null,
   "metadata": {
    "colab": {},
    "colab_type": "code",
    "deletable": false,
    "editable": false,
    "id": "zvs-JlaoOqhB",
    "nbgrader": {
     "grade": false,
     "grade_id": "cell-8c2e27bca8450438",
     "locked": true,
     "schema_version": 1,
     "solution": false
    }
   },
   "outputs": [],
   "source": [
    "import pandas as pd\n",
    "import numpy as np\n",
    "import scipy\n",
    "import warnings\n",
    "from hashlib import sha256\n",
    "import json\n",
    "\n",
    "import sklearn\n",
    "# These will be needed to prepare the dataset\n",
    "from sklearn.model_selection import train_test_split\n",
    "from sklearn.preprocessing import StandardScaler\n",
    "\n",
    "from sklearn.metrics import f1_score\n"
   ]
  },
  {
   "cell_type": "code",
   "execution_count": null,
   "metadata": {
    "colab": {
     "base_uri": "https://localhost:8080/",
     "height": 204
    },
    "colab_type": "code",
    "deletable": false,
    "editable": false,
    "id": "Cxy3SZa9Vl8-",
    "nbgrader": {
     "grade": false,
     "grade_id": "cell-af75adfcef8e3e25",
     "locked": true,
     "schema_version": 1,
     "solution": false
    },
    "outputId": "d745d4af-91fe-47a4-840b-1f76b6dcfd25"
   },
   "outputs": [],
   "source": [
    "# Seed for reproducibility\n",
    "np.random.seed(42)\n",
    "\n",
    "warnings.simplefilter(\"ignore\")\n",
    "\n",
    "# Load data\n",
    "heart_df = pd.read_csv(\"data/heart.csv\").rename({\"condition\":\"target\"}, axis=1)\n",
    "heart_df.sample(5)"
   ]
  },
  {
   "cell_type": "markdown",
   "metadata": {
    "colab_type": "text",
    "deletable": false,
    "editable": false,
    "id": "qRj_iSssTcLg",
    "nbgrader": {
     "grade": false,
     "grade_id": "cell-f1b446af2ec6ae5f",
     "locked": true,
     "schema_version": 1,
     "solution": false
    }
   },
   "source": [
    "You then train-test split your dataset "
   ]
  },
  {
   "cell_type": "code",
   "execution_count": null,
   "metadata": {
    "colab": {},
    "colab_type": "code",
    "deletable": false,
    "editable": false,
    "id": "Anbcj4COS7nK",
    "nbgrader": {
     "grade": false,
     "grade_id": "cell-fabf478785185daf",
     "locked": true,
     "schema_version": 1,
     "solution": false
    }
   },
   "outputs": [],
   "source": [
    "X_train, X_test, y_train, y_test = train_test_split(\n",
    "                                        heart_df.drop(\"target\", axis=1),\n",
    "                                        heart_df.target, \n",
    "                                        test_size=0.3,\n",
    "                                        random_state=42\n",
    "                                        )"
   ]
  },
  {
   "cell_type": "markdown",
   "metadata": {
    "colab_type": "text",
    "deletable": false,
    "editable": false,
    "id": "QTatcWRNOq8Q",
    "nbgrader": {
     "grade": false,
     "grade_id": "cell-326b4d912edd7888",
     "locked": true,
     "schema_version": 1,
     "solution": false
    }
   },
   "source": [
    "You notice that the target variable is binary, as the patient either has a heart disease or not, and thus you recognize you are dealing with a  classification problem. Remembering the amazing class you had about Logistic Regression, you decide to use this classifier as a first approach. This  means that it is a good idea to scale your observations to have zero mean and unit standard deviation"
   ]
  },
  {
   "cell_type": "code",
   "execution_count": null,
   "metadata": {
    "colab": {
     "base_uri": "https://localhost:8080/",
     "height": 85
    },
    "colab_type": "code",
    "deletable": false,
    "editable": false,
    "id": "ZTWm0Jq1U5Wg",
    "nbgrader": {
     "grade": false,
     "grade_id": "cell-c2413002e48ee6f8",
     "locked": true,
     "schema_version": 1,
     "solution": false
    },
    "outputId": "ee0e6fb4-66fe-4cb1-9e99-0d5fab0d2a13"
   },
   "outputs": [],
   "source": [
    "# Logistic Regression is not scale invariant, so you scale your data beforehand\n",
    "scaler = StandardScaler()\n",
    "X_train = scaler.fit_transform(X_train)\n",
    "X_test = scaler.transform(X_test)\n",
    "\n",
    "print(\"X_train of shape \", X_train.shape)\n",
    "print(\"y_train of shape \", y_train.shape)\n",
    "print(\"X_test of shape  \", X_test.shape)\n",
    "print(\"y_test of shape  \", y_test.shape)"
   ]
  },
  {
   "cell_type": "markdown",
   "metadata": {
    "deletable": false,
    "editable": false,
    "nbgrader": {
     "grade": false,
     "grade_id": "cell-8ab26b376b2d6c05",
     "locked": true,
     "schema_version": 3,
     "solution": false,
     "task": false
    }
   },
   "source": [
    "## Exercise 0 - Baseline"
   ]
  },
  {
   "cell_type": "markdown",
   "metadata": {
    "deletable": false,
    "editable": false,
    "nbgrader": {
     "grade": false,
     "grade_id": "cell-7a64d3f597699253",
     "locked": true,
     "schema_version": 3,
     "solution": false,
     "task": false
    }
   },
   "source": [
    "Start by creating a baseline. How good is a standard Logistic Regression classifier? "
   ]
  },
  {
   "cell_type": "code",
   "execution_count": null,
   "metadata": {
    "deletable": false,
    "nbgrader": {
     "grade": false,
     "grade_id": "cell-da04d7a13e42a59d",
     "locked": false,
     "schema_version": 3,
     "solution": true,
     "task": false
    }
   },
   "outputs": [],
   "source": [
    "# Create a Logistic Regression classifier with the default hyperparameters,\n",
    "# assign it to a variable called lr, and then fit it to the train data \n",
    "# lr=...\n",
    "\n",
    "\n",
    "# YOUR CODE HERE\n",
    "raise NotImplementedError()"
   ]
  },
  {
   "cell_type": "code",
   "execution_count": null,
   "metadata": {
    "deletable": false,
    "editable": false,
    "nbgrader": {
     "grade": true,
     "grade_id": "cell-8ed72098d1377f2c",
     "locked": true,
     "points": 1,
     "schema_version": 3,
     "solution": false,
     "task": false
    }
   },
   "outputs": [],
   "source": [
    "assert isinstance(lr, sklearn.linear_model.LogisticRegression)\n",
    "default_f1_score=f1_score(lr.predict(X_test), y_test)\n",
    "np.testing.assert_almost_equal(default_f1_score, 0.781, 3)"
   ]
  },
  {
   "cell_type": "code",
   "execution_count": null,
   "metadata": {
    "deletable": false,
    "editable": false,
    "nbgrader": {
     "grade": false,
     "grade_id": "cell-5ab9824e4c226652",
     "locked": true,
     "schema_version": 3,
     "solution": false,
     "task": false
    }
   },
   "outputs": [],
   "source": [
    "print(\"The f1 score of the baseline Logistic regression classifier is \", default_f1_score)"
   ]
  },
  {
   "cell_type": "markdown",
   "metadata": {
    "deletable": false,
    "editable": false,
    "nbgrader": {
     "grade": false,
     "grade_id": "cell-f92fc0db52773124",
     "locked": true,
     "schema_version": 3,
     "solution": false,
     "task": false
    }
   },
   "source": [
    "The baseline score is ok, but you wonder if you could get better performance with this classifier. So, you decide to do some hyperparameter tuning."
   ]
  },
  {
   "cell_type": "markdown",
   "metadata": {
    "colab_type": "text",
    "deletable": false,
    "editable": false,
    "id": "7eQkWwv-Elxa",
    "nbgrader": {
     "grade": false,
     "grade_id": "cell-6ca133b5766a78ff",
     "locked": true,
     "schema_version": 1,
     "solution": false
    }
   },
   "source": [
    "## Exercise 1- Grid Search\n",
    "\n",
    "Since you are not entirely sure what hyperparameters to choose, you decide to run a grid search to start with.\n",
    "\n",
    "1.1) Create a hyperparameter search space  with the following specifications:\n",
    "- Regularization parameter 'C' of 0.1, 1 and 10\n",
    "- penalty: \"l1\" and \"l2\"\n"
   ]
  },
  {
   "cell_type": "code",
   "execution_count": null,
   "metadata": {
    "colab": {},
    "colab_type": "code",
    "deletable": false,
    "id": "vTRk97yhpsQC",
    "nbgrader": {
     "grade": false,
     "grade_id": "cell-7bae1466cae03dfa",
     "locked": false,
     "schema_version": 1,
     "solution": true
    }
   },
   "outputs": [],
   "source": [
    "# Create a hyperparameter search space  with the following specifications:\n",
    "# - 'C' of 0.1, 1, and 10\n",
    "# - penalty: \"l1\" and \"l2\"\n",
    "# assign your grid to the variable grid\n",
    "# grid = ...\n",
    "\n",
    "# YOUR CODE HERE\n",
    "raise NotImplementedError()\n"
   ]
  },
  {
   "cell_type": "code",
   "execution_count": null,
   "metadata": {
    "colab": {},
    "colab_type": "code",
    "deletable": false,
    "editable": false,
    "id": "78i0emuGM22J",
    "nbgrader": {
     "grade": true,
     "grade_id": "cell-74b192f294d472a6",
     "locked": true,
     "points": 2,
     "schema_version": 1,
     "solution": false
    }
   },
   "outputs": [],
   "source": [
    "assert isinstance(grid, dict), 'Make sure you are using a dictionary for your grid parameters'\n",
    "assert \"C\" in grid, 'Make sure you have the requested parameters as keys'\n",
    "assert \"penalty\" in grid, 'Make sure you have the requested parameters as keys'\n",
    "assert all(num in grid[\"C\"] for num in [0.1, 1, 10 ]), 'The values for C parameter are not correct'\n",
    "assert \"l2\" in grid[\"penalty\"], 'The values for penalty parameter are not correct'\n",
    "assert \"l1\" in grid[\"penalty\"], 'The values for penalty parameter are not correct'"
   ]
  },
  {
   "cell_type": "markdown",
   "metadata": {
    "colab_type": "text",
    "deletable": false,
    "editable": false,
    "id": "bT7t3PeoHxd8",
    "nbgrader": {
     "grade": false,
     "grade_id": "cell-697bd760cb114938",
     "locked": true,
     "schema_version": 1,
     "solution": false
    }
   },
   "source": [
    "1.2) Create a gridsearch with a Logistic Regression using the hyperparameter space defined in 1.1. Set the scoring function as the f1\n"
   ]
  },
  {
   "cell_type": "code",
   "execution_count": null,
   "metadata": {
    "colab": {
     "base_uri": "https://localhost:8080/",
     "height": 34
    },
    "colab_type": "code",
    "deletable": false,
    "id": "AC891dnTH3Ky",
    "nbgrader": {
     "grade": false,
     "grade_id": "cell-839764842b89da11",
     "locked": false,
     "schema_version": 1,
     "solution": true
    },
    "outputId": "54acbcc7-4fcb-47fb-d83f-3cfe3093ab9b"
   },
   "outputs": [],
   "source": [
    "# Create a gridsearch with a Logistic Regression \n",
    "# use the hyperparameter space defined in 1.1\n",
    "# Set the scoring function as the f1 \n",
    "# assign the gridsearch to the variable grid_search\n",
    "# grid_search = ...\n",
    "\n",
    "# YOUR CODE HERE\n",
    "raise NotImplementedError()\n"
   ]
  },
  {
   "cell_type": "code",
   "execution_count": null,
   "metadata": {
    "colab": {},
    "colab_type": "code",
    "deletable": false,
    "editable": false,
    "id": "sN_VU6RpM1gQ",
    "nbgrader": {
     "grade": true,
     "grade_id": "cell-454d9120b621dcc9",
     "locked": true,
     "points": 3,
     "schema_version": 1,
     "solution": false
    }
   },
   "outputs": [],
   "source": [
    "scoring_hash='4e319c63b3dafcef9b25b5549030f4301e5a745fd0fc561be773daeaa1b36f68'\n",
    "\n",
    "assert isinstance(grid_search, sklearn.model_selection.GridSearchCV), 'Are you using GridSearchCV?'\n",
    "assert isinstance(grid_search.estimator, sklearn.linear_model.LogisticRegression), 'Are you using the right model'\n",
    "assert scoring_hash == sha256(\n",
    "                        json.dumps(grid_search.get_params()[\"scoring\"]).encode()\n",
    "                    ).hexdigest(), 'Your parameters are not correct'"
   ]
  },
  {
   "cell_type": "markdown",
   "metadata": {
    "colab_type": "text",
    "deletable": false,
    "editable": false,
    "id": "BbOZacl7KYu1",
    "nbgrader": {
     "grade": false,
     "grade_id": "cell-a82ab7b985f9b84a",
     "locked": true,
     "schema_version": 1,
     "solution": false
    }
   },
   "source": [
    "1.3). Find the best estimator using grid_serach"
   ]
  },
  {
   "cell_type": "code",
   "execution_count": null,
   "metadata": {
    "colab": {
     "base_uri": "https://localhost:8080/",
     "height": 34
    },
    "colab_type": "code",
    "deletable": false,
    "id": "o-eaeEA-KMTn",
    "nbgrader": {
     "grade": false,
     "grade_id": "cell-d2c2b32305db901c",
     "locked": false,
     "schema_version": 1,
     "solution": true
    },
    "outputId": "16e0962b-d5af-4e78-ba76-3b904f2c7b1b"
   },
   "outputs": [],
   "source": [
    "# Find the best estimator using grid_search from 1.2\n",
    "# Begin by performing the grid search over the train data\n",
    "# Then, extract the best estimator and assign it to best_model\n",
    "# best_model = ...\n",
    " \n",
    "# YOUR CODE HERE\n",
    "raise NotImplementedError()"
   ]
  },
  {
   "cell_type": "code",
   "execution_count": null,
   "metadata": {
    "colab": {},
    "colab_type": "code",
    "deletable": false,
    "editable": false,
    "id": "isLHHEHkcO6i",
    "nbgrader": {
     "grade": true,
     "grade_id": "cell-c833a0e642626b02",
     "locked": true,
     "points": 3,
     "schema_version": 1,
     "solution": false
    }
   },
   "outputs": [],
   "source": [
    "best_params_hash = 'be93249222ae4fb94bbe669b3c81885256fea04671b60dc0a0ecd4bb9fc42b86'\n",
    "student_hash = sha256(json.dumps(best_model.get_params()).encode()).hexdigest()\n",
    "\n",
    "assert isinstance(best_model, sklearn.linear_model.LogisticRegression), 'Make sure you are using the right model'\n",
    "assert best_params_hash == student_hash, 'Your parameters are not correct'"
   ]
  },
  {
   "cell_type": "markdown",
   "metadata": {
    "colab_type": "text",
    "deletable": false,
    "editable": false,
    "id": "lENX5ZzaLPNj",
    "nbgrader": {
     "grade": false,
     "grade_id": "cell-703cff13cba6dc1c",
     "locked": true,
     "schema_version": 1,
     "solution": false
    }
   },
   "source": [
    "1.4) Make predictions on the test set using the estimator with the best found parameters"
   ]
  },
  {
   "cell_type": "code",
   "execution_count": null,
   "metadata": {
    "colab": {
     "base_uri": "https://localhost:8080/",
     "height": 34
    },
    "colab_type": "code",
    "deletable": false,
    "id": "MooQ2CUzLg9v",
    "nbgrader": {
     "grade": false,
     "grade_id": "cell-d19340bba970bf48",
     "locked": false,
     "schema_version": 1,
     "solution": true
    },
    "outputId": "0955c396-ade7-4afe-9e30-19091091ac90"
   },
   "outputs": [],
   "source": [
    "# Make predictions on the test data \n",
    "# using the estimator with the best found parameters\n",
    "# Assign the predictions to the best_preds\n",
    "# best_preds = ...\n",
    "\n",
    "# YOUR CODE HERE\n",
    "raise NotImplementedError()"
   ]
  },
  {
   "cell_type": "code",
   "execution_count": null,
   "metadata": {
    "colab": {},
    "colab_type": "code",
    "deletable": false,
    "editable": false,
    "id": "DYNG4BDEdzPn",
    "nbgrader": {
     "grade": true,
     "grade_id": "cell-cca4c94daa1f1bd1",
     "locked": true,
     "points": 2,
     "schema_version": 1,
     "solution": false
    }
   },
   "outputs": [],
   "source": [
    "preds_hash = '6f7d373ff044125e90b9e2577bc4c8cbfcaea8f62f8270fa32d74b517148afa1'\n",
    "assert preds_hash == sha256(best_preds).hexdigest(), 'Your parameters are not correct'"
   ]
  },
  {
   "cell_type": "code",
   "execution_count": null,
   "metadata": {},
   "outputs": [],
   "source": [
    "print(\"The f1 score of the best grid search Logistic regression classifier is \", f1_score(best_preds, y_test))"
   ]
  },
  {
   "cell_type": "markdown",
   "metadata": {},
   "source": [
    "Nice, the performance improved! Let's see if we can do even better with Random search"
   ]
  },
  {
   "cell_type": "markdown",
   "metadata": {
    "colab_type": "text",
    "deletable": false,
    "editable": false,
    "id": "6GvdvJLR55Ok",
    "nbgrader": {
     "grade": false,
     "grade_id": "cell-be72385637b53b03",
     "locked": true,
     "schema_version": 1,
     "solution": false
    }
   },
   "source": [
    "## Exercise 2 - Random Search \n",
    "\n",
    "\n",
    "2.1) Create a random search distribution with the following hyperparameter distribution,\n",
    "\n",
    "- Regularization parameter 'C' uniformly distributed between 0.1 and 10\n",
    "- penalty  \"l2\" or \"l1\"\n"
   ]
  },
  {
   "cell_type": "code",
   "execution_count": null,
   "metadata": {
    "colab": {},
    "colab_type": "code",
    "deletable": false,
    "id": "W9V-aI_95_mb",
    "nbgrader": {
     "grade": false,
     "grade_id": "cell-9e55b42741f78f71",
     "locked": false,
     "schema_version": 1,
     "solution": true
    }
   },
   "outputs": [],
   "source": [
    "# Create a random search distribution with the\n",
    "# following hyperparameter distribution\n",
    "#- 'C' uniformly distributed between 0.1 and 10 (hint: use a scipy distribution)\n",
    "#- penalty  \"l2\" or \"l1\"\n",
    "# assign it to random_grid\n",
    "# random_grid = ...\n",
    "\n",
    "# YOUR CODE HERE\n",
    "raise NotImplementedError()"
   ]
  },
  {
   "cell_type": "code",
   "execution_count": null,
   "metadata": {
    "colab": {},
    "colab_type": "code",
    "deletable": false,
    "editable": false,
    "id": "30crPizWOSy1",
    "nbgrader": {
     "grade": true,
     "grade_id": "cell-a95e4715d3d0e17e",
     "locked": true,
     "points": 2,
     "schema_version": 1,
     "solution": false
    }
   },
   "outputs": [],
   "source": [
    "assert \"C\" in random_grid, 'Make sure you have the requested parameters as keys'\n",
    "assert \"penalty\" in random_grid, 'Make sure you have the requested parameters as keys'\n",
    "assert isinstance(random_grid[\"C\"], scipy.stats._distn_infrastructure.rv_frozen), 'The values for C parameter are not correct'\n",
    "assert \"l2\" in random_grid[\"penalty\"], 'The values for penalty parameter are not correct'\n",
    "assert \"l1\" in random_grid[\"penalty\"], 'The values for penalty parameter are not correct'"
   ]
  },
  {
   "cell_type": "markdown",
   "metadata": {
    "colab_type": "text",
    "deletable": false,
    "editable": false,
    "id": "OkdtEC20NQT1",
    "nbgrader": {
     "grade": false,
     "grade_id": "cell-1d92fd58e8e4e83e",
     "locked": true,
     "schema_version": 1,
     "solution": false
    }
   },
   "source": [
    "2.2) Create a random search over a  Logistic Regression estimator.\n",
    "* Set the random_state to 42\n",
    "* Set the number of iterations to 10\n",
    "* Set the scoring to  f1"
   ]
  },
  {
   "cell_type": "code",
   "execution_count": null,
   "metadata": {
    "colab": {
     "base_uri": "https://localhost:8080/",
     "height": 34
    },
    "colab_type": "code",
    "deletable": false,
    "id": "JNBN-RT9OWXO",
    "nbgrader": {
     "grade": false,
     "grade_id": "cell-6da83075a9663ae5",
     "locked": false,
     "schema_version": 1,
     "solution": true
    },
    "outputId": "c5a47d2b-9ef8-4d4d-86ca-0d34fd48859b"
   },
   "outputs": [],
   "source": [
    "# Create a random search \n",
    "# - Use a Logistic Regression estimator\n",
    "# - Set the random_state to 42\n",
    "# - Set the number of iterations to 10\n",
    "# - Set the scoring to  f1\n",
    "# - Use the random grid you created in 2.1\n",
    "# assign it to random_search\n",
    "# random_search = ...\n",
    "\n",
    "# YOUR CODE HERE\n",
    "raise NotImplementedError()"
   ]
  },
  {
   "cell_type": "code",
   "execution_count": null,
   "metadata": {
    "colab": {},
    "colab_type": "code",
    "deletable": false,
    "editable": false,
    "id": "8ZJai0McPmtf",
    "nbgrader": {
     "grade": true,
     "grade_id": "cell-94cd192ba475e33d",
     "locked": true,
     "points": 3,
     "schema_version": 1,
     "solution": false
    }
   },
   "outputs": [],
   "source": [
    "scoring_hash='4e319c63b3dafcef9b25b5549030f4301e5a745fd0fc561be773daeaa1b36f68'\n",
    "\n",
    "assert isinstance(random_search, sklearn.model_selection.RandomizedSearchCV), 'Are you using RandomizedSearchCV?'\n",
    "assert isinstance(random_search.estimator, sklearn.linear_model.LogisticRegression), 'Make sure you are using the right model'\n",
    "assert random_search.random_state==42, 'Check your random_state value'\n",
    "assert random_search.n_iter==10, 'Check n_iter value'\n",
    "assert scoring_hash == sha256(\n",
    "                            json.dumps(random_search.get_params()[\"scoring\"]).encode()\n",
    "                        ).hexdigest(), 'Your parameters are not correct'"
   ]
  },
  {
   "cell_type": "markdown",
   "metadata": {
    "colab_type": "text",
    "deletable": false,
    "editable": false,
    "id": "bHdIbHyfhacT",
    "nbgrader": {
     "grade": false,
     "grade_id": "cell-ac1d536e4152b7f4",
     "locked": true,
     "schema_version": 1,
     "solution": false
    }
   },
   "source": [
    "2.3) Get the best model from the random_search"
   ]
  },
  {
   "cell_type": "code",
   "execution_count": null,
   "metadata": {
    "colab": {
     "base_uri": "https://localhost:8080/",
     "height": 34
    },
    "colab_type": "code",
    "deletable": false,
    "id": "R0Ahh3v8e8yQ",
    "nbgrader": {
     "grade": false,
     "grade_id": "cell-af31b5d6621ed971",
     "locked": false,
     "schema_version": 1,
     "solution": true
    },
    "outputId": "62043c63-31a9-43f5-b0ca-df5482967160"
   },
   "outputs": [],
   "source": [
    "# Get the best model from the random search\n",
    "# Begin by performing the random search over the train data\n",
    "# Then extract the best estimator and assign it to rs_best_model\n",
    "# rs_best_model = ...\n",
    "\n",
    "# YOUR CODE HERE\n",
    "raise NotImplementedError()"
   ]
  },
  {
   "cell_type": "code",
   "execution_count": null,
   "metadata": {
    "colab": {},
    "colab_type": "code",
    "deletable": false,
    "editable": false,
    "id": "YR4BChm9h_d3",
    "nbgrader": {
     "grade": true,
     "grade_id": "cell-32edafc7acb11ff3",
     "locked": true,
     "points": 3,
     "schema_version": 1,
     "solution": false
    }
   },
   "outputs": [],
   "source": [
    "rs_best_model_hash ='46137cd04d6b638585075b0e41782f0af3915fbb0e36d097884ad2dda4b5f1cd'\n",
    "assert isinstance(rs_best_model, sklearn.linear_model.LogisticRegression) , 'Make sure you are using the right model'\n",
    "assert rs_best_model_hash==sha256(json.dumps(rs_best_model.get_params()).encode()).hexdigest(), 'Your parameters are not correct'"
   ]
  },
  {
   "cell_type": "markdown",
   "metadata": {
    "colab_type": "text",
    "deletable": false,
    "editable": false,
    "id": "HvQkbsTnPxoT",
    "nbgrader": {
     "grade": false,
     "grade_id": "cell-7969cb3584199467",
     "locked": true,
     "schema_version": 1,
     "solution": false
    }
   },
   "source": [
    " 2.4) Get the best parameters of the random search"
   ]
  },
  {
   "cell_type": "code",
   "execution_count": null,
   "metadata": {
    "colab": {
     "base_uri": "https://localhost:8080/",
     "height": 34
    },
    "colab_type": "code",
    "deletable": false,
    "id": "HK-802hOP_GG",
    "nbgrader": {
     "grade": false,
     "grade_id": "cell-5a0ff5d8aa97468d",
     "locked": false,
     "schema_version": 1,
     "solution": true
    },
    "outputId": "d2ca3be2-3f19-4b7c-c973-d0bb4a31b9c5"
   },
   "outputs": [],
   "source": [
    "# Get the best parameters (for which the f1 score was higher)\n",
    "# of the random search and assign them to best_rs_params\n",
    "# best_rs_params = ...\n",
    "\n",
    "# YOUR CODE HERE\n",
    "raise NotImplementedError()"
   ]
  },
  {
   "cell_type": "code",
   "execution_count": null,
   "metadata": {
    "colab": {},
    "colab_type": "code",
    "deletable": false,
    "editable": false,
    "id": "vyUcN9ICgYkc",
    "nbgrader": {
     "grade": true,
     "grade_id": "cell-3ef6f227bb55f1ac",
     "locked": true,
     "points": 1,
     "schema_version": 1,
     "solution": false
    }
   },
   "outputs": [],
   "source": [
    "best_rs_params_hash = '786002396fe6033b22256c5e0bba1ddb619771c4db81808f74e3cd51f2efd143'\n",
    "assert best_rs_params_hash == sha256(json.dumps(best_rs_params).encode()).hexdigest(), 'Your parameters are not correct' "
   ]
  },
  {
   "cell_type": "code",
   "execution_count": null,
   "metadata": {
    "deletable": false,
    "editable": false,
    "nbgrader": {
     "grade": false,
     "grade_id": "cell-a0e7467276d7d1fc",
     "locked": true,
     "schema_version": 3,
     "solution": false,
     "task": false
    }
   },
   "outputs": [],
   "source": [
    "print(\"The f1 score of the best random search Logistic regression classifier is \",f1_score(random_search.predict(X_test), y_test))"
   ]
  },
  {
   "cell_type": "markdown",
   "metadata": {
    "deletable": false,
    "editable": false,
    "nbgrader": {
     "grade": false,
     "grade_id": "cell-05bd857a5a2383e2",
     "locked": true,
     "schema_version": 3,
     "solution": false,
     "task": false
    }
   },
   "source": [
    "Looks like we have a winner: the model resulting from the grid search performed best!"
   ]
  }
 ],
 "metadata": {
  "colab": {
   "collapsed_sections": [],
   "name": "Exercise notebook - SLU18 (Hyperparameter tuning)",
   "provenance": [],
   "toc_visible": true,
   "version": "0.3.2"
  },
  "kernelspec": {
   "display_name": "Python 3",
   "language": "python",
   "name": "python3"
  },
  "language_info": {
   "codemirror_mode": {
    "name": "ipython",
    "version": 3
   },
   "file_extension": ".py",
   "mimetype": "text/x-python",
   "name": "python",
   "nbconvert_exporter": "python",
   "pygments_lexer": "ipython3",
   "version": "3.8.10"
  }
 },
 "nbformat": 4,
 "nbformat_minor": 1
}
