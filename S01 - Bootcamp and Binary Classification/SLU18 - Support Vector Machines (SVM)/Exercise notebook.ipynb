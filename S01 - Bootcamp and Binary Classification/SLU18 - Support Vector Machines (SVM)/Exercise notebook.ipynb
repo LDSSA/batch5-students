{
 "cells": [
  {
   "cell_type": "markdown",
   "metadata": {
    "colab_type": "text",
    "deletable": false,
    "editable": false,
    "id": "rgxop-ItOnj4",
    "nbgrader": {
     "grade": false,
     "grade_id": "cell-254bd7a206376bba",
     "locked": true,
     "schema_version": 3,
     "solution": false
    }
   },
   "source": [
    "# SLU18 - Support Vector Machines (SVM) -- Exercises\n",
    "\n",
    "In this notebook we will be covering the following:\n",
    "\n",
    "\n",
    "*  Hyperplanes\n",
    "*  Maximal Margin Classifier\n",
    "* Support Vector Classifier\n",
    "* Support Vector Machine\n",
    "* Multi-Class extension\n",
    "* Support Vector Regression\n",
    "\n",
    "New tools in this unit\n",
    "\n",
    "* [SVC](https://scikit-learn.org/stable/modules/generated/sklearn.svm.SVC.html)\n",
    "* [SVR](https://scikit-learn.org/stable/modules/generated/sklearn.svm.SVR.html)"
   ]
  },
  {
   "cell_type": "code",
   "execution_count": null,
   "metadata": {
    "colab": {},
    "colab_type": "code",
    "deletable": false,
    "editable": false,
    "id": "fqe0JO39wGW2",
    "nbgrader": {
     "grade": false,
     "grade_id": "cell-57ac5b1f8841f297",
     "locked": true,
     "schema_version": 3,
     "solution": false
    }
   },
   "outputs": [],
   "source": [
    "import pandas as pd\n",
    "import numpy as np\n",
    "from hashlib import sha256\n",
    "import json\n",
    "\n",
    "import sklearn\n",
    "# These will be needed to prepare the dataset\n",
    "from sklearn.model_selection import train_test_split\n",
    "from sklearn.preprocessing import StandardScaler\n",
    "\n",
    "# Seed for reproducibility\n",
    "np.random.seed(42)"
   ]
  },
  {
   "cell_type": "markdown",
   "metadata": {
    "colab_type": "text",
    "deletable": false,
    "editable": false,
    "id": "C_gLpKpCOJNy",
    "nbgrader": {
     "grade": false,
     "grade_id": "cell-3cdfa45b797d48d4",
     "locked": true,
     "schema_version": 3,
     "solution": false
    }
   },
   "source": [
    "**Let the Music Play**\n",
    "\n",
    "The year is 2020 and due to the Covid-19 pandemic you spend a lot more time inside than you used to. You realize that one of the few things that people can still do (almost) the same way as before is listen to music. Thus, you decide to use your data skills to surprise one of your friends. To do so, you use data about your friend's listening habits and try to make a classifier that predicts whether your friend will like a song based on some attributes. "
   ]
  },
  {
   "cell_type": "code",
   "execution_count": null,
   "metadata": {
    "colab": {
     "base_uri": "https://localhost:8080/",
     "height": 306
    },
    "colab_type": "code",
    "deletable": false,
    "editable": false,
    "id": "kVbOYdE0la1K",
    "nbgrader": {
     "grade": false,
     "grade_id": "cell-87ba0a3136253b02",
     "locked": true,
     "schema_version": 3,
     "solution": false
    },
    "outputId": "29caa707-c737-4f16-eae7-1b9b17a8ff33"
   },
   "outputs": [],
   "source": [
    "songs_df = pd.read_csv(\"data/song_data.csv\", index_col=\"id\")\n",
    "print(songs_df.shape)\n",
    "songs_df.head()"
   ]
  },
  {
   "cell_type": "markdown",
   "metadata": {
    "colab_type": "text",
    "deletable": false,
    "editable": false,
    "id": "yaEYIRyowGXC",
    "nbgrader": {
     "grade": false,
     "grade_id": "cell-617054ceb45eb34a",
     "locked": true,
     "schema_version": 3,
     "solution": false
    }
   },
   "source": [
    "The data contains information about which songs your friend liked or not in the *target* column. It also contains several attributes about each song that you suspect will be useful to infer your friend's musical taste. In this case, you decide to drop the song title and artist as you are more interested in the musical attributes. "
   ]
  },
  {
   "cell_type": "code",
   "execution_count": null,
   "metadata": {
    "colab": {},
    "colab_type": "code",
    "deletable": false,
    "editable": false,
    "id": "ulNZK6YBOOC5",
    "nbgrader": {
     "grade": false,
     "grade_id": "cell-d0dbd914f45ecd5c",
     "locked": true,
     "schema_version": 3,
     "solution": false
    }
   },
   "outputs": [],
   "source": [
    "songs_df = songs_df.drop(columns=[\"song_title\", \"artist\"])"
   ]
  },
  {
   "cell_type": "code",
   "execution_count": null,
   "metadata": {
    "deletable": false,
    "editable": false,
    "nbgrader": {
     "grade": false,
     "grade_id": "cell-23833cecb94b54dd",
     "locked": true,
     "schema_version": 3,
     "solution": false,
     "task": false
    }
   },
   "outputs": [],
   "source": [
    "songs_df.head()"
   ]
  },
  {
   "cell_type": "code",
   "execution_count": null,
   "metadata": {
    "colab": {
     "base_uri": "https://localhost:8080/",
     "height": 68
    },
    "colab_type": "code",
    "deletable": false,
    "editable": false,
    "id": "V0d5O097OXVh",
    "nbgrader": {
     "grade": false,
     "grade_id": "cell-b3232f22b831bc24",
     "locked": true,
     "schema_version": 3,
     "solution": false
    },
    "outputId": "38ea7a86-4f01-4a13-847f-eb0f7f84e269"
   },
   "outputs": [],
   "source": [
    "songs_df.target.value_counts(normalize=True)"
   ]
  },
  {
   "cell_type": "markdown",
   "metadata": {
    "colab_type": "text",
    "deletable": false,
    "editable": false,
    "id": "ezi2npWAO7AQ",
    "nbgrader": {
     "grade": false,
     "grade_id": "cell-e8df8f9f8ae9ed8e",
     "locked": true,
     "schema_version": 3,
     "solution": false
    }
   },
   "source": [
    "Since the target variable is binary, you are faced with a binary classification problem. You remember that really cool class you had about Support Vector Machines, and so decide to give them a shot. \n",
    "\n",
    "In order to properly train and evaluate your models, you split your dataset into train set and test set."
   ]
  },
  {
   "cell_type": "code",
   "execution_count": null,
   "metadata": {
    "colab": {
     "base_uri": "https://localhost:8080/",
     "height": 85
    },
    "colab_type": "code",
    "deletable": false,
    "editable": false,
    "id": "1CGdOhv54GzY",
    "nbgrader": {
     "grade": false,
     "grade_id": "cell-7085934969b8c3d5",
     "locked": true,
     "schema_version": 3,
     "solution": false
    },
    "outputId": "77e4a3a7-cb07-4bfd-cf03-8edd23a1fa43"
   },
   "outputs": [],
   "source": [
    "def get_X_y_train_test(df, target_col):\n",
    "    \"\"\"\n",
    "    Convert the input dataframe df into the\n",
    "    train and test features and targets\n",
    "    \"\"\"\n",
    "    X = df.drop(target_col, axis=1)\n",
    "    y = df[target_col]\n",
    "    # train test split\n",
    "    X_train, X_test, y_train, y_test = train_test_split(X, y, test_size=0.2, random_state=42)\n",
    "\n",
    "    # SVMs are not scale invariant, so you scale your data beforehand\n",
    "    scaler = StandardScaler()\n",
    "    X_train = scaler.fit_transform(X_train)\n",
    "    X_test = scaler.transform(X_test)\n",
    "\n",
    "    print(\"X_train of shape \", X_train.shape)\n",
    "    print(\"y_train of shape \", y_train.shape)\n",
    "    print(\"X_test of shape  \", X_test.shape)\n",
    "    print(\"y_test of shape  \", y_test.shape)\n",
    "    \n",
    "    return X_train, X_test, y_train, y_test "
   ]
  },
  {
   "cell_type": "code",
   "execution_count": null,
   "metadata": {
    "deletable": false,
    "editable": false,
    "nbgrader": {
     "grade": false,
     "grade_id": "cell-b8c950c92122ae2b",
     "locked": true,
     "schema_version": 3,
     "solution": false,
     "task": false
    }
   },
   "outputs": [],
   "source": [
    "X_train, X_test, y_train, y_test = get_X_y_train_test(songs_df, target_col=\"target\")"
   ]
  },
  {
   "cell_type": "markdown",
   "metadata": {
    "colab_type": "text",
    "deletable": false,
    "editable": false,
    "id": "QsMIFwDxKG5i",
    "nbgrader": {
     "grade": false,
     "grade_id": "cell-0cc9714058c33112",
     "locked": true,
     "schema_version": 3,
     "solution": false
    }
   },
   "source": [
    "## Exercise 1: Support Vector Classifier\n",
    "\n",
    "\n",
    "1.1) Use a support vector classifier to predict which songs your friend will like"
   ]
  },
  {
   "cell_type": "code",
   "execution_count": null,
   "metadata": {
    "colab": {
     "base_uri": "https://localhost:8080/",
     "height": 51
    },
    "colab_type": "code",
    "deletable": false,
    "id": "qUZJGsBURQhi",
    "nbgrader": {
     "grade": false,
     "grade_id": "cell-8920bb9ecefbc8b4",
     "locked": false,
     "schema_version": 3,
     "solution": true
    },
    "outputId": "528b3417-3213-462c-de16-1d870d9ddb4e"
   },
   "outputs": [],
   "source": [
    "# Create an SVC estimator using sklearn with a linear kernel \n",
    "# train it on the data \n",
    "# assign your trained estimator to linear_svc\n",
    "# linear_svc = ...\n",
    "\n",
    "# YOUR CODE HERE\n",
    "raise NotImplementedError()"
   ]
  },
  {
   "cell_type": "code",
   "execution_count": null,
   "metadata": {
    "colab": {},
    "colab_type": "code",
    "deletable": false,
    "editable": false,
    "id": "jRt00Vo26BkT",
    "nbgrader": {
     "grade": true,
     "grade_id": "cell-0ebe02e7c2c3ed67",
     "locked": true,
     "points": 3,
     "schema_version": 3,
     "solution": false
    }
   },
   "outputs": [],
   "source": [
    "svc_argument_hash = '7f2fe580edb35154041fa3d4b41dd6d3adaef0c85d2ff6309f1d4b520eeecda3'\n",
    "\n",
    "assert isinstance(linear_svc, sklearn.svm.SVC) #check if SVC is of the right type\n",
    "assert svc_argument_hash == sha256(linear_svc.kernel.encode()).hexdigest()  #check if kernel is of the right type\n",
    "np.testing.assert_almost_equal(linear_svc.score(X_test, y_test), 0.6534653465346535) # check if score is close to what is expected"
   ]
  },
  {
   "cell_type": "markdown",
   "metadata": {
    "colab_type": "text",
    "deletable": false,
    "editable": false,
    "id": "ug9wiVNbINMT",
    "nbgrader": {
     "grade": false,
     "grade_id": "cell-d8c4a03ff9f9cd4e",
     "locked": true,
     "schema_version": 3,
     "solution": false
    }
   },
   "source": [
    "1.2) Obtain the number of support vectors for each class"
   ]
  },
  {
   "cell_type": "code",
   "execution_count": null,
   "metadata": {
    "colab": {
     "base_uri": "https://localhost:8080/",
     "height": 34
    },
    "colab_type": "code",
    "deletable": false,
    "id": "i88Ec-I-IL9G",
    "nbgrader": {
     "grade": false,
     "grade_id": "cell-efb40a29deffe5e8",
     "locked": false,
     "schema_version": 3,
     "solution": true
    },
    "outputId": "a2ad1241-4e8a-4050-9c1b-ab5e0d4d945e"
   },
   "outputs": [],
   "source": [
    "# Obtain the number of support vectors for each class of the target variable\n",
    "# assign the result to n_s_vectors, which should be an array whose first element\n",
    "# is the number of support vectors of class 1 and the second element the number\n",
    "# of support vectors of class 2\n",
    "# n_s_vectors = ...\n",
    "\n",
    "# YOUR CODE HERE\n",
    "raise NotImplementedError()"
   ]
  },
  {
   "cell_type": "code",
   "execution_count": null,
   "metadata": {
    "colab": {},
    "colab_type": "code",
    "deletable": false,
    "editable": false,
    "id": "Jar15WRuIfxz",
    "nbgrader": {
     "grade": true,
     "grade_id": "cell-4ce8206f82589201",
     "locked": true,
     "points": 2,
     "schema_version": 3,
     "solution": false
    }
   },
   "outputs": [],
   "source": [
    "n_s_vectors_hash = 'cb0ebcc1d1c85083fd69512983299369ac096ac1c3342bd2e42309e089403af0'\n",
    "assert sha256(np.array([elem for elem in linear_svc.n_support_], dtype=np.int32)).hexdigest() == n_s_vectors_hash "
   ]
  },
  {
   "cell_type": "markdown",
   "metadata": {
    "colab_type": "text",
    "deletable": false,
    "editable": false,
    "id": "Y8xtMvfbHkFX",
    "nbgrader": {
     "grade": false,
     "grade_id": "cell-ef314c4189559471",
     "locked": true,
     "schema_version": 3,
     "solution": false
    }
   },
   "source": [
    "1.3) Obtain the support vectors for the above classifier"
   ]
  },
  {
   "cell_type": "code",
   "execution_count": null,
   "metadata": {
    "colab": {
     "base_uri": "https://localhost:8080/",
     "height": 34
    },
    "colab_type": "code",
    "deletable": false,
    "id": "KBmNh9nlHrdN",
    "nbgrader": {
     "grade": false,
     "grade_id": "cell-c1c38a43fdc6fac5",
     "locked": false,
     "schema_version": 3,
     "solution": true
    },
    "outputId": "fa7eaf0d-62ff-4cb9-99a1-6f1d04fd0889"
   },
   "outputs": [],
   "source": [
    "# Obtain the support vectors for the classifier defined in 1.1\n",
    "# assign the result to a variable s_vectors\n",
    "# s_vectors = ...\n",
    "\n",
    "# YOUR CODE HERE\n",
    "raise NotImplementedError()"
   ]
  },
  {
   "cell_type": "code",
   "execution_count": null,
   "metadata": {
    "colab": {},
    "colab_type": "code",
    "deletable": false,
    "editable": false,
    "id": "VhZYExZNH8tE",
    "nbgrader": {
     "grade": true,
     "grade_id": "cell-c25c5fd4aae06e2a",
     "locked": true,
     "points": 2,
     "schema_version": 3,
     "solution": false
    }
   },
   "outputs": [],
   "source": [
    "s_vectors_hash = '8546938269b43713b416e3f1426464b79138346aab87385e49ea4cf37221192d'\n",
    "assert sha256(np.around(s_vectors, decimals=2)).hexdigest() == s_vectors_hash"
   ]
  },
  {
   "cell_type": "markdown",
   "metadata": {
    "colab_type": "text",
    "deletable": false,
    "editable": false,
    "id": "b6D_b8UaLp7P",
    "nbgrader": {
     "grade": false,
     "grade_id": "cell-482d56ba7fd11545",
     "locked": true,
     "schema_version": 3,
     "solution": false
    }
   },
   "source": [
    "1.4) Create a new SVC estimator that allows for, at most, 100 training obervations to be on the wrong side of the decision hyperplane"
   ]
  },
  {
   "cell_type": "code",
   "execution_count": null,
   "metadata": {
    "colab": {
     "base_uri": "https://localhost:8080/",
     "height": 51
    },
    "colab_type": "code",
    "deletable": false,
    "id": "01FdtEXpLpYS",
    "nbgrader": {
     "grade": false,
     "grade_id": "cell-c14bf9c897aec687",
     "locked": false,
     "schema_version": 3,
     "solution": true
    },
    "outputId": "98491b7b-17c6-4e43-e8da-d846756603c4"
   },
   "outputs": [],
   "source": [
    "# Create a new estimator that allows for, at most, 100 training obervations to \n",
    "# be on the wrong side of the decision hyperplane and train it on the data\n",
    "# assign the result to linear_svc_100\n",
    "# linear_svc_100 = ...\n",
    "\n",
    "# YOUR CODE HERE\n",
    "raise NotImplementedError()"
   ]
  },
  {
   "cell_type": "code",
   "execution_count": null,
   "metadata": {
    "colab": {},
    "colab_type": "code",
    "deletable": false,
    "editable": false,
    "id": "pp4GGNg-wGX0",
    "nbgrader": {
     "grade": true,
     "grade_id": "cell-b93d3d54a5cf248d",
     "locked": true,
     "points": 2,
     "schema_version": 3,
     "solution": false
    }
   },
   "outputs": [],
   "source": [
    "svc_parameters_hash = '85a1b9f29e87effe2c0f53b4343a231527a89fcf886be951a8a89ec3558646fa'\n",
    "\n",
    "assert isinstance(linear_svc_100, sklearn.svm.SVC) # check if SVC is of the right type\n",
    "# check if SVC parameters are according to what is expected\n",
    "assert svc_parameters_hash == sha256(json.dumps(linear_svc_100.get_params()).encode()).hexdigest() \n",
    "np.testing.assert_almost_equal(linear_svc_100.score(X_test, y_test), 0.6534653465346535) # check if SVC score matches expected"
   ]
  },
  {
   "cell_type": "markdown",
   "metadata": {
    "colab_type": "text",
    "deletable": false,
    "editable": false,
    "id": "iGYGZszuLvSu",
    "nbgrader": {
     "grade": false,
     "grade_id": "cell-54e36a9e1dc6257d",
     "locked": true,
     "schema_version": 3,
     "solution": false
    }
   },
   "source": [
    "## Exercise 2 : Support Vector Machines\n",
    "Having tried the Support Vector Classifier, you turn to Support Vector Machines to see if they can improve the performance of your classifier. You wonder which kernel you should use, and decide to start with the polynomial kernel"
   ]
  },
  {
   "cell_type": "markdown",
   "metadata": {
    "colab_type": "text",
    "deletable": false,
    "editable": false,
    "id": "yjQbXoiDrvZ6",
    "nbgrader": {
     "grade": false,
     "grade_id": "cell-3e43d60fe3d99a1c",
     "locked": true,
     "schema_version": 3,
     "solution": false
    }
   },
   "source": [
    "2.1) Create an SVM with polynomial kernel of degree 2. Fit the model to the data and create new predictions"
   ]
  },
  {
   "cell_type": "code",
   "execution_count": null,
   "metadata": {
    "colab": {
     "base_uri": "https://localhost:8080/",
     "height": 68
    },
    "colab_type": "code",
    "deletable": false,
    "id": "Ek8trgJ77dkG",
    "nbgrader": {
     "grade": false,
     "grade_id": "cell-172e3bd2b364b440",
     "locked": false,
     "schema_version": 3,
     "solution": true
    },
    "outputId": "534bae8e-3d4d-4314-cb18-1390b34e1d33"
   },
   "outputs": [],
   "source": [
    "# Use an SVM with a polynomial kernel to create predictions\n",
    "# Begin by creating the estimator\n",
    "# then train it on the data\n",
    "# assign your estimator to the variable poly_svm\n",
    "# and its predictions to the variable poly_preds\n",
    "# poly_svm = ...\n",
    "# poly_preds = ...\n",
    "\n",
    "# YOUR CODE HERE\n",
    "raise NotImplementedError()"
   ]
  },
  {
   "cell_type": "code",
   "execution_count": null,
   "metadata": {
    "colab": {},
    "colab_type": "code",
    "deletable": false,
    "editable": false,
    "id": "dR8vE1EE73fd",
    "nbgrader": {
     "grade": true,
     "grade_id": "cell-4cbba809efaac32d",
     "locked": true,
     "points": 4,
     "schema_version": 3,
     "solution": false
    }
   },
   "outputs": [],
   "source": [
    "poly_parameters_hash = '0e941e9e50803e150072a70406be935c3d85e513c8f70ec1f9b5f9fcba7b0fa1'\n",
    "poly_preds_hash = '95de367ef41c1dca7fbf01380952a5dcc714daa7aed42679c08c58798e84b3d2'\n",
    "\n",
    "assert isinstance(poly_svm, sklearn.svm.SVC) # check if SVC is of the right type\n",
    "# check if SVC parameters are according to what is expected\n",
    "assert poly_parameters_hash == sha256(json.dumps(poly_svm.get_params()).encode()).hexdigest()\n",
    "# check if SVC score matches expected\n",
    "np.testing.assert_almost_equal(poly_svm.score(X_test, y_test), 0.7079207920792079) \n",
    "# check if model predictions match expected result\n",
    "assert poly_preds_hash == sha256(poly_preds.astype(np.int32)).hexdigest()"
   ]
  },
  {
   "cell_type": "markdown",
   "metadata": {},
   "source": [
    "2.2) Create an SVM with a Radial kernel and fit it to the data"
   ]
  },
  {
   "cell_type": "code",
   "execution_count": null,
   "metadata": {
    "colab": {
     "base_uri": "https://localhost:8080/",
     "height": 51
    },
    "colab_type": "code",
    "deletable": false,
    "id": "5F_zDFNyEzHl",
    "nbgrader": {
     "grade": false,
     "grade_id": "cell-67987e9e5c2a81e8",
     "locked": false,
     "schema_version": 3,
     "solution": true
    },
    "outputId": "c530dab8-4c09-47d9-dea2-914a416b87a3"
   },
   "outputs": [],
   "source": [
    "# Use an SVM with a radial kernel \n",
    "# Begin by creating the estimator\n",
    "# then train it on the data\n",
    "# assign your estimator to the variable radial_svm\n",
    "# radial_svm = ...\n",
    "\n",
    "# YOUR CODE HERE\n",
    "raise NotImplementedError()"
   ]
  },
  {
   "cell_type": "code",
   "execution_count": null,
   "metadata": {
    "colab": {},
    "colab_type": "code",
    "deletable": false,
    "editable": false,
    "id": "pWXBFNDH7oFl",
    "nbgrader": {
     "grade": true,
     "grade_id": "cell-7762a654a5c9e0bb",
     "locked": true,
     "points": 4,
     "schema_version": 3,
     "solution": false
    }
   },
   "outputs": [],
   "source": [
    "radial_parameters_hash = 'ea58a5343263d35db801c24dd5b4815cbaf86dde2434e4e29294f1376f1699b6'\n",
    "\n",
    "assert isinstance(radial_svm, sklearn.svm.SVC) # check if SVC is of the right type\n",
    "# check if SVC parameters are according to what is expected\n",
    "assert radial_parameters_hash == sha256(json.dumps(radial_svm.get_params()).encode()).hexdigest()\n",
    "# check if model predictions match expected result\n",
    "np.testing.assert_almost_equal(radial_svm.score(X_test, y_test), 0.7376237623762376)"
   ]
  },
  {
   "cell_type": "markdown",
   "metadata": {
    "colab_type": "text",
    "deletable": false,
    "editable": false,
    "id": "2FmpIyQttmLp",
    "nbgrader": {
     "grade": false,
     "grade_id": "cell-3b0c71d3ba6db0f9",
     "locked": true,
     "schema_version": 3,
     "solution": false
    }
   },
   "source": [
    "## Exercise 3 : Support Vector Regression\n",
    "\n",
    "You also wonder whether the energy of a song can be predicted by the remaining attributes. \n",
    "\n",
    "3.1)Use an SVR estimator to predict the energy of a song "
   ]
  },
  {
   "cell_type": "code",
   "execution_count": null,
   "metadata": {
    "colab": {},
    "colab_type": "code",
    "deletable": false,
    "editable": false,
    "id": "vViB5RiGDYnX",
    "nbgrader": {
     "grade": false,
     "grade_id": "cell-6b785fdd612dcc66",
     "locked": true,
     "schema_version": 3,
     "solution": false
    }
   },
   "outputs": [],
   "source": [
    "# Change the target variable to the energy (float)\n",
    "X_train, X_test, y_train, y_test = get_X_y_train_test(songs_df.drop(\"target\", axis=1), target_col=\"energy\")"
   ]
  },
  {
   "cell_type": "code",
   "execution_count": null,
   "metadata": {
    "colab": {
     "base_uri": "https://localhost:8080/",
     "height": 51
    },
    "colab_type": "code",
    "deletable": false,
    "id": "4z2-thS0t6Xs",
    "nbgrader": {
     "grade": false,
     "grade_id": "cell-cfd65728579ba0e4",
     "locked": false,
     "schema_version": 3,
     "solution": true
    },
    "outputId": "b7286a2b-fcd9-498a-d805-7f6d5b77311c"
   },
   "outputs": [],
   "source": [
    "# Use an SVR with a radial kernel to create predictions\n",
    "# Begin by creating the estimator\n",
    "# then train it on the data\n",
    "# assign your estimator to the variable svr\n",
    "# svr = ...\n",
    "\n",
    "# YOUR CODE HERE\n",
    "raise NotImplementedError()\n"
   ]
  },
  {
   "cell_type": "code",
   "execution_count": null,
   "metadata": {
    "colab": {},
    "colab_type": "code",
    "deletable": false,
    "editable": false,
    "id": "nO24zB78Dg_y",
    "nbgrader": {
     "grade": true,
     "grade_id": "cell-471b594b90665f4b",
     "locked": true,
     "points": 3,
     "schema_version": 3,
     "solution": false
    }
   },
   "outputs": [],
   "source": [
    "svr_parameters_hash = '1c7028317e2a4a052cfc51d74b47fc8e1eb78ee04999b792464352ebe15fa54a'\n",
    "\n",
    "assert isinstance(svr, sklearn.svm.SVR) # check if SVR is of the right type\n",
    "# check if SVR parameters are according to what is expected\n",
    "assert svr_parameters_hash == sha256(json.dumps(svr.get_params()).encode()).hexdigest()\n",
    "# check if model score is close enough to expected value\n",
    "np.testing.assert_almost_equal(svr.score(X_test, y_test), 0.7369581003405523)"
   ]
  }
 ],
 "metadata": {
  "colab": {
   "collapsed_sections": [],
   "name": "Exercise notebook.ipynb",
   "provenance": [],
   "toc_visible": true,
   "version": "0.3.2"
  },
  "kernelspec": {
   "display_name": "Python 3 (ipykernel)",
   "language": "python",
   "name": "python3"
  },
  "language_info": {
   "codemirror_mode": {
    "name": "ipython",
    "version": 3
   },
   "file_extension": ".py",
   "mimetype": "text/x-python",
   "name": "python",
   "nbconvert_exporter": "python",
   "pygments_lexer": "ipython3",
   "version": "3.7.8"
  }
 },
 "nbformat": 4,
 "nbformat_minor": 1
}
