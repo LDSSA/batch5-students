{
 "cells": [
  {
   "cell_type": "markdown",
   "metadata": {
    "colab_type": "text",
    "id": "bwiypiL414GF"
   },
   "source": [
    "# SLU18 - Support Vector Machines (SVM) -- Examples"
   ]
  },
  {
   "cell_type": "markdown",
   "metadata": {
    "colab_type": "text",
    "id": "vHZLGY912KL1"
   },
   "source": [
    "## 1-Prepare the data"
   ]
  },
  {
   "cell_type": "code",
   "execution_count": 1,
   "metadata": {
    "colab": {},
    "colab_type": "code",
    "id": "YVwGG5vZ1l9r"
   },
   "outputs": [],
   "source": [
    "import warnings\n",
    "import pandas as pd\n",
    "\n",
    "from sklearn.model_selection import train_test_split\n",
    "\n",
    "warnings.simplefilter(\"ignore\")\n",
    "\n",
    "def prepare_dataset(data):\n",
    "    X = pd.DataFrame(data[\"data\"], columns=data[\"feature_names\"])\n",
    "    y = data.target\n",
    "    return train_test_split(X, y, test_size=0.2,random_state=42)"
   ]
  },
  {
   "cell_type": "markdown",
   "metadata": {
    "colab_type": "text",
    "id": "UaKRfnaR2oO9"
   },
   "source": [
    "## 2-Support Vector Classifier (SVC)"
   ]
  },
  {
   "cell_type": "code",
   "execution_count": 2,
   "metadata": {
    "colab": {},
    "colab_type": "code",
    "id": "hzPassy72lGH"
   },
   "outputs": [],
   "source": [
    "from sklearn.datasets import load_breast_cancer\n",
    "from sklearn.svm import SVC\n",
    "\n",
    "#0 -Load and Prepare Classification Dataset\n",
    "X_train, X_test, y_train, y_test = prepare_dataset(load_breast_cancer())\n",
    "\n",
    "# 1-choose the model\n",
    "svc = SVC()\n",
    "\n",
    "# 2-Fit the model\n",
    "svc.fit(X_train, y_train)\n",
    "\n",
    "# 3-Make predictions\n",
    "predictions = svc.predict(X_test)\n",
    "\n",
    "# 4-Evaluate predictions quality\n",
    "score = svc.score(X_test, y_test)"
   ]
  },
  {
   "cell_type": "markdown",
   "metadata": {
    "colab_type": "text",
    "id": "Y16OLV7X5WPw"
   },
   "source": [
    "## 3-Support Vector Regressor (SVR)"
   ]
  },
  {
   "cell_type": "code",
   "execution_count": 3,
   "metadata": {
    "colab": {},
    "colab_type": "code",
    "id": "9Dp448PK4DAd"
   },
   "outputs": [],
   "source": [
    "from sklearn.svm import SVR\n",
    "from sklearn.datasets import load_boston\n",
    "\n",
    "#0 -Load and Prepare Regression Dataset\n",
    "X_train, X_test, y_train, y_test = prepare_dataset(load_boston())\n",
    "\n",
    "# 1-choose the model\n",
    "svr = SVR()\n",
    "\n",
    "# 2-Fit the model\n",
    "svr.fit(X_train, y_train)\n",
    "\n",
    "# 3-Make predictions\n",
    "predictions = svr.predict(X_test)\n",
    "\n",
    "# 4-Evaluate predictions quality\n",
    "score = svr.score(X_test, y_test)"
   ]
  }
 ],
 "metadata": {
  "colab": {
   "collapsed_sections": [],
   "name": "SLU12 - Support Vector Machines (SVM): Example notebook.ipynb",
   "provenance": [],
   "version": "0.3.2"
  },
  "kernelspec": {
   "display_name": "Python 3 (ipykernel)",
   "language": "python",
   "name": "python3"
  },
  "language_info": {
   "codemirror_mode": {
    "name": "ipython",
    "version": 3
   },
   "file_extension": ".py",
   "mimetype": "text/x-python",
   "name": "python",
   "nbconvert_exporter": "python",
   "pygments_lexer": "ipython3",
   "version": "3.7.8"
  }
 },
 "nbformat": 4,
 "nbformat_minor": 1
}
