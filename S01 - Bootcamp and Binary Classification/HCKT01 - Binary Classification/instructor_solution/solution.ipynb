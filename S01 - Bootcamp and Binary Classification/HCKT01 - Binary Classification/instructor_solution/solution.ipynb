{
 "cells": [
  {
   "cell_type": "markdown",
   "metadata": {},
   "source": [
    "\n",
    "# Hackathon - Binary Classification - Solutions"
   ]
  },
  {
   "cell_type": "markdown",
   "metadata": {},
   "source": [
    "In this notebook you will find the instructor's solution to the hackathon. This is one approach of many possible.\n",
    "The main goal is to provide you a baseline that you can modify/expand upon and show you how to take advantage of sklearn's pipeline to simplify your workflow."
   ]
  },
  {
   "cell_type": "markdown",
   "metadata": {},
   "source": [
    "### Import the necessary libraries"
   ]
  },
  {
   "cell_type": "code",
   "execution_count": 1,
   "metadata": {},
   "outputs": [],
   "source": [
    "# Import basic libraries\n",
    "import pandas as pd\n",
    "import numpy as np\n",
    "import matplotlib.pyplot as plt \n",
    "\n",
    "# Sklearn libraries\n",
    "from sklearn.pipeline import Pipeline\n",
    "from sklearn.model_selection import train_test_split\n",
    "from sklearn.impute import SimpleImputer\n",
    "from sklearn.ensemble import RandomForestClassifier\n",
    "from sklearn.metrics import confusion_matrix,roc_auc_score,roc_curve,classification_report,auc\n",
    "from sklearn.base import BaseEstimator, TransformerMixin # to create classes\n",
    "from sklearn.preprocessing import RobustScaler\n",
    "from sklearn.linear_model import LogisticRegression\n",
    "from sklearn.compose import ColumnTransformer\n",
    "\n",
    "# Category encoders\n",
    "from category_encoders import OneHotEncoder, TargetEncoder"
   ]
  },
  {
   "cell_type": "markdown",
   "metadata": {},
   "source": [
    "#### Import the dataset"
   ]
  },
  {
   "cell_type": "code",
   "execution_count": 2,
   "metadata": {},
   "outputs": [],
   "source": [
    "# You might have to change this path or the location of this file\n",
    "data = pd.read_csv('data/train.csv').set_index(\"id\")"
   ]
  },
  {
   "cell_type": "code",
   "execution_count": 3,
   "metadata": {
    "scrolled": true
   },
   "outputs": [
    {
     "data": {
      "text/html": [
       "<div>\n",
       "<style scoped>\n",
       "    .dataframe tbody tr th:only-of-type {\n",
       "        vertical-align: middle;\n",
       "    }\n",
       "\n",
       "    .dataframe tbody tr th {\n",
       "        vertical-align: top;\n",
       "    }\n",
       "\n",
       "    .dataframe thead th {\n",
       "        text-align: right;\n",
       "    }\n",
       "</style>\n",
       "<table border=\"1\" class=\"dataframe\">\n",
       "  <thead>\n",
       "    <tr style=\"text-align: right;\">\n",
       "      <th></th>\n",
       "      <th>unix_timestamp</th>\n",
       "      <th>market_sentiment</th>\n",
       "      <th>market_instability</th>\n",
       "      <th>market_volatility</th>\n",
       "      <th>trades_number</th>\n",
       "      <th>trades_size</th>\n",
       "      <th>price_buy</th>\n",
       "      <th>price_sell</th>\n",
       "      <th>price_global</th>\n",
       "      <th>orders_buy_qty</th>\n",
       "      <th>orders_sell_qty</th>\n",
       "      <th>orders_buy_qty_top20</th>\n",
       "      <th>orders_sell_qty_top20</th>\n",
       "      <th>anonymous</th>\n",
       "      <th>success</th>\n",
       "    </tr>\n",
       "    <tr>\n",
       "      <th>id</th>\n",
       "      <th></th>\n",
       "      <th></th>\n",
       "      <th></th>\n",
       "      <th></th>\n",
       "      <th></th>\n",
       "      <th></th>\n",
       "      <th></th>\n",
       "      <th></th>\n",
       "      <th></th>\n",
       "      <th></th>\n",
       "      <th></th>\n",
       "      <th></th>\n",
       "      <th></th>\n",
       "      <th></th>\n",
       "      <th></th>\n",
       "    </tr>\n",
       "  </thead>\n",
       "  <tbody>\n",
       "    <tr>\n",
       "      <th>X3HK4QZ3780BO068DDII1F38</th>\n",
       "      <td>1.627818e+12</td>\n",
       "      <td>NaN</td>\n",
       "      <td>None</td>\n",
       "      <td>0.00034</td>\n",
       "      <td>77.0</td>\n",
       "      <td>NaN</td>\n",
       "      <td>988.48333</td>\n",
       "      <td>988.59048</td>\n",
       "      <td>988.94298</td>\n",
       "      <td>40.74</td>\n",
       "      <td>8.44</td>\n",
       "      <td>305.05</td>\n",
       "      <td>21.88</td>\n",
       "      <td>category_76</td>\n",
       "      <td>1</td>\n",
       "    </tr>\n",
       "    <tr>\n",
       "      <th>MIYIKL1LO0C2YJWEYVJD2QSR</th>\n",
       "      <td>1.627818e+12</td>\n",
       "      <td>Very Positive</td>\n",
       "      <td>None</td>\n",
       "      <td>NaN</td>\n",
       "      <td>78.0</td>\n",
       "      <td>206.77</td>\n",
       "      <td>988.48571</td>\n",
       "      <td>988.48810</td>\n",
       "      <td>988.88298</td>\n",
       "      <td>5.50</td>\n",
       "      <td>14.95</td>\n",
       "      <td>93.53</td>\n",
       "      <td>179.09</td>\n",
       "      <td>category_85</td>\n",
       "      <td>1</td>\n",
       "    </tr>\n",
       "    <tr>\n",
       "      <th>YU8WZGAT0E8AHU44N52Y4O69</th>\n",
       "      <td>1.627818e+12</td>\n",
       "      <td>Very Positive</td>\n",
       "      <td>None</td>\n",
       "      <td>NaN</td>\n",
       "      <td>NaN</td>\n",
       "      <td>NaN</td>\n",
       "      <td>988.40000</td>\n",
       "      <td>988.40238</td>\n",
       "      <td>988.84869</td>\n",
       "      <td>4.20</td>\n",
       "      <td>7.39</td>\n",
       "      <td>69.51</td>\n",
       "      <td>277.49</td>\n",
       "      <td>category_22</td>\n",
       "      <td>0</td>\n",
       "    </tr>\n",
       "    <tr>\n",
       "      <th>T88FOCZN28J115T6AM5X9QYZ</th>\n",
       "      <td>1.627818e+12</td>\n",
       "      <td>Very Positive</td>\n",
       "      <td>None</td>\n",
       "      <td>0.00038</td>\n",
       "      <td>96.0</td>\n",
       "      <td>NaN</td>\n",
       "      <td>988.65476</td>\n",
       "      <td>988.65714</td>\n",
       "      <td>989.03988</td>\n",
       "      <td>49.18</td>\n",
       "      <td>41.96</td>\n",
       "      <td>251.58</td>\n",
       "      <td>58.59</td>\n",
       "      <td>category_133</td>\n",
       "      <td>0</td>\n",
       "    </tr>\n",
       "    <tr>\n",
       "      <th>N8WDQ2NL2FYAA7YOC37Q1CTO</th>\n",
       "      <td>1.627818e+12</td>\n",
       "      <td>Very Positive</td>\n",
       "      <td>Low</td>\n",
       "      <td>0.00045</td>\n",
       "      <td>137.0</td>\n",
       "      <td>338.77</td>\n",
       "      <td>989.04524</td>\n",
       "      <td>989.04762</td>\n",
       "      <td>989.57036</td>\n",
       "      <td>51.53</td>\n",
       "      <td>0.46</td>\n",
       "      <td>279.76</td>\n",
       "      <td>11.47</td>\n",
       "      <td>category_23</td>\n",
       "      <td>0</td>\n",
       "    </tr>\n",
       "  </tbody>\n",
       "</table>\n",
       "</div>"
      ],
      "text/plain": [
       "                          unix_timestamp market_sentiment market_instability  \\\n",
       "id                                                                             \n",
       "X3HK4QZ3780BO068DDII1F38    1.627818e+12              NaN               None   \n",
       "MIYIKL1LO0C2YJWEYVJD2QSR    1.627818e+12    Very Positive               None   \n",
       "YU8WZGAT0E8AHU44N52Y4O69    1.627818e+12    Very Positive               None   \n",
       "T88FOCZN28J115T6AM5X9QYZ    1.627818e+12    Very Positive               None   \n",
       "N8WDQ2NL2FYAA7YOC37Q1CTO    1.627818e+12    Very Positive                Low   \n",
       "\n",
       "                          market_volatility  trades_number  trades_size  \\\n",
       "id                                                                        \n",
       "X3HK4QZ3780BO068DDII1F38            0.00034           77.0          NaN   \n",
       "MIYIKL1LO0C2YJWEYVJD2QSR                NaN           78.0       206.77   \n",
       "YU8WZGAT0E8AHU44N52Y4O69                NaN            NaN          NaN   \n",
       "T88FOCZN28J115T6AM5X9QYZ            0.00038           96.0          NaN   \n",
       "N8WDQ2NL2FYAA7YOC37Q1CTO            0.00045          137.0       338.77   \n",
       "\n",
       "                          price_buy  price_sell  price_global  orders_buy_qty  \\\n",
       "id                                                                              \n",
       "X3HK4QZ3780BO068DDII1F38  988.48333   988.59048     988.94298           40.74   \n",
       "MIYIKL1LO0C2YJWEYVJD2QSR  988.48571   988.48810     988.88298            5.50   \n",
       "YU8WZGAT0E8AHU44N52Y4O69  988.40000   988.40238     988.84869            4.20   \n",
       "T88FOCZN28J115T6AM5X9QYZ  988.65476   988.65714     989.03988           49.18   \n",
       "N8WDQ2NL2FYAA7YOC37Q1CTO  989.04524   989.04762     989.57036           51.53   \n",
       "\n",
       "                          orders_sell_qty  orders_buy_qty_top20  \\\n",
       "id                                                                \n",
       "X3HK4QZ3780BO068DDII1F38             8.44                305.05   \n",
       "MIYIKL1LO0C2YJWEYVJD2QSR            14.95                 93.53   \n",
       "YU8WZGAT0E8AHU44N52Y4O69             7.39                 69.51   \n",
       "T88FOCZN28J115T6AM5X9QYZ            41.96                251.58   \n",
       "N8WDQ2NL2FYAA7YOC37Q1CTO             0.46                279.76   \n",
       "\n",
       "                          orders_sell_qty_top20     anonymous  success  \n",
       "id                                                                      \n",
       "X3HK4QZ3780BO068DDII1F38                  21.88   category_76        1  \n",
       "MIYIKL1LO0C2YJWEYVJD2QSR                 179.09   category_85        1  \n",
       "YU8WZGAT0E8AHU44N52Y4O69                 277.49   category_22        0  \n",
       "T88FOCZN28J115T6AM5X9QYZ                  58.59  category_133        0  \n",
       "N8WDQ2NL2FYAA7YOC37Q1CTO                  11.47   category_23        0  "
      ]
     },
     "execution_count": 3,
     "metadata": {},
     "output_type": "execute_result"
    }
   ],
   "source": [
    "data.head()"
   ]
  },
  {
   "cell_type": "markdown",
   "metadata": {},
   "source": [
    "### EDA (Exploratory Dataset Analysis)"
   ]
  },
  {
   "cell_type": "markdown",
   "metadata": {},
   "source": [
    "Let's start by checking the data types we are dealing with."
   ]
  },
  {
   "cell_type": "code",
   "execution_count": 4,
   "metadata": {},
   "outputs": [
    {
     "data": {
      "text/plain": [
       "unix_timestamp           float64\n",
       "market_sentiment          object\n",
       "market_instability        object\n",
       "market_volatility        float64\n",
       "trades_number            float64\n",
       "trades_size              float64\n",
       "price_buy                float64\n",
       "price_sell               float64\n",
       "price_global             float64\n",
       "orders_buy_qty           float64\n",
       "orders_sell_qty          float64\n",
       "orders_buy_qty_top20     float64\n",
       "orders_sell_qty_top20    float64\n",
       "anonymous                 object\n",
       "success                    int64\n",
       "dtype: object"
      ]
     },
     "execution_count": 4,
     "metadata": {},
     "output_type": "execute_result"
    }
   ],
   "source": [
    "data.dtypes"
   ]
  },
  {
   "cell_type": "markdown",
   "metadata": {},
   "source": [
    "Let's check the number of unique values in our dataset."
   ]
  },
  {
   "cell_type": "code",
   "execution_count": 5,
   "metadata": {},
   "outputs": [
    {
     "data": {
      "text/plain": [
       "unix_timestamp           178204\n",
       "market_sentiment              5\n",
       "market_instability            4\n",
       "market_volatility           157\n",
       "trades_number               549\n",
       "trades_size               15341\n",
       "price_buy                 31277\n",
       "price_sell                31283\n",
       "price_global             113488\n",
       "orders_buy_qty             2859\n",
       "orders_sell_qty            2833\n",
       "orders_buy_qty_top20      13980\n",
       "orders_sell_qty_top20     13418\n",
       "anonymous                   142\n",
       "success                       2\n",
       "dtype: int64"
      ]
     },
     "execution_count": 5,
     "metadata": {},
     "output_type": "execute_result"
    }
   ],
   "source": [
    "data.nunique()"
   ]
  },
  {
   "cell_type": "markdown",
   "metadata": {},
   "source": [
    "Let's check if we have any missing values to worry about."
   ]
  },
  {
   "cell_type": "code",
   "execution_count": 6,
   "metadata": {},
   "outputs": [
    {
     "data": {
      "text/plain": [
       "unix_timestamp               0\n",
       "market_sentiment          9956\n",
       "market_instability        3954\n",
       "market_volatility        43621\n",
       "trades_number            66303\n",
       "trades_size              38934\n",
       "price_buy                    0\n",
       "price_sell                   0\n",
       "price_global                 0\n",
       "orders_buy_qty               0\n",
       "orders_sell_qty              0\n",
       "orders_buy_qty_top20         0\n",
       "orders_sell_qty_top20        0\n",
       "anonymous                    0\n",
       "success                      0\n",
       "dtype: int64"
      ]
     },
     "execution_count": 6,
     "metadata": {},
     "output_type": "execute_result"
    }
   ],
   "source": [
    "data.isna().sum()"
   ]
  },
  {
   "cell_type": "markdown",
   "metadata": {},
   "source": [
    "There are a lot of missing values here. We will have to find a way to deal with them..."
   ]
  },
  {
   "cell_type": "markdown",
   "metadata": {},
   "source": [
    "What about correlation?"
   ]
  },
  {
   "cell_type": "code",
   "execution_count": 7,
   "metadata": {},
   "outputs": [
    {
     "data": {
      "text/html": [
       "<div>\n",
       "<style scoped>\n",
       "    .dataframe tbody tr th:only-of-type {\n",
       "        vertical-align: middle;\n",
       "    }\n",
       "\n",
       "    .dataframe tbody tr th {\n",
       "        vertical-align: top;\n",
       "    }\n",
       "\n",
       "    .dataframe thead th {\n",
       "        text-align: right;\n",
       "    }\n",
       "</style>\n",
       "<table border=\"1\" class=\"dataframe\">\n",
       "  <thead>\n",
       "    <tr style=\"text-align: right;\">\n",
       "      <th></th>\n",
       "      <th>unix_timestamp</th>\n",
       "      <th>market_volatility</th>\n",
       "      <th>trades_number</th>\n",
       "      <th>trades_size</th>\n",
       "      <th>price_buy</th>\n",
       "      <th>price_sell</th>\n",
       "      <th>price_global</th>\n",
       "      <th>orders_buy_qty</th>\n",
       "      <th>orders_sell_qty</th>\n",
       "      <th>orders_buy_qty_top20</th>\n",
       "      <th>orders_sell_qty_top20</th>\n",
       "      <th>success</th>\n",
       "    </tr>\n",
       "  </thead>\n",
       "  <tbody>\n",
       "    <tr>\n",
       "      <th>unix_timestamp</th>\n",
       "      <td>1.0</td>\n",
       "      <td>NaN</td>\n",
       "      <td>NaN</td>\n",
       "      <td>NaN</td>\n",
       "      <td>NaN</td>\n",
       "      <td>NaN</td>\n",
       "      <td>NaN</td>\n",
       "      <td>NaN</td>\n",
       "      <td>NaN</td>\n",
       "      <td>NaN</td>\n",
       "      <td>NaN</td>\n",
       "      <td>NaN</td>\n",
       "    </tr>\n",
       "    <tr>\n",
       "      <th>market_volatility</th>\n",
       "      <td>NaN</td>\n",
       "      <td>1.000000</td>\n",
       "      <td>0.781243</td>\n",
       "      <td>NaN</td>\n",
       "      <td>NaN</td>\n",
       "      <td>NaN</td>\n",
       "      <td>NaN</td>\n",
       "      <td>NaN</td>\n",
       "      <td>NaN</td>\n",
       "      <td>NaN</td>\n",
       "      <td>NaN</td>\n",
       "      <td>NaN</td>\n",
       "    </tr>\n",
       "    <tr>\n",
       "      <th>trades_number</th>\n",
       "      <td>NaN</td>\n",
       "      <td>0.781243</td>\n",
       "      <td>1.000000</td>\n",
       "      <td>0.884136</td>\n",
       "      <td>NaN</td>\n",
       "      <td>NaN</td>\n",
       "      <td>NaN</td>\n",
       "      <td>NaN</td>\n",
       "      <td>NaN</td>\n",
       "      <td>NaN</td>\n",
       "      <td>NaN</td>\n",
       "      <td>NaN</td>\n",
       "    </tr>\n",
       "    <tr>\n",
       "      <th>trades_size</th>\n",
       "      <td>NaN</td>\n",
       "      <td>NaN</td>\n",
       "      <td>0.884136</td>\n",
       "      <td>1.000000</td>\n",
       "      <td>NaN</td>\n",
       "      <td>NaN</td>\n",
       "      <td>NaN</td>\n",
       "      <td>NaN</td>\n",
       "      <td>NaN</td>\n",
       "      <td>NaN</td>\n",
       "      <td>NaN</td>\n",
       "      <td>NaN</td>\n",
       "    </tr>\n",
       "    <tr>\n",
       "      <th>price_buy</th>\n",
       "      <td>NaN</td>\n",
       "      <td>NaN</td>\n",
       "      <td>NaN</td>\n",
       "      <td>NaN</td>\n",
       "      <td>1.000000</td>\n",
       "      <td>0.999996</td>\n",
       "      <td>0.999967</td>\n",
       "      <td>NaN</td>\n",
       "      <td>NaN</td>\n",
       "      <td>NaN</td>\n",
       "      <td>NaN</td>\n",
       "      <td>NaN</td>\n",
       "    </tr>\n",
       "    <tr>\n",
       "      <th>price_sell</th>\n",
       "      <td>NaN</td>\n",
       "      <td>NaN</td>\n",
       "      <td>NaN</td>\n",
       "      <td>NaN</td>\n",
       "      <td>0.999996</td>\n",
       "      <td>1.000000</td>\n",
       "      <td>0.999967</td>\n",
       "      <td>NaN</td>\n",
       "      <td>NaN</td>\n",
       "      <td>NaN</td>\n",
       "      <td>NaN</td>\n",
       "      <td>NaN</td>\n",
       "    </tr>\n",
       "    <tr>\n",
       "      <th>price_global</th>\n",
       "      <td>NaN</td>\n",
       "      <td>NaN</td>\n",
       "      <td>NaN</td>\n",
       "      <td>NaN</td>\n",
       "      <td>0.999967</td>\n",
       "      <td>0.999967</td>\n",
       "      <td>1.000000</td>\n",
       "      <td>NaN</td>\n",
       "      <td>NaN</td>\n",
       "      <td>NaN</td>\n",
       "      <td>NaN</td>\n",
       "      <td>NaN</td>\n",
       "    </tr>\n",
       "    <tr>\n",
       "      <th>orders_buy_qty</th>\n",
       "      <td>NaN</td>\n",
       "      <td>NaN</td>\n",
       "      <td>NaN</td>\n",
       "      <td>NaN</td>\n",
       "      <td>NaN</td>\n",
       "      <td>NaN</td>\n",
       "      <td>NaN</td>\n",
       "      <td>1.0</td>\n",
       "      <td>NaN</td>\n",
       "      <td>NaN</td>\n",
       "      <td>NaN</td>\n",
       "      <td>NaN</td>\n",
       "    </tr>\n",
       "    <tr>\n",
       "      <th>orders_sell_qty</th>\n",
       "      <td>NaN</td>\n",
       "      <td>NaN</td>\n",
       "      <td>NaN</td>\n",
       "      <td>NaN</td>\n",
       "      <td>NaN</td>\n",
       "      <td>NaN</td>\n",
       "      <td>NaN</td>\n",
       "      <td>NaN</td>\n",
       "      <td>1.0</td>\n",
       "      <td>NaN</td>\n",
       "      <td>NaN</td>\n",
       "      <td>NaN</td>\n",
       "    </tr>\n",
       "    <tr>\n",
       "      <th>orders_buy_qty_top20</th>\n",
       "      <td>NaN</td>\n",
       "      <td>NaN</td>\n",
       "      <td>NaN</td>\n",
       "      <td>NaN</td>\n",
       "      <td>NaN</td>\n",
       "      <td>NaN</td>\n",
       "      <td>NaN</td>\n",
       "      <td>NaN</td>\n",
       "      <td>NaN</td>\n",
       "      <td>1.0</td>\n",
       "      <td>NaN</td>\n",
       "      <td>NaN</td>\n",
       "    </tr>\n",
       "    <tr>\n",
       "      <th>orders_sell_qty_top20</th>\n",
       "      <td>NaN</td>\n",
       "      <td>NaN</td>\n",
       "      <td>NaN</td>\n",
       "      <td>NaN</td>\n",
       "      <td>NaN</td>\n",
       "      <td>NaN</td>\n",
       "      <td>NaN</td>\n",
       "      <td>NaN</td>\n",
       "      <td>NaN</td>\n",
       "      <td>NaN</td>\n",
       "      <td>1.0</td>\n",
       "      <td>NaN</td>\n",
       "    </tr>\n",
       "    <tr>\n",
       "      <th>success</th>\n",
       "      <td>NaN</td>\n",
       "      <td>NaN</td>\n",
       "      <td>NaN</td>\n",
       "      <td>NaN</td>\n",
       "      <td>NaN</td>\n",
       "      <td>NaN</td>\n",
       "      <td>NaN</td>\n",
       "      <td>NaN</td>\n",
       "      <td>NaN</td>\n",
       "      <td>NaN</td>\n",
       "      <td>NaN</td>\n",
       "      <td>1.0</td>\n",
       "    </tr>\n",
       "  </tbody>\n",
       "</table>\n",
       "</div>"
      ],
      "text/plain": [
       "                       unix_timestamp  market_volatility  trades_number  \\\n",
       "unix_timestamp                    1.0                NaN            NaN   \n",
       "market_volatility                 NaN           1.000000       0.781243   \n",
       "trades_number                     NaN           0.781243       1.000000   \n",
       "trades_size                       NaN                NaN       0.884136   \n",
       "price_buy                         NaN                NaN            NaN   \n",
       "price_sell                        NaN                NaN            NaN   \n",
       "price_global                      NaN                NaN            NaN   \n",
       "orders_buy_qty                    NaN                NaN            NaN   \n",
       "orders_sell_qty                   NaN                NaN            NaN   \n",
       "orders_buy_qty_top20              NaN                NaN            NaN   \n",
       "orders_sell_qty_top20             NaN                NaN            NaN   \n",
       "success                           NaN                NaN            NaN   \n",
       "\n",
       "                       trades_size  price_buy  price_sell  price_global  \\\n",
       "unix_timestamp                 NaN        NaN         NaN           NaN   \n",
       "market_volatility              NaN        NaN         NaN           NaN   \n",
       "trades_number             0.884136        NaN         NaN           NaN   \n",
       "trades_size               1.000000        NaN         NaN           NaN   \n",
       "price_buy                      NaN   1.000000    0.999996      0.999967   \n",
       "price_sell                     NaN   0.999996    1.000000      0.999967   \n",
       "price_global                   NaN   0.999967    0.999967      1.000000   \n",
       "orders_buy_qty                 NaN        NaN         NaN           NaN   \n",
       "orders_sell_qty                NaN        NaN         NaN           NaN   \n",
       "orders_buy_qty_top20           NaN        NaN         NaN           NaN   \n",
       "orders_sell_qty_top20          NaN        NaN         NaN           NaN   \n",
       "success                        NaN        NaN         NaN           NaN   \n",
       "\n",
       "                       orders_buy_qty  orders_sell_qty  orders_buy_qty_top20  \\\n",
       "unix_timestamp                    NaN              NaN                   NaN   \n",
       "market_volatility                 NaN              NaN                   NaN   \n",
       "trades_number                     NaN              NaN                   NaN   \n",
       "trades_size                       NaN              NaN                   NaN   \n",
       "price_buy                         NaN              NaN                   NaN   \n",
       "price_sell                        NaN              NaN                   NaN   \n",
       "price_global                      NaN              NaN                   NaN   \n",
       "orders_buy_qty                    1.0              NaN                   NaN   \n",
       "orders_sell_qty                   NaN              1.0                   NaN   \n",
       "orders_buy_qty_top20              NaN              NaN                   1.0   \n",
       "orders_sell_qty_top20             NaN              NaN                   NaN   \n",
       "success                           NaN              NaN                   NaN   \n",
       "\n",
       "                       orders_sell_qty_top20  success  \n",
       "unix_timestamp                           NaN      NaN  \n",
       "market_volatility                        NaN      NaN  \n",
       "trades_number                            NaN      NaN  \n",
       "trades_size                              NaN      NaN  \n",
       "price_buy                                NaN      NaN  \n",
       "price_sell                               NaN      NaN  \n",
       "price_global                             NaN      NaN  \n",
       "orders_buy_qty                           NaN      NaN  \n",
       "orders_sell_qty                          NaN      NaN  \n",
       "orders_buy_qty_top20                     NaN      NaN  \n",
       "orders_sell_qty_top20                    1.0      NaN  \n",
       "success                                  NaN      1.0  "
      ]
     },
     "execution_count": 7,
     "metadata": {},
     "output_type": "execute_result"
    }
   ],
   "source": [
    "data.corr()[data.corr().abs()>0.7]"
   ]
  },
  {
   "cell_type": "markdown",
   "metadata": {},
   "source": [
    "Let's also check if are dealing with an imbalanced dataset."
   ]
  },
  {
   "cell_type": "code",
   "execution_count": 8,
   "metadata": {},
   "outputs": [
    {
     "data": {
      "image/png": "[encoded data removed]",
      "text/plain": [
       "<Figure size 432x288 with 1 Axes>"
      ]
     },
     "metadata": {
      "needs_background": "light"
     },
     "output_type": "display_data"
    }
   ],
   "source": [
    "# Checking if the dataset is imbalanced \n",
    "data[\"success\"].value_counts(normalize=True).plot(kind=\"bar\")\n",
    "plt.title('Target Distribution')\n",
    "plt.xlabel(\"Successful trade (No=0, Yes=1)\")\n",
    "plt.ylabel(\"Perc. of trades\");"
   ]
  },
  {
   "cell_type": "markdown",
   "metadata": {},
   "source": [
    "### Feature Engineering"
   ]
  },
  {
   "cell_type": "code",
   "execution_count": 9,
   "metadata": {},
   "outputs": [],
   "source": [
    "class Spread(BaseEstimator, TransformerMixin):\n",
    "    def __init__(self):\n",
    "        pass\n",
    "    def fit(self, X=None, y=None, **fit_params):\n",
    "        return self\n",
    "    def transform(self, data):\n",
    "        X = data.copy()\n",
    "        X[\"spread\"] = abs(data[\"price_buy\"]/ data[\"price_sell\"]-1)\n",
    "        return X"
   ]
  },
  {
   "cell_type": "code",
   "execution_count": 10,
   "metadata": {},
   "outputs": [],
   "source": [
    "class BuySellTop1Relevance(BaseEstimator, TransformerMixin):\n",
    "    def __init__(self):\n",
    "        pass\n",
    "    def fit(self, X=None, y=None, **fit_params):\n",
    "        return self\n",
    "    def transform(self, data):\n",
    "        X = data.copy()\n",
    "        X[\"buy_sell_top1_relevance\"] = (data['orders_buy_qty'] + data['orders_sell_qty']) / \\\n",
    "                                          (data['orders_buy_qty_top20'] + data['orders_sell_qty_top20'])\n",
    "        return X"
   ]
  },
  {
   "cell_type": "markdown",
   "metadata": {},
   "source": [
    "### Useful Classes"
   ]
  },
  {
   "cell_type": "code",
   "execution_count": 11,
   "metadata": {},
   "outputs": [],
   "source": [
    "class Save(BaseEstimator, TransformerMixin):\n",
    "    def __init__(self):\n",
    "        pass\n",
    "    def fit(self, X=None, y=None, **fit_params):\n",
    "        return self\n",
    "    def transform(self, data):\n",
    "        X = data.copy()\n",
    "        pd.DataFrame(X).to_csv(\"pipeline_spy.csv\")\n",
    "        return X"
   ]
  },
  {
   "cell_type": "markdown",
   "metadata": {},
   "source": [
    "### Creating the Model "
   ]
  },
  {
   "cell_type": "markdown",
   "metadata": {},
   "source": [
    "Preparing the dataset for the split (don't forget to sort)"
   ]
  },
  {
   "cell_type": "code",
   "execution_count": 12,
   "metadata": {},
   "outputs": [],
   "source": [
    "data = data.sort_values(by=\"unix_timestamp\")\n",
    "X = data.drop(columns=['success'])\n",
    "y = data['success']"
   ]
  },
  {
   "cell_type": "markdown",
   "metadata": {},
   "source": [
    "Splitting the dataset between test and train"
   ]
  },
  {
   "cell_type": "code",
   "execution_count": 13,
   "metadata": {},
   "outputs": [],
   "source": [
    "X_train, X_test, y_train, y_test = train_test_split(X,\n",
    "                                                    y,\n",
    "                                                    test_size=0.25,\n",
    "                                                    shuffle=False) # be careful here. By default the dataset is shuffled"
   ]
  },
  {
   "cell_type": "markdown",
   "metadata": {},
   "source": [
    "Creating the pipeline"
   ]
  },
  {
   "cell_type": "code",
   "execution_count": 14,
   "metadata": {},
   "outputs": [],
   "source": [
    "# Columns to use\n",
    "cat_cols = [\"anonymous\", \"market_instability\"]\n",
    "num_cols = [\"trades_size\", \"market_volatility\"]\n",
    "feat_engineering_cols = [\"spread\", \"buy_sell_top1_relevance\"]\n",
    "\n",
    "# Pipeline\n",
    "num_transformer = Pipeline(steps=[\n",
    "    ('fillna', SimpleImputer(strategy='median')),\n",
    "    ('scaler', RobustScaler())\n",
    "])\n",
    "cat_transformer = Pipeline(steps=[\n",
    "    (\"cat_encoder\", TargetEncoder(cols=cat_cols))\n",
    "])\n",
    "preprocessor = ColumnTransformer(\n",
    "    transformers=[\n",
    "    ('num', num_transformer, num_cols + feat_engineering_cols),\n",
    "    ('cat', cat_transformer, cat_cols),\n",
    "    ])\n",
    "\n",
    "pipeline = Pipeline([(\"feat_engineering_1\", Spread()),\n",
    "                     (\"feat_engineering_2\", BuySellTop1Relevance()),\n",
    "                     (\"preprocessor\", preprocessor),\n",
    "                     ('model', LogisticRegression(random_state=42))])"
   ]
  },
  {
   "cell_type": "markdown",
   "metadata": {},
   "source": [
    "Train the model and generate the predictions"
   ]
  },
  {
   "cell_type": "code",
   "execution_count": 15,
   "metadata": {},
   "outputs": [
    {
     "name": "stderr",
     "output_type": "stream",
     "text": [
      "/home/wramos/.local/lib/python3.7/site-packages/category_encoders/utils.py:21: FutureWarning: is_categorical is deprecated and will be removed in a future version.  Use is_categorical_dtype instead\n",
      "  elif pd.api.types.is_categorical(cols):\n"
     ]
    },
    {
     "data": {
      "text/plain": [
       "Pipeline(steps=[('feat_engineering_1', Spread()),\n",
       "                ('feat_engineering_2', BuySellTop1Relevance()),\n",
       "                ('preprocessor',\n",
       "                 ColumnTransformer(transformers=[('num',\n",
       "                                                  Pipeline(steps=[('fillna',\n",
       "                                                                   SimpleImputer(strategy='median')),\n",
       "                                                                  ('scaler',\n",
       "                                                                   RobustScaler())]),\n",
       "                                                  ['trades_size',\n",
       "                                                   'market_volatility',\n",
       "                                                   'spread',\n",
       "                                                   'buy_sell_top1_relevance']),\n",
       "                                                 ('cat',\n",
       "                                                  Pipeline(steps=[('cat_encoder',\n",
       "                                                                   TargetEncoder(cols=['anonymous',\n",
       "                                                                                       'market_instability']))]),\n",
       "                                                  ['anonymous',\n",
       "                                                   'market_instability'])])),\n",
       "                ('model', LogisticRegression(random_state=42))])"
      ]
     },
     "execution_count": 15,
     "metadata": {},
     "output_type": "execute_result"
    }
   ],
   "source": [
    "pipeline.fit(X_train, y_train)"
   ]
  },
  {
   "cell_type": "code",
   "execution_count": 16,
   "metadata": {},
   "outputs": [],
   "source": [
    "y_scores = pipeline.predict_proba(X_test)[:,1]"
   ]
  },
  {
   "cell_type": "code",
   "execution_count": 17,
   "metadata": {
    "scrolled": true
   },
   "outputs": [
    {
     "name": "stdout",
     "output_type": "stream",
     "text": [
      "Score: 0.716\n"
     ]
    },
    {
     "data": {
      "image/png": "[encoded data removed]",
      "text/plain": [
       "<Figure size 432x288 with 1 Axes>"
      ]
     },
     "metadata": {
      "needs_background": "light"
     },
     "output_type": "display_data"
    }
   ],
   "source": [
    "fpr, tpr, threshold = roc_curve(y_test, y_scores)\n",
    "roc_auc = auc(fpr, tpr)\n",
    "\n",
    "plt.title('Receiver Operating Characteristic')\n",
    "plt.plot(fpr, tpr, 'b', label = 'AUC = %0.2f' % roc_auc)\n",
    "plt.legend(loc = 'lower right')\n",
    "plt.plot([0, 1], [0, 1],'r--')\n",
    "plt.xlim([0, 1])\n",
    "plt.ylim([0, 1])\n",
    "plt.ylabel('True Positive Rate')\n",
    "plt.xlabel('False Positive Rate')\n",
    "print(\"Score: \"+ str(round(roc_auc,3)))\n",
    "plt.show()"
   ]
  },
  {
   "cell_type": "markdown",
   "metadata": {},
   "source": [
    "#### Check final score using the test set"
   ]
  },
  {
   "cell_type": "markdown",
   "metadata": {},
   "source": [
    "Load the test set"
   ]
  },
  {
   "cell_type": "code",
   "execution_count": 18,
   "metadata": {},
   "outputs": [],
   "source": [
    "test = pd.read_csv('data/test.csv').set_index(\"id\")"
   ]
  },
  {
   "cell_type": "markdown",
   "metadata": {},
   "source": [
    "Use the pipeline to get predictions (very simple!)"
   ]
  },
  {
   "cell_type": "code",
   "execution_count": 19,
   "metadata": {
    "scrolled": true
   },
   "outputs": [],
   "source": [
    "y_scores_final = pipeline.predict_proba(test)[:,1]"
   ]
  },
  {
   "cell_type": "markdown",
   "metadata": {},
   "source": [
    "Prepare the submissions file"
   ]
  },
  {
   "cell_type": "code",
   "execution_count": 20,
   "metadata": {},
   "outputs": [],
   "source": [
    "submission = pd.Series(y_scores_final,index=test.index, name='id')\n",
    "submission.to_csv(\"submission.csv\")"
   ]
  },
  {
   "cell_type": "markdown",
   "metadata": {},
   "source": [
    "This should get you a 0.724!"
   ]
  }
 ],
 "metadata": {
  "kernelspec": {
   "display_name": "Python 3 (ipykernel)",
   "language": "python",
   "name": "python3"
  },
  "language_info": {
   "codemirror_mode": {
    "name": "ipython",
    "version": 3
   },
   "file_extension": ".py",
   "mimetype": "text/x-python",
   "name": "python",
   "nbconvert_exporter": "python",
   "pygments_lexer": "ipython3",
   "version": "3.7.11"
  }
 },
 "nbformat": 4,
 "nbformat_minor": 4
}
