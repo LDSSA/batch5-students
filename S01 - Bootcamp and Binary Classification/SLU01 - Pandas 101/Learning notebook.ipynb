{
 "cells": [
  {
   "cell_type": "markdown",
   "metadata": {},
   "source": [
    "# SLU01 - Pandas 101: Learning notebook\n",
    "\n",
    "In this notebook we will be covering the following:\n",
    "\n",
    "1. [What is Pandas](#1.-What-is-pandas?)\n",
    "1. [Series](#2.-Series) \n",
    "1. [Dataframes](#3.-DataFrames) \n",
    "1. [Previewing and describing a dataframe](#4.-Previewing-a-DataFrame)\n",
    "1. [Reading data from files into pandas](#5.-Reading-data-from-files-into-pandas)\n",
    "1. [Writing data from pandas into files](#6.-Writing-data-from-pandas-into-files)"
   ]
  },
  {
   "cell_type": "markdown",
   "metadata": {},
   "source": [
    "## 1. What is `pandas`?"
   ]
  },
  {
   "cell_type": "markdown",
   "metadata": {},
   "source": [
    "Pandas is a major tool of interest. It contains data structures and data manipulation tools designed to make data cleaning and analysis fast and easy in Python.\n",
    "\n",
    "In this notebook the most basic functionalities will be covered."
   ]
  },
  {
   "cell_type": "markdown",
   "metadata": {},
   "source": [
    "### How do I call it?"
   ]
  },
  {
   "cell_type": "code",
   "execution_count": 1,
   "metadata": {},
   "outputs": [],
   "source": [
    "import pandas as pd"
   ]
  },
  {
   "cell_type": "markdown",
   "metadata": {},
   "source": [
    "Notice we import pandas as `pd`. This is not required but highly recommended. It's standard practice and commonly used in documentation and usage examples."
   ]
  },
  {
   "cell_type": "markdown",
   "metadata": {},
   "source": [
    "### Pandas Data Structures"
   ]
  },
  {
   "cell_type": "markdown",
   "metadata": {},
   "source": [
    "There are two main data structures on pandas:"
   ]
  },
  {
   "cell_type": "markdown",
   "metadata": {},
   "source": [
    "- **Series** - A 1-dimensional array of data of the same type. More documentation on Series is available on [`pandas.Series` documentation page](https://pandas.pydata.org/pandas-docs/stable/reference/api/pandas.Series.html).\n",
    "\n",
    "![Pandas Series](assets/series.png \"Pandas Series\")"
   ]
  },
  {
   "cell_type": "markdown",
   "metadata": {},
   "source": [
    "- **Dataframes** - Tabular structure that may be seen as a container of series (that may have different types).Be aware that is also possible to have 1-dimensional array of data as a DataFrame. More documentation on Dataframes is available on: [`pandas.DataFrame` documentation page](https://pandas.pydata.org/pandas-docs/stable/generated/pandas.DataFrame.html)\n",
    "\n",
    "![Pandas DataFrame](assets/dataframe.PNG \"Pandas Dataframe\")"
   ]
  },
  {
   "cell_type": "markdown",
   "metadata": {},
   "source": [
    "---"
   ]
  },
  {
   "cell_type": "markdown",
   "metadata": {},
   "source": [
    "## 2. Series"
   ]
  },
  {
   "cell_type": "markdown",
   "metadata": {},
   "source": [
    "Creating a series in pandas is really easy. We will start by creating a series of numbers and print it to see how it looks like.\n",
    "\n",
    "[`pandas.Series` documentation page](https://pandas.pydata.org/pandas-docs/stable/reference/api/pandas.Series.html)"
   ]
  },
  {
   "cell_type": "code",
   "execution_count": 2,
   "metadata": {},
   "outputs": [
    {
     "data": {
      "text/plain": [
       "0    10\n",
       "1     3\n",
       "2     5\n",
       "3     1\n",
       "4    12\n",
       "dtype: int64"
      ]
     },
     "execution_count": 2,
     "metadata": {},
     "output_type": "execute_result"
    }
   ],
   "source": [
    "s1 = pd.Series([10, 3, 5, 1, 12])\n",
    "s1"
   ]
  },
  {
   "cell_type": "markdown",
   "metadata": {},
   "source": [
    "We can see the values we have defined, and an index (automatically set in the range from 0 to the length of the data minus 1).\n",
    "\n",
    "Notice as well that the series has one and only one type of data, in this case `int64`. Pandas is quite clever inferring what kind of data is passed to it.\n",
    "\n",
    "Additonally it's possible to observe that the order of the data has been maintained."
   ]
  },
  {
   "cell_type": "markdown",
   "metadata": {},
   "source": [
    "Let's see what would have happened if we had passed it some floats, instead of integers: "
   ]
  },
  {
   "cell_type": "code",
   "execution_count": 3,
   "metadata": {},
   "outputs": [
    {
     "data": {
      "text/plain": [
       "0    0.5\n",
       "1    0.2\n",
       "2    5.2\n",
       "3    1.6\n",
       "4   -0.6\n",
       "dtype: float64"
      ]
     },
     "execution_count": 3,
     "metadata": {},
     "output_type": "execute_result"
    }
   ],
   "source": [
    "s2 = pd.Series([0.5, 0.2, 5.2, 1.6, -0.6])\n",
    "s2"
   ]
  },
  {
   "cell_type": "markdown",
   "metadata": {},
   "source": [
    "Ok, so now it's a `float64` series. "
   ]
  },
  {
   "cell_type": "markdown",
   "metadata": {},
   "source": [
    "Next up, the same, but this time with some strings: "
   ]
  },
  {
   "cell_type": "code",
   "execution_count": 4,
   "metadata": {},
   "outputs": [
    {
     "data": {
      "text/plain": [
       "0       Google\n",
       "1    Microsoft\n",
       "2     Facebook\n",
       "3        Apple\n",
       "dtype: object"
      ]
     },
     "execution_count": 4,
     "metadata": {},
     "output_type": "execute_result"
    }
   ],
   "source": [
    "s3 = pd.Series([\"Google\", \"Microsoft\", \"Facebook\", \"Apple\"])\n",
    "s3"
   ]
  },
  {
   "cell_type": "markdown",
   "metadata": {},
   "source": [
    "Ok, this time it was considered `object`. Objects are types of data that can point to different types of data as we may see in the example below."
   ]
  },
  {
   "cell_type": "markdown",
   "metadata": {},
   "source": [
    "Fair question: what happens if you pass it a mix of stuff? "
   ]
  },
  {
   "cell_type": "code",
   "execution_count": 5,
   "metadata": {},
   "outputs": [
    {
     "data": {
      "text/plain": [
       "0               1\n",
       "1             2.3\n",
       "2    omg a string\n",
       "3               2\n",
       "dtype: object"
      ]
     },
     "execution_count": 5,
     "metadata": {},
     "output_type": "execute_result"
    }
   ],
   "source": [
    "s4 = pd.Series([1, 2.3, \"omg a string\", 2])\n",
    "s4"
   ]
  },
  {
   "cell_type": "markdown",
   "metadata": {},
   "source": [
    "Well, when everything is mixed, it makes it an object! "
   ]
  },
  {
   "cell_type": "markdown",
   "metadata": {},
   "source": [
    "Series have a class attribute that shows us their data type. It's called dtype and can be used like this:"
   ]
  },
  {
   "cell_type": "code",
   "execution_count": 6,
   "metadata": {},
   "outputs": [
    {
     "data": {
      "text/plain": [
       "dtype('int64')"
      ]
     },
     "execution_count": 6,
     "metadata": {},
     "output_type": "execute_result"
    }
   ],
   "source": [
    "s1.dtype"
   ]
  },
  {
   "cell_type": "code",
   "execution_count": 7,
   "metadata": {},
   "outputs": [
    {
     "data": {
      "text/plain": [
       "dtype('O')"
      ]
     },
     "execution_count": 7,
     "metadata": {},
     "output_type": "execute_result"
    }
   ],
   "source": [
    "s4.dtype"
   ]
  },
  {
   "cell_type": "markdown",
   "metadata": {},
   "source": [
    "Note that series `s1` have the dtype integer and `s4` have the dtype object."
   ]
  },
  {
   "cell_type": "markdown",
   "metadata": {},
   "source": [
    "### Indexing "
   ]
  },
  {
   "cell_type": "markdown",
   "metadata": {},
   "source": [
    "You will have noticed that our Series so far have a bunch of numbers on the left _(0, 1, 2, 3...)_. \n",
    "\n",
    "Those values represent the index, which is used for (among other things) selecting. \n",
    "\n",
    "Even though by default the index is _0, 1, 2, 3..._ it is often useful to set a different index. \n",
    "\n",
    "Here is an example: "
   ]
  },
  {
   "cell_type": "code",
   "execution_count": 8,
   "metadata": {},
   "outputs": [
    {
     "data": {
      "text/plain": [
       "Google       Larry\n",
       "Microsoft     Bill\n",
       "Facebook      Mark\n",
       "Apple        Steve\n",
       "dtype: object"
      ]
     },
     "execution_count": 8,
     "metadata": {},
     "output_type": "execute_result"
    }
   ],
   "source": [
    "s5 = pd.Series(data=[\"Larry\", \"Bill\", \"Mark\", \"Steve\"], \n",
    "               index=[\"Google\", \"Microsoft\", \"Facebook\", \"Apple\"])\n",
    "s5"
   ]
  },
  {
   "cell_type": "markdown",
   "metadata": {},
   "source": [
    "We wanted `Bill` to have the index `Microsoft`. Now we can actually treat this a bit like a dictionary: "
   ]
  },
  {
   "cell_type": "code",
   "execution_count": 9,
   "metadata": {},
   "outputs": [
    {
     "data": {
      "text/plain": [
       "'Bill'"
      ]
     },
     "execution_count": 9,
     "metadata": {},
     "output_type": "execute_result"
    }
   ],
   "source": [
    "s5['Microsoft']"
   ]
  },
  {
   "cell_type": "markdown",
   "metadata": {},
   "source": [
    "We can also get all the values (still a bit like a dictionary): "
   ]
  },
  {
   "cell_type": "code",
   "execution_count": 10,
   "metadata": {},
   "outputs": [
    {
     "data": {
      "text/plain": [
       "array(['Larry', 'Bill', 'Mark', 'Steve'], dtype=object)"
      ]
     },
     "execution_count": 10,
     "metadata": {},
     "output_type": "execute_result"
    }
   ],
   "source": [
    "s5.values"
   ]
  },
  {
   "cell_type": "markdown",
   "metadata": {},
   "source": [
    "Or the indexes (like the `.keys()` of the dictionary) "
   ]
  },
  {
   "cell_type": "code",
   "execution_count": 11,
   "metadata": {},
   "outputs": [
    {
     "data": {
      "text/plain": [
       "Index(['Google', 'Microsoft', 'Facebook', 'Apple'], dtype='object')"
      ]
     },
     "execution_count": 11,
     "metadata": {},
     "output_type": "execute_result"
    }
   ],
   "source": [
    "s5.index"
   ]
  },
  {
   "cell_type": "markdown",
   "metadata": {},
   "source": [
    "Speaking of dictionaries, can I make a Pandas Series from a dictionary? "
   ]
  },
  {
   "cell_type": "code",
   "execution_count": 12,
   "metadata": {},
   "outputs": [
    {
     "data": {
      "text/plain": [
       "Google       Larry\n",
       "Microsoft     Bill\n",
       "Facebook      Mark\n",
       "Apple        Steve\n",
       "dtype: object"
      ]
     },
     "execution_count": 12,
     "metadata": {},
     "output_type": "execute_result"
    }
   ],
   "source": [
    "my_dict = {\"Google\": \"Larry\",\n",
    "           \"Microsoft\": \"Bill\",\n",
    "           \"Facebook\": \"Mark\",\n",
    "           \"Apple\": \"Steve\"}\n",
    "\n",
    "s6 = pd.Series(my_dict)\n",
    "s6"
   ]
  },
  {
   "cell_type": "markdown",
   "metadata": {},
   "source": [
    "The Series class will automatically use the keys of the dictionary as indexes of the series and its correponding data as the data of the series as well. The interesting part of using this is that we now are able to have some functionalities that we usually don't have in dictionaries."
   ]
  },
  {
   "cell_type": "code",
   "execution_count": 13,
   "metadata": {},
   "outputs": [
    {
     "name": "stdout",
     "output_type": "stream",
     "text": [
      "Illegal operation\n"
     ]
    }
   ],
   "source": [
    "try:\n",
    "    my_dict[-1:]\n",
    "    \n",
    "except:\n",
    "    print(\"Illegal operation\")"
   ]
  },
  {
   "cell_type": "code",
   "execution_count": 14,
   "metadata": {},
   "outputs": [
    {
     "data": {
      "text/plain": [
       "Apple    Steve\n",
       "dtype: object"
      ]
     },
     "execution_count": 14,
     "metadata": {},
     "output_type": "execute_result"
    }
   ],
   "source": [
    "s5[-1:]"
   ]
  },
  {
   "cell_type": "markdown",
   "metadata": {},
   "source": [
    "In newer versions of pandas, instead of using the method `.values` they recommend to use one of the following depending on whether you need a reference to the underlying data or a NumPy array, respectively: `.array` and `.to_numpy`.\n",
    "The reason for that is that `.values` sometimes gives you an numpy array and other times it gives you an ExtensionArray and with the new methods there is a clear understanding to which you want to return."
   ]
  },
  {
   "cell_type": "markdown",
   "metadata": {},
   "source": [
    "If you use the method `.array` in the series `s5`, you get a 'PandasArray' as you can see (this method works for Series and Index)."
   ]
  },
  {
   "cell_type": "code",
   "execution_count": 15,
   "metadata": {},
   "outputs": [
    {
     "data": {
      "text/plain": [
       "<PandasArray>\n",
       "['Larry', 'Bill', 'Mark', 'Steve']\n",
       "Length: 4, dtype: object"
      ]
     },
     "execution_count": 15,
     "metadata": {},
     "output_type": "execute_result"
    }
   ],
   "source": [
    "s5.array"
   ]
  },
  {
   "cell_type": "code",
   "execution_count": 16,
   "metadata": {},
   "outputs": [
    {
     "data": {
      "text/plain": [
       "<PandasArray>\n",
       "['Google', 'Microsoft', 'Facebook', 'Apple']\n",
       "Length: 4, dtype: object"
      ]
     },
     "execution_count": 16,
     "metadata": {},
     "output_type": "execute_result"
    }
   ],
   "source": [
    "s5.index.array"
   ]
  },
  {
   "cell_type": "markdown",
   "metadata": {},
   "source": [
    "If you have a different type of data, like `period`, when you use the `.array` method, you get a 'PeriodArray'."
   ]
  },
  {
   "cell_type": "code",
   "execution_count": 17,
   "metadata": {},
   "outputs": [],
   "source": [
    "s6 = pd.period_range('2000', periods=4)"
   ]
  },
  {
   "cell_type": "code",
   "execution_count": 18,
   "metadata": {},
   "outputs": [
    {
     "data": {
      "text/plain": [
       "<PeriodArray>\n",
       "['2000-01-01', '2000-01-02', '2000-01-03', '2000-01-04']\n",
       "Length: 4, dtype: period[D]"
      ]
     },
     "execution_count": 18,
     "metadata": {},
     "output_type": "execute_result"
    }
   ],
   "source": [
    "s6.array"
   ]
  },
  {
   "cell_type": "markdown",
   "metadata": {},
   "source": [
    "If you need an actual numpy array, you can do:"
   ]
  },
  {
   "cell_type": "code",
   "execution_count": 19,
   "metadata": {},
   "outputs": [
    {
     "data": {
      "text/plain": [
       "array(['Larry', 'Bill', 'Mark', 'Steve'], dtype=object)"
      ]
     },
     "execution_count": 19,
     "metadata": {},
     "output_type": "execute_result"
    }
   ],
   "source": [
    "s5.to_numpy()"
   ]
  },
  {
   "cell_type": "code",
   "execution_count": 20,
   "metadata": {},
   "outputs": [
    {
     "data": {
      "text/plain": [
       "array(['Google', 'Microsoft', 'Facebook', 'Apple'], dtype=object)"
      ]
     },
     "execution_count": 20,
     "metadata": {},
     "output_type": "execute_result"
    }
   ],
   "source": [
    "s5.index.to_numpy()"
   ]
  },
  {
   "cell_type": "markdown",
   "metadata": {},
   "source": [
    "#### Key points:\n",
    "\n",
    "- Each series has only one data type (even if it is a more inclusive one, like object).\n",
    "- A list of indexes might be used (it has to have the same dimension).\n",
    "- It is possible to use dictionaries to create series.\n",
    "- There is a various methods to use to get info from a Series."
   ]
  },
  {
   "cell_type": "markdown",
   "metadata": {},
   "source": [
    "---"
   ]
  },
  {
   "cell_type": "markdown",
   "metadata": {},
   "source": [
    "## 3. DataFrames"
   ]
  },
  {
   "cell_type": "markdown",
   "metadata": {},
   "source": [
    "As mentioned previously, a dataframe is a tabular structure (think \"Excel sheet\"). This will become clear with the following examples.\n",
    "\n",
    "[`pandas.DataFrame` documentation page](https://pandas.pydata.org/pandas-docs/stable/generated/pandas.DataFrame.html)"
   ]
  },
  {
   "cell_type": "markdown",
   "metadata": {},
   "source": [
    "Let's make our first DataFrame: "
   ]
  },
  {
   "cell_type": "code",
   "execution_count": 21,
   "metadata": {},
   "outputs": [],
   "source": [
    "df1 = pd.DataFrame([10,122,1])"
   ]
  },
  {
   "cell_type": "code",
   "execution_count": 22,
   "metadata": {},
   "outputs": [
    {
     "data": {
      "text/html": [
       "<div>\n",
       "<style scoped>\n",
       "    .dataframe tbody tr th:only-of-type {\n",
       "        vertical-align: middle;\n",
       "    }\n",
       "\n",
       "    .dataframe tbody tr th {\n",
       "        vertical-align: top;\n",
       "    }\n",
       "\n",
       "    .dataframe thead th {\n",
       "        text-align: right;\n",
       "    }\n",
       "</style>\n",
       "<table border=\"1\" class=\"dataframe\">\n",
       "  <thead>\n",
       "    <tr style=\"text-align: right;\">\n",
       "      <th></th>\n",
       "      <th>0</th>\n",
       "    </tr>\n",
       "  </thead>\n",
       "  <tbody>\n",
       "    <tr>\n",
       "      <th>0</th>\n",
       "      <td>10</td>\n",
       "    </tr>\n",
       "    <tr>\n",
       "      <th>1</th>\n",
       "      <td>122</td>\n",
       "    </tr>\n",
       "    <tr>\n",
       "      <th>2</th>\n",
       "      <td>1</td>\n",
       "    </tr>\n",
       "  </tbody>\n",
       "</table>\n",
       "</div>"
      ],
      "text/plain": [
       "     0\n",
       "0   10\n",
       "1  122\n",
       "2    1"
      ]
     },
     "execution_count": 22,
     "metadata": {},
     "output_type": "execute_result"
    }
   ],
   "source": [
    "df1"
   ]
  },
  {
   "cell_type": "markdown",
   "metadata": {},
   "source": [
    "This first dataframe is a really simple one. We can see that in this case we have a column and an index. This shows the tabular structure. But the next case will highlight this even further."
   ]
  },
  {
   "cell_type": "code",
   "execution_count": 23,
   "metadata": {},
   "outputs": [],
   "source": [
    "df2 = pd.DataFrame([[1,   2,   3,    7],  # ignore the weird spacing, it's just to be clear we have 3 lists of 4 \n",
    "                    [4.2, 6.1, 8.9, -4.1], \n",
    "                    [\"a\", \"b\", \"c\", \"z\"] ])"
   ]
  },
  {
   "cell_type": "code",
   "execution_count": 24,
   "metadata": {},
   "outputs": [
    {
     "data": {
      "text/html": [
       "<div>\n",
       "<style scoped>\n",
       "    .dataframe tbody tr th:only-of-type {\n",
       "        vertical-align: middle;\n",
       "    }\n",
       "\n",
       "    .dataframe tbody tr th {\n",
       "        vertical-align: top;\n",
       "    }\n",
       "\n",
       "    .dataframe thead th {\n",
       "        text-align: right;\n",
       "    }\n",
       "</style>\n",
       "<table border=\"1\" class=\"dataframe\">\n",
       "  <thead>\n",
       "    <tr style=\"text-align: right;\">\n",
       "      <th></th>\n",
       "      <th>0</th>\n",
       "      <th>1</th>\n",
       "      <th>2</th>\n",
       "      <th>3</th>\n",
       "    </tr>\n",
       "  </thead>\n",
       "  <tbody>\n",
       "    <tr>\n",
       "      <th>0</th>\n",
       "      <td>1</td>\n",
       "      <td>2</td>\n",
       "      <td>3</td>\n",
       "      <td>7</td>\n",
       "    </tr>\n",
       "    <tr>\n",
       "      <th>1</th>\n",
       "      <td>4.2</td>\n",
       "      <td>6.1</td>\n",
       "      <td>8.9</td>\n",
       "      <td>-4.1</td>\n",
       "    </tr>\n",
       "    <tr>\n",
       "      <th>2</th>\n",
       "      <td>a</td>\n",
       "      <td>b</td>\n",
       "      <td>c</td>\n",
       "      <td>z</td>\n",
       "    </tr>\n",
       "  </tbody>\n",
       "</table>\n",
       "</div>"
      ],
      "text/plain": [
       "     0    1    2    3\n",
       "0    1    2    3    7\n",
       "1  4.2  6.1  8.9 -4.1\n",
       "2    a    b    c    z"
      ]
     },
     "execution_count": 24,
     "metadata": {},
     "output_type": "execute_result"
    }
   ],
   "source": [
    "df2"
   ]
  },
  {
   "cell_type": "markdown",
   "metadata": {},
   "source": [
    "Notice that the way this dataframe is being created leads to a row of values for each list of data provided. It is also possible to provide a list of names for each of the columns..."
   ]
  },
  {
   "cell_type": "code",
   "execution_count": 25,
   "metadata": {},
   "outputs": [],
   "source": [
    "df3 = pd.DataFrame([[1,   2,   3,    7], \n",
    "                    [4.2, 6.1, 8.9, -4.1], \n",
    "                    [\"a\", \"b\", \"c\", \"z\"] ],\n",
    "                    columns=[\"col_1\", \"col_2\", \"col_3\", \"col_4\"])   # <-- The column names! "
   ]
  },
  {
   "cell_type": "code",
   "execution_count": 26,
   "metadata": {},
   "outputs": [
    {
     "data": {
      "text/html": [
       "<div>\n",
       "<style scoped>\n",
       "    .dataframe tbody tr th:only-of-type {\n",
       "        vertical-align: middle;\n",
       "    }\n",
       "\n",
       "    .dataframe tbody tr th {\n",
       "        vertical-align: top;\n",
       "    }\n",
       "\n",
       "    .dataframe thead th {\n",
       "        text-align: right;\n",
       "    }\n",
       "</style>\n",
       "<table border=\"1\" class=\"dataframe\">\n",
       "  <thead>\n",
       "    <tr style=\"text-align: right;\">\n",
       "      <th></th>\n",
       "      <th>col_1</th>\n",
       "      <th>col_2</th>\n",
       "      <th>col_3</th>\n",
       "      <th>col_4</th>\n",
       "    </tr>\n",
       "  </thead>\n",
       "  <tbody>\n",
       "    <tr>\n",
       "      <th>0</th>\n",
       "      <td>1</td>\n",
       "      <td>2</td>\n",
       "      <td>3</td>\n",
       "      <td>7</td>\n",
       "    </tr>\n",
       "    <tr>\n",
       "      <th>1</th>\n",
       "      <td>4.2</td>\n",
       "      <td>6.1</td>\n",
       "      <td>8.9</td>\n",
       "      <td>-4.1</td>\n",
       "    </tr>\n",
       "    <tr>\n",
       "      <th>2</th>\n",
       "      <td>a</td>\n",
       "      <td>b</td>\n",
       "      <td>c</td>\n",
       "      <td>z</td>\n",
       "    </tr>\n",
       "  </tbody>\n",
       "</table>\n",
       "</div>"
      ],
      "text/plain": [
       "  col_1 col_2 col_3 col_4\n",
       "0     1     2     3     7\n",
       "1   4.2   6.1   8.9  -4.1\n",
       "2     a     b     c     z"
      ]
     },
     "execution_count": 26,
     "metadata": {},
     "output_type": "execute_result"
    }
   ],
   "source": [
    "df3"
   ]
  },
  {
   "cell_type": "markdown",
   "metadata": {},
   "source": [
    "as well as for each of the rows:"
   ]
  },
  {
   "cell_type": "code",
   "execution_count": 27,
   "metadata": {},
   "outputs": [],
   "source": [
    "df4 = pd.DataFrame([[1,   2,   3,    7], \n",
    "                    [4.2, 6.1, 8.9, -4.1], \n",
    "                    [\"a\", \"b\", \"c\", \"z\"] ],\n",
    "                    columns=[\"col_1\", \"col_2\", \"col_3\", \"col_4\"],  # <-- The column names\n",
    "                    index=[\"row_1\", \"row_2\", \"row_3\"])   # <-- The row names"
   ]
  },
  {
   "cell_type": "code",
   "execution_count": 28,
   "metadata": {},
   "outputs": [
    {
     "data": {
      "text/html": [
       "<div>\n",
       "<style scoped>\n",
       "    .dataframe tbody tr th:only-of-type {\n",
       "        vertical-align: middle;\n",
       "    }\n",
       "\n",
       "    .dataframe tbody tr th {\n",
       "        vertical-align: top;\n",
       "    }\n",
       "\n",
       "    .dataframe thead th {\n",
       "        text-align: right;\n",
       "    }\n",
       "</style>\n",
       "<table border=\"1\" class=\"dataframe\">\n",
       "  <thead>\n",
       "    <tr style=\"text-align: right;\">\n",
       "      <th></th>\n",
       "      <th>col_1</th>\n",
       "      <th>col_2</th>\n",
       "      <th>col_3</th>\n",
       "      <th>col_4</th>\n",
       "    </tr>\n",
       "  </thead>\n",
       "  <tbody>\n",
       "    <tr>\n",
       "      <th>row_1</th>\n",
       "      <td>1</td>\n",
       "      <td>2</td>\n",
       "      <td>3</td>\n",
       "      <td>7</td>\n",
       "    </tr>\n",
       "    <tr>\n",
       "      <th>row_2</th>\n",
       "      <td>4.2</td>\n",
       "      <td>6.1</td>\n",
       "      <td>8.9</td>\n",
       "      <td>-4.1</td>\n",
       "    </tr>\n",
       "    <tr>\n",
       "      <th>row_3</th>\n",
       "      <td>a</td>\n",
       "      <td>b</td>\n",
       "      <td>c</td>\n",
       "      <td>z</td>\n",
       "    </tr>\n",
       "  </tbody>\n",
       "</table>\n",
       "</div>"
      ],
      "text/plain": [
       "      col_1 col_2 col_3 col_4\n",
       "row_1     1     2     3     7\n",
       "row_2   4.2   6.1   8.9  -4.1\n",
       "row_3     a     b     c     z"
      ]
     },
     "execution_count": 28,
     "metadata": {},
     "output_type": "execute_result"
    }
   ],
   "source": [
    "df4"
   ]
  },
  {
   "cell_type": "markdown",
   "metadata": {},
   "source": [
    "So far we've been creating DataFrames from lists, like so: "
   ]
  },
  {
   "cell_type": "code",
   "execution_count": 29,
   "metadata": {},
   "outputs": [],
   "source": [
    "company = [\"Google\", \"Microsoft\", \"Facebook\", \"Apple\"]\n",
    "founder_name = [\"Larry\", \"Bill\", \"Mark\", \"Steve\"]\n",
    "founder_surname = [\"Page\", \"Gates\", \"Zuckerberg\", \"Jobs\"]\n",
    "\n",
    "df5 = pd.DataFrame( [ company, founder_name, founder_surname])"
   ]
  },
  {
   "cell_type": "code",
   "execution_count": 30,
   "metadata": {},
   "outputs": [
    {
     "data": {
      "text/html": [
       "<div>\n",
       "<style scoped>\n",
       "    .dataframe tbody tr th:only-of-type {\n",
       "        vertical-align: middle;\n",
       "    }\n",
       "\n",
       "    .dataframe tbody tr th {\n",
       "        vertical-align: top;\n",
       "    }\n",
       "\n",
       "    .dataframe thead th {\n",
       "        text-align: right;\n",
       "    }\n",
       "</style>\n",
       "<table border=\"1\" class=\"dataframe\">\n",
       "  <thead>\n",
       "    <tr style=\"text-align: right;\">\n",
       "      <th></th>\n",
       "      <th>0</th>\n",
       "      <th>1</th>\n",
       "      <th>2</th>\n",
       "      <th>3</th>\n",
       "    </tr>\n",
       "  </thead>\n",
       "  <tbody>\n",
       "    <tr>\n",
       "      <th>0</th>\n",
       "      <td>Google</td>\n",
       "      <td>Microsoft</td>\n",
       "      <td>Facebook</td>\n",
       "      <td>Apple</td>\n",
       "    </tr>\n",
       "    <tr>\n",
       "      <th>1</th>\n",
       "      <td>Larry</td>\n",
       "      <td>Bill</td>\n",
       "      <td>Mark</td>\n",
       "      <td>Steve</td>\n",
       "    </tr>\n",
       "    <tr>\n",
       "      <th>2</th>\n",
       "      <td>Page</td>\n",
       "      <td>Gates</td>\n",
       "      <td>Zuckerberg</td>\n",
       "      <td>Jobs</td>\n",
       "    </tr>\n",
       "  </tbody>\n",
       "</table>\n",
       "</div>"
      ],
      "text/plain": [
       "        0          1           2      3\n",
       "0  Google  Microsoft    Facebook  Apple\n",
       "1   Larry       Bill        Mark  Steve\n",
       "2    Page      Gates  Zuckerberg   Jobs"
      ]
     },
     "execution_count": 30,
     "metadata": {},
     "output_type": "execute_result"
    }
   ],
   "source": [
    "df5"
   ]
  },
  {
   "cell_type": "markdown",
   "metadata": {},
   "source": [
    "But we can also do something cool, which is to make a dictionary with the lists as values, where the keys will be the column names. Let's create the dictionary first, using the lists we have defined above: "
   ]
  },
  {
   "cell_type": "code",
   "execution_count": 31,
   "metadata": {},
   "outputs": [],
   "source": [
    "tech_companies_dictionary = {\n",
    "    'company': [\"Google\", \"Microsoft\", \"Facebook\", \"Apple\"],\n",
    "    'founder_name': [\"Larry\", \"Bill\", \"Mark\", \"Steve\"],\n",
    "    'founder_surname': [\"Page\", \"Gates\", \"Zuckerberg\", \"Jobs\"],\n",
    "}"
   ]
  },
  {
   "cell_type": "markdown",
   "metadata": {},
   "source": [
    "This is super readable, right? "
   ]
  },
  {
   "cell_type": "code",
   "execution_count": 32,
   "metadata": {},
   "outputs": [
    {
     "data": {
      "text/plain": [
       "{'company': ['Google', 'Microsoft', 'Facebook', 'Apple'],\n",
       " 'founder_name': ['Larry', 'Bill', 'Mark', 'Steve'],\n",
       " 'founder_surname': ['Page', 'Gates', 'Zuckerberg', 'Jobs']}"
      ]
     },
     "execution_count": 32,
     "metadata": {},
     "output_type": "execute_result"
    }
   ],
   "source": [
    "tech_companies_dictionary"
   ]
  },
  {
   "cell_type": "markdown",
   "metadata": {},
   "source": [
    "Now we can simply pass this to a Pandas DataFrame: "
   ]
  },
  {
   "cell_type": "code",
   "execution_count": 33,
   "metadata": {},
   "outputs": [],
   "source": [
    "df6 = pd.DataFrame(tech_companies_dictionary)"
   ]
  },
  {
   "cell_type": "code",
   "execution_count": 34,
   "metadata": {},
   "outputs": [
    {
     "data": {
      "text/html": [
       "<div>\n",
       "<style scoped>\n",
       "    .dataframe tbody tr th:only-of-type {\n",
       "        vertical-align: middle;\n",
       "    }\n",
       "\n",
       "    .dataframe tbody tr th {\n",
       "        vertical-align: top;\n",
       "    }\n",
       "\n",
       "    .dataframe thead th {\n",
       "        text-align: right;\n",
       "    }\n",
       "</style>\n",
       "<table border=\"1\" class=\"dataframe\">\n",
       "  <thead>\n",
       "    <tr style=\"text-align: right;\">\n",
       "      <th></th>\n",
       "      <th>company</th>\n",
       "      <th>founder_name</th>\n",
       "      <th>founder_surname</th>\n",
       "    </tr>\n",
       "  </thead>\n",
       "  <tbody>\n",
       "    <tr>\n",
       "      <th>0</th>\n",
       "      <td>Google</td>\n",
       "      <td>Larry</td>\n",
       "      <td>Page</td>\n",
       "    </tr>\n",
       "    <tr>\n",
       "      <th>1</th>\n",
       "      <td>Microsoft</td>\n",
       "      <td>Bill</td>\n",
       "      <td>Gates</td>\n",
       "    </tr>\n",
       "    <tr>\n",
       "      <th>2</th>\n",
       "      <td>Facebook</td>\n",
       "      <td>Mark</td>\n",
       "      <td>Zuckerberg</td>\n",
       "    </tr>\n",
       "    <tr>\n",
       "      <th>3</th>\n",
       "      <td>Apple</td>\n",
       "      <td>Steve</td>\n",
       "      <td>Jobs</td>\n",
       "    </tr>\n",
       "  </tbody>\n",
       "</table>\n",
       "</div>"
      ],
      "text/plain": [
       "     company founder_name founder_surname\n",
       "0     Google        Larry            Page\n",
       "1  Microsoft         Bill           Gates\n",
       "2   Facebook         Mark      Zuckerberg\n",
       "3      Apple        Steve            Jobs"
      ]
     },
     "execution_count": 34,
     "metadata": {},
     "output_type": "execute_result"
    }
   ],
   "source": [
    "df6"
   ]
  },
  {
   "cell_type": "markdown",
   "metadata": {},
   "source": [
    "By passing a dictionary as input to the creation of the dataframe, the dataframe is now able to use the key of the dictionary as the name of the column and present the data along a column, instead of along a row. This is becoming closer to how information is usually presented."
   ]
  },
  {
   "cell_type": "markdown",
   "metadata": {},
   "source": [
    "----"
   ]
  },
  {
   "cell_type": "markdown",
   "metadata": {},
   "source": [
    "### Putting it all together "
   ]
  },
  {
   "cell_type": "markdown",
   "metadata": {},
   "source": [
    "Let's do the same thing again, using everything we've learned so far:  "
   ]
  },
  {
   "cell_type": "code",
   "execution_count": 35,
   "metadata": {},
   "outputs": [],
   "source": [
    "# Let's say we have these lists somewhere on our computer: \n",
    "founder_names = [\"Larry\", \"Bill\", \"Mark\", \"Steve\", \"Larry\", \"Reed\"]\n",
    "founder_surnames = [\"Page\", \"Gates\", \"Zuckerberg\", \"Jobs\", \"Ellison\", \"Hastings\"]\n",
    "company = [\"Google\", \"Microsoft\", \"Facebook\", \"Apple\", \"Oracle\", \"Netflix\"]"
   ]
  },
  {
   "cell_type": "markdown",
   "metadata": {},
   "source": [
    "Let's make some Series, using the company name as index: "
   ]
  },
  {
   "cell_type": "code",
   "execution_count": 36,
   "metadata": {},
   "outputs": [],
   "source": [
    "series_of_founder_names = pd.Series(data=founder_names, # <-- data \n",
    "                                    index=company)      # <-- index "
   ]
  },
  {
   "cell_type": "code",
   "execution_count": 37,
   "metadata": {},
   "outputs": [
    {
     "data": {
      "text/plain": [
       "Google       Larry\n",
       "Microsoft     Bill\n",
       "Facebook      Mark\n",
       "Apple        Steve\n",
       "Oracle       Larry\n",
       "Netflix       Reed\n",
       "dtype: object"
      ]
     },
     "execution_count": 37,
     "metadata": {},
     "output_type": "execute_result"
    }
   ],
   "source": [
    "series_of_founder_names"
   ]
  },
  {
   "cell_type": "markdown",
   "metadata": {},
   "source": [
    "Same thing, this time for surnames: "
   ]
  },
  {
   "cell_type": "code",
   "execution_count": 38,
   "metadata": {},
   "outputs": [],
   "source": [
    "series_of_founder_surnames = pd.Series(data=founder_surnames, # <-- different data\n",
    "                                    index=company)        # <-- same index "
   ]
  },
  {
   "cell_type": "code",
   "execution_count": 39,
   "metadata": {},
   "outputs": [
    {
     "data": {
      "text/plain": [
       "Google             Page\n",
       "Microsoft         Gates\n",
       "Facebook     Zuckerberg\n",
       "Apple              Jobs\n",
       "Oracle          Ellison\n",
       "Netflix        Hastings\n",
       "dtype: object"
      ]
     },
     "execution_count": 39,
     "metadata": {},
     "output_type": "execute_result"
    }
   ],
   "source": [
    "series_of_founder_surnames"
   ]
  },
  {
   "cell_type": "markdown",
   "metadata": {},
   "source": [
    "Now with these two Series we can create a dataframe! Pandas will notice that they have the same index, and will give the DataFrame that index: "
   ]
  },
  {
   "cell_type": "code",
   "execution_count": 40,
   "metadata": {},
   "outputs": [],
   "source": [
    "df7 = pd.DataFrame({'founder_name': series_of_founder_names,  \n",
    "                    'founder_surname': series_of_founder_surnames})"
   ]
  },
  {
   "cell_type": "code",
   "execution_count": 41,
   "metadata": {},
   "outputs": [
    {
     "data": {
      "text/html": [
       "<div>\n",
       "<style scoped>\n",
       "    .dataframe tbody tr th:only-of-type {\n",
       "        vertical-align: middle;\n",
       "    }\n",
       "\n",
       "    .dataframe tbody tr th {\n",
       "        vertical-align: top;\n",
       "    }\n",
       "\n",
       "    .dataframe thead th {\n",
       "        text-align: right;\n",
       "    }\n",
       "</style>\n",
       "<table border=\"1\" class=\"dataframe\">\n",
       "  <thead>\n",
       "    <tr style=\"text-align: right;\">\n",
       "      <th></th>\n",
       "      <th>founder_name</th>\n",
       "      <th>founder_surname</th>\n",
       "    </tr>\n",
       "  </thead>\n",
       "  <tbody>\n",
       "    <tr>\n",
       "      <th>Google</th>\n",
       "      <td>Larry</td>\n",
       "      <td>Page</td>\n",
       "    </tr>\n",
       "    <tr>\n",
       "      <th>Microsoft</th>\n",
       "      <td>Bill</td>\n",
       "      <td>Gates</td>\n",
       "    </tr>\n",
       "    <tr>\n",
       "      <th>Facebook</th>\n",
       "      <td>Mark</td>\n",
       "      <td>Zuckerberg</td>\n",
       "    </tr>\n",
       "    <tr>\n",
       "      <th>Apple</th>\n",
       "      <td>Steve</td>\n",
       "      <td>Jobs</td>\n",
       "    </tr>\n",
       "    <tr>\n",
       "      <th>Oracle</th>\n",
       "      <td>Larry</td>\n",
       "      <td>Ellison</td>\n",
       "    </tr>\n",
       "    <tr>\n",
       "      <th>Netflix</th>\n",
       "      <td>Reed</td>\n",
       "      <td>Hastings</td>\n",
       "    </tr>\n",
       "  </tbody>\n",
       "</table>\n",
       "</div>"
      ],
      "text/plain": [
       "          founder_name founder_surname\n",
       "Google           Larry            Page\n",
       "Microsoft         Bill           Gates\n",
       "Facebook          Mark      Zuckerberg\n",
       "Apple            Steve            Jobs\n",
       "Oracle           Larry         Ellison\n",
       "Netflix           Reed        Hastings"
      ]
     },
     "execution_count": 41,
     "metadata": {},
     "output_type": "execute_result"
    }
   ],
   "source": [
    "df7"
   ]
  },
  {
   "cell_type": "markdown",
   "metadata": {},
   "source": [
    "By passing series (in this case sharing the index) as values of a dictionary, the model is able to use the key value as column name and the index as the row name. The column and index(row) are also acessible, as will be shown below."
   ]
  },
  {
   "cell_type": "markdown",
   "metadata": {},
   "source": [
    "### What if my data isn't a Pandas Series?"
   ]
  },
  {
   "cell_type": "markdown",
   "metadata": {},
   "source": [
    "It will often happen that you have a list or array:"
   ]
  },
  {
   "cell_type": "code",
   "execution_count": 42,
   "metadata": {},
   "outputs": [],
   "source": [
    "number_of_employees = [73992, 124000, 20658, 123000, 138000, 5400]"
   ]
  },
  {
   "cell_type": "code",
   "execution_count": 43,
   "metadata": {},
   "outputs": [],
   "source": [
    "series_of_number_employees = pd.Series(data=number_of_employees) # <-- data, no index "
   ]
  },
  {
   "cell_type": "markdown",
   "metadata": {},
   "source": [
    "Now, you may be tempted to add this directly to the DataFrame, and Pandas won't stop you:"
   ]
  },
  {
   "cell_type": "code",
   "execution_count": 44,
   "metadata": {},
   "outputs": [],
   "source": [
    "df8 = pd.DataFrame({'founder_name': series_of_founder_names,  \n",
    "                    'founder_surname': series_of_founder_surnames,\n",
    "                    'number_employees': series_of_number_employees})"
   ]
  },
  {
   "cell_type": "code",
   "execution_count": 45,
   "metadata": {},
   "outputs": [
    {
     "data": {
      "text/html": [
       "<div>\n",
       "<style scoped>\n",
       "    .dataframe tbody tr th:only-of-type {\n",
       "        vertical-align: middle;\n",
       "    }\n",
       "\n",
       "    .dataframe tbody tr th {\n",
       "        vertical-align: top;\n",
       "    }\n",
       "\n",
       "    .dataframe thead th {\n",
       "        text-align: right;\n",
       "    }\n",
       "</style>\n",
       "<table border=\"1\" class=\"dataframe\">\n",
       "  <thead>\n",
       "    <tr style=\"text-align: right;\">\n",
       "      <th></th>\n",
       "      <th>founder_name</th>\n",
       "      <th>founder_surname</th>\n",
       "      <th>number_employees</th>\n",
       "    </tr>\n",
       "  </thead>\n",
       "  <tbody>\n",
       "    <tr>\n",
       "      <th>0</th>\n",
       "      <td>NaN</td>\n",
       "      <td>NaN</td>\n",
       "      <td>73992.0</td>\n",
       "    </tr>\n",
       "    <tr>\n",
       "      <th>1</th>\n",
       "      <td>NaN</td>\n",
       "      <td>NaN</td>\n",
       "      <td>124000.0</td>\n",
       "    </tr>\n",
       "    <tr>\n",
       "      <th>2</th>\n",
       "      <td>NaN</td>\n",
       "      <td>NaN</td>\n",
       "      <td>20658.0</td>\n",
       "    </tr>\n",
       "    <tr>\n",
       "      <th>3</th>\n",
       "      <td>NaN</td>\n",
       "      <td>NaN</td>\n",
       "      <td>123000.0</td>\n",
       "    </tr>\n",
       "    <tr>\n",
       "      <th>4</th>\n",
       "      <td>NaN</td>\n",
       "      <td>NaN</td>\n",
       "      <td>138000.0</td>\n",
       "    </tr>\n",
       "    <tr>\n",
       "      <th>5</th>\n",
       "      <td>NaN</td>\n",
       "      <td>NaN</td>\n",
       "      <td>5400.0</td>\n",
       "    </tr>\n",
       "    <tr>\n",
       "      <th>Apple</th>\n",
       "      <td>Steve</td>\n",
       "      <td>Jobs</td>\n",
       "      <td>NaN</td>\n",
       "    </tr>\n",
       "    <tr>\n",
       "      <th>Facebook</th>\n",
       "      <td>Mark</td>\n",
       "      <td>Zuckerberg</td>\n",
       "      <td>NaN</td>\n",
       "    </tr>\n",
       "    <tr>\n",
       "      <th>Google</th>\n",
       "      <td>Larry</td>\n",
       "      <td>Page</td>\n",
       "      <td>NaN</td>\n",
       "    </tr>\n",
       "    <tr>\n",
       "      <th>Microsoft</th>\n",
       "      <td>Bill</td>\n",
       "      <td>Gates</td>\n",
       "      <td>NaN</td>\n",
       "    </tr>\n",
       "    <tr>\n",
       "      <th>Netflix</th>\n",
       "      <td>Reed</td>\n",
       "      <td>Hastings</td>\n",
       "      <td>NaN</td>\n",
       "    </tr>\n",
       "    <tr>\n",
       "      <th>Oracle</th>\n",
       "      <td>Larry</td>\n",
       "      <td>Ellison</td>\n",
       "      <td>NaN</td>\n",
       "    </tr>\n",
       "  </tbody>\n",
       "</table>\n",
       "</div>"
      ],
      "text/plain": [
       "          founder_name founder_surname  number_employees\n",
       "0                  NaN             NaN           73992.0\n",
       "1                  NaN             NaN          124000.0\n",
       "2                  NaN             NaN           20658.0\n",
       "3                  NaN             NaN          123000.0\n",
       "4                  NaN             NaN          138000.0\n",
       "5                  NaN             NaN            5400.0\n",
       "Apple            Steve            Jobs               NaN\n",
       "Facebook          Mark      Zuckerberg               NaN\n",
       "Google           Larry            Page               NaN\n",
       "Microsoft         Bill           Gates               NaN\n",
       "Netflix           Reed        Hastings               NaN\n",
       "Oracle           Larry         Ellison               NaN"
      ]
     },
     "execution_count": 45,
     "metadata": {},
     "output_type": "execute_result"
    }
   ],
   "source": [
    "df8"
   ]
  },
  {
   "cell_type": "markdown",
   "metadata": {},
   "source": [
    "⚠️ You should however notice that this is a **lot more dangerous**, as you are making the assumption that the rows are in the same order as the list.\n",
    "\n",
    "In practice, you will probably end up doing this out of time constraints, or reading other people's code where lists are added directly without an index. But remember: if you have an index you are safer."
   ]
  },
  {
   "cell_type": "markdown",
   "metadata": {},
   "source": [
    "-----"
   ]
  },
  {
   "cell_type": "markdown",
   "metadata": {},
   "source": [
    "### Getting the index and column values "
   ]
  },
  {
   "cell_type": "markdown",
   "metadata": {},
   "source": [
    "This dataframe object contains some cool attributes, among which are the following: "
   ]
  },
  {
   "cell_type": "markdown",
   "metadata": {},
   "source": [
    "Get index, with `.index`: "
   ]
  },
  {
   "cell_type": "code",
   "execution_count": 46,
   "metadata": {},
   "outputs": [
    {
     "data": {
      "text/html": [
       "<div>\n",
       "<style scoped>\n",
       "    .dataframe tbody tr th:only-of-type {\n",
       "        vertical-align: middle;\n",
       "    }\n",
       "\n",
       "    .dataframe tbody tr th {\n",
       "        vertical-align: top;\n",
       "    }\n",
       "\n",
       "    .dataframe thead th {\n",
       "        text-align: right;\n",
       "    }\n",
       "</style>\n",
       "<table border=\"1\" class=\"dataframe\">\n",
       "  <thead>\n",
       "    <tr style=\"text-align: right;\">\n",
       "      <th></th>\n",
       "      <th>founder_name</th>\n",
       "      <th>founder_surname</th>\n",
       "      <th>number_employees</th>\n",
       "    </tr>\n",
       "  </thead>\n",
       "  <tbody>\n",
       "    <tr>\n",
       "      <th>0</th>\n",
       "      <td>NaN</td>\n",
       "      <td>NaN</td>\n",
       "      <td>73992.0</td>\n",
       "    </tr>\n",
       "    <tr>\n",
       "      <th>1</th>\n",
       "      <td>NaN</td>\n",
       "      <td>NaN</td>\n",
       "      <td>124000.0</td>\n",
       "    </tr>\n",
       "    <tr>\n",
       "      <th>2</th>\n",
       "      <td>NaN</td>\n",
       "      <td>NaN</td>\n",
       "      <td>20658.0</td>\n",
       "    </tr>\n",
       "    <tr>\n",
       "      <th>3</th>\n",
       "      <td>NaN</td>\n",
       "      <td>NaN</td>\n",
       "      <td>123000.0</td>\n",
       "    </tr>\n",
       "    <tr>\n",
       "      <th>4</th>\n",
       "      <td>NaN</td>\n",
       "      <td>NaN</td>\n",
       "      <td>138000.0</td>\n",
       "    </tr>\n",
       "    <tr>\n",
       "      <th>5</th>\n",
       "      <td>NaN</td>\n",
       "      <td>NaN</td>\n",
       "      <td>5400.0</td>\n",
       "    </tr>\n",
       "    <tr>\n",
       "      <th>Apple</th>\n",
       "      <td>Steve</td>\n",
       "      <td>Jobs</td>\n",
       "      <td>NaN</td>\n",
       "    </tr>\n",
       "    <tr>\n",
       "      <th>Facebook</th>\n",
       "      <td>Mark</td>\n",
       "      <td>Zuckerberg</td>\n",
       "      <td>NaN</td>\n",
       "    </tr>\n",
       "    <tr>\n",
       "      <th>Google</th>\n",
       "      <td>Larry</td>\n",
       "      <td>Page</td>\n",
       "      <td>NaN</td>\n",
       "    </tr>\n",
       "    <tr>\n",
       "      <th>Microsoft</th>\n",
       "      <td>Bill</td>\n",
       "      <td>Gates</td>\n",
       "      <td>NaN</td>\n",
       "    </tr>\n",
       "    <tr>\n",
       "      <th>Netflix</th>\n",
       "      <td>Reed</td>\n",
       "      <td>Hastings</td>\n",
       "      <td>NaN</td>\n",
       "    </tr>\n",
       "    <tr>\n",
       "      <th>Oracle</th>\n",
       "      <td>Larry</td>\n",
       "      <td>Ellison</td>\n",
       "      <td>NaN</td>\n",
       "    </tr>\n",
       "  </tbody>\n",
       "</table>\n",
       "</div>"
      ],
      "text/plain": [
       "          founder_name founder_surname  number_employees\n",
       "0                  NaN             NaN           73992.0\n",
       "1                  NaN             NaN          124000.0\n",
       "2                  NaN             NaN           20658.0\n",
       "3                  NaN             NaN          123000.0\n",
       "4                  NaN             NaN          138000.0\n",
       "5                  NaN             NaN            5400.0\n",
       "Apple            Steve            Jobs               NaN\n",
       "Facebook          Mark      Zuckerberg               NaN\n",
       "Google           Larry            Page               NaN\n",
       "Microsoft         Bill           Gates               NaN\n",
       "Netflix           Reed        Hastings               NaN\n",
       "Oracle           Larry         Ellison               NaN"
      ]
     },
     "execution_count": 46,
     "metadata": {},
     "output_type": "execute_result"
    }
   ],
   "source": [
    "df8"
   ]
  },
  {
   "cell_type": "code",
   "execution_count": 47,
   "metadata": {},
   "outputs": [
    {
     "data": {
      "text/plain": [
       "Index([          0,           1,           2,           3,           4,\n",
       "                 5,     'Apple',  'Facebook',    'Google', 'Microsoft',\n",
       "         'Netflix',    'Oracle'],\n",
       "      dtype='object')"
      ]
     },
     "execution_count": 47,
     "metadata": {},
     "output_type": "execute_result"
    }
   ],
   "source": [
    "df8.index"
   ]
  },
  {
   "cell_type": "markdown",
   "metadata": {},
   "source": [
    "Get the columns, with `.columns`: "
   ]
  },
  {
   "cell_type": "code",
   "execution_count": 48,
   "metadata": {},
   "outputs": [
    {
     "data": {
      "text/plain": [
       "Index(['founder_name', 'founder_surname', 'number_employees'], dtype='object')"
      ]
     },
     "execution_count": 48,
     "metadata": {},
     "output_type": "execute_result"
    }
   ],
   "source": [
    "df8.columns"
   ]
  },
  {
   "cell_type": "markdown",
   "metadata": {},
   "source": [
    "Among other things, this might be used to iterate over the column titles."
   ]
  },
  {
   "cell_type": "code",
   "execution_count": 49,
   "metadata": {},
   "outputs": [
    {
     "name": "stdout",
     "output_type": "stream",
     "text": [
      "founder_name\n",
      "founder_surname\n",
      "number_employees\n"
     ]
    }
   ],
   "source": [
    "for col in df8.columns:\n",
    "    print(col)"
   ]
  },
  {
   "cell_type": "markdown",
   "metadata": {},
   "source": [
    "We can also use `dtypes` to know the type of each series of the dataframe:"
   ]
  },
  {
   "cell_type": "code",
   "execution_count": 50,
   "metadata": {},
   "outputs": [
    {
     "data": {
      "text/plain": [
       "founder_name         object\n",
       "founder_surname      object\n",
       "number_employees    float64\n",
       "dtype: object"
      ]
     },
     "execution_count": 50,
     "metadata": {},
     "output_type": "execute_result"
    }
   ],
   "source": [
    "df8.dtypes"
   ]
  },
  {
   "cell_type": "markdown",
   "metadata": {},
   "source": [
    "As mentioned above with Series, you also have the method `.values` in a dataframe, but it's probably better to start using the `.to_numpy` (performance timings!)\n",
    "\n",
    "Note: DataFrame doesn't have the method `.array`"
   ]
  },
  {
   "cell_type": "code",
   "execution_count": 51,
   "metadata": {},
   "outputs": [
    {
     "data": {
      "text/plain": [
       "array([[nan, nan, 73992.0],\n",
       "       [nan, nan, 124000.0],\n",
       "       [nan, nan, 20658.0],\n",
       "       [nan, nan, 123000.0],\n",
       "       [nan, nan, 138000.0],\n",
       "       [nan, nan, 5400.0],\n",
       "       ['Steve', 'Jobs', nan],\n",
       "       ['Mark', 'Zuckerberg', nan],\n",
       "       ['Larry', 'Page', nan],\n",
       "       ['Bill', 'Gates', nan],\n",
       "       ['Reed', 'Hastings', nan],\n",
       "       ['Larry', 'Ellison', nan]], dtype=object)"
      ]
     },
     "execution_count": 51,
     "metadata": {},
     "output_type": "execute_result"
    }
   ],
   "source": [
    "df8.to_numpy()"
   ]
  },
  {
   "cell_type": "markdown",
   "metadata": {},
   "source": [
    "#### Key points:\n",
    "\n",
    "- DataFrames may be seen as a tabular structure (named rows and columns).\n",
    "- We can define the indexes and columns as we create the dataframe.\n",
    "- It's possible to take advantage of dictionaries and Series to create DataFrames."
   ]
  },
  {
   "cell_type": "markdown",
   "metadata": {},
   "source": [
    "---"
   ]
  },
  {
   "cell_type": "markdown",
   "metadata": {},
   "source": [
    "## 4. Previewing a DataFrame"
   ]
  },
  {
   "cell_type": "markdown",
   "metadata": {},
   "source": [
    "#### Visualizing the DataFrame or part of it"
   ]
  },
  {
   "cell_type": "markdown",
   "metadata": {},
   "source": [
    "To visualize a DataFrame, using a jupyter notebook, printing will display it (as seen previously)."
   ]
  },
  {
   "cell_type": "code",
   "execution_count": 52,
   "metadata": {},
   "outputs": [
    {
     "data": {
      "text/html": [
       "<div>\n",
       "<style scoped>\n",
       "    .dataframe tbody tr th:only-of-type {\n",
       "        vertical-align: middle;\n",
       "    }\n",
       "\n",
       "    .dataframe tbody tr th {\n",
       "        vertical-align: top;\n",
       "    }\n",
       "\n",
       "    .dataframe thead th {\n",
       "        text-align: right;\n",
       "    }\n",
       "</style>\n",
       "<table border=\"1\" class=\"dataframe\">\n",
       "  <thead>\n",
       "    <tr style=\"text-align: right;\">\n",
       "      <th></th>\n",
       "      <th>founder_name</th>\n",
       "      <th>founder_surname</th>\n",
       "      <th>number_employees</th>\n",
       "    </tr>\n",
       "  </thead>\n",
       "  <tbody>\n",
       "    <tr>\n",
       "      <th>0</th>\n",
       "      <td>NaN</td>\n",
       "      <td>NaN</td>\n",
       "      <td>73992.0</td>\n",
       "    </tr>\n",
       "    <tr>\n",
       "      <th>1</th>\n",
       "      <td>NaN</td>\n",
       "      <td>NaN</td>\n",
       "      <td>124000.0</td>\n",
       "    </tr>\n",
       "    <tr>\n",
       "      <th>2</th>\n",
       "      <td>NaN</td>\n",
       "      <td>NaN</td>\n",
       "      <td>20658.0</td>\n",
       "    </tr>\n",
       "    <tr>\n",
       "      <th>3</th>\n",
       "      <td>NaN</td>\n",
       "      <td>NaN</td>\n",
       "      <td>123000.0</td>\n",
       "    </tr>\n",
       "    <tr>\n",
       "      <th>4</th>\n",
       "      <td>NaN</td>\n",
       "      <td>NaN</td>\n",
       "      <td>138000.0</td>\n",
       "    </tr>\n",
       "    <tr>\n",
       "      <th>5</th>\n",
       "      <td>NaN</td>\n",
       "      <td>NaN</td>\n",
       "      <td>5400.0</td>\n",
       "    </tr>\n",
       "    <tr>\n",
       "      <th>Apple</th>\n",
       "      <td>Steve</td>\n",
       "      <td>Jobs</td>\n",
       "      <td>NaN</td>\n",
       "    </tr>\n",
       "    <tr>\n",
       "      <th>Facebook</th>\n",
       "      <td>Mark</td>\n",
       "      <td>Zuckerberg</td>\n",
       "      <td>NaN</td>\n",
       "    </tr>\n",
       "    <tr>\n",
       "      <th>Google</th>\n",
       "      <td>Larry</td>\n",
       "      <td>Page</td>\n",
       "      <td>NaN</td>\n",
       "    </tr>\n",
       "    <tr>\n",
       "      <th>Microsoft</th>\n",
       "      <td>Bill</td>\n",
       "      <td>Gates</td>\n",
       "      <td>NaN</td>\n",
       "    </tr>\n",
       "    <tr>\n",
       "      <th>Netflix</th>\n",
       "      <td>Reed</td>\n",
       "      <td>Hastings</td>\n",
       "      <td>NaN</td>\n",
       "    </tr>\n",
       "    <tr>\n",
       "      <th>Oracle</th>\n",
       "      <td>Larry</td>\n",
       "      <td>Ellison</td>\n",
       "      <td>NaN</td>\n",
       "    </tr>\n",
       "  </tbody>\n",
       "</table>\n",
       "</div>"
      ],
      "text/plain": [
       "          founder_name founder_surname  number_employees\n",
       "0                  NaN             NaN           73992.0\n",
       "1                  NaN             NaN          124000.0\n",
       "2                  NaN             NaN           20658.0\n",
       "3                  NaN             NaN          123000.0\n",
       "4                  NaN             NaN          138000.0\n",
       "5                  NaN             NaN            5400.0\n",
       "Apple            Steve            Jobs               NaN\n",
       "Facebook          Mark      Zuckerberg               NaN\n",
       "Google           Larry            Page               NaN\n",
       "Microsoft         Bill           Gates               NaN\n",
       "Netflix           Reed        Hastings               NaN\n",
       "Oracle           Larry         Ellison               NaN"
      ]
     },
     "execution_count": 52,
     "metadata": {},
     "output_type": "execute_result"
    }
   ],
   "source": [
    "df8"
   ]
  },
  {
   "cell_type": "markdown",
   "metadata": {},
   "source": [
    "In the case that the dataframe has a lot of entries, it will be only partially displayed. Nonetheless, it might still be too much information being displayed at once and the methods that are going to be used below often prove to be a better alternative. Namely, it is possible to print only a certain number of entries from the top or from the bottom using `.head` and `.tail`, respectively."
   ]
  },
  {
   "cell_type": "code",
   "execution_count": 53,
   "metadata": {},
   "outputs": [
    {
     "data": {
      "text/html": [
       "<div>\n",
       "<style scoped>\n",
       "    .dataframe tbody tr th:only-of-type {\n",
       "        vertical-align: middle;\n",
       "    }\n",
       "\n",
       "    .dataframe tbody tr th {\n",
       "        vertical-align: top;\n",
       "    }\n",
       "\n",
       "    .dataframe thead th {\n",
       "        text-align: right;\n",
       "    }\n",
       "</style>\n",
       "<table border=\"1\" class=\"dataframe\">\n",
       "  <thead>\n",
       "    <tr style=\"text-align: right;\">\n",
       "      <th></th>\n",
       "      <th>founder_name</th>\n",
       "      <th>founder_surname</th>\n",
       "      <th>number_employees</th>\n",
       "    </tr>\n",
       "  </thead>\n",
       "  <tbody>\n",
       "    <tr>\n",
       "      <th>0</th>\n",
       "      <td>NaN</td>\n",
       "      <td>NaN</td>\n",
       "      <td>73992.0</td>\n",
       "    </tr>\n",
       "    <tr>\n",
       "      <th>1</th>\n",
       "      <td>NaN</td>\n",
       "      <td>NaN</td>\n",
       "      <td>124000.0</td>\n",
       "    </tr>\n",
       "  </tbody>\n",
       "</table>\n",
       "</div>"
      ],
      "text/plain": [
       "  founder_name founder_surname  number_employees\n",
       "0          NaN             NaN           73992.0\n",
       "1          NaN             NaN          124000.0"
      ]
     },
     "execution_count": 53,
     "metadata": {},
     "output_type": "execute_result"
    }
   ],
   "source": [
    "df8.head(n=2)"
   ]
  },
  {
   "cell_type": "code",
   "execution_count": 54,
   "metadata": {},
   "outputs": [
    {
     "data": {
      "text/html": [
       "<div>\n",
       "<style scoped>\n",
       "    .dataframe tbody tr th:only-of-type {\n",
       "        vertical-align: middle;\n",
       "    }\n",
       "\n",
       "    .dataframe tbody tr th {\n",
       "        vertical-align: top;\n",
       "    }\n",
       "\n",
       "    .dataframe thead th {\n",
       "        text-align: right;\n",
       "    }\n",
       "</style>\n",
       "<table border=\"1\" class=\"dataframe\">\n",
       "  <thead>\n",
       "    <tr style=\"text-align: right;\">\n",
       "      <th></th>\n",
       "      <th>founder_name</th>\n",
       "      <th>founder_surname</th>\n",
       "      <th>number_employees</th>\n",
       "    </tr>\n",
       "  </thead>\n",
       "  <tbody>\n",
       "    <tr>\n",
       "      <th>Netflix</th>\n",
       "      <td>Reed</td>\n",
       "      <td>Hastings</td>\n",
       "      <td>NaN</td>\n",
       "    </tr>\n",
       "    <tr>\n",
       "      <th>Oracle</th>\n",
       "      <td>Larry</td>\n",
       "      <td>Ellison</td>\n",
       "      <td>NaN</td>\n",
       "    </tr>\n",
       "  </tbody>\n",
       "</table>\n",
       "</div>"
      ],
      "text/plain": [
       "        founder_name founder_surname  number_employees\n",
       "Netflix         Reed        Hastings               NaN\n",
       "Oracle         Larry         Ellison               NaN"
      ]
     },
     "execution_count": 54,
     "metadata": {},
     "output_type": "execute_result"
    }
   ],
   "source": [
    "df8.tail(n=2)"
   ]
  },
  {
   "cell_type": "markdown",
   "metadata": {},
   "source": [
    "---"
   ]
  },
  {
   "cell_type": "markdown",
   "metadata": {},
   "source": [
    "### Retrieving DataFrame Information"
   ]
  },
  {
   "cell_type": "markdown",
   "metadata": {},
   "source": [
    "#### Getting the relevant info"
   ]
  },
  {
   "cell_type": "markdown",
   "metadata": {},
   "source": [
    "With pandas' [`.info()`](https://pandas.pydata.org/pandas-docs/stable/generated/pandas.DataFrame.info.html) it is possible to obtain:\n",
    "- the number of entries it has\n",
    "- the total number of columns\n",
    "- the title of each column\n",
    "- the number of entries that in fact exists in each column (does not consider missing values!)\n",
    "- the type of data of the entries of a given column."
   ]
  },
  {
   "cell_type": "code",
   "execution_count": 55,
   "metadata": {},
   "outputs": [
    {
     "name": "stdout",
     "output_type": "stream",
     "text": [
      "<class 'pandas.core.frame.DataFrame'>\n",
      "Index: 12 entries, 0 to Oracle\n",
      "Data columns (total 3 columns):\n",
      " #   Column            Non-Null Count  Dtype  \n",
      "---  ------            --------------  -----  \n",
      " 0   founder_name      6 non-null      object \n",
      " 1   founder_surname   6 non-null      object \n",
      " 2   number_employees  6 non-null      float64\n",
      "dtypes: float64(1), object(2)\n",
      "memory usage: 384.0+ bytes\n"
     ]
    }
   ],
   "source": [
    "df8.info()"
   ]
  },
  {
   "cell_type": "markdown",
   "metadata": {},
   "source": [
    "For the **NUMERICAL** variables it's also possible to print some more information using [`.describe()`](https://pandas.pydata.org/pandas-docs/stable/generated/pandas.DataFrame.describe.html), namely:\n",
    "\n",
    "- the number of rows for each of those columns\n",
    "- the mean value\n",
    "- the standard deviation\n",
    "- the minimum and maximum value\n",
    "- the median, the 25th and 75th percentile."
   ]
  },
  {
   "cell_type": "code",
   "execution_count": 56,
   "metadata": {},
   "outputs": [
    {
     "data": {
      "text/html": [
       "<div>\n",
       "<style scoped>\n",
       "    .dataframe tbody tr th:only-of-type {\n",
       "        vertical-align: middle;\n",
       "    }\n",
       "\n",
       "    .dataframe tbody tr th {\n",
       "        vertical-align: top;\n",
       "    }\n",
       "\n",
       "    .dataframe thead th {\n",
       "        text-align: right;\n",
       "    }\n",
       "</style>\n",
       "<table border=\"1\" class=\"dataframe\">\n",
       "  <thead>\n",
       "    <tr style=\"text-align: right;\">\n",
       "      <th></th>\n",
       "      <th>number_employees</th>\n",
       "    </tr>\n",
       "  </thead>\n",
       "  <tbody>\n",
       "    <tr>\n",
       "      <th>count</th>\n",
       "      <td>6.000000</td>\n",
       "    </tr>\n",
       "    <tr>\n",
       "      <th>mean</th>\n",
       "      <td>80841.666667</td>\n",
       "    </tr>\n",
       "    <tr>\n",
       "      <th>std</th>\n",
       "      <td>57039.422527</td>\n",
       "    </tr>\n",
       "    <tr>\n",
       "      <th>min</th>\n",
       "      <td>5400.000000</td>\n",
       "    </tr>\n",
       "    <tr>\n",
       "      <th>25%</th>\n",
       "      <td>33991.500000</td>\n",
       "    </tr>\n",
       "    <tr>\n",
       "      <th>50%</th>\n",
       "      <td>98496.000000</td>\n",
       "    </tr>\n",
       "    <tr>\n",
       "      <th>75%</th>\n",
       "      <td>123750.000000</td>\n",
       "    </tr>\n",
       "    <tr>\n",
       "      <th>max</th>\n",
       "      <td>138000.000000</td>\n",
       "    </tr>\n",
       "  </tbody>\n",
       "</table>\n",
       "</div>"
      ],
      "text/plain": [
       "       number_employees\n",
       "count          6.000000\n",
       "mean       80841.666667\n",
       "std        57039.422527\n",
       "min         5400.000000\n",
       "25%        33991.500000\n",
       "50%        98496.000000\n",
       "75%       123750.000000\n",
       "max       138000.000000"
      ]
     },
     "execution_count": 56,
     "metadata": {},
     "output_type": "execute_result"
    }
   ],
   "source": [
    "df8.describe()"
   ]
  },
  {
   "cell_type": "markdown",
   "metadata": {},
   "source": [
    "Finally, [`.shape`](https://pandas.pydata.org/pandas-docs/version/0.17.0/generated/pandas.DataFrame.shape.html) returns a tuple with the dimensions of the dataframe (nr_rows, nr_columns)."
   ]
  },
  {
   "cell_type": "code",
   "execution_count": 57,
   "metadata": {},
   "outputs": [
    {
     "data": {
      "text/plain": [
       "(12, 3)"
      ]
     },
     "execution_count": 57,
     "metadata": {},
     "output_type": "execute_result"
    }
   ],
   "source": [
    "df8.shape"
   ]
  },
  {
   "cell_type": "markdown",
   "metadata": {},
   "source": [
    "### Key points:\n",
    "\n",
    "- It's possible to print the dataframe (still shows too many lines, might be too \"noisy\").\n",
    "- `head()` and `tail()` print the n top and bottom, respectively, lines of the dataframe.\n",
    "- Info returns the number of entries, the number of columns, their counts and the data type.\n",
    "- Describe returns basic statistical information of the numeric columns."
   ]
  },
  {
   "cell_type": "markdown",
   "metadata": {},
   "source": [
    "---"
   ]
  },
  {
   "cell_type": "markdown",
   "metadata": {},
   "source": [
    "## 5. Reading data from files into pandas"
   ]
  },
  {
   "cell_type": "markdown",
   "metadata": {},
   "source": [
    "Pandas framework has implemented functions that allow us to create dataframes form several different types of data:\n",
    "\n",
    "- CSV\n",
    "- JSON\n",
    "- HTML\n",
    "- ... and [many more](https://pandas.pydata.org/pandas-docs/stable/io.html)\n",
    "\n",
    "All of this is possible by using the read_*dataFormat*. With it is possible to create a dataframe and apply all the previously shown techniques. \n",
    "\n",
    "For instance, using the 2010 census profile and housing characteristics of the city of Los Angeles ([source](https://catalog.data.gov/dataset/2010-census-populations-by-zip-code)):"
   ]
  },
  {
   "cell_type": "code",
   "execution_count": 58,
   "metadata": {},
   "outputs": [],
   "source": [
    "data = pd.read_csv(\"data/2010_Census_Populations_by_Zip_Code.csv\")"
   ]
  },
  {
   "cell_type": "markdown",
   "metadata": {},
   "source": [
    "What does this look like?"
   ]
  },
  {
   "cell_type": "code",
   "execution_count": 59,
   "metadata": {},
   "outputs": [
    {
     "data": {
      "text/html": [
       "<div>\n",
       "<style scoped>\n",
       "    .dataframe tbody tr th:only-of-type {\n",
       "        vertical-align: middle;\n",
       "    }\n",
       "\n",
       "    .dataframe tbody tr th {\n",
       "        vertical-align: top;\n",
       "    }\n",
       "\n",
       "    .dataframe thead th {\n",
       "        text-align: right;\n",
       "    }\n",
       "</style>\n",
       "<table border=\"1\" class=\"dataframe\">\n",
       "  <thead>\n",
       "    <tr style=\"text-align: right;\">\n",
       "      <th></th>\n",
       "      <th>Zip Code</th>\n",
       "      <th>Total Population</th>\n",
       "      <th>Median Age</th>\n",
       "      <th>Total Males</th>\n",
       "      <th>Total Females</th>\n",
       "      <th>Total Households</th>\n",
       "      <th>Average Household Size</th>\n",
       "    </tr>\n",
       "  </thead>\n",
       "  <tbody>\n",
       "    <tr>\n",
       "      <th>0</th>\n",
       "      <td>91371</td>\n",
       "      <td>1</td>\n",
       "      <td>73.5</td>\n",
       "      <td>0</td>\n",
       "      <td>1</td>\n",
       "      <td>1</td>\n",
       "      <td>1.00</td>\n",
       "    </tr>\n",
       "    <tr>\n",
       "      <th>1</th>\n",
       "      <td>90001</td>\n",
       "      <td>57110</td>\n",
       "      <td>26.6</td>\n",
       "      <td>28468</td>\n",
       "      <td>28642</td>\n",
       "      <td>12971</td>\n",
       "      <td>4.40</td>\n",
       "    </tr>\n",
       "    <tr>\n",
       "      <th>2</th>\n",
       "      <td>90002</td>\n",
       "      <td>51223</td>\n",
       "      <td>25.5</td>\n",
       "      <td>24876</td>\n",
       "      <td>26347</td>\n",
       "      <td>11731</td>\n",
       "      <td>4.36</td>\n",
       "    </tr>\n",
       "    <tr>\n",
       "      <th>3</th>\n",
       "      <td>90003</td>\n",
       "      <td>66266</td>\n",
       "      <td>26.3</td>\n",
       "      <td>32631</td>\n",
       "      <td>33635</td>\n",
       "      <td>15642</td>\n",
       "      <td>4.22</td>\n",
       "    </tr>\n",
       "    <tr>\n",
       "      <th>4</th>\n",
       "      <td>90004</td>\n",
       "      <td>62180</td>\n",
       "      <td>34.8</td>\n",
       "      <td>31302</td>\n",
       "      <td>30878</td>\n",
       "      <td>22547</td>\n",
       "      <td>2.73</td>\n",
       "    </tr>\n",
       "  </tbody>\n",
       "</table>\n",
       "</div>"
      ],
      "text/plain": [
       "   Zip Code  Total Population  Median Age  Total Males  Total Females  \\\n",
       "0     91371                 1        73.5            0              1   \n",
       "1     90001             57110        26.6        28468          28642   \n",
       "2     90002             51223        25.5        24876          26347   \n",
       "3     90003             66266        26.3        32631          33635   \n",
       "4     90004             62180        34.8        31302          30878   \n",
       "\n",
       "   Total Households  Average Household Size  \n",
       "0                 1                    1.00  \n",
       "1             12971                    4.40  \n",
       "2             11731                    4.36  \n",
       "3             15642                    4.22  \n",
       "4             22547                    2.73  "
      ]
     },
     "execution_count": 59,
     "metadata": {},
     "output_type": "execute_result"
    }
   ],
   "source": [
    "data.head(5)"
   ]
  },
  {
   "cell_type": "markdown",
   "metadata": {},
   "source": [
    "Let's use `info`: "
   ]
  },
  {
   "cell_type": "code",
   "execution_count": 60,
   "metadata": {},
   "outputs": [
    {
     "name": "stdout",
     "output_type": "stream",
     "text": [
      "<class 'pandas.core.frame.DataFrame'>\n",
      "RangeIndex: 319 entries, 0 to 318\n",
      "Data columns (total 7 columns):\n",
      " #   Column                  Non-Null Count  Dtype  \n",
      "---  ------                  --------------  -----  \n",
      " 0   Zip Code                319 non-null    int64  \n",
      " 1   Total Population        319 non-null    int64  \n",
      " 2   Median Age              319 non-null    float64\n",
      " 3   Total Males             319 non-null    int64  \n",
      " 4   Total Females           319 non-null    int64  \n",
      " 5   Total Households        319 non-null    int64  \n",
      " 6   Average Household Size  319 non-null    float64\n",
      "dtypes: float64(2), int64(5)\n",
      "memory usage: 17.6 KB\n"
     ]
    }
   ],
   "source": [
    "data.info()"
   ]
  },
  {
   "cell_type": "markdown",
   "metadata": {},
   "source": [
    "Now for a fuller description:"
   ]
  },
  {
   "cell_type": "code",
   "execution_count": 61,
   "metadata": {},
   "outputs": [
    {
     "data": {
      "text/html": [
       "<div>\n",
       "<style scoped>\n",
       "    .dataframe tbody tr th:only-of-type {\n",
       "        vertical-align: middle;\n",
       "    }\n",
       "\n",
       "    .dataframe tbody tr th {\n",
       "        vertical-align: top;\n",
       "    }\n",
       "\n",
       "    .dataframe thead th {\n",
       "        text-align: right;\n",
       "    }\n",
       "</style>\n",
       "<table border=\"1\" class=\"dataframe\">\n",
       "  <thead>\n",
       "    <tr style=\"text-align: right;\">\n",
       "      <th></th>\n",
       "      <th>Zip Code</th>\n",
       "      <th>Total Population</th>\n",
       "      <th>Median Age</th>\n",
       "      <th>Total Males</th>\n",
       "      <th>Total Females</th>\n",
       "      <th>Total Households</th>\n",
       "      <th>Average Household Size</th>\n",
       "    </tr>\n",
       "  </thead>\n",
       "  <tbody>\n",
       "    <tr>\n",
       "      <th>count</th>\n",
       "      <td>319.000000</td>\n",
       "      <td>319.000000</td>\n",
       "      <td>319.000000</td>\n",
       "      <td>319.000000</td>\n",
       "      <td>319.000000</td>\n",
       "      <td>319.000000</td>\n",
       "      <td>319.000000</td>\n",
       "    </tr>\n",
       "    <tr>\n",
       "      <th>mean</th>\n",
       "      <td>91000.673981</td>\n",
       "      <td>33241.341693</td>\n",
       "      <td>36.527586</td>\n",
       "      <td>16391.564263</td>\n",
       "      <td>16849.777429</td>\n",
       "      <td>10964.570533</td>\n",
       "      <td>2.828119</td>\n",
       "    </tr>\n",
       "    <tr>\n",
       "      <th>std</th>\n",
       "      <td>908.360203</td>\n",
       "      <td>21644.417455</td>\n",
       "      <td>8.692999</td>\n",
       "      <td>10747.495566</td>\n",
       "      <td>10934.986468</td>\n",
       "      <td>6270.646400</td>\n",
       "      <td>0.835658</td>\n",
       "    </tr>\n",
       "    <tr>\n",
       "      <th>min</th>\n",
       "      <td>90001.000000</td>\n",
       "      <td>0.000000</td>\n",
       "      <td>0.000000</td>\n",
       "      <td>0.000000</td>\n",
       "      <td>0.000000</td>\n",
       "      <td>0.000000</td>\n",
       "      <td>0.000000</td>\n",
       "    </tr>\n",
       "    <tr>\n",
       "      <th>25%</th>\n",
       "      <td>90243.500000</td>\n",
       "      <td>19318.500000</td>\n",
       "      <td>32.400000</td>\n",
       "      <td>9763.500000</td>\n",
       "      <td>9633.500000</td>\n",
       "      <td>6765.500000</td>\n",
       "      <td>2.435000</td>\n",
       "    </tr>\n",
       "    <tr>\n",
       "      <th>50%</th>\n",
       "      <td>90807.000000</td>\n",
       "      <td>31481.000000</td>\n",
       "      <td>37.100000</td>\n",
       "      <td>15283.000000</td>\n",
       "      <td>16202.000000</td>\n",
       "      <td>10968.000000</td>\n",
       "      <td>2.830000</td>\n",
       "    </tr>\n",
       "    <tr>\n",
       "      <th>75%</th>\n",
       "      <td>91417.000000</td>\n",
       "      <td>44978.000000</td>\n",
       "      <td>41.000000</td>\n",
       "      <td>22219.500000</td>\n",
       "      <td>22690.500000</td>\n",
       "      <td>14889.500000</td>\n",
       "      <td>3.320000</td>\n",
       "    </tr>\n",
       "    <tr>\n",
       "      <th>max</th>\n",
       "      <td>93591.000000</td>\n",
       "      <td>105549.000000</td>\n",
       "      <td>74.000000</td>\n",
       "      <td>52794.000000</td>\n",
       "      <td>53185.000000</td>\n",
       "      <td>31087.000000</td>\n",
       "      <td>4.670000</td>\n",
       "    </tr>\n",
       "  </tbody>\n",
       "</table>\n",
       "</div>"
      ],
      "text/plain": [
       "           Zip Code  Total Population  Median Age   Total Males  \\\n",
       "count    319.000000        319.000000  319.000000    319.000000   \n",
       "mean   91000.673981      33241.341693   36.527586  16391.564263   \n",
       "std      908.360203      21644.417455    8.692999  10747.495566   \n",
       "min    90001.000000          0.000000    0.000000      0.000000   \n",
       "25%    90243.500000      19318.500000   32.400000   9763.500000   \n",
       "50%    90807.000000      31481.000000   37.100000  15283.000000   \n",
       "75%    91417.000000      44978.000000   41.000000  22219.500000   \n",
       "max    93591.000000     105549.000000   74.000000  52794.000000   \n",
       "\n",
       "       Total Females  Total Households  Average Household Size  \n",
       "count     319.000000        319.000000              319.000000  \n",
       "mean    16849.777429      10964.570533                2.828119  \n",
       "std     10934.986468       6270.646400                0.835658  \n",
       "min         0.000000          0.000000                0.000000  \n",
       "25%      9633.500000       6765.500000                2.435000  \n",
       "50%     16202.000000      10968.000000                2.830000  \n",
       "75%     22690.500000      14889.500000                3.320000  \n",
       "max     53185.000000      31087.000000                4.670000  "
      ]
     },
     "execution_count": 61,
     "metadata": {},
     "output_type": "execute_result"
    }
   ],
   "source": [
    "data.describe()"
   ]
  },
  {
   "cell_type": "markdown",
   "metadata": {},
   "source": [
    "### Key points:\n",
    "\n",
    "- Pandas allows the creation of dataframes from several structures of data."
   ]
  },
  {
   "cell_type": "markdown",
   "metadata": {},
   "source": [
    "----"
   ]
  },
  {
   "cell_type": "markdown",
   "metadata": {},
   "source": [
    "## 6. Writing data from pandas into files"
   ]
  },
  {
   "cell_type": "markdown",
   "metadata": {},
   "source": [
    "Besides reading from the disk, Pandas allows us to also write and save our dataframe after we performed some transformations to the data."
   ]
  },
  {
   "cell_type": "code",
   "execution_count": 62,
   "metadata": {},
   "outputs": [],
   "source": [
    "data.to_csv(\"data/new_csv.csv\")"
   ]
  },
  {
   "cell_type": "markdown",
   "metadata": {},
   "source": [
    "You should now have a new file called `new_csv.csv` in your `data` folder!"
   ]
  },
  {
   "cell_type": "markdown",
   "metadata": {},
   "source": [
    "---"
   ]
  },
  {
   "cell_type": "markdown",
   "metadata": {},
   "source": [
    "### Reading/Writing with other types of data"
   ]
  },
  {
   "cell_type": "markdown",
   "metadata": {},
   "source": [
    "The same way we can read data from various data types, we can also write data to various file types (CSV, JSON, HTML, ...)\n",
    "\n",
    "All of this is possible by using the to_*dataFormat*, giving as an argument the path where you want to save the file.\n",
    "\n",
    "For example you can right to a JSON using `to_json`, or to an Excel spreadsheet using `to_excel`, and so on."
   ]
  },
  {
   "cell_type": "markdown",
   "metadata": {},
   "source": [
    "---"
   ]
  },
  {
   "cell_type": "markdown",
   "metadata": {},
   "source": [
    "## To learn more (optional)\n",
    "\n",
    "- [Pandas Getting Started tutorials](https://pandas.pydata.org/pandas-docs/stable/getting_started/intro_tutorials/index.html)\n",
    "\n",
    "- [Intro to data structures](https://pandas.pydata.org/pandas-docs/stable/dsintro.html)"
   ]
  },
  {
   "cell_type": "markdown",
   "metadata": {},
   "source": [
    "---"
   ]
  }
 ],
 "metadata": {
  "kernelspec": {
   "display_name": "Python 3",
   "language": "python",
   "name": "python3"
  },
  "language_info": {
   "codemirror_mode": {
    "name": "ipython",
    "version": 3
   },
   "file_extension": ".py",
   "mimetype": "text/x-python",
   "name": "python",
   "nbconvert_exporter": "python",
   "pygments_lexer": "ipython3",
   "version": "3.7.10"
  },
  "toc": {
   "base_numbering": 1,
   "nav_menu": {},
   "number_sections": false,
   "sideBar": true,
   "skip_h1_title": false,
   "title_cell": "Table of Contents",
   "title_sidebar": "Contents",
   "toc_cell": false,
   "toc_position": {},
   "toc_section_display": true,
   "toc_window_display": false
  }
 },
 "nbformat": 4,
 "nbformat_minor": 2
}
