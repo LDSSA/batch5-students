{
 "cells": [
  {
   "cell_type": "markdown",
   "metadata": {
    "deletable": false,
    "editable": false,
    "nbgrader": {
     "grade": false,
     "grade_id": "cell-b4d7d915e2c9c198",
     "locked": true,
     "schema_version": 3,
     "solution": false
    }
   },
   "source": [
    "# SLU19 - k-Nearest Neighbors (kNN) -- Exercises\n",
    "\n",
    "In this notebook we will have exercises covering the following topics:\n",
    "\n",
    "- k-Nearest Neighbors Algorithm\n",
    "- A Primer on Distance\n",
    "- Some considerations about kNN\n",
    "- Using kNN\n",
    "\n",
    "In the first part of the notebook you will be implementing things from scratch, so you understand what's going on under the hood. \n",
    "\n",
    "![numpy-function-implementation](media/numpy-function-implementation.png)"
   ]
  },
  {
   "cell_type": "code",
   "execution_count": null,
   "metadata": {
    "deletable": false,
    "editable": false,
    "nbgrader": {
     "grade": false,
     "grade_id": "cell-10e27f42036825d8",
     "locked": true,
     "schema_version": 3,
     "solution": false
    }
   },
   "outputs": [],
   "source": [
    "# Place any important imports at the top of the notebook when possible\n",
    "import hashlib\n",
    "import math\n",
    "import os\n",
    "\n",
    "import numpy as np\n",
    "import pandas as pd\n",
    "\n",
    "from sklearn import datasets\n",
    "\n",
    "import json\n",
    "from hashlib import sha1 # just for grading purposes\n",
    "\n",
    "def _hash(obj):\n",
    "    if type(obj) is not str:\n",
    "        obj = json.dumps(obj)\n",
    "    return sha1(obj.encode()).hexdigest()"
   ]
  },
  {
   "cell_type": "markdown",
   "metadata": {
    "deletable": false,
    "editable": false,
    "nbgrader": {
     "grade": false,
     "grade_id": "cell-463ec86e1e15c6e9",
     "locked": true,
     "schema_version": 3,
     "solution": false
    }
   },
   "source": [
    "## Distances\n",
    "\n",
    "To understand the distances compute here, you first need to understand what the Euclidean norm is. You have seen it in the learning notebook, and repeated across several formulas. Yes, we're talking about this:\n",
    "\n",
    "$$|\\mathbf{x}|$$ \n",
    "\n",
    "So how do we define it? \n",
    "\n",
    "Well, let's look at the Euclidean distance equation we've shown you in the learning notebook. The norm definition is \"hidden\" there:\n",
    "\n",
    "$$d(\\mathbf{p}, \\mathbf{q}) = \\sqrt{(q_1 - p_1)^2 + (q_2 - p_2)^2 + ... + (q_n - p_n)^2} = \\sqrt{ \\sum_{i=1}^n (q_i - p_i)^2} = |\\mathbf{q} - \\mathbf{p}|$$\n",
    "\n",
    "If you focus on the right side of the equation, it should be obvious that it contains a definition of the **euclidean norm** applied to the difference between the vectors p and q:\n",
    "\n",
    "$$ \\sqrt{ \\sum_{i=1}^n (q_i - p_i)^2} = |\\mathbf{q} - \\mathbf{p}|$$\n",
    "\n",
    "So we can just replace `p-q` by a single vector `x` in the equation:\n",
    "\n",
    "$$ \\sqrt{ \\sum_{i=1}^n (x_i)^2} = |\\mathbf{x}|$$\n",
    "\n",
    "And we get our norm definition!\n"
   ]
  },
  {
   "cell_type": "markdown",
   "metadata": {
    "deletable": false,
    "editable": false,
    "nbgrader": {
     "grade": false,
     "grade_id": "cell-ed133c9081dc4e95",
     "locked": true,
     "schema_version": 3,
     "solution": false,
     "task": false
    }
   },
   "source": [
    "### Exercise 1 - Vector norms\n",
    "\n",
    "Start by implementing the Euclidean norm definition you explored above:\n",
    "\n",
    "$$|\\mathbf{x}| = \\sqrt{ \\sum_{i=1}^n (x_i)^2} = \\sqrt{(x_1)^2 + (x_2)^2 + ... + (x_N)^2}$$\n",
    "\n"
   ]
  },
  {
   "cell_type": "code",
   "execution_count": null,
   "metadata": {
    "deletable": false,
    "nbgrader": {
     "grade": false,
     "grade_id": "cell-3590731766111833",
     "locked": false,
     "schema_version": 3,
     "solution": true,
     "task": false
    }
   },
   "outputs": [],
   "source": [
    "def euclidean_norm(x):\n",
    "    \"\"\"\n",
    "    Return the euclidean norm of a vector\n",
    "        \n",
    "    Parameters\n",
    "    ----------\n",
    "    x: numpy array with shape (N,)\n",
    "    \n",
    "    Returns\n",
    "    ----------\n",
    "    norm: float\n",
    "    \"\"\"\n",
    "\n",
    "    # YOUR CODE HERE\n",
    "    raise NotImplementedError()\n",
    "    return norm\n"
   ]
  },
  {
   "cell_type": "code",
   "execution_count": null,
   "metadata": {
    "deletable": false,
    "editable": false,
    "nbgrader": {
     "grade": true,
     "grade_id": "cell-ff9a506bc3c80751",
     "locked": true,
     "points": 1,
     "schema_version": 3,
     "solution": false,
     "task": false
    }
   },
   "outputs": [],
   "source": [
    "\n",
    "np.testing.assert_almost_equal(euclidean_norm(np.array([1, 2, 4])), 4.5825, 2)\n",
    "np.testing.assert_almost_equal(euclidean_norm(np.array([-1, 0, 4])), 4.1231, 2)\n",
    "np.testing.assert_almost_equal(euclidean_norm(np.array([1])), 1.0, 2)\n",
    "np.testing.assert_almost_equal(euclidean_norm(np.array([-1])), 1.0, 2)\n",
    "np.testing.assert_almost_equal(euclidean_norm(np.array([0, 0])), 0.0, 2)\n",
    "np.testing.assert_almost_equal(euclidean_norm(np.array([0, 1, 2, 3, 4])), 5.4772, 2)\n",
    "np.testing.assert_almost_equal(euclidean_norm(np.array([0, -1, -2, -3, -4])), 5.4772, 2)\n"
   ]
  },
  {
   "cell_type": "markdown",
   "metadata": {
    "deletable": false,
    "editable": false,
    "nbgrader": {
     "grade": false,
     "grade_id": "cell-eeacdcb05a198df9",
     "locked": true,
     "schema_version": 3,
     "solution": false
    }
   },
   "source": [
    "### Exercise 2 - Distances\n",
    "\n",
    "Now that we have the norm, we'll apply it to find our distances. \n",
    "\n",
    "Define a function called `distance_function`. \n",
    "\n",
    "This function should receive two arguments, `a` and `b`, both numpy arrays with shape `(N,)`, where `N` is the number of dimensions of the inputs `a` and `b`, and calculate the distance between them. Additionally, it receives a keyword argument `distance_type`, which tells you which distance to use. \n",
    "\n",
    "\n",
    "The argument can have one of three values, which will define how to compute the distance (we could have picked different formulations, but we chose these for you to use the norm function created before):\n",
    "\n",
    "* `euclidean`\n",
    "\n",
    "$$d_{euclidean} = |\\mathbf{b} - \\mathbf{a}|$$\n",
    "\n",
    "\n",
    "* `dot`\n",
    "\n",
    "$$d_{dot} = u_1v_1 + u_2v_2 + ... + u_nv_n$$\n",
    "\n",
    "* `cosine`\n",
    "\n",
    "$$cosine(\\mathbf{a}, \\mathbf{b}) = 1 -  \\frac{\\mathbf{a} \\; . \\mathbf{b}}{|\\mathbf{a}| \\; |\\mathbf{b}|}$$\n",
    "\n"
   ]
  },
  {
   "cell_type": "code",
   "execution_count": null,
   "metadata": {
    "deletable": false,
    "nbgrader": {
     "grade": false,
     "grade_id": "cell-6e62f4a661edbaf0",
     "locked": false,
     "schema_version": 3,
     "solution": true
    }
   },
   "outputs": [],
   "source": [
    "# implement a function called euclidean_distance\n",
    "\n",
    "def distance_function(a, b, distance_type=\"euclidean\"):\n",
    "    \"\"\"\n",
    "    Return the distance between two vectors, computed using one of \n",
    "        `euclidean`, `dot_product` or `cosine`. \n",
    "        \n",
    "    Return `None` if:\n",
    "     - distance type is not any of the supported types\n",
    "     - if the shape of `a` and `b` do not match\n",
    "\n",
    "    Parameters\n",
    "    ----------\n",
    "    a: numpy array with shape (N,)\n",
    "    b: numpy array with shape (N,)\n",
    "    distance_type: str - enumerate, can be one of `euclidean`, `dot`\n",
    "        or `cosine`\n",
    "    \n",
    "    Returns\n",
    "    ----------\n",
    "    distance: float\n",
    "    \"\"\"\n",
    "    \n",
    "    # 1. Check shape consistency\n",
    "    # YOUR CODE HERE\n",
    "    raise NotImplementedError()\n",
    "\n",
    "    # 2. Compute distance\n",
    "    # Hint:\n",
    "    # \n",
    "    # if distance_type == \"euclidean\":\n",
    "    #     distance = ...\n",
    "    # elif ...\n",
    "    #      ... \n",
    "    # elif ...\n",
    "    #      ... \n",
    "    # else:...\n",
    "    #      ...\n",
    "\n",
    "    # YOUR CODE HERE\n",
    "    raise NotImplementedError()\n",
    "    \n",
    "    return distance"
   ]
  },
  {
   "cell_type": "code",
   "execution_count": null,
   "metadata": {
    "deletable": false,
    "editable": false,
    "nbgrader": {
     "grade": true,
     "grade_id": "cell-79f8353bbd6472e8",
     "locked": true,
     "points": 4,
     "schema_version": 3,
     "solution": false
    }
   },
   "outputs": [],
   "source": [
    "# Test Euclidean Distance\n",
    "\n",
    "np.testing.assert_almost_equal(\n",
    "    distance_function(np.array([1, 2, 4]), np.array([-1, 0, 4]), distance_type=\"euclidean\"), 2.8284, 2)\n",
    "\n",
    "np.testing.assert_almost_equal(\n",
    "    distance_function(np.array([1]), np.array([-1]), distance_type=\"euclidean\"), 2.0000, 2)\n",
    "\n",
    "np.testing.assert_almost_equal(\n",
    "    distance_function(np.array([0, 0]), np.array([2, 3]), distance_type=\"euclidean\"), 3.6055, 2)\n",
    "\n",
    "np.testing.assert_almost_equal(\n",
    "    distance_function(np.array([0, 1, 2, 3, 4]), np.array([0, -1, -2, -3, -4]), distance_type=\"euclidean\"), 10.9544, 2)\n",
    "\n",
    "\n",
    "# Test Dot product\n",
    "\n",
    "np.testing.assert_almost_equal(\n",
    "    distance_function(np.array([1, 2, 4]), np.array([-1, 0, 4]), distance_type=\"dot\"), 15.0, 2)\n",
    "\n",
    "np.testing.assert_almost_equal(\n",
    "    distance_function(np.array([1]), np.array([-1]), distance_type=\"dot\"), -1.0, 2)\n",
    "\n",
    "np.testing.assert_almost_equal(\n",
    "    distance_function(np.array([0, 0]), np.array([2, 3]), distance_type=\"dot\"), 0.0, 2)\n",
    "\n",
    "np.testing.assert_almost_equal(\n",
    "    distance_function(np.array([0, 1, 2, 3, 4]), np.array([0, -1, -2, -3, -4]), distance_type=\"dot\"), -30.0, 2)\n",
    "\n",
    "\n",
    "# Test Cosine distance\n",
    "\n",
    "np.testing.assert_almost_equal(\n",
    "    distance_function(np.array([1, 2, 4]), np.array([-1, 0, 4]), distance_type=\"cosine\"), 0.2061, 2)\n",
    "\n",
    "np.testing.assert_almost_equal(\n",
    "    distance_function(np.array([1]), np.array([-1]), distance_type=\"cosine\"), 2.0, 2)\n",
    "\n",
    "np.testing.assert_almost_equal(\n",
    "    distance_function(np.array([0, 1]), np.array([2, 3]), distance_type=\"cosine\"), 0.1679, 2)\n",
    "\n",
    "np.testing.assert_almost_equal(\n",
    "    distance_function(np.array([0, 1, 2, 3, 4]), np.array([0, -1, -2, -3, -4]), distance_type=\"cosine\"), 2.0, 2)\n",
    "\n",
    "\n",
    "# Test cases where distance can't be computed\n",
    "\n",
    "assert distance_function(np.array([1, 2]), np.array([-1, 0, 4]), distance_type=\"euclidean\") is None\n",
    "assert distance_function(np.array([1, 2]), np.array([-1, 0, 4]), distance_type=\"dot_product\") is None\n",
    "assert distance_function(np.array([1, 2]), np.array([-1, 0, 4]), distance_type=\"cosine\") is None\n",
    "assert distance_function(np.array([1, 2, 3]), np.array([-1, 0, 4]), distance_type=\"no_distance\") is None\n"
   ]
  },
  {
   "cell_type": "markdown",
   "metadata": {
    "deletable": false,
    "editable": false,
    "nbgrader": {
     "grade": false,
     "grade_id": "cell-8f063b7f3242f402",
     "locked": true,
     "schema_version": 3,
     "solution": false,
     "task": false
    }
   },
   "source": [
    "You probably know about some nicer functions to implement what you have done here:\n",
    "* [numpy.linalg.norm](https://docs.scipy.org/doc/numpy/reference/generated/numpy.linalg.norm.html)\n",
    "* [numpy.dot](https://docs.scipy.org/doc/numpy/reference/generated/numpy.dot.html)\n",
    "* [scipy.distance.cosine](https://docs.scipy.org/doc/scipy-0.14.0/reference/generated/scipy.spatial.distance.cosine.html)\n",
    "\n",
    "But we want you to really try to implement these by yourself and understand what is happening.\n"
   ]
  },
  {
   "cell_type": "markdown",
   "metadata": {
    "deletable": false,
    "editable": false,
    "nbgrader": {
     "grade": false,
     "grade_id": "cell-504dea6c50a50be1",
     "locked": true,
     "schema_version": 3,
     "solution": false
    }
   },
   "source": [
    "## Implementing the kNN algorithm\n",
    "\n",
    "Now that we have all of our distances, we'll implement the kNN algorithm.\n",
    "\n",
    "And we'll do it by hand! Let's do this!\n",
    "\n",
    "![lets_do_this](media/lets_do_this.gif)"
   ]
  },
  {
   "cell_type": "markdown",
   "metadata": {
    "deletable": false,
    "editable": false,
    "nbgrader": {
     "grade": false,
     "grade_id": "cell-afacbad08e39318b",
     "locked": true,
     "schema_version": 3,
     "solution": false
    }
   },
   "source": [
    "### Exercise 3 - Finding the closest neighbors \n",
    "\n",
    "The first step is to find the nearest data points. For that purpose, implement a function called `find_nearest_neighbours`, that:\n",
    "\n",
    "* receives four arguments:\n",
    "    * x, which is a numpy array with shape (d,)\n",
    "    * dataset, which is a numpy array with shape (N, d), where N is the dataset size\n",
    "    * distance_type, which can be 'euclidean', 'cosine', 'dot'\n",
    "    * k, which is the number of nearest neighbors that we want to consider\n",
    "* Iterates through the dataset and computes the distance from point x to each dataset point, using the function you build before (`distance_function`)\n",
    "* gets the indexes of the k smallest distances (in ascending order)\n",
    "* returns a numpy array of shape (k,) with those indexes\n",
    "\n",
    "Hint: check [numpy.argsort](https://docs.scipy.org/doc/numpy/reference/generated/numpy.argsort.html)."
   ]
  },
  {
   "cell_type": "code",
   "execution_count": null,
   "metadata": {
    "deletable": false,
    "nbgrader": {
     "grade": false,
     "grade_id": "cell-579a133d5f7272c2",
     "locked": false,
     "schema_version": 3,
     "solution": true
    }
   },
   "outputs": [],
   "source": [
    "def find_nearest_neighbours(x, dataset, distance_type=\"euclidean\", k=5):\n",
    "    \"\"\"\n",
    "    Finds the k nearest neighbors by getting a distance between \n",
    "    a point and all the other points in a dataset and sorting \n",
    "    them, retrieving the indices of the closest points\n",
    "    \n",
    "    Parameters\n",
    "    ----------\n",
    "    x: numpy array with shape (d,)\n",
    "    dataset: numpy array with shape (N, d)\n",
    "    distance_type: str - enumerate, can be one of `euclidean`, `dot_product`\n",
    "        or `cosine`\n",
    "    k: int, the number of nearest neighbors we want to consider\n",
    "\n",
    "    Returns\n",
    "    ----------\n",
    "    indexes: numpy array with shape (k,)\n",
    "    \"\"\"\n",
    "\n",
    "    # 1. Compute the distance from x to all points in dataset\n",
    "    # YOUR CODE HERE\n",
    "    raise NotImplementedError()\n",
    "      \n",
    "    # 2. Get the indices of the closest data points\n",
    "    # YOUR CODE HERE\n",
    "    raise NotImplementedError()\n",
    "    \n",
    "    return indexes\n"
   ]
  },
  {
   "cell_type": "code",
   "execution_count": null,
   "metadata": {
    "deletable": false,
    "editable": false,
    "nbgrader": {
     "grade": true,
     "grade_id": "cell-601006c4a24f1f22",
     "locked": true,
     "points": 3,
     "schema_version": 3,
     "solution": false
    }
   },
   "outputs": [],
   "source": [
    "dataset = datasets.load_iris().data\n",
    "x = np.array([4.9, 3.0, 6.1, 2.2])\n",
    "\n",
    "knn_1 = find_nearest_neighbours(x, dataset, 'euclidean', 3)\n",
    "assert knn_1.shape == (3,)\n",
    "assert _hash(knn_1.tolist()) == '408b0d26e3ebc7c7998cd6ae42215e0f49c2f867'\n",
    "\n",
    "knn_2 = find_nearest_neighbours(x, dataset, 'euclidean', 10)\n",
    "assert knn_2.shape == (10,)\n",
    "assert _hash(knn_2.tolist()) == '637f612aec53627ec340ab031592ce29e119ae71'\n",
    "\n",
    "knn_3 = find_nearest_neighbours(x, dataset, 'dot', 3)\n",
    "assert knn_3.shape == (3,)\n",
    "assert _hash(knn_3.tolist()) == '45b13c85dbee9e89703048b3b455afc6bee87b8e'\n",
    "\n",
    "knn_4 = find_nearest_neighbours(x, dataset, 'dot', 10)\n",
    "assert knn_4.shape == (10,)\n",
    "assert _hash(knn_4.tolist()) == 'f4399de12191b8025964f37dc394a6efc1dd937f'\n",
    "\n",
    "knn_5 = find_nearest_neighbours(x, dataset, 'cosine', 3)\n",
    "assert knn_5.shape == (3,)\n",
    "assert _hash(knn_5.tolist()) == '6dcf71640710b0aa90cae6e856220c8919a167ab'\n",
    "\n",
    "knn_6 = find_nearest_neighbours(x, dataset, 'cosine', 10)\n",
    "assert knn_6.shape == (10,)\n",
    "assert _hash(knn_6.tolist()) == '98a8ccaafdfaab3aba3a122fd22982cb820c6370'\n"
   ]
  },
  {
   "cell_type": "markdown",
   "metadata": {
    "deletable": false,
    "editable": false,
    "nbgrader": {
     "grade": false,
     "grade_id": "cell-517ad31f00e4c79a",
     "locked": true,
     "schema_version": 3,
     "solution": false
    }
   },
   "source": [
    "### Exercise 4 - Classifying from nearest neighbours\n",
    "\n",
    "Now that we have a function that gets the indexes of the k nearest neighbors, we need to get the values of those neighbors, so that afterwards we can predict the label for our point. For the classification problem, this \n",
    "means getting all the labels (the values from the neighbours) and **returning the most common label**.\n",
    "\n",
    "In this exercise, you'll implement a function called `get_knn_class`, where you'll do just that:\n",
    "\n",
    "* receives two arguments:\n",
    "    * y, which is a numpy array with the targets from dataset\n",
    "    * neighbor_indexes, which are the indexes of the k nearest neighbors (like the output of the last function)\n",
    "* gets the values from y using the indexes from neighbor_indexes\n",
    "* checks the most frequent label and returns it\n"
   ]
  },
  {
   "cell_type": "code",
   "execution_count": null,
   "metadata": {
    "deletable": false,
    "nbgrader": {
     "grade": false,
     "grade_id": "cell-f9d4962cb0206df9",
     "locked": false,
     "schema_version": 3,
     "solution": true
    }
   },
   "outputs": [],
   "source": [
    "# implement a function called get_neighbors_labels\n",
    "\n",
    "def get_knn_class(y, neighbor_indexes):\n",
    "    \"\"\"\n",
    "    Get the label values from the k nearest neighbors and \n",
    "    return the most frequent one, i.e., the actual class\n",
    "    that knn classification yields.\n",
    "    \n",
    "    Parameters\n",
    "    ----------\n",
    "    y: numpy array with shape (N,) - labels\n",
    "    neighbor_indexes: numpy array with shape (k,) - indexes of neighbors\n",
    "    \n",
    "    Returns\n",
    "    ----------\n",
    "    knn_label: int\n",
    "    \"\"\"\n",
    "    \n",
    "\n",
    "    # 1. Get the labels from the observed neighbors\n",
    "    # YOUR CODE HERE\n",
    "    raise NotImplementedError()\n",
    "    \n",
    "    # 2. Get the most common label\n",
    "    # YOUR CODE HERE\n",
    "    raise NotImplementedError()\n",
    "    \n",
    "    return knn_label\n"
   ]
  },
  {
   "cell_type": "code",
   "execution_count": null,
   "metadata": {
    "deletable": false,
    "editable": false,
    "nbgrader": {
     "grade": true,
     "grade_id": "cell-10829453a40bdac6",
     "locked": true,
     "points": 2,
     "schema_version": 3,
     "solution": false
    }
   },
   "outputs": [],
   "source": [
    "np.random.seed(42) \n",
    "\n",
    "# Test case 1\n",
    "answer = get_knn_class(np.random.rand(150), np.random.randint(0, 3, 3))\n",
    "assert isinstance(answer, int)\n",
    "assert answer == 0, answer\n",
    "\n",
    "# Test case 2\n",
    "answer = get_knn_class(np.random.rand(10), np.random.randint(1, 5, 7))\n",
    "assert isinstance(answer, int)\n",
    "assert answer == 0, answer\n",
    "\n",
    "np.random.seed(42) \n"
   ]
  },
  {
   "cell_type": "markdown",
   "metadata": {
    "deletable": false,
    "editable": false,
    "nbgrader": {
     "grade": false,
     "grade_id": "cell-f1673e70245a5b75",
     "locked": true,
     "schema_version": 3,
     "solution": false,
     "task": false
    }
   },
   "source": [
    "### Exercise 5 - Classification with KNN (Putting everything together)\n",
    "\n",
    "Finally we can put everything together and implement the knn classifier!\n",
    "\n",
    "In this exercise, you'll implement a function called `knn_classifier`, that:\n",
    "\n",
    "* receives five arguments:\n",
    "    * x, which is a numpy array with shape (d,)\n",
    "    * dataset, which is a numpy array with shape (N, d), where N is the dataset size\n",
    "    * targets, which is a numpy array with shape (N,), that has the targets for each of the points in the dataset\n",
    "    * k, which is the number of nearest neighbors our knn algorithm will consider\n",
    "    * distance_function, which can be 'euclidean', 'cosine', 'dot'\n",
    "* uses the functions that we implemented above in order to implement a knn_classifier!\n"
   ]
  },
  {
   "cell_type": "code",
   "execution_count": null,
   "metadata": {
    "deletable": false,
    "nbgrader": {
     "grade": false,
     "grade_id": "cell-52fb6a8a51b6ff92",
     "locked": false,
     "schema_version": 3,
     "solution": true,
     "task": false
    }
   },
   "outputs": [],
   "source": [
    "def knn_classifier(x, dataset, targets, k, distance_function):\n",
    "    \"\"\"\n",
    "    Predicts the label for a single point, given a dataset, a value for k and a distance function\n",
    "    \n",
    "    Parameters\n",
    "    ----------\n",
    "    x: numpy array with shape (d,)\n",
    "    dataset: numpy array with shape (N, d)\n",
    "    targets: numpy array with shape (N,)\n",
    "    k: int\n",
    "    distance_function: string\n",
    "    \n",
    "    Returns\n",
    "    ----------\n",
    "    label: int\n",
    "    \"\"\"\n",
    "\n",
    "    # YOUR CODE HERE\n",
    "    raise NotImplementedError()\n",
    "    \n",
    "    return label\n"
   ]
  },
  {
   "cell_type": "code",
   "execution_count": null,
   "metadata": {
    "deletable": false,
    "editable": false,
    "nbgrader": {
     "grade": true,
     "grade_id": "cell-089aad803d5ae57f",
     "locked": true,
     "points": 2,
     "schema_version": 3,
     "solution": false,
     "task": false
    }
   },
   "outputs": [],
   "source": [
    "dataset = datasets.load_iris().data\n",
    "targets = datasets.load_iris().target\n",
    "x = np.array([4.9, 3.0, 6.1, 2.2])\n",
    "\n",
    "tests = [\n",
    "    {\n",
    "        'input': [x, dataset, targets, 3, 'euclidean'],\n",
    "        'expected_value': 2\n",
    "    },\n",
    "    {\n",
    "        'input': [x, dataset, targets, 5, 'dot'],\n",
    "        'expected_value': 0\n",
    "    },\n",
    "    {\n",
    "        'input': [x, dataset, targets, 1, 'cosine'],\n",
    "        'expected_value': 2\n",
    "    }\n",
    "]\n",
    "\n",
    "for test in tests:\n",
    "    pred_label = knn_classifier(*test['input'])\n",
    "    assert isinstance(pred_label, int), \"The function should return an integer!\"\n",
    "    assert pred_label == test['expected_value'], \"The returned int has the wrong value!\""
   ]
  },
  {
   "cell_type": "markdown",
   "metadata": {
    "deletable": false,
    "editable": false,
    "nbgrader": {
     "grade": false,
     "grade_id": "cell-75c560ee36ba7ee3",
     "locked": true,
     "schema_version": 3,
     "solution": false
    }
   },
   "source": [
    "Great job! You now have a working KNN classifier!\n",
    "\n",
    "![its-alive](media/its-alive.png)\n",
    "\n",
    "\n",
    "Now that we've implemented a knn classifier, let's go a bit further and implement a knn regressor!\n",
    "\n",
    "\n",
    "### Exercise 6 - Regression with KNN\n",
    "\n",
    "\n",
    "As we explained in the learning notebook, the main difference between a knn classifier and a knn regressor is the way we choose the predicted label from the labels of the nearest neighbors. So we can reuse the first step of retrieving the neighbours.\n",
    "\n",
    "For the classifier case we used a majority vote. In the regressor case, we want to use the average value of the neighbors' labels.\n",
    "\n",
    "In this exercise, start by implementing a function called `get_knn_value`, that:\n",
    "\n",
    "* receives two arguments:\n",
    "    * y, which is a numpy array with the targets from dataset\n",
    "    * neighbor_indexes, which are the indexes of the k nearest neighbors (like the output of the last function)\n",
    "* gets the values from y using the indexes from neighbor_indexes\n",
    "* returns the average of the nearest neighbors' labels\n",
    "\n"
   ]
  },
  {
   "cell_type": "code",
   "execution_count": null,
   "metadata": {
    "deletable": false,
    "nbgrader": {
     "grade": false,
     "grade_id": "cell-2ee17f126f1a73d7",
     "locked": false,
     "schema_version": 3,
     "solution": true,
     "task": false
    }
   },
   "outputs": [],
   "source": [
    "def get_knn_value(y, neighbor_indexes):\n",
    "    \"\"\"\n",
    "    Get the label values from the k nearest neighbors and \n",
    "    return the average value, i.e., the actual output of our \n",
    "    knn regressor\n",
    "    \n",
    "    Parameters\n",
    "    ----------\n",
    "    y: numpy array with shape (N,) - labels\n",
    "    neighbor_indexes: numpy array with shape (k,) - indexes of neighbors\n",
    "    \n",
    "    Returns\n",
    "    ----------\n",
    "    knn_label: float\n",
    "    \"\"\"\n",
    "\n",
    "    # 1. Get the labels from the observed neighbors\n",
    "    # YOUR CODE HERE\n",
    "    raise NotImplementedError()\n",
    "    \n",
    "    # 2. Get the average label value\n",
    "    # YOUR CODE HERE\n",
    "    raise NotImplementedError()\n",
    "    \n",
    "    return knn_label\n"
   ]
  },
  {
   "cell_type": "code",
   "execution_count": null,
   "metadata": {
    "deletable": false,
    "editable": false,
    "nbgrader": {
     "grade": true,
     "grade_id": "cell-dea39d8bb2bae597",
     "locked": true,
     "points": 2,
     "schema_version": 3,
     "solution": false,
     "task": false
    }
   },
   "outputs": [],
   "source": [
    "np.random.seed(42) \n",
    "\n",
    "# Test case 1\n",
    "answer = get_knn_value(np.random.rand(150), np.random.randint(0, 3, 3))\n",
    "assert isinstance(answer, float)\n",
    "np.testing.assert_almost_equal(answer, 0.4937, 2)\n",
    "\n",
    "# Test case 2\n",
    "answer = get_knn_value(np.random.rand(10), np.random.randint(1, 5, 7))\n",
    "assert isinstance(answer, float)\n",
    "np.testing.assert_almost_equal(answer, 0.5192, 2)\n"
   ]
  },
  {
   "cell_type": "markdown",
   "metadata": {
    "deletable": false,
    "editable": false,
    "nbgrader": {
     "grade": false,
     "grade_id": "cell-7a3f694fbcb9bc02",
     "locked": true,
     "schema_version": 3,
     "solution": false
    }
   },
   "source": [
    "### Exercise 7\n",
    "\n",
    "And we're ready to implement the knn regressor! Keep up the good work, we're almost there!\n",
    "\n",
    "![almost_there](media/almost_there.gif)\n",
    "\n",
    "In this exercise, you'll implement a function called `knn_regressor`, that:\n",
    "\n",
    "* receives five arguments:\n",
    "    * x, which is a numpy array with shape (d,)\n",
    "    * dataset, which is a numpy array with shape (N, d), where N is the dataset size, and d is the number of dimensions that the points in the dataset have\n",
    "    * targets, which is a numpy array with shape (N,), that has the targets for each of the points in the dataset\n",
    "    * k, which is the number of nearest neighbors our knn algorithm will consider\n",
    "    * distance_function, which can be 'euclidean', 'cosine', 'dot'\n",
    "* uses the functions that we implemented above in order to implement a knn_regressor!"
   ]
  },
  {
   "cell_type": "code",
   "execution_count": null,
   "metadata": {
    "deletable": false,
    "nbgrader": {
     "grade": false,
     "grade_id": "cell-5cb72f729002e93f",
     "locked": false,
     "schema_version": 3,
     "solution": true
    }
   },
   "outputs": [],
   "source": [
    "# implement a function called knn_classifier\n",
    "\n",
    "def knn_regressor(x, dataset, targets, k, distance_function):\n",
    "    \"\"\"\n",
    "    Predicts the label for a single point, given a dataset, a value for k and a distance function\n",
    "    \n",
    "    Parameters\n",
    "    ----------\n",
    "    x: numpy array with shape (d,)\n",
    "    dataset: numpy array with shape (N, d)\n",
    "    targets: numpy array with shape (N,)\n",
    "    k: int\n",
    "    distance_function: string\n",
    "    \n",
    "    Returns\n",
    "    ----------\n",
    "    label: float\n",
    "    \"\"\"\n",
    "\n",
    "    # YOUR CODE HERE\n",
    "    raise NotImplementedError()\n",
    "\n",
    "    return label\n"
   ]
  },
  {
   "cell_type": "code",
   "execution_count": null,
   "metadata": {
    "deletable": false,
    "editable": false,
    "nbgrader": {
     "grade": true,
     "grade_id": "cell-90a7594798c1c9fe",
     "locked": true,
     "points": 1,
     "schema_version": 3,
     "solution": false
    }
   },
   "outputs": [],
   "source": [
    "np.random.seed(42)\n",
    "dataset = datasets.load_diabetes().data\n",
    "targets = datasets.load_diabetes().target\n",
    "x = np.random.rand(10)\n",
    "\n",
    "prediction = knn_regressor(x, dataset, targets, 3, 'euclidean')\n",
    "assert isinstance(prediction, float)\n",
    "assert math.isclose(prediction, 265.666, rel_tol=1e-04)\n",
    "\n",
    "prediction = knn_regressor(x, dataset, targets, 5, 'dot')\n",
    "assert isinstance(prediction, float)\n",
    "assert math.isclose(prediction, 92.8, rel_tol=1e-04)\n",
    "\n",
    "prediction = knn_regressor(x, dataset, targets, 1, 'cosine')\n",
    "assert isinstance(prediction, float)\n",
    "assert math.isclose(prediction, 264.0, rel_tol=1e-04)"
   ]
  },
  {
   "cell_type": "markdown",
   "metadata": {
    "deletable": false,
    "editable": false,
    "nbgrader": {
     "grade": false,
     "grade_id": "cell-5e58c10a7fb9bd1f",
     "locked": true,
     "schema_version": 3,
     "solution": false
    }
   },
   "source": [
    "**Well done!!!**\n",
    "\n",
    "![we_did_it](media/we_did_it.gif)"
   ]
  },
  {
   "cell_type": "markdown",
   "metadata": {
    "deletable": false,
    "editable": false,
    "nbgrader": {
     "grade": false,
     "grade_id": "cell-49a7da6e8b5dc30a",
     "locked": true,
     "schema_version": 3,
     "solution": false
    }
   },
   "source": [
    "Finally let's wrap this up with a couple of exercises on how to use scikit's knn models.\n",
    "\n",
    "## Using scikit's knn models"
   ]
  },
  {
   "cell_type": "markdown",
   "metadata": {
    "deletable": false,
    "editable": false,
    "nbgrader": {
     "grade": false,
     "grade_id": "cell-29d1ac30de7cb219",
     "locked": true,
     "schema_version": 3,
     "solution": false
    }
   },
   "source": [
    "### Exercise 8\n",
    "\n",
    "Use a `KNeighborsClassifier` to create predictions for the [brest cancer dataset](https://scikit-learn.org/stable/datasets/index.html#breast-cancer-dataset).\n",
    "\n",
    "Please read the link above in order to understand the task we're solving \n",
    "\n",
    "Follow the instructions in the comments in the exercise cell."
   ]
  },
  {
   "cell_type": "code",
   "execution_count": null,
   "metadata": {
    "deletable": false,
    "editable": false,
    "nbgrader": {
     "grade": false,
     "grade_id": "cell-2f75ec8dc1d54dd9",
     "locked": true,
     "schema_version": 3,
     "solution": false
    }
   },
   "outputs": [],
   "source": [
    "import numpy as np\n",
    "import pandas as pd\n",
    "import hashlib\n",
    "import json\n",
    "\n",
    "from scipy.spatial.distance import cosine\n",
    "from sklearn.model_selection import train_test_split\n",
    "from sklearn.neighbors import KNeighborsClassifier, KNeighborsRegressor\n",
    "from sklearn.metrics import accuracy_score"
   ]
  },
  {
   "cell_type": "code",
   "execution_count": null,
   "metadata": {
    "deletable": false,
    "nbgrader": {
     "grade": false,
     "grade_id": "cell-08dc6b8c978617eb",
     "locked": false,
     "schema_version": 3,
     "solution": true
    }
   },
   "outputs": [],
   "source": [
    "# We start by importing the dataset\n",
    "data = datasets.load_breast_cancer()\n",
    "\n",
    "# Now do a train test split, using the train_test_split function from scikit\n",
    "# Use a test_size of 0.25 and a random_state of 42\n",
    "# X_train, X_test, y_train, y_test = ...\n",
    "\n",
    "# YOUR CODE HERE\n",
    "raise NotImplementedError()"
   ]
  },
  {
   "cell_type": "code",
   "execution_count": null,
   "metadata": {
    "deletable": false,
    "editable": false,
    "nbgrader": {
     "grade": true,
     "grade_id": "cell-85dd231d39ba1054",
     "locked": true,
     "points": 1,
     "schema_version": 3,
     "solution": false
    }
   },
   "outputs": [],
   "source": [
    "tests = [\n",
    "    {\n",
    "        'dataset_type': 'X_train',\n",
    "        'dataset': X_train,\n",
    "        'shape_hash': '31ffabcaf98971831a5f8ad05ba70049a86bd60bda0a971ca9691388f9f72f8b'\n",
    "    },\n",
    "    {\n",
    "        'dataset_type': 'X_test',\n",
    "        'dataset': X_test,\n",
    "        'shape_hash': '747c580b9756b4741bfbe812b8ca9fd8d047a5d6f9e3ebe53d4d15117f42ec2a'\n",
    "    },\n",
    "    {\n",
    "        'dataset_type': 'y_train',\n",
    "        'dataset': y_train,\n",
    "        'shape_hash': '23a4f6ee909897142105a6577ac39ff86c353b8ad0ded0bece87829bb1953a58'\n",
    "    },\n",
    "    {\n",
    "        'dataset_type': 'y_test',\n",
    "        'dataset': y_test,\n",
    "        'shape_hash': '40957487610d92ca4dd2d37ec155c40d20091a504bf65270a3cd28e6863ef633'\n",
    "    },\n",
    "]\n",
    "\n",
    "for test in tests:\n",
    "    shape_hash = hashlib.sha256(json.dumps(test['dataset'].shape).encode()).hexdigest()\n",
    "\n",
    "    assert isinstance(test['dataset'], np.ndarray), f\"{test['dataset_type']} should be a numpy array!\"\n",
    "    assert shape_hash == test['shape_hash'], \"The returned numpy array has the wrong shape!\""
   ]
  },
  {
   "cell_type": "code",
   "execution_count": null,
   "metadata": {
    "deletable": false,
    "nbgrader": {
     "grade": false,
     "grade_id": "cell-bf5bdec884565df8",
     "locked": false,
     "schema_version": 3,
     "solution": true
    }
   },
   "outputs": [],
   "source": [
    "# Now instantiate a kNN Classifier with k=3, that uses the euclidean distance as distance function\n",
    "# In scikit, the euclidean distance is the default one and goes by the name of 'minkowski'\n",
    "# which is in fact a generalisation of the euclidean distance\n",
    "# clf = ...\n",
    "# YOUR CODE HERE\n",
    "raise NotImplementedError()\n",
    "\n",
    "\n",
    "# Get predictions for the test dataset\n",
    "# y_pred = ...\n",
    "# YOUR CODE HERE\n",
    "raise NotImplementedError()\n",
    "\n",
    "# Measure the accuracy of your solution using scikit's accuracy_score function\n",
    "# accuracy = ...\n",
    "# YOUR CODE HERE\n",
    "raise NotImplementedError()"
   ]
  },
  {
   "cell_type": "code",
   "execution_count": null,
   "metadata": {
    "deletable": false,
    "editable": false,
    "nbgrader": {
     "grade": true,
     "grade_id": "cell-04b5eaa6dd765f64",
     "locked": true,
     "points": 1,
     "schema_version": 3,
     "solution": false
    }
   },
   "outputs": [],
   "source": [
    "assert isinstance(clf, KNeighborsClassifier)\n",
    "assert clf.n_neighbors == 3\n",
    "assert clf.metric == 'minkowski'\n",
    "\n",
    "assert isinstance(y_pred, np.ndarray)\n",
    "assert y_pred.shape == (143,)\n",
    "\n",
    "assert isinstance(accuracy, float)\n",
    "assert math.isclose(accuracy, 0.930069, rel_tol=1e-04)"
   ]
  },
  {
   "cell_type": "markdown",
   "metadata": {
    "deletable": false,
    "editable": false,
    "nbgrader": {
     "grade": false,
     "grade_id": "cell-967467f1173ef45d",
     "locked": true,
     "schema_version": 3,
     "solution": false
    }
   },
   "source": [
    "## Exercise 9\n",
    "\n",
    "Now we want to see the difference if we use the cosine distance instead of the euclidean distance.\n",
    "\n",
    "Go through the same steps as the previous exercise, but use the cosine distance as the distance metric in the knn classifier."
   ]
  },
  {
   "cell_type": "code",
   "execution_count": null,
   "metadata": {
    "deletable": false,
    "nbgrader": {
     "grade": false,
     "grade_id": "cell-2d3c89f8bdfa66f9",
     "locked": false,
     "schema_version": 3,
     "solution": true
    }
   },
   "outputs": [],
   "source": [
    "# Instantiate a kNN Classifier with k=3, that uses the cosine distance as distance function\n",
    "# clf = ...\n",
    "# YOUR CODE HERE\n",
    "raise NotImplementedError()\n",
    "\n",
    "\n",
    "# Get predictions for the test dataset\n",
    "# y_pred = ...\n",
    "# YOUR CODE HERE\n",
    "raise NotImplementedError()\n",
    "\n",
    "# Measure the accuracy of your solution using scikit's accuracy_score function\n",
    "# accuracy = ...\n",
    "# YOUR CODE HERE\n",
    "raise NotImplementedError()"
   ]
  },
  {
   "cell_type": "code",
   "execution_count": null,
   "metadata": {
    "deletable": false,
    "editable": false,
    "nbgrader": {
     "grade": true,
     "grade_id": "cell-27bbc70efc45d988",
     "locked": true,
     "points": 1,
     "schema_version": 3,
     "solution": false
    }
   },
   "outputs": [],
   "source": [
    "assert isinstance(clf, KNeighborsClassifier)\n",
    "assert clf.n_neighbors == 3\n",
    "assert clf.metric == cosine\n",
    "\n",
    "assert isinstance(y_pred, np.ndarray)\n",
    "assert y_pred.shape == (143,)\n",
    "\n",
    "assert isinstance(accuracy, float)\n",
    "assert math.isclose(accuracy, 0.93706, rel_tol=1e-04)"
   ]
  },
  {
   "cell_type": "markdown",
   "metadata": {
    "deletable": false,
    "editable": false,
    "nbgrader": {
     "grade": false,
     "grade_id": "cell-f2b878d628477891",
     "locked": true,
     "schema_version": 3,
     "solution": false,
     "task": false
    }
   },
   "source": [
    "## Exercise 10\n",
    "\n",
    "And the last exercise. \n",
    "\n",
    "Try different combinations of n_neighbors and metric and choose the option with the highest accuracy:\n",
    "\n",
    "1. n_neighbors = 7, metric = 'minkowski'\n",
    "2. n_neighbors = 9, metric = 'cosine'\n",
    "3. n_neighbors = 11, metric = 'minkowski'\n",
    "4. n_neighbors = 11, metric = 'cosine'\n",
    "\n",
    "Write the answer to a variable called best_parameters as an integer (1, 2, 3 or 4)"
   ]
  },
  {
   "cell_type": "code",
   "execution_count": null,
   "metadata": {
    "deletable": false,
    "nbgrader": {
     "grade": false,
     "grade_id": "cell-121669e3e8e57b20",
     "locked": false,
     "schema_version": 3,
     "solution": true,
     "task": false
    }
   },
   "outputs": [],
   "source": [
    "# Find the best combination of n_neighbors and metric\n",
    "# best_parameters = ...\n",
    "# YOUR CODE HERE\n",
    "raise NotImplementedError()"
   ]
  },
  {
   "cell_type": "code",
   "execution_count": null,
   "metadata": {
    "deletable": false,
    "editable": false,
    "nbgrader": {
     "grade": true,
     "grade_id": "cell-75ff4cbbd03e8e9c",
     "locked": true,
     "points": 2,
     "schema_version": 3,
     "solution": false,
     "task": false
    }
   },
   "outputs": [],
   "source": [
    "# Test\n",
    "assert isinstance(best_parameters, int)\n",
    "assert hashlib.sha256(bytes(best_parameters)).hexdigest() == '709e80c88487a2411e1ee4dfb9f22a861492d20c4765150c0c794abd70f8147c'\n"
   ]
  },
  {
   "cell_type": "markdown",
   "metadata": {
    "deletable": false,
    "editable": false,
    "nbgrader": {
     "grade": false,
     "grade_id": "cell-202c9f284ddef192",
     "locked": true,
     "schema_version": 3,
     "solution": false
    }
   },
   "source": [
    "And we're done! Nice job ;)"
   ]
  },
  {
   "cell_type": "markdown",
   "metadata": {
    "deletable": false,
    "editable": false,
    "nbgrader": {
     "grade": false,
     "grade_id": "cell-1a098c74dbde1f1a",
     "locked": true,
     "schema_version": 3,
     "solution": false
    }
   },
   "source": [
    "![were_done](media/were_done.gif)"
   ]
  }
 ],
 "metadata": {
  "kernelspec": {
   "display_name": "Python 3 (ipykernel)",
   "language": "python",
   "name": "python3"
  },
  "language_info": {
   "codemirror_mode": {
    "name": "ipython",
    "version": 3
   },
   "file_extension": ".py",
   "mimetype": "text/x-python",
   "name": "python",
   "nbconvert_exporter": "python",
   "pygments_lexer": "ipython3",
   "version": "3.7.8"
  }
 },
 "nbformat": 4,
 "nbformat_minor": 2
}
