{
 "cells": [
  {
   "cell_type": "markdown",
   "metadata": {},
   "source": [
    "# SLU7 - Regression with Linear Regression: Learning notebook\n",
    "\n",
    "In this notebook we will cover the following:\n",
    "\n",
    "    - What is regression?\n",
    "    - Simple Linear Regression\n",
    "    - Mean Squared Error\n",
    "    - Closed Form Solution - Ordinary Least Squares\n",
    "    - Multiple Linear Regression\n",
    "    - Scikit LinearRegression\n",
    "    - Gradient Descent basics"
   ]
  },
  {
   "cell_type": "markdown",
   "metadata": {},
   "source": [
    "## 1 - What is regression? \n",
    "\n",
    "A modeling task which objective is to create a (linear or non-linear) map between the **independent variables** (i.e. the columns in your pandas dataframe) and a set of **continuous dependent variables** (i.e. the variable you want to predict) by estimating a set of **parameters**. \n",
    "\n",
    "**Examples of regression tasks:**\n",
    "\n",
    "* predicting house prices (example range: \\[ 100k €; 500k € \\]);\n",
    "* predicting the rating that a user would assign to a movie (example range: [1 start; 7 stars]); \n",
    "* predicting the total sales for each day, in each shop of a shopping mall;\n",
    "* predicting emotional descriptors for a song;\n",
    "* predicting the trajectory of a fighter jet.\n",
    "\n",
    "**Predicting house prices:**\n",
    "\n",
    "Let's align the first 3 terms we used with an example: \n",
    "\n",
    "When predicting house prices...\n",
    "\n",
    "* the **independent variables** are the features related to the house like the number of rooms, the total area available, the crime rate of the neighborhood, the number of miles to the closest big city; \n",
    "* the **dependent variable** is the price of the house;\n",
    "* the **parameters** are a set of internal variables that will define the mapping between the previous variables.\n",
    "\n",
    "To predict the house prices, the regression model will take the independent variables and its internal parameters, perform a sequence of operations with those two and output the price of the house.\n",
    "\n",
    "Nowadays, there are *a lot* of algorithms to solve this task but we will focus on one of the easiest to understand: **linear regression**. It is one of the most used regression methods in the world to this day due to how easy it is to (1) interpret the model, (2) implement it and (3) implement extensions that deal with datasets with few data points, noise, and outliers. \n",
    "\n",
    "First, let's explore how **simple linear regression** works.\n",
    "\n",
    "![easy](assets/lets_do_it.gif)"
   ]
  },
  {
   "cell_type": "markdown",
   "metadata": {},
   "source": [
    "# 1 - Simple Linear Regression\n",
    "\n",
    "This model is a special case of linear regression where you have a single feature. The model is, simply, a line equation\n",
    "\n",
    "$$\\hat{y} = \\beta_0 + \\beta_1 \\cdot x$$\n",
    "\n",
    "* $\\hat{y}$ is the value predicted by the model; \n",
    "* $x$ is the input feature; \n",
    "* $\\beta_0$ is the y-axis value where $x=0$, usually called the *intercept*; \n",
    "* $\\beta_1$ tells you how much $\\hat{y}$ changes when $x$ changes, usually called the *coefficient*.\n",
    "\n",
    "The impact of $x$ in $\\hat{y}$ can be state as the following: _For each unit you increment in $x$, you increment $\\beta_1$ units in $\\hat{y}$._\n",
    "\n",
    "Let's see an example so we can better understand what all this symbols are about!\n",
    "\n",
    "#### House pricing example:\n",
    "\n",
    "For example: \n",
    "\n",
    "$$HousePrice = 1.1 + 4 \\cdot NumberOfRooms$$\n",
    "\n",
    "means that the _price of the house increments 4 units (e.g. 1 unit = 10000€) each time I add a room to the house._"
   ]
  },
  {
   "cell_type": "markdown",
   "metadata": {},
   "source": [
    "## 1.1 - Implementing and visualizing a simple linear model\n",
    "\n",
    "You can create a simple lambda function in order to implement this model:"
   ]
  },
  {
   "cell_type": "code",
   "execution_count": 1,
   "metadata": {},
   "outputs": [],
   "source": [
    "linear_regression = lambda x, b0, b1: b0 + b1 * x"
   ]
  },
  {
   "cell_type": "markdown",
   "metadata": {},
   "source": [
    "And then use it by passing some data and parameters:"
   ]
  },
  {
   "cell_type": "code",
   "execution_count": 2,
   "metadata": {},
   "outputs": [
    {
     "data": {
      "image/png": "[encoded data removed]",
      "text/plain": [
       "<Figure size 432x288 with 1 Axes>"
      ]
     },
     "metadata": {
      "needs_background": "light"
     },
     "output_type": "display_data"
    }
   ],
   "source": [
    "%matplotlib inline\n",
    "import numpy as np\n",
    "import matplotlib.pyplot as plt\n",
    "\n",
    "def plot_regression_simple(x, y, xlim, ylim):\n",
    "    origin = (0, 0)\n",
    "\n",
    "    # Set the x-axis and y-axis limits for the axes\n",
    "    plt.xlim(xlim)\n",
    "    plt.ylim(ylim)\n",
    "\n",
    "    # Plot axis for better visualization\n",
    "    plt.plot(origin, ylim, 'g:', xlim, origin, 'g:', linewidth=0.4)\n",
    "\n",
    "    # Plot linear model\n",
    "    plt.plot(x, y, 'b')\n",
    "    plt.show()\n",
    "\n",
    "# Base independent data\n",
    "x_lin = np.arange(-10, 10)\n",
    "\n",
    "# Parameters\n",
    "intercept = 0\n",
    "coefficient = 2\n",
    "\n",
    "# Dependent variable\n",
    "y_lin = linear_regression(x_lin, intercept, coefficient)\n",
    "plot_regression_simple(x_lin, y_lin, (-12, 12), (-25, 25))"
   ]
  },
  {
   "cell_type": "markdown",
   "metadata": {},
   "source": [
    "Now, imagine that we have some data with noise that we want to fit. Let's load it and visualize its shape:"
   ]
  },
  {
   "cell_type": "code",
   "execution_count": 3,
   "metadata": {},
   "outputs": [
    {
     "data": {
      "text/plain": [
       "[<matplotlib.lines.Line2D at 0x118c56fd0>]"
      ]
     },
     "execution_count": 3,
     "metadata": {},
     "output_type": "execute_result"
    },
    {
     "data": {
      "image/png": "[encoded data removed]",
      "text/plain": [
       "<Figure size 432x288 with 1 Axes>"
      ]
     },
     "metadata": {
      "needs_background": "light"
     },
     "output_type": "display_data"
    }
   ],
   "source": [
    "import pandas as pd \n",
    "\n",
    "df = pd.read_csv('data/linear-learning-notebook.csv')\n",
    "df = df.sort_values('x')\n",
    "x_lin_df = df['x'].values\n",
    "y_lin_df = df['y'].values\n",
    "\n",
    "plt.plot(x_lin_df, y_lin_df, 'b.')"
   ]
  },
  {
   "cell_type": "markdown",
   "metadata": {},
   "source": [
    "Clearly the data looks linear, and you can easily see how good a model fits just by looking at it, right?\n",
    "\n",
    "Use the interactive demo to try it out below:"
   ]
  },
  {
   "cell_type": "code",
   "execution_count": 4,
   "metadata": {},
   "outputs": [
    {
     "data": {
      "application/vnd.jupyter.widget-view+json": {
       "model_id": "e575fc1be5264b75b89a2e4afb7c6098",
       "version_major": 2,
       "version_minor": 0
      },
      "text/plain": [
       "interactive(children=(FloatSlider(value=0.0, description='b0', max=10.0, min=-10.0, step=0.01), FloatSlider(va…"
      ]
     },
     "metadata": {},
     "output_type": "display_data"
    }
   ],
   "source": [
    "import numpy as np\n",
    "import matplotlib.pyplot as plt\n",
    "from ipywidgets import interact, interactive, fixed, interact_manual\n",
    "from ipywidgets import FloatSlider, Dropdown\n",
    "import ipywidgets as widgets\n",
    "\n",
    "def plot_simple_regression(b0=0, b1=1, xlim=(-5, 5), ylim=(-5, 5)):\n",
    "    y_pred = linear_regression(x_lin_df, b0, b1)\n",
    "    plt.xlim(xlim)\n",
    "    plt.ylim(ylim)\n",
    "    plt.plot(x_lin_df, y_lin_df, 'b.')\n",
    "    plt.plot(x_lin_df, y_pred, 'r-')\n",
    "    plt.plot([0, 0], ylim, 'g-', xlim, [0, 0], 'g-', linewidth=0.4)\n",
    "\n",
    "\n",
    "def simple_linear_regression_manual_demo_1(): \n",
    "    interact(plot_simple_regression, \n",
    "         b0=FloatSlider(min=-10, max=10, step=0.01, value=0), \n",
    "         b1=FloatSlider(min=-3, max=3, step=0.01, value=1), \n",
    "         xlim=fixed((-10, 10)), \n",
    "         ylim=fixed((-10, 10)));\n",
    "\n",
    "simple_linear_regression_manual_demo_1()"
   ]
  },
  {
   "cell_type": "markdown",
   "metadata": {},
   "source": [
    "The green plot represents both the x and y-axes while the red line is the $\\hat{y}$ for each value of $x$. As you can see for yourself, if you decrease/increase $\\beta_0$, the value where y cross $\\hat{y}$ decreases/increases. If you increase/decrease $\\beta_1$, the slope of the line increases/decreases.\n",
    "\n",
    "If you were at all familiar with simple linear models before, this should all looking too easy for you. \n",
    "\n",
    "![easy](assets/easy_peasy.gif)\n",
    "\n",
    "However, you might also notice that, although you can get a somewhat good solution, you have no way of knowing exactly how good this solution is. Slight variations around your solution might seem just as adequate just by looking at the plot. \n",
    "\n",
    "So at this point, you might be thinking, there's gotta be a better way."
   ]
  },
  {
   "cell_type": "markdown",
   "metadata": {},
   "source": [
    "## 1.2 - Error measure for Linear Regression\n",
    "\n",
    "Here is where error measures come in. By finding a way of measuring the error in our models, we can more easily find a model that produces the least error. So let's dive into that.\n",
    "\n",
    "The main goal of modeling the data is getting our estimates to be as close to the labels as possible. So, if for each sample, my model outputs a value $\\hat{y_i}$ and we know its true label is $y_i$, then a direct definition of how much the model is wrong would follow:\n",
    "\n",
    "$$ e_i = y - \\hat{y_i} $$\n",
    "\n",
    "But this would only consider one sample, and as we know, the observations might contain noise. So we need to consider all of our observations together and their aggregated error. There are actually several ways of doing this, but the error we will present here is called Mean Squared Error - a standard metric used for linear regressions.\n",
    "\n",
    "$$MSE(y, \\hat{y}) = \\frac{1}{N} \\sum_{n=1}^N (y_n - \\hat{y}_n)^2 $$\n",
    "\n",
    "where, as stated above, $\\hat{y}$ is just the output of our linear model:\n",
    "\n",
    "$$\\hat{y} = \\beta_0 + \\beta_1 \\cdot x$$\n",
    "\n",
    "This is what we usually call a **cost function** or **error function**, representing the error between the true label of our samples and the predictions of our model. The better our model is , the lower this metric should be. We normally use the notation $J$ to refer to the cost function:\n",
    "\n",
    "$$J(y, \\hat{y}) = MSE = \\frac{1}{N} \\sum_{n=1}^N (y_n - \\hat{y}_n)^2 $$\n",
    "\n",
    "\n",
    "We can implement this metric with a lambda function also:"
   ]
  },
  {
   "cell_type": "code",
   "execution_count": 5,
   "metadata": {},
   "outputs": [],
   "source": [
    "linear_regression_mse = lambda y, y_hat: ((y - y_hat)**2).mean()"
   ]
  },
  {
   "cell_type": "markdown",
   "metadata": {},
   "source": [
    "See how the metric increases when our inputs are further apart and decreases when they are close together. In particular, if the prediction matches the label, then the metric is just zero."
   ]
  },
  {
   "cell_type": "code",
   "execution_count": 6,
   "metadata": {},
   "outputs": [
    {
     "name": "stdout",
     "output_type": "stream",
     "text": [
      "Small error measure for close inputs: 0.0024999999999999988\n",
      "Big error measure for distant inputs: 93.62125000000002\n",
      "Null error measure for equal inputs: 0.0\n"
     ]
    }
   ],
   "source": [
    "labels = np.array([0.2, 0.45])\n",
    "close_estimates = np.array([0.25, 0.5])\n",
    "far_estimates = np.array([10., 10.])\n",
    "\n",
    "print('Small error measure for close inputs: {}'.format(linear_regression_mse(labels, close_estimates)))\n",
    "print('Big error measure for distant inputs: {}'.format(linear_regression_mse(labels, far_estimates)))\n",
    "print('Null error measure for equal inputs: {}'.format(linear_regression_mse(labels, labels)))"
   ]
  },
  {
   "cell_type": "markdown",
   "metadata": {},
   "source": [
    "At this point, it should make sense to you that decreasing this metric will lead to a better model. \n",
    "\n",
    "\n",
    "Try to use this metric in the following demo, to find the linear model that fits our data the best, and notice that it goes up as you change towards a worse model, and down as you slide towards a better model."
   ]
  },
  {
   "cell_type": "code",
   "execution_count": 7,
   "metadata": {},
   "outputs": [
    {
     "data": {
      "application/vnd.jupyter.widget-view+json": {
       "model_id": "1768e669f8a44316a5d61e282edcfe86",
       "version_major": 2,
       "version_minor": 0
      },
      "text/plain": [
       "interactive(children=(FloatSlider(value=0.0, description='b0', max=10.0, min=-10.0, step=0.01), FloatSlider(va…"
      ]
     },
     "metadata": {},
     "output_type": "display_data"
    }
   ],
   "source": [
    "import numpy as np\n",
    "import matplotlib.pyplot as plt\n",
    "from ipywidgets import interact, interactive, fixed, interact_manual\n",
    "from ipywidgets import FloatSlider, Dropdown\n",
    "import ipywidgets as widgets\n",
    "\n",
    "def plot_regression(b0=0, b1=1, xlim=(-5, 5), ylim=(-5, 5)):\n",
    "    y_pred = linear_regression(x_lin_df, b0, b1)\n",
    "    plt.xlim(xlim)\n",
    "    plt.ylim(ylim)\n",
    "    plt.plot(x_lin_df, y_lin_df, 'b.')\n",
    "    plt.plot(x_lin_df, y_pred, 'r-')\n",
    "    plt.plot([0, 0], ylim, 'g-', xlim, [0, 0], 'g-', linewidth=0.4)\n",
    "    return \"Mean Squared Error (MSE): {}\".format(linear_regression_mse(y_lin_df, y_pred))\n",
    "\n",
    "\n",
    "def simple_linear_regression_manual_demo_2(): \n",
    "    interact(plot_regression, \n",
    "         b0=FloatSlider(min=-10, max=10, step=0.01, value=0), \n",
    "         b1=FloatSlider(min=-3, max=3, step=0.01, value=1), \n",
    "         xlim=fixed((-10, 10)), \n",
    "         ylim=fixed((-10, 10)));\n",
    "\n",
    "simple_linear_regression_manual_demo_2()"
   ]
  },
  {
   "cell_type": "markdown",
   "metadata": {},
   "source": [
    "So by now you should be convinced that the metric we gave you works.\n",
    "\n",
    "But ok, doing this manually sucks. So, humans developed optimization algorithms to allow machines to adjust $\\beta_0$ and $\\beta_1$ according to some dataset. There are a few ways of doing this:\n",
    "\n",
    "1. Closed form solution through normal equations;\n",
    "2. Iterative methods using gradients;\n",
    "3. Evolutionary methods like genetic algorithms or particle swarm; \n",
    "4. Bayesian optimization.\n",
    "\n",
    "We will explore the first method here, since it is the standard form of solving simple regression problems, and will introduce the gradient descent method also. Gradient descent methods are quite useful because they provide a, somehow, universal approach to optimization tasks and are really simple to grasp. Although we will use a simple version in this Learning Unit,  you will learn more about it on the next SLU for classification."
   ]
  },
  {
   "cell_type": "markdown",
   "metadata": {},
   "source": [
    "## 1.3 -  Closed form solution of Simple Linear Regression models"
   ]
  },
  {
   "cell_type": "markdown",
   "metadata": {},
   "source": [
    "\n",
    "In any optimization problem, our goal is to minimize the error. This is, if our error function has a global minima with respect to the parameters of the model, those are the parameters we want to find. Take the plot below:\n",
    "\n",
    "![cost-function-decrease](assets/cost-function-decrease.jpg)\n",
    "\n",
    "Assuming our function is convex, the problem of getting the minimum can be solved by looking for the point where the derivative is zero. This is exactly what we will do in both the closed form solution and in iterative methods. So, depending on our error function we use, we need to find ways of derivate with respect to each weight in our equations. \n",
    "\n",
    "This sounds like a lot. So if you are not familiar with these concepts at all, you might start to despair.\n",
    "\n",
    "![cost-function-decrease](assets/derivative-panic.gif)\n",
    "\n",
    "\n",
    "But don't worry, we know this is a bootcamp, we're not gonna ask you to learn derivatives over the night. In the same way we provide you with the error measure, we'll also give you the derivatives with respect to the weights.\n",
    "\n",
    "### 1.3.1 - Derivative of error function\n",
    "\n",
    "The derivatives of the error function with respect to our weights are actually very simple expressions. If you are interested in how to get there, you can take a look at the deduction in [this notebook](bonus/Derivatives%20and%20closed%20form%20for%20simple%20linear%20model.ipynb). But for now, just know that we are not tricking you :)\n",
    "\n",
    "\n",
    "First we have the derivative of the intercept:\n",
    "\n",
    "$$\\frac{d J}{d \\beta_0} = -\\frac{1}{N} \\sum_{i=1}^N [2 (y_i - \\hat{y_i})] $$\n",
    "\n",
    "And then the derivative of the coefficient:\n",
    "\n",
    "$$ \\frac{d J}{d \\beta_1} = -\\frac{1}{N}\\sum_{i=1}^N [2( y_i - \\hat{y_i})x_i] $$\n",
    "\n",
    "We could also easily implement them as lambda functions"
   ]
  },
  {
   "cell_type": "code",
   "execution_count": 8,
   "metadata": {},
   "outputs": [],
   "source": [
    "mse_derivative_b0 = lambda y, y_hat: (2*(y - y_hat)).mean()\n",
    "mse_derivative_b1 = lambda y, y_hat, x: (2*(y - y_hat)*x).mean()"
   ]
  },
  {
   "cell_type": "markdown",
   "metadata": {},
   "source": [
    "### 1.3.2 - Closed Form Solution\n",
    "\n",
    "Let's move on to the final part. After all, the goal of all these equations is just to get a solution for our model, right? \n",
    "\n",
    "As we explained before, the closed form solution comes from looking for the point where the derivatives are zero. Once again, we will only show you the final result of doing that, but please look to [this notebook](bonus/Derivatives%20and%20closed%20form%20for%20simple%20linear%20model.ipynb) if you want to see how to get there, step by step. The solution for the simple linear regression is then:\n",
    "\n",
    "$$ \\frac{d J}{d \\beta_0} = 0 \\rightarrow \\beta_0 = \\bar{y} - \\beta_1 \\bar{x} $$ \n",
    "\n",
    "$$ \\frac{d J}{d \\beta_1} = 0 \\rightarrow  \\beta_1 = \\frac{\\sum_{i}^{N}{(x_i - \\bar{x})(y_i - \\bar{y})}}{\\sum_{i}^{N}{(x_i - \\bar{x})^2}} = \\frac{cov(x, y)}{var(x)}$$\n",
    "\n",
    "with cov(x,y) and var(x) being, respectively, the covariance and variance of the samples and $\\bar{y} = \\frac{1}{N}\\sum_{i}^{N}{y_i}$ and $\\bar{x} = \\frac{1}{N}\\sum_{i}^{N}{x_i}$ being the means of the sample.\n",
    "\n",
    "Let's try it out for our previous problem:"
   ]
  },
  {
   "cell_type": "code",
   "execution_count": 9,
   "metadata": {},
   "outputs": [],
   "source": [
    "import pandas as pd \n",
    "\n",
    "df = pd.read_csv('data/linear-learning-notebook.csv')\n",
    "df = df.sort_values('x')\n",
    "x_lin_df = df['x'].values\n",
    "y_lin_df = df['y'].values"
   ]
  },
  {
   "cell_type": "markdown",
   "metadata": {},
   "source": [
    "Let's first compute the means of our sample:"
   ]
  },
  {
   "cell_type": "code",
   "execution_count": 10,
   "metadata": {},
   "outputs": [],
   "source": [
    "x_mean = x_lin_df.mean()\n",
    "y_mean = y_lin_df.mean()"
   ]
  },
  {
   "cell_type": "markdown",
   "metadata": {},
   "source": [
    "Now we can compute the coefficient:"
   ]
  },
  {
   "cell_type": "code",
   "execution_count": 11,
   "metadata": {},
   "outputs": [
    {
     "name": "stdout",
     "output_type": "stream",
     "text": [
      "Coefficient: -1.1445925523992122\n"
     ]
    }
   ],
   "source": [
    "top = np.sum((x_lin_df - x_mean)*(y_lin_df - y_mean))\n",
    "bottom = np.sum((x_lin_df - x_mean)**2)\n",
    "beta_1 = top/bottom\n",
    "\n",
    "print('Coefficient: {}'.format(beta_1))"
   ]
  },
  {
   "cell_type": "markdown",
   "metadata": {},
   "source": [
    "And then we compute the intercept:"
   ]
  },
  {
   "cell_type": "code",
   "execution_count": 12,
   "metadata": {},
   "outputs": [
    {
     "name": "stdout",
     "output_type": "stream",
     "text": [
      "Intercept: -0.4517184116834487\n"
     ]
    }
   ],
   "source": [
    "beta_0 = y_mean - beta_1 * x_mean\n",
    "\n",
    "print('Intercept: {}'.format(beta_0))"
   ]
  },
  {
   "cell_type": "markdown",
   "metadata": {},
   "source": [
    "Plot below the data and the solution found, together with the error measure:"
   ]
  },
  {
   "cell_type": "code",
   "execution_count": 13,
   "metadata": {},
   "outputs": [
    {
     "name": "stdout",
     "output_type": "stream",
     "text": [
      "Mean Squared Error (MSE): 0.7232679595171865\n"
     ]
    },
    {
     "data": {
      "image/png": "[encoded data removed]",
      "text/plain": [
       "<Figure size 432x288 with 1 Axes>"
      ]
     },
     "metadata": {
      "needs_background": "light"
     },
     "output_type": "display_data"
    }
   ],
   "source": [
    "import matplotlib.pyplot as plt\n",
    "\n",
    "y_pred = linear_regression(x_lin_df, beta_0, beta_1)\n",
    "plt.plot(x_lin_df, y_lin_df, 'b.')\n",
    "plt.plot(x_lin_df, y_pred, 'r-')\n",
    "plt.plot([0, 0], [-8, 8], 'g-', [-8, 8], [0, 0], 'g-', linewidth=0.4)\n",
    "\n",
    "print(\"Mean Squared Error (MSE): {}\".format(linear_regression_mse(y_lin_df, y_pred)))"
   ]
  },
  {
   "cell_type": "markdown",
   "metadata": {},
   "source": [
    "And that's it, we've implemented a closed form of solving the simple linear regression. This form can be extended for the multiple linear regression problem you are going to see below. It is also known as **Ordinary Least Squares**, since it minimizes the squared error, and it is actually what is implemented (with a bit more detail) inside scikitlearn. "
   ]
  },
  {
   "cell_type": "markdown",
   "metadata": {},
   "source": [
    "# 2 - Multiple Linear Regression\n",
    "\n",
    "The simple linear regression is a good example to get you started, but most phenomena in our world is dependent on several factors. For example, house prices depend on things like (1) number of rooms, (2) distance to malls, (3) distance to parks, (4) how old the house is, etc. As such, it would be naive, at best, to create a univariate linear model to predict the house prices. So, let's expand our simple linear regression into *multiple* linear regression:\n",
    "\n",
    "$$\\hat{y} = \\beta_0 + \\beta_1 \\cdot x_1 + \\beta_2 \\cdot x_2 + \\beta_3 \\cdot x_3 + \\beta_4 \\cdot x_4 + \\beta_5 \\cdot x_5$$ \n",
    "\n",
    "This can also be written in a collapsed form:\n",
    "\n",
    "$$\\hat{y} = \\beta_0 + \\sum_{i=1}^{5} \\beta_i \\cdot x_i$$\n",
    "\n",
    "And the model generalizes to the following:\n",
    "\n",
    "$$\\hat{y} = \\beta_0 + \\sum_{i=1}^{N} \\beta_i \\cdot x_i$$\n",
    "\n",
    "with an arbitrary number of weights, which correspond to the input features. We can also write it as the combination of matrices:\n",
    "\n",
    "$$\\hat{y} = \\beta_0 + X\\vec{\\beta} $$\n",
    "\n",
    "Where $X$ is a matrix with shape (num_samples, num_features) and $\\vec{\\beta}$ the vector of coefficients. \n",
    "\n"
   ]
  },
  {
   "cell_type": "markdown",
   "metadata": {},
   "source": [
    "## 2.1 - Implementing and visualizing a multiple linear model\n"
   ]
  },
  {
   "cell_type": "markdown",
   "metadata": {},
   "source": [
    "This is still a simple model, and we can implement it with a lambda function again."
   ]
  },
  {
   "cell_type": "code",
   "execution_count": 14,
   "metadata": {},
   "outputs": [],
   "source": [
    "multiple_linear_regression = lambda x, betas: betas[0] + np.matmul(x, betas[1:])"
   ]
  },
  {
   "cell_type": "markdown",
   "metadata": {},
   "source": [
    "Multiple linear regressions are a not as easy to visualize, since they have multiple inputs that affect the output, which, instead of a line, results in a **hyperplane**. However, there is a particular case that we can model and visualize quite easily - the polynomial regression.\n",
    "\n",
    "Polynomial functions are defined as follows:\n",
    "\n",
    "$$\\hat{y} = \\beta_0 + \\beta_1 x +  \\beta_2 x^2 + ... +  \\beta_n x^n $$\n",
    "\n",
    "where $n$ is the order of our polynomial function.\n",
    "\n",
    "You might be wondering how we can model these functions, which are clearly not linear, with a linear model. The main thing you need to understand is that, even though the inputs are not linear, the model is linear with respect to the coefficients, this is, we can easily assume each power of $x$ as a different input:\n",
    "\n",
    "$$ x = x_1 $$\n",
    "$$ x^2 = x_2 $$\n",
    "$$...$$\n",
    "$$ x^n = x_n $$\n",
    "\n",
    "And have the same model from above\n",
    "\n",
    "$$\\hat{y} = \\beta_0 + \\sum_{i=1}^{N} \\beta_i \\cdot x_i$$\n",
    "\n",
    "Run the next cell to see how a polynomial model can be represented as a multiple linear model:\n"
   ]
  },
  {
   "cell_type": "code",
   "execution_count": 15,
   "metadata": {},
   "outputs": [
    {
     "data": {
      "image/png": "[encoded data removed]",
      "text/plain": [
       "<Figure size 432x288 with 1 Axes>"
      ]
     },
     "metadata": {
      "needs_background": "light"
     },
     "output_type": "display_data"
    }
   ],
   "source": [
    "import numpy as np\n",
    "import matplotlib.pyplot as plt\n",
    "\n",
    "def plot_polynomial_regression_multiple(x, y, xlim, ylim):\n",
    "    origin = (0, 0)\n",
    "\n",
    "    plt.xlim(xlim)\n",
    "    plt.ylim(ylim)\n",
    "\n",
    "    # Plot axis for better visuzlization\n",
    "    plt.plot(origin, ylim, 'g:', xlim, origin, 'g:', linewidth=0.4)\n",
    "\n",
    "    # Plot linear model\n",
    "    plt.plot(x, y, 'b')\n",
    "    plt.show()\n",
    "\n",
    "# Base independent variables\n",
    "x_pln = np.arange(-10, 10, 0.1).reshape(-1, 1)\n",
    "x_pln_2 = x_pln ** 2\n",
    "x_pln_3 = x_pln ** 3\n",
    "\n",
    "# Organize input in a matrix\n",
    "X_pln = np.concatenate((x_pln, x_pln_2, x_pln_3), axis=1)\n",
    "\n",
    "# Parameters\n",
    "betas_pln = [1, -2, .025, .3]\n",
    "\n",
    "# Dependent variable\n",
    "y_pln = multiple_linear_regression(X_pln, np.array(betas_pln))\n",
    "plot_regression_simple(x_pln.flatten(), y_pln, [-10, 10], [-10, 10])"
   ]
  },
  {
   "cell_type": "markdown",
   "metadata": {},
   "source": [
    "Now, let's follow the same procedure we followed for the simple model and imagine that we have some data with noise that we want to fit. Let's load it and visualize its shape:"
   ]
  },
  {
   "cell_type": "code",
   "execution_count": 16,
   "metadata": {},
   "outputs": [
    {
     "data": {
      "text/plain": [
       "[<matplotlib.lines.Line2D at 0x119708310>]"
      ]
     },
     "execution_count": 16,
     "metadata": {},
     "output_type": "execute_result"
    },
    {
     "data": {
      "image/png": "[encoded data removed]",
      "text/plain": [
       "<Figure size 432x288 with 1 Axes>"
      ]
     },
     "metadata": {
      "needs_background": "light"
     },
     "output_type": "display_data"
    }
   ],
   "source": [
    "df = pd.read_csv('data/polynomial-learning-notebook.csv')\n",
    "df = df.sort_values('x')\n",
    "\n",
    "x_pln_df = df['x'].values\n",
    "y_pln_df = df['y'].values\n",
    "X_pln_df = df.drop(columns='y').values\n",
    "\n",
    "plt.plot(x_pln_df, y_pln_df, 'b.')"
   ]
  },
  {
   "cell_type": "markdown",
   "metadata": {},
   "source": [
    "Try to do the same as before , and find the weights manually:"
   ]
  },
  {
   "cell_type": "code",
   "execution_count": 17,
   "metadata": {},
   "outputs": [
    {
     "data": {
      "application/vnd.jupyter.widget-view+json": {
       "model_id": "78f84ccd7ba74cfc95ea0d1104d42bec",
       "version_major": 2,
       "version_minor": 0
      },
      "text/plain": [
       "interactive(children=(FloatSlider(value=0.0, description='b0', max=10.0, min=-10.0, step=0.01), FloatSlider(va…"
      ]
     },
     "metadata": {},
     "output_type": "display_data"
    }
   ],
   "source": [
    "def plot_polynomial_regression(b0=0, b1=1, b2=0, b3=0, xlim=(-20, 20), ylim=(-20, 20)):\n",
    "    betas = np.array([b0, b1, b2, b3])\n",
    "    y_pred = multiple_linear_regression(X_pln_df, betas)\n",
    "    plt.xlim(xlim)\n",
    "    plt.ylim(ylim)\n",
    "    plt.plot(x_pln_df, y_pln_df, 'b.')\n",
    "    plt.plot(x_pln_df, y_pred, 'r-')\n",
    "    plt.plot([0, 0], ylim, 'g-', xlim, [0, 0], 'g-', linewidth=0.4)\n",
    "\n",
    "def polynomial_regression_manual_demo_1(): \n",
    "    interact(plot_polynomial_regression, \n",
    "         b0=FloatSlider(min=-10, max=10, step=0.01, value=0), \n",
    "         b1=FloatSlider(min=-5, max=5, step=0.01, value=1), \n",
    "         b2=FloatSlider(min=-1, max=1, step=0.01, value=0), \n",
    "         b3=FloatSlider(min=-1, max=1, step=0.01, value=0), \n",
    "         xlim=fixed((-20, 20)), \n",
    "         ylim=fixed((-20, 20)));\n",
    "\n",
    "polynomial_regression_manual_demo_1()"
   ]
  },
  {
   "cell_type": "markdown",
   "metadata": {},
   "source": [
    "As you can see, it is much harder now to find these features manually. Let's see if having an error measure this time helps at all."
   ]
  },
  {
   "cell_type": "markdown",
   "metadata": {},
   "source": [
    "## 2.2 - Error measure for Multiple Linear Regression\n",
    "\n",
    "Using the same logic as before, we still want a way to measure how well our model fits. Notice that, even though our model has several inputs and corresponding increase in parameters, it still produces a single output. \n",
    "\n",
    "This means that we can still define the error as\n",
    "\n",
    "$$ e_i = y - \\hat{y_i} $$\n",
    "\n",
    "So we will use the same cost function as before:\n",
    "\n",
    "$$MSE(y, \\hat{y}) = \\frac{1}{N} \\sum_{n=1}^N (y_n - \\hat{y}_n)^2 $$\n",
    "\n",
    "The only different being how the estimate $\\hat{y}$ is produced. Use it in the interactive demo as before:"
   ]
  },
  {
   "cell_type": "code",
   "execution_count": 18,
   "metadata": {},
   "outputs": [
    {
     "data": {
      "application/vnd.jupyter.widget-view+json": {
       "model_id": "38c4d2ebbfc4419bba3f4f0f325d00b8",
       "version_major": 2,
       "version_minor": 0
      },
      "text/plain": [
       "interactive(children=(FloatSlider(value=0.0, description='b0', max=10.0, min=-10.0, step=0.01), FloatSlider(va…"
      ]
     },
     "metadata": {},
     "output_type": "display_data"
    }
   ],
   "source": [
    "def plot_polynomial_regression(b0=0, b1=1, b2=0, b3=0, xlim=(-20, 20), ylim=(-20, 20)):\n",
    "    betas = np.array([b0, b1, b2, b3])\n",
    "    y_pred = multiple_linear_regression(X_pln_df, betas)\n",
    "    plt.xlim(xlim)\n",
    "    plt.ylim(ylim)\n",
    "    plt.plot(x_pln_df, y_pln_df, 'b.')\n",
    "    plt.plot(x_pln_df, y_pred, 'r-')\n",
    "    plt.plot([0, 0], ylim, 'g-', xlim, [0, 0], 'g-', linewidth=0.4)\n",
    "    return \"Mean Squared Error (MSE): {}\".format(linear_regression_mse(y_pln_df, y_pred))\n",
    "\n",
    "def polynomial_regression_manual_demo_1(): \n",
    "    interact(plot_polynomial_regression, \n",
    "         b0=FloatSlider(min=-10, max=10, step=0.01, value=0), \n",
    "         b1=FloatSlider(min=-5, max=5, step=0.01, value=1), \n",
    "         b2=FloatSlider(min=-1, max=1, step=0.01, value=0), \n",
    "         b3=FloatSlider(min=-0.5, max=0.5, step=0.005, value=0), \n",
    "         xlim=fixed((-20, 20)), \n",
    "         ylim=fixed((-20, 20)));\n",
    "\n",
    "polynomial_regression_manual_demo_1()"
   ]
  },
  {
   "cell_type": "markdown",
   "metadata": {},
   "source": [
    "It is still very hard to have to handle so many levers. So for the multiple linear regression, automatic methods are even more important. We'll follow with an extension of the closed form solution."
   ]
  },
  {
   "cell_type": "markdown",
   "metadata": {},
   "source": [
    "## 2.3 - Closed form solution of Multiple Linear Regression models"
   ]
  },
  {
   "cell_type": "markdown",
   "metadata": {},
   "source": [
    "### 2.3.1 - Derivative of error function\n",
    "\n",
    "The derivatives of the error function with respect to our weights are very similar to the ones in the simple scenario. We built another notebook so you can see how to deduct them, so consult [this notebook](bonus/Derivatives%20and%20closed%20form%20for%20multiple%20linear%20model.ipynb) if you are interested in that. \n",
    "\n",
    "The derivative of the intercept remains the same:\n",
    "\n",
    "$$\\frac{d J}{d \\beta_0} = -\\frac{1}{N} \\sum_{i=1}^N [2 (y_i - \\hat{y_i})] $$\n",
    "\n",
    "Then, for the coefficients, the expression is still very similar to the one before. The only detail you need to pay attention to, is that the input multiplied in the derivative is just the one corresponding to the feature that the weight refers to:\n",
    "\n",
    "$$ \\frac{d J}{d \\beta_k} = -\\frac{1}{N}\\sum_{i=1}^N [2( y_i - \\hat{y_i})x_{k_i}] $$ \n",
    "\n",
    "for $ k \\in [1, K] $ , where K is the number of features of our model.\n",
    "\n",
    "Once again, we can implement them as lambda functions."
   ]
  },
  {
   "cell_type": "code",
   "execution_count": 19,
   "metadata": {},
   "outputs": [],
   "source": [
    "mse_derivative_b0 = lambda y, y_hat: -(2*(y - y_hat)).mean()\n",
    "mse_derivative_bk = lambda y, y_hat, x_k: -(2*(y - y_hat)*x_k).mean()"
   ]
  },
  {
   "cell_type": "markdown",
   "metadata": {},
   "source": [
    "### 2.3.2 - Closed Form Solution\n",
    "\n",
    "For this closed form solution, it is useful to make use of matrix notation. We can take our initial model, defined above:\n",
    "\n",
    "$$\\hat{y} = \\beta_0 + X\\boldsymbol{\\beta} $$\n",
    "\n",
    "Or even go a step further an write:\n",
    "\n",
    "$$\\hat{y} = X' \\vec{\\beta}$$\n",
    "\n",
    "If we consider a new matrix $X'$ of inputs which is simply the concatenation of a column of ones to our previous inputs matrix:\n",
    "\n",
    "$$ X' = [\\vec{1} | X]$$\n",
    "\n",
    "Once again, the closed form solution comes from looking for the point where the derivatives are zero but we will only show you the final result of doing that. Look to [this notebook](bonus/Derivatives%20and%20closed%20form%20for%20multiple%20linear%20model.ipynb) if you want to see how to get there, step by step. The solution for the multiple linear regression is then:\n",
    "\n",
    "$$ \\vec{\\beta} = (X^TX)^{-1}(X^T\\vec{y})$$\n",
    "\n",
    "\n",
    "Where $X$ is our matrix of samples extended to add a 1 component in each sample, $X = [\\vec{1} | X] $ , $\\vec{y}$ is the output vector, and $\\vec{\\beta}$ the weight vector with weights $\\beta_0$ and $\\beta_1$\n",
    "\n",
    "Try it out for the previous example. Let's load the data again:"
   ]
  },
  {
   "cell_type": "code",
   "execution_count": 20,
   "metadata": {},
   "outputs": [],
   "source": [
    "df = pd.read_csv('data/polynomial-learning-notebook.csv')\n",
    "df = df.sort_values('x')\n",
    "\n",
    "x_pln_df = df['x'].values\n",
    "y_pln_df = df['y'].values\n",
    "X_pln_df = df.drop(columns='y').values"
   ]
  },
  {
   "cell_type": "markdown",
   "metadata": {},
   "source": [
    "First let's extend our inputs to have a column of ones: \n",
    "\n",
    "$$ X' = [\\vec{1} | X] $$"
   ]
  },
  {
   "cell_type": "code",
   "execution_count": 21,
   "metadata": {},
   "outputs": [],
   "source": [
    "X_extended = np.concatenate((np.ones((X_pln_df.shape[0], 1)), X_pln_df), axis=1)"
   ]
  },
  {
   "cell_type": "markdown",
   "metadata": {},
   "source": [
    "Now let's apply the closed form solution:"
   ]
  },
  {
   "cell_type": "code",
   "execution_count": 22,
   "metadata": {},
   "outputs": [
    {
     "name": "stdout",
     "output_type": "stream",
     "text": [
      "Coefficients: [-0.58366246 -2.95329261  0.01443483  0.01440652]\n"
     ]
    }
   ],
   "source": [
    "inv_xx = np.linalg.inv(np.matmul(X_extended.T, X_extended))\n",
    "xy = np.matmul(X_extended.T, y_pln_df)\n",
    "betas = np.matmul(inv_xx, xy)\n",
    "\n",
    "print('Coefficients: {}'.format(betas))"
   ]
  },
  {
   "cell_type": "markdown",
   "metadata": {},
   "source": [
    "Finally let's plot the solution we achieved and the error associated:"
   ]
  },
  {
   "cell_type": "code",
   "execution_count": 23,
   "metadata": {},
   "outputs": [
    {
     "name": "stdout",
     "output_type": "stream",
     "text": [
      "Mean Squared Error (MSE): 7.293313137336586\n"
     ]
    },
    {
     "data": {
      "image/png": "[encoded data removed]",
      "text/plain": [
       "<Figure size 432x288 with 1 Axes>"
      ]
     },
     "metadata": {
      "needs_background": "light"
     },
     "output_type": "display_data"
    }
   ],
   "source": [
    "import numpy as np\n",
    "import matplotlib.pyplot as plt\n",
    "\n",
    "y_pred = multiple_linear_regression(X_pln_df, betas)\n",
    "plt.plot(x_pln_df, y_pln_df, 'b.')\n",
    "plt.plot(x_pln_df, y_pred, 'r-')\n",
    "plt.plot([0, 0], [-21, 21], 'g-', [-16, 16], [0, 0], 'g-', linewidth=0.4)\n",
    "\n",
    "print(\"Mean Squared Error (MSE): {}\".format(linear_regression_mse(y_pln_df, y_pred)))"
   ]
  },
  {
   "cell_type": "markdown",
   "metadata": {},
   "source": [
    "We'll do an extra example, with a diabetes dataset. This contains several features of individuals and a quantitative measure of disease progression. Load the diabetes dataset below, read its description and look into the data."
   ]
  },
  {
   "cell_type": "code",
   "execution_count": 24,
   "metadata": {},
   "outputs": [
    {
     "name": "stdout",
     "output_type": "stream",
     "text": [
      ".. _diabetes_dataset:\n",
      "\n",
      "Diabetes dataset\n",
      "----------------\n",
      "\n",
      "Ten baseline variables, age, sex, body mass index, average blood\n",
      "pressure, and six blood serum measurements were obtained for each of n =\n",
      "442 diabetes patients, as well as the response of interest, a\n",
      "quantitative measure of disease progression one year after baseline.\n",
      "\n",
      "**Data Set Characteristics:**\n",
      "\n",
      "  :Number of Instances: 442\n",
      "\n",
      "  :Number of Attributes: First 10 columns are numeric predictive values\n",
      "\n",
      "  :Target: Column 11 is a quantitative measure of disease progression one year after baseline\n",
      "\n",
      "  :Attribute Information:\n",
      "      - age     age in years\n",
      "      - sex\n",
      "      - bmi     body mass index\n",
      "      - bp      average blood pressure\n",
      "      - s1      tc, total serum cholesterol\n",
      "      - s2      ldl, low-density lipoproteins\n",
      "      - s3      hdl, high-density lipoproteins\n",
      "      - s4      tch, total cholesterol / HDL\n",
      "      - s5      ltg, possibly log of serum triglycerides level\n",
      "      - s6      glu, blood sugar level\n",
      "\n",
      "Note: Each of these 10 feature variables have been mean centered and scaled by the standard deviation times `n_samples` (i.e. the sum of squares of each column totals 1).\n",
      "\n",
      "Source URL:\n",
      "https://www4.stat.ncsu.edu/~boos/var.select/diabetes.html\n",
      "\n",
      "For more information see:\n",
      "Bradley Efron, Trevor Hastie, Iain Johnstone and Robert Tibshirani (2004) \"Least Angle Regression,\" Annals of Statistics (with discussion), 407-499.\n",
      "(https://web.stanford.edu/~hastie/Papers/LARS/LeastAngle_2002.pdf)\n"
     ]
    },
    {
     "data": {
      "text/html": [
       "<div>\n",
       "<style scoped>\n",
       "    .dataframe tbody tr th:only-of-type {\n",
       "        vertical-align: middle;\n",
       "    }\n",
       "\n",
       "    .dataframe tbody tr th {\n",
       "        vertical-align: top;\n",
       "    }\n",
       "\n",
       "    .dataframe thead th {\n",
       "        text-align: right;\n",
       "    }\n",
       "</style>\n",
       "<table border=\"1\" class=\"dataframe\">\n",
       "  <thead>\n",
       "    <tr style=\"text-align: right;\">\n",
       "      <th></th>\n",
       "      <th>age</th>\n",
       "      <th>sex</th>\n",
       "      <th>bmi</th>\n",
       "      <th>bp</th>\n",
       "      <th>s1</th>\n",
       "      <th>s2</th>\n",
       "      <th>s3</th>\n",
       "      <th>s4</th>\n",
       "      <th>s5</th>\n",
       "      <th>s6</th>\n",
       "      <th>medv</th>\n",
       "    </tr>\n",
       "  </thead>\n",
       "  <tbody>\n",
       "    <tr>\n",
       "      <th>0</th>\n",
       "      <td>0.038076</td>\n",
       "      <td>0.050680</td>\n",
       "      <td>0.061696</td>\n",
       "      <td>0.021872</td>\n",
       "      <td>-0.044223</td>\n",
       "      <td>-0.034821</td>\n",
       "      <td>-0.043401</td>\n",
       "      <td>-0.002592</td>\n",
       "      <td>0.019908</td>\n",
       "      <td>-0.017646</td>\n",
       "      <td>151.0</td>\n",
       "    </tr>\n",
       "    <tr>\n",
       "      <th>1</th>\n",
       "      <td>-0.001882</td>\n",
       "      <td>-0.044642</td>\n",
       "      <td>-0.051474</td>\n",
       "      <td>-0.026328</td>\n",
       "      <td>-0.008449</td>\n",
       "      <td>-0.019163</td>\n",
       "      <td>0.074412</td>\n",
       "      <td>-0.039493</td>\n",
       "      <td>-0.068330</td>\n",
       "      <td>-0.092204</td>\n",
       "      <td>75.0</td>\n",
       "    </tr>\n",
       "    <tr>\n",
       "      <th>2</th>\n",
       "      <td>0.085299</td>\n",
       "      <td>0.050680</td>\n",
       "      <td>0.044451</td>\n",
       "      <td>-0.005671</td>\n",
       "      <td>-0.045599</td>\n",
       "      <td>-0.034194</td>\n",
       "      <td>-0.032356</td>\n",
       "      <td>-0.002592</td>\n",
       "      <td>0.002864</td>\n",
       "      <td>-0.025930</td>\n",
       "      <td>141.0</td>\n",
       "    </tr>\n",
       "    <tr>\n",
       "      <th>3</th>\n",
       "      <td>-0.089063</td>\n",
       "      <td>-0.044642</td>\n",
       "      <td>-0.011595</td>\n",
       "      <td>-0.036656</td>\n",
       "      <td>0.012191</td>\n",
       "      <td>0.024991</td>\n",
       "      <td>-0.036038</td>\n",
       "      <td>0.034309</td>\n",
       "      <td>0.022692</td>\n",
       "      <td>-0.009362</td>\n",
       "      <td>206.0</td>\n",
       "    </tr>\n",
       "    <tr>\n",
       "      <th>4</th>\n",
       "      <td>0.005383</td>\n",
       "      <td>-0.044642</td>\n",
       "      <td>-0.036385</td>\n",
       "      <td>0.021872</td>\n",
       "      <td>0.003935</td>\n",
       "      <td>0.015596</td>\n",
       "      <td>0.008142</td>\n",
       "      <td>-0.002592</td>\n",
       "      <td>-0.031991</td>\n",
       "      <td>-0.046641</td>\n",
       "      <td>135.0</td>\n",
       "    </tr>\n",
       "  </tbody>\n",
       "</table>\n",
       "</div>"
      ],
      "text/plain": [
       "        age       sex       bmi        bp        s1        s2        s3  \\\n",
       "0  0.038076  0.050680  0.061696  0.021872 -0.044223 -0.034821 -0.043401   \n",
       "1 -0.001882 -0.044642 -0.051474 -0.026328 -0.008449 -0.019163  0.074412   \n",
       "2  0.085299  0.050680  0.044451 -0.005671 -0.045599 -0.034194 -0.032356   \n",
       "3 -0.089063 -0.044642 -0.011595 -0.036656  0.012191  0.024991 -0.036038   \n",
       "4  0.005383 -0.044642 -0.036385  0.021872  0.003935  0.015596  0.008142   \n",
       "\n",
       "         s4        s5        s6   medv  \n",
       "0 -0.002592  0.019908 -0.017646  151.0  \n",
       "1 -0.039493 -0.068330 -0.092204   75.0  \n",
       "2 -0.002592  0.002864 -0.025930  141.0  \n",
       "3  0.034309  0.022692 -0.009362  206.0  \n",
       "4 -0.002592 -0.031991 -0.046641  135.0  "
      ]
     },
     "execution_count": 24,
     "metadata": {},
     "output_type": "execute_result"
    }
   ],
   "source": [
    "import numpy as np\n",
    "import pandas as pd\n",
    "from sklearn.datasets import load_diabetes\n",
    "\n",
    "data = load_diabetes()\n",
    "print(data['DESCR'])\n",
    "\n",
    "X_db = pd.DataFrame(data['data'], columns=data['feature_names'])\n",
    "y_db = pd.Series(data['target'], name='medv')\n",
    "\n",
    "pd.concat((X_db, y_db), axis=1).head(5)"
   ]
  },
  {
   "cell_type": "markdown",
   "metadata": {},
   "source": [
    "Let's apply our closed form solution and see what output and error we get:"
   ]
  },
  {
   "cell_type": "code",
   "execution_count": 25,
   "metadata": {},
   "outputs": [
    {
     "name": "stdout",
     "output_type": "stream",
     "text": [
      "Feature coefficients: \n",
      "age    -10.012198\n",
      "sex   -239.819089\n",
      "bmi    519.839787\n",
      "bp     324.390428\n",
      "s1    -792.184162\n",
      "s2     476.745838\n",
      "s3     101.044570\n",
      "s4     177.064176\n",
      "s5     751.279321\n",
      "s6      67.625386\n",
      "dtype: float64\n",
      "\n",
      "\n",
      "Intercept: 152.13348416289648\n",
      "\n",
      "\n",
      "\n",
      "Targets for the first 5 rows: \n",
      "\n",
      " [151.  75. 141. 206. 135.]\n",
      "\n",
      "Predictions for the first 5 rows: \n",
      "\n",
      " [206.11706979  68.07234761 176.88406035 166.91796559 128.45984241]\n",
      "Mean Squared Error (MSE): 2859.6903987680657\n"
     ]
    }
   ],
   "source": [
    "X_extended = np.concatenate((np.ones((X_db.values.shape[0], 1)), X_db.values), axis=1)\n",
    "\n",
    "inv_xx = np.linalg.inv(np.matmul(X_extended.T, X_extended))\n",
    "xy = np.matmul(X_extended.T, y_db.values)\n",
    "betas = np.matmul(inv_xx, xy)\n",
    "\n",
    "y_pred = multiple_linear_regression(X_db.values, betas)\n",
    "\n",
    "print('Feature coefficients: ')\n",
    "print(pd.Series(betas[1:], X_db.columns))\n",
    "print('\\n')\n",
    "\n",
    "print('Intercept: {}'.format(betas[0]))\n",
    "print('\\n')\n",
    "\n",
    "print('\\nTargets for the first 5 rows: \\n\\n', y_db.head(5).values)\n",
    "print('\\nPredictions for the first 5 rows: \\n\\n', y_pred[:5])\n",
    "print(\"Mean Squared Error (MSE): {}\".format(linear_regression_mse(y_db.values, y_pred)))"
   ]
  },
  {
   "cell_type": "markdown",
   "metadata": {},
   "source": [
    "Pretty simple, hein? The extended model is just an extension of the simple one. The more features you have, the more you include in the sum! And we still have a simple closed form solution!\n",
    "\n",
    "But there is a **very important assumption** that this model does: there is no multicollinearity in your data. \n",
    " <em>What the hell does that even mean?</em>, you might ask. This term comes from linear algebra and this is what it means: \n",
    "\n",
    "_If you have a feature $x_i$ which the values can be obtained through a **linear combination** of other features, then we have multicollinearity._\n",
    "\n",
    "Let me give you some of the reasons this is a problem: \n",
    "1. When people use linear regressions, after the parameter estimation phase, they use the coefficients as a way to measure **how important a feature is**. When you use collinear features, the magnitude of the weights gets' lowered for all features that are in that collinear relationship. That might be misleading because collinear features are, essentially, one feature.\n",
    "2. Collinear features add no value to the model, it is like cloning the same feature and concatenating it to the dataset. "
   ]
  },
  {
   "cell_type": "markdown",
   "metadata": {},
   "source": [
    "# 3 - Linear Regression with Scikitlearn"
   ]
  },
  {
   "cell_type": "markdown",
   "metadata": {},
   "source": [
    "After learning the basics of linear regression and how to implement the closed form solutions, it is time to learn how to use linear regression with Scikit Learn. \n",
    "\n",
    "[Scikit Learn][sklearn] is an industry standard for data science and machine learning and we will be using it extensively throughout the academy. Scikit Learn has several implementations of linear regression:\n",
    "* [*sklearn.linear_model.LinearRegression*][LinearRegression]: uses normal equations to estimate the best intercept and coefficients. Normal equations are the closed form solution for linear regression, meaning that you know exactly the number of steps and the guarantees about the solution. If you want to know more about this, [read this blog post][normal_eq].\n",
    "* [*sklearn.linear_model.SGDRegressor*][SGDRegressor]: SGD Regressor is a model that is optimized (trained) using SGD (Stochastic Gradient Descent) for regression tasks. It's basically a linear model that is updated along the way with a decaying learning rate. (go to [Section 4](#grad_desc) to learn more about it)\n",
    "\n",
    "[SGDRegressor]: http://scikit-learn.org/stable/modules/generated/sklearn.linear_model.SGDRegressor.html#sklearn.linear_model.SGDRegressor\n",
    "[LinearRegression]: http://scikit-learn.org/stable/modules/generated/sklearn.linear_model.LinearRegression.html#sklearn.linear_model.LinearRegression\n",
    "[sklearn]: http://scikit-learn.org\n",
    "[normal_eq]: https://eli.thegreenplace.net/2014/derivation-of-the-normal-equation-for-linear-regression\n",
    "\n",
    "For simplicity and because you're new to this world, let's try by implementing the first one *LinearRegression*.\n",
    "\n",
    "Let's start by applying this to the polynomial example from the previous examples:"
   ]
  },
  {
   "cell_type": "code",
   "execution_count": 26,
   "metadata": {},
   "outputs": [],
   "source": [
    "df = pd.read_csv('data/polynomial-learning-notebook.csv')\n",
    "df = df.sort_values('x')\n",
    "\n",
    "x_pln_df = df['x'].values\n",
    "y_pln_df = df['y'].values\n",
    "X_pln_df  = df.drop(columns='y').values"
   ]
  },
  {
   "cell_type": "markdown",
   "metadata": {},
   "source": [
    "Now, let's use the LinearRegression from scikitlearn:"
   ]
  },
  {
   "cell_type": "code",
   "execution_count": 27,
   "metadata": {},
   "outputs": [],
   "source": [
    "from sklearn.linear_model import LinearRegression\n",
    "\n",
    "lr = LinearRegression()\n",
    "lr.fit(X_pln_df, y_pln_df)\n",
    "coefficients = lr.coef_\n",
    "intercept = lr.intercept_\n",
    "betas = np.concatenate((np.array([intercept]), coefficients))"
   ]
  },
  {
   "cell_type": "markdown",
   "metadata": {},
   "source": [
    "Now let's plot the solution as we did before:"
   ]
  },
  {
   "cell_type": "code",
   "execution_count": 28,
   "metadata": {},
   "outputs": [
    {
     "name": "stdout",
     "output_type": "stream",
     "text": [
      "Mean Squared Error (MSE): 7.293313137336586\n"
     ]
    },
    {
     "data": {
      "image/png": "[encoded data removed]",
      "text/plain": [
       "<Figure size 432x288 with 1 Axes>"
      ]
     },
     "metadata": {
      "needs_background": "light"
     },
     "output_type": "display_data"
    }
   ],
   "source": [
    "import numpy as np\n",
    "import matplotlib.pyplot as plt\n",
    "\n",
    "y_pred = multiple_linear_regression(X_pln_df, betas)\n",
    "plt.plot(x_pln_df, y_pln_df, 'b.')\n",
    "plt.plot(x_pln_df, y_pred, 'r-')\n",
    "plt.plot([0, 0], [-21, 21], 'g-', [-16, 16], [0, 0], 'g-', linewidth=0.4)\n",
    "\n",
    "print(\"Mean Squared Error (MSE): {}\".format(linear_regression_mse(y_pln_df, y_pred)))"
   ]
  },
  {
   "cell_type": "markdown",
   "metadata": {},
   "source": [
    "Now let's do the same for the diabetes example:"
   ]
  },
  {
   "cell_type": "code",
   "execution_count": 29,
   "metadata": {},
   "outputs": [
    {
     "data": {
      "text/html": [
       "<div>\n",
       "<style scoped>\n",
       "    .dataframe tbody tr th:only-of-type {\n",
       "        vertical-align: middle;\n",
       "    }\n",
       "\n",
       "    .dataframe tbody tr th {\n",
       "        vertical-align: top;\n",
       "    }\n",
       "\n",
       "    .dataframe thead th {\n",
       "        text-align: right;\n",
       "    }\n",
       "</style>\n",
       "<table border=\"1\" class=\"dataframe\">\n",
       "  <thead>\n",
       "    <tr style=\"text-align: right;\">\n",
       "      <th></th>\n",
       "      <th>age</th>\n",
       "      <th>sex</th>\n",
       "      <th>bmi</th>\n",
       "      <th>bp</th>\n",
       "      <th>s1</th>\n",
       "      <th>s2</th>\n",
       "      <th>s3</th>\n",
       "      <th>s4</th>\n",
       "      <th>s5</th>\n",
       "      <th>s6</th>\n",
       "      <th>medv</th>\n",
       "    </tr>\n",
       "  </thead>\n",
       "  <tbody>\n",
       "    <tr>\n",
       "      <th>0</th>\n",
       "      <td>0.038076</td>\n",
       "      <td>0.050680</td>\n",
       "      <td>0.061696</td>\n",
       "      <td>0.021872</td>\n",
       "      <td>-0.044223</td>\n",
       "      <td>-0.034821</td>\n",
       "      <td>-0.043401</td>\n",
       "      <td>-0.002592</td>\n",
       "      <td>0.019908</td>\n",
       "      <td>-0.017646</td>\n",
       "      <td>151.0</td>\n",
       "    </tr>\n",
       "    <tr>\n",
       "      <th>1</th>\n",
       "      <td>-0.001882</td>\n",
       "      <td>-0.044642</td>\n",
       "      <td>-0.051474</td>\n",
       "      <td>-0.026328</td>\n",
       "      <td>-0.008449</td>\n",
       "      <td>-0.019163</td>\n",
       "      <td>0.074412</td>\n",
       "      <td>-0.039493</td>\n",
       "      <td>-0.068330</td>\n",
       "      <td>-0.092204</td>\n",
       "      <td>75.0</td>\n",
       "    </tr>\n",
       "    <tr>\n",
       "      <th>2</th>\n",
       "      <td>0.085299</td>\n",
       "      <td>0.050680</td>\n",
       "      <td>0.044451</td>\n",
       "      <td>-0.005671</td>\n",
       "      <td>-0.045599</td>\n",
       "      <td>-0.034194</td>\n",
       "      <td>-0.032356</td>\n",
       "      <td>-0.002592</td>\n",
       "      <td>0.002864</td>\n",
       "      <td>-0.025930</td>\n",
       "      <td>141.0</td>\n",
       "    </tr>\n",
       "    <tr>\n",
       "      <th>3</th>\n",
       "      <td>-0.089063</td>\n",
       "      <td>-0.044642</td>\n",
       "      <td>-0.011595</td>\n",
       "      <td>-0.036656</td>\n",
       "      <td>0.012191</td>\n",
       "      <td>0.024991</td>\n",
       "      <td>-0.036038</td>\n",
       "      <td>0.034309</td>\n",
       "      <td>0.022692</td>\n",
       "      <td>-0.009362</td>\n",
       "      <td>206.0</td>\n",
       "    </tr>\n",
       "    <tr>\n",
       "      <th>4</th>\n",
       "      <td>0.005383</td>\n",
       "      <td>-0.044642</td>\n",
       "      <td>-0.036385</td>\n",
       "      <td>0.021872</td>\n",
       "      <td>0.003935</td>\n",
       "      <td>0.015596</td>\n",
       "      <td>0.008142</td>\n",
       "      <td>-0.002592</td>\n",
       "      <td>-0.031991</td>\n",
       "      <td>-0.046641</td>\n",
       "      <td>135.0</td>\n",
       "    </tr>\n",
       "  </tbody>\n",
       "</table>\n",
       "</div>"
      ],
      "text/plain": [
       "        age       sex       bmi        bp        s1        s2        s3  \\\n",
       "0  0.038076  0.050680  0.061696  0.021872 -0.044223 -0.034821 -0.043401   \n",
       "1 -0.001882 -0.044642 -0.051474 -0.026328 -0.008449 -0.019163  0.074412   \n",
       "2  0.085299  0.050680  0.044451 -0.005671 -0.045599 -0.034194 -0.032356   \n",
       "3 -0.089063 -0.044642 -0.011595 -0.036656  0.012191  0.024991 -0.036038   \n",
       "4  0.005383 -0.044642 -0.036385  0.021872  0.003935  0.015596  0.008142   \n",
       "\n",
       "         s4        s5        s6   medv  \n",
       "0 -0.002592  0.019908 -0.017646  151.0  \n",
       "1 -0.039493 -0.068330 -0.092204   75.0  \n",
       "2 -0.002592  0.002864 -0.025930  141.0  \n",
       "3  0.034309  0.022692 -0.009362  206.0  \n",
       "4 -0.002592 -0.031991 -0.046641  135.0  "
      ]
     },
     "execution_count": 29,
     "metadata": {},
     "output_type": "execute_result"
    }
   ],
   "source": [
    "import numpy as np\n",
    "import pandas as pd\n",
    "from sklearn.datasets import load_diabetes\n",
    "\n",
    "data = load_diabetes()\n",
    "\n",
    "X_db = pd.DataFrame(data['data'], columns=data['feature_names'])\n",
    "y_db = pd.Series(data['target'], name='medv')\n",
    "\n",
    "pd.concat((X_db, y_db), axis=1).head(5)"
   ]
  },
  {
   "cell_type": "markdown",
   "metadata": {},
   "source": [
    "Let's experiment with the first linear regression implementation:"
   ]
  },
  {
   "cell_type": "code",
   "execution_count": 30,
   "metadata": {},
   "outputs": [
    {
     "name": "stdout",
     "output_type": "stream",
     "text": [
      "Feature coefficients: \n",
      "age    -10.012198\n",
      "sex   -239.819089\n",
      "bmi    519.839787\n",
      "bp     324.390428\n",
      "s1    -792.184162\n",
      "s2     476.745838\n",
      "s3     101.044570\n",
      "s4     177.064176\n",
      "s5     751.279321\n",
      "s6      67.625386\n",
      "dtype: float64\n",
      "\n",
      "\n",
      "Intercept: 152.1334841628965\n",
      "\n",
      "\n",
      "\n",
      "Targets for the first 5 rows: \n",
      "\n",
      " [151.  75. 141. 206. 135.]\n",
      "\n",
      "Predictions for the first 5 rows: \n",
      "\n",
      " [206.11706979  68.07234761 176.88406035 166.91796559 128.45984241]\n",
      "Mean Squared Error (MSE): 2859.6903987680657\n"
     ]
    }
   ],
   "source": [
    "from sklearn.linear_model import LinearRegression\n",
    "\n",
    "lr = LinearRegression()\n",
    "lr.fit(X_db, y_db)\n",
    "coefficients = lr.coef_\n",
    "intercept = lr.intercept_\n",
    "\n",
    "print('Feature coefficients: ')\n",
    "print(pd.Series(coefficients, X_db.columns))\n",
    "print('\\n')\n",
    "\n",
    "print('Intercept: {}'.format(intercept))\n",
    "print('\\n')\n",
    "\n",
    "print('\\nTargets for the first 5 rows: \\n\\n', y_db.head(5).values)\n",
    "print('\\nPredictions for the first 5 rows: \\n\\n', lr.predict(X_db.head(5)))\n",
    "print(\"Mean Squared Error (MSE): {}\".format(linear_regression_mse(y_db.values, lr.predict(X_db))))"
   ]
  },
  {
   "cell_type": "markdown",
   "metadata": {},
   "source": [
    "### Note: normalization\n",
    "\n",
    "In our example, notice that this dataset is already normalized (run cell below):"
   ]
  },
  {
   "cell_type": "code",
   "execution_count": 31,
   "metadata": {},
   "outputs": [
    {
     "data": {
      "text/html": [
       "<div>\n",
       "<style scoped>\n",
       "    .dataframe tbody tr th:only-of-type {\n",
       "        vertical-align: middle;\n",
       "    }\n",
       "\n",
       "    .dataframe tbody tr th {\n",
       "        vertical-align: top;\n",
       "    }\n",
       "\n",
       "    .dataframe thead th {\n",
       "        text-align: right;\n",
       "    }\n",
       "</style>\n",
       "<table border=\"1\" class=\"dataframe\">\n",
       "  <thead>\n",
       "    <tr style=\"text-align: right;\">\n",
       "      <th></th>\n",
       "      <th>age</th>\n",
       "      <th>sex</th>\n",
       "      <th>bmi</th>\n",
       "      <th>bp</th>\n",
       "      <th>s1</th>\n",
       "      <th>s2</th>\n",
       "      <th>s3</th>\n",
       "      <th>s4</th>\n",
       "      <th>s5</th>\n",
       "      <th>s6</th>\n",
       "    </tr>\n",
       "  </thead>\n",
       "  <tbody>\n",
       "    <tr>\n",
       "      <th>count</th>\n",
       "      <td>4.420000e+02</td>\n",
       "      <td>4.420000e+02</td>\n",
       "      <td>4.420000e+02</td>\n",
       "      <td>4.420000e+02</td>\n",
       "      <td>4.420000e+02</td>\n",
       "      <td>4.420000e+02</td>\n",
       "      <td>4.420000e+02</td>\n",
       "      <td>4.420000e+02</td>\n",
       "      <td>4.420000e+02</td>\n",
       "      <td>4.420000e+02</td>\n",
       "    </tr>\n",
       "    <tr>\n",
       "      <th>mean</th>\n",
       "      <td>-3.639623e-16</td>\n",
       "      <td>1.309912e-16</td>\n",
       "      <td>-8.013951e-16</td>\n",
       "      <td>1.289818e-16</td>\n",
       "      <td>-9.042540e-17</td>\n",
       "      <td>1.301121e-16</td>\n",
       "      <td>-4.563971e-16</td>\n",
       "      <td>3.863174e-16</td>\n",
       "      <td>-3.848103e-16</td>\n",
       "      <td>-3.398488e-16</td>\n",
       "    </tr>\n",
       "    <tr>\n",
       "      <th>std</th>\n",
       "      <td>4.761905e-02</td>\n",
       "      <td>4.761905e-02</td>\n",
       "      <td>4.761905e-02</td>\n",
       "      <td>4.761905e-02</td>\n",
       "      <td>4.761905e-02</td>\n",
       "      <td>4.761905e-02</td>\n",
       "      <td>4.761905e-02</td>\n",
       "      <td>4.761905e-02</td>\n",
       "      <td>4.761905e-02</td>\n",
       "      <td>4.761905e-02</td>\n",
       "    </tr>\n",
       "    <tr>\n",
       "      <th>min</th>\n",
       "      <td>-1.072256e-01</td>\n",
       "      <td>-4.464164e-02</td>\n",
       "      <td>-9.027530e-02</td>\n",
       "      <td>-1.123996e-01</td>\n",
       "      <td>-1.267807e-01</td>\n",
       "      <td>-1.156131e-01</td>\n",
       "      <td>-1.023071e-01</td>\n",
       "      <td>-7.639450e-02</td>\n",
       "      <td>-1.260974e-01</td>\n",
       "      <td>-1.377672e-01</td>\n",
       "    </tr>\n",
       "    <tr>\n",
       "      <th>25%</th>\n",
       "      <td>-3.729927e-02</td>\n",
       "      <td>-4.464164e-02</td>\n",
       "      <td>-3.422907e-02</td>\n",
       "      <td>-3.665645e-02</td>\n",
       "      <td>-3.424784e-02</td>\n",
       "      <td>-3.035840e-02</td>\n",
       "      <td>-3.511716e-02</td>\n",
       "      <td>-3.949338e-02</td>\n",
       "      <td>-3.324879e-02</td>\n",
       "      <td>-3.317903e-02</td>\n",
       "    </tr>\n",
       "    <tr>\n",
       "      <th>50%</th>\n",
       "      <td>5.383060e-03</td>\n",
       "      <td>-4.464164e-02</td>\n",
       "      <td>-7.283766e-03</td>\n",
       "      <td>-5.670611e-03</td>\n",
       "      <td>-4.320866e-03</td>\n",
       "      <td>-3.819065e-03</td>\n",
       "      <td>-6.584468e-03</td>\n",
       "      <td>-2.592262e-03</td>\n",
       "      <td>-1.947634e-03</td>\n",
       "      <td>-1.077698e-03</td>\n",
       "    </tr>\n",
       "    <tr>\n",
       "      <th>75%</th>\n",
       "      <td>3.807591e-02</td>\n",
       "      <td>5.068012e-02</td>\n",
       "      <td>3.124802e-02</td>\n",
       "      <td>3.564384e-02</td>\n",
       "      <td>2.835801e-02</td>\n",
       "      <td>2.984439e-02</td>\n",
       "      <td>2.931150e-02</td>\n",
       "      <td>3.430886e-02</td>\n",
       "      <td>3.243323e-02</td>\n",
       "      <td>2.791705e-02</td>\n",
       "    </tr>\n",
       "    <tr>\n",
       "      <th>max</th>\n",
       "      <td>1.107267e-01</td>\n",
       "      <td>5.068012e-02</td>\n",
       "      <td>1.705552e-01</td>\n",
       "      <td>1.320442e-01</td>\n",
       "      <td>1.539137e-01</td>\n",
       "      <td>1.987880e-01</td>\n",
       "      <td>1.811791e-01</td>\n",
       "      <td>1.852344e-01</td>\n",
       "      <td>1.335990e-01</td>\n",
       "      <td>1.356118e-01</td>\n",
       "    </tr>\n",
       "  </tbody>\n",
       "</table>\n",
       "</div>"
      ],
      "text/plain": [
       "                age           sex           bmi            bp            s1  \\\n",
       "count  4.420000e+02  4.420000e+02  4.420000e+02  4.420000e+02  4.420000e+02   \n",
       "mean  -3.639623e-16  1.309912e-16 -8.013951e-16  1.289818e-16 -9.042540e-17   \n",
       "std    4.761905e-02  4.761905e-02  4.761905e-02  4.761905e-02  4.761905e-02   \n",
       "min   -1.072256e-01 -4.464164e-02 -9.027530e-02 -1.123996e-01 -1.267807e-01   \n",
       "25%   -3.729927e-02 -4.464164e-02 -3.422907e-02 -3.665645e-02 -3.424784e-02   \n",
       "50%    5.383060e-03 -4.464164e-02 -7.283766e-03 -5.670611e-03 -4.320866e-03   \n",
       "75%    3.807591e-02  5.068012e-02  3.124802e-02  3.564384e-02  2.835801e-02   \n",
       "max    1.107267e-01  5.068012e-02  1.705552e-01  1.320442e-01  1.539137e-01   \n",
       "\n",
       "                 s2            s3            s4            s5            s6  \n",
       "count  4.420000e+02  4.420000e+02  4.420000e+02  4.420000e+02  4.420000e+02  \n",
       "mean   1.301121e-16 -4.563971e-16  3.863174e-16 -3.848103e-16 -3.398488e-16  \n",
       "std    4.761905e-02  4.761905e-02  4.761905e-02  4.761905e-02  4.761905e-02  \n",
       "min   -1.156131e-01 -1.023071e-01 -7.639450e-02 -1.260974e-01 -1.377672e-01  \n",
       "25%   -3.035840e-02 -3.511716e-02 -3.949338e-02 -3.324879e-02 -3.317903e-02  \n",
       "50%   -3.819065e-03 -6.584468e-03 -2.592262e-03 -1.947634e-03 -1.077698e-03  \n",
       "75%    2.984439e-02  2.931150e-02  3.430886e-02  3.243323e-02  2.791705e-02  \n",
       "max    1.987880e-01  1.811791e-01  1.852344e-01  1.335990e-01  1.356118e-01  "
      ]
     },
     "execution_count": 31,
     "metadata": {},
     "output_type": "execute_result"
    }
   ],
   "source": [
    "X_db.describe()"
   ]
  },
  {
   "cell_type": "markdown",
   "metadata": {},
   "source": [
    "This is not always the case, so you should always check if your dataset is normalized, and, if not, you should always normalize your dataset into a unified scale (e.g. range [0; 1]). The reasons why:\n",
    "\n",
    "1. Depending on what optimization algorithm you use, if feature $f_1$ has a domain of [-4.1; 3] and feature $f_2$ has a domain of [-1.1; 100000], the impact in the gradient can lead to problems in the convergence to the global minima (i.e. you probably won't get accurate results for your predictions). There are optimization algorithms that can avoid this issue but still suffer from the issue (2).\n",
    "2. If two features are using different ranges, it will be hard to compare features in terms of feature importance. If a feature ($f_1$) has a domain of [-0.1; 0.1] and another ($f_2$) has domain of [0; 1000], it doesn't make sense to look at the influence in the prediction through the same lens as the ones we use in the introduction to simple linear regression (i.e. an increase of 1 unit in $x$ increases $\\beta_1$ units in $\\hat{y}$). Due to the fact that feature $f_1$ never goes to -1 or +1, that interpretation wouldn't make sense and, as such, we would have two options:\n",
    "    1. normalize the resulting coefficients accordingly to the scale;\n",
    "    2. or normalize the inputs into the same scale.\n",
    "    \n"
   ]
  },
  {
   "cell_type": "markdown",
   "metadata": {},
   "source": [
    "### Summary: Linear Regression Pros & Cons\n",
    "\n",
    "**PROS**\n",
    "* Really easy to understand\n",
    "* Fast optimization\n",
    "* Easy to extend the model: you haven't seen how this is true but there is a thing called _Generalized Linear Model (GLM)_. Once you get a good grip on linear regression, you should visit the [scikit learn page on GLMs](http://scikit-learn.org/stable/modules/linear_model.html).\n",
    "\n",
    "**CONS**\n",
    "* Sensible to outliers, even though there are extensions that are able to deal (partially) with this issue.\n",
    "* Assumes that there is no multicollinearity.\n",
    "* Feature scaling is required.\n",
    "* Monotonicity assumption: for the model, the relation between each feature and the output. \n",
    "* Categorical encoding: this might get tricky when the number of uniques is big and part of those uniques have few occurrences.\n",
    "\n",
    "\n",
    "#### Notes\n",
    "\n",
    "At this point, if you already knew linear regression in detail before the academy, you might be wondering: <em>\"Where is the error component in the linear regression formula?\"</em>. The reason is quite simple: since we wanted you to approach this subject from a more practical standpoint than theoretical.\n",
    "\n",
    "Also, we didn't include all assumptions made by the linear regression model. For a hands-on approach to the assumptions, check this [blog post by Selva Prabhakaran](http://r-statistics.co/Assumptions-of-Linear-Regression.html).\n",
    "\n",
    "<br>\n",
    "<br>"
   ]
  },
  {
   "cell_type": "markdown",
   "metadata": {},
   "source": [
    "So far, we've already covered:\n",
    "\n",
    "* how to implement a model for a simple linear regression\n",
    "* how to implement a model for a multiple linear regression\n",
    "* one simple error function we can use\n",
    "* the closed form solution for the linear regression problem \n",
    "* the scikitlearn model for the LinearRegression\n",
    "\n",
    "You are probably just trying to take it all in as fast as you can. \n",
    "\n",
    "![too-much-info](assets/too-much-information.gif)\n",
    "\n",
    "But do not despair, we're almost at the end of the notebook. The last topic we will introduce is the gradient descent methods. We will only do a slight introduction, since you will learn more about it in other units:"
   ]
  },
  {
   "cell_type": "markdown",
   "metadata": {},
   "source": [
    "<a id='grad_desc'> </a>"
   ]
  },
  {
   "cell_type": "markdown",
   "metadata": {},
   "source": [
    "# 4 -  Gradient Descent "
   ]
  },
  {
   "cell_type": "markdown",
   "metadata": {},
   "source": [
    "Gradient descent is a well known and studied method for iterative optimization of both linear and non-linear models. You can use it to estimate the parameters for linear regression, neural networks, probabilistic graphical models, k-means and many more!\n",
    "\n",
    "The essential component of the gradient descent algorithm is the **update rule**. Let $f$ be a differentiable function and $\\omega$ one of parameters of $f$. Then, in order to minimize the value outputted by $f(\\omega)$, we will use, iteratively, the following\n",
    "\n",
    "$$\\omega = \\omega - \\alpha \\frac{\\partial f(\\omega)}{\\partial \\omega}$$\n",
    "\n",
    "where $\\frac{\\partial f}{\\partial \\omega}$ is the [partial derivative of $f$ with respect to $\\omega$](https://www.khanacademy.org/math/multivariable-calculus/multivariable-derivatives/partial-derivative-and-gradient-articles/a/introduction-to-partial-derivatives) and $\\alpha$ is the learning rate. So, what gradient descent does is using the partial derivative as a _heuristic_ to the direction where the minimum is located and the multiplication between the learning rate and the partial derivative gives you a _velocity_ factor that you will use in order to update $\\omega$. There are two ways to increase the _velocity_ : \n",
    "(1) higher learning rates, (2) big gradients. \n",
    "\n"
   ]
  },
  {
   "cell_type": "markdown",
   "metadata": {},
   "source": [
    "Remember the derivatives from above,\n",
    "\n",
    "$$\\frac{d J}{d \\beta_0} = -\\frac{1}{N} \\sum_{i=1}^N [2 (y_i - \\hat{y_i})] $$\n",
    "\n",
    "$$ \\frac{d J}{d \\beta_k} = -\\frac{1}{N}\\sum_{i=1}^N [2( y_i - \\hat{y_i})x_{k_i}] $$ \n",
    "\n",
    "\n",
    "They will come in handy now, let's implement them as lambda functions:"
   ]
  },
  {
   "cell_type": "code",
   "execution_count": 32,
   "metadata": {},
   "outputs": [],
   "source": [
    "mse_derivative_b0 = lambda y, y_hat: -(2*(y - y_hat)).mean()\n",
    "mse_derivative_bk = lambda y, y_hat, x_k: -(2*(y - y_hat)*x_k).mean()"
   ]
  },
  {
   "cell_type": "markdown",
   "metadata": {},
   "source": [
    "We can then use these derivatives and implement the update rule. We have:\n",
    "\n",
    "1. _For epoch in 1...epochs:_\n",
    "    1. $\\beta_0 = \\beta_0 - \\alpha \\frac{\\partial J}{\\partial \\beta_0} = \\beta_0 - \\alpha (-\\frac{1}{N} \\sum_{n=1}^N 2 (y_n - \\hat{y}_n))$ \n",
    "    2. _For i in 1..K:_\n",
    "        1. $\\beta_i = \\beta_i - \\alpha \\frac{\\partial J}{\\partial \\beta_i} = \\beta_i - \\alpha (-\\frac{1}{N} \\sum_{n=1}^N 2 (y_n - \\hat{y}_n) x_n)$"
   ]
  },
  {
   "cell_type": "code",
   "execution_count": 33,
   "metadata": {},
   "outputs": [],
   "source": [
    "def gradient_descent_multiple_linear_regression(x, y, betas, learning_rate, epochs, clip=False):\n",
    "    \n",
    "    betas_ = betas.copy().reshape(-1, 1)\n",
    "    for epoch in range(epochs): \n",
    "        y_hat = multiple_linear_regression(x, betas_.flatten())\n",
    "        dJ_dbetas = np.zeros((x.shape[1] + 1, 1))\n",
    "        dJ_dbetas[0] = mse_derivative_b0(y, y_hat)\n",
    "        \n",
    "        for col in range(x.shape[1]): \n",
    "            dJ_dbetas[col+1] = mse_derivative_bk(y, y_hat, x[:, col])\n",
    "        \n",
    "        # We add this to avoid increasingly bigger derivatives\n",
    "        if clip == True:\n",
    "            dJ_dbetas = np.clip(dJ_dbetas, -1, 1)\n",
    "            \n",
    "        betas_ = betas_ - learning_rate * dJ_dbetas\n",
    "\n",
    "    return betas_"
   ]
  },
  {
   "cell_type": "markdown",
   "metadata": {},
   "source": [
    "## 4.1 - Gradient Descent for simple linear regression\n",
    "\n",
    "Let's try to run the gradient descent for our linear example:"
   ]
  },
  {
   "cell_type": "code",
   "execution_count": 34,
   "metadata": {},
   "outputs": [],
   "source": [
    "np.random.seed(42)\n",
    "\n",
    "df = pd.read_csv('data/linear-learning-notebook.csv')\n",
    "df = df.sort_values('x')\n",
    "x_lin_df = df['x'].values\n",
    "y_lin_df = df['y'].values\n",
    "\n",
    "betas = gradient_descent_multiple_linear_regression(\n",
    "    x_lin_df.reshape(-1, 1), \n",
    "    y_lin_df, \n",
    "    np.random.rand(2), \n",
    "    0.01, \n",
    "    100)"
   ]
  },
  {
   "cell_type": "markdown",
   "metadata": {},
   "source": [
    "Now plot the solution:"
   ]
  },
  {
   "cell_type": "code",
   "execution_count": 35,
   "metadata": {},
   "outputs": [
    {
     "name": "stdout",
     "output_type": "stream",
     "text": [
      "Mean Squared Error (MSE): 0.7354602285661168\n"
     ]
    },
    {
     "data": {
      "image/png": "[encoded data removed]",
      "text/plain": [
       "<Figure size 432x288 with 1 Axes>"
      ]
     },
     "metadata": {
      "needs_background": "light"
     },
     "output_type": "display_data"
    }
   ],
   "source": [
    "y_pred = linear_regression(x_lin_df, betas[0], betas[1])\n",
    "plt.plot(x_lin_df, y_lin_df, 'b.')\n",
    "plt.plot(x_lin_df, y_pred, 'r-')\n",
    "plt.plot([0, 0], [-8, 8], 'g-', [-8, 8], [0, 0], 'g-', linewidth=0.4)\n",
    "\n",
    "print(\"Mean Squared Error (MSE): {}\".format(linear_regression_mse(y_lin_df, y_pred)))"
   ]
  },
  {
   "cell_type": "markdown",
   "metadata": {},
   "source": [
    "## 4.2 - Gradient Descent for multiple linear regression"
   ]
  },
  {
   "cell_type": "code",
   "execution_count": 36,
   "metadata": {},
   "outputs": [],
   "source": [
    "np.random.seed(42)\n",
    "\n",
    "df = pd.read_csv('data/polynomial-learning-notebook.csv')\n",
    "df = df.sort_values('x')\n",
    "x_pln_df = df['x'].values\n",
    "X_pln_df = df.drop(columns='y').values\n",
    "y_pln_df = df['y'].values\n",
    "\n",
    "betas = gradient_descent_multiple_linear_regression(\n",
    "    X_pln_df, \n",
    "    y_pln_df, \n",
    "    np.random.rand(4), \n",
    "    0.001, \n",
    "    5000, \n",
    "    clip=True)"
   ]
  },
  {
   "cell_type": "markdown",
   "metadata": {},
   "source": [
    "Now plot the solution:"
   ]
  },
  {
   "cell_type": "code",
   "execution_count": 37,
   "metadata": {},
   "outputs": [
    {
     "name": "stdout",
     "output_type": "stream",
     "text": [
      "Mean Squared Error (MSE): 14.943328536097281\n"
     ]
    },
    {
     "data": {
      "image/png": "[encoded data removed]",
      "text/plain": [
       "<Figure size 432x288 with 1 Axes>"
      ]
     },
     "metadata": {
      "needs_background": "light"
     },
     "output_type": "display_data"
    }
   ],
   "source": [
    "y_pred = multiple_linear_regression(X_pln_df, betas.flatten())\n",
    "plt.plot(x_pln_df, y_pln_df, 'b.')\n",
    "plt.plot(x_pln_df, y_pred, 'r-')\n",
    "plt.plot([0, 0], [-20, 20], 'g-', [-20, 20], [0, 0], 'g-', linewidth=0.4)\n",
    "\n",
    "print(\"Mean Squared Error (MSE): {}\".format(linear_regression_mse(y_pln_df, y_pred)))"
   ]
  },
  {
   "cell_type": "markdown",
   "metadata": {},
   "source": [
    "## 4.3 - Gradient Descent for multiple linear regression: diabetes example\n",
    "\n",
    "Finally let's run Gradient Descent for the previous complex example:"
   ]
  },
  {
   "cell_type": "code",
   "execution_count": 38,
   "metadata": {},
   "outputs": [],
   "source": [
    "import numpy as np\n",
    "import pandas as pd\n",
    "from sklearn.datasets import load_diabetes\n",
    "\n",
    "data = load_diabetes()\n",
    "\n",
    "X_db = pd.DataFrame(data['data'], columns=data['feature_names'])\n",
    "y_db = pd.Series(data['target'], name='medv')\n",
    "\n",
    "pd.concat((X_db, y_db), axis=1).head(5)\n",
    "\n",
    "betas = gradient_descent_multiple_linear_regression(\n",
    "    X_db.values, \n",
    "    y_db.values, \n",
    "    np.random.rand(X_db.shape[1]+1), \n",
    "    0.1, \n",
    "    5000)\n"
   ]
  },
  {
   "cell_type": "markdown",
   "metadata": {},
   "source": [
    "Print the coefficients and the intercept and compare them and the error with the previous methods:"
   ]
  },
  {
   "cell_type": "code",
   "execution_count": 39,
   "metadata": {},
   "outputs": [
    {
     "name": "stdout",
     "output_type": "stream",
     "text": [
      "Feature coefficients: \n",
      "age      6.477416\n",
      "sex   -197.604938\n",
      "bmi    487.727762\n",
      "bp     302.664704\n",
      "s1     -41.672774\n",
      "s2    -106.719363\n",
      "s3    -206.725952\n",
      "s4     128.485965\n",
      "s5     407.329775\n",
      "s6     117.104678\n",
      "dtype: float64\n",
      "\n",
      "\n",
      "Intercept: 152.1334841628963\n",
      "\n",
      "\n",
      "\n",
      "Targets for the first 5 rows: \n",
      "\n",
      " [151.  75. 141. 206. 135.]\n",
      "\n",
      "Predictions for the first 5 rows: \n",
      "\n",
      " [199.31724465  71.17863611 172.67029998 160.45809677 127.52635757]\n",
      "Mean Squared Error (MSE): 2899.0843162762653\n"
     ]
    }
   ],
   "source": [
    "betas = betas.flatten()\n",
    "y_pred = multiple_linear_regression(X_db.values, betas)\n",
    "\n",
    "print('Feature coefficients: ')\n",
    "print(pd.Series(betas[1:], X_db.columns))\n",
    "print('\\n')\n",
    "\n",
    "print('Intercept: {}'.format(betas[0]))\n",
    "print('\\n')\n",
    "\n",
    "print('\\nTargets for the first 5 rows: \\n\\n', y_db.head(5).values)\n",
    "print('\\nPredictions for the first 5 rows: \\n\\n', y_pred[:5])\n",
    "print(\"Mean Squared Error (MSE): {}\".format(linear_regression_mse(y_db.values, y_pred)))"
   ]
  },
  {
   "cell_type": "markdown",
   "metadata": {},
   "source": [
    "And that is it! Congratulations, you've just learned your first predictive model! You've learned how to perform linear regressions with simple and multiple input models, and are now able to solve them through closed form solutions and even through a simple iterative methods. Now go on and apply what you've learned in the exercises. In the next units you will see other types of tasks and models and all sorts of other advanced topics.\n",
    "\n",
    "![im-ready](assets/im-ready.gif)\n"
   ]
  },
  {
   "cell_type": "code",
   "execution_count": null,
   "metadata": {},
   "outputs": [],
   "source": []
  }
 ],
 "metadata": {
  "kernelspec": {
   "display_name": "Python 3",
   "language": "python",
   "name": "python3"
  },
  "language_info": {
   "codemirror_mode": {
    "name": "ipython",
    "version": 3
   },
   "file_extension": ".py",
   "mimetype": "text/x-python",
   "name": "python",
   "nbconvert_exporter": "python",
   "pygments_lexer": "ipython3",
   "version": "3.7.10"
  },
  "toc": {
   "base_numbering": 1,
   "nav_menu": {},
   "number_sections": false,
   "sideBar": true,
   "skip_h1_title": false,
   "title_cell": "Table of Contents",
   "title_sidebar": "Contents",
   "toc_cell": false,
   "toc_position": {
    "height": "calc(100% - 180px)",
    "left": "10px",
    "top": "150px",
    "width": "288px"
   },
   "toc_section_display": true,
   "toc_window_display": true
  }
 },
 "nbformat": 4,
 "nbformat_minor": 2
}
