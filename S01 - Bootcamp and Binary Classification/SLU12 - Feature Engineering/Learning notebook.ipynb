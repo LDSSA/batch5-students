{
 "cells": [
  {
   "cell_type": "markdown",
   "metadata": {},
   "source": [
    "# SLU12: Feature Engineering (aka Real World Data)\n",
    "---\n",
    "\n",
    "In this notebook we will cover the following topics:\n",
    "1. [Tidy data principles](#tidy-data)\n",
    "2. [Types of data in Pandas](#types-data)\n",
    "3. [Types of statistical data](#types-statistical)\n",
    "    1. [Dealing with numerical features](#deal-num)\n",
    "    2. [Dealing with categorical features](#deal-cat)"
   ]
  },
  {
   "cell_type": "markdown",
   "metadata": {},
   "source": [
    "> *Happy datasets are all alike; every unhappy dataset is unhappy in its own way.*\n",
    "\n",
    "(Shamelessly adapted from [Tolstoy's Anna Karenina](https://en.wikipedia.org/wiki/Anna_Karenina_principle).)\n",
    "\n",
    "# 1. Tidy data principles <a class=\"anchor\" id=\"tidy-data\"></a>\n",
    "\n",
    "At the beginning of any project, it is critical to structure datasets in a way that facilitates work.\n",
    "\n",
    "Most datasets are dataframes made up of rows and columns, containing values that belong to a variable and an observation:\n",
    "* **Variables** contain all values that measure the same thing across observations;\n",
    "* **Observations** contain all values measured on the same unit (e.g., same person) across variables.\n",
    "\n",
    "The ideas of ***tidy data*** ([Wickham, 2014](http://vita.had.co.nz/papers/tidy-data.html)) provide a standardized framework to organize and structure datasets, making them easy to manipulate, model and visualize.\n",
    "1. Each variable forms a column;\n",
    "2. Each observation forms a row;\n",
    "3. Each type of observational unit forms a table (or dataframe).\n",
    "\n",
    "We will be using a preprocessed version of the `avengers` dataset, by [FiveThirtyEight](https://github.com/fivethirtyeight/data/tree/master/avengers).\n",
    "\n",
    "![](https://ichef.bbci.co.uk/news/800/cpsprodpb/BF0D/production/_106090984_2e39b218-c369-452e-b5be-d2476f9d8728.jpg)"
   ]
  },
  {
   "cell_type": "code",
   "execution_count": 1,
   "metadata": {},
   "outputs": [],
   "source": [
    "import numpy as np\n",
    "import pandas as pd\n",
    "import matplotlib.pyplot as plt\n",
    "%matplotlib inline\n",
    "\n",
    "import warnings\n",
    "warnings.filterwarnings('ignore')"
   ]
  },
  {
   "cell_type": "code",
   "execution_count": 2,
   "metadata": {},
   "outputs": [
    {
     "data": {
      "text/html": [
       "<div>\n",
       "<style scoped>\n",
       "    .dataframe tbody tr th:only-of-type {\n",
       "        vertical-align: middle;\n",
       "    }\n",
       "\n",
       "    .dataframe tbody tr th {\n",
       "        vertical-align: top;\n",
       "    }\n",
       "\n",
       "    .dataframe thead th {\n",
       "        text-align: right;\n",
       "    }\n",
       "</style>\n",
       "<table border=\"1\" class=\"dataframe\">\n",
       "  <thead>\n",
       "    <tr style=\"text-align: right;\">\n",
       "      <th></th>\n",
       "      <th>Name</th>\n",
       "      <th>Active</th>\n",
       "      <th>Gender</th>\n",
       "      <th>Membership</th>\n",
       "      <th>Universe</th>\n",
       "      <th>Appearances</th>\n",
       "      <th>TotalDeaths</th>\n",
       "      <th>TotalReturns</th>\n",
       "    </tr>\n",
       "  </thead>\n",
       "  <tbody>\n",
       "    <tr>\n",
       "      <th>0</th>\n",
       "      <td>Henry Jonathan \"Hank\" Pym</td>\n",
       "      <td>YES</td>\n",
       "      <td>MALE</td>\n",
       "      <td>Full</td>\n",
       "      <td>Earth-616</td>\n",
       "      <td>1269</td>\n",
       "      <td>1</td>\n",
       "      <td>0</td>\n",
       "    </tr>\n",
       "    <tr>\n",
       "      <th>1</th>\n",
       "      <td>Janet van Dyne</td>\n",
       "      <td>YES</td>\n",
       "      <td>FEMALE</td>\n",
       "      <td>Full</td>\n",
       "      <td>Earth-616</td>\n",
       "      <td>1165</td>\n",
       "      <td>1</td>\n",
       "      <td>1</td>\n",
       "    </tr>\n",
       "    <tr>\n",
       "      <th>2</th>\n",
       "      <td>Anthony Edward \"Tony\" Stark</td>\n",
       "      <td>YES</td>\n",
       "      <td>MALE</td>\n",
       "      <td>Full</td>\n",
       "      <td>Earth-616</td>\n",
       "      <td>3068</td>\n",
       "      <td>1</td>\n",
       "      <td>1</td>\n",
       "    </tr>\n",
       "    <tr>\n",
       "      <th>3</th>\n",
       "      <td>Robert Bruce Banner</td>\n",
       "      <td>YES</td>\n",
       "      <td>MALE</td>\n",
       "      <td>Full</td>\n",
       "      <td>Earth-616</td>\n",
       "      <td>2089</td>\n",
       "      <td>1</td>\n",
       "      <td>1</td>\n",
       "    </tr>\n",
       "    <tr>\n",
       "      <th>4</th>\n",
       "      <td>Thor Odinson</td>\n",
       "      <td>YES</td>\n",
       "      <td>MALE</td>\n",
       "      <td>Full</td>\n",
       "      <td>Earth-616</td>\n",
       "      <td>2402</td>\n",
       "      <td>2</td>\n",
       "      <td>1</td>\n",
       "    </tr>\n",
       "  </tbody>\n",
       "</table>\n",
       "</div>"
      ],
      "text/plain": [
       "                          Name Active  Gender Membership   Universe  \\\n",
       "0    Henry Jonathan \"Hank\" Pym    YES    MALE       Full  Earth-616   \n",
       "1               Janet van Dyne    YES  FEMALE       Full  Earth-616   \n",
       "2  Anthony Edward \"Tony\" Stark    YES    MALE       Full  Earth-616   \n",
       "3          Robert Bruce Banner    YES    MALE       Full  Earth-616   \n",
       "4                 Thor Odinson    YES    MALE       Full  Earth-616   \n",
       "\n",
       "   Appearances  TotalDeaths  TotalReturns  \n",
       "0         1269            1             0  \n",
       "1         1165            1             1  \n",
       "2         3068            1             1  \n",
       "3         2089            1             1  \n",
       "4         2402            2             1  "
      ]
     },
     "execution_count": 2,
     "metadata": {},
     "output_type": "execute_result"
    }
   ],
   "source": [
    "avengers = pd.read_csv('data/avengers.csv')\n",
    "avengers.head()"
   ]
  },
  {
   "cell_type": "markdown",
   "metadata": {},
   "source": [
    "# 2. Types of data in Pandas <a class=\"anchor\" id=\"types-data\"></a>\n",
    "\n",
    "## 2.1. Numerical and object dtypes\n",
    "\n",
    "As stated above, a dataset is a collection of values, usually either numbers (quantitative) or strings (qualitative)."
   ]
  },
  {
   "cell_type": "code",
   "execution_count": 3,
   "metadata": {},
   "outputs": [
    {
     "data": {
      "text/plain": [
       "Name            object\n",
       "Active          object\n",
       "Gender          object\n",
       "Membership      object\n",
       "Universe        object\n",
       "Appearances      int64\n",
       "TotalDeaths      int64\n",
       "TotalReturns     int64\n",
       "dtype: object"
      ]
     },
     "execution_count": 3,
     "metadata": {},
     "output_type": "execute_result"
    }
   ],
   "source": [
    "avengers.dtypes"
   ]
  },
  {
   "cell_type": "markdown",
   "metadata": {},
   "source": [
    "Pandas main data types are:\n",
    "* Numeric (`int`, `float`);\n",
    "* Datetime (`datetime`, `timedelta`);\n",
    "* String (`object`).\n",
    "\n",
    "The convenient `select_dtypes` method allows us to select variables (columns in our dataframe) by data type."
   ]
  },
  {
   "cell_type": "code",
   "execution_count": 4,
   "metadata": {
    "scrolled": true
   },
   "outputs": [
    {
     "data": {
      "text/html": [
       "<div>\n",
       "<style scoped>\n",
       "    .dataframe tbody tr th:only-of-type {\n",
       "        vertical-align: middle;\n",
       "    }\n",
       "\n",
       "    .dataframe tbody tr th {\n",
       "        vertical-align: top;\n",
       "    }\n",
       "\n",
       "    .dataframe thead th {\n",
       "        text-align: right;\n",
       "    }\n",
       "</style>\n",
       "<table border=\"1\" class=\"dataframe\">\n",
       "  <thead>\n",
       "    <tr style=\"text-align: right;\">\n",
       "      <th></th>\n",
       "      <th>Name</th>\n",
       "      <th>Active</th>\n",
       "      <th>Gender</th>\n",
       "      <th>Membership</th>\n",
       "      <th>Universe</th>\n",
       "    </tr>\n",
       "  </thead>\n",
       "  <tbody>\n",
       "    <tr>\n",
       "      <th>0</th>\n",
       "      <td>Henry Jonathan \"Hank\" Pym</td>\n",
       "      <td>YES</td>\n",
       "      <td>MALE</td>\n",
       "      <td>Full</td>\n",
       "      <td>Earth-616</td>\n",
       "    </tr>\n",
       "    <tr>\n",
       "      <th>1</th>\n",
       "      <td>Janet van Dyne</td>\n",
       "      <td>YES</td>\n",
       "      <td>FEMALE</td>\n",
       "      <td>Full</td>\n",
       "      <td>Earth-616</td>\n",
       "    </tr>\n",
       "    <tr>\n",
       "      <th>2</th>\n",
       "      <td>Anthony Edward \"Tony\" Stark</td>\n",
       "      <td>YES</td>\n",
       "      <td>MALE</td>\n",
       "      <td>Full</td>\n",
       "      <td>Earth-616</td>\n",
       "    </tr>\n",
       "  </tbody>\n",
       "</table>\n",
       "</div>"
      ],
      "text/plain": [
       "                          Name Active  Gender Membership   Universe\n",
       "0    Henry Jonathan \"Hank\" Pym    YES    MALE       Full  Earth-616\n",
       "1               Janet van Dyne    YES  FEMALE       Full  Earth-616\n",
       "2  Anthony Edward \"Tony\" Stark    YES    MALE       Full  Earth-616"
      ]
     },
     "execution_count": 4,
     "metadata": {},
     "output_type": "execute_result"
    }
   ],
   "source": [
    "(avengers.select_dtypes(include='object')\n",
    "         .head(3))"
   ]
  },
  {
   "cell_type": "markdown",
   "metadata": {},
   "source": [
    "## 2.2. Category dtype\n",
    "\n",
    "Pandas provide us with a `category` dtype for categorical data:\n",
    "* It allows to easily identify categorical columns, which are recognized by other Python libraries;\n",
    "* Converting a string variable with a few different values to a categorical variable saves memory;\n",
    "* By converting to a categorical we can specify an order on the categories.\n",
    "\n",
    "Let's consider a categorical feature: `Universe`."
   ]
  },
  {
   "cell_type": "code",
   "execution_count": 5,
   "metadata": {},
   "outputs": [
    {
     "data": {
      "text/html": [
       "<div>\n",
       "<style scoped>\n",
       "    .dataframe tbody tr th:only-of-type {\n",
       "        vertical-align: middle;\n",
       "    }\n",
       "\n",
       "    .dataframe tbody tr th {\n",
       "        vertical-align: top;\n",
       "    }\n",
       "\n",
       "    .dataframe thead th {\n",
       "        text-align: right;\n",
       "    }\n",
       "</style>\n",
       "<table border=\"1\" class=\"dataframe\">\n",
       "  <thead>\n",
       "    <tr style=\"text-align: right;\">\n",
       "      <th></th>\n",
       "      <th>Universe</th>\n",
       "    </tr>\n",
       "  </thead>\n",
       "  <tbody>\n",
       "    <tr>\n",
       "      <th>count</th>\n",
       "      <td>155</td>\n",
       "    </tr>\n",
       "    <tr>\n",
       "      <th>unique</th>\n",
       "      <td>7</td>\n",
       "    </tr>\n",
       "    <tr>\n",
       "      <th>top</th>\n",
       "      <td>Earth-616</td>\n",
       "    </tr>\n",
       "    <tr>\n",
       "      <th>freq</th>\n",
       "      <td>144</td>\n",
       "    </tr>\n",
       "  </tbody>\n",
       "</table>\n",
       "</div>"
      ],
      "text/plain": [
       "         Universe\n",
       "count         155\n",
       "unique          7\n",
       "top     Earth-616\n",
       "freq          144"
      ]
     },
     "execution_count": 5,
     "metadata": {},
     "output_type": "execute_result"
    }
   ],
   "source": [
    "avengers_cat = avengers.copy()\n",
    "avengers_cat = avengers_cat.assign(Universe=avengers['Universe'].astype('category'))\n",
    "\n",
    "avengers_cat.describe(include='category')"
   ]
  },
  {
   "cell_type": "markdown",
   "metadata": {},
   "source": [
    "Categorical data has a `categories` and an `ordered` property:\n",
    "* `Series.cat.categories` prints the different values (or levels) the variable can take on;\n",
    "* `Series.cat.ordered` prints whether the categorical variable has a natural order or not (hint: if it has, it's not purely categorical)."
   ]
  },
  {
   "cell_type": "code",
   "execution_count": 6,
   "metadata": {},
   "outputs": [
    {
     "data": {
      "text/plain": [
       "Index(['Earth-13034', 'Earth-616', 'Earth-6311', 'Earth-691', 'Earth-8009',\n",
       "       'Earth-921', 'Earth-96020'],\n",
       "      dtype='object')"
      ]
     },
     "execution_count": 6,
     "metadata": {},
     "output_type": "execute_result"
    }
   ],
   "source": [
    "avengers_cat['Universe'].cat.categories"
   ]
  },
  {
   "cell_type": "code",
   "execution_count": 7,
   "metadata": {},
   "outputs": [
    {
     "data": {
      "text/plain": [
       "False"
      ]
     },
     "execution_count": 7,
     "metadata": {},
     "output_type": "execute_result"
    }
   ],
   "source": [
    "avengers_cat['Universe'].cat.ordered"
   ]
  },
  {
   "cell_type": "markdown",
   "metadata": {},
   "source": [
    "### Ordinal data\n",
    "\n",
    "Ordinal statistical data refers to categories that have a natural order, but the distance between them is not known.\n",
    "\n",
    "We will use the `Membership` variable as an example since it appears to be an order in the degree of commitment of our avengers.\n",
    "\n",
    "We can also use the `category` dtype."
   ]
  },
  {
   "cell_type": "code",
   "execution_count": 8,
   "metadata": {},
   "outputs": [
    {
     "data": {
      "text/plain": [
       "Index(['Academy', 'Full', 'Honorary', 'Probationary'], dtype='object')"
      ]
     },
     "execution_count": 8,
     "metadata": {},
     "output_type": "execute_result"
    }
   ],
   "source": [
    "avengers_ord = avengers.copy()\n",
    "avengers_ord = avengers_ord.assign(Membership=avengers['Membership'].astype('category'))\n",
    "\n",
    "avengers_ord['Membership'].cat.categories"
   ]
  },
  {
   "cell_type": "markdown",
   "metadata": {},
   "source": [
    "However, this time we need to set the order for our categories, since there is one! The `category` datatype is flexible enough to accommodate this."
   ]
  },
  {
   "cell_type": "code",
   "execution_count": 9,
   "metadata": {},
   "outputs": [
    {
     "data": {
      "text/plain": [
       "('Honorary', 'Full')"
      ]
     },
     "execution_count": 9,
     "metadata": {},
     "output_type": "execute_result"
    }
   ],
   "source": [
    "ordered_cats = ['Honorary', 'Academy', 'Probationary', 'Full']\n",
    "avengers_ord = avengers_ord.assign(Membership=avengers_ord['Membership'].cat.set_categories(ordered_cats, ordered=True))\n",
    "\n",
    "avengers_ord['Membership'].min(), avengers_ord['Membership'].max()"
   ]
  },
  {
   "cell_type": "markdown",
   "metadata": {},
   "source": [
    "Again, remember that our models need variables in numeric form, in order to be able to make sense of them.\n",
    "\n",
    "The `category` datatypes deals with this gracefully for us."
   ]
  },
  {
   "cell_type": "code",
   "execution_count": 10,
   "metadata": {},
   "outputs": [
    {
     "data": {
      "text/html": [
       "<div>\n",
       "<style scoped>\n",
       "    .dataframe tbody tr th:only-of-type {\n",
       "        vertical-align: middle;\n",
       "    }\n",
       "\n",
       "    .dataframe tbody tr th {\n",
       "        vertical-align: top;\n",
       "    }\n",
       "\n",
       "    .dataframe thead th {\n",
       "        text-align: right;\n",
       "    }\n",
       "</style>\n",
       "<table border=\"1\" class=\"dataframe\">\n",
       "  <thead>\n",
       "    <tr style=\"text-align: right;\">\n",
       "      <th></th>\n",
       "      <th>Name</th>\n",
       "      <th>Active</th>\n",
       "      <th>Gender</th>\n",
       "      <th>Membership</th>\n",
       "      <th>Universe</th>\n",
       "      <th>Appearances</th>\n",
       "      <th>TotalDeaths</th>\n",
       "      <th>TotalReturns</th>\n",
       "    </tr>\n",
       "  </thead>\n",
       "  <tbody>\n",
       "    <tr>\n",
       "      <th>6</th>\n",
       "      <td>Steven Rogers</td>\n",
       "      <td>YES</td>\n",
       "      <td>MALE</td>\n",
       "      <td>3</td>\n",
       "      <td>Earth-616</td>\n",
       "      <td>3458</td>\n",
       "      <td>1</td>\n",
       "      <td>1</td>\n",
       "    </tr>\n",
       "    <tr>\n",
       "      <th>137</th>\n",
       "      <td>Marcus Milton</td>\n",
       "      <td>YES</td>\n",
       "      <td>MALE</td>\n",
       "      <td>3</td>\n",
       "      <td>Earth-13034</td>\n",
       "      <td>65</td>\n",
       "      <td>1</td>\n",
       "      <td>0</td>\n",
       "    </tr>\n",
       "    <tr>\n",
       "      <th>118</th>\n",
       "      <td>Ken Mack</td>\n",
       "      <td>NO</td>\n",
       "      <td>MALE</td>\n",
       "      <td>1</td>\n",
       "      <td>Earth-616</td>\n",
       "      <td>59</td>\n",
       "      <td>1</td>\n",
       "      <td>0</td>\n",
       "    </tr>\n",
       "    <tr>\n",
       "      <th>10</th>\n",
       "      <td>Jacques Duquesne</td>\n",
       "      <td>NO</td>\n",
       "      <td>MALE</td>\n",
       "      <td>3</td>\n",
       "      <td>Earth-616</td>\n",
       "      <td>115</td>\n",
       "      <td>1</td>\n",
       "      <td>1</td>\n",
       "    </tr>\n",
       "    <tr>\n",
       "      <th>81</th>\n",
       "      <td>Carl Lucas</td>\n",
       "      <td>YES</td>\n",
       "      <td>MALE</td>\n",
       "      <td>3</td>\n",
       "      <td>Earth-616</td>\n",
       "      <td>886</td>\n",
       "      <td>0</td>\n",
       "      <td>0</td>\n",
       "    </tr>\n",
       "  </tbody>\n",
       "</table>\n",
       "</div>"
      ],
      "text/plain": [
       "                 Name Active Gender  Membership     Universe  Appearances  \\\n",
       "6       Steven Rogers    YES   MALE           3    Earth-616         3458   \n",
       "137     Marcus Milton    YES   MALE           3  Earth-13034           65   \n",
       "118          Ken Mack     NO   MALE           1    Earth-616           59   \n",
       "10   Jacques Duquesne     NO   MALE           3    Earth-616          115   \n",
       "81         Carl Lucas    YES   MALE           3    Earth-616          886   \n",
       "\n",
       "     TotalDeaths  TotalReturns  \n",
       "6              1             1  \n",
       "137            1             0  \n",
       "118            1             0  \n",
       "10             1             1  \n",
       "81             0             0  "
      ]
     },
     "execution_count": 10,
     "metadata": {},
     "output_type": "execute_result"
    }
   ],
   "source": [
    "(avengers_ord.assign(Membership=avengers_ord['Membership'].cat.codes)\n",
    "         .sample(n=5))"
   ]
  },
  {
   "cell_type": "markdown",
   "metadata": {},
   "source": [
    "However, and as usual, there is a trade-off here:\n",
    "* If we assign integer values to our ordinal categories we are *imposing the assumption* that they are equally spaced;\n",
    "* If we convert them to dummy variables, we will lose the constraint with their order.\n",
    "\n",
    "Later in this notebook, we will see a better way to encode categorical variables into numerical ones."
   ]
  },
  {
   "cell_type": "markdown",
   "metadata": {},
   "source": [
    "# 3. Types of statistical data <a class=\"anchor\" id=\"types-statistical\"></a>\n",
    "\n",
    "There are two main types of statistical data:\n",
    "1. Numerical;\n",
    "2. Categorical."
   ]
  },
  {
   "cell_type": "markdown",
   "metadata": {},
   "source": [
    "## 3.1. Dealing with numerical data <a class=\"anchor\" id=\"deal-num\"></a>\n",
    "\n",
    "Numerical data is information that is measurable. It's always collected in number form, although not all data in number form is numerical.\n",
    "\n",
    "Some of the things we can do with numerical data:\n",
    "* Mathematical operations (e.g., addition, distances and the normalization above);\n",
    "* Sort it in ascending or descending order.\n",
    "\n",
    "**Discrete data**\n",
    "\n",
    "Discrete data take on certain values, although the list of values may be finite or not. \n",
    "\n",
    "`TotalDeaths` and `TotalReturns` in our `avengers` data are discrete variable.\n",
    "\n",
    "**Continuous data**\n",
    "\n",
    "Continuous data can take any value within a range: `Appearances` is an example in our data."
   ]
  },
  {
   "cell_type": "markdown",
   "metadata": {},
   "source": [
    "### 3.1.1. Introducing sklearn-like transformers\n",
    "\n",
    "In a Data Science project, you will deal with a dataset, on which you will apply transformations (*feature engineering!*) and, after that, you will train your Machine Learning model. You have already encountered some of these transformations: for example, imputing the missing values on a given column (using pandas `fillna` method). After your model is trained, you are going to use it in a separate dataset to make predictions (either to evaluate the performance of your model on a test set or to make predictions on new, unlabeled data).\n",
    "\n",
    "If, for example, you are filling the missing values of a numerical feature with a fixed value (say `0`), then it is trivial to apply the same transformation on new, unseen data. But imagine that instead you are filling the missing values with the median value of that feature. How do you apply that transformation in practice?\n",
    "\n",
    "You have to do it in two steps:\n",
    "* You compute the median of that feature for the *training data* and fill the missing values with that value;\n",
    "* For new unseen data (e.g. the test set), you just fill the missing value with the median you calculated for the *training data*.\n",
    "\n",
    "This process is greatly facilitated by using `sklearn`-like **transformers**, which have two standard methods:\n",
    "* The `.fit()` method goes through the data and creates a mapping;\n",
    "* Then`.transform()` transforms the data using this mapping, failing gracefully you when strange things happen (e.g., unseen values or categories).\n",
    "\n",
    "Also, they can used in very convenient ways with other `sklearn` utilities and a typical workflow.\n",
    "\n",
    "For numerical data, we will introduce the following transformers, from `sklearn.preprocessing`:"
   ]
  },
  {
   "cell_type": "code",
   "execution_count": 11,
   "metadata": {},
   "outputs": [],
   "source": [
    "from sklearn.preprocessing import KBinsDiscretizer\n",
    "from sklearn.preprocessing import Binarizer\n",
    "from sklearn.preprocessing import MinMaxScaler\n",
    "from sklearn.preprocessing import Normalizer\n",
    "from sklearn.preprocessing import StandardScaler\n",
    "from sklearn.preprocessing import RobustScaler"
   ]
  },
  {
   "cell_type": "markdown",
   "metadata": {},
   "source": [
    "### 3.1.2. Discretization of numerical data\n",
    "\n",
    "#### Binning\n",
    "\n",
    "Discretization is the transformation of continuous data into *intervals* or *bins*. Despite its name, it can be applied on discrete data to put them on a fixed number of bins.\n",
    "\n",
    "Let's try it in the `Appearances` field, which has the following distribution:"
   ]
  },
  {
   "cell_type": "code",
   "execution_count": 12,
   "metadata": {},
   "outputs": [
    {
     "data": {
      "image/png": "[encoded data removed]",
      "text/plain": [
       "<Figure size 720x432 with 1 Axes>"
      ]
     },
     "metadata": {
      "needs_background": "light"
     },
     "output_type": "display_data"
    }
   ],
   "source": [
    "avengers['Appearances'].plot.hist(bins=10, figsize=(10, 6));\n",
    "plt.xlim(0);\n",
    "plt.xlabel('Number of appearances');\n",
    "plt.title('Histogram of number of appearances');"
   ]
  },
  {
   "cell_type": "markdown",
   "metadata": {},
   "source": [
    "The histogram above shows the distribution of this field by splitting the instances into 10 bins, for the purpose of the plot. The [`KBinsDiscretizer` transformer](https://scikit-learn.org/stable/modules/generated/sklearn.preprocessing.KBinsDiscretizer.html#sklearn.preprocessing.KBinsDiscretizer) will do the same thing, at the level of the data.\n",
    "\n",
    "In the following, we will create a new feature called `Appearances_bins` containing 10 bins, from 0 to 9, with the instances uniformly distributed."
   ]
  },
  {
   "cell_type": "code",
   "execution_count": 13,
   "metadata": {},
   "outputs": [],
   "source": [
    "# save column as a dataframe, as required by the transformer\n",
    "X = avengers[['Appearances']]\n",
    "\n",
    "# initialize transformer with desired options\n",
    "binner = KBinsDiscretizer(n_bins=10, encode='ordinal', strategy='uniform')\n",
    "\n",
    "# fit transformer to data\n",
    "binner.fit(X)\n",
    "\n",
    "# create new feature by transforming the data\n",
    "avengers['Appearances_bins'] = binner.transform(X)"
   ]
  },
  {
   "cell_type": "markdown",
   "metadata": {},
   "source": [
    "The histogram will look the same as above, but the feature values will range from 0 to 9 instead."
   ]
  },
  {
   "cell_type": "code",
   "execution_count": 14,
   "metadata": {},
   "outputs": [
    {
     "data": {
      "image/png": "[encoded data removed]",
      "text/plain": [
       "<Figure size 720x432 with 1 Axes>"
      ]
     },
     "metadata": {
      "needs_background": "light"
     },
     "output_type": "display_data"
    }
   ],
   "source": [
    "avengers['Appearances_bins'].plot.hist(figsize=(10, 6));\n",
    "plt.xlim(0);\n",
    "plt.xlabel('Number of appearances');\n",
    "plt.title('Number of appearances after discretization');"
   ]
  },
  {
   "cell_type": "markdown",
   "metadata": {},
   "source": [
    "If you want to know the original values for the edges of each bin, call:"
   ]
  },
  {
   "cell_type": "code",
   "execution_count": 15,
   "metadata": {},
   "outputs": [
    {
     "data": {
      "text/plain": [
       "array([array([2.0000e+00, 4.3510e+02, 8.6820e+02, 1.3013e+03, 1.7344e+03,\n",
       "              2.1675e+03, 2.6006e+03, 3.0337e+03, 3.4668e+03, 3.8999e+03,\n",
       "              4.3330e+03])                                               ],\n",
       "      dtype=object)"
      ]
     },
     "execution_count": 15,
     "metadata": {},
     "output_type": "execute_result"
    }
   ],
   "source": [
    "binner.bin_edges_"
   ]
  },
  {
   "cell_type": "markdown",
   "metadata": {},
   "source": [
    "You can play with the options of the transformer to obtain different results."
   ]
  },
  {
   "cell_type": "code",
   "execution_count": 16,
   "metadata": {},
   "outputs": [
    {
     "data": {
      "image/png": "[encoded data removed]",
      "text/plain": [
       "<Figure size 720x432 with 1 Axes>"
      ]
     },
     "metadata": {
      "needs_background": "light"
     },
     "output_type": "display_data"
    }
   ],
   "source": [
    "# initialize transformer with desired options\n",
    "binner = KBinsDiscretizer(n_bins=5, encode='ordinal', strategy='quantile')\n",
    "\n",
    "# save data to bin\n",
    "X = avengers[['Appearances']]\n",
    "\n",
    "# fit transformer to data\n",
    "binner.fit(X)\n",
    "\n",
    "# create new feature by transforming the data\n",
    "avengers['Appearances_bins_quartiles'] = binner.transform(X)\n",
    "\n",
    "# plot histogram\n",
    "avengers['Appearances_bins_quartiles'].plot.hist(figsize=(10, 6));\n",
    "plt.xlim(0,4);\n",
    "plt.xlabel('Number of appearances');\n",
    "plt.title('Number of appearances after discretization');"
   ]
  },
  {
   "cell_type": "markdown",
   "metadata": {},
   "source": [
    "#### Binarization\n",
    "\n",
    "You may just want to consider 2 bins, say you want all the Avengers with fewer than 1000 appearances to be in bin 0 and all the Avengers with more than 1000 appearances to be in bin 1. For that, you can use the [`Binarizer` transformer](https://scikit-learn.org/stable/modules/generated/sklearn.preprocessing.Binarizer.html#sklearn.preprocessing.Binarizer):"
   ]
  },
  {
   "cell_type": "code",
   "execution_count": 17,
   "metadata": {},
   "outputs": [
    {
     "data": {
      "image/png": "[encoded data removed]",
      "text/plain": [
       "<Figure size 288x360 with 1 Axes>"
      ]
     },
     "metadata": {
      "needs_background": "light"
     },
     "output_type": "display_data"
    }
   ],
   "source": [
    "# initialize transformer with desired options\n",
    "binarizer = Binarizer(threshold = 1000)\n",
    "\n",
    "# save data to binarize\n",
    "X = avengers[['Appearances']]\n",
    "\n",
    "# fit transformer to data\n",
    "binarizer.fit(X)\n",
    "\n",
    "# create new feature by transforming the data\n",
    "avengers['Appearances_binary'] = binarizer.transform(X)\n",
    "\n",
    "# plot histogram\n",
    "avengers['Appearances_binary'].plot.hist(figsize=(4, 5));\n",
    "plt.xlim(0,1);\n",
    "plt.xlabel('Number of appearances');\n",
    "plt.title('Number of appearances after binarization');"
   ]
  },
  {
   "cell_type": "markdown",
   "metadata": {},
   "source": [
    "### 3.1.3. Scaling of numerical data\n",
    "\n",
    "Often, the numeric variables in our dataset have very different scales, that is, take on different ranges of values.\n",
    "\n",
    "It's usually a good practice to **scale** them during the preprocessing of our data. These transformations change the data itself, but not the distribution. Why it is important to scale the data?\n",
    "* When predictor values have different ranges, particular features can dominate the algorithm (e.g., think [Euclidean distance](https://en.wikipedia.org/wiki/Euclidean_distance));\n",
    "* Different scales can make estimators unable to learn correctly from certain features in smaller ranges;\n",
    "* You don't want your feature to rely on the scale of the measurement involved;\n",
    "* Optimization methods (e.g. gradient descent) will converge faster, and otherwise they may not converge at all.\n",
    "\n",
    "A notable exception are *decision tree-based* estimators that are robust to arbitrary scaling of the data.\n",
    "\n",
    "Here, we present 4 different examples of scaling transformers.\n",
    "\n",
    "#### [MinMaxScaler](https://scikit-learn.org/stable/modules/generated/sklearn.preprocessing.MinMaxScaler.html#sklearn.preprocessing.MinMaxScaler)\n",
    "\n",
    "This transforms all variables so that the minimum and the maximum of the transformed data take certain values $[a,b]$, say, [0, 1]. The general formula to scale $x_i$ from a range $[x_{\\min}, x_{\\max}] \\to [a,b]$ is:\n",
    "\n",
    "$$ x_i' = \\frac{x_i - x_{\\min}}{x_{\\max} - x_{\\min}} \\cdot (b-a) + a $$"
   ]
  },
  {
   "cell_type": "code",
   "execution_count": 18,
   "metadata": {},
   "outputs": [
    {
     "data": {
      "image/png": "[encoded data removed]",
      "text/plain": [
       "<Figure size 576x360 with 1 Axes>"
      ]
     },
     "metadata": {
      "needs_background": "light"
     },
     "output_type": "display_data"
    }
   ],
   "source": [
    "# initialize transformer with desired options\n",
    "minmaxscaler = MinMaxScaler(feature_range=(0,1))\n",
    "\n",
    "# save data to scale\n",
    "X = avengers[['Appearances']]\n",
    "\n",
    "# fit transformer to data\n",
    "minmaxscaler.fit(X)\n",
    "\n",
    "# create new feature by transforming the data\n",
    "avengers['Appearances_minmax'] = minmaxscaler.transform(X)\n",
    "\n",
    "# plot histogram\n",
    "avengers['Appearances_minmax'].plot.hist(figsize=(8, 5));\n",
    "plt.xlim(0, 1);\n",
    "plt.xlabel('Number of appearances');\n",
    "plt.title('Number of appearances after min-max scaling');"
   ]
  },
  {
   "cell_type": "markdown",
   "metadata": {},
   "source": [
    "#### [Normalizer](https://scikit-learn.org/stable/modules/generated/sklearn.preprocessing.Normalizer.html)\n",
    "\n",
    "This normalizes each ***row*** of the dataset *individually* to unit norm, independently of the other rows. You can choose between $\\ell_2$ (default), $\\ell_1$ and $\\max$ norms."
   ]
  },
  {
   "cell_type": "code",
   "execution_count": 19,
   "metadata": {},
   "outputs": [
    {
     "data": {
      "image/png": "[encoded data removed]",
      "text/plain": [
       "<Figure size 576x360 with 1 Axes>"
      ]
     },
     "metadata": {
      "needs_background": "light"
     },
     "output_type": "display_data"
    }
   ],
   "source": [
    "# initialize transformer with desired options\n",
    "normalizer = Normalizer(norm='l2')\n",
    "\n",
    "# save numerical columns to normalize\n",
    "X = avengers[['Appearances', 'TotalDeaths', 'TotalReturns']]\n",
    "\n",
    "# fit transformer to data\n",
    "normalizer.fit(X)\n",
    "\n",
    "# create new features by transforming the data\n",
    "X_normalized = normalizer.transform(X)  # recall that output is a numpy array\n",
    "avengers['Appearances_normalized'] = X_normalized[:, 0]\n",
    "avengers['TotalDeaths_normalized'] = X_normalized[:, 1]\n",
    "avengers['TotalReturns_normalized'] = X_normalized[:, 2]\n",
    "\n",
    "# plot histogram of normalized appearances\n",
    "avengers['Appearances_normalized'].plot.hist(figsize=(8, 5));\n",
    "plt.xlim(0.88, 1);\n",
    "plt.xlabel('Number of appearances');\n",
    "plt.title('Number of appearances after normalization');"
   ]
  },
  {
   "cell_type": "markdown",
   "metadata": {},
   "source": [
    "#### [StandardScaler](https://scikit-learn.org/stable/modules/generated/sklearn.preprocessing.StandardScaler.html#sklearn.preprocessing.StandardScaler)\n",
    "\n",
    "Standardization means both centering the data around 0 (by removing the mean) and scaling it to unit variance:\n",
    "\n",
    "$$ z_i =  \\frac{x_i - \\mu}{\\sigma}$$"
   ]
  },
  {
   "cell_type": "code",
   "execution_count": 20,
   "metadata": {
    "scrolled": true
   },
   "outputs": [
    {
     "data": {
      "image/png": "[encoded data removed]",
      "text/plain": [
       "<Figure size 576x360 with 1 Axes>"
      ]
     },
     "metadata": {
      "needs_background": "light"
     },
     "output_type": "display_data"
    }
   ],
   "source": [
    "# initialize transformer with desired options\n",
    "standardscaler = StandardScaler()\n",
    "\n",
    "# save data to scale\n",
    "X = avengers[['Appearances']]\n",
    "\n",
    "# fit transformer to data\n",
    "standardscaler.fit(X)\n",
    "\n",
    "# create new feature by transforming the data\n",
    "avengers['Appearances_standard_scaled'] = standardscaler.transform(X)\n",
    "\n",
    "# plot histogram\n",
    "avengers['Appearances_standard_scaled'].plot.hist(figsize=(8, 5));\n",
    "plt.xlabel('Number of appearances');\n",
    "\n",
    "plt.title('Number of appearances after standard scaling');"
   ]
  },
  {
   "cell_type": "markdown",
   "metadata": {},
   "source": [
    "#### [RobustScaler](https://scikit-learn.org/stable/modules/generated/sklearn.preprocessing.RobustScaler.html#sklearn.preprocessing.RobustScaler)\n",
    "\n",
    "Scalers differ from each other in the way to estimate the parameters used to shift and scale each feature. In the presence of some very large ***outliers***, using the scaler above leads to the compression of inliers. Since outliers have an influence on the minimum, maximum, mean and standard deviation, these scalers will shrink the range of the feature values.\n",
    "\n",
    "The alternative is to scale the features in a way that is robust to outliers: using the *median* (instead of the *mean*) and the Interquartile Range *('member SLU04?)*."
   ]
  },
  {
   "cell_type": "code",
   "execution_count": 21,
   "metadata": {},
   "outputs": [
    {
     "data": {
      "image/png": "[encoded data removed]",
      "text/plain": [
       "<Figure size 576x360 with 1 Axes>"
      ]
     },
     "metadata": {
      "needs_background": "light"
     },
     "output_type": "display_data"
    }
   ],
   "source": [
    "# initialize transformer with desired options\n",
    "robustscaler = RobustScaler()\n",
    "\n",
    "# save data to scale\n",
    "X = avengers[['Appearances']]\n",
    "\n",
    "# fit transformer to data\n",
    "robustscaler.fit(X)\n",
    "\n",
    "# create new feature by transforming the data\n",
    "avengers['Appearances_robust_scaled'] = robustscaler.transform(X)\n",
    "\n",
    "# plot histogram\n",
    "avengers['Appearances_robust_scaled'].plot.hist(figsize=(8, 5));\n",
    "plt.xlabel('Number of appearances');\n",
    "plt.title('Number of appearances after robust scaling');"
   ]
  },
  {
   "cell_type": "markdown",
   "metadata": {},
   "source": [
    "## 3.2. Dealing with categorical data <a class=\"anchor\" id=\"deal-cat\"></a>\n",
    "\n",
    "Categorical data represents categories (e.g., gender, marital status, hometown).\n",
    "\n",
    "Categorical variables can take on a limited, and usually fixed, number of possible values.\n",
    "\n",
    "The categories can also take on numerical values (e.g., ids), but those numbers have no mathematical meaning:\n",
    "* You can't do mathematical operations, even if [the computer says yes](https://www.youtube.com/watch?v=Lk1yoobIMUY);\n",
    "* Nor sort them in ascending or descending order.\n",
    "\n",
    "A limitation of categorical data in the form of strings is that estimators, in general, don't know how to deal with it."
   ]
  },
  {
   "cell_type": "markdown",
   "metadata": {},
   "source": [
    "### 3.2.1. Binary data\n",
    "\n",
    "A binary variable is a variable with only two possible values: like `Active` and `Gender` in our `avengers` dataset.\n",
    "\n",
    "Since our algorithms can't deal with data in the form of strings, we need to transform such variables to a numerical form.\n",
    "\n",
    "The method `Series.map` allows us to easily deal with this cases, mapping inputs to outputs. Let's use it convert both columns to either 0 or 1."
   ]
  },
  {
   "cell_type": "code",
   "execution_count": 22,
   "metadata": {},
   "outputs": [
    {
     "data": {
      "text/html": [
       "<div>\n",
       "<style scoped>\n",
       "    .dataframe tbody tr th:only-of-type {\n",
       "        vertical-align: middle;\n",
       "    }\n",
       "\n",
       "    .dataframe tbody tr th {\n",
       "        vertical-align: top;\n",
       "    }\n",
       "\n",
       "    .dataframe thead th {\n",
       "        text-align: right;\n",
       "    }\n",
       "</style>\n",
       "<table border=\"1\" class=\"dataframe\">\n",
       "  <thead>\n",
       "    <tr style=\"text-align: right;\">\n",
       "      <th></th>\n",
       "      <th>Name</th>\n",
       "      <th>Active</th>\n",
       "      <th>Gender</th>\n",
       "      <th>Membership</th>\n",
       "      <th>Universe</th>\n",
       "      <th>Appearances</th>\n",
       "      <th>TotalDeaths</th>\n",
       "      <th>TotalReturns</th>\n",
       "      <th>Active_mapped</th>\n",
       "      <th>Gender_mapped</th>\n",
       "    </tr>\n",
       "  </thead>\n",
       "  <tbody>\n",
       "    <tr>\n",
       "      <th>8</th>\n",
       "      <td>Pietro Maximoff</td>\n",
       "      <td>YES</td>\n",
       "      <td>MALE</td>\n",
       "      <td>Full</td>\n",
       "      <td>Earth-616</td>\n",
       "      <td>769</td>\n",
       "      <td>1</td>\n",
       "      <td>1</td>\n",
       "      <td>1</td>\n",
       "      <td>1</td>\n",
       "    </tr>\n",
       "    <tr>\n",
       "      <th>144</th>\n",
       "      <td>Nicholas Fury, Jr., Marcus Johnson</td>\n",
       "      <td>YES</td>\n",
       "      <td>MALE</td>\n",
       "      <td>Full</td>\n",
       "      <td>Earth-616</td>\n",
       "      <td>77</td>\n",
       "      <td>0</td>\n",
       "      <td>0</td>\n",
       "      <td>1</td>\n",
       "      <td>1</td>\n",
       "    </tr>\n",
       "    <tr>\n",
       "      <th>85</th>\n",
       "      <td>Maya Lopez</td>\n",
       "      <td>NO</td>\n",
       "      <td>FEMALE</td>\n",
       "      <td>Full</td>\n",
       "      <td>Earth-616</td>\n",
       "      <td>67</td>\n",
       "      <td>2</td>\n",
       "      <td>1</td>\n",
       "      <td>0</td>\n",
       "      <td>0</td>\n",
       "    </tr>\n",
       "    <tr>\n",
       "      <th>1</th>\n",
       "      <td>Janet van Dyne</td>\n",
       "      <td>YES</td>\n",
       "      <td>FEMALE</td>\n",
       "      <td>Full</td>\n",
       "      <td>Earth-616</td>\n",
       "      <td>1165</td>\n",
       "      <td>1</td>\n",
       "      <td>1</td>\n",
       "      <td>1</td>\n",
       "      <td>0</td>\n",
       "    </tr>\n",
       "    <tr>\n",
       "      <th>23</th>\n",
       "      <td>Martinex T'Naga</td>\n",
       "      <td>NO</td>\n",
       "      <td>MALE</td>\n",
       "      <td>Honorary</td>\n",
       "      <td>Earth-691</td>\n",
       "      <td>100</td>\n",
       "      <td>0</td>\n",
       "      <td>0</td>\n",
       "      <td>0</td>\n",
       "      <td>1</td>\n",
       "    </tr>\n",
       "  </tbody>\n",
       "</table>\n",
       "</div>"
      ],
      "text/plain": [
       "                                   Name Active  Gender Membership   Universe  \\\n",
       "8                       Pietro Maximoff    YES    MALE       Full  Earth-616   \n",
       "144  Nicholas Fury, Jr., Marcus Johnson    YES    MALE       Full  Earth-616   \n",
       "85                           Maya Lopez     NO  FEMALE       Full  Earth-616   \n",
       "1                        Janet van Dyne    YES  FEMALE       Full  Earth-616   \n",
       "23                      Martinex T'Naga     NO    MALE   Honorary  Earth-691   \n",
       "\n",
       "     Appearances  TotalDeaths  TotalReturns  Active_mapped  Gender_mapped  \n",
       "8            769            1             1              1              1  \n",
       "144           77            0             0              1              1  \n",
       "85            67            2             1              0              0  \n",
       "1           1165            1             1              1              0  \n",
       "23           100            0             0              0              1  "
      ]
     },
     "execution_count": 22,
     "metadata": {},
     "output_type": "execute_result"
    }
   ],
   "source": [
    "avengers = pd.read_csv('data/avengers.csv')\n",
    "\n",
    "(avengers.assign(Active_mapped = avengers['Active'].map({'YES': 1, 'NO': 0}),\n",
    "                 Gender_mapped = avengers['Gender'].map({'MALE': 1, 'FEMALE': 0}))\n",
    "         .sample(5))"
   ]
  },
  {
   "cell_type": "markdown",
   "metadata": {},
   "source": [
    "(See below for a transformer way to achieve the same thing.)"
   ]
  },
  {
   "cell_type": "markdown",
   "metadata": {},
   "source": [
    "### 3.2.2. Enconding categorical features\n",
    "\n",
    "There are also transformers to deal with categorical features. Even though `sklearn` contains some of such transformers, there is a (much) better library which you shoud (must!) use instead, [`category_encoders`](http://contrib.scikit-learn.org/category_encoders/):"
   ]
  },
  {
   "cell_type": "code",
   "execution_count": 23,
   "metadata": {},
   "outputs": [],
   "source": [
    "import category_encoders as ce"
   ]
  },
  {
   "cell_type": "markdown",
   "metadata": {},
   "source": [
    "In particular, we are going to explore the following encoders."
   ]
  },
  {
   "cell_type": "markdown",
   "metadata": {},
   "source": [
    "#### Ordinal encoding\n",
    "\n",
    "The [`OrdinalEncoder` transformer](http://contrib.scikit-learn.org/category_encoders/ordinal.html) encodes categorical features as ordinal, integer feature. It uses a single column of integers, chosen randomly by default, to represent the classes.\n",
    "\n",
    "For example, the `Universe` field has 7 possible values."
   ]
  },
  {
   "cell_type": "code",
   "execution_count": 24,
   "metadata": {},
   "outputs": [
    {
     "data": {
      "text/html": [
       "<div>\n",
       "<style scoped>\n",
       "    .dataframe tbody tr th:only-of-type {\n",
       "        vertical-align: middle;\n",
       "    }\n",
       "\n",
       "    .dataframe tbody tr th {\n",
       "        vertical-align: top;\n",
       "    }\n",
       "\n",
       "    .dataframe thead th {\n",
       "        text-align: right;\n",
       "    }\n",
       "</style>\n",
       "<table border=\"1\" class=\"dataframe\">\n",
       "  <thead>\n",
       "    <tr style=\"text-align: right;\">\n",
       "      <th></th>\n",
       "      <th>Name</th>\n",
       "      <th>Active</th>\n",
       "      <th>Gender</th>\n",
       "      <th>Membership</th>\n",
       "      <th>Universe</th>\n",
       "      <th>Appearances</th>\n",
       "      <th>TotalDeaths</th>\n",
       "      <th>TotalReturns</th>\n",
       "    </tr>\n",
       "  </thead>\n",
       "  <tbody>\n",
       "    <tr>\n",
       "      <th>73</th>\n",
       "      <td>Phillip Javert</td>\n",
       "      <td>NO</td>\n",
       "      <td>MALE</td>\n",
       "      <td>Honorary</td>\n",
       "      <td>Earth-921</td>\n",
       "      <td>31</td>\n",
       "      <td>0</td>\n",
       "      <td>0</td>\n",
       "    </tr>\n",
       "    <tr>\n",
       "      <th>51</th>\n",
       "      <td>Ravonna Lexus Renslayer</td>\n",
       "      <td>NO</td>\n",
       "      <td>FEMALE</td>\n",
       "      <td>Full</td>\n",
       "      <td>Earth-6311</td>\n",
       "      <td>41</td>\n",
       "      <td>2</td>\n",
       "      <td>1</td>\n",
       "    </tr>\n",
       "    <tr>\n",
       "      <th>89</th>\n",
       "      <td>Cassie Lang</td>\n",
       "      <td>NO</td>\n",
       "      <td>FEMALE</td>\n",
       "      <td>Full</td>\n",
       "      <td>Earth-616</td>\n",
       "      <td>160</td>\n",
       "      <td>1</td>\n",
       "      <td>1</td>\n",
       "    </tr>\n",
       "    <tr>\n",
       "      <th>122</th>\n",
       "      <td>Anya Corazon</td>\n",
       "      <td>YES</td>\n",
       "      <td>FEMALE</td>\n",
       "      <td>Academy</td>\n",
       "      <td>Earth-616</td>\n",
       "      <td>108</td>\n",
       "      <td>0</td>\n",
       "      <td>0</td>\n",
       "    </tr>\n",
       "    <tr>\n",
       "      <th>26</th>\n",
       "      <td>Stakar</td>\n",
       "      <td>NO</td>\n",
       "      <td>MALE</td>\n",
       "      <td>Honorary</td>\n",
       "      <td>Earth-691</td>\n",
       "      <td>100</td>\n",
       "      <td>0</td>\n",
       "      <td>0</td>\n",
       "    </tr>\n",
       "  </tbody>\n",
       "</table>\n",
       "</div>"
      ],
      "text/plain": [
       "                        Name Active  Gender Membership    Universe  \\\n",
       "73            Phillip Javert     NO    MALE   Honorary   Earth-921   \n",
       "51   Ravonna Lexus Renslayer     NO  FEMALE       Full  Earth-6311   \n",
       "89               Cassie Lang     NO  FEMALE       Full   Earth-616   \n",
       "122             Anya Corazon    YES  FEMALE    Academy   Earth-616   \n",
       "26                    Stakar     NO    MALE   Honorary   Earth-691   \n",
       "\n",
       "     Appearances  TotalDeaths  TotalReturns  \n",
       "73            31            0             0  \n",
       "51            41            2             1  \n",
       "89           160            1             1  \n",
       "122          108            0             0  \n",
       "26           100            0             0  "
      ]
     },
     "execution_count": 24,
     "metadata": {},
     "output_type": "execute_result"
    }
   ],
   "source": [
    "avengers.sample(5, random_state=9)"
   ]
  },
  {
   "cell_type": "code",
   "execution_count": 25,
   "metadata": {},
   "outputs": [
    {
     "data": {
      "text/plain": [
       "array(['Earth-616', 'Earth-691', 'Earth-6311', 'Earth-921', 'Earth-96020',\n",
       "       'Earth-8009', 'Earth-13034'], dtype=object)"
      ]
     },
     "execution_count": 25,
     "metadata": {},
     "output_type": "execute_result"
    }
   ],
   "source": [
    "avengers['Universe'].unique()"
   ]
  },
  {
   "cell_type": "code",
   "execution_count": 26,
   "metadata": {},
   "outputs": [
    {
     "data": {
      "text/html": [
       "<div>\n",
       "<style scoped>\n",
       "    .dataframe tbody tr th:only-of-type {\n",
       "        vertical-align: middle;\n",
       "    }\n",
       "\n",
       "    .dataframe tbody tr th {\n",
       "        vertical-align: top;\n",
       "    }\n",
       "\n",
       "    .dataframe thead th {\n",
       "        text-align: right;\n",
       "    }\n",
       "</style>\n",
       "<table border=\"1\" class=\"dataframe\">\n",
       "  <thead>\n",
       "    <tr style=\"text-align: right;\">\n",
       "      <th></th>\n",
       "      <th>Universe</th>\n",
       "    </tr>\n",
       "  </thead>\n",
       "  <tbody>\n",
       "    <tr>\n",
       "      <th>73</th>\n",
       "      <td>4</td>\n",
       "    </tr>\n",
       "    <tr>\n",
       "      <th>51</th>\n",
       "      <td>3</td>\n",
       "    </tr>\n",
       "    <tr>\n",
       "      <th>89</th>\n",
       "      <td>1</td>\n",
       "    </tr>\n",
       "    <tr>\n",
       "      <th>122</th>\n",
       "      <td>1</td>\n",
       "    </tr>\n",
       "    <tr>\n",
       "      <th>26</th>\n",
       "      <td>2</td>\n",
       "    </tr>\n",
       "  </tbody>\n",
       "</table>\n",
       "</div>"
      ],
      "text/plain": [
       "     Universe\n",
       "73          4\n",
       "51          3\n",
       "89          1\n",
       "122         1\n",
       "26          2"
      ]
     },
     "execution_count": 26,
     "metadata": {},
     "output_type": "execute_result"
    }
   ],
   "source": [
    "# initialize transformer with desired options\n",
    "ordinalencoder = ce.ordinal.OrdinalEncoder()\n",
    "\n",
    "# save data to scale (no need to reshape)\n",
    "X = avengers[['Universe']]\n",
    "\n",
    "# fit transformer to data\n",
    "ordinalencoder.fit(X)\n",
    "\n",
    "# create new feature by transforming the data\n",
    "X_encoded = ordinalencoder.transform(X)\n",
    "X_encoded.sample(5, random_state=9)"
   ]
  },
  {
   "cell_type": "markdown",
   "metadata": {},
   "source": [
    "If you want to see the mapping which was created:"
   ]
  },
  {
   "cell_type": "code",
   "execution_count": 27,
   "metadata": {},
   "outputs": [
    {
     "data": {
      "text/plain": [
       "[{'col': 'Universe',\n",
       "  'mapping': Earth-616      1\n",
       "  Earth-691      2\n",
       "  Earth-6311     3\n",
       "  Earth-921      4\n",
       "  Earth-96020    5\n",
       "  Earth-8009     6\n",
       "  Earth-13034    7\n",
       "  NaN           -2\n",
       "  dtype: int64,\n",
       "  'data_type': dtype('O')}]"
      ]
     },
     "execution_count": 27,
     "metadata": {},
     "output_type": "execute_result"
    }
   ],
   "source": [
    "ordinalencoder.category_mapping"
   ]
  },
  {
   "cell_type": "markdown",
   "metadata": {},
   "source": [
    "We applied the transformation on the same data we fit the transformer. What would happen if we tried to transform an instance with an ***unseen category***, say `Earth-123` or `Earth-999`?"
   ]
  },
  {
   "cell_type": "code",
   "execution_count": 28,
   "metadata": {},
   "outputs": [
    {
     "data": {
      "text/html": [
       "<div>\n",
       "<style scoped>\n",
       "    .dataframe tbody tr th:only-of-type {\n",
       "        vertical-align: middle;\n",
       "    }\n",
       "\n",
       "    .dataframe tbody tr th {\n",
       "        vertical-align: top;\n",
       "    }\n",
       "\n",
       "    .dataframe thead th {\n",
       "        text-align: right;\n",
       "    }\n",
       "</style>\n",
       "<table border=\"1\" class=\"dataframe\">\n",
       "  <thead>\n",
       "    <tr style=\"text-align: right;\">\n",
       "      <th></th>\n",
       "      <th>Universe</th>\n",
       "    </tr>\n",
       "  </thead>\n",
       "  <tbody>\n",
       "    <tr>\n",
       "      <th>0</th>\n",
       "      <td>3.0</td>\n",
       "    </tr>\n",
       "    <tr>\n",
       "      <th>1</th>\n",
       "      <td>-1.0</td>\n",
       "    </tr>\n",
       "    <tr>\n",
       "      <th>2</th>\n",
       "      <td>-1.0</td>\n",
       "    </tr>\n",
       "  </tbody>\n",
       "</table>\n",
       "</div>"
      ],
      "text/plain": [
       "   Universe\n",
       "0       3.0\n",
       "1      -1.0\n",
       "2      -1.0"
      ]
     },
     "execution_count": 28,
     "metadata": {},
     "output_type": "execute_result"
    }
   ],
   "source": [
    "ordinalencoder.transform(pd.DataFrame({'Universe': ['Earth-6311', 'Earth-123', 'Earth-999']}))"
   ]
  },
  {
   "cell_type": "markdown",
   "metadata": {},
   "source": [
    "It automatically imputed the value `-1`. This is because, by default, the option `handle_unknown` is set to `'value'`. The transformers in `category_encoders` take care of unseen categories by themselves!"
   ]
  },
  {
   "cell_type": "markdown",
   "metadata": {},
   "source": [
    "#### One-hot encoding\n",
    "\n",
    "Ordinal enconding, as described above, creates one new feature with integers for each categorical feature. Even though the values of the integers generally have no meaning, a Machine Learning algorithm might think otherwise and decide that, for example, a category whose encoding is `8` is more important than one with `2`!\n",
    "\n",
    "To avoid this, we can consider **one-hot encoding**, which, for each categorical feature, creates one new feature per *each category*. This can be implemented using the [`OneHotEncoder` transformer](http://contrib.scikit-learn.org/category_encoders/onehot.html)."
   ]
  },
  {
   "cell_type": "code",
   "execution_count": 29,
   "metadata": {},
   "outputs": [
    {
     "data": {
      "text/html": [
       "<div>\n",
       "<style scoped>\n",
       "    .dataframe tbody tr th:only-of-type {\n",
       "        vertical-align: middle;\n",
       "    }\n",
       "\n",
       "    .dataframe tbody tr th {\n",
       "        vertical-align: top;\n",
       "    }\n",
       "\n",
       "    .dataframe thead th {\n",
       "        text-align: right;\n",
       "    }\n",
       "</style>\n",
       "<table border=\"1\" class=\"dataframe\">\n",
       "  <thead>\n",
       "    <tr style=\"text-align: right;\">\n",
       "      <th></th>\n",
       "      <th>Universe_Earth-616</th>\n",
       "      <th>Universe_Earth-691</th>\n",
       "      <th>Universe_Earth-6311</th>\n",
       "      <th>Universe_Earth-921</th>\n",
       "      <th>Universe_Earth-96020</th>\n",
       "      <th>Universe_Earth-8009</th>\n",
       "      <th>Universe_Earth-13034</th>\n",
       "      <th>Universe_-1</th>\n",
       "    </tr>\n",
       "  </thead>\n",
       "  <tbody>\n",
       "    <tr>\n",
       "      <th>73</th>\n",
       "      <td>0</td>\n",
       "      <td>0</td>\n",
       "      <td>0</td>\n",
       "      <td>1</td>\n",
       "      <td>0</td>\n",
       "      <td>0</td>\n",
       "      <td>0</td>\n",
       "      <td>0</td>\n",
       "    </tr>\n",
       "    <tr>\n",
       "      <th>51</th>\n",
       "      <td>0</td>\n",
       "      <td>0</td>\n",
       "      <td>1</td>\n",
       "      <td>0</td>\n",
       "      <td>0</td>\n",
       "      <td>0</td>\n",
       "      <td>0</td>\n",
       "      <td>0</td>\n",
       "    </tr>\n",
       "    <tr>\n",
       "      <th>89</th>\n",
       "      <td>1</td>\n",
       "      <td>0</td>\n",
       "      <td>0</td>\n",
       "      <td>0</td>\n",
       "      <td>0</td>\n",
       "      <td>0</td>\n",
       "      <td>0</td>\n",
       "      <td>0</td>\n",
       "    </tr>\n",
       "    <tr>\n",
       "      <th>122</th>\n",
       "      <td>1</td>\n",
       "      <td>0</td>\n",
       "      <td>0</td>\n",
       "      <td>0</td>\n",
       "      <td>0</td>\n",
       "      <td>0</td>\n",
       "      <td>0</td>\n",
       "      <td>0</td>\n",
       "    </tr>\n",
       "    <tr>\n",
       "      <th>26</th>\n",
       "      <td>0</td>\n",
       "      <td>1</td>\n",
       "      <td>0</td>\n",
       "      <td>0</td>\n",
       "      <td>0</td>\n",
       "      <td>0</td>\n",
       "      <td>0</td>\n",
       "      <td>0</td>\n",
       "    </tr>\n",
       "  </tbody>\n",
       "</table>\n",
       "</div>"
      ],
      "text/plain": [
       "     Universe_Earth-616  Universe_Earth-691  Universe_Earth-6311  \\\n",
       "73                    0                   0                    0   \n",
       "51                    0                   0                    1   \n",
       "89                    1                   0                    0   \n",
       "122                   1                   0                    0   \n",
       "26                    0                   1                    0   \n",
       "\n",
       "     Universe_Earth-921  Universe_Earth-96020  Universe_Earth-8009  \\\n",
       "73                    1                     0                    0   \n",
       "51                    0                     0                    0   \n",
       "89                    0                     0                    0   \n",
       "122                   0                     0                    0   \n",
       "26                    0                     0                    0   \n",
       "\n",
       "     Universe_Earth-13034  Universe_-1  \n",
       "73                      0            0  \n",
       "51                      0            0  \n",
       "89                      0            0  \n",
       "122                     0            0  \n",
       "26                      0            0  "
      ]
     },
     "execution_count": 29,
     "metadata": {},
     "output_type": "execute_result"
    }
   ],
   "source": [
    "# initialize transformer with desired options\n",
    "ohe = ce.one_hot.OneHotEncoder(use_cat_names=True, handle_unknown='indicator')\n",
    "\n",
    "# save data to scale (no need to reshape)\n",
    "X = avengers[['Universe']]\n",
    "\n",
    "# fit transformer to data\n",
    "ohe.fit(X)\n",
    "\n",
    "# create new feature by transforming the data\n",
    "X_ohe = ohe.transform(X)\n",
    "X_ohe.sample(5, random_state=9)"
   ]
  },
  {
   "cell_type": "markdown",
   "metadata": {},
   "source": [
    "Note how the names of the new features were automatically created (by using the option `use_cat_names`) and how an extra feature (`Universe_-1`) was created for unseen categories (due to the option `handle_unknown='indicator'` -- note that this is different from the Ordinal Encoder!)."
   ]
  },
  {
   "cell_type": "markdown",
   "metadata": {},
   "source": [
    "# Conclusion\n",
    "\n",
    "You now know the types of data that you will find in the real world and the options you have to manipulate data it in order to get the most of it.\n",
    "\n",
    "Make sure to review this notebook well, and when you're ready, go solve the exercises. Good luck!"
   ]
  }
 ],
 "metadata": {
  "kernelspec": {
   "display_name": "Python 3 (ipykernel)",
   "language": "python",
   "name": "python3"
  },
  "language_info": {
   "codemirror_mode": {
    "name": "ipython",
    "version": 3
   },
   "file_extension": ".py",
   "mimetype": "text/x-python",
   "name": "python",
   "nbconvert_exporter": "python",
   "pygments_lexer": "ipython3",
   "version": "3.7.9"
  }
 },
 "nbformat": 4,
 "nbformat_minor": 2
}
