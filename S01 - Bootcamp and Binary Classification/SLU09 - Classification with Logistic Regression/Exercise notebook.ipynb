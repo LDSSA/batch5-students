{
 "cells": [
  {
   "cell_type": "markdown",
   "id": "4c8e2c44",
   "metadata": {
    "deletable": false,
    "editable": false,
    "nbgrader": {
     "grade": false,
     "grade_id": "cell-3c6bb5ea4054a12b",
     "locked": true,
     "schema_version": 3,
     "solution": false,
     "task": false
    }
   },
   "source": [
    "# SLU09 - Classification With Logistic Regression: Exercise notebook"
   ]
  },
  {
   "cell_type": "code",
   "execution_count": null,
   "id": "a84735bf",
   "metadata": {
    "deletable": false,
    "editable": false,
    "nbgrader": {
     "grade": false,
     "grade_id": "cell-ceecbe97ab3fbc07",
     "locked": true,
     "schema_version": 3,
     "solution": false,
     "task": false
    }
   },
   "outputs": [],
   "source": [
    "import pandas as pd \n",
    "import numpy as np \n",
    "import hashlib"
   ]
  },
  {
   "cell_type": "markdown",
   "id": "a309490d",
   "metadata": {
    "deletable": false,
    "editable": false,
    "nbgrader": {
     "grade": false,
     "grade_id": "cell-424f9028a0d6b937",
     "locked": true,
     "schema_version": 3,
     "solution": false,
     "task": false
    }
   },
   "source": [
    "In this notebook you will practice the following: \n",
    "\n",
    "    - What classification is for\n",
    "    - Logistic regression\n",
    "    - Cost function\n",
    "    - Binary classification\n",
    "    \n",
    "You thought that you would get away without implementing your own little Logistic Regression? Hah!\n",
    "\n",
    "\n",
    "# Exercise 1. Implement the Exponential part of Sigmoid Function\n",
    "\n",
    "\n",
    "In the first exercise, you will implement **only the piece** of the sigmoid function where you have to use an exponential. \n",
    "\n",
    "Here's a quick reminder of the formula:\n",
    "\n",
    "$$\\hat{p} = \\frac{1}{1 + e^{-z}}$$\n",
    "\n",
    "In this exercise we only want you to complete the exponential part given the values of b0, b1, x1, b2 and x2:\n",
    "\n",
    "$$e^{-z}$$\n",
    "\n",
    "Recall that z has the following formula:\n",
    "\n",
    "$$z = \\beta_0 + \\beta_1 x_1 + \\beta_2 x_2$$\n",
    "\n",
    "**Hint: Divide your z into pieces by Betas, I've left the placeholders in there!**"
   ]
  },
  {
   "cell_type": "code",
   "execution_count": null,
   "id": "6dbeff30",
   "metadata": {
    "deletable": false,
    "nbgrader": {
     "grade": false,
     "grade_id": "cell-d780269a2202b78c",
     "locked": false,
     "schema_version": 3,
     "solution": true,
     "task": false
    }
   },
   "outputs": [],
   "source": [
    "def exponential_z_function(beta0, beta1, beta2, x1, x2):\n",
    "    \"\"\" \n",
    "    Implementation of the exponential part of \n",
    "    the sigmoid function manually. In this exercise you \n",
    "    have to compute the e raised to the power -z. Z is calculated\n",
    "    according to the following formula: b0+b1x1+b2x2. \n",
    "    \n",
    "    You can use the inputs given to generate the z.\n",
    "    \n",
    "    Args:\n",
    "        beta0 (np.float64): value of the intercept\n",
    "        beta1 (np.float64): value of first coefficient\n",
    "        beta2 (np.float64): value of second coefficient\n",
    "        x1 (np.float64): value of first variable\n",
    "        x2 (np.float64): value of second variable\n",
    "\n",
    "    Returns:\n",
    "        exp_z (np.float64): the exponential part of\n",
    "        the sigmoid function\n",
    "\n",
    "    \"\"\"\n",
    "    \n",
    "    # hint: obtain the exponential part\n",
    "    # using np.exp()\n",
    "    \n",
    "    \n",
    "    # Complete the following\n",
    "    #beta0 = ...\n",
    "    #b1_x1 = ...\n",
    "    #b2_x2 = ...\n",
    "    \n",
    "    #exp_z = ...\n",
    "    \n",
    "    # YOUR CODE HERE\n",
    "    raise NotImplementedError()\n",
    "    return exp_z"
   ]
  },
  {
   "cell_type": "code",
   "execution_count": null,
   "id": "4e63aac7",
   "metadata": {
    "deletable": false,
    "editable": false,
    "nbgrader": {
     "grade": true,
     "grade_id": "cell-1b1bb1c49af7e4c4",
     "locked": true,
     "points": 3,
     "schema_version": 3,
     "solution": false,
     "task": false
    }
   },
   "outputs": [],
   "source": [
    "value_arr = [1, 2, 1, 1, 0.5]\n",
    "\n",
    "exponential = exponential_z_function(\n",
    "    value_arr[0], value_arr[1], value_arr[2], value_arr[3], value_arr[4])\n",
    "\n",
    "np.testing.assert_almost_equal(np.round(exponential,3), 0.030)"
   ]
  },
  {
   "cell_type": "markdown",
   "id": "f7a0daaa",
   "metadata": {
    "deletable": false,
    "editable": false,
    "nbgrader": {
     "grade": false,
     "grade_id": "cell-28ea61edeaa3572f",
     "locked": true,
     "schema_version": 3,
     "solution": false,
     "task": false
    }
   },
   "source": [
    "Expected output:\n",
    "\n",
    "    Exponential part: 0.03"
   ]
  },
  {
   "cell_type": "markdown",
   "id": "7342d1d4",
   "metadata": {
    "deletable": false,
    "editable": false,
    "nbgrader": {
     "grade": false,
     "grade_id": "cell-cad449d76d75cf33",
     "locked": true,
     "schema_version": 3,
     "solution": false,
     "task": false
    }
   },
   "source": [
    "# Exercise 2: Make a Prediction\n",
    "\n",
    "The next step is to implement a function that receives an observation and returns the predicted probability with the sigmoid function.\n",
    "\n",
    "For instance, we can make a prediction given a model with data and coefficients by using the sigmoid:\n",
    "\n",
    "$$\\hat{p} = \\frac{1}{1 + e^{-z}}$$\n",
    "\n",
    "Where Z is the linear equation - you can't use the same function that you used above for the Z part as the input are now two arrays, one with the train data (x1, x2, ..., xn) and another with the coefficients (b0, b1, .., bn).\n",
    "\n",
    "**Complete here:**"
   ]
  },
  {
   "cell_type": "code",
   "execution_count": null,
   "id": "eca472f1",
   "metadata": {
    "deletable": false,
    "nbgrader": {
     "grade": false,
     "grade_id": "cell-1655212e9fba3a56",
     "locked": false,
     "schema_version": 3,
     "solution": true,
     "task": false
    }
   },
   "outputs": [],
   "source": [
    "def predict_proba(data, coefs):\n",
    "    \"\"\" \n",
    "    Implementation of a function that returns \n",
    "    predicted probabilities for an observation.\n",
    "    \n",
    "    In the train array you will have \n",
    "    the data values (corresponding to the x1, x2, .. , xn).\n",
    "    \n",
    "    In the coefficients array you will have\n",
    "    the coefficients values (corresponding to the b0, b1, .., bn).\n",
    "    \n",
    "    In this exercise you should be able to return a float \n",
    "    with the calculated probabilities given an array of size (1, n). \n",
    "    The resulting value should be a float (the predicted probability)\n",
    "    with a value between 0 and 1. \n",
    "    \n",
    "    Note: Be mindful that the input is completely different from \n",
    "    the function above - you receive two arrays in this functions while \n",
    "    in the function above you received 5 floats - each corresponding\n",
    "    to the x's and b's.\n",
    "    \n",
    "    Args:\n",
    "        data (np.array): a numpy array of shape (n)\n",
    "            - n: number of variables\n",
    "        coefs (np.array): a numpy array of shape (n + 1, 1)\n",
    "            - coefs[0]: intercept\n",
    "            - coefs[1:]: remaining coefficients\n",
    "\n",
    "    Returns:\n",
    "        proba (float): the predicted probability for a data example.\n",
    "\n",
    "    \"\"\"\n",
    "\n",
    "    # hint: you have to implement your z in a vectorized \n",
    "    # way aka using vector multiplications - it's different from what you have done above\n",
    "    \n",
    "    # hint: don't forget about adding an intercept to the train data!\n",
    "    \n",
    "    # YOUR CODE HERE\n",
    "    raise NotImplementedError()\n",
    "    \n",
    "    \n",
    "    return proba"
   ]
  },
  {
   "cell_type": "code",
   "execution_count": null,
   "id": "d1f7e3ef",
   "metadata": {
    "deletable": false,
    "editable": false,
    "nbgrader": {
     "grade": true,
     "grade_id": "cell-1eb857ba361aef74",
     "locked": true,
     "points": 3,
     "schema_version": 3,
     "solution": false,
     "task": false
    }
   },
   "outputs": [],
   "source": [
    "x = np.array([-1.2, -1.5])\n",
    "coefficients = np.array([0 ,4, -1])\n",
    "np.testing.assert_almost_equal(round(predict_proba(x, coefficients),3),0.036)\n",
    "\n",
    "x_1 = np.array([-1.5, -1, 3, 0])\n",
    "coefficients_1 = np.array([0 ,2.1, -1, 0.5, 0])\n",
    "\n",
    "np.testing.assert_almost_equal(round(predict_proba(x_1, coefficients_1),3),0.343)"
   ]
  },
  {
   "cell_type": "markdown",
   "id": "f0bfed71",
   "metadata": {
    "deletable": false,
    "editable": false,
    "nbgrader": {
     "grade": false,
     "grade_id": "cell-4062ab57e99414f8",
     "locked": true,
     "schema_version": 3,
     "solution": false,
     "task": false
    }
   },
   "source": [
    "Expected output:\n",
    "\n",
    "    Predicted probabilities for example with 2 variables:  0.036\n",
    "    \n",
    "    Predicted probabilities for example with 3 variables:  0.343"
   ]
  },
  {
   "cell_type": "markdown",
   "id": "77149736",
   "metadata": {
    "deletable": false,
    "editable": false,
    "nbgrader": {
     "grade": false,
     "grade_id": "cell-b7c129fec644b95c",
     "locked": true,
     "schema_version": 3,
     "solution": false,
     "task": false
    }
   },
   "source": [
    "# Exercise 3: Compute the Maximum Log-Likelihood Cost Function\n",
    "\n",
    "As you will implement stochastic gradient descent, you need to calculate the cost function (the Maximum Log-Likelihood) for each prediction, checking how much you will penalize each example according to the difference between the calculated probability and its true value: \n",
    "\n",
    "$$H_{\\hat{p}}(y) =  - (y \\log(\\hat{p}) + (1-y) \\log (1-\\hat{p}))$$\n",
    "\n",
    "In the next exercise, you will loop through some examples stored in an array and calculate the cost function for the full dataset. Recall that the formula to generalize the cost function across several examples is: \n",
    "\n",
    "$$H_{\\hat{p}}(y) = - \\frac{1}{N}\\sum_{i=1}^{N} \\left [{ y_i \\ \\log(\\hat{p}_i) + (1-y_i) \\ \\log (1-\\hat{p}_i)} \\right ]$$\n",
    "\n",
    "You will basically simulate what stochastic gradient descent does without updating the coefficients - computing the log for each example, sum each log-loss and then averaging the result across the number of observations in the x dataset/array."
   ]
  },
  {
   "cell_type": "code",
   "execution_count": null,
   "id": "921cbe33",
   "metadata": {
    "deletable": false,
    "nbgrader": {
     "grade": false,
     "grade_id": "cell-f7e2f1ca03e6eda0",
     "locked": false,
     "schema_version": 3,
     "solution": true,
     "task": false
    }
   },
   "outputs": [],
   "source": [
    "import math\n",
    "\n",
    "def max_log_likelihood_cost_function(var_x, coefs, var_y):\n",
    "    \"\"\" \n",
    "    Implementation of a function that returns the Maximum-Log-Likelihood loss\n",
    "    \n",
    "    Args:\n",
    "        var_x (np.array): array with x training data of size (m, n) shape \n",
    "        where m is the number of observations and n the number of columns\n",
    "        coefs (float64): an array with the coefficients to apply of size (1, n+1)\n",
    "        where n is the number of columns plus the intercept.\n",
    "        var_y (float64): an array with integers with the real outcome per \n",
    "        example.\n",
    "        \n",
    "    Returns:\n",
    "        loss (np.float): a float with the resulting log loss for the \n",
    "        entire data.\n",
    "\n",
    "    \"\"\"\n",
    "    \n",
    "    # A list of hints that you can follow:\n",
    "    \n",
    "    # - you already computed a probability for an example so you might be able to reuse the function\n",
    "    \n",
    "    # - Store number of examples that you have to loop through\n",
    "    \n",
    "    #Steps to follow:\n",
    "    # 1. Initialize loss\n",
    "    # 2. Loop through every example \n",
    "        # Hint: if you don't use the function from above to predict probas \n",
    "        # don't forget to add the intercept to the X_array!\n",
    "        # 2.1 Calculate probability for each example\n",
    "        # 2.2 Compute log loss\n",
    "            # Hint: maybe separating the log loss will help you avoiding get confused inside all the parenthesis\n",
    "        # 2.3 Sum the computed loss for the example to the total log loss\n",
    "    # 3. Divide log loss by the number of examples (don't forget that the log loss \n",
    "        # has to return a positive number!)\n",
    "    \n",
    "    # YOUR CODE HERE\n",
    "    raise NotImplementedError()\n",
    "    return total_loss"
   ]
  },
  {
   "cell_type": "code",
   "execution_count": null,
   "id": "d523045d",
   "metadata": {
    "deletable": false,
    "editable": false,
    "nbgrader": {
     "grade": true,
     "grade_id": "cell-5ae176d7cc3254aa",
     "locked": true,
     "points": 3,
     "schema_version": 3,
     "solution": false,
     "task": false
    }
   },
   "outputs": [],
   "source": [
    "x = np.array([[-2, -2], [3.5, 0], [6, 4]])\n",
    "coefficients = np.array([[0 ,2, -1]])\n",
    "y = np.array([[1],[1],[0]])\n",
    "np.testing.assert_almost_equal(round(max_log_likelihood_cost_function(x, coefficients, y),3),3.376)\n",
    "\n",
    "coefficients_1 = np.array([[3 ,4, -0.6]])\n",
    "x_1 = np.array([[-4, -4], [6, 0], [3, 2], [4, 0]])\n",
    "y_1 = np.array([[4],[4],[2],[1.5]])\n",
    "\n",
    "np.testing.assert_almost_equal(round(max_log_likelihood_cost_function(x_1, coefficients_1, y_1),3),-15.475)\n"
   ]
  },
  {
   "cell_type": "markdown",
   "id": "30193c81",
   "metadata": {
    "deletable": false,
    "editable": false,
    "nbgrader": {
     "grade": false,
     "grade_id": "cell-c7c81f2043183214",
     "locked": true,
     "schema_version": 3,
     "solution": false,
     "task": false
    }
   },
   "source": [
    "Expected output:\n",
    "    \n",
    "    Computed log loss for first training set:  3.376\n",
    "    \n",
    "    Computed log loss for second training set:  -15.475"
   ]
  },
  {
   "cell_type": "markdown",
   "id": "07ab3664",
   "metadata": {
    "deletable": false,
    "editable": false,
    "nbgrader": {
     "grade": false,
     "grade_id": "cell-88110f287afd1190",
     "locked": true,
     "schema_version": 3,
     "solution": false,
     "task": false
    }
   },
   "source": [
    "# Exercise 4: Compute a first pass on Stochastic Gradient Descent\n",
    "\n",
    "Now that we know how to calculate probabilities and the cost function, let's do an interesting exercise - computing the derivatives and updating our coefficients. Here you will do a full pass on a bunch of examples, computing the gradient descent for each time you see one of them.\n",
    "\n",
    "In this exercise, you should compute a single iteration of the gradient descent! \n",
    "\n",
    "You will basically use stochastic gradient descent but you will have to update the coefficients after\n",
    "you see a new example - so each time your algorithm knows that he saw something way off (for example, \n",
    "returning a low probability for an example with outcome = 1) he will have a way (the gradient) to \n",
    "change the coefficients so that he is able to minimize the cost function.\n",
    "\n",
    "## Quick reminders:\n",
    "\n",
    "Remember our formulas for the gradient:\n",
    "\n",
    "$$\\beta_{0(t+1)} = \\beta_{0(t)} - learning\\_rate \\frac{\\partial H_{\\hat{p}}(y)}{\\partial \\beta_{0(t)}}$$\n",
    "\n",
    "$$\\beta_{t+1} = \\beta_t - learning\\_rate \\frac{\\partial H_{\\hat{p}}(y)}{\\partial \\beta_t}$$\n",
    "\n",
    "which can be simplified to\n",
    "\n",
    "$$\\beta_{0(t+1)} = \\beta_{0(t)} + learning\\_rate \\left [(y - \\hat{p}) \\ \\hat{p} \\ (1 - \\hat{p})\\right]$$\n",
    "\n",
    "$$\\beta_{t+1} = \\beta_t + learning\\_rate \\left [(y - \\hat{p}) \\ \\hat{p} \\ (1 - \\hat{p}) \\ x \\right]$$\n",
    "\n",
    "You will have to initialize the coefficients in some way. If you have a training set $X$, you can initialize them to zero, this way:\n",
    "```python\n",
    "coefficients = np.zeros(X.shape[1]+1)\n",
    "```\n",
    "\n",
    "where the $+1$ is adding the intercept.\n",
    "\n",
    "Note: We are doing a stochastic gradient descent so don't forget to go observation by observation and updating the coefficients every time!\n",
    "\n",
    "**Complete here:**"
   ]
  },
  {
   "cell_type": "code",
   "execution_count": null,
   "id": "8379ea45",
   "metadata": {
    "deletable": false,
    "nbgrader": {
     "grade": false,
     "grade_id": "cell-9c055d55276e6219",
     "locked": false,
     "schema_version": 3,
     "solution": true,
     "task": false
    }
   },
   "outputs": [],
   "source": [
    "def compute_coefs_sgd(x_train, y_train, learning_rate = 0.1, verbose = False):\n",
    "    \"\"\" \n",
    "    Implementation of a function that returns the a first iteration of \n",
    "    stochastic gradient descent.\n",
    "\n",
    "    Args:\n",
    "        x_train (np.array): a numpy array of shape (m, n)\n",
    "            m: number of training observations\n",
    "            n: number of variables\n",
    "        y_train (np.array): a numpy array of shape (m,) with \n",
    "        the real value of the target.\n",
    "        learning_rate (np.float64): a float\n",
    "\n",
    "    Returns:\n",
    "        coefficients (np.array): a numpy array of shape (n+1,)\n",
    "\n",
    "    \"\"\"\n",
    "    \n",
    "    # A list of hints that might help you:\n",
    "    \n",
    "    # 1. Calculate the number of observations\n",
    "    \n",
    "    # 2. Initialize the coefficients array with zeros\n",
    "            # hint: use np.zeros()    \n",
    "    \n",
    "    # 3. Run the stochastic gradient descent and update the coefficients after each observation    \n",
    "        # 3.1 Compute the predicted probability - you can use a function we have done previously \n",
    "        # 3.2 Update intercept\n",
    "        # 3.3 Update the rest of the coefficients by looping through each variable\n",
    "    \n",
    "    # YOUR CODE HERE\n",
    "    raise NotImplementedError()\n",
    "    \n",
    "    return coefficients"
   ]
  },
  {
   "cell_type": "code",
   "execution_count": null,
   "id": "3da8d12d",
   "metadata": {
    "deletable": false,
    "editable": false,
    "nbgrader": {
     "grade": true,
     "grade_id": "cell-ca37dc488930bc79",
     "locked": true,
     "points": 4,
     "schema_version": 3,
     "solution": false,
     "task": false
    }
   },
   "outputs": [],
   "source": [
    "#Test 1\n",
    "x_train = np.array([[1,2,4], [2,4,9], [2,1,4], [9,2,10]])\n",
    "y_train = np.array([0,2.2,0,2.3])\n",
    "learning_rate = 0.1\n",
    "\n",
    "np.testing.assert_almost_equal(round(compute_coefs_sgd(x_train, y_train, learning_rate)[0],3),0.022)\n",
    "np.testing.assert_almost_equal(round(compute_coefs_sgd(x_train, y_train, learning_rate)[1],3),0.081)\n",
    "np.testing.assert_almost_equal(round(compute_coefs_sgd(x_train, y_train, learning_rate)[2],3),0.140)\n",
    "np.testing.assert_almost_equal(round(compute_coefs_sgd(x_train, y_train, learning_rate)[3],3),0.320)\n",
    "\n",
    "#Test 2\n",
    "x_train_1 = np.array([[4,4,2,6], [1,5,7,2], [3,1,2,1], [8,2,9,5], [2,2,9,4]])\n",
    "y_train_1 = np.array([0,1.3,0,1.3,1.2])\n",
    "\n",
    "np.testing.assert_almost_equal(round(compute_coefs_sgd(x_train_1, y_train_1, learning_rate).max(),3) ,0.277)\n",
    "np.testing.assert_almost_equal(round(compute_coefs_sgd(x_train_1, y_train_1, learning_rate).min(),3) ,0.015)\n",
    "np.testing.assert_almost_equal(round(compute_coefs_sgd(x_train_1, y_train_1, learning_rate).mean(),3),0.102)\n",
    "np.testing.assert_almost_equal(round(compute_coefs_sgd(x_train_1, y_train_1, learning_rate).var(),3) ,0.008)\n"
   ]
  },
  {
   "cell_type": "markdown",
   "id": "2a3510f3",
   "metadata": {
    "deletable": false,
    "editable": false,
    "nbgrader": {
     "grade": false,
     "grade_id": "cell-d63b1a6f88d1d3b6",
     "locked": true,
     "schema_version": 3,
     "solution": false,
     "task": false
    }
   },
   "source": [
    "# Exercise 5: Normalize Data\n",
    "\n",
    "To get this concept in your head, let's do a quick and easy function to normalize the data using a MaxMin approach. It is crucial that your variables are adjusted between $[0;1]$ (normalized) or standardized so that you can correctly analyze some logistic regression coefficients for your possible future employer.\n",
    "\n",
    "You only have to implement this formula\n",
    "\n",
    "$$ x_{normalized} = \\frac{x - x_{min}}{x_{max} - x_{min}}$$\n",
    "\n",
    "Don't forget that the `axis` argument is critical when obtaining the maximum, minimum and mean values! As you want to obtain the maximum and minimum values of each individual feature, you have to specify `axis=0`. Thus, if you wanted to obtain the maximum values of each feature of data $X$, you would do the following:\n",
    "\n",
    "```python\n",
    "X_max = np.max(X, axis=0)\n",
    "```\n",
    "\n",
    "Not an assertable question but can you remember why it is important to normalize data for Logistic Regression?\n",
    "\n",
    "**Complete here:**"
   ]
  },
  {
   "cell_type": "code",
   "execution_count": null,
   "id": "eb924599",
   "metadata": {
    "deletable": false,
    "nbgrader": {
     "grade": false,
     "grade_id": "cell-842c59e2cd1b9d23",
     "locked": false,
     "schema_version": 3,
     "solution": true,
     "task": false
    }
   },
   "outputs": [],
   "source": [
    "def normalize_data_function(data):\n",
    "    \"\"\" \n",
    "    Implementation of a function that normalizes your data variables\n",
    "    \n",
    "    Args:\n",
    "        data (np.array): a numpy array of shape (m, n)\n",
    "            m: number of observations\n",
    "            n: number of variables\n",
    "\n",
    "    Returns:\n",
    "        normalized_data (np.array): a numpy array of shape (m, n)\n",
    "\n",
    "    \"\"\"\n",
    "    # Compute the numerator first \n",
    "    # you can use np.min()\n",
    "    # numerator = ...\n",
    "    \n",
    "    # Compute the denominator\n",
    "    # you can use np.max() and np.min()\n",
    "    # denominator = ...\n",
    "    \n",
    "    \n",
    "    # YOUR CODE HERE\n",
    "    raise NotImplementedError()\n",
    "    return normalized_data"
   ]
  },
  {
   "cell_type": "code",
   "execution_count": null,
   "id": "87f815ed",
   "metadata": {
    "deletable": false,
    "editable": false,
    "nbgrader": {
     "grade": false,
     "grade_id": "cell-1dbfeab7e0a5f336",
     "locked": true,
     "schema_version": 3,
     "solution": false,
     "task": false
    }
   },
   "outputs": [],
   "source": [
    "data = np.array([[7,7,3], [2,2,11], [9,5,2], [0,9,5], [10,1,3], [1,5,2]])\n",
    "normalized_data = normalize_data_function(data)\n",
    "print('Before normalization:')\n",
    "print(data)\n",
    "print('\\n-------------------\\n')\n",
    "print('After normalization:')\n",
    "print(normalized_data)"
   ]
  },
  {
   "cell_type": "markdown",
   "id": "15739047",
   "metadata": {
    "deletable": false,
    "editable": false,
    "nbgrader": {
     "grade": false,
     "grade_id": "cell-27e5f53265af6191",
     "locked": true,
     "schema_version": 3,
     "solution": false,
     "task": false
    }
   },
   "source": [
    "Expected output:\n",
    "    \n",
    "    Before normalization:\n",
    "    [[ 7  7  3]\n",
    "     [ 2  2 11]\n",
    "     [ 9  5  2]\n",
    "     [ 0  9  5]\n",
    "     [10  1  3]\n",
    "     [ 1  5  2]]\n",
    "\n",
    "    -------------------\n",
    "\n",
    "After normalization:\n",
    "\n",
    "    [[0.7        0.75       0.11111111]\n",
    "     [0.2        0.125      1.        ]\n",
    "     [0.9        0.5        0.        ]\n",
    "     [0.         1.         0.33333333]\n",
    "     [1.         0.         0.11111111]\n",
    "     [0.1        0.5        0.        ]]"
   ]
  },
  {
   "cell_type": "code",
   "execution_count": null,
   "id": "c8098343",
   "metadata": {
    "deletable": false,
    "editable": false,
    "nbgrader": {
     "grade": true,
     "grade_id": "cell-8bfbe2697edf51e3",
     "locked": true,
     "points": 2,
     "schema_version": 3,
     "solution": false,
     "task": false
    }
   },
   "outputs": [],
   "source": [
    "data = np.array([[2,2,11,1], [7,5,1,3], [9,5,2,6]])\n",
    "normalized_data = normalize_data_function(data)\n",
    "np.testing.assert_almost_equal(round(normalized_data.max(),3),1.0)\n",
    "np.testing.assert_almost_equal(round(normalized_data.mean(),3),0.518)\n",
    "np.testing.assert_almost_equal(round(normalized_data.var(),3),0.205)\n",
    "\n",
    "\n",
    "data = np.array([[1,3,1,3], [9,5,3,1], [2,2,4,6]])\n",
    "normalized_data = normalize_data_function(data)\n",
    "np.testing.assert_almost_equal(round(normalized_data.mean(),3),0.460)\n",
    "np.testing.assert_almost_equal(round(normalized_data.std(),3),0.427)"
   ]
  },
  {
   "cell_type": "markdown",
   "id": "62e383b0",
   "metadata": {
    "deletable": false,
    "editable": false,
    "nbgrader": {
     "grade": false,
     "grade_id": "cell-0c9ee39c1b9a7f3e",
     "locked": true,
     "schema_version": 3,
     "solution": false,
     "task": false
    }
   },
   "source": [
    "# Exercise 6: Training a Logistic Regression with Sklearn\n",
    "\n",
    "In this exercise, we will load a dataset related to direct marketing campaigns (phone calls) of a Portuguese banking institution. The goal is to predict whether the client will subscribe (1/0) to a term deposit (variable y) ([link to dataset](http://archive.ics.uci.edu/ml/datasets/Bank+Marketing))\n",
    "\n",
    "Prepare to use your sklearn skills!"
   ]
  },
  {
   "cell_type": "code",
   "execution_count": null,
   "id": "141d2651",
   "metadata": {
    "deletable": false,
    "editable": false,
    "nbgrader": {
     "grade": false,
     "grade_id": "cell-53bb9a60f63447bf",
     "locked": true,
     "schema_version": 3,
     "solution": false,
     "task": false
    }
   },
   "outputs": [],
   "source": [
    "# We will load the dataset for you\n",
    "bank = pd.read_csv('data/bank.csv', delimiter=\";\")\n",
    "bank.head()"
   ]
  },
  {
   "cell_type": "markdown",
   "id": "992fad2c",
   "metadata": {},
   "source": [
    "In this exercise, you need to do the following: \n",
    "\n",
    "- Select an array/Series with the target variable (y) \n",
    "\n",
    "- Select an array/dataframe with the X numeric variables (age, balance, day, month, duration, campaign and pdays) \n",
    "\n",
    "- Scale all the X variables - normalize using Max / Min method. \n",
    "\n",
    "- Fit a logistic regression for a maximum of 100 epochs and random state = 100. \n",
    "\n",
    "- Return an array of the predicted probas and return the coefficients\n",
    "\n",
    "After this, feel free to explore your predictions! As a bonus why don't you construct a decision boundary using two variables eh? :-)"
   ]
  },
  {
   "cell_type": "code",
   "execution_count": null,
   "id": "7b4a5c71",
   "metadata": {
    "deletable": false,
    "nbgrader": {
     "grade": false,
     "grade_id": "cell-3366fd83ee5c006d",
     "locked": false,
     "schema_version": 3,
     "solution": true,
     "task": false
    }
   },
   "outputs": [],
   "source": [
    "from sklearn.linear_model import LogisticRegression\n",
    "\n",
    "def train_model_sklearn(dataset):\n",
    "    '''\n",
    "    Returns the predicted probas and coefficients \n",
    "    of a trained logistic regression on the Titanic Dataset.\n",
    "    \n",
    "    Args:\n",
    "        dataset(pd.DataFrame): dataset to train on.\n",
    "    \n",
    "    Returns:\n",
    "        probas (np.array): Array of floats with the probability \n",
    "        of surviving for each passenger\n",
    "        coefficients (np.array): Returned coefficients of the \n",
    "        trained logistic regression.\n",
    "    '''\n",
    "    \n",
    "    # leave this np.random seed here\n",
    "    \n",
    "    np.random.seed(100)\n",
    "    \n",
    "    # List of hints:\n",
    "    \n",
    "    # 1. Use the Survived variable as y\n",
    "    \n",
    "    # 2. Select the Numerical variables for X \n",
    "    # hint: use pandas .loc or indexing!    \n",
    "    \n",
    "    # 3. Scale the X dataset - you can use a function we have already\n",
    "    # constructed or resort to the sklearn implementation\n",
    "    \n",
    "    # 4. Define logistic regression from sklearn with max iter = 100 also add random_state = 100\n",
    "    # Hint: for epochs look at the max_iter hyper param!\n",
    "    \n",
    "    # 5. Fit logistic\n",
    "    \n",
    "    # 6. Obtain probability of surviving\n",
    "    \n",
    "    # 7. Obtain Coefficients from logistic regression\n",
    "    # Hint: see the sklearn logistic regression documentation if you do not know how to do this \n",
    "    # No need to return the intercept, just the variable coefficients!\n",
    "    \n",
    "    # YOUR CODE HERE\n",
    "    raise NotImplementedError()\n",
    "    return probas, coef\n",
    "    "
   ]
  },
  {
   "cell_type": "code",
   "execution_count": null,
   "id": "24b36c05",
   "metadata": {
    "deletable": false,
    "editable": false,
    "nbgrader": {
     "grade": true,
     "grade_id": "cell-a1336550d738ac46",
     "locked": true,
     "points": 5,
     "schema_version": 3,
     "solution": false,
     "task": false
    }
   },
   "outputs": [],
   "source": [
    "probas, coef = train_model_sklearn(bank)\n",
    "\n",
    "# Testing Probas\n",
    "max_probas = probas.max()\n",
    "np.testing.assert_almost_equal(max_probas, 0.997, 2)\n",
    "min_probas = probas.min()\n",
    "np.testing.assert_almost_equal(min_probas, 0.008, 2)\n",
    "mean_probas = probas.mean()\n",
    "np.testing.assert_almost_equal(mean_probas, 0.115, 2)\n",
    "std_probas = probas.std()\n",
    "np.testing.assert_almost_equal(std_probas, 0.115, 2)\n",
    "sum_probas = probas.sum()\n",
    "np.testing.assert_almost_equal(sum_probas*0.001, 0.521, 2)\n",
    "\n",
    "# Testing Coefs\n",
    "max_coef = coef[0].max()\n",
    "np.testing.assert_almost_equal(max_coef*0.1, 0.87, 1)\n",
    "min_coef = coef[0].min()\n",
    "np.testing.assert_almost_equal(min_coef*0.1, -0.18, 1)\n",
    "mean_coef = coef[0].mean()\n",
    "np.testing.assert_almost_equal(mean_coef*0.1, 0.21, 1)\n",
    "std_coef = coef[0].std()\n",
    "np.testing.assert_almost_equal(std_coef*0.1, 0.35, 1)\n",
    "sum_probas = coef[0].sum()\n",
    "np.testing.assert_almost_equal(sum_probas*0.1, 1.06, 1)"
   ]
  },
  {
   "cell_type": "code",
   "execution_count": null,
   "id": "f5e23bf8",
   "metadata": {},
   "outputs": [],
   "source": []
  }
 ],
 "metadata": {
  "kernelspec": {
   "display_name": "Python 3 (ipykernel)",
   "language": "python",
   "name": "python3"
  },
  "language_info": {
   "codemirror_mode": {
    "name": "ipython",
    "version": 3
   },
   "file_extension": ".py",
   "mimetype": "text/x-python",
   "name": "python",
   "nbconvert_exporter": "python",
   "pygments_lexer": "ipython3",
   "version": "3.7.10"
  },
  "toc": {
   "base_numbering": 1,
   "nav_menu": {},
   "number_sections": false,
   "sideBar": true,
   "skip_h1_title": false,
   "title_cell": "Table of Contents",
   "title_sidebar": "Contents",
   "toc_cell": false,
   "toc_position": {},
   "toc_section_display": true,
   "toc_window_display": false
  }
 },
 "nbformat": 4,
 "nbformat_minor": 5
}
