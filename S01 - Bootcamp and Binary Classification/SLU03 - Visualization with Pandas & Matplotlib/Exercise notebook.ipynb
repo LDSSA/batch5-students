{
 "cells": [
  {
   "cell_type": "markdown",
   "metadata": {
    "deletable": false,
    "editable": false,
    "nbgrader": {
     "grade": false,
     "grade_id": "cell-ad5dcde8964ee4c6",
     "locked": true,
     "schema_version": 3,
     "solution": false,
     "task": false
    }
   },
   "source": [
    "# SLU03 | Visualization with Pandas & Matplotlib: Exercise notebook\n",
    "***"
   ]
  },
  {
   "cell_type": "markdown",
   "metadata": {
    "deletable": false,
    "editable": false,
    "nbgrader": {
     "grade": false,
     "grade_id": "cell-d1ca59000f4cbcb3",
     "locked": true,
     "schema_version": 3,
     "solution": false,
     "task": false
    }
   },
   "source": [
    "## Start by importing these packages"
   ]
  },
  {
   "cell_type": "code",
   "execution_count": null,
   "metadata": {
    "deletable": false,
    "editable": false,
    "nbgrader": {
     "grade": false,
     "grade_id": "cell-4769dd0e7f4b6504",
     "locked": true,
     "schema_version": 3,
     "solution": false,
     "task": false
    }
   },
   "outputs": [],
   "source": [
    "import pandas as pd\n",
    "import numpy as np\n",
    "\n",
    "# for evaluation purposes\n",
    "import hashlib\n",
    "from plotchecker import PlotChecker\n",
    "\n",
    "def _hash(s):\n",
    "    return hashlib.blake2b(\n",
    "        bytes(str(s), encoding='utf8'),\n",
    "        digest_size=5\n",
    "    ).hexdigest()\n",
    "\n",
    "def get_data(p, ax=0):\n",
    "    all_x_data = []\n",
    "    lines = p.axis.get_lines()\n",
    "    collections = axis.collections\n",
    "    if len(lines) > 0:\n",
    "        all_x_data.append(np.concatenate([x.get_xydata()[:, ax] for x in lines]))\n",
    "    if len(collections) > 0:\n",
    "        all_x_data.append(np.concatenate([x.get_offsets()[:, ax] for x in collections]))\n",
    "    return np.concatenate(all_x_data, axis=0)"
   ]
  },
  {
   "cell_type": "markdown",
   "metadata": {
    "deletable": false,
    "editable": false,
    "hide_input": false,
    "nbgrader": {
     "grade": false,
     "grade_id": "cell-7497cc5f918e3a1a",
     "locked": true,
     "schema_version": 3,
     "solution": false,
     "task": false
    }
   },
   "source": [
    "In this notebook you will practice the following:\n",
    "\n",
    "- Basics of Matplotlib\n",
    "- Scatter plots\n",
    "- Line charts\n",
    "- Bar/column charts\n",
    "- Histograms\n",
    "- Box plots\n",
    "\n",
    "To learn about data visualization, we are going to use a **modified version** of [Zomato Bangalore Restaurants](https://www.kaggle.com/himanshupoddar/zomato-bangalore-restaurants) which has information about restaurants\n",
    "\n",
    "The dataset is located at `data/zomato.csv`, and has the following fields:\n",
    "\n",
    "\n",
    ">**`name`**: Restaurant name.  \n",
    ">**`vote_rate`**: Average rating in zomato.  \n",
    ">**`vote_count`**: Number of votes in zomato.  \n",
    ">**`location`**: Location where the restaurant is based.  \n",
    ">**`type`**: Restaurant type.  \n",
    ">**`cuisine`**: Restaurant main dish cuisine type.  \n",
    ">**`cost_2pax`**: Approximate meal-cost for 2 people (in $).  \n"
   ]
  },
  {
   "cell_type": "code",
   "execution_count": null,
   "metadata": {
    "deletable": false,
    "editable": false,
    "nbgrader": {
     "grade": false,
     "grade_id": "cell-d4363b1aa2ece92c",
     "locked": true,
     "schema_version": 3,
     "solution": false,
     "task": false
    }
   },
   "outputs": [],
   "source": [
    "restaurants = pd.read_csv(\"data/zomato.csv\")"
   ]
  },
  {
   "cell_type": "code",
   "execution_count": null,
   "metadata": {
    "deletable": false,
    "editable": false,
    "nbgrader": {
     "grade": false,
     "grade_id": "cell-bc52c45084266a04",
     "locked": true,
     "schema_version": 3,
     "solution": false,
     "task": false
    }
   },
   "outputs": [],
   "source": [
    "restaurants.shape"
   ]
  },
  {
   "cell_type": "code",
   "execution_count": null,
   "metadata": {
    "deletable": false,
    "editable": false,
    "nbgrader": {
     "grade": false,
     "grade_id": "cell-ece66b043fcb94b4",
     "locked": true,
     "schema_version": 3,
     "solution": false,
     "task": false
    }
   },
   "outputs": [],
   "source": [
    "restaurants.head()"
   ]
  },
  {
   "cell_type": "markdown",
   "metadata": {
    "deletable": false,
    "editable": false,
    "nbgrader": {
     "grade": false,
     "grade_id": "cell-e42ab047082ead25",
     "locked": true,
     "schema_version": 3,
     "solution": false,
     "task": false
    }
   },
   "source": [
    "***\n",
    "## Exercise 1\n",
    "\n",
    "First, import matplotlib, pyplot and the matplotlib inline ✨magic✨. "
   ]
  },
  {
   "cell_type": "code",
   "execution_count": null,
   "metadata": {
    "deletable": false,
    "nbgrader": {
     "grade": false,
     "grade_id": "cell-96c602a1da8f81e5",
     "locked": false,
     "schema_version": 1,
     "solution": true
    }
   },
   "outputs": [],
   "source": [
    "# YOUR CODE HERE\n",
    "raise NotImplementedError()"
   ]
  },
  {
   "cell_type": "code",
   "execution_count": null,
   "metadata": {
    "deletable": false,
    "editable": false,
    "nbgrader": {
     "grade": true,
     "grade_id": "cell-f150c73eacb8515f",
     "locked": true,
     "points": 1,
     "schema_version": 1,
     "solution": false
    }
   },
   "outputs": [],
   "source": [
    "assert plt, \"Did you import module pyplot from matplotlib and called it plt?\"\n",
    "\n",
    "print('--- Success ---')"
   ]
  },
  {
   "cell_type": "markdown",
   "metadata": {},
   "source": [
    "And, change the default chart size to 12 inches width and 12 inches height"
   ]
  },
  {
   "cell_type": "code",
   "execution_count": null,
   "metadata": {
    "deletable": false,
    "nbgrader": {
     "grade": false,
     "grade_id": "rcParams_answer",
     "locked": false,
     "schema_version": 1,
     "solution": true
    }
   },
   "outputs": [],
   "source": [
    "# YOUR CODE HERE\n",
    "raise NotImplementedError()"
   ]
  },
  {
   "cell_type": "code",
   "execution_count": null,
   "metadata": {
    "deletable": false,
    "editable": false,
    "nbgrader": {
     "grade": true,
     "grade_id": "rcParams_test",
     "locked": true,
     "points": 1,
     "schema_version": 1,
     "solution": false
    }
   },
   "outputs": [],
   "source": [
    "s = [plt.rcParams[\"figure.figsize\"][0], plt.rcParams[\"figure.figsize\"][1]]\n",
    "s.sort()\n",
    "\n",
    "assert _hash(s) in ['9b75178bbe', 'e139d197c5'], \"Did you change the default figure sizes?\"\n",
    "\n",
    "print('--- Success ---')"
   ]
  },
  {
   "cell_type": "markdown",
   "metadata": {
    "deletable": false,
    "editable": false,
    "nbgrader": {
     "grade": false,
     "grade_id": "cell-6a50635e03da913d",
     "locked": true,
     "schema_version": 3,
     "solution": false,
     "task": false
    }
   },
   "source": [
    "<hr>"
   ]
  },
  {
   "cell_type": "markdown",
   "metadata": {
    "deletable": false,
    "editable": false,
    "nbgrader": {
     "grade": false,
     "grade_id": "cell-9ef48236b36aaabe",
     "locked": true,
     "schema_version": 3,
     "solution": false,
     "task": false
    }
   },
   "source": [
    "## 🛑 Important note about the grading\n",
    "\n",
    "**Grading plots is difficult**, we are using `plotchecker` to grade the plots with `nbgrader`. \n",
    "For `plotchecker` to work with `nbgrader`, **we need to add on each cell**, the line\n",
    "\n",
    "> **`axis = plt.gca();`**\n",
    "\n",
    "**After the code required** to do the plot.\n",
    "\n",
    "<div class=\"alert alert-danger\">\n",
    "    ⚠️ <b>NOTE: </b>If you get the <b>ImportError</b>, <i>plotchecker not defined</i>, make sure you activate the right environment for this unit!\n",
    "</div>\n",
    "\n",
    "> **For example**, *if we want to plot a `scatter plot` showing the relationship between **`cost for 2 people`** and **`vote rating`** among the restaurants we would do as follows:*"
   ]
  },
  {
   "cell_type": "code",
   "execution_count": null,
   "metadata": {
    "deletable": false,
    "editable": false,
    "nbgrader": {
     "grade": false,
     "grade_id": "cell-d4b62a2b6d02eed2",
     "locked": true,
     "schema_version": 3,
     "solution": false,
     "task": false
    }
   },
   "outputs": [],
   "source": [
    "# code required to plot\n",
    "restaurants.plot.scatter(x=\"cost_2pax\", y=\"vote_rate\")\n",
    "\n",
    "# last line in the cell required to \"capture\" the cell and being able to grade it with nbgrader\n",
    "axis = plt.gca();"
   ]
  },
  {
   "cell_type": "markdown",
   "metadata": {
    "deletable": false,
    "editable": false,
    "nbgrader": {
     "grade": false,
     "grade_id": "cell-f1c7374dc63a5224",
     "locked": true,
     "schema_version": 3,
     "solution": false,
     "task": false
    }
   },
   "source": [
    "***\n",
    "\n",
    "## Exercise 2\n",
    "\n",
    "Let's see how does the **`cost for 2 people`** correlate with the **`number of votes`**?"
   ]
  },
  {
   "cell_type": "code",
   "execution_count": null,
   "metadata": {
    "deletable": false,
    "nbgrader": {
     "grade": false,
     "grade_id": "cell-d1abe51868ed32d0",
     "locked": false,
     "schema_version": 1,
     "solution": true
    }
   },
   "outputs": [],
   "source": [
    "# YOUR CODE HERE\n",
    "raise NotImplementedError()\n",
    "axis = plt.gca();"
   ]
  },
  {
   "cell_type": "code",
   "execution_count": null,
   "metadata": {
    "deletable": false,
    "editable": false,
    "nbgrader": {
     "grade": true,
     "grade_id": "cell-dd0d5562ad8f2d75",
     "locked": true,
     "points": 3,
     "schema_version": 1,
     "solution": false
    }
   },
   "outputs": [],
   "source": [
    "pc = PlotChecker(axis)\n",
    "data = get_data(pc)\n",
    "l = [pc.xlabel] + [pc.ylabel]\n",
    "l.sort()\n",
    "\n",
    "assert _hash(len(data)) == '4b7eb88930', \"Did you set the right variables for the plot axes?\"\n",
    "assert _hash(l) in ['d1ed203167'], \"Did you set the right variables for the plot axes?\"\n",
    "assert _hash(get_data(pc,1)) in ['676a41f8f7', '68f9b6d00d'], \"Did you set the right variables for the plot axes?\"\n",
    "\n",
    "print('--- Success ---')"
   ]
  },
  {
   "cell_type": "markdown",
   "metadata": {
    "deletable": false,
    "editable": false,
    "nbgrader": {
     "grade": false,
     "grade_id": "cell-95e2d8cad97fe27c",
     "locked": true,
     "schema_version": 3,
     "solution": false,
     "task": false
    }
   },
   "source": [
    "## Exercise 3\n",
    "\n",
    "How the average **`cost for 2 people`** are trending through the **`rating votes`**?\n",
    "\n",
    "- set the plot **title** to **`Average Restaurant cost by Rating`**.\n",
    "- label the **x-axis** as **`Zomato Ratings`**.\n",
    "- label the **y-axis** as **`Restaurant Cost (2pax)`**."
   ]
  },
  {
   "cell_type": "markdown",
   "metadata": {
    "deletable": false,
    "editable": false,
    "nbgrader": {
     "grade": false,
     "grade_id": "cell-4fb4f5a86190b1cd",
     "locked": true,
     "schema_version": 3,
     "solution": false,
     "task": false
    }
   },
   "source": [
    "<div class=\"alert alert-info\">\n",
    "    To calculate the average cost by restaurant rating we need to perform an <b><a href='https://jakevdp.github.io/PythonDataScienceHandbook/03.08-aggregation-and-grouping.html'>aggregation</a></b>, pandas support this by doing a technique called <b><a href='(https://pandas.pydata.org/pandas-docs/stable/user_guide/groupby.html'>Split-Apply-Combine</a></b>. <b>This will be explained in the Data Wrangling Specialization.</b> For now we will do the grouping for you:\n",
    "</div>"
   ]
  },
  {
   "cell_type": "code",
   "execution_count": null,
   "metadata": {
    "deletable": false,
    "editable": false,
    "nbgrader": {
     "grade": false,
     "grade_id": "cell-d6c8bcab1bb853ff",
     "locked": true,
     "schema_version": 3,
     "solution": false,
     "task": false
    }
   },
   "outputs": [],
   "source": [
    "avg_cost_2pax_by_rating = restaurants.groupby(\"vote_rate\")[\"cost_2pax\"].mean().reset_index()\n",
    "avg_cost_2pax_by_rating.columns = [\"rating\", \"avg_cost_2pax\"]\n",
    "avg_cost_2pax_by_rating.head()"
   ]
  },
  {
   "cell_type": "markdown",
   "metadata": {
    "deletable": false,
    "editable": false,
    "nbgrader": {
     "grade": false,
     "grade_id": "cell-a2e8dd78af31a22b",
     "locked": true,
     "schema_version": 3,
     "solution": false,
     "task": false
    }
   },
   "source": [
    "<div class=\"alert alert-warning\">\n",
    "⚠️ <b>NOTE: </b>Make sure you use the dataframe named <b>avg_cost_2pax_by_rating</b> for the exercise\n",
    "</div>"
   ]
  },
  {
   "cell_type": "code",
   "execution_count": null,
   "metadata": {
    "deletable": false,
    "nbgrader": {
     "grade": false,
     "grade_id": "cell-73b4bfa635b491d8",
     "locked": false,
     "schema_version": 1,
     "solution": true
    }
   },
   "outputs": [],
   "source": [
    "# YOUR CODE HERE\n",
    "raise NotImplementedError()\n",
    "axis = plt.gca();"
   ]
  },
  {
   "cell_type": "code",
   "execution_count": null,
   "metadata": {
    "deletable": false,
    "editable": false,
    "nbgrader": {
     "grade": true,
     "grade_id": "cell-e810ccdca9b86e40",
     "locked": true,
     "points": 3,
     "schema_version": 1,
     "solution": false
    }
   },
   "outputs": [],
   "source": [
    "pc = PlotChecker(axis)\n",
    "l = [pc.xlabel] + [pc.ylabel]\n",
    "l.sort()\n",
    "\n",
    "assert _hash(sorted(get_data(pc))) in ['bc499f7725'], \"Did you set the right variables for the plot axes?\"\n",
    "assert _hash(sorted(get_data(pc,1))) in ['1062114291'], \"Did you set the right variables for the plot axes?\"\n",
    "assert _hash(pc.title) in ['b9c481c4ef'], \"Did you set the right plot title?\"\n",
    "assert _hash(l) in ['640d7ee8aa'], \"Did you set the right plot axes?\"\n",
    "\n",
    "print('--- Success ---')"
   ]
  },
  {
   "cell_type": "markdown",
   "metadata": {
    "deletable": false,
    "editable": false,
    "nbgrader": {
     "grade": false,
     "grade_id": "cell-cbb8f1c68f7d09bc",
     "locked": true,
     "schema_version": 3,
     "solution": false,
     "task": false
    }
   },
   "source": [
    "## Exercise 4\n",
    "\n",
    "How does the median **`number of votes`** vary by restaurant **`type`**? \n",
    "\n",
    "- label the **x-axis** as **`Number of Votes`**.\n",
    "- label the **y-axis** as **`Restaurant Type`**.\n",
    "- change the **plot color** to **`chocolate`**.\n",
    "\n",
    "Again, we will do the **grouping** for you:"
   ]
  },
  {
   "cell_type": "code",
   "execution_count": null,
   "metadata": {
    "deletable": false,
    "editable": false,
    "nbgrader": {
     "grade": false,
     "grade_id": "cell-3976a0ec556dfb09",
     "locked": true,
     "schema_version": 3,
     "solution": false,
     "task": false
    }
   },
   "outputs": [],
   "source": [
    "median_votes_by_type = restaurants.groupby(\"type\")[\"vote_count\"].median().reset_index()\n",
    "median_votes_by_type.columns = [\"type\", \"median_votes\"]\n",
    "median_votes_by_type"
   ]
  },
  {
   "cell_type": "markdown",
   "metadata": {
    "deletable": false,
    "editable": false,
    "nbgrader": {
     "grade": false,
     "grade_id": "cell-5dfa4112df228a55",
     "locked": true,
     "schema_version": 3,
     "solution": false,
     "task": false
    }
   },
   "source": [
    "<div class=\"alert alert-warning\">\n",
    "⚠️ <b>NOTE: </b>Make sure you use the dataframe named <b>median_votes_by_type</b> for the exercise\n",
    "</div>"
   ]
  },
  {
   "cell_type": "code",
   "execution_count": null,
   "metadata": {
    "deletable": false,
    "nbgrader": {
     "grade": false,
     "grade_id": "cell-f7836531abe09da4",
     "locked": false,
     "schema_version": 3,
     "solution": true,
     "task": false
    }
   },
   "outputs": [],
   "source": [
    "# YOUR CODE HERE\n",
    "raise NotImplementedError()\n",
    "axis = plt.gca();"
   ]
  },
  {
   "cell_type": "code",
   "execution_count": null,
   "metadata": {
    "deletable": false,
    "editable": false,
    "nbgrader": {
     "grade": true,
     "grade_id": "cell-fcd988c35854556f",
     "locked": true,
     "points": 3,
     "schema_version": 3,
     "solution": false,
     "task": false
    }
   },
   "outputs": [],
   "source": [
    "pc = PlotChecker(axis)\n",
    "pc._patches = np.array(pc.axis.patches)\n",
    "pc._patches = pc._patches[np.argsort([p.get_x() for p in pc._patches])]\n",
    "\n",
    "pc.widths = np.array([p.get_width() for p in pc._patches])\n",
    "pc.heights = np.array([p.get_height() for p in pc._patches])\n",
    "\n",
    "l = [pc.xlabel] + [pc.ylabel]\n",
    "l.sort()\n",
    "\n",
    "assert _hash(len(pc._patches)) in ['1cb85c3d73'], \"Did you set the right categorical variable and the right plot type?\"\n",
    "assert _hash(np.sort(pc.widths)) in ['8f9f8c51a9'], \"Did you set the right categorical variable and the right plot type?\"\n",
    "assert _hash(l) in ['bcd1693b58'], \"Did you set the right plot axes?\"\n",
    "assert _hash([pc._patches[i].get_facecolor() for i,n in enumerate(pc._patches)]) == '1fe2bb456d', \"Did you change the plot color?\"\n",
    "\n",
    "print('--- Success ---')"
   ]
  },
  {
   "cell_type": "markdown",
   "metadata": {
    "deletable": false,
    "editable": false,
    "nbgrader": {
     "grade": false,
     "grade_id": "cell-e54f99bca7a069c3",
     "locked": true,
     "schema_version": 3,
     "solution": false,
     "task": false
    }
   },
   "source": [
    "## Exercise 5\n",
    "\n",
    "How does the average **`number of votes`** compares by the **`rating`**? \n",
    "\n",
    "- label the **x-axis** as **`Zomato rating`** and **size** **`20`**.\n",
    "- label the **y-axis** as **`Number of Votes`** and **size** **`20`**.\n",
    "- set the plot **title** to **`Average number of votes comparison by Rating`** and **size** **`25`**.\n",
    "\n",
    "Doing the **grouping** for you:"
   ]
  },
  {
   "cell_type": "code",
   "execution_count": null,
   "metadata": {
    "deletable": false,
    "editable": false,
    "nbgrader": {
     "grade": false,
     "grade_id": "cell-5ac11c18801c15f8",
     "locked": true,
     "schema_version": 3,
     "solution": false,
     "task": false
    }
   },
   "outputs": [],
   "source": [
    "avg_vote_by_rating = restaurants.groupby(\"vote_rate\")[\"vote_count\"].mean().reset_index()\n",
    "avg_vote_by_rating.columns = [\"rating\", \"avg_votes\"]\n",
    "avg_vote_by_rating"
   ]
  },
  {
   "cell_type": "markdown",
   "metadata": {
    "deletable": false,
    "editable": false,
    "nbgrader": {
     "grade": false,
     "grade_id": "cell-4625c6161df0c3bc",
     "locked": true,
     "schema_version": 3,
     "solution": false,
     "task": false
    }
   },
   "source": [
    "<div class=\"alert alert-warning\">\n",
    "⚠️ <b>NOTE: </b>Make sure you use the dataframe named <b>avg_vote_by_rating</b> for the exercise\n",
    "</div>"
   ]
  },
  {
   "cell_type": "code",
   "execution_count": null,
   "metadata": {
    "deletable": false,
    "nbgrader": {
     "grade": false,
     "grade_id": "cell-372fe0ddfdb5ca15",
     "locked": false,
     "schema_version": 3,
     "solution": true,
     "task": false
    }
   },
   "outputs": [],
   "source": [
    "# YOUR CODE HERE\n",
    "raise NotImplementedError()\n",
    "axis = plt.gca();"
   ]
  },
  {
   "cell_type": "code",
   "execution_count": null,
   "metadata": {
    "deletable": false,
    "editable": false,
    "nbgrader": {
     "grade": true,
     "grade_id": "cell-aaf06b8c5ace2004",
     "locked": true,
     "points": 3,
     "schema_version": 3,
     "solution": false,
     "task": false
    }
   },
   "outputs": [],
   "source": [
    "pc = PlotChecker(axis)\n",
    "pc._patches = np.array(pc.axis.patches)\n",
    "pc._patches = pc._patches[np.argsort([p.get_x() for p in pc._patches])]\n",
    "\n",
    "pc.widths = np.array([p.get_width() for p in pc._patches])\n",
    "pc.heights = np.array([p.get_height() for p in pc._patches])\n",
    "\n",
    "l = [pc.xlabel] + [pc.ylabel]\n",
    "l.sort()\n",
    "\n",
    "assert _hash(len(pc._patches)) in ['d15bce6d7d'], \"Did you set the right variable and the right plot type?\"\n",
    "assert _hash(np.sort(pc.widths)) in ['1050369a36'], \"Did you set the right variable and the right plot type?\"\n",
    "assert _hash(np.sort(pc.heights)) in ['51713c2dfb'], \"Did you set the right variable and the right plot type?\"\n",
    "assert _hash(pc.title) in ['3db42086ff'], \"Did you set the right plot title?\"\n",
    "assert _hash(l) in ['ce43ba93aa'], \"Did you set the right plot axes?\"\n",
    "\n",
    "print('--- Success ---')"
   ]
  },
  {
   "cell_type": "markdown",
   "metadata": {
    "deletable": false,
    "editable": false,
    "nbgrader": {
     "grade": false,
     "grade_id": "cell-7bab7edd2825a4da",
     "locked": true,
     "schema_version": 3,
     "solution": false,
     "task": false
    }
   },
   "source": [
    "## Exercise 6\n",
    "\n",
    "How is the variable **`vote_rate`** distributed through the better ratings? \n",
    "- show only restaurants with a minimum rating of **4 points** (up to 5 points). \n",
    "> 💡 **hint:** _set a limit_ \n",
    "- change the number of **bins to 30**.\n",
    "- change the **plot color** to **`yellowgreen`**."
   ]
  },
  {
   "cell_type": "code",
   "execution_count": null,
   "metadata": {
    "deletable": false,
    "nbgrader": {
     "grade": false,
     "grade_id": "cell-1988d757a6ed50ea",
     "locked": false,
     "schema_version": 3,
     "solution": true,
     "task": false
    }
   },
   "outputs": [],
   "source": [
    "# YOUR CODE HERE\n",
    "raise NotImplementedError()\n",
    "axis = plt.gca();"
   ]
  },
  {
   "cell_type": "code",
   "execution_count": null,
   "metadata": {
    "deletable": false,
    "editable": false,
    "nbgrader": {
     "grade": true,
     "grade_id": "cell-da6b717de847354d",
     "locked": true,
     "points": 3,
     "schema_version": 3,
     "solution": false,
     "task": false
    }
   },
   "outputs": [],
   "source": [
    "pc = PlotChecker(axis)\n",
    "pc._patches = np.array(pc.axis.patches)\n",
    "pc._patches = pc._patches[np.argsort([p.get_x() for p in pc._patches])]\n",
    "pc.widths = np.array([p.get_width() for p in pc._patches])\n",
    "pc.heights = np.array([p.get_height() for p in pc._patches])\n",
    "\n",
    "assert _hash(np.sort(pc.widths)) in ['1717c26bdc'], \"Did you set the right plot type? You should not change the dataset.\"\n",
    "assert _hash(np.sort(pc.heights)) in ['93b03e2bf6'], \"Did you set the right plot type? You should not change the dataset.\"\n",
    "assert _hash(pc.xlim[0]) == '8599ebffc2', \"Did you set the right limit?\"\n",
    "assert _hash(pc.xlim[1]) == 'f24d02e0e6', \"Did you set the right limit?\"\n",
    "assert _hash([pc._patches[i].get_facecolor() for i,n in enumerate(pc._patches)]) == '697422ff42', \"Did you change the plot color?\"\n",
    "\n",
    "print('--- Success ---')"
   ]
  },
  {
   "cell_type": "markdown",
   "metadata": {
    "deletable": false,
    "editable": false,
    "nbgrader": {
     "grade": false,
     "grade_id": "cell-0338f2a089ee56aa",
     "locked": true,
     "schema_version": 3,
     "solution": false,
     "task": false
    }
   },
   "source": [
    "## Exercise  7\n",
    "\n",
    "Now, we will analyze the restaurants of Chinese food and compare them between the rating and the cuisine type of those restaurants. Following the steps below:\n",
    "\n",
    "- filter the **`restaurants`** dataset by **chinese** **`cuisine`**.\n",
    "- save them in a new **dataframe** called **`chinese_restaurants`**.\n",
    "- make a plot that displays the **rating** by chinese restaurant **type** and that allows us to check if there are outliers.\n",
    "- change the default **plot style** to **`seaborn`**.\n",
    "- set the plot argument **vert** to **`False`**.\n",
    "- set the plot argument **figsize** to **`10`** inches width and **`10`** inches height.\n",
    "- set the plot argument **grid** to **`False`**\n",
    "- set the plot argument **fontsize** to **`14`**"
   ]
  },
  {
   "cell_type": "code",
   "execution_count": null,
   "metadata": {
    "deletable": false,
    "nbgrader": {
     "grade": false,
     "grade_id": "cell-da1cf313df52ced6",
     "locked": false,
     "schema_version": 3,
     "solution": true,
     "task": false
    }
   },
   "outputs": [],
   "source": [
    "# YOUR CODE HERE\n",
    "raise NotImplementedError()\n",
    "axis = plt.gca();"
   ]
  },
  {
   "cell_type": "code",
   "execution_count": null,
   "metadata": {
    "deletable": false,
    "editable": false,
    "nbgrader": {
     "grade": true,
     "grade_id": "cell-d67c3ae944e4adb7",
     "locked": true,
     "points": 3,
     "schema_version": 3,
     "solution": false,
     "task": false
    }
   },
   "outputs": [],
   "source": [
    "pc = PlotChecker(axis)\n",
    "pc._lines = pc.axis.get_lines()\n",
    "pc.colors = np.array([pc._color2rgb(x.get_color()) for x in pc._lines])\n",
    "\n",
    "assert _hash(chinese_restaurants['cuisine'].unique()) in ['3c110a6b03'], \"Did you filter the chinese restaurtants?\"\n",
    "assert _hash(pc.colors[0]) in ['e68950262e'], \"Did you set the right plot style?\"\n",
    "assert _hash(pc.yticklabels) in ['474e6af7df'], \"Did you select the right categorical variable for the plot?\"\n",
    "assert _hash(pc.xticklabels) in ['f50b6dfe86'], \"Did you select the right categorical variable for the plot?\"\n",
    "\n",
    "print('--- Success ---')"
   ]
  },
  {
   "cell_type": "markdown",
   "metadata": {
    "deletable": false,
    "editable": false,
    "nbgrader": {
     "grade": false,
     "grade_id": "cell-7d6e8146156789d8",
     "locked": true,
     "schema_version": 3,
     "solution": false,
     "task": false
    }
   },
   "source": [
    "\n",
    "# 🏁 Ungraded Exercise 🏁\n",
    "Load the file misterious_data.csv and use data visualization to answer the following questions:\n",
    "\n",
    "* How is the distribution of **x** in general?\n",
    "* Are there any **outlier** in any of the fields?\n",
    "* Which **2 charts** better represent the underlying data?\n",
    "* Change their **style** to **`bmh`**.\n",
    "* Add **titles** to each chart explaining them.\n"
   ]
  }
 ],
 "metadata": {
  "kernelspec": {
   "display_name": "Python 3",
   "language": "python",
   "name": "python3"
  },
  "language_info": {
   "codemirror_mode": {
    "name": "ipython",
    "version": 3
   },
   "file_extension": ".py",
   "mimetype": "text/x-python",
   "name": "python",
   "nbconvert_exporter": "python",
   "pygments_lexer": "ipython3",
   "version": "3.7.10"
  },
  "toc": {
   "base_numbering": 1,
   "nav_menu": {},
   "number_sections": false,
   "sideBar": false,
   "skip_h1_title": false,
   "title_cell": "Table of Contents",
   "title_sidebar": "Contents",
   "toc_cell": false,
   "toc_position": {},
   "toc_section_display": false,
   "toc_window_display": false
  }
 },
 "nbformat": 4,
 "nbformat_minor": 2
}
