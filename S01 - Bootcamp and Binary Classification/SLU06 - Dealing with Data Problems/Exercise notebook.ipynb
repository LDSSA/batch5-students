{
 "cells": [
  {
   "cell_type": "markdown",
   "id": "29fa1514",
   "metadata": {
    "deletable": false,
    "editable": false,
    "nbgrader": {
     "grade": false,
     "grade_id": "cell-1bd4194db78c2f35",
     "locked": true,
     "schema_version": 3,
     "solution": false,
     "task": false
    }
   },
   "source": [
    "# SLU06 - Dealing with Data Problems\n"
   ]
  },
  {
   "cell_type": "code",
   "execution_count": null,
   "id": "12fd71c2",
   "metadata": {
    "deletable": false,
    "editable": false,
    "nbgrader": {
     "grade": false,
     "grade_id": "cell-b15be3cd61e549f0",
     "locked": true,
     "schema_version": 3,
     "solution": false,
     "task": false
    }
   },
   "outputs": [],
   "source": [
    "import os\n",
    "import pandas as pd\n",
    "import numpy as np\n",
    "import copy\n",
    "import hashlib\n",
    "import json\n",
    "import warnings\n",
    "import calendar\n",
    "import datetime\n",
    "import pycountry_convert as cc\n",
    "warnings.filterwarnings('ignore')"
   ]
  },
  {
   "cell_type": "markdown",
   "id": "d316a592",
   "metadata": {
    "deletable": false,
    "editable": false,
    "nbgrader": {
     "grade": false,
     "grade_id": "cell-fa92b97b0deaae55",
     "locked": true,
     "schema_version": 3,
     "solution": false,
     "task": false
    }
   },
   "source": [
    "In this notebook we will be covering the following:\n",
    "\n",
    "- Data Entry Problems\n",
    " - Data entry problems in categorical variables\n",
    " - Data entry problems in numerical variables\n",
    " - Duplicated entries\n",
    "- Missing Values\n",
    "- Tidy Data"
   ]
  },
  {
   "cell_type": "markdown",
   "id": "55edcc82",
   "metadata": {
    "deletable": false,
    "editable": false,
    "nbgrader": {
     "grade": false,
     "grade_id": "cell-37c8582828957176",
     "locked": true,
     "schema_version": 3,
     "solution": false,
     "task": false
    }
   },
   "source": [
    "Welcome to the wonderful world of Data Cleanup! In the real would, a lot of good people are spending a lot of time  cleaning datasets and getting them down to a form with which they can work. \n",
    "\n",
    "There is one thing that you should always keep in mind when working with data:\n",
    "\n",
    "![garbage](https://memegenerator.net/img/instances/50405824.jpg)\n",
    "\n",
    "Let's get our hands dirty."
   ]
  },
  {
   "cell_type": "markdown",
   "id": "33154d65",
   "metadata": {
    "deletable": false,
    "editable": false,
    "nbgrader": {
     "grade": false,
     "grade_id": "cell-6c0c96d2c5e113da",
     "locked": true,
     "schema_version": 3,
     "solution": false,
     "task": false
    }
   },
   "source": [
    "## The CRSet() Hotel\n",
    "\n",
    "You're sitting on your desk in your first day of work as a data scientist and your manager has just assigned you your first task:\n",
    "\n",
    "> DataSlave, here's the dataset from *CRSet() Hotels*. Before we can do anything with it we need it nice and *tidy*. Can you take care of this? Thanks.  \n",
    "\n",
    "Attached there was a data dictionary for the dataset:\n",
    "- **hotel:** Resort Hotel or City Hotel\n",
    "- **is_canceled:** Value indicating if the booking was canceled (1) or not (0)\n",
    "- **lead_time:** Number of days that elapsed between the entering date of the booking and the arrival date\n",
    "- **arrival_date**: Arrival date formatted as \"Month Day Year\"\n",
    "- **stays_in_weekend_nights:** Number of weekend nights (Saturday or Sunday) the guest stayed or booked to stay at the hotel\n",
    "- **stays_in_week_nights:** Number of week nights (Monday to Friday) the guest stayed or booked to stay at the hotel\n",
    "- **adults**: Number of adults\n",
    "- **is_repeated_guest:** Value indicating if the booking name was from a repeated guest (1) or not (0)\n",
    "- **previous_cancellations:** Number of previous bookings that were cancelled by the customer prior to the current booking\n",
    "- **agent:** ID of the travel agency that made the booking\n",
    "- **adr:** Average Daily Rate as defined by dividing the sum of all lodging transactions by the total number of staying nights\n",
    "- **total_of_special_requests:** Number of special requests made by the customer (e.g. twin bed or high floor)\n",
    "- **reservation_status:** Reservation last status, assuming one of three categories: Canceled – booking was canceled by the customer; Check-Out – customer has checked in but already departed; No-Show – customer did not check-in and did inform the hotel of the reason why\n",
    "- **reservation_status_date:** Date at which the last status was set. This variable can be used in conjunction with the ReservationStatus to understand when was the booking canceled or when did the customer checked-out of the hotel\n",
    "\n",
    "Let's start by importing the dataset and taking a look at it. "
   ]
  },
  {
   "cell_type": "markdown",
   "id": "67a1322c",
   "metadata": {
    "deletable": false,
    "editable": false,
    "nbgrader": {
     "grade": false,
     "grade_id": "cell-ed9eb16417949aa8",
     "locked": true,
     "schema_version": 3,
     "solution": false,
     "task": false
    }
   },
   "source": [
    "### Exercise 1.1\n",
    "\n",
    "Let's start by importing the dataset and taking a look at it. \n",
    "The dataset is located in the `data` folder, in a file named `crset_hotel_bookins.csv`. This file came straigh out of MS Excel, so the values are separated with semi-colons.\n",
    "save the dataset in the `df_crset` variable\n"
   ]
  },
  {
   "cell_type": "code",
   "execution_count": null,
   "id": "e073e7ea",
   "metadata": {
    "deletable": false,
    "nbgrader": {
     "grade": false,
     "grade_id": "cell-5a996a1055302b2b",
     "locked": false,
     "schema_version": 3,
     "solution": true,
     "task": false
    }
   },
   "outputs": [],
   "source": [
    "# use panda's read_csv to load the data into a dataframe and save it in df_crset \n",
    "# df_crset = ... \n",
    "\n",
    "# YOUR CODE HERE\n",
    "raise NotImplementedError()"
   ]
  },
  {
   "cell_type": "code",
   "execution_count": null,
   "id": "1d4ae9f8",
   "metadata": {
    "deletable": false,
    "editable": false,
    "nbgrader": {
     "grade": true,
     "grade_id": "cell-fe56bb53bb1f1d79",
     "locked": true,
     "points": 1,
     "schema_version": 3,
     "solution": false,
     "task": false
    }
   },
   "outputs": [],
   "source": [
    "assert isinstance(df_crset, pd.DataFrame), \"Should be a dataframe\"\n",
    "assert df_crset.shape == (119390, 14), \"The shape of the dataframe is different then expected. Are you setting the right separator?\"\n",
    "df_crset.head()"
   ]
  },
  {
   "cell_type": "markdown",
   "id": "b09543de",
   "metadata": {
    "deletable": false,
    "editable": false,
    "nbgrader": {
     "grade": false,
     "grade_id": "cell-146cafc7a2652077",
     "locked": true,
     "schema_version": 3,
     "solution": false,
     "task": false
    }
   },
   "source": [
    "### Exercise 1.2 - Arrival Date \n",
    "\n",
    "Let's start by looking at the date of the arrival. According to the data dictionary, and the first 5 rows of the dataframe, the `arrival_date` stores a string with the month spelled out, the day in numeral and the year in numeral.\n",
    "\n",
    "Create a function, called `format_arrival_date()` that splits the values in this column and returns a dataframe with this information as `arrival_date_month`, `arrival_date_day` and `arrival_date_year`, all in numeral."
   ]
  },
  {
   "cell_type": "code",
   "execution_count": null,
   "id": "8c0c9ecc",
   "metadata": {
    "deletable": false,
    "nbgrader": {
     "grade": false,
     "grade_id": "cell-1a9e5315472efa42",
     "locked": false,
     "schema_version": 3,
     "solution": true,
     "task": false
    }
   },
   "outputs": [],
   "source": [
    "def format_arrival_date(df: pd.DataFrame)->pd.DataFrame:\n",
    "    \"\"\"\n",
    "    This function cleans \"arrival_date\" column\n",
    "    \"\"\"\n",
    "    \n",
    "    # start by copying the dataframe\n",
    "    #_df = ...\n",
    "    \n",
    "    # split the \"arrival_date\" into the \"arrival_date_month\", \"arrival_date_day\" and \"arrival_date_year\" columns\n",
    "    # hint: make sure you set expand to True\n",
    "    # _df[['arrival_date_month', 'arrival_date_day', 'arrival_date_year']] = ...\n",
    "    \n",
    "    # transform \"arrival_date_month\" to numeric value \n",
    "    # hint: use calendar.month_name from the calendar python module and panda's map() method\n",
    "    # _df['arrival_date_month'] = _df['arrival_date_month'].map(...)\n",
    "    \n",
    "    # convert new 'arrival_date_day' and 'arrival_date_year' to numeric\n",
    "    # ...\n",
    "    \n",
    "    # drop the \"arrival_date\" column\n",
    "    # _df = ...\n",
    "    \n",
    "    # return the new df\n",
    "    \n",
    "    # YOUR CODE HERE\n",
    "    raise NotImplementedError()\n"
   ]
  },
  {
   "cell_type": "code",
   "execution_count": null,
   "id": "22a496df",
   "metadata": {
    "deletable": false,
    "editable": false,
    "nbgrader": {
     "grade": true,
     "grade_id": "cell-84b728608f1e6121",
     "locked": true,
     "points": 3,
     "schema_version": 3,
     "solution": false,
     "task": false
    }
   },
   "outputs": [],
   "source": [
    "clean_arrival = format_arrival_date(df_crset)\n",
    "assert isinstance(clean_arrival, pd.DataFrame), \"Should be a dataframe\"\n",
    "assert clean_arrival.shape == (119390, 16), \"The shape of the dataframe is different then expected. Have you dropped the old arrival time column?\"\n",
    "assert 'arrival_date' not in clean_arrival.columns, \"You should remove the old arrival_date column\"\n",
    "assert 'arrival_date_month' in clean_arrival.columns, \"You're missing the arrival_date_month column. Have you named the new column correctly?\"\n",
    "assert 'arrival_date_day' in clean_arrival.columns, \"You're missing the arrival_date_day column. Have you named the new column correctly?\"\n",
    "assert 'arrival_date_year'  in clean_arrival.columns, \"You're missing the arrival_date_year column. Have you named the new column correctly?\"\n",
    "assert all(isinstance(item, int) for item in clean_arrival.arrival_date_month), \"Months should be saved as intigers\" \n",
    "assert all(isinstance(item, int) for item in clean_arrival.arrival_date_day), \"Days should be saved as intigers\"\n",
    "assert all(isinstance(item, int) for item in clean_arrival.arrival_date_year), \"Years should be saved as intigers\"\n",
    "assert hashlib.sha256(json.dumps(str(clean_arrival.iloc[50])).encode()).hexdigest() == '676d3dca5425221c77c8400481d442d96b3a5f88185f729d628e3541ea78ae15', \"Something is wrong with your data conversion\""
   ]
  },
  {
   "cell_type": "markdown",
   "id": "1f21efdb",
   "metadata": {
    "deletable": false,
    "editable": false,
    "nbgrader": {
     "grade": false,
     "grade_id": "cell-0aae65323a8f3cd7",
     "locked": true,
     "schema_version": 3,
     "solution": false,
     "task": false
    }
   },
   "source": [
    "### Exercise 1.3 - Week of year \n",
    "\n",
    "Create a function, named `get_week_of_year` that takes the newly created `arrival_date_month`, `arrival_date_day` and `arrival_date_year` creates a new variable in the dataframe called `arrival_date_week_number` with the week number of year for arrival date.\n",
    "\n",
    "Hint: *datetime.date() recieves year, month, and day as int. and you can get the week in the year with .isocalendar()[1]*"
   ]
  },
  {
   "cell_type": "code",
   "execution_count": null,
   "id": "6ec4b219",
   "metadata": {
    "deletable": false,
    "nbgrader": {
     "grade": false,
     "grade_id": "cell-17e544d51f94b90d",
     "locked": false,
     "schema_version": 3,
     "solution": true,
     "task": false
    }
   },
   "outputs": [],
   "source": [
    "def get_week_of_year(df: pd.DataFrame)->pd.DataFrame:\n",
    "    \"\"\"\n",
    "    This function gets the arrival week of the year\n",
    "    \"\"\"\n",
    "    \n",
    "    # copy the dataframe\n",
    "    # _df = ...\n",
    "    \n",
    "    # get the week of the year number and save it in a new column \n",
    "    # hint:  use pandas' apply() with axis=1\n",
    "    # _df['arrival_date_week_number'] = ...\n",
    "    \n",
    "    # return the new df\n",
    "    \n",
    "    # YOUR CODE HERE\n",
    "    raise NotImplementedError()\n"
   ]
  },
  {
   "cell_type": "code",
   "execution_count": null,
   "id": "4c7b45ef",
   "metadata": {
    "deletable": false,
    "editable": false,
    "nbgrader": {
     "grade": true,
     "grade_id": "cell-95be98d8d4000854",
     "locked": true,
     "points": 2,
     "schema_version": 3,
     "solution": false,
     "task": false
    }
   },
   "outputs": [],
   "source": [
    "clean_arrival_week_of_year = get_week_of_year(clean_arrival)\n",
    "assert isinstance(clean_arrival_week_of_year, pd.DataFrame), \"Should be a dataframe\"\n",
    "assert clean_arrival_week_of_year.shape == (119390, 17), \"The shape of the dataframe is different then expected. Have you saved the new column?\"\n",
    "assert 'arrival_date_week_number' in clean_arrival_week_of_year.columns, \"You're missing the clean_arrival_week_of_year column. Have you named the new column correctly?\"\n",
    "assert all(isinstance(item, int) for item in clean_arrival_week_of_year.arrival_date_week_number), \"The values in the new column should be saved as intigers\" \n",
    "assert hashlib.sha256(json.dumps(str(clean_arrival_week_of_year.arrival_date_week_number)).encode()).hexdigest() == 'fbd3bdce9f2b3a1aff60369c351a1ceb63a167a80d78b140859af7f687cd76a3', \"Something is wrong with your data conversion\""
   ]
  },
  {
   "cell_type": "markdown",
   "id": "d9ec2745",
   "metadata": {
    "deletable": false,
    "editable": false,
    "nbgrader": {
     "grade": false,
     "grade_id": "cell-369a1d17c3e8446e",
     "locked": true,
     "schema_version": 3,
     "solution": false,
     "task": false
    }
   },
   "source": [
    "### Exercise 1.4 - The reservation status date\n",
    "\n",
    "Do the same processing as we've done to `arrival_date` column but this time for the `reservation_status_date`. \n",
    "Ass steps should be done in a single function, named `process_reservation_status_date()`. "
   ]
  },
  {
   "cell_type": "code",
   "execution_count": null,
   "id": "0c8251ce",
   "metadata": {
    "deletable": false,
    "nbgrader": {
     "grade": false,
     "grade_id": "cell-ee2bd2e0dd4325d4",
     "locked": false,
     "schema_version": 3,
     "solution": true,
     "task": false
    }
   },
   "outputs": [],
   "source": [
    "def process_reservation_status_date(df: pd.DataFrame)->pd.DataFrame:\n",
    "    \"\"\"\n",
    "    This function cleans \"reservation_status_date\" column\n",
    "    \"\"\"\n",
    "    # copy the dataframe\n",
    "    # _df = ...\n",
    "    \n",
    "    # split the \"reservation_status_date\" into \"reservation_status_date_date_month\", \"reservation_status_date_day\" and \"reservation_status_date_year\"\n",
    "    # _df[[\"reservation_status_date_day\", \"reservation_status_date_month\", \"reservation_status_date_year\"]] = ...\n",
    "    \n",
    "    # convert new columns to numeric\n",
    "    # ...\n",
    "    \n",
    "    # get the week of the year number and save it in a new column \n",
    "    # hint:  use pandas' apply() with axis=1\n",
    "    # _df['reservation_status_date_week_number'] = ...\n",
    "    \n",
    "    # drop the \"reservation_status_date\" column\n",
    "    # _df = ...\n",
    "    \n",
    "    # return the new df\n",
    "    \n",
    "    # YOUR CODE HERE\n",
    "    raise NotImplementedError()"
   ]
  },
  {
   "cell_type": "code",
   "execution_count": null,
   "id": "10a9da7f",
   "metadata": {
    "deletable": false,
    "editable": false,
    "nbgrader": {
     "grade": true,
     "grade_id": "cell-193cad2450ea0bf1",
     "locked": true,
     "points": 2,
     "schema_version": 3,
     "solution": false,
     "task": false
    }
   },
   "outputs": [],
   "source": [
    "clean_status_date = process_reservation_status_date(clean_arrival_week_of_year)\n",
    "assert isinstance(clean_status_date, pd.DataFrame), \"Should be a dataframe\"\n",
    "assert clean_status_date.shape == (119390, 20), \"The shape of the dataframe is different then expected. Have you dropped the old reservation_status_date column?\"\n",
    "assert 'reservation_status_date' not in clean_status_date.columns, \"You should remove the old reservation_status_date column\"\n",
    "assert 'reservation_status_date_day' in clean_status_date.columns, \"You're missing the column. Have you named the new column correctly?\"\n",
    "assert 'reservation_status_date_month' in clean_status_date.columns, \"You're missing the column. Have you named the new column correctly?\"\n",
    "assert 'reservation_status_date_year'  in clean_status_date.columns, \"You're missing the column. Have you named the new column correctly?\"\n",
    "assert 'reservation_status_date_week_number'  in clean_status_date.columns, \"You're missing the column. Have you named the new column correctly?\"\n",
    "assert all(isinstance(item, int) for item in clean_status_date.reservation_status_date_day), \"Days should be saved as intigers\" \n",
    "assert all(isinstance(item, int) for item in clean_status_date.reservation_status_date_month), \"Months should be saved as intigers\"\n",
    "assert all(isinstance(item, int) for item in clean_status_date.reservation_status_date_year), \"Years should be saved as intigers\"\n",
    "assert all(isinstance(item, int) for item in clean_status_date.reservation_status_date_week_number), \"Week of the year should be saved as intiger\"\n",
    "assert hashlib.sha256(json.dumps(str(clean_status_date.reservation_status_date_week_number)).encode()).hexdigest() == '035d73f3bf98929a3e2d1ea7b1dd02645a86cc8f1d751dd088533b0e11de0352', \"Something is wrong with your data conversion in reservation_status_date_week_number\"\n",
    "assert hashlib.sha256(json.dumps(str(clean_status_date.iloc[50])).encode()).hexdigest() == '996ff301f605548a5d9f5b698bbf3873ce1fe3bd35fef30b249d4159035216cc', \"Something is wrong with your data conversion\""
   ]
  },
  {
   "cell_type": "markdown",
   "id": "4da3a726",
   "metadata": {
    "deletable": false,
    "editable": false,
    "nbgrader": {
     "grade": false,
     "grade_id": "cell-d69a24deae33480f",
     "locked": true,
     "schema_version": 3,
     "solution": false,
     "task": false
    }
   },
   "source": [
    "### Exercise 2 - Missing data\n",
    "\n",
    "Let's now look at missing data."
   ]
  },
  {
   "cell_type": "code",
   "execution_count": null,
   "id": "8cb40a1c",
   "metadata": {
    "deletable": false,
    "editable": false,
    "nbgrader": {
     "grade": false,
     "grade_id": "cell-ce64ab16d825c70a",
     "locked": true,
     "schema_version": 3,
     "solution": false,
     "task": false
    }
   },
   "outputs": [],
   "source": [
    "np.sum(clean_status_date.isnull())"
   ]
  },
  {
   "cell_type": "markdown",
   "id": "3eb30d33",
   "metadata": {
    "deletable": false,
    "editable": false,
    "nbgrader": {
     "grade": false,
     "grade_id": "cell-353131a991a26281",
     "locked": true,
     "schema_version": 3,
     "solution": false,
     "task": false
    }
   },
   "source": [
    "There's over 16000 missing values in the `agent` column, representing over 10% of the total observations and we need to do something about it. \n",
    "\n",
    "Usually if more than 70% of values in a column are missing and there is no way to fill in the missing values, then the column can be dropped completely from the dataset. Our `agent` column is a categorical variable that represents the ID of the travel agency that made the booking. We can fill out the missing values with a new category named `unknown`.\n",
    "\n",
    "Create a new function named `impute_agents` that does exactly that."
   ]
  },
  {
   "cell_type": "code",
   "execution_count": null,
   "id": "207e2f67",
   "metadata": {
    "deletable": false,
    "nbgrader": {
     "grade": false,
     "grade_id": "cell-d68349ea8576483b",
     "locked": false,
     "schema_version": 3,
     "solution": true,
     "task": false
    }
   },
   "outputs": [],
   "source": [
    "def impute_agents(df: pd.DataFrame)->pd.DataFrame:\n",
    "    \"\"\"\n",
    "    This function cleans imputs the missing values in the agents column with a new category\n",
    "    \"\"\"\n",
    "    # copy the dataframe\n",
    "    # _df = ...\n",
    "    \n",
    "    # fill the missing values with \"unknown\"\n",
    "    # ...\n",
    "    \n",
    "    #return _df\n",
    "    \n",
    "    # YOUR CODE HERE\n",
    "    raise NotImplementedError()\n"
   ]
  },
  {
   "cell_type": "code",
   "execution_count": null,
   "id": "741ba7af",
   "metadata": {
    "deletable": false,
    "editable": false,
    "nbgrader": {
     "grade": true,
     "grade_id": "cell-9f1a5fbc7a6ae9af",
     "locked": true,
     "points": 1,
     "schema_version": 3,
     "solution": false,
     "task": false
    }
   },
   "outputs": [],
   "source": [
    "imputed_df = impute_agents(clean_status_date) \n",
    "assert isinstance(imputed_df, pd.DataFrame), \"Should be a dataframe\"\n",
    "assert hashlib.sha256(json.dumps(str(imputed_df.agent)).encode()).hexdigest() == 'e88eaebe8668246fc74259c12ea8e38311c86ec96a73e2a8de26eb30bb7aefb9', \"Something is wrong with your data imputation\" \n",
    "assert hashlib.sha256(json.dumps(sorted(imputed_df.agent[imputed_df.agent == 'unknown'].index)).encode()).hexdigest() == 'cccf60b5fae5bc38bc21b3f899b7bc47e18053fc5d90a0ac9cb6b8770b3c5921'"
   ]
  },
  {
   "cell_type": "markdown",
   "id": "e54052ae",
   "metadata": {
    "deletable": false,
    "editable": false,
    "nbgrader": {
     "grade": false,
     "grade_id": "cell-1104cbd5e6c54200",
     "locked": true,
     "schema_version": 3,
     "solution": false,
     "task": false
    }
   },
   "source": [
    "## Exercise 3 - Drop duplicates\n",
    "\n",
    "Lastly, the last thing you need to ensure is that you're dataset doesn't have any duplicated data!\n",
    "Create a short function to do just that!"
   ]
  },
  {
   "cell_type": "code",
   "execution_count": null,
   "id": "06e2c0d0",
   "metadata": {
    "deletable": false,
    "nbgrader": {
     "grade": false,
     "grade_id": "cell-f5a89d600ba6117e",
     "locked": false,
     "schema_version": 3,
     "solution": true,
     "task": false
    }
   },
   "outputs": [],
   "source": [
    "def drop_duplicated_entries(df: pd.DataFrame)->pd.DataFrame:\n",
    "    \"\"\"\n",
    "    This function drops duplicates\n",
    "    \"\"\"\n",
    "    # copy the dataframe\n",
    "    # _df = ...\n",
    "    \n",
    "    # drop duplicates\n",
    "    # ...\n",
    "    \n",
    "    #return _df\n",
    "    \n",
    "    # YOUR CODE HERE\n",
    "    raise NotImplementedError()\n",
    "    "
   ]
  },
  {
   "cell_type": "code",
   "execution_count": null,
   "id": "22a0142c",
   "metadata": {
    "deletable": false,
    "editable": false,
    "nbgrader": {
     "grade": true,
     "grade_id": "cell-922e485e37aa2f9f",
     "locked": true,
     "points": 1,
     "schema_version": 3,
     "solution": false,
     "task": false
    }
   },
   "outputs": [],
   "source": [
    "clean_crset_df = drop_duplicated_entries(imputed_df)\n",
    "assert isinstance(clean_crset_df, pd.DataFrame), \"Should be a dataframe\"\n",
    "assert clean_crset_df.shape == (82870, 20), \"The shape of the dataframe is different then expected. Have you removed the duplicated rows?\" "
   ]
  },
  {
   "cell_type": "markdown",
   "id": "6ba45d4f",
   "metadata": {
    "deletable": false,
    "editable": false,
    "nbgrader": {
     "grade": false,
     "grade_id": "cell-30d6a0e2608a4104",
     "locked": true,
     "schema_version": 3,
     "solution": false,
     "task": false
    }
   },
   "source": [
    "Congratulations! The *CRSet() Hotel* dataset is looking very clean and tidy!\n",
    "![cr7](https://static.toiimg.com/thumb/msid-78693940,width-1200,height-900,resizemode-4/.jpg)"
   ]
  },
  {
   "cell_type": "markdown",
   "id": "c4e4567e",
   "metadata": {
    "deletable": false,
    "editable": false,
    "nbgrader": {
     "grade": false,
     "grade_id": "cell-c6502825d7d92e1b",
     "locked": true,
     "schema_version": 3,
     "solution": false,
     "task": false
    }
   },
   "source": [
    "## A mess to be tidy-up\n",
    "\n",
    "After nailing your first task, your manager things you're ready to face your next challenge! A World Health Organization (WHO) has been recording all the cases of tuberculosis as a way to monitor the incidency of disease in several countries over time. They have good intentions, but not very good methods to store data. Your manager warns you to prepare yourself...\n",
    "\n",
    "Let's look at the data."
   ]
  },
  {
   "cell_type": "code",
   "execution_count": null,
   "id": "28dd3487",
   "metadata": {
    "deletable": false,
    "editable": false,
    "nbgrader": {
     "grade": false,
     "grade_id": "cell-a9540248bf5e9462",
     "locked": true,
     "schema_version": 3,
     "solution": false,
     "task": false
    }
   },
   "outputs": [],
   "source": [
    "df_tb_who = pd.read_csv(os.path.join('data', 'tb.csv'), sep=',')\n",
    "df_tb_who.head()"
   ]
  },
  {
   "cell_type": "markdown",
   "id": "b2572cda",
   "metadata": {
    "deletable": false,
    "editable": false,
    "nbgrader": {
     "grade": false,
     "grade_id": "cell-6ca615b5895620ad",
     "locked": true,
     "schema_version": 3,
     "solution": false,
     "task": false
    }
   },
   "source": [
    "According to your data provider (the WHO), the dataset contains counts of confirmed tuberculosis cases by **country**, **year** and **demographic group**. The demographic data contains information on sex (*m* for male and *f* for female)  and age (*0-14, 15-24, 25-34, 35-44, 45-54, 55-64* and *65+*). "
   ]
  },
  {
   "cell_type": "markdown",
   "id": "3ea41e0c",
   "metadata": {
    "deletable": false,
    "editable": false,
    "nbgrader": {
     "grade": false,
     "grade_id": "cell-a98e3be81938db57",
     "locked": true,
     "schema_version": 3,
     "solution": false,
     "task": false
    }
   },
   "source": [
    "![tb](https://i.pinimg.com/originals/59/b4/35/59b4358ac8b3251a52d76c65cad0ee44.jpg)"
   ]
  },
  {
   "cell_type": "markdown",
   "id": "29005e7d",
   "metadata": {
    "deletable": false,
    "editable": false,
    "nbgrader": {
     "grade": false,
     "grade_id": "cell-6ea5fab94cdecf39",
     "locked": true,
     "schema_version": 3,
     "solution": false,
     "task": false
    }
   },
   "source": [
    "You have the data, in the `df_tb_who` variable, as provided. Except for the column `year`, the rest of the column names are not very intuitive. The column `iso2` contains the country code in *iso2 format*. The remaining columns are actually joint realizations of two variables: `sex` and `age`."
   ]
  },
  {
   "cell_type": "markdown",
   "id": "4469df8f",
   "metadata": {},
   "source": [
    "## Exercise 4 - Country \n",
    "\n",
    "Start by addressing the `iso2` column. Save in a new `country` column the corresponding country name from the iso2 code. *Hint* The pycountry-convert package is your friend! Check the documentation [here](https://pypi.org/project/pycountry-convert/). It's already imported as `cc`. Save the resulting dataframe in `df_tb_who_country`."
   ]
  },
  {
   "cell_type": "code",
   "execution_count": null,
   "id": "ecc1c7c2",
   "metadata": {
    "deletable": false,
    "nbgrader": {
     "grade": false,
     "grade_id": "cell-c70d7302fbae72b0",
     "locked": false,
     "schema_version": 3,
     "solution": true,
     "task": false
    }
   },
   "outputs": [],
   "source": [
    "#start by creating a function that recieves a iso2 code and returns the country name \n",
    "#hint: when a name can't be retrieved, the original code should be returned, as str\n",
    "#hint2: make sure to return the value as a string! \n",
    "#def get_country(x):\n",
    "#... \n",
    "\n",
    "# copy the dataframe\n",
    "# _df = ...\n",
    "\n",
    "# apply the `get_country()` function and store the results in a new column named \"country\"\n",
    "# _df['country'] = ...\n",
    "\n",
    "# drop the original \"iso2\" column and store the resulting dataframe in df_tb_who_country\n",
    "# df_tb_who_country = ...\n",
    "\n",
    "# YOUR CODE HERE\n",
    "raise NotImplementedError()"
   ]
  },
  {
   "cell_type": "code",
   "execution_count": null,
   "id": "59c2191b",
   "metadata": {
    "deletable": false,
    "editable": false,
    "nbgrader": {
     "grade": true,
     "grade_id": "cell-78a9eaeaa51da8b0",
     "locked": true,
     "points": 2,
     "schema_version": 3,
     "solution": false,
     "task": false
    }
   },
   "outputs": [],
   "source": [
    "assert isinstance(df_tb_who_country, pd.DataFrame), \"Should be a dataframe\"\n",
    "assert 'iso2' not in df_tb_who_country.columns, \"you should drop the original iso2 column\"\n",
    "assert 'country' in df_tb_who_country.columns, \"Have you stored the results in a new column named 'country'?\"\n",
    "assert hashlib.sha256(json.dumps(sorted(df_tb_who_country['country'].unique())).encode()).hexdigest() == '40515e68a196feaac974999d8d4fa9f3dd814e1bde66243a968fadf41a8e84de', \"Have you converted the iso2 codes to the country NAME?\""
   ]
  },
  {
   "cell_type": "markdown",
   "id": "81c86519",
   "metadata": {},
   "source": [
    "## Exercise 5 - the melt function\n",
    "\n",
    "Before we can do anything else, we need to \"tidy\" the dataframe. Use the function melt() from pandas to tidy the dataframe and store it in `tidy_tb`. Use as id the new `country` column and the `year` column. As variable name use `column` and as value names `cases`. \n"
   ]
  },
  {
   "cell_type": "code",
   "execution_count": null,
   "id": "628adf15",
   "metadata": {
    "deletable": false,
    "nbgrader": {
     "grade": false,
     "grade_id": "cell-6fd55136526d1de2",
     "locked": false,
     "schema_version": 3,
     "solution": true,
     "task": false
    }
   },
   "outputs": [],
   "source": [
    "#tidy_tb = pd.melt(...)\n",
    "# YOUR CODE HERE\n",
    "raise NotImplementedError()"
   ]
  },
  {
   "cell_type": "code",
   "execution_count": null,
   "id": "5386385b",
   "metadata": {
    "deletable": false,
    "editable": false,
    "nbgrader": {
     "grade": true,
     "grade_id": "cell-c7b7f19a19d6be01",
     "locked": true,
     "points": 2,
     "schema_version": 3,
     "solution": false,
     "task": false
    }
   },
   "outputs": [],
   "source": [
    "assert isinstance(tidy_tb, pd.DataFrame), \"Should be a dataframe\"\n",
    "assert tidy_tb.shape == (121149, 4), \"Your dataframe doesn't have the expected shape. Have you 'melted' the dataframe correctly?\"\n",
    "assert \"column\" in tidy_tb.columns, \"The variables other than 'country' and 'year' should be stored in a column named 'column'\"\n",
    "assert \"cases\" in tidy_tb.columns, \"Number of cases should be stored in a column named 'cases'\"\n",
    "assert hashlib.sha256(json.dumps(sorted(tidy_tb['column'])).encode()).hexdigest() == '4ba594d958d63b5bab87fe50944b16f30a93824e56fa331d5d9b59dddf285e35'\n",
    "assert hashlib.sha256(json.dumps(sorted(tidy_tb['cases'])).encode()).hexdigest() == '8a294cd49c8fc1b29b60893e45426a80cb9681be4c699ae950c7103552cc7153', \"Your cases column doesn't look as expected\""
   ]
  },
  {
   "cell_type": "markdown",
   "id": "0e50503c",
   "metadata": {
    "deletable": false,
    "editable": false,
    "nbgrader": {
     "grade": false,
     "grade_id": "cell-a3c6930dbf5b9ef6",
     "locked": true,
     "schema_version": 3,
     "solution": false,
     "task": false
    }
   },
   "source": [
    "## Exercise 6 - Data cleanup\n",
    "\n",
    "Our dataframe is tidy, but it's **not** clean. From the `tidy_tb` dataframe, drop all the rows where `cases` **OR** `country` is null, as we just don't have any information and we **cannot** assume that the number of cases is zero or the country of origin. The `cases` column should be set as *int*. Save the final dataframe in `clean_tidy_tb` sorted by `country`, `year` and then `column`. The indexes should be reset (with `drop=True`)."
   ]
  },
  {
   "cell_type": "code",
   "execution_count": null,
   "id": "4c0eed30",
   "metadata": {
    "deletable": false,
    "nbgrader": {
     "grade": false,
     "grade_id": "cell-9577b6eba97000ae",
     "locked": false,
     "schema_version": 3,
     "solution": true,
     "task": false
    }
   },
   "outputs": [],
   "source": [
    "#Drop rows with missing values (hint: notnull() function is your friend)\n",
    "#clean_tidy_tb = ...\n",
    "\n",
    "# Set country as \"nan\" to missing and drop them\n",
    "#clean_tidy_tb = ...\n",
    "\n",
    "#Sort and reset index\n",
    "#clean_tidy_tb = ...\n",
    "\n",
    "# YOUR CODE HERE\n",
    "raise NotImplementedError()"
   ]
  },
  {
   "cell_type": "code",
   "execution_count": null,
   "id": "54623e4e",
   "metadata": {
    "deletable": false,
    "editable": false,
    "nbgrader": {
     "grade": true,
     "grade_id": "cell-42fd7bf741b61410",
     "locked": true,
     "points": 2,
     "schema_version": 3,
     "solution": false,
     "task": false
    }
   },
   "outputs": [],
   "source": [
    "assert isinstance(clean_tidy_tb, pd.DataFrame), \"Should be a dataframe\"\n",
    "assert clean_tidy_tb.shape == (38619, 4), \"The shape of your \"\n",
    "assert hashlib.sha256(json.dumps(sorted(tidy_tb['country'])).encode()).hexdigest() == '43543c9e06fe9846897c269db635da02fc76dae4527775062a2f66efc707e87e'\n",
    "assert hashlib.sha256(json.dumps(sorted(tidy_tb['cases'])).encode()).hexdigest() == '8a294cd49c8fc1b29b60893e45426a80cb9681be4c699ae950c7103552cc7153'"
   ]
  },
  {
   "cell_type": "markdown",
   "id": "64d5939a",
   "metadata": {
    "deletable": false,
    "editable": false,
    "nbgrader": {
     "grade": false,
     "grade_id": "cell-efe3c1f80a242099",
     "locked": true,
     "schema_version": 3,
     "solution": false,
     "task": false
    }
   },
   "source": [
    "## Exercise 7 - Multiple Variables stored in one Column\n",
    "\n",
    "Our `clean_tidy_tb` is looking better, but now we need to address the problem of having multiple variables stored in the `column` column. Let's fix that in a few steps.\n",
    "\n"
   ]
  },
  {
   "cell_type": "markdown",
   "id": "2cd605ef",
   "metadata": {
    "deletable": false,
    "editable": false,
    "nbgrader": {
     "grade": false,
     "grade_id": "cell-29b2aec2de48149d",
     "locked": true,
     "schema_version": 3,
     "solution": false,
     "task": false
    }
   },
   "source": [
    "### Exercise 7.1 \n",
    "\n",
    "In `clean_tidy_tb`, first extract the information that it's a female or a male and store it in a column named `sex` and the code for the age in the column `age`. Use pandas' `str.extract` to do this. "
   ]
  },
  {
   "cell_type": "code",
   "execution_count": null,
   "id": "93348cec",
   "metadata": {
    "deletable": false,
    "nbgrader": {
     "grade": false,
     "grade_id": "cell-010b213892a15dcd",
     "locked": false,
     "schema_version": 3,
     "solution": true,
     "task": false
    }
   },
   "outputs": [],
   "source": [
    "#clean_tidy_tb[[\"sex\", \"age\"]] = clean_tidy_tb[\"column\"].str.extract(...)\n",
    "\n",
    "#drop all missing values\n",
    "#clean_tidy_tb = clean_tidy_tb.dropna()\n",
    "\n",
    "# YOUR CODE HERE\n",
    "raise NotImplementedError()"
   ]
  },
  {
   "cell_type": "code",
   "execution_count": null,
   "id": "99c275ac",
   "metadata": {
    "deletable": false,
    "editable": false,
    "nbgrader": {
     "grade": true,
     "grade_id": "cell-59b3a28814a74234",
     "locked": true,
     "points": 2,
     "schema_version": 3,
     "solution": false,
     "task": false
    }
   },
   "outputs": [],
   "source": [
    "assert isinstance(clean_tidy_tb, pd.DataFrame), \"Should be a dataframe\"\n",
    "assert clean_tidy_tb.shape == (35552, 6), \"The shape of your dataframe is off. Have you dropped the missing values?\"\n",
    "assert hashlib.sha256(json.dumps(sorted(clean_tidy_tb['sex'].unique())).encode()).hexdigest() == '1a336f5ee71cf591bfd047e8facc048011b4b2bb760743e979ebe7c445dacf1b'\n",
    "assert hashlib.sha256(json.dumps(sorted(clean_tidy_tb['age'].unique())).encode()).hexdigest() == '70a6918917681862857b955b14e70f7bc68d0050382ef81945fe963e48135f10'"
   ]
  },
  {
   "cell_type": "markdown",
   "id": "58e9fade",
   "metadata": {
    "deletable": false,
    "editable": false,
    "nbgrader": {
     "grade": false,
     "grade_id": "cell-bda729060158f3aa",
     "locked": true,
     "schema_version": 3,
     "solution": false,
     "task": false
    }
   },
   "source": [
    "### Exercise 7.2\n",
    "\n",
    "The values in your `age` column are not very easy to understand. Use the `decode_age` dictionary to convert them to a more readable format"
   ]
  },
  {
   "cell_type": "code",
   "execution_count": null,
   "id": "bdb47e10",
   "metadata": {
    "deletable": false,
    "editable": false,
    "nbgrader": {
     "grade": false,
     "grade_id": "cell-dc2eced9420c20b8",
     "locked": true,
     "schema_version": 3,
     "solution": false,
     "task": false
    }
   },
   "outputs": [],
   "source": [
    "decode_age =   {\n",
    "        \"014\": \"0-14\",\n",
    "        \"1524\": \"15-24\",\n",
    "        \"2534\": \"25-34\",\n",
    "        \"3544\": \"35-44\",\n",
    "        \"4554\": \"45-54\",\n",
    "        \"5564\": \"55-64\",\n",
    "        \"65\": \"65+\",\n",
    "        \"u\": \"unknown\",\n",
    "    }"
   ]
  },
  {
   "cell_type": "code",
   "execution_count": null,
   "id": "65beb34c",
   "metadata": {
    "deletable": false,
    "nbgrader": {
     "grade": false,
     "grade_id": "cell-5da3dd934bfb0944",
     "locked": false,
     "schema_version": 3,
     "solution": true,
     "task": false
    }
   },
   "outputs": [],
   "source": [
    "# clean_tidy_tb[\"age\"] = ...\n",
    "\n",
    "#drop any row where the values could not be converted\n",
    "\n",
    "# YOUR CODE HERE\n",
    "raise NotImplementedError()"
   ]
  },
  {
   "cell_type": "code",
   "execution_count": null,
   "id": "f9b7800d",
   "metadata": {
    "deletable": false,
    "editable": false,
    "nbgrader": {
     "grade": true,
     "grade_id": "cell-d6f8a9b49d1bb1f6",
     "locked": true,
     "points": 1,
     "schema_version": 3,
     "solution": false,
     "task": false
    }
   },
   "outputs": [],
   "source": [
    "assert hashlib.sha256(json.dumps(sorted(clean_tidy_tb['age'].unique())).encode()).hexdigest() == '8135dd0c090f9073cbb69a7bbacefd8ad0ecdb6e26415ece93e3fb5f8f5d17e6'"
   ]
  },
  {
   "cell_type": "markdown",
   "id": "0a5e8e05",
   "metadata": {
    "deletable": false,
    "editable": false,
    "nbgrader": {
     "grade": false,
     "grade_id": "cell-33c22bb906ad7ae8",
     "locked": true,
     "schema_version": 3,
     "solution": false,
     "task": false
    }
   },
   "source": [
    "### Exercise 7.3\n",
    "\n",
    "Finally, save in `final_tb_df` the dataframe with just the columns \"country\", \"year\", \"sex\", \"age\" and \"cases\"."
   ]
  },
  {
   "cell_type": "code",
   "execution_count": null,
   "id": "d7260cee",
   "metadata": {
    "deletable": false,
    "nbgrader": {
     "grade": false,
     "grade_id": "cell-740d1b402b3e1cdd",
     "locked": false,
     "schema_version": 3,
     "solution": true,
     "task": false
    }
   },
   "outputs": [],
   "source": [
    "# final_tb_df = ...\n",
    "# YOUR CODE HERE\n",
    "raise NotImplementedError()"
   ]
  },
  {
   "cell_type": "code",
   "execution_count": null,
   "id": "858119af",
   "metadata": {
    "deletable": false,
    "editable": false,
    "nbgrader": {
     "grade": true,
     "grade_id": "cell-ebe6d59edb53d1bf",
     "locked": true,
     "points": 1,
     "schema_version": 3,
     "solution": false,
     "task": false
    }
   },
   "outputs": [],
   "source": [
    "assert isinstance(final_tb_df, pd.DataFrame), \"Should be a dataframe\"\n",
    "assert final_tb_df.shape == (33962, 5), \"The shape of your dataframe is off\"\n",
    "assert sorted(final_tb_df.columns) == ['age', 'cases', 'country', 'sex', 'year']"
   ]
  },
  {
   "cell_type": "markdown",
   "id": "412717aa",
   "metadata": {
    "deletable": false,
    "editable": false,
    "nbgrader": {
     "grade": false,
     "grade_id": "cell-e4c77887957ce018",
     "locked": true,
     "schema_version": 3,
     "solution": false,
     "task": false
    }
   },
   "source": [
    "Congratulations!!! You're a data cleaning master!"
   ]
  },
  {
   "cell_type": "markdown",
   "id": "0381a077",
   "metadata": {},
   "source": [
    "![cleaning](https://mlgq5aailvbd.i.optimole.com/elKhEKc-U13ryZPl/w:1068/h:712/q:auto/https://www.urbancleanpro.com/wp-content/uploads/2019/11/good-job.jpg)"
   ]
  },
  {
   "cell_type": "code",
   "execution_count": null,
   "id": "20ad73dd",
   "metadata": {},
   "outputs": [],
   "source": []
  }
 ],
 "metadata": {
  "kernelspec": {
   "display_name": "Python 3",
   "language": "python",
   "name": "python3"
  },
  "language_info": {
   "codemirror_mode": {
    "name": "ipython",
    "version": 3
   },
   "file_extension": ".py",
   "mimetype": "text/x-python",
   "name": "python",
   "nbconvert_exporter": "python",
   "pygments_lexer": "ipython3",
   "version": "3.7.10"
  }
 },
 "nbformat": 4,
 "nbformat_minor": 5
}
