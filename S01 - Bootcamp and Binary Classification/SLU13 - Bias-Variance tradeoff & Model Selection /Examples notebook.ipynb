{
 "cells": [
  {
   "cell_type": "markdown",
   "metadata": {},
   "source": [
    "# SLU13: Bias-Variance trade-off & Model Selection -- Examples\n",
    "\n",
    "---\n",
    "\n",
    "<a id='top'></a>\n",
    "\n",
    "### 1. Model evaluation\n",
    "* a. [Train-test split](#traintest)\n",
    "* b. [Train-val-test split](#val)\n",
    "* c. [Cross validation](#crossval)\n",
    "\n",
    "\n",
    "### 2. [Learning curves](#learningcurves)\n"
   ]
  },
  {
   "cell_type": "markdown",
   "metadata": {},
   "source": [
    "# 1. Model evaluation"
   ]
  },
  {
   "cell_type": "code",
   "execution_count": 1,
   "metadata": {},
   "outputs": [],
   "source": [
    "import matplotlib.pyplot as plt\n",
    "import pandas as pd\n",
    "import numpy as np\n",
    "\n",
    "from sklearn.neighbors import KNeighborsClassifier\n",
    "from sklearn.tree import DecisionTreeClassifier\n",
    "\n",
    "from sklearn.model_selection import learning_curve\n",
    "\n",
    "%matplotlib inline"
   ]
  },
  {
   "cell_type": "code",
   "execution_count": 2,
   "metadata": {},
   "outputs": [],
   "source": [
    "# Create the DataFrame with the data\n",
    "df = pd.read_csv(\"data/beer.csv\")\n",
    "\n",
    "# Create a DataFrame with the features (X) and labels (y)\n",
    "X = df.drop([\"IsIPA\"], axis=1)\n",
    "y = df[\"IsIPA\"]"
   ]
  },
  {
   "cell_type": "code",
   "execution_count": 3,
   "metadata": {},
   "outputs": [
    {
     "name": "stdout",
     "output_type": "stream",
     "text": [
      "Number of entries:  1000\n"
     ]
    }
   ],
   "source": [
    "print(\"Number of entries: \", X.shape[0])"
   ]
  },
  {
   "cell_type": "markdown",
   "metadata": {},
   "source": [
    "<a id='traintest'></a> [Return to top](#top)\n",
    "## Create a training and a test set"
   ]
  },
  {
   "cell_type": "code",
   "execution_count": 4,
   "metadata": {},
   "outputs": [],
   "source": [
    "from sklearn.model_selection import train_test_split"
   ]
  },
  {
   "cell_type": "code",
   "execution_count": 5,
   "metadata": {},
   "outputs": [],
   "source": [
    "# Using 20 % of the data as test set\n",
    "X_train, X_test, y_train, y_test = train_test_split(X, y, test_size=0.2)"
   ]
  },
  {
   "cell_type": "code",
   "execution_count": 6,
   "metadata": {},
   "outputs": [
    {
     "name": "stdout",
     "output_type": "stream",
     "text": [
      "Number of training entries:  800\n",
      "Number of test entries:  200\n"
     ]
    }
   ],
   "source": [
    "print(\"Number of training entries: \", X_train.shape[0])\n",
    "print(\"Number of test entries: \", X_test.shape[0])"
   ]
  },
  {
   "cell_type": "markdown",
   "metadata": {},
   "source": [
    "<a id='val'></a> [Return to top](#top)\n",
    "## Create a training, test and validation set"
   ]
  },
  {
   "cell_type": "code",
   "execution_count": 7,
   "metadata": {},
   "outputs": [],
   "source": [
    "# Using 20 % as test set and 20 % as validation set\n",
    "X_train, X_temp, y_train, y_temp = train_test_split(X, y, test_size=0.4)\n",
    "X_val, X_test, y_val, y_test = train_test_split(X_temp, y_temp, test_size=0.50)"
   ]
  },
  {
   "cell_type": "code",
   "execution_count": 8,
   "metadata": {},
   "outputs": [
    {
     "name": "stdout",
     "output_type": "stream",
     "text": [
      "Number of training entries:  600\n",
      "Number of validation entries:  200\n",
      "Number of test entries:  200\n"
     ]
    }
   ],
   "source": [
    "print(\"Number of training entries: \", X_train.shape[0])\n",
    "print(\"Number of validation entries: \", X_val.shape[0])\n",
    "print(\"Number of test entries: \", X_test.shape[0])"
   ]
  },
  {
   "cell_type": "markdown",
   "metadata": {},
   "source": [
    "<a id='crossval'></a> [Return to top](#top)\n",
    "\n",
    "## Use cross-validation (using a given classifier)"
   ]
  },
  {
   "cell_type": "code",
   "execution_count": 9,
   "metadata": {},
   "outputs": [],
   "source": [
    "from sklearn.model_selection import cross_val_score"
   ]
  },
  {
   "cell_type": "code",
   "execution_count": 10,
   "metadata": {},
   "outputs": [],
   "source": [
    "knn = KNeighborsClassifier(n_neighbors=5)\n",
    "# Use cv to specify the number of folds\n",
    "scores = cross_val_score(knn, X, y, cv=5)"
   ]
  },
  {
   "cell_type": "code",
   "execution_count": 11,
   "metadata": {},
   "outputs": [
    {
     "name": "stdout",
     "output_type": "stream",
     "text": [
      "Mean of scores: 0.916\n",
      "Variance of scores: 0.000\n"
     ]
    }
   ],
   "source": [
    "print(f\"Mean of scores: {scores.mean():.3f}\")\n",
    "print(f\"Variance of scores: {scores.var():.3f}\")"
   ]
  },
  {
   "cell_type": "markdown",
   "metadata": {},
   "source": [
    "<a id='learningcurves'></a> [Return to top](#top)\n",
    "\n",
    "# 2. Learning Curves"
   ]
  },
  {
   "cell_type": "markdown",
   "metadata": {},
   "source": [
    "Here is the function that is taken from the sklearn page on learning curves:"
   ]
  },
  {
   "cell_type": "code",
   "execution_count": 12,
   "metadata": {},
   "outputs": [],
   "source": [
    "def plot_learning_curve(estimator, title, X, y, ylim=None, cv=None,\n",
    "                        n_jobs=1, train_sizes=np.linspace(.1, 1.0, 5)):\n",
    "    \"\"\"\n",
    "    Generate a simple plot of the test and training learning curve.\n",
    "\n",
    "    Parameters\n",
    "    ----------\n",
    "    estimator : object type that implements the \"fit\" and \"predict\" methods\n",
    "        An object of that type which is cloned for each validation.\n",
    "\n",
    "    title : string\n",
    "        Title for the chart.\n",
    "\n",
    "    X : array-like, shape (n_samples, n_features)\n",
    "        Training vector, where n_samples is the number of samples and\n",
    "        n_features is the number of features.\n",
    "\n",
    "    y : array-like, shape (n_samples) or (n_samples, n_features), optional\n",
    "        Target relative to X for classification or regression;\n",
    "        None for unsupervised learning.\n",
    "\n",
    "    ylim : tuple, shape (ymin, ymax), optional\n",
    "        Defines minimum and maximum yvalues plotted.\n",
    "\n",
    "    cv : int, cross-validation generator or an iterable, optional\n",
    "        Determines the cross-validation splitting strategy.\n",
    "        Possible inputs for cv are:\n",
    "          - None, to use the default 3-fold cross-validation,\n",
    "          - integer, to specify the number of folds.\n",
    "          - An object to be used as a cross-validation generator.\n",
    "          - An iterable yielding train/test splits.\n",
    "\n",
    "        For integer/None inputs, if ``y`` is binary or multiclass,\n",
    "        :class:`StratifiedKFold` used. If the estimator is not a classifier\n",
    "        or if ``y`` is neither binary nor multiclass, :class:`KFold` is used.\n",
    "\n",
    "        Refer :ref:`User Guide <cross_validation>` for the various\n",
    "        cross-validators that can be used here.\n",
    "\n",
    "    n_jobs : integer, optional\n",
    "        Number of jobs to run in parallel (default 1).\n",
    "    \"\"\"\n",
    "    plt.figure()\n",
    "    plt.title(title)\n",
    "    if ylim is not None:\n",
    "        plt.ylim(*ylim)\n",
    "    plt.xlabel(\"Training examples\")\n",
    "    plt.ylabel(\"Score\")\n",
    "    train_sizes, train_scores, test_scores = learning_curve(\n",
    "        estimator, X, y, cv=cv, n_jobs=n_jobs, train_sizes=train_sizes)\n",
    "    train_scores_mean = np.mean(train_scores, axis=1)\n",
    "    train_scores_std = np.std(train_scores, axis=1)\n",
    "    test_scores_mean = np.mean(test_scores, axis=1)\n",
    "    test_scores_std = np.std(test_scores, axis=1)\n",
    "    plt.grid()\n",
    "\n",
    "    plt.fill_between(train_sizes, train_scores_mean - train_scores_std,\n",
    "                     train_scores_mean + train_scores_std, alpha=0.1,\n",
    "                     color=\"r\")\n",
    "    plt.fill_between(train_sizes, test_scores_mean - test_scores_std,\n",
    "                     test_scores_mean + test_scores_std, alpha=0.1, color=\"g\")\n",
    "    plt.plot(train_sizes, train_scores_mean, 'o-', color=\"r\",\n",
    "             label=\"Training score\")\n",
    "    plt.plot(train_sizes, test_scores_mean, 'o-', color=\"g\",\n",
    "             label=\"Test Set score\")\n",
    "\n",
    "    plt.legend(loc=\"best\")\n",
    "    return plt"
   ]
  },
  {
   "cell_type": "code",
   "execution_count": 13,
   "metadata": {},
   "outputs": [
    {
     "data": {
      "image/png": "[encoded data removed]",
      "text/plain": [
       "<Figure size 432x288 with 1 Axes>"
      ]
     },
     "metadata": {
      "needs_background": "light"
     },
     "output_type": "display_data"
    }
   ],
   "source": [
    "# and this is how we used it\n",
    "\n",
    "X = df.select_dtypes(exclude='object').fillna(-1).drop('IsIPA', axis=1)\n",
    "y = df.IsIPA\n",
    "\n",
    "clf = DecisionTreeClassifier(random_state=1, max_depth=5)\n",
    "\n",
    "plot_learning_curve(X=X, y=y, estimator=clf, title='DecisionTreeClassifier');"
   ]
  },
  {
   "cell_type": "markdown",
   "metadata": {},
   "source": [
    "And remember the internals of what this function is actually doing by knowing how to use the\n",
    "output of the scikit [learning_curve](http://scikit-learn.org/stable/modules/generated/sklearn.model_selection.learning_curve.html) function"
   ]
  },
  {
   "cell_type": "code",
   "execution_count": 14,
   "metadata": {},
   "outputs": [
    {
     "name": "stdout",
     "output_type": "stream",
     "text": [
      "train set sizes [ 80 260 440 620 800]\n",
      "test set sizes [920 740 560 380 200]\n"
     ]
    }
   ],
   "source": [
    "# here's where the magic happens! The learning curve function is going\n",
    "# to take your classifier and your training data and subset the data\n",
    "train_sizes, train_scores, test_scores = learning_curve(clf, X, y)\n",
    "\n",
    "# 5 different training set sizes have been selected\n",
    "# with the smallest being 59 and the largest being 594\n",
    "# the remaining is used for testing\n",
    "print('train set sizes', train_sizes)\n",
    "print('test set sizes', X.shape[0] - train_sizes)"
   ]
  },
  {
   "cell_type": "code",
   "execution_count": 15,
   "metadata": {},
   "outputs": [
    {
     "data": {
      "text/plain": [
       "array([[0.975     , 0.9875    , 0.9875    , 0.9875    , 0.9875    ],\n",
       "       [0.93846154, 0.97307692, 0.95769231, 0.95769231, 0.95769231],\n",
       "       [0.95      , 0.96136364, 0.95227273, 0.94772727, 0.94772727],\n",
       "       [0.94032258, 0.95      , 0.94193548, 0.94677419, 0.94516129],\n",
       "       [0.945     , 0.95125   , 0.94125   , 0.94375   , 0.94125   ]])"
      ]
     },
     "execution_count": 15,
     "metadata": {},
     "output_type": "execute_result"
    }
   ],
   "source": [
    "# each row corresponds to a training set size\n",
    "# each column corresponds to a cross validation fold\n",
    "# the first row is the highest because it corresponds\n",
    "# to the smallest training set which means that it's very\n",
    "# easy for the classifier to overfit and have perfect\n",
    "# test set predictions while as the test set grows it\n",
    "# becomes a bit more difficult for this to happen.\n",
    "train_scores"
   ]
  },
  {
   "cell_type": "code",
   "execution_count": 16,
   "metadata": {},
   "outputs": [
    {
     "data": {
      "text/plain": [
       "array([[0.885, 0.855, 0.905, 0.855, 0.87 ],\n",
       "       [0.875, 0.905, 0.915, 0.915, 0.92 ],\n",
       "       [0.87 , 0.905, 0.885, 0.915, 0.92 ],\n",
       "       [0.91 , 0.9  , 0.91 , 0.905, 0.93 ],\n",
       "       [0.905, 0.915, 0.92 , 0.915, 0.91 ]])"
      ]
     },
     "execution_count": 16,
     "metadata": {},
     "output_type": "execute_result"
    }
   ],
   "source": [
    "# The test set scores where again, each row corresponds\n",
    "# to a train / test set size and each column is a differet\n",
    "# run with the same train / test sizes\n",
    "test_scores"
   ]
  },
  {
   "cell_type": "code",
   "execution_count": 17,
   "metadata": {},
   "outputs": [],
   "source": [
    "# Let's average the scores across each fold so that we can plot them\n",
    "train_scores_mean = np.mean(train_scores, axis=1)\n",
    "test_scores_mean = np.mean(test_scores, axis=1)"
   ]
  },
  {
   "cell_type": "code",
   "execution_count": 18,
   "metadata": {},
   "outputs": [
    {
     "data": {
      "image/png": "[encoded data removed]",
      "text/plain": [
       "<Figure size 432x288 with 1 Axes>"
      ]
     },
     "metadata": {
      "needs_background": "light"
     },
     "output_type": "display_data"
    }
   ],
   "source": [
    "# this one isn't quite as cool as the other because it doesn't show the variance\n",
    "# but the fundamentals are still here and it's a much simpler one to understand\n",
    "\n",
    "learning_curve_df = pd.DataFrame({\n",
    "    'Training score': train_scores_mean,\n",
    "    'Test Set score': test_scores_mean\n",
    "}, index=train_sizes)\n",
    "\n",
    "plt.figure()\n",
    "plt.ylabel(\"Score\")\n",
    "plt.xlabel(\"Training examples\")\n",
    "plt.title('Learning Curve')\n",
    "plt.plot(learning_curve_df);\n",
    "plt.legend(learning_curve_df.columns, loc=\"best\");\n"
   ]
  }
 ],
 "metadata": {
  "kernelspec": {
   "display_name": "Python 3",
   "language": "python",
   "name": "python3"
  },
  "language_info": {
   "codemirror_mode": {
    "name": "ipython",
    "version": 3
   },
   "file_extension": ".py",
   "mimetype": "text/x-python",
   "name": "python",
   "nbconvert_exporter": "python",
   "pygments_lexer": "ipython3",
   "version": "3.7.8"
  }
 },
 "nbformat": 4,
 "nbformat_minor": 2
}
