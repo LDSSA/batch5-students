{
 "cells": [
  {
   "cell_type": "markdown",
   "metadata": {},
   "source": [
    "# SLU 05 - Covariance and Correlation: Example notebook"
   ]
  },
  {
   "cell_type": "code",
   "execution_count": 1,
   "metadata": {},
   "outputs": [],
   "source": [
    "import pandas as pd \n",
    "import numpy as np \n",
    "\n",
    "# just to get rid of an annoying numpy warning \n",
    "import warnings\n",
    "warnings.filterwarnings(\"ignore\", message=\"numpy.dtype size changed\")\n",
    "\n",
    "import seaborn as sns\n",
    "from matplotlib import pyplot as plt \n",
    "%matplotlib inline"
   ]
  },
  {
   "cell_type": "markdown",
   "metadata": {},
   "source": [
    "In this notebook, you will see examples on how to calculate:\n",
    "    - Covariance \n",
    "    - Pearson correlation\n",
    "    - Spearman correlation\n",
    "    - Correlation matrix\n",
    "\n",
    "You will also find examples of:\n",
    "    - Spurious correlations\n",
    "    - Observational and Experimental Data"
   ]
  },
  {
   "cell_type": "markdown",
   "metadata": {},
   "source": [
    "## Loading and previewing the data"
   ]
  },
  {
   "cell_type": "code",
   "execution_count": 2,
   "metadata": {},
   "outputs": [
    {
     "data": {
      "text/html": [
       "<div>\n",
       "<style scoped>\n",
       "    .dataframe tbody tr th:only-of-type {\n",
       "        vertical-align: middle;\n",
       "    }\n",
       "\n",
       "    .dataframe tbody tr th {\n",
       "        vertical-align: top;\n",
       "    }\n",
       "\n",
       "    .dataframe thead th {\n",
       "        text-align: right;\n",
       "    }\n",
       "</style>\n",
       "<table border=\"1\" class=\"dataframe\">\n",
       "  <thead>\n",
       "    <tr style=\"text-align: right;\">\n",
       "      <th></th>\n",
       "      <th>crime</th>\n",
       "      <th>industrial</th>\n",
       "      <th>river</th>\n",
       "      <th>buildings_age</th>\n",
       "      <th>roads_quality</th>\n",
       "      <th>school_quality</th>\n",
       "      <th>taxes</th>\n",
       "      <th>poverty</th>\n",
       "      <th>house_price</th>\n",
       "      <th>number_of_rooms</th>\n",
       "      <th>pollution</th>\n",
       "    </tr>\n",
       "  </thead>\n",
       "  <tbody>\n",
       "    <tr>\n",
       "      <th>0</th>\n",
       "      <td>0.00632</td>\n",
       "      <td>2.31</td>\n",
       "      <td>0</td>\n",
       "      <td>65.2</td>\n",
       "      <td>1</td>\n",
       "      <td>15.3</td>\n",
       "      <td>296</td>\n",
       "      <td>4.98</td>\n",
       "      <td>24.0</td>\n",
       "      <td>6.575</td>\n",
       "      <td>0.538</td>\n",
       "    </tr>\n",
       "    <tr>\n",
       "      <th>1</th>\n",
       "      <td>0.02731</td>\n",
       "      <td>7.07</td>\n",
       "      <td>0</td>\n",
       "      <td>78.9</td>\n",
       "      <td>2</td>\n",
       "      <td>17.8</td>\n",
       "      <td>242</td>\n",
       "      <td>9.14</td>\n",
       "      <td>21.6</td>\n",
       "      <td>6.421</td>\n",
       "      <td>0.469</td>\n",
       "    </tr>\n",
       "    <tr>\n",
       "      <th>2</th>\n",
       "      <td>0.03237</td>\n",
       "      <td>2.18</td>\n",
       "      <td>0</td>\n",
       "      <td>45.8</td>\n",
       "      <td>3</td>\n",
       "      <td>18.7</td>\n",
       "      <td>222</td>\n",
       "      <td>2.94</td>\n",
       "      <td>33.4</td>\n",
       "      <td>6.998</td>\n",
       "      <td>0.458</td>\n",
       "    </tr>\n",
       "    <tr>\n",
       "      <th>3</th>\n",
       "      <td>0.06905</td>\n",
       "      <td>2.18</td>\n",
       "      <td>0</td>\n",
       "      <td>54.2</td>\n",
       "      <td>3</td>\n",
       "      <td>18.7</td>\n",
       "      <td>222</td>\n",
       "      <td>5.33</td>\n",
       "      <td>36.2</td>\n",
       "      <td>7.147</td>\n",
       "      <td>0.458</td>\n",
       "    </tr>\n",
       "    <tr>\n",
       "      <th>4</th>\n",
       "      <td>0.08829</td>\n",
       "      <td>7.87</td>\n",
       "      <td>0</td>\n",
       "      <td>66.6</td>\n",
       "      <td>5</td>\n",
       "      <td>15.2</td>\n",
       "      <td>311</td>\n",
       "      <td>12.43</td>\n",
       "      <td>22.9</td>\n",
       "      <td>6.012</td>\n",
       "      <td>0.524</td>\n",
       "    </tr>\n",
       "  </tbody>\n",
       "</table>\n",
       "</div>"
      ],
      "text/plain": [
       "     crime  industrial  river  buildings_age  roads_quality  school_quality  \\\n",
       "0  0.00632        2.31      0           65.2              1            15.3   \n",
       "1  0.02731        7.07      0           78.9              2            17.8   \n",
       "2  0.03237        2.18      0           45.8              3            18.7   \n",
       "3  0.06905        2.18      0           54.2              3            18.7   \n",
       "4  0.08829        7.87      0           66.6              5            15.2   \n",
       "\n",
       "   taxes  poverty  house_price  number_of_rooms  pollution  \n",
       "0    296     4.98         24.0            6.575      0.538  \n",
       "1    242     9.14         21.6            6.421      0.469  \n",
       "2    222     2.94         33.4            6.998      0.458  \n",
       "3    222     5.33         36.2            7.147      0.458  \n",
       "4    311    12.43         22.9            6.012      0.524  "
      ]
     },
     "execution_count": 2,
     "metadata": {},
     "output_type": "execute_result"
    }
   ],
   "source": [
    "housing_data = pd.read_csv('data/HousingData.csv')\n",
    "\n",
    "housing_data.head()"
   ]
  },
  {
   "cell_type": "markdown",
   "metadata": {},
   "source": [
    "# Covariance\n",
    "\n",
    "Calculating the covariance between `crime` and `poverty`:"
   ]
  },
  {
   "cell_type": "code",
   "execution_count": 3,
   "metadata": {},
   "outputs": [
    {
     "data": {
      "text/plain": [
       "27.6490051654718"
      ]
     },
     "execution_count": 3,
     "metadata": {},
     "output_type": "execute_result"
    }
   ],
   "source": [
    "housing_data['crime'].cov(housing_data['poverty'])"
   ]
  },
  {
   "cell_type": "markdown",
   "metadata": {},
   "source": [
    "# Pearson correlation\n",
    "\n",
    "Calculating the Pearson correlation between `crime` and `poverty`:"
   ]
  },
  {
   "cell_type": "code",
   "execution_count": 4,
   "metadata": {},
   "outputs": [
    {
     "data": {
      "text/plain": [
       "0.5320774845476307"
      ]
     },
     "execution_count": 4,
     "metadata": {},
     "output_type": "execute_result"
    }
   ],
   "source": [
    "housing_data['crime'].corr(housing_data['poverty'], method='pearson')"
   ]
  },
  {
   "cell_type": "markdown",
   "metadata": {},
   "source": [
    "# Spearman correlation\n",
    "\n",
    "Calculating the Spearman correlation between `crime` and `poverty`:"
   ]
  },
  {
   "cell_type": "code",
   "execution_count": 5,
   "metadata": {},
   "outputs": [
    {
     "data": {
      "text/plain": [
       "0.6280328734316944"
      ]
     },
     "execution_count": 5,
     "metadata": {},
     "output_type": "execute_result"
    }
   ],
   "source": [
    "housing_data['crime'].corr(housing_data['poverty'], method='spearman')"
   ]
  },
  {
   "cell_type": "markdown",
   "metadata": {},
   "source": [
    "# Correlation matrix"
   ]
  },
  {
   "cell_type": "markdown",
   "metadata": {},
   "source": [
    "Using the standard Pandas method:"
   ]
  },
  {
   "cell_type": "code",
   "execution_count": 6,
   "metadata": {},
   "outputs": [
    {
     "data": {
      "text/html": [
       "<div>\n",
       "<style scoped>\n",
       "    .dataframe tbody tr th:only-of-type {\n",
       "        vertical-align: middle;\n",
       "    }\n",
       "\n",
       "    .dataframe tbody tr th {\n",
       "        vertical-align: top;\n",
       "    }\n",
       "\n",
       "    .dataframe thead th {\n",
       "        text-align: right;\n",
       "    }\n",
       "</style>\n",
       "<table border=\"1\" class=\"dataframe\">\n",
       "  <thead>\n",
       "    <tr style=\"text-align: right;\">\n",
       "      <th></th>\n",
       "      <th>crime</th>\n",
       "      <th>industrial</th>\n",
       "      <th>river</th>\n",
       "      <th>buildings_age</th>\n",
       "      <th>roads_quality</th>\n",
       "      <th>school_quality</th>\n",
       "      <th>taxes</th>\n",
       "      <th>poverty</th>\n",
       "      <th>house_price</th>\n",
       "      <th>number_of_rooms</th>\n",
       "      <th>pollution</th>\n",
       "    </tr>\n",
       "  </thead>\n",
       "  <tbody>\n",
       "    <tr>\n",
       "      <th>crime</th>\n",
       "      <td>1.000000</td>\n",
       "      <td>0.422228</td>\n",
       "      <td>-0.041195</td>\n",
       "      <td>0.379034</td>\n",
       "      <td>0.666636</td>\n",
       "      <td>0.313409</td>\n",
       "      <td>0.617081</td>\n",
       "      <td>0.532077</td>\n",
       "      <td>-0.407454</td>\n",
       "      <td>-0.310180</td>\n",
       "      <td>0.463001</td>\n",
       "    </tr>\n",
       "    <tr>\n",
       "      <th>industrial</th>\n",
       "      <td>0.422228</td>\n",
       "      <td>1.000000</td>\n",
       "      <td>0.037496</td>\n",
       "      <td>0.638378</td>\n",
       "      <td>0.569779</td>\n",
       "      <td>0.391087</td>\n",
       "      <td>0.708313</td>\n",
       "      <td>0.614155</td>\n",
       "      <td>-0.473932</td>\n",
       "      <td>-0.440365</td>\n",
       "      <td>0.750087</td>\n",
       "    </tr>\n",
       "    <tr>\n",
       "      <th>river</th>\n",
       "      <td>-0.041195</td>\n",
       "      <td>0.037496</td>\n",
       "      <td>1.000000</td>\n",
       "      <td>0.068286</td>\n",
       "      <td>0.007714</td>\n",
       "      <td>-0.125067</td>\n",
       "      <td>-0.021826</td>\n",
       "      <td>-0.050055</td>\n",
       "      <td>0.204390</td>\n",
       "      <td>0.112251</td>\n",
       "      <td>0.080275</td>\n",
       "    </tr>\n",
       "    <tr>\n",
       "      <th>buildings_age</th>\n",
       "      <td>0.379034</td>\n",
       "      <td>0.638378</td>\n",
       "      <td>0.068286</td>\n",
       "      <td>1.000000</td>\n",
       "      <td>0.447380</td>\n",
       "      <td>0.259293</td>\n",
       "      <td>0.511893</td>\n",
       "      <td>0.588834</td>\n",
       "      <td>-0.358888</td>\n",
       "      <td>-0.248573</td>\n",
       "      <td>0.736000</td>\n",
       "    </tr>\n",
       "    <tr>\n",
       "      <th>roads_quality</th>\n",
       "      <td>0.666636</td>\n",
       "      <td>0.569779</td>\n",
       "      <td>0.007714</td>\n",
       "      <td>0.447380</td>\n",
       "      <td>1.000000</td>\n",
       "      <td>0.470849</td>\n",
       "      <td>0.903562</td>\n",
       "      <td>0.484568</td>\n",
       "      <td>-0.352251</td>\n",
       "      <td>-0.272783</td>\n",
       "      <td>0.612180</td>\n",
       "    </tr>\n",
       "    <tr>\n",
       "      <th>school_quality</th>\n",
       "      <td>0.313409</td>\n",
       "      <td>0.391087</td>\n",
       "      <td>-0.125067</td>\n",
       "      <td>0.259293</td>\n",
       "      <td>0.470849</td>\n",
       "      <td>1.000000</td>\n",
       "      <td>0.467437</td>\n",
       "      <td>0.374802</td>\n",
       "      <td>-0.481376</td>\n",
       "      <td>-0.366927</td>\n",
       "      <td>0.192513</td>\n",
       "    </tr>\n",
       "    <tr>\n",
       "      <th>taxes</th>\n",
       "      <td>0.617081</td>\n",
       "      <td>0.708313</td>\n",
       "      <td>-0.021826</td>\n",
       "      <td>0.511893</td>\n",
       "      <td>0.903562</td>\n",
       "      <td>0.467437</td>\n",
       "      <td>1.000000</td>\n",
       "      <td>0.544485</td>\n",
       "      <td>-0.448078</td>\n",
       "      <td>-0.356987</td>\n",
       "      <td>0.670722</td>\n",
       "    </tr>\n",
       "    <tr>\n",
       "      <th>poverty</th>\n",
       "      <td>0.532077</td>\n",
       "      <td>0.614155</td>\n",
       "      <td>-0.050055</td>\n",
       "      <td>0.588834</td>\n",
       "      <td>0.484568</td>\n",
       "      <td>0.374802</td>\n",
       "      <td>0.544485</td>\n",
       "      <td>1.000000</td>\n",
       "      <td>-0.738600</td>\n",
       "      <td>-0.615747</td>\n",
       "      <td>0.598874</td>\n",
       "    </tr>\n",
       "    <tr>\n",
       "      <th>house_price</th>\n",
       "      <td>-0.407454</td>\n",
       "      <td>-0.473932</td>\n",
       "      <td>0.204390</td>\n",
       "      <td>-0.358888</td>\n",
       "      <td>-0.352251</td>\n",
       "      <td>-0.481376</td>\n",
       "      <td>-0.448078</td>\n",
       "      <td>-0.738600</td>\n",
       "      <td>1.000000</td>\n",
       "      <td>0.689598</td>\n",
       "      <td>-0.413054</td>\n",
       "    </tr>\n",
       "    <tr>\n",
       "      <th>number_of_rooms</th>\n",
       "      <td>-0.310180</td>\n",
       "      <td>-0.440365</td>\n",
       "      <td>0.112251</td>\n",
       "      <td>-0.248573</td>\n",
       "      <td>-0.272783</td>\n",
       "      <td>-0.366927</td>\n",
       "      <td>-0.356987</td>\n",
       "      <td>-0.615747</td>\n",
       "      <td>0.689598</td>\n",
       "      <td>1.000000</td>\n",
       "      <td>-0.338515</td>\n",
       "    </tr>\n",
       "    <tr>\n",
       "      <th>pollution</th>\n",
       "      <td>0.463001</td>\n",
       "      <td>0.750087</td>\n",
       "      <td>0.080275</td>\n",
       "      <td>0.736000</td>\n",
       "      <td>0.612180</td>\n",
       "      <td>0.192513</td>\n",
       "      <td>0.670722</td>\n",
       "      <td>0.598874</td>\n",
       "      <td>-0.413054</td>\n",
       "      <td>-0.338515</td>\n",
       "      <td>1.000000</td>\n",
       "    </tr>\n",
       "  </tbody>\n",
       "</table>\n",
       "</div>"
      ],
      "text/plain": [
       "                    crime  industrial     river  buildings_age  roads_quality  \\\n",
       "crime            1.000000    0.422228 -0.041195       0.379034       0.666636   \n",
       "industrial       0.422228    1.000000  0.037496       0.638378       0.569779   \n",
       "river           -0.041195    0.037496  1.000000       0.068286       0.007714   \n",
       "buildings_age    0.379034    0.638378  0.068286       1.000000       0.447380   \n",
       "roads_quality    0.666636    0.569779  0.007714       0.447380       1.000000   \n",
       "school_quality   0.313409    0.391087 -0.125067       0.259293       0.470849   \n",
       "taxes            0.617081    0.708313 -0.021826       0.511893       0.903562   \n",
       "poverty          0.532077    0.614155 -0.050055       0.588834       0.484568   \n",
       "house_price     -0.407454   -0.473932  0.204390      -0.358888      -0.352251   \n",
       "number_of_rooms -0.310180   -0.440365  0.112251      -0.248573      -0.272783   \n",
       "pollution        0.463001    0.750087  0.080275       0.736000       0.612180   \n",
       "\n",
       "                 school_quality     taxes   poverty  house_price  \\\n",
       "crime                  0.313409  0.617081  0.532077    -0.407454   \n",
       "industrial             0.391087  0.708313  0.614155    -0.473932   \n",
       "river                 -0.125067 -0.021826 -0.050055     0.204390   \n",
       "buildings_age          0.259293  0.511893  0.588834    -0.358888   \n",
       "roads_quality          0.470849  0.903562  0.484568    -0.352251   \n",
       "school_quality         1.000000  0.467437  0.374802    -0.481376   \n",
       "taxes                  0.467437  1.000000  0.544485    -0.448078   \n",
       "poverty                0.374802  0.544485  1.000000    -0.738600   \n",
       "house_price           -0.481376 -0.448078 -0.738600     1.000000   \n",
       "number_of_rooms       -0.366927 -0.356987 -0.615747     0.689598   \n",
       "pollution              0.192513  0.670722  0.598874    -0.413054   \n",
       "\n",
       "                 number_of_rooms  pollution  \n",
       "crime                  -0.310180   0.463001  \n",
       "industrial             -0.440365   0.750087  \n",
       "river                   0.112251   0.080275  \n",
       "buildings_age          -0.248573   0.736000  \n",
       "roads_quality          -0.272783   0.612180  \n",
       "school_quality         -0.366927   0.192513  \n",
       "taxes                  -0.356987   0.670722  \n",
       "poverty                -0.615747   0.598874  \n",
       "house_price             0.689598  -0.413054  \n",
       "number_of_rooms         1.000000  -0.338515  \n",
       "pollution              -0.338515   1.000000  "
      ]
     },
     "execution_count": 6,
     "metadata": {},
     "output_type": "execute_result"
    }
   ],
   "source": [
    "housing_data.corr()"
   ]
  },
  {
   "cell_type": "markdown",
   "metadata": {},
   "source": [
    "With visualization:"
   ]
  },
  {
   "cell_type": "code",
   "execution_count": 7,
   "metadata": {},
   "outputs": [
    {
     "data": {
      "text/plain": [
       "<AxesSubplot:>"
      ]
     },
     "execution_count": 7,
     "metadata": {},
     "output_type": "execute_result"
    },
    {
     "data": {
      "image/png": "[encoded data removed]",
      "text/plain": [
       "<Figure size 432x288 with 2 Axes>"
      ]
     },
     "metadata": {
      "needs_background": "light"
     },
     "output_type": "display_data"
    }
   ],
   "source": [
    "sns.heatmap(housing_data.corr(), annot=True)"
   ]
  },
  {
   "cell_type": "markdown",
   "metadata": {},
   "source": [
    "# Spurious correlation in Observational data\n"
   ]
  },
  {
   "cell_type": "markdown",
   "metadata": {},
   "source": [
    "The Pearson correlation between `crime` and `road_quality` is high:"
   ]
  },
  {
   "cell_type": "code",
   "execution_count": 8,
   "metadata": {},
   "outputs": [
    {
     "data": {
      "text/plain": [
       "0.6666356998752914"
      ]
     },
     "execution_count": 8,
     "metadata": {},
     "output_type": "execute_result"
    }
   ],
   "source": [
    "housing_data['crime'].corr(housing_data['roads_quality'], method='pearson')"
   ]
  },
  {
   "cell_type": "markdown",
   "metadata": {},
   "source": [
    "However, this is likely a spurious correlation; It's unlikely that people are being directly driven to crime because of bad roads: Rather, it is poverty that results in more crime:"
   ]
  },
  {
   "cell_type": "code",
   "execution_count": 9,
   "metadata": {},
   "outputs": [
    {
     "data": {
      "text/plain": [
       "0.5320774845476307"
      ]
     },
     "execution_count": 9,
     "metadata": {},
     "output_type": "execute_result"
    }
   ],
   "source": [
    "housing_data['crime'].corr(housing_data['poverty'], method='pearson')"
   ]
  },
  {
   "cell_type": "markdown",
   "metadata": {},
   "source": [
    "And it is also poverty that causes less investment in road infrastructure:"
   ]
  },
  {
   "cell_type": "code",
   "execution_count": 10,
   "metadata": {},
   "outputs": [
    {
     "data": {
      "text/plain": [
       "0.4845683859432826"
      ]
     },
     "execution_count": 10,
     "metadata": {},
     "output_type": "execute_result"
    }
   ],
   "source": [
    "housing_data['poverty'].corr(housing_data['roads_quality'], method='pearson')"
   ]
  }
 ],
 "metadata": {
  "kernelspec": {
   "display_name": "Python 3",
   "language": "python",
   "name": "python3"
  },
  "language_info": {
   "codemirror_mode": {
    "name": "ipython",
    "version": 3
   },
   "file_extension": ".py",
   "mimetype": "text/x-python",
   "name": "python",
   "nbconvert_exporter": "python",
   "pygments_lexer": "ipython3",
   "version": "3.7.10"
  }
 },
 "nbformat": 4,
 "nbformat_minor": 2
}
