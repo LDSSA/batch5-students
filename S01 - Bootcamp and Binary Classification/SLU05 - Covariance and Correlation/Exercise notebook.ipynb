{
 "cells": [
  {
   "cell_type": "markdown",
   "metadata": {
    "deletable": false,
    "editable": false,
    "nbgrader": {
     "grade": false,
     "grade_id": "cell-ffd19da8ad9eb287",
     "locked": true,
     "schema_version": 3,
     "solution": false
    }
   },
   "source": [
    "# SLU 05 - Covariance and Correlation: Exercise notebook"
   ]
  },
  {
   "cell_type": "code",
   "execution_count": null,
   "metadata": {
    "deletable": false,
    "editable": false,
    "nbgrader": {
     "grade": false,
     "grade_id": "cell-5db9010e5f96be4c",
     "locked": true,
     "schema_version": 3,
     "solution": false
    }
   },
   "outputs": [],
   "source": [
    "import pandas as pd \n",
    "import numpy as np \n",
    "import math \n",
    "import utils \n",
    "\n",
    "from IPython.display import Image\n",
    "from matplotlib import pyplot as plt\n",
    "from utils import get_house_prices_and_rooms, plot_house_prices_and_rooms\n",
    "from utils import get_car_prices_year, get_car_prices_mileage, plot_car_prices_and_mileage,\\\n",
    "                check_currency_change, plot_some_correlations, plot_correlation_bargraph\n",
    "\n",
    "# this is for grading without showing the answers \n",
    "import hashlib\n",
    "def hash_answer(answer): \n",
    "    answer=str(answer)\n",
    "    return hashlib.sha256((answer).encode()).hexdigest()"
   ]
  },
  {
   "cell_type": "markdown",
   "metadata": {
    "deletable": false,
    "editable": false,
    "nbgrader": {
     "grade": false,
     "grade_id": "cell-4e02c47394f90045",
     "locked": true,
     "schema_version": 3,
     "solution": false
    }
   },
   "source": [
    "In this notebook, you will practice the following: \n",
    "\n",
    "    - Covariance \n",
    "    - Pearson correlation\n",
    "    - Spearman correlation\n",
    "    - Correlation matrix\n",
    "    - Spurious correlations"
   ]
  },
  {
   "cell_type": "markdown",
   "metadata": {
    "deletable": false,
    "editable": false,
    "nbgrader": {
     "grade": false,
     "grade_id": "cell-eb64fecb75377742",
     "locked": true,
     "schema_version": 3,
     "solution": false
    }
   },
   "source": [
    "----"
   ]
  },
  {
   "cell_type": "markdown",
   "metadata": {
    "deletable": false,
    "editable": false,
    "nbgrader": {
     "grade": false,
     "grade_id": "cell-8add5274c101d6dc",
     "locked": true,
     "schema_version": 3,
     "solution": false,
     "task": false
    }
   },
   "source": [
    "# Exercise 1:  covariance and correlation with Pandas\n",
    "Here you will apply what you learned in the Learning Notebook, calculating covariance and correlation on a sample dataset.\n",
    "\n",
    "We're going to use a dataset of used car values in the USA for this exercise. Let's begin by taking a quick look at the dataset:"
   ]
  },
  {
   "cell_type": "code",
   "execution_count": null,
   "metadata": {
    "deletable": false,
    "editable": false,
    "nbgrader": {
     "grade": false,
     "grade_id": "cell-e3435901efe328f9",
     "locked": true,
     "schema_version": 3,
     "solution": false,
     "task": false
    }
   },
   "outputs": [],
   "source": [
    "data = pd.read_csv('data/USA_cars_datasets.csv', index_col=\"index\")\n",
    "data.head()"
   ]
  },
  {
   "cell_type": "markdown",
   "metadata": {
    "deletable": false,
    "editable": false,
    "nbgrader": {
     "grade": false,
     "grade_id": "cell-8a099efc9a69fa87",
     "locked": true,
     "schema_version": 3,
     "solution": false,
     "task": false
    }
   },
   "source": [
    "We'll begin by checking if the car's year of make is related to its price listing.\n",
    "\n",
    "Edit the function below so that when given the two features, it returns their ***covariance***, ***Pearson correlation*** and ***Spearman correlation*** (in this order)."
   ]
  },
  {
   "cell_type": "code",
   "execution_count": null,
   "metadata": {
    "deletable": false,
    "nbgrader": {
     "grade": false,
     "grade_id": "cell-31802707a6bea6cf",
     "locked": false,
     "schema_version": 3,
     "solution": true,
     "task": false
    }
   },
   "outputs": [],
   "source": [
    "def check_if_related(prices, year):\n",
    "    # covariance = ...\n",
    "    # pearson_corr = ...\n",
    "    # spearman_corr = ...\n",
    "    \n",
    "    # YOUR CODE HERE\n",
    "    raise NotImplementedError()\n",
    "    \n",
    "    return covariance, pearson_corr, spearman_corr"
   ]
  },
  {
   "cell_type": "code",
   "execution_count": null,
   "metadata": {
    "deletable": false,
    "editable": false,
    "nbgrader": {
     "grade": true,
     "grade_id": "cell-110d6cc4cdab8695",
     "locked": true,
     "points": 3,
     "schema_version": 3,
     "solution": false
    }
   },
   "outputs": [],
   "source": [
    "prices, year = get_car_prices_year()\n",
    "assert math.isclose(check_if_related(prices, year)[0], 17446.83, abs_tol=0.01), \"The covariance seems to be wrong.\"\n",
    "assert math.isclose(check_if_related(prices, year)[1], 0.4182, abs_tol=0.0001), \"The Pearson correlation seems to be wrong.\"\n",
    "assert math.isclose(check_if_related(prices, year)[2], 0.4768, abs_tol=0.0001), \"The Spearman correlation seems to be wrong.\"\n",
    "print(\"Well done! Everything seems in order! The correlation between price and year does not seem very significant.\")"
   ]
  },
  {
   "cell_type": "markdown",
   "metadata": {
    "deletable": false,
    "editable": false,
    "nbgrader": {
     "grade": false,
     "grade_id": "cell-34d6949936535344",
     "locked": true,
     "schema_version": 3,
     "solution": false
    }
   },
   "source": [
    "# Exercise 2: Using other units of measurement\n",
    "Now for a thought exercise. These car prices are in USD. Let's assume we want to know the prices in EUR.\n",
    "\n",
    "The exchange rate at the time of writing is 1.00 USD = 0.85 EUR, meaning that the EUR is a **larger** unit than the one in this dataset.\n",
    "\n",
    "If we extract the covariance and Pearson/Spearman correlations again, but this time in EUR, which of these statements is true?\n",
    ">**A.** The covariance, Pearson correlation and Spearman correlation will decrease.\n",
    ">\n",
    ">**B.** The covariance will decrease, but the Pearson correlation and Spearman correlation will increase.\n",
    ">\n",
    ">**C.** The covariance will remain the same, but Pearson correlation and Spearman correlation all decrease.\n",
    ">\n",
    ">**D.** The covariance will decrease, but Pearson correlation and Spearman correlation will remain the same.\n",
    "\n",
    "Write the letter corresponding to your chosen answer as a text string into the variable ***ex2_answer*** below."
   ]
  },
  {
   "cell_type": "code",
   "execution_count": null,
   "metadata": {
    "deletable": false,
    "nbgrader": {
     "grade": false,
     "grade_id": "cell-7e2c47095ccc50ef",
     "locked": false,
     "schema_version": 3,
     "solution": true
    }
   },
   "outputs": [],
   "source": [
    "# ex2_answer = \"Z\"\n",
    "# YOUR CODE HERE\n",
    "raise NotImplementedError()"
   ]
  },
  {
   "cell_type": "code",
   "execution_count": null,
   "metadata": {
    "deletable": false,
    "editable": false,
    "nbgrader": {
     "grade": true,
     "grade_id": "cell-b7ab9bd4e5aa2dfa",
     "locked": true,
     "points": 3,
     "schema_version": 3,
     "solution": false,
     "task": false
    }
   },
   "outputs": [],
   "source": [
    "assert hash_answer(ex2_answer.lower()) == \"18ac3e7343f016890c510e93f935261169d9e3f565436429830faf0934f4f8e4\", \"Wrong choice. Remember that correlation does not depend on units.\"\n",
    "print(\"Good job!\")\n",
    "check_currency_change(prices, year)"
   ]
  },
  {
   "cell_type": "markdown",
   "metadata": {
    "deletable": false,
    "editable": false,
    "nbgrader": {
     "grade": false,
     "grade_id": "cell-a77a4a95e67dcd84",
     "locked": true,
     "schema_version": 3,
     "solution": false
    }
   },
   "source": [
    "# Exercise 3: Predict correlation \"by eye\"\n",
    "\n",
    "Let's take a look at a plot representing a correlation between three pairs of features. Assume we don't know anything else about the dataset besides this correlation graph."
   ]
  },
  {
   "cell_type": "code",
   "execution_count": null,
   "metadata": {
    "deletable": false,
    "editable": false,
    "nbgrader": {
     "grade": false,
     "grade_id": "cell-f01596a390764937",
     "locked": true,
     "schema_version": 3,
     "solution": false,
     "task": false
    }
   },
   "outputs": [],
   "source": [
    "plot_some_correlations()"
   ]
  },
  {
   "cell_type": "markdown",
   "metadata": {
    "deletable": false,
    "editable": false,
    "nbgrader": {
     "grade": false,
     "grade_id": "cell-66d781dee0613930",
     "locked": true,
     "schema_version": 3,
     "solution": false,
     "task": false
    }
   },
   "source": [
    "What can we infer from this graph?\n",
    "\n",
    ">**A.** The orange series has the highest correlation.\n",
    ">\n",
    ">**B.** The blue series has the lowest correlation.\n",
    ">\n",
    ">**C.** All three series' correlations are positive.\n",
    ">\n",
    ">**D.** Nothing can be inferred from just the graph.\n",
    "\n",
    "Write the letter corresponding to your chosen answer as a text string into the variable ***ex3_answer*** below."
   ]
  },
  {
   "cell_type": "code",
   "execution_count": null,
   "metadata": {
    "deletable": false,
    "nbgrader": {
     "grade": false,
     "grade_id": "cell-c0748eb68560b07e",
     "locked": false,
     "schema_version": 3,
     "solution": true
    }
   },
   "outputs": [],
   "source": [
    "# ex3_answer = \"Z\"\n",
    "# YOUR CODE HERE\n",
    "raise NotImplementedError()"
   ]
  },
  {
   "cell_type": "code",
   "execution_count": null,
   "metadata": {
    "deletable": false,
    "editable": false,
    "nbgrader": {
     "grade": true,
     "grade_id": "cell-9c8a1bb04133d3d5",
     "locked": true,
     "points": 3,
     "schema_version": 3,
     "solution": false
    }
   },
   "outputs": [],
   "source": [
    "assert hash_answer(ex3_answer.lower()) == \"2e7d2c03a9507ae265ecf5b5356885a53393a2029d241394997265a1a25aefc6\", \"Wrong choice. Remember that you can't infer the amount of correlation from the degree of the slope, it can only help with estimating possitive and negative correlations.\"\n",
    "print(\"Nice!\")\n",
    "plot_some_correlations(legend=True)"
   ]
  },
  {
   "cell_type": "markdown",
   "metadata": {
    "deletable": false,
    "editable": false,
    "nbgrader": {
     "grade": false,
     "grade_id": "cell-f6d048d12dae577d",
     "locked": true,
     "schema_version": 3,
     "solution": false
    }
   },
   "source": [
    "----"
   ]
  },
  {
   "cell_type": "markdown",
   "metadata": {
    "deletable": false,
    "editable": false,
    "nbgrader": {
     "grade": false,
     "grade_id": "cell-14dafd575c8757dd",
     "locked": true,
     "schema_version": 3,
     "solution": false
    }
   },
   "source": [
    "# Exercise 4: Back to the cars - enter an outlier \n",
    "We are going back to analyze some car prices. \n",
    "\n",
    "In one case, there will be no outliers. In the other, there will be a single outlier (maybe someone famous drove one of them). "
   ]
  },
  {
   "cell_type": "code",
   "execution_count": null,
   "metadata": {
    "deletable": false,
    "editable": false,
    "nbgrader": {
     "grade": false,
     "grade_id": "cell-7c1d07c904f2181a",
     "locked": true,
     "schema_version": 3,
     "solution": false
    }
   },
   "outputs": [],
   "source": [
    "plot_car_prices_and_mileage()"
   ]
  },
  {
   "cell_type": "markdown",
   "metadata": {
    "deletable": false,
    "editable": false,
    "nbgrader": {
     "grade": false,
     "grade_id": "cell-15d51fa7933bd08c",
     "locked": true,
     "schema_version": 3,
     "solution": false,
     "task": false
    }
   },
   "source": [
    "# 4.1: Compare methods\n",
    "Adjust the function below to calculate the correlations between the **mileage** of the car and the listed **price**. Have it return the Pearson correlation and the Spearman correlation, in that order."
   ]
  },
  {
   "cell_type": "code",
   "execution_count": null,
   "metadata": {
    "deletable": false,
    "nbgrader": {
     "grade": false,
     "grade_id": "cell-602c35acee50ad38",
     "locked": false,
     "schema_version": 3,
     "solution": true,
     "task": false
    }
   },
   "outputs": [],
   "source": [
    "def calculate_correlations_with_pandas(price, mileage):\n",
    "    \n",
    "    # pearson_corr = ...\n",
    "    # spearman_corr = ...\n",
    "    # YOUR CODE HERE\n",
    "    raise NotImplementedError()\n",
    "    \n",
    "    return pearson_corr, spearman_corr"
   ]
  },
  {
   "cell_type": "code",
   "execution_count": null,
   "metadata": {
    "deletable": false,
    "editable": false,
    "nbgrader": {
     "grade": false,
     "grade_id": "cell-f821aaf35b827cf9",
     "locked": true,
     "schema_version": 3,
     "solution": false,
     "task": false
    }
   },
   "outputs": [],
   "source": [
    "mileage, car_prices_normal, car_prices_with_outliers = get_car_prices_mileage()\n",
    "\n",
    "pearson_corr_normal, spearman_corr_normal = calculate_correlations_with_pandas(car_prices_normal, \n",
    "                                                                               mileage)\n",
    "pearson_corr_outlier, spearman_corr_outlier = calculate_correlations_with_pandas(car_prices_with_outliers, \n",
    "                                                                                 mileage)\n",
    "\n",
    "# quick plot to see what happens\n",
    "plot_correlation_bargraph(pearson_corr_normal, pearson_corr_outlier, \n",
    "                          spearman_corr_normal, spearman_corr_outlier )"
   ]
  },
  {
   "cell_type": "code",
   "execution_count": null,
   "metadata": {
    "deletable": false,
    "editable": false,
    "nbgrader": {
     "grade": true,
     "grade_id": "cell-1a7175bdcc21451a",
     "locked": true,
     "points": 1,
     "schema_version": 3,
     "solution": false
    }
   },
   "outputs": [],
   "source": [
    "assert math.isclose(abs(pearson_corr_normal - pearson_corr_outlier), 0.118, abs_tol=.01), \"The Pearson correlation seems to be off. You should see some change between the two datasets.\"\n",
    "assert math.isclose(abs(spearman_corr_normal - spearman_corr_outlier), 0, abs_tol=.01), \"The Spearman correlation seems to be off. You should see almost no change between the two datasets.\"\n",
    "print(\"So far, so good!\")"
   ]
  },
  {
   "cell_type": "markdown",
   "metadata": {},
   "source": [
    "# 4.2: Choose best method\n",
    "\n",
    "So, unsurprisingly, the more miles a car has, the lower the cost: a negative correlation. But, as you can see, having outliers may hugely affect your analysis. Then, when dealing with a dataset **with outliers**, which correlation methodology should you use?\n",
    "\n",
    ">**A.** Pearson.\n",
    ">\n",
    ">**B.** Spearman.\n",
    "\n",
    "Write the letter corresponding to your chosen answer as a text string into the variable ***ex4_answer*** below."
   ]
  },
  {
   "cell_type": "code",
   "execution_count": null,
   "metadata": {
    "deletable": false,
    "nbgrader": {
     "grade": false,
     "grade_id": "cell-feba7fd2406a682d",
     "locked": false,
     "schema_version": 3,
     "solution": true,
     "task": false
    }
   },
   "outputs": [],
   "source": [
    "# ex4_answer = \"Z\"\n",
    "# YOUR CODE HERE\n",
    "raise NotImplementedError()"
   ]
  },
  {
   "cell_type": "code",
   "execution_count": null,
   "metadata": {
    "deletable": false,
    "editable": false,
    "nbgrader": {
     "grade": true,
     "grade_id": "cell-db9c7d41bb3f58d6",
     "locked": true,
     "points": 3,
     "schema_version": 3,
     "solution": false,
     "task": false
    }
   },
   "outputs": [],
   "source": [
    "assert hash_answer(ex4_answer.lower()) == \"3e23e8160039594a33894f6564e1b1348bbd7a0088d42c4acb73eeaed59c009d\", \"Wrong choice. Look at the changes in the correlations in the bar graphs.\"\n",
    "print(\"Nice! Now you can avoid the data disruption caused by famous people's cars!\")"
   ]
  },
  {
   "cell_type": "markdown",
   "metadata": {
    "deletable": false,
    "editable": false,
    "nbgrader": {
     "grade": false,
     "grade_id": "cell-e629fac83d7eaae3",
     "locked": true,
     "schema_version": 3,
     "solution": false
    }
   },
   "source": [
    "# Exercise 5: Stocks! \n",
    "\n",
    "Time to predict the stockmarket and get rich.\n",
    "\n",
    "Explore the dataset provided below:\n",
    "\n",
    "- Hint 1: you can use display (<name of df>) to force it to pretty print.\n",
    "- Hint 2: use the heatmap of the correlation matrix that we used in the learning notebooks.\n",
    "- Hint 3: you may want to import something to help with the visualization.\n",
    "- Hint 4: you can either paste the answers or use a purely programmatic solution.\n",
    "- Hint 5: when we say lowest and highest we mean the sign, not the \"magnitude\"."
   ]
  },
  {
   "cell_type": "code",
   "execution_count": null,
   "metadata": {
    "deletable": false,
    "nbgrader": {
     "grade": false,
     "grade_id": "cell-de272afdcb6695e5",
     "locked": false,
     "schema_version": 3,
     "solution": true
    }
   },
   "outputs": [],
   "source": [
    "stocks = pd.read_csv('data/Stock_prices.csv')\n",
    "\n",
    "# YOUR CODE HERE\n",
    "raise NotImplementedError()"
   ]
  },
  {
   "cell_type": "markdown",
   "metadata": {},
   "source": [
    "Now answer the following questions:\n",
    "> __Q1__: What is the pair of stocks with the most negative Pearson correlation?  \n",
    ">\n",
    "> __Q2__: What is the stock with the most negative Spearman correlation with Ulta Beauty? \n",
    ">\n",
    "> __Q3__: What is the Pearson correlation between QUALCOMM Inc. and Marathon Oil Corp.? \n",
    ">\n",
    "> __Q4__: Observe the top 4 Pearson correlation pairs, and then look at the general correlation matrix. Is there a confounding variable that may explain why these companies are so correlated?"
   ]
  },
  {
   "cell_type": "code",
   "execution_count": null,
   "metadata": {
    "deletable": false,
    "nbgrader": {
     "grade": false,
     "grade_id": "cell-397d0b0c3105ffb6",
     "locked": false,
     "schema_version": 3,
     "solution": true,
     "task": false
    }
   },
   "outputs": [],
   "source": [
    "# Complete the following questions \n",
    "\n",
    "# Q1: What is the pair of stocks with the most negative Pearson correlation? \n",
    "# (pass the answer as a list, and remember, you can just type it in, no fancy Pandas needed) \n",
    "# stock_pair_with_lowest_pearson_corr = ... \n",
    "# YOUR CODE HERE\n",
    "raise NotImplementedError()\n",
    "\n",
    "# # Q2: What is the stock with the most negative Spearman correlation with Ulta Beauty? \n",
    "# (the answer is a string)\n",
    "# lowest_rank_spearman_corr_with_ulta_beauty = ... \n",
    "# YOUR CODE HERE\n",
    "raise NotImplementedError()\n",
    "\n",
    "# Q3: What is the Pearson correlation between QUALCOMM Inc. and Marathon Oil Corp.? \n",
    "# (answer is a float, use two decimal spaces)\n",
    "# pearson_corr_between_qualcomm_and_marathon_oil = ... \n",
    "# YOUR CODE HERE\n",
    "raise NotImplementedError()\n",
    "\n",
    "# Q4: Observe the top 4 Pearson correlation pairs, and then look at the general correlation matrix. \n",
    "# Is there a confounding variable that may explain why these companies are so correlated? \n",
    "# possible_confounding_variable = \n",
    "# YOUR CODE HERE\n",
    "raise NotImplementedError()"
   ]
  },
  {
   "cell_type": "code",
   "execution_count": null,
   "metadata": {
    "deletable": false,
    "editable": false,
    "nbgrader": {
     "grade": true,
     "grade_id": "cell-61ec8bb442300a8e",
     "locked": true,
     "points": 4,
     "schema_version": 3,
     "solution": false
    }
   },
   "outputs": [],
   "source": [
    "assert hash_answer(sorted(stock_pair_with_lowest_pearson_corr)[0].lower()) == \"6b075863de5a5c233441c451b63db6542c55ccabe6aca117f3262effbbbbcb68\", \"That is not the pair with the lowest pearson correlation.\"\n",
    "assert hash_answer(sorted(stock_pair_with_lowest_pearson_corr)[1].lower()) == \"252d948a7b16b67a910f2450a81e78760335c0128c05b53af2060de73bb4dc37\", \"That is not the pair with the lowest pearson correlation.\"\n",
    "\n",
    "assert hash_answer(lowest_rank_spearman_corr_with_ulta_beauty.lower()) == \"6b075863de5a5c233441c451b63db6542c55ccabe6aca117f3262effbbbbcb68\", \"Wrong lowest spearman correlation with Ulta Beauty.\"\n",
    "assert math.isclose(pearson_corr_between_qualcomm_and_marathon_oil, 0.8918, abs_tol=0.01), \"Wrong pearson correlation value between QUALCOMM Inc. and Marathon Oil Corp.\"\n",
    "assert hash_answer(possible_confounding_variable.lower()) == \"cb9b59e3f375975dd68cad5a89f1c080d42a070fee6f7b1ee191cdc63e54b366\", \"Look at what the product those 4 companies deal in.\"\n",
    "print(\"Well done, you may not go bankrupt yet! No promises on getting rich though.\")"
   ]
  },
  {
   "cell_type": "markdown",
   "metadata": {
    "deletable": false,
    "editable": false,
    "nbgrader": {
     "grade": false,
     "grade_id": "cell-dd1efef189ee2604",
     "locked": true,
     "schema_version": 3,
     "solution": false,
     "task": false
    }
   },
   "source": [
    "----"
   ]
  },
  {
   "cell_type": "markdown",
   "metadata": {
    "deletable": false,
    "editable": false,
    "nbgrader": {
     "grade": false,
     "grade_id": "cell-385662c7efb44beb",
     "locked": true,
     "schema_version": 3,
     "solution": false,
     "task": false
    }
   },
   "source": [
    "# Exercise 6: lots of stocks\n",
    "You were hired by a hedge fund, because money. \n",
    "\n",
    "On the first day, your boss, Greedy McRiskyface asked you to select one stock pair. He wants the two stocks to be as uncorrelated as possible (use Pearson), so that he can short one and long the other. \n",
    "\n",
    "The answer should be (1) the two stocks, as a list and (2) their Pearson correlation, as a float. "
   ]
  },
  {
   "cell_type": "code",
   "execution_count": null,
   "metadata": {
    "deletable": false,
    "editable": false,
    "nbgrader": {
     "grade": false,
     "grade_id": "cell-eb057acba7e44eca",
     "locked": true,
     "schema_version": 3,
     "solution": false,
     "task": false
    }
   },
   "outputs": [],
   "source": [
    "stock_data = utils.get_stocks_data_2()"
   ]
  },
  {
   "cell_type": "code",
   "execution_count": null,
   "metadata": {
    "deletable": false,
    "nbgrader": {
     "grade": false,
     "grade_id": "cell-ee4cfd1ff7abcd0e",
     "locked": false,
     "schema_version": 3,
     "solution": true,
     "task": false
    }
   },
   "outputs": [],
   "source": [
    "# most_uncorrelated_pair = ... \n",
    "# most_uncorrelated_pair_value = ...\n",
    "# YOUR CODE HERE\n",
    "raise NotImplementedError()"
   ]
  },
  {
   "cell_type": "code",
   "execution_count": null,
   "metadata": {
    "deletable": false,
    "editable": false,
    "nbgrader": {
     "grade": true,
     "grade_id": "cell-6bc7867845b5cdfd",
     "locked": true,
     "points": 3,
     "schema_version": 3,
     "solution": false,
     "task": false
    }
   },
   "outputs": [],
   "source": [
    "assert isinstance(most_uncorrelated_pair, list)\n",
    "assert len(most_uncorrelated_pair) == 2\n",
    "assert isinstance(most_uncorrelated_pair_value, float)\n",
    "utils.dirty_little_secret()"
   ]
  },
  {
   "cell_type": "code",
   "execution_count": null,
   "metadata": {},
   "outputs": [],
   "source": []
  }
 ],
 "metadata": {
  "kernelspec": {
   "display_name": "Python 3",
   "language": "python",
   "name": "python3"
  },
  "language_info": {
   "codemirror_mode": {
    "name": "ipython",
    "version": 3
   },
   "file_extension": ".py",
   "mimetype": "text/x-python",
   "name": "python",
   "nbconvert_exporter": "python",
   "pygments_lexer": "ipython3",
   "version": "3.7.10"
  }
 },
 "nbformat": 4,
 "nbformat_minor": 2
}
