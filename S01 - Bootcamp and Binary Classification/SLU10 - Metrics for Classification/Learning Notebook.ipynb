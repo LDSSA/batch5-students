{
 "cells": [
  {
   "cell_type": "markdown",
   "metadata": {},
   "source": [
    "# SLU10 - Metrics for Classification\n",
    "\n",
    "\n",
    "By now you are already a fan of `scikit-learn`, or at least find it useful. You will then like to know that it also includes most of the **validation metrics for classification** you will ever use (which can mostly be found [here](http://scikit-learn.org/stable/modules/model_evaluation.html#classification-metrics)). \n",
    "\n",
    "The validation metrics for classification presented in this notebook are:\n",
    "- Accuracy Score\n",
    "- Confusion Matrix\n",
    "- Precision\n",
    "- Recall\n",
    "- F1-Score\n",
    "- Area Under the Receiver Operating Characteristic curve (AUROC)\n"
   ]
  },
  {
   "cell_type": "code",
   "execution_count": 1,
   "metadata": {},
   "outputs": [],
   "source": [
    "import numpy as np\n",
    "import pandas as pd\n",
    "import matplotlib.pyplot as plt\n",
    "import seaborn as sns\n",
    "\n",
    "# The sklearn metrics:\n",
    "from sklearn.metrics import (\n",
    "    accuracy_score, \n",
    "    precision_score,\n",
    "    recall_score, \n",
    "    f1_score, \n",
    "    roc_auc_score, \n",
    "    roc_curve, \n",
    "    confusion_matrix, \n",
    "    precision_score, \n",
    "    recall_score,\n",
    ")\n",
    "from utils import (\n",
    "    get_subset,\n",
    "    threshold_df_at, \n",
    "    paint, \n",
    "    get_rates, \n",
    "    plot_roc_curve,\n",
    "    get_data, \n",
    "    make_confmat_pretty, \n",
    "    get_realistic_dataset,\n",
    ")\n",
    "\n",
    "%matplotlib inline "
   ]
  },
  {
   "cell_type": "markdown",
   "metadata": {},
   "source": [
    "# Setting up the problem\n",
    "\n",
    "In order to calculate validation metrics, we first need to get some predictions. "
   ]
  },
  {
   "cell_type": "markdown",
   "metadata": {},
   "source": [
    "<table border=\"1\" class=\"dataframe\">  <thead>    <tr style=\"text-align: right;\">      <th></th>      <th>Patient #</th>      <th>age</th>      <th>sex</th>      <th>cp</th>      <th>trestbps</th>      <th>chol</th>      <th>fbs</th>      <th>disease</th>      <th>predicted_proba</th>    </tr>  </thead>  <tbody>    <tr>      <th>0</th>      <td>0</td>      <td>6.981588</td>      <td>2.143498</td>      <td>1.043253</td>      <td>8.252384</td>      <td>4.507519</td>      <td>2.812073</td>      <td>0.0</td>      <td>0.050365</td>    </tr>    <tr>      <th>1</th>      <td>1</td>      <td>7.424864</td>      <td>2.143498</td>      <td>4.173013</td>      <td>9.106078</td>      <td>5.532835</td>      <td>0.000000</td>      <td>1.0</td>      <td>0.969133</td>    </tr>    <tr>      <th>2</th>      <td>2</td>      <td>7.424864</td>      <td>2.143498</td>      <td>4.173013</td>      <td>6.829559</td>      <td>4.430137</td>      <td>0.000000</td>      <td>0.0</td>      <td>0.365029</td>    </tr>    <tr>      <th>3</th>      <td>3</td>      <td>4.100298</td>      <td>2.143498</td>      <td>3.129760</td>      <td>7.398689</td>      <td>4.836394</td>      <td>0.000000</td>      <td>0.0</td>      <td>0.032620</td>    </tr>    <tr>      <th>4</th>      <td>4</td>      <td>4.543573</td>      <td>0.000000</td>      <td>2.086507</td>      <td>7.398689</td>      <td>3.946497</td>      <td>0.000000</td>      <td>0.0</td>      <td>0.010980</td>    </tr>  </tbody></table>"
   ]
  },
  {
   "cell_type": "markdown",
   "metadata": {},
   "source": [
    "This is a (highly simplified) version of a heart disease prediction dataset. \n",
    "\n",
    "The target is the `disease` column (the penultimate one), which is\n",
    "- 0 if the patient is healthy \n",
    "- 1 if the patient has heart disease \n",
    "\n",
    "We also have some predicted probabilities of the patient being ill (the last column, `predicted_proba`). \n",
    "\n",
    "These predictions may have come from a classifier, from a heuristic, from a doctor, etc. It does not really matter for our purposes, we're just here to evaluate them! \n",
    "\n",
    "As such, we can reduce our dataset for this SLU to just... this: \n",
    "\n",
    "<table border=\"1\" class=\"dataframe\">  <thead>    <tr style=\"text-align: right;\">      <th></th>      <th>disease</th>      <th>predicted_proba</th>    </tr>  </thead>  <tbody>    <tr>      <th>0</th>      <td>0.0</td>      <td>0.050365</td>    </tr>    <tr>      <th>1</th>      <td>1.0</td>      <td>0.969133</td>    </tr>    <tr>      <th>2</th>      <td>0.0</td>      <td>0.365029</td>    </tr>    <tr>      <th>3</th>      <td>0.0</td>      <td>0.032620</td>    </tr>    <tr>      <th>4</th>      <td>0.0</td>      <td>0.010980</td>    </tr>  </tbody></table>"
   ]
  },
  {
   "cell_type": "code",
   "execution_count": 2,
   "metadata": {},
   "outputs": [],
   "source": [
    "data = pd.read_csv('data/heart_disease_binary.csv')[['disease', 'predicted_proba']]"
   ]
  },
  {
   "cell_type": "markdown",
   "metadata": {},
   "source": [
    "# Evaluating predictions "
   ]
  },
  {
   "cell_type": "markdown",
   "metadata": {},
   "source": [
    "At this point, we have:\n",
    "1. some probabilities which we predicted (`predicted_proba`)\n",
    "2. some true outcomes (`disease`) "
   ]
  },
  {
   "cell_type": "markdown",
   "metadata": {},
   "source": [
    "#### Accuracy "
   ]
  },
  {
   "cell_type": "markdown",
   "metadata": {},
   "source": [
    "Let's start by asking the most obvious question. How is our accuracy? \n",
    "\n",
    "Calculating this is not as obvious, as we don't have 0 and 1 predictions. But we can say that anything we predicted over a threshold (let's say 0.5) is 1, and everything under that threshold is. "
   ]
  },
  {
   "cell_type": "code",
   "execution_count": 3,
   "metadata": {},
   "outputs": [
    {
     "data": {
      "text/html": [
       "<div>\n",
       "<style scoped>\n",
       "    .dataframe tbody tr th:only-of-type {\n",
       "        vertical-align: middle;\n",
       "    }\n",
       "\n",
       "    .dataframe tbody tr th {\n",
       "        vertical-align: top;\n",
       "    }\n",
       "\n",
       "    .dataframe thead th {\n",
       "        text-align: right;\n",
       "    }\n",
       "</style>\n",
       "<table border=\"1\" class=\"dataframe\">\n",
       "  <thead>\n",
       "    <tr style=\"text-align: right;\">\n",
       "      <th></th>\n",
       "      <th>disease</th>\n",
       "      <th>predicted_proba</th>\n",
       "    </tr>\n",
       "  </thead>\n",
       "  <tbody>\n",
       "    <tr>\n",
       "      <th>0</th>\n",
       "      <td>0.0</td>\n",
       "      <td>0.050365</td>\n",
       "    </tr>\n",
       "    <tr>\n",
       "      <th>1</th>\n",
       "      <td>1.0</td>\n",
       "      <td>0.969133</td>\n",
       "    </tr>\n",
       "    <tr>\n",
       "      <th>2</th>\n",
       "      <td>0.0</td>\n",
       "      <td>0.365029</td>\n",
       "    </tr>\n",
       "    <tr>\n",
       "      <th>3</th>\n",
       "      <td>0.0</td>\n",
       "      <td>0.032620</td>\n",
       "    </tr>\n",
       "    <tr>\n",
       "      <th>4</th>\n",
       "      <td>0.0</td>\n",
       "      <td>0.010980</td>\n",
       "    </tr>\n",
       "  </tbody>\n",
       "</table>\n",
       "</div>"
      ],
      "text/plain": [
       "   disease  predicted_proba\n",
       "0      0.0         0.050365\n",
       "1      1.0         0.969133\n",
       "2      0.0         0.365029\n",
       "3      0.0         0.032620\n",
       "4      0.0         0.010980"
      ]
     },
     "execution_count": 3,
     "metadata": {},
     "output_type": "execute_result"
    }
   ],
   "source": [
    "data[['disease','predicted_proba']].head(5)"
   ]
  },
  {
   "cell_type": "markdown",
   "metadata": {},
   "source": [
    "Let's make a quick function that does the following: \n",
    "\n",
    "- if the probability is over or equal to a threshold, return 1 \n",
    "- if the probability is under the threshold, return 0 "
   ]
  },
  {
   "cell_type": "code",
   "execution_count": 4,
   "metadata": {},
   "outputs": [],
   "source": [
    "def threshold_probas(proba, threshold=.5): \n",
    "    if proba >= threshold:\n",
    "        return 1\n",
    "    else: \n",
    "        return 0 "
   ]
  },
  {
   "cell_type": "markdown",
   "metadata": {},
   "source": [
    "Great, now let's use this to create a prediction column: "
   ]
  },
  {
   "cell_type": "code",
   "execution_count": 5,
   "metadata": {},
   "outputs": [],
   "source": [
    "data['prediction'] = data.predicted_proba.map(threshold_probas)"
   ]
  },
  {
   "cell_type": "markdown",
   "metadata": {},
   "source": [
    "Et voilá! "
   ]
  },
  {
   "cell_type": "code",
   "execution_count": 6,
   "metadata": {},
   "outputs": [
    {
     "data": {
      "text/html": [
       "<div>\n",
       "<style scoped>\n",
       "    .dataframe tbody tr th:only-of-type {\n",
       "        vertical-align: middle;\n",
       "    }\n",
       "\n",
       "    .dataframe tbody tr th {\n",
       "        vertical-align: top;\n",
       "    }\n",
       "\n",
       "    .dataframe thead th {\n",
       "        text-align: right;\n",
       "    }\n",
       "</style>\n",
       "<table border=\"1\" class=\"dataframe\">\n",
       "  <thead>\n",
       "    <tr style=\"text-align: right;\">\n",
       "      <th></th>\n",
       "      <th>disease</th>\n",
       "      <th>predicted_proba</th>\n",
       "      <th>prediction</th>\n",
       "    </tr>\n",
       "  </thead>\n",
       "  <tbody>\n",
       "    <tr>\n",
       "      <th>0</th>\n",
       "      <td>0.0</td>\n",
       "      <td>0.050365</td>\n",
       "      <td>0</td>\n",
       "    </tr>\n",
       "    <tr>\n",
       "      <th>1</th>\n",
       "      <td>1.0</td>\n",
       "      <td>0.969133</td>\n",
       "      <td>1</td>\n",
       "    </tr>\n",
       "    <tr>\n",
       "      <th>2</th>\n",
       "      <td>0.0</td>\n",
       "      <td>0.365029</td>\n",
       "      <td>0</td>\n",
       "    </tr>\n",
       "    <tr>\n",
       "      <th>3</th>\n",
       "      <td>0.0</td>\n",
       "      <td>0.032620</td>\n",
       "      <td>0</td>\n",
       "    </tr>\n",
       "    <tr>\n",
       "      <th>4</th>\n",
       "      <td>0.0</td>\n",
       "      <td>0.010980</td>\n",
       "      <td>0</td>\n",
       "    </tr>\n",
       "  </tbody>\n",
       "</table>\n",
       "</div>"
      ],
      "text/plain": [
       "   disease  predicted_proba  prediction\n",
       "0      0.0         0.050365           0\n",
       "1      1.0         0.969133           1\n",
       "2      0.0         0.365029           0\n",
       "3      0.0         0.032620           0\n",
       "4      0.0         0.010980           0"
      ]
     },
     "execution_count": 6,
     "metadata": {},
     "output_type": "execute_result"
    }
   ],
   "source": [
    "data[['disease','predicted_proba', 'prediction']].head(5)"
   ]
  },
  {
   "cell_type": "markdown",
   "metadata": {},
   "source": [
    "As we can see in the last 2 columns, the low probabilities became 0s, and the high ones became 1s. "
   ]
  },
  {
   "cell_type": "markdown",
   "metadata": {},
   "source": [
    "So, quite informally, what is the accuracy? \n",
    "\n",
    "$$ A = \\frac{Number\\ of\\ correct\\ predictions}{Total\\ number\\ of\\ predictions} $$"
   ]
  },
  {
   "cell_type": "markdown",
   "metadata": {},
   "source": [
    "Let's get the \"predictions we got right\" column: "
   ]
  },
  {
   "cell_type": "code",
   "execution_count": 7,
   "metadata": {},
   "outputs": [],
   "source": [
    "data['correct prediction'] = data['prediction'] == data['disease']"
   ]
  },
  {
   "cell_type": "markdown",
   "metadata": {},
   "source": [
    "Quick look at a sample of 5 predictions "
   ]
  },
  {
   "cell_type": "code",
   "execution_count": 8,
   "metadata": {},
   "outputs": [
    {
     "data": {
      "text/plain": [
       "246    False\n",
       "183     True\n",
       "229     True\n",
       "126     True\n",
       "184     True\n",
       "Name: correct prediction, dtype: bool"
      ]
     },
     "metadata": {},
     "output_type": "display_data"
    }
   ],
   "source": [
    "display(data['correct prediction'].sample(5, random_state=10))"
   ]
  },
  {
   "cell_type": "markdown",
   "metadata": {},
   "source": [
    "Now, let's calculate accuracy: "
   ]
  },
  {
   "cell_type": "code",
   "execution_count": 9,
   "metadata": {},
   "outputs": [
    {
     "name": "stdout",
     "output_type": "stream",
     "text": [
      "0.9372937293729373\n"
     ]
    }
   ],
   "source": [
    "number_of_correct_predictions = data['correct prediction'].sum()\n",
    "total_number_of_predictions = data.shape[0]\n",
    "\n",
    "accuracy = number_of_correct_predictions / total_number_of_predictions\n",
    "print(accuracy)"
   ]
  },
  {
   "cell_type": "markdown",
   "metadata": {},
   "source": [
    "Almost 94% accuracy! Not bad! Or... is it? "
   ]
  },
  {
   "cell_type": "markdown",
   "metadata": {},
   "source": [
    "----- \n",
    "\n",
    "# The problem with accuracy "
   ]
  },
  {
   "cell_type": "markdown",
   "metadata": {},
   "source": [
    "Let's say that we have a more realistic dataset, where only ~0.4% of the population has heart disease: "
   ]
  },
  {
   "cell_type": "code",
   "execution_count": 10,
   "metadata": {},
   "outputs": [],
   "source": [
    "realistic_data = get_realistic_dataset()"
   ]
  },
  {
   "cell_type": "code",
   "execution_count": 11,
   "metadata": {},
   "outputs": [
    {
     "data": {
      "text/html": [
       "<div>\n",
       "<style scoped>\n",
       "    .dataframe tbody tr th:only-of-type {\n",
       "        vertical-align: middle;\n",
       "    }\n",
       "\n",
       "    .dataframe tbody tr th {\n",
       "        vertical-align: top;\n",
       "    }\n",
       "\n",
       "    .dataframe thead th {\n",
       "        text-align: right;\n",
       "    }\n",
       "</style>\n",
       "<table border=\"1\" class=\"dataframe\">\n",
       "  <thead>\n",
       "    <tr style=\"text-align: right;\">\n",
       "      <th></th>\n",
       "      <th>Patient #</th>\n",
       "      <th>age</th>\n",
       "      <th>sex</th>\n",
       "      <th>cp</th>\n",
       "      <th>trestbps</th>\n",
       "      <th>chol</th>\n",
       "      <th>fbs</th>\n",
       "      <th>disease</th>\n",
       "      <th>predicted_proba</th>\n",
       "    </tr>\n",
       "  </thead>\n",
       "  <tbody>\n",
       "    <tr>\n",
       "      <th>155</th>\n",
       "      <td>155</td>\n",
       "      <td>7.757320</td>\n",
       "      <td>2.143498</td>\n",
       "      <td>4.173013</td>\n",
       "      <td>7.398689</td>\n",
       "      <td>6.229275</td>\n",
       "      <td>0.000000</td>\n",
       "      <td>0.0</td>\n",
       "      <td>0.149574</td>\n",
       "    </tr>\n",
       "    <tr>\n",
       "      <th>232</th>\n",
       "      <td>232</td>\n",
       "      <td>5.430124</td>\n",
       "      <td>2.143498</td>\n",
       "      <td>3.129760</td>\n",
       "      <td>6.715733</td>\n",
       "      <td>2.882491</td>\n",
       "      <td>0.000000</td>\n",
       "      <td>0.0</td>\n",
       "      <td>0.121601</td>\n",
       "    </tr>\n",
       "    <tr>\n",
       "      <th>202</th>\n",
       "      <td>202</td>\n",
       "      <td>6.316675</td>\n",
       "      <td>2.143498</td>\n",
       "      <td>3.129760</td>\n",
       "      <td>8.536948</td>\n",
       "      <td>2.437542</td>\n",
       "      <td>2.812073</td>\n",
       "      <td>0.0</td>\n",
       "      <td>0.023472</td>\n",
       "    </tr>\n",
       "  </tbody>\n",
       "</table>\n",
       "</div>"
      ],
      "text/plain": [
       "     Patient #       age       sex        cp  trestbps      chol       fbs  \\\n",
       "155        155  7.757320  2.143498  4.173013  7.398689  6.229275  0.000000   \n",
       "232        232  5.430124  2.143498  3.129760  6.715733  2.882491  0.000000   \n",
       "202        202  6.316675  2.143498  3.129760  8.536948  2.437542  2.812073   \n",
       "\n",
       "     disease  predicted_proba  \n",
       "155      0.0         0.149574  \n",
       "232      0.0         0.121601  \n",
       "202      0.0         0.023472  "
      ]
     },
     "execution_count": 11,
     "metadata": {},
     "output_type": "execute_result"
    }
   ],
   "source": [
    "realistic_data.head(3)"
   ]
  },
  {
   "cell_type": "markdown",
   "metadata": {},
   "source": [
    "Let's check that really only ~0.4% of the population has heart disease: "
   ]
  },
  {
   "cell_type": "code",
   "execution_count": 12,
   "metadata": {},
   "outputs": [
    {
     "data": {
      "image/png": "[encoded data removed]",
      "text/plain": [
       "<Figure size 432x288 with 1 Axes>"
      ]
     },
     "metadata": {
      "needs_background": "light"
     },
     "output_type": "display_data"
    }
   ],
   "source": [
    "ax = sns.barplot(x = 'disease', y = 'disease', data=realistic_data, estimator=lambda x: len(x) / len(realistic_data) * 100)\n",
    "ax.set(ylabel=\"Percentage\")\n",
    "plt.show()"
   ]
  },
  {
   "cell_type": "markdown",
   "metadata": {},
   "source": [
    "Sounds about right, in the percentage chart we can barely see the percentage of the population that has heart disease!"
   ]
  },
  {
   "cell_type": "markdown",
   "metadata": {},
   "source": [
    "So... if all we're being evaluated on is how often we get the answer right, doesn't it make sense to always predict 0? "
   ]
  },
  {
   "cell_type": "code",
   "execution_count": 13,
   "metadata": {},
   "outputs": [],
   "source": [
    "realistic_data['always zero'] = 0 "
   ]
  },
  {
   "cell_type": "markdown",
   "metadata": {},
   "source": [
    "Take a minute of your time to understand the next line of code:"
   ]
  },
  {
   "cell_type": "code",
   "execution_count": 14,
   "metadata": {},
   "outputs": [],
   "source": [
    "realistic_data['correct answer'] = realistic_data['always zero'] == realistic_data['disease']"
   ]
  },
  {
   "cell_type": "code",
   "execution_count": 15,
   "metadata": {},
   "outputs": [
    {
     "name": "stdout",
     "output_type": "stream",
     "text": [
      "0.9820627802690582\n"
     ]
    }
   ],
   "source": [
    "number_of_correct_predictions = realistic_data['correct answer'].sum()\n",
    "total_number_of_predictions = realistic_data.shape[0]\n",
    "\n",
    "accuracy = number_of_correct_predictions / total_number_of_predictions\n",
    "print(accuracy)"
   ]
  },
  {
   "cell_type": "markdown",
   "metadata": {},
   "source": [
    "Oh. So, by predicting always zero, we get an accuracy of over 98%. "
   ]
  },
  {
   "cell_type": "markdown",
   "metadata": {},
   "source": [
    "Conclusion: \n",
    "> **Accuracy is as dangerous as it is intuitive, but only works on well balanced datasets**"
   ]
  },
  {
   "cell_type": "markdown",
   "metadata": {},
   "source": [
    "Sidenote: There are ways to deal with unbalanced datasets, but we won't go into detail here, since it is not the scope of the SLU. Two common ways of dealing with this problem are [over-sampling](https://imbalanced-learn.org/stable/over_sampling.html) and [under-sampling](https://imbalanced-learn.org/stable/under_sampling.html), which you'll learn about in SLU14. They solve the problem by rebalancing the classes, either by increasing the number of observations from the minority class of by decreasing the number of observations from the majority class."
   ]
  },
  {
   "cell_type": "markdown",
   "metadata": {},
   "source": [
    "----"
   ]
  },
  {
   "cell_type": "markdown",
   "metadata": {},
   "source": [
    "# Step into the confusion matrix, Neo. "
   ]
  },
  {
   "cell_type": "markdown",
   "metadata": {},
   "source": [
    "The confusion matrix has a scary name but is actually a simple concept. "
   ]
  },
  {
   "cell_type": "markdown",
   "metadata": {},
   "source": [
    "<img src=\"media/Conf_mat_raw.png\" width=\"500\">"
   ]
  },
  {
   "cell_type": "markdown",
   "metadata": {},
   "source": [
    "In binary classification, we either predicted 0 or 1, and we're either right, or wrong. \n",
    "\n",
    "This matrix covers all cases. "
   ]
  },
  {
   "cell_type": "markdown",
   "metadata": {},
   "source": [
    "<img src=\"media/confusion_mat_labelled.png\" width=\"500\">"
   ]
  },
  {
   "cell_type": "markdown",
   "metadata": {},
   "source": [
    "- If we predicted positive, and it was positive, then it is a **True Positive**\n",
    "- If we predicted negative, and it was negative, then it is a **True Negative**\n",
    "- If we predicted positive, and it was negative, then it is a **False Positive**  \n",
    "- If we predicted negative, and it was positive, then it is a **False Negative**"
   ]
  },
  {
   "cell_type": "markdown",
   "metadata": {},
   "source": [
    "Deconstructing the logic: \n",
    "- The word \"positive\" or \"negative\" refers to what we predicted. \n",
    "- The word \"true\" or \"false\" refers to whether the prediction was correct. \n",
    "\n",
    "Capiche? Good. Because almost everything from here on depends on this. "
   ]
  },
  {
   "cell_type": "markdown",
   "metadata": {},
   "source": [
    "# Scikit confusion matrix "
   ]
  },
  {
   "cell_type": "markdown",
   "metadata": {},
   "source": [
    "Let's calculate the confusion matrix for our original dataset, with our predictions "
   ]
  },
  {
   "cell_type": "code",
   "execution_count": 16,
   "metadata": {},
   "outputs": [
    {
     "data": {
      "text/html": [
       "<div>\n",
       "<style scoped>\n",
       "    .dataframe tbody tr th:only-of-type {\n",
       "        vertical-align: middle;\n",
       "    }\n",
       "\n",
       "    .dataframe tbody tr th {\n",
       "        vertical-align: top;\n",
       "    }\n",
       "\n",
       "    .dataframe thead th {\n",
       "        text-align: right;\n",
       "    }\n",
       "</style>\n",
       "<table border=\"1\" class=\"dataframe\">\n",
       "  <thead>\n",
       "    <tr style=\"text-align: right;\">\n",
       "      <th></th>\n",
       "      <th>disease</th>\n",
       "      <th>predicted_proba</th>\n",
       "      <th>prediction</th>\n",
       "    </tr>\n",
       "  </thead>\n",
       "  <tbody>\n",
       "    <tr>\n",
       "      <th>0</th>\n",
       "      <td>0.0</td>\n",
       "      <td>0.050365</td>\n",
       "      <td>0</td>\n",
       "    </tr>\n",
       "    <tr>\n",
       "      <th>1</th>\n",
       "      <td>1.0</td>\n",
       "      <td>0.969133</td>\n",
       "      <td>1</td>\n",
       "    </tr>\n",
       "    <tr>\n",
       "      <th>2</th>\n",
       "      <td>0.0</td>\n",
       "      <td>0.365029</td>\n",
       "      <td>0</td>\n",
       "    </tr>\n",
       "  </tbody>\n",
       "</table>\n",
       "</div>"
      ],
      "text/plain": [
       "   disease  predicted_proba  prediction\n",
       "0      0.0         0.050365           0\n",
       "1      1.0         0.969133           1\n",
       "2      0.0         0.365029           0"
      ]
     },
     "execution_count": 16,
     "metadata": {},
     "output_type": "execute_result"
    }
   ],
   "source": [
    "data[['disease','predicted_proba', 'prediction']].head(3)"
   ]
  },
  {
   "cell_type": "code",
   "execution_count": 17,
   "metadata": {},
   "outputs": [],
   "source": [
    "# this is scikit-learn's confusion matrix, we will use it a lot! \n",
    "confmat = confusion_matrix(y_true=data['disease'], \n",
    "                           y_pred=data['prediction'])"
   ]
  },
  {
   "cell_type": "code",
   "execution_count": 18,
   "metadata": {},
   "outputs": [
    {
     "data": {
      "text/plain": [
       "array([[219,   0],\n",
       "       [ 19,  65]])"
      ]
     },
     "execution_count": 18,
     "metadata": {},
     "output_type": "execute_result"
    }
   ],
   "source": [
    "confmat"
   ]
  },
  {
   "cell_type": "markdown",
   "metadata": {},
   "source": [
    "Without wanting to include matplotlib code here, we've made a util to pretty this up: "
   ]
  },
  {
   "cell_type": "code",
   "execution_count": 19,
   "metadata": {},
   "outputs": [
    {
     "data": {
      "image/png": "[encoded data removed]",
      "text/plain": [
       "<Figure size 288x288 with 1 Axes>"
      ]
     },
     "metadata": {
      "needs_background": "light"
     },
     "output_type": "display_data"
    }
   ],
   "source": [
    "make_confmat_pretty(confmat)"
   ]
  },
  {
   "cell_type": "markdown",
   "metadata": {},
   "source": [
    "So, we can look at this and notice a few things:\n",
    "\n",
    "\n",
    "Reading horizontally, entire first row:\n",
    "> _\"Of the times the patient was healthy, we always predicted that he was healthy (hurray!)\"_\n",
    "\n",
    "Reading horizontally, entire second row:\n",
    "> _\"Of the times the patient was sick, we were wrong 19 times, which is a lot of mistakes when we consider that there were only 84 (19+65) sick patients\"_ \n",
    "\n",
    "Reading vertically, entire first column: \n",
    "> _\"Of the times when we predicted that the patient was healthy, they were healthy 219 times (out of a total of 238), but sick 19 times.\"_   \n",
    "(_Note how this is different from the first row conclusion_)\n",
    "\n",
    "Reading vertically, entire second column:\n",
    "> _\"Of the times we predicted sick, the patient was always sick.\"_ "
   ]
  },
  {
   "cell_type": "markdown",
   "metadata": {},
   "source": [
    "## Types of errors\n",
    "\n",
    "You will admit that the confusion matrix gives us a much more nuanced idea that the accuracy being 93% could. \n",
    "\n",
    "One important thing to bear in mind is that different types of errors can weight differently. \n",
    "\n",
    "For instance, in our case, we have two options:  \n",
    "\n",
    "- A. Err on the side of making healthy patients take more tests  \n",
    "- B. Err on the side of sending sick patients away without help   \n",
    "\n",
    "Clearly option B is more problematic. But when we look at our confusion matrix, that seems to be exactly what we are doing. When they were healthy, we always said they were healthy, but when they were sick, we very often said they were healthy _(can you see that in the confusion matrix?)_. "
   ]
  },
  {
   "cell_type": "code",
   "execution_count": 20,
   "metadata": {},
   "outputs": [
    {
     "data": {
      "image/png": "[encoded data removed]",
      "text/plain": [
       "<Figure size 288x288 with 1 Axes>"
      ]
     },
     "metadata": {
      "needs_background": "light"
     },
     "output_type": "display_data"
    }
   ],
   "source": [
    "make_confmat_pretty(confmat)"
   ]
  },
  {
   "cell_type": "markdown",
   "metadata": {},
   "source": [
    "#### Therefore, this model, with 93% accuracy... sucks for the purpose it was designed to achieve! "
   ]
  },
  {
   "cell_type": "markdown",
   "metadata": {},
   "source": [
    "There are two types of errors: \n",
    "* Type 1: False Positive  \n",
    "* Type 2: False Negative  \n",
    "\n",
    "But, to be honest, most of use just use this picture to remember it: \n",
    "\n",
    "![](media/type_1_2_errors.jpg)"
   ]
  },
  {
   "cell_type": "markdown",
   "metadata": {},
   "source": [
    "# Classification Metrics"
   ]
  },
  {
   "cell_type": "markdown",
   "metadata": {},
   "source": [
    "Alright, now to some metrics stuff (we'll do the Accuracy again with a bit more formality now) "
   ]
  },
  {
   "cell_type": "code",
   "execution_count": 21,
   "metadata": {},
   "outputs": [],
   "source": [
    "predicted = data['prediction']\n",
    "observed = data['disease']"
   ]
  },
  {
   "cell_type": "markdown",
   "metadata": {},
   "source": [
    "## Accuracy score\n",
    "The [**accuracy**](http://scikit-learn.org/stable/modules/model_evaluation.html#accuracy-score) is the fraction of correct predictions. It is given by:  \n",
    "\n",
    "$$ A = \\frac{TP + TN}{TP + TN + FP + FN} $$\n",
    "\n",
    "Where, $TP$ corresponds to the True Positives, $TN$ the True Negatives, $FP$ the False Positives, and $FN$ the False Negatives.\n",
    "\n",
    "The main advantage of this metric is its simplicity and common understanding of what it means for everyone. Disadvantages of this metric:\n",
    "- Not recommended its use in highly imbalanced datasets.\n",
    "- You have to set a threshold for the output of the classifiers."
   ]
  },
  {
   "cell_type": "code",
   "execution_count": 22,
   "metadata": {},
   "outputs": [
    {
     "name": "stdout",
     "output_type": "stream",
     "text": [
      "Accuracy = 0.937\n"
     ]
    }
   ],
   "source": [
    "print('Accuracy = %2.3f' % accuracy_score(y_pred=predicted, y_true=observed))"
   ]
  },
  {
   "cell_type": "markdown",
   "metadata": {},
   "source": [
    "## Precision, Recall \n",
    "\n",
    "We'll now look into a new set of metrics - precision and recall. For these metrics, think of a problem with two classes where you are interested in one of the classes. As an example, for medical datasets we would be interested in the positive cases of some disease we are trying to identify. That class would be what we focus and elements from it are our **relevant cases**.\n",
    "\n",
    "Precision and recall are usually computed for this relevant class (although they can also be computed with the summed totals for all classes) and they make use of the measures we presented above - True Positives and Negatives and False Positives and Negatives.\n",
    "\n",
    "As shown in the image below, precision answers the question:\n",
    "\n",
    "> How many selected items are relevant?\n",
    "\n",
    "While recall asks\n",
    "\n",
    "> How many relevant items are selected?\n",
    "\n",
    "\n",
    "\n",
    "<a href=\"https://en.wikipedia.org/wiki/Precision_and_recall\"><img src=\"media/precision_recall.png\" width=\"300\"></a>\n",
    "\n"
   ]
  },
  {
   "cell_type": "markdown",
   "metadata": {},
   "source": [
    "In other words, [**precision**](http://scikit-learn.org/stable/modules/generated/sklearn.metrics.precision_score.html#sklearn.metrics.precision_score) is the ability of the classifier not to label as positive a sample that is negative (i.e., a measure of result relevancy).\n",
    "\n",
    "$$ P = \\frac{TP}{TP+FP} $$  \n",
    "\n",
    "In the confusion matrix, precision would be the bottom right (65) divided by the sum of the second column (65)"
   ]
  },
  {
   "cell_type": "code",
   "execution_count": 23,
   "metadata": {},
   "outputs": [
    {
     "data": {
      "text/plain": [
       "1.0"
      ]
     },
     "execution_count": 23,
     "metadata": {},
     "output_type": "execute_result"
    }
   ],
   "source": [
    "precision_score(y_pred=predicted, y_true=observed)"
   ]
  },
  {
   "cell_type": "markdown",
   "metadata": {},
   "source": [
    "#### One way to think about precision is:\n",
    "\n",
    "<img src=\"media/precision_judge.jpg\" width=\"400\">"
   ]
  },
  {
   "cell_type": "markdown",
   "metadata": {},
   "source": [
    "On the other hand, [**recall**](http://scikit-learn.org/stable/modules/generated/sklearn.metrics.recall_score.html#sklearn.metrics.recall_score) is the ability of the classifier to find all the positive samples (i.e., a measure of how many truly relevant results are returned).\n",
    "\n",
    "$$ R = \\frac{TP}{TP+FN} $$  \n"
   ]
  },
  {
   "cell_type": "markdown",
   "metadata": {},
   "source": [
    "In the confusion matrix, it is the true positives (65) divided by the bottom row (False Negatives (19) + True Positives (65))"
   ]
  },
  {
   "cell_type": "code",
   "execution_count": 24,
   "metadata": {
    "scrolled": false
   },
   "outputs": [
    {
     "data": {
      "text/plain": [
       "0.7738095238095238"
      ]
     },
     "execution_count": 24,
     "metadata": {},
     "output_type": "execute_result"
    }
   ],
   "source": [
    "recall_score(y_pred=predicted, y_true=observed)"
   ]
  },
  {
   "cell_type": "markdown",
   "metadata": {},
   "source": [
    "#### A way of thinking about recall is: \n",
    "\n",
    "<img src=\"media/recall_sick_people.jpg\" width=\"400\">"
   ]
  },
  {
   "cell_type": "markdown",
   "metadata": {},
   "source": [
    "So, going back to our case, from the scores shown, we have a model that has very high precision, and comparatively low recall. This means it would rather miss a sick patient than annoy a healthy patient with tests. In a medical application, that seems like a bad idea. \n",
    "\n",
    "As you might imagine, the higher your precision, the lower your recall, and vice versa. For the same model, you can tune the precision/recall trade-off by setting different thresholds. "
   ]
  },
  {
   "cell_type": "markdown",
   "metadata": {},
   "source": [
    "----- "
   ]
  },
  {
   "cell_type": "markdown",
   "metadata": {},
   "source": [
    "# F1 score "
   ]
  },
  {
   "cell_type": "markdown",
   "metadata": {},
   "source": [
    "F1 score is an attempt to find a \"midground\" between precision and recall. However, it should be used with caution, as it assumes that both False Positives and False Negatives have the same impact on the end objective, which in a real scenario is rarely true!"
   ]
  },
  {
   "cell_type": "markdown",
   "metadata": {},
   "source": [
    "- [**F1 score**](http://scikit-learn.org/stable/modules/generated/sklearn.metrics.f1_score.html#sklearn.metrics.f1_score) can be interpreted as a weighted harmonic mean of the precision and recall (in this case recall and precision are equally important).\n",
    "\n",
    "$$ F1 = 2\\frac{P \\times R}{P+R} $$"
   ]
  },
  {
   "cell_type": "code",
   "execution_count": 25,
   "metadata": {},
   "outputs": [
    {
     "name": "stdout",
     "output_type": "stream",
     "text": [
      "F1 score = 0.872\n"
     ]
    }
   ],
   "source": [
    "print('F1 score = %1.3f' % f1_score(y_pred=predicted, y_true=observed))"
   ]
  },
  {
   "cell_type": "markdown",
   "metadata": {},
   "source": [
    "In fact, I don't believe that I've ever found a situation where False Positives and False Negatives have the same impact, so feel free to reach out to me on Slack if you remember one!"
   ]
  },
  {
   "cell_type": "markdown",
   "metadata": {},
   "source": [
    "It is safe to say that, in general, choosing F1 score as a metric is a bad idea. "
   ]
  },
  {
   "cell_type": "markdown",
   "metadata": {},
   "source": [
    "For further information on precision, recall and f1-score click [here](http://scikit-learn.org/stable/modules/model_evaluation.html#precision-recall-and-f-measures)."
   ]
  },
  {
   "cell_type": "markdown",
   "metadata": {},
   "source": [
    "Always remember: _different metrics serve different purposes_. One of the most important issues is related with the balance of our binary classification problem. So, before computing any of the above metrics, you should check if the dataset has **class imbalance** (one of the classes, either 0 or 1, is present in the dataset in a much higher percentage than the other one)."
   ]
  },
  {
   "cell_type": "markdown",
   "metadata": {},
   "source": [
    "As a final note on F1 score, some of you may be thinking: if this is not that useful in real-life, why are we learning it? To be frank you're learning this so that if you ever come across a site like [this](https://sebastianraschka.com/faq/docs/computing-the-f1-score.html) and read things like this: \"What we are trying to achieve with the F1-score metric is to find an equal balance between precision and recall, which is extremely useful in most scenarios when we are working with imbalanced datasets (i.e., a dataset with a non-uniform distribution of class labels).\" you don't believe it."
   ]
  },
  {
   "cell_type": "markdown",
   "metadata": {},
   "source": [
    "------"
   ]
  },
  {
   "cell_type": "markdown",
   "metadata": {},
   "source": [
    "# Intuitions behind the ROC Curve \n",
    "\n",
    "Ok, now things are about to get funky. We are about to introduce one of the concepts you will use more often as a data scientist. Buckle up. \n",
    "\n",
    "Let's say we are trying to figure out how well our model does, by seeing how well it \"ranks\" the observations. \n",
    "\n",
    "We'll take it slowly. "
   ]
  },
  {
   "cell_type": "code",
   "execution_count": 26,
   "metadata": {},
   "outputs": [
    {
     "data": {
      "text/html": [
       "<div>\n",
       "<style scoped>\n",
       "    .dataframe tbody tr th:only-of-type {\n",
       "        vertical-align: middle;\n",
       "    }\n",
       "\n",
       "    .dataframe tbody tr th {\n",
       "        vertical-align: top;\n",
       "    }\n",
       "\n",
       "    .dataframe thead th {\n",
       "        text-align: right;\n",
       "    }\n",
       "</style>\n",
       "<table border=\"1\" class=\"dataframe\">\n",
       "  <thead>\n",
       "    <tr style=\"text-align: right;\">\n",
       "      <th></th>\n",
       "      <th>predicted_proba</th>\n",
       "      <th>disease</th>\n",
       "    </tr>\n",
       "  </thead>\n",
       "  <tbody>\n",
       "    <tr>\n",
       "      <th>104</th>\n",
       "      <td>0.977353</td>\n",
       "      <td>0.0</td>\n",
       "    </tr>\n",
       "    <tr>\n",
       "      <th>9</th>\n",
       "      <td>0.210351</td>\n",
       "      <td>0.0</td>\n",
       "    </tr>\n",
       "    <tr>\n",
       "      <th>161</th>\n",
       "      <td>0.050172</td>\n",
       "      <td>1.0</td>\n",
       "    </tr>\n",
       "    <tr>\n",
       "      <th>250</th>\n",
       "      <td>0.060706</td>\n",
       "      <td>0.0</td>\n",
       "    </tr>\n",
       "    <tr>\n",
       "      <th>244</th>\n",
       "      <td>0.041574</td>\n",
       "      <td>0.0</td>\n",
       "    </tr>\n",
       "  </tbody>\n",
       "</table>\n",
       "</div>"
      ],
      "text/plain": [
       "     predicted_proba  disease\n",
       "104         0.977353      0.0\n",
       "9           0.210351      0.0\n",
       "161         0.050172      1.0\n",
       "250         0.060706      0.0\n",
       "244         0.041574      0.0"
      ]
     },
     "metadata": {},
     "output_type": "display_data"
    }
   ],
   "source": [
    "# ignore this if you want, just creating a subset to avoid showing \n",
    "# the full dataset all the time \n",
    "df = get_subset(data)\n",
    "display(df.sample(5, random_state=104))"
   ]
  },
  {
   "cell_type": "markdown",
   "metadata": {},
   "source": [
    "We established before that to make predictions we need to make a threshold, right? \n",
    "\n",
    "What we did before was set a threshold at 0.5:"
   ]
  },
  {
   "cell_type": "code",
   "execution_count": 27,
   "metadata": {},
   "outputs": [
    {
     "data": {
      "text/html": [
       "<style  type=\"text/css\" >\n",
       "#T_ceefd_row0_col0,#T_ceefd_row0_col1,#T_ceefd_row0_col2,#T_ceefd_row1_col0,#T_ceefd_row1_col1,#T_ceefd_row1_col2,#T_ceefd_row2_col0,#T_ceefd_row2_col1,#T_ceefd_row2_col2,#T_ceefd_row3_col0,#T_ceefd_row3_col1,#T_ceefd_row4_col0,#T_ceefd_row4_col1,#T_ceefd_row4_col2{\n",
       "            color:  black;\n",
       "        }#T_ceefd_row3_col2{\n",
       "            color:  red;\n",
       "        }</style><table id=\"T_ceefd_\" ><thead>    <tr>        <th class=\"blank level0\" ></th>        <th class=\"col_heading level0 col0\" >predicted_proba</th>        <th class=\"col_heading level0 col1\" >disease</th>        <th class=\"col_heading level0 col2\" >threshold at 0.5</th>    </tr></thead><tbody>\n",
       "                <tr>\n",
       "                        <th id=\"T_ceefd_level0_row0\" class=\"row_heading level0 row0\" >245</th>\n",
       "                        <td id=\"T_ceefd_row0_col0\" class=\"data row0 col0\" >0.872704</td>\n",
       "                        <td id=\"T_ceefd_row0_col1\" class=\"data row0 col1\" >1.000000</td>\n",
       "                        <td id=\"T_ceefd_row0_col2\" class=\"data row0 col2\" >1</td>\n",
       "            </tr>\n",
       "            <tr>\n",
       "                        <th id=\"T_ceefd_level0_row1\" class=\"row_heading level0 row1\" >162</th>\n",
       "                        <td id=\"T_ceefd_row1_col0\" class=\"data row1 col0\" >0.016896</td>\n",
       "                        <td id=\"T_ceefd_row1_col1\" class=\"data row1 col1\" >0.000000</td>\n",
       "                        <td id=\"T_ceefd_row1_col2\" class=\"data row1 col2\" >0</td>\n",
       "            </tr>\n",
       "            <tr>\n",
       "                        <th id=\"T_ceefd_level0_row2\" class=\"row_heading level0 row2\" >10</th>\n",
       "                        <td id=\"T_ceefd_row2_col0\" class=\"data row2 col0\" >0.018994</td>\n",
       "                        <td id=\"T_ceefd_row2_col1\" class=\"data row2 col1\" >0.000000</td>\n",
       "                        <td id=\"T_ceefd_row2_col2\" class=\"data row2 col2\" >0</td>\n",
       "            </tr>\n",
       "            <tr>\n",
       "                        <th id=\"T_ceefd_level0_row3\" class=\"row_heading level0 row3\" >161</th>\n",
       "                        <td id=\"T_ceefd_row3_col0\" class=\"data row3 col0\" >0.050172</td>\n",
       "                        <td id=\"T_ceefd_row3_col1\" class=\"data row3 col1\" >1.000000</td>\n",
       "                        <td id=\"T_ceefd_row3_col2\" class=\"data row3 col2\" >0</td>\n",
       "            </tr>\n",
       "            <tr>\n",
       "                        <th id=\"T_ceefd_level0_row4\" class=\"row_heading level0 row4\" >73</th>\n",
       "                        <td id=\"T_ceefd_row4_col0\" class=\"data row4 col0\" >0.057306</td>\n",
       "                        <td id=\"T_ceefd_row4_col1\" class=\"data row4 col1\" >0.000000</td>\n",
       "                        <td id=\"T_ceefd_row4_col2\" class=\"data row4 col2\" >0</td>\n",
       "            </tr>\n",
       "    </tbody></table>"
      ],
      "text/plain": [
       "<pandas.io.formats.style.Styler at 0x11fc72910>"
      ]
     },
     "execution_count": 27,
     "metadata": {},
     "output_type": "execute_result"
    }
   ],
   "source": [
    "df = threshold_df_at(df, .5)    # 50% threshold \n",
    "df.sample(5, random_state=3).style.apply(paint, axis=1)"
   ]
  },
  {
   "cell_type": "markdown",
   "metadata": {},
   "source": [
    "Ok, not bad, but we got a False Negative on that red row here (it was positive, and we called it negative).  \n",
    "\n",
    "What if we lower the threshold? Let's say to 0.05, to catch that red!  "
   ]
  },
  {
   "cell_type": "code",
   "execution_count": 28,
   "metadata": {},
   "outputs": [
    {
     "data": {
      "text/html": [
       "<style  type=\"text/css\" >\n",
       "#T_8fce6_row0_col0,#T_8fce6_row0_col1,#T_8fce6_row0_col2,#T_8fce6_row0_col3,#T_8fce6_row1_col0,#T_8fce6_row1_col1,#T_8fce6_row1_col2,#T_8fce6_row1_col3,#T_8fce6_row2_col0,#T_8fce6_row2_col1,#T_8fce6_row2_col2,#T_8fce6_row2_col3,#T_8fce6_row3_col0,#T_8fce6_row3_col1,#T_8fce6_row3_col3,#T_8fce6_row4_col0,#T_8fce6_row4_col1,#T_8fce6_row4_col2{\n",
       "            color:  black;\n",
       "        }#T_8fce6_row3_col2,#T_8fce6_row4_col3{\n",
       "            color:  red;\n",
       "        }</style><table id=\"T_8fce6_\" ><thead>    <tr>        <th class=\"blank level0\" ></th>        <th class=\"col_heading level0 col0\" >predicted_proba</th>        <th class=\"col_heading level0 col1\" >disease</th>        <th class=\"col_heading level0 col2\" >threshold at 0.5</th>        <th class=\"col_heading level0 col3\" >threshold at 0.05</th>    </tr></thead><tbody>\n",
       "                <tr>\n",
       "                        <th id=\"T_8fce6_level0_row0\" class=\"row_heading level0 row0\" >245</th>\n",
       "                        <td id=\"T_8fce6_row0_col0\" class=\"data row0 col0\" >0.872704</td>\n",
       "                        <td id=\"T_8fce6_row0_col1\" class=\"data row0 col1\" >1.000000</td>\n",
       "                        <td id=\"T_8fce6_row0_col2\" class=\"data row0 col2\" >1</td>\n",
       "                        <td id=\"T_8fce6_row0_col3\" class=\"data row0 col3\" >1</td>\n",
       "            </tr>\n",
       "            <tr>\n",
       "                        <th id=\"T_8fce6_level0_row1\" class=\"row_heading level0 row1\" >162</th>\n",
       "                        <td id=\"T_8fce6_row1_col0\" class=\"data row1 col0\" >0.016896</td>\n",
       "                        <td id=\"T_8fce6_row1_col1\" class=\"data row1 col1\" >0.000000</td>\n",
       "                        <td id=\"T_8fce6_row1_col2\" class=\"data row1 col2\" >0</td>\n",
       "                        <td id=\"T_8fce6_row1_col3\" class=\"data row1 col3\" >0</td>\n",
       "            </tr>\n",
       "            <tr>\n",
       "                        <th id=\"T_8fce6_level0_row2\" class=\"row_heading level0 row2\" >10</th>\n",
       "                        <td id=\"T_8fce6_row2_col0\" class=\"data row2 col0\" >0.018994</td>\n",
       "                        <td id=\"T_8fce6_row2_col1\" class=\"data row2 col1\" >0.000000</td>\n",
       "                        <td id=\"T_8fce6_row2_col2\" class=\"data row2 col2\" >0</td>\n",
       "                        <td id=\"T_8fce6_row2_col3\" class=\"data row2 col3\" >0</td>\n",
       "            </tr>\n",
       "            <tr>\n",
       "                        <th id=\"T_8fce6_level0_row3\" class=\"row_heading level0 row3\" >161</th>\n",
       "                        <td id=\"T_8fce6_row3_col0\" class=\"data row3 col0\" >0.050172</td>\n",
       "                        <td id=\"T_8fce6_row3_col1\" class=\"data row3 col1\" >1.000000</td>\n",
       "                        <td id=\"T_8fce6_row3_col2\" class=\"data row3 col2\" >0</td>\n",
       "                        <td id=\"T_8fce6_row3_col3\" class=\"data row3 col3\" >1</td>\n",
       "            </tr>\n",
       "            <tr>\n",
       "                        <th id=\"T_8fce6_level0_row4\" class=\"row_heading level0 row4\" >73</th>\n",
       "                        <td id=\"T_8fce6_row4_col0\" class=\"data row4 col0\" >0.057306</td>\n",
       "                        <td id=\"T_8fce6_row4_col1\" class=\"data row4 col1\" >0.000000</td>\n",
       "                        <td id=\"T_8fce6_row4_col2\" class=\"data row4 col2\" >0</td>\n",
       "                        <td id=\"T_8fce6_row4_col3\" class=\"data row4 col3\" >1</td>\n",
       "            </tr>\n",
       "    </tbody></table>"
      ],
      "text/plain": [
       "<pandas.io.formats.style.Styler at 0x11fbf9e10>"
      ]
     },
     "execution_count": 28,
     "metadata": {},
     "output_type": "execute_result"
    }
   ],
   "source": [
    "df = threshold_df_at(df, .05)  # 5% threshold\n",
    "df.sample(5, random_state=3).style.apply(paint, axis=1)"
   ]
  },
  {
   "cell_type": "markdown",
   "metadata": {},
   "source": [
    "Well, now we caught that one, but now classified a person who was healthy as sick. \n",
    "\n",
    "With 0.05, we have fewer **False Negatives**, but now we have more **False Positives**! "
   ]
  },
  {
   "cell_type": "markdown",
   "metadata": {},
   "source": [
    "The important conclusion here is as follows: \n",
    "\n",
    "> **It's hard to catch more True Positives without catching some False Positives**. "
   ]
  },
  {
   "cell_type": "markdown",
   "metadata": {},
   "source": [
    "To represent this \"ability to catch True Positives\" we will use the True Positive Rate, or \n",
    "\n",
    "> _\"what fraction of the 1s have I called 1?\"_. \n",
    "\n",
    "##### True Positive Rate \n",
    "\n",
    "$$TPR = \\frac{TP}{P} = \\frac{TP}{TP + FN}$$ \n"
   ]
  },
  {
   "cell_type": "markdown",
   "metadata": {},
   "source": [
    "<img src=\"media/conf_mat_labelled_4.png\" width=\"500\">"
   ]
  },
  {
   "cell_type": "markdown",
   "metadata": {},
   "source": [
    "To represent the False Positives (accidental catches), we will use the False Positive Rate, or \n",
    "> _\"Of the observations that were 0, what fraction did I (wrongly!) call 1?\"_"
   ]
  },
  {
   "cell_type": "markdown",
   "metadata": {},
   "source": [
    "False Positive Rate \n",
    "\n",
    "$$FPR = \\frac{FP}{N} = \\frac{FP}{FP + TN} $$"
   ]
  },
  {
   "cell_type": "markdown",
   "metadata": {},
   "source": [
    "<img src=\"media/confusion_mat_labelled 2.png\" width=\"500\">"
   ]
  },
  {
   "cell_type": "markdown",
   "metadata": {},
   "source": [
    "Great, so we can now get a bunch of different thresholds, and see how we do at each: "
   ]
  },
  {
   "cell_type": "code",
   "execution_count": 29,
   "metadata": {},
   "outputs": [
    {
     "data": {
      "text/plain": [
       "array([0.  , 0.05, 0.1 , 0.15, 0.2 , 0.25, 0.3 , 0.35, 0.4 , 0.45, 0.5 ,\n",
       "       0.55, 0.6 , 0.65, 0.7 , 0.75, 0.8 , 0.85, 0.9 , 0.95, 1.  ])"
      ]
     },
     "execution_count": 29,
     "metadata": {},
     "output_type": "execute_result"
    }
   ],
   "source": [
    "bunch_of_different_thresholds = np.round(np.linspace(0, 1, 21), 2)\n",
    "bunch_of_different_thresholds"
   ]
  },
  {
   "cell_type": "code",
   "execution_count": 30,
   "metadata": {},
   "outputs": [],
   "source": [
    "df = get_subset(data)  # just resetting the dataset \n",
    "\n",
    "for threshold in bunch_of_different_thresholds:\n",
    "    df = threshold_df_at(df, threshold)"
   ]
  },
  {
   "cell_type": "code",
   "execution_count": 31,
   "metadata": {},
   "outputs": [
    {
     "data": {
      "text/html": [
       "<style  type=\"text/css\" >\n",
       "#T_2fc65_row0_col0,#T_2fc65_row0_col1,#T_2fc65_row0_col2,#T_2fc65_row1_col0,#T_2fc65_row1_col1,#T_2fc65_row1_col3,#T_2fc65_row1_col4,#T_2fc65_row1_col5,#T_2fc65_row1_col6,#T_2fc65_row1_col7,#T_2fc65_row1_col8,#T_2fc65_row1_col9,#T_2fc65_row1_col10,#T_2fc65_row1_col11,#T_2fc65_row1_col12,#T_2fc65_row1_col13,#T_2fc65_row1_col14,#T_2fc65_row1_col15,#T_2fc65_row1_col16,#T_2fc65_row1_col17,#T_2fc65_row1_col18,#T_2fc65_row1_col19,#T_2fc65_row1_col20,#T_2fc65_row1_col21,#T_2fc65_row1_col22,#T_2fc65_row2_col0,#T_2fc65_row2_col1,#T_2fc65_row2_col2,#T_2fc65_row2_col3,#T_2fc65_row2_col4,#T_2fc65_row2_col5,#T_2fc65_row2_col6,#T_2fc65_row2_col7,#T_2fc65_row2_col8,#T_2fc65_row2_col9,#T_2fc65_row2_col10,#T_2fc65_row2_col11,#T_2fc65_row2_col12,#T_2fc65_row2_col13,#T_2fc65_row2_col14,#T_2fc65_row2_col15,#T_2fc65_row2_col16,#T_2fc65_row2_col17,#T_2fc65_row3_col0,#T_2fc65_row3_col1,#T_2fc65_row3_col2,#T_2fc65_row3_col3,#T_2fc65_row3_col4,#T_2fc65_row3_col5,#T_2fc65_row3_col6,#T_2fc65_row3_col7,#T_2fc65_row3_col8,#T_2fc65_row3_col9,#T_2fc65_row3_col10,#T_2fc65_row3_col11,#T_2fc65_row3_col12,#T_2fc65_row3_col13,#T_2fc65_row3_col14,#T_2fc65_row3_col15,#T_2fc65_row3_col16,#T_2fc65_row3_col17,#T_2fc65_row3_col18,#T_2fc65_row3_col19,#T_2fc65_row3_col20,#T_2fc65_row3_col21,#T_2fc65_row4_col0,#T_2fc65_row4_col1,#T_2fc65_row4_col3,#T_2fc65_row4_col4,#T_2fc65_row4_col5,#T_2fc65_row4_col6,#T_2fc65_row4_col7,#T_2fc65_row4_col8,#T_2fc65_row4_col9,#T_2fc65_row4_col10,#T_2fc65_row4_col11,#T_2fc65_row4_col12,#T_2fc65_row4_col13,#T_2fc65_row4_col14,#T_2fc65_row4_col15,#T_2fc65_row4_col16,#T_2fc65_row4_col17,#T_2fc65_row4_col18,#T_2fc65_row4_col19,#T_2fc65_row4_col20,#T_2fc65_row4_col21,#T_2fc65_row4_col22,#T_2fc65_row5_col0,#T_2fc65_row5_col1,#T_2fc65_row5_col2,#T_2fc65_row5_col3,#T_2fc65_row5_col4,#T_2fc65_row5_col5,#T_2fc65_row5_col6,#T_2fc65_row5_col7,#T_2fc65_row5_col8,#T_2fc65_row5_col9,#T_2fc65_row5_col10,#T_2fc65_row5_col11,#T_2fc65_row5_col12,#T_2fc65_row5_col13,#T_2fc65_row5_col14,#T_2fc65_row5_col15,#T_2fc65_row5_col16,#T_2fc65_row5_col17,#T_2fc65_row5_col18,#T_2fc65_row5_col19,#T_2fc65_row5_col20,#T_2fc65_row5_col21,#T_2fc65_row6_col0,#T_2fc65_row6_col1,#T_2fc65_row6_col4,#T_2fc65_row6_col5,#T_2fc65_row6_col6,#T_2fc65_row6_col7,#T_2fc65_row6_col8,#T_2fc65_row6_col9,#T_2fc65_row6_col10,#T_2fc65_row6_col11,#T_2fc65_row6_col12,#T_2fc65_row6_col13,#T_2fc65_row6_col14,#T_2fc65_row6_col15,#T_2fc65_row6_col16,#T_2fc65_row6_col17,#T_2fc65_row6_col18,#T_2fc65_row6_col19,#T_2fc65_row6_col20,#T_2fc65_row6_col21,#T_2fc65_row6_col22,#T_2fc65_row7_col0,#T_2fc65_row7_col1,#T_2fc65_row7_col3,#T_2fc65_row7_col4,#T_2fc65_row7_col5,#T_2fc65_row7_col6,#T_2fc65_row7_col7,#T_2fc65_row7_col8,#T_2fc65_row7_col9,#T_2fc65_row7_col10,#T_2fc65_row7_col11,#T_2fc65_row7_col12,#T_2fc65_row7_col13,#T_2fc65_row7_col14,#T_2fc65_row7_col15,#T_2fc65_row7_col16,#T_2fc65_row7_col17,#T_2fc65_row7_col18,#T_2fc65_row7_col19,#T_2fc65_row7_col20,#T_2fc65_row7_col21,#T_2fc65_row7_col22,#T_2fc65_row8_col0,#T_2fc65_row8_col1,#T_2fc65_row8_col3,#T_2fc65_row8_col4,#T_2fc65_row8_col5,#T_2fc65_row8_col6,#T_2fc65_row8_col7,#T_2fc65_row8_col8,#T_2fc65_row8_col9,#T_2fc65_row8_col10,#T_2fc65_row8_col11,#T_2fc65_row8_col12,#T_2fc65_row8_col13,#T_2fc65_row8_col14,#T_2fc65_row8_col15,#T_2fc65_row8_col16,#T_2fc65_row8_col17,#T_2fc65_row8_col18,#T_2fc65_row8_col19,#T_2fc65_row8_col20,#T_2fc65_row8_col21,#T_2fc65_row8_col22,#T_2fc65_row9_col0,#T_2fc65_row9_col1,#T_2fc65_row9_col6,#T_2fc65_row9_col7,#T_2fc65_row9_col8,#T_2fc65_row9_col9,#T_2fc65_row9_col10,#T_2fc65_row9_col11,#T_2fc65_row9_col12,#T_2fc65_row9_col13,#T_2fc65_row9_col14,#T_2fc65_row9_col15,#T_2fc65_row9_col16,#T_2fc65_row9_col17,#T_2fc65_row9_col18,#T_2fc65_row9_col19,#T_2fc65_row9_col20,#T_2fc65_row9_col21,#T_2fc65_row9_col22{\n",
       "            color:  black;\n",
       "        }#T_2fc65_row0_col3,#T_2fc65_row0_col4,#T_2fc65_row0_col5,#T_2fc65_row0_col6,#T_2fc65_row0_col7,#T_2fc65_row0_col8,#T_2fc65_row0_col9,#T_2fc65_row0_col10,#T_2fc65_row0_col11,#T_2fc65_row0_col12,#T_2fc65_row0_col13,#T_2fc65_row0_col14,#T_2fc65_row0_col15,#T_2fc65_row0_col16,#T_2fc65_row0_col17,#T_2fc65_row0_col18,#T_2fc65_row0_col19,#T_2fc65_row0_col20,#T_2fc65_row0_col21,#T_2fc65_row0_col22,#T_2fc65_row1_col2,#T_2fc65_row2_col18,#T_2fc65_row2_col19,#T_2fc65_row2_col20,#T_2fc65_row2_col21,#T_2fc65_row2_col22,#T_2fc65_row3_col22,#T_2fc65_row4_col2,#T_2fc65_row5_col22,#T_2fc65_row6_col2,#T_2fc65_row6_col3,#T_2fc65_row7_col2,#T_2fc65_row8_col2,#T_2fc65_row9_col2,#T_2fc65_row9_col3,#T_2fc65_row9_col4,#T_2fc65_row9_col5{\n",
       "            color:  red;\n",
       "        }</style><table id=\"T_2fc65_\" ><thead>    <tr>        <th class=\"blank level0\" ></th>        <th class=\"col_heading level0 col0\" >predicted_proba</th>        <th class=\"col_heading level0 col1\" >disease</th>        <th class=\"col_heading level0 col2\" >threshold at 0.0</th>        <th class=\"col_heading level0 col3\" >threshold at 0.05</th>        <th class=\"col_heading level0 col4\" >threshold at 0.1</th>        <th class=\"col_heading level0 col5\" >threshold at 0.15</th>        <th class=\"col_heading level0 col6\" >threshold at 0.2</th>        <th class=\"col_heading level0 col7\" >threshold at 0.25</th>        <th class=\"col_heading level0 col8\" >threshold at 0.3</th>        <th class=\"col_heading level0 col9\" >threshold at 0.35</th>        <th class=\"col_heading level0 col10\" >threshold at 0.4</th>        <th class=\"col_heading level0 col11\" >threshold at 0.45</th>        <th class=\"col_heading level0 col12\" >threshold at 0.5</th>        <th class=\"col_heading level0 col13\" >threshold at 0.55</th>        <th class=\"col_heading level0 col14\" >threshold at 0.6</th>        <th class=\"col_heading level0 col15\" >threshold at 0.65</th>        <th class=\"col_heading level0 col16\" >threshold at 0.7</th>        <th class=\"col_heading level0 col17\" >threshold at 0.75</th>        <th class=\"col_heading level0 col18\" >threshold at 0.8</th>        <th class=\"col_heading level0 col19\" >threshold at 0.85</th>        <th class=\"col_heading level0 col20\" >threshold at 0.9</th>        <th class=\"col_heading level0 col21\" >threshold at 0.95</th>        <th class=\"col_heading level0 col22\" >threshold at 1.0</th>    </tr></thead><tbody>\n",
       "                <tr>\n",
       "                        <th id=\"T_2fc65_level0_row0\" class=\"row_heading level0 row0\" >246</th>\n",
       "                        <td id=\"T_2fc65_row0_col0\" class=\"data row0 col0\" >0.029229</td>\n",
       "                        <td id=\"T_2fc65_row0_col1\" class=\"data row0 col1\" >1.000000</td>\n",
       "                        <td id=\"T_2fc65_row0_col2\" class=\"data row0 col2\" >1</td>\n",
       "                        <td id=\"T_2fc65_row0_col3\" class=\"data row0 col3\" >0</td>\n",
       "                        <td id=\"T_2fc65_row0_col4\" class=\"data row0 col4\" >0</td>\n",
       "                        <td id=\"T_2fc65_row0_col5\" class=\"data row0 col5\" >0</td>\n",
       "                        <td id=\"T_2fc65_row0_col6\" class=\"data row0 col6\" >0</td>\n",
       "                        <td id=\"T_2fc65_row0_col7\" class=\"data row0 col7\" >0</td>\n",
       "                        <td id=\"T_2fc65_row0_col8\" class=\"data row0 col8\" >0</td>\n",
       "                        <td id=\"T_2fc65_row0_col9\" class=\"data row0 col9\" >0</td>\n",
       "                        <td id=\"T_2fc65_row0_col10\" class=\"data row0 col10\" >0</td>\n",
       "                        <td id=\"T_2fc65_row0_col11\" class=\"data row0 col11\" >0</td>\n",
       "                        <td id=\"T_2fc65_row0_col12\" class=\"data row0 col12\" >0</td>\n",
       "                        <td id=\"T_2fc65_row0_col13\" class=\"data row0 col13\" >0</td>\n",
       "                        <td id=\"T_2fc65_row0_col14\" class=\"data row0 col14\" >0</td>\n",
       "                        <td id=\"T_2fc65_row0_col15\" class=\"data row0 col15\" >0</td>\n",
       "                        <td id=\"T_2fc65_row0_col16\" class=\"data row0 col16\" >0</td>\n",
       "                        <td id=\"T_2fc65_row0_col17\" class=\"data row0 col17\" >0</td>\n",
       "                        <td id=\"T_2fc65_row0_col18\" class=\"data row0 col18\" >0</td>\n",
       "                        <td id=\"T_2fc65_row0_col19\" class=\"data row0 col19\" >0</td>\n",
       "                        <td id=\"T_2fc65_row0_col20\" class=\"data row0 col20\" >0</td>\n",
       "                        <td id=\"T_2fc65_row0_col21\" class=\"data row0 col21\" >0</td>\n",
       "                        <td id=\"T_2fc65_row0_col22\" class=\"data row0 col22\" >0</td>\n",
       "            </tr>\n",
       "            <tr>\n",
       "                        <th id=\"T_2fc65_level0_row1\" class=\"row_heading level0 row1\" >183</th>\n",
       "                        <td id=\"T_2fc65_row1_col0\" class=\"data row1 col0\" >0.029229</td>\n",
       "                        <td id=\"T_2fc65_row1_col1\" class=\"data row1 col1\" >0.000000</td>\n",
       "                        <td id=\"T_2fc65_row1_col2\" class=\"data row1 col2\" >1</td>\n",
       "                        <td id=\"T_2fc65_row1_col3\" class=\"data row1 col3\" >0</td>\n",
       "                        <td id=\"T_2fc65_row1_col4\" class=\"data row1 col4\" >0</td>\n",
       "                        <td id=\"T_2fc65_row1_col5\" class=\"data row1 col5\" >0</td>\n",
       "                        <td id=\"T_2fc65_row1_col6\" class=\"data row1 col6\" >0</td>\n",
       "                        <td id=\"T_2fc65_row1_col7\" class=\"data row1 col7\" >0</td>\n",
       "                        <td id=\"T_2fc65_row1_col8\" class=\"data row1 col8\" >0</td>\n",
       "                        <td id=\"T_2fc65_row1_col9\" class=\"data row1 col9\" >0</td>\n",
       "                        <td id=\"T_2fc65_row1_col10\" class=\"data row1 col10\" >0</td>\n",
       "                        <td id=\"T_2fc65_row1_col11\" class=\"data row1 col11\" >0</td>\n",
       "                        <td id=\"T_2fc65_row1_col12\" class=\"data row1 col12\" >0</td>\n",
       "                        <td id=\"T_2fc65_row1_col13\" class=\"data row1 col13\" >0</td>\n",
       "                        <td id=\"T_2fc65_row1_col14\" class=\"data row1 col14\" >0</td>\n",
       "                        <td id=\"T_2fc65_row1_col15\" class=\"data row1 col15\" >0</td>\n",
       "                        <td id=\"T_2fc65_row1_col16\" class=\"data row1 col16\" >0</td>\n",
       "                        <td id=\"T_2fc65_row1_col17\" class=\"data row1 col17\" >0</td>\n",
       "                        <td id=\"T_2fc65_row1_col18\" class=\"data row1 col18\" >0</td>\n",
       "                        <td id=\"T_2fc65_row1_col19\" class=\"data row1 col19\" >0</td>\n",
       "                        <td id=\"T_2fc65_row1_col20\" class=\"data row1 col20\" >0</td>\n",
       "                        <td id=\"T_2fc65_row1_col21\" class=\"data row1 col21\" >0</td>\n",
       "                        <td id=\"T_2fc65_row1_col22\" class=\"data row1 col22\" >0</td>\n",
       "            </tr>\n",
       "            <tr>\n",
       "                        <th id=\"T_2fc65_level0_row2\" class=\"row_heading level0 row2\" >229</th>\n",
       "                        <td id=\"T_2fc65_row2_col0\" class=\"data row2 col0\" >0.779552</td>\n",
       "                        <td id=\"T_2fc65_row2_col1\" class=\"data row2 col1\" >1.000000</td>\n",
       "                        <td id=\"T_2fc65_row2_col2\" class=\"data row2 col2\" >1</td>\n",
       "                        <td id=\"T_2fc65_row2_col3\" class=\"data row2 col3\" >1</td>\n",
       "                        <td id=\"T_2fc65_row2_col4\" class=\"data row2 col4\" >1</td>\n",
       "                        <td id=\"T_2fc65_row2_col5\" class=\"data row2 col5\" >1</td>\n",
       "                        <td id=\"T_2fc65_row2_col6\" class=\"data row2 col6\" >1</td>\n",
       "                        <td id=\"T_2fc65_row2_col7\" class=\"data row2 col7\" >1</td>\n",
       "                        <td id=\"T_2fc65_row2_col8\" class=\"data row2 col8\" >1</td>\n",
       "                        <td id=\"T_2fc65_row2_col9\" class=\"data row2 col9\" >1</td>\n",
       "                        <td id=\"T_2fc65_row2_col10\" class=\"data row2 col10\" >1</td>\n",
       "                        <td id=\"T_2fc65_row2_col11\" class=\"data row2 col11\" >1</td>\n",
       "                        <td id=\"T_2fc65_row2_col12\" class=\"data row2 col12\" >1</td>\n",
       "                        <td id=\"T_2fc65_row2_col13\" class=\"data row2 col13\" >1</td>\n",
       "                        <td id=\"T_2fc65_row2_col14\" class=\"data row2 col14\" >1</td>\n",
       "                        <td id=\"T_2fc65_row2_col15\" class=\"data row2 col15\" >1</td>\n",
       "                        <td id=\"T_2fc65_row2_col16\" class=\"data row2 col16\" >1</td>\n",
       "                        <td id=\"T_2fc65_row2_col17\" class=\"data row2 col17\" >1</td>\n",
       "                        <td id=\"T_2fc65_row2_col18\" class=\"data row2 col18\" >0</td>\n",
       "                        <td id=\"T_2fc65_row2_col19\" class=\"data row2 col19\" >0</td>\n",
       "                        <td id=\"T_2fc65_row2_col20\" class=\"data row2 col20\" >0</td>\n",
       "                        <td id=\"T_2fc65_row2_col21\" class=\"data row2 col21\" >0</td>\n",
       "                        <td id=\"T_2fc65_row2_col22\" class=\"data row2 col22\" >0</td>\n",
       "            </tr>\n",
       "            <tr>\n",
       "                        <th id=\"T_2fc65_level0_row3\" class=\"row_heading level0 row3\" >126</th>\n",
       "                        <td id=\"T_2fc65_row3_col0\" class=\"data row3 col0\" >0.988070</td>\n",
       "                        <td id=\"T_2fc65_row3_col1\" class=\"data row3 col1\" >1.000000</td>\n",
       "                        <td id=\"T_2fc65_row3_col2\" class=\"data row3 col2\" >1</td>\n",
       "                        <td id=\"T_2fc65_row3_col3\" class=\"data row3 col3\" >1</td>\n",
       "                        <td id=\"T_2fc65_row3_col4\" class=\"data row3 col4\" >1</td>\n",
       "                        <td id=\"T_2fc65_row3_col5\" class=\"data row3 col5\" >1</td>\n",
       "                        <td id=\"T_2fc65_row3_col6\" class=\"data row3 col6\" >1</td>\n",
       "                        <td id=\"T_2fc65_row3_col7\" class=\"data row3 col7\" >1</td>\n",
       "                        <td id=\"T_2fc65_row3_col8\" class=\"data row3 col8\" >1</td>\n",
       "                        <td id=\"T_2fc65_row3_col9\" class=\"data row3 col9\" >1</td>\n",
       "                        <td id=\"T_2fc65_row3_col10\" class=\"data row3 col10\" >1</td>\n",
       "                        <td id=\"T_2fc65_row3_col11\" class=\"data row3 col11\" >1</td>\n",
       "                        <td id=\"T_2fc65_row3_col12\" class=\"data row3 col12\" >1</td>\n",
       "                        <td id=\"T_2fc65_row3_col13\" class=\"data row3 col13\" >1</td>\n",
       "                        <td id=\"T_2fc65_row3_col14\" class=\"data row3 col14\" >1</td>\n",
       "                        <td id=\"T_2fc65_row3_col15\" class=\"data row3 col15\" >1</td>\n",
       "                        <td id=\"T_2fc65_row3_col16\" class=\"data row3 col16\" >1</td>\n",
       "                        <td id=\"T_2fc65_row3_col17\" class=\"data row3 col17\" >1</td>\n",
       "                        <td id=\"T_2fc65_row3_col18\" class=\"data row3 col18\" >1</td>\n",
       "                        <td id=\"T_2fc65_row3_col19\" class=\"data row3 col19\" >1</td>\n",
       "                        <td id=\"T_2fc65_row3_col20\" class=\"data row3 col20\" >1</td>\n",
       "                        <td id=\"T_2fc65_row3_col21\" class=\"data row3 col21\" >1</td>\n",
       "                        <td id=\"T_2fc65_row3_col22\" class=\"data row3 col22\" >0</td>\n",
       "            </tr>\n",
       "            <tr>\n",
       "                        <th id=\"T_2fc65_level0_row4\" class=\"row_heading level0 row4\" >184</th>\n",
       "                        <td id=\"T_2fc65_row4_col0\" class=\"data row4 col0\" >0.007115</td>\n",
       "                        <td id=\"T_2fc65_row4_col1\" class=\"data row4 col1\" >0.000000</td>\n",
       "                        <td id=\"T_2fc65_row4_col2\" class=\"data row4 col2\" >1</td>\n",
       "                        <td id=\"T_2fc65_row4_col3\" class=\"data row4 col3\" >0</td>\n",
       "                        <td id=\"T_2fc65_row4_col4\" class=\"data row4 col4\" >0</td>\n",
       "                        <td id=\"T_2fc65_row4_col5\" class=\"data row4 col5\" >0</td>\n",
       "                        <td id=\"T_2fc65_row4_col6\" class=\"data row4 col6\" >0</td>\n",
       "                        <td id=\"T_2fc65_row4_col7\" class=\"data row4 col7\" >0</td>\n",
       "                        <td id=\"T_2fc65_row4_col8\" class=\"data row4 col8\" >0</td>\n",
       "                        <td id=\"T_2fc65_row4_col9\" class=\"data row4 col9\" >0</td>\n",
       "                        <td id=\"T_2fc65_row4_col10\" class=\"data row4 col10\" >0</td>\n",
       "                        <td id=\"T_2fc65_row4_col11\" class=\"data row4 col11\" >0</td>\n",
       "                        <td id=\"T_2fc65_row4_col12\" class=\"data row4 col12\" >0</td>\n",
       "                        <td id=\"T_2fc65_row4_col13\" class=\"data row4 col13\" >0</td>\n",
       "                        <td id=\"T_2fc65_row4_col14\" class=\"data row4 col14\" >0</td>\n",
       "                        <td id=\"T_2fc65_row4_col15\" class=\"data row4 col15\" >0</td>\n",
       "                        <td id=\"T_2fc65_row4_col16\" class=\"data row4 col16\" >0</td>\n",
       "                        <td id=\"T_2fc65_row4_col17\" class=\"data row4 col17\" >0</td>\n",
       "                        <td id=\"T_2fc65_row4_col18\" class=\"data row4 col18\" >0</td>\n",
       "                        <td id=\"T_2fc65_row4_col19\" class=\"data row4 col19\" >0</td>\n",
       "                        <td id=\"T_2fc65_row4_col20\" class=\"data row4 col20\" >0</td>\n",
       "                        <td id=\"T_2fc65_row4_col21\" class=\"data row4 col21\" >0</td>\n",
       "                        <td id=\"T_2fc65_row4_col22\" class=\"data row4 col22\" >0</td>\n",
       "            </tr>\n",
       "            <tr>\n",
       "                        <th id=\"T_2fc65_level0_row5\" class=\"row_heading level0 row5\" >1</th>\n",
       "                        <td id=\"T_2fc65_row5_col0\" class=\"data row5 col0\" >0.969133</td>\n",
       "                        <td id=\"T_2fc65_row5_col1\" class=\"data row5 col1\" >1.000000</td>\n",
       "                        <td id=\"T_2fc65_row5_col2\" class=\"data row5 col2\" >1</td>\n",
       "                        <td id=\"T_2fc65_row5_col3\" class=\"data row5 col3\" >1</td>\n",
       "                        <td id=\"T_2fc65_row5_col4\" class=\"data row5 col4\" >1</td>\n",
       "                        <td id=\"T_2fc65_row5_col5\" class=\"data row5 col5\" >1</td>\n",
       "                        <td id=\"T_2fc65_row5_col6\" class=\"data row5 col6\" >1</td>\n",
       "                        <td id=\"T_2fc65_row5_col7\" class=\"data row5 col7\" >1</td>\n",
       "                        <td id=\"T_2fc65_row5_col8\" class=\"data row5 col8\" >1</td>\n",
       "                        <td id=\"T_2fc65_row5_col9\" class=\"data row5 col9\" >1</td>\n",
       "                        <td id=\"T_2fc65_row5_col10\" class=\"data row5 col10\" >1</td>\n",
       "                        <td id=\"T_2fc65_row5_col11\" class=\"data row5 col11\" >1</td>\n",
       "                        <td id=\"T_2fc65_row5_col12\" class=\"data row5 col12\" >1</td>\n",
       "                        <td id=\"T_2fc65_row5_col13\" class=\"data row5 col13\" >1</td>\n",
       "                        <td id=\"T_2fc65_row5_col14\" class=\"data row5 col14\" >1</td>\n",
       "                        <td id=\"T_2fc65_row5_col15\" class=\"data row5 col15\" >1</td>\n",
       "                        <td id=\"T_2fc65_row5_col16\" class=\"data row5 col16\" >1</td>\n",
       "                        <td id=\"T_2fc65_row5_col17\" class=\"data row5 col17\" >1</td>\n",
       "                        <td id=\"T_2fc65_row5_col18\" class=\"data row5 col18\" >1</td>\n",
       "                        <td id=\"T_2fc65_row5_col19\" class=\"data row5 col19\" >1</td>\n",
       "                        <td id=\"T_2fc65_row5_col20\" class=\"data row5 col20\" >1</td>\n",
       "                        <td id=\"T_2fc65_row5_col21\" class=\"data row5 col21\" >1</td>\n",
       "                        <td id=\"T_2fc65_row5_col22\" class=\"data row5 col22\" >0</td>\n",
       "            </tr>\n",
       "            <tr>\n",
       "                        <th id=\"T_2fc65_level0_row6\" class=\"row_heading level0 row6\" >59</th>\n",
       "                        <td id=\"T_2fc65_row6_col0\" class=\"data row6 col0\" >0.075526</td>\n",
       "                        <td id=\"T_2fc65_row6_col1\" class=\"data row6 col1\" >0.000000</td>\n",
       "                        <td id=\"T_2fc65_row6_col2\" class=\"data row6 col2\" >1</td>\n",
       "                        <td id=\"T_2fc65_row6_col3\" class=\"data row6 col3\" >1</td>\n",
       "                        <td id=\"T_2fc65_row6_col4\" class=\"data row6 col4\" >0</td>\n",
       "                        <td id=\"T_2fc65_row6_col5\" class=\"data row6 col5\" >0</td>\n",
       "                        <td id=\"T_2fc65_row6_col6\" class=\"data row6 col6\" >0</td>\n",
       "                        <td id=\"T_2fc65_row6_col7\" class=\"data row6 col7\" >0</td>\n",
       "                        <td id=\"T_2fc65_row6_col8\" class=\"data row6 col8\" >0</td>\n",
       "                        <td id=\"T_2fc65_row6_col9\" class=\"data row6 col9\" >0</td>\n",
       "                        <td id=\"T_2fc65_row6_col10\" class=\"data row6 col10\" >0</td>\n",
       "                        <td id=\"T_2fc65_row6_col11\" class=\"data row6 col11\" >0</td>\n",
       "                        <td id=\"T_2fc65_row6_col12\" class=\"data row6 col12\" >0</td>\n",
       "                        <td id=\"T_2fc65_row6_col13\" class=\"data row6 col13\" >0</td>\n",
       "                        <td id=\"T_2fc65_row6_col14\" class=\"data row6 col14\" >0</td>\n",
       "                        <td id=\"T_2fc65_row6_col15\" class=\"data row6 col15\" >0</td>\n",
       "                        <td id=\"T_2fc65_row6_col16\" class=\"data row6 col16\" >0</td>\n",
       "                        <td id=\"T_2fc65_row6_col17\" class=\"data row6 col17\" >0</td>\n",
       "                        <td id=\"T_2fc65_row6_col18\" class=\"data row6 col18\" >0</td>\n",
       "                        <td id=\"T_2fc65_row6_col19\" class=\"data row6 col19\" >0</td>\n",
       "                        <td id=\"T_2fc65_row6_col20\" class=\"data row6 col20\" >0</td>\n",
       "                        <td id=\"T_2fc65_row6_col21\" class=\"data row6 col21\" >0</td>\n",
       "                        <td id=\"T_2fc65_row6_col22\" class=\"data row6 col22\" >0</td>\n",
       "            </tr>\n",
       "            <tr>\n",
       "                        <th id=\"T_2fc65_level0_row7\" class=\"row_heading level0 row7\" >194</th>\n",
       "                        <td id=\"T_2fc65_row7_col0\" class=\"data row7 col0\" >0.019427</td>\n",
       "                        <td id=\"T_2fc65_row7_col1\" class=\"data row7 col1\" >0.000000</td>\n",
       "                        <td id=\"T_2fc65_row7_col2\" class=\"data row7 col2\" >1</td>\n",
       "                        <td id=\"T_2fc65_row7_col3\" class=\"data row7 col3\" >0</td>\n",
       "                        <td id=\"T_2fc65_row7_col4\" class=\"data row7 col4\" >0</td>\n",
       "                        <td id=\"T_2fc65_row7_col5\" class=\"data row7 col5\" >0</td>\n",
       "                        <td id=\"T_2fc65_row7_col6\" class=\"data row7 col6\" >0</td>\n",
       "                        <td id=\"T_2fc65_row7_col7\" class=\"data row7 col7\" >0</td>\n",
       "                        <td id=\"T_2fc65_row7_col8\" class=\"data row7 col8\" >0</td>\n",
       "                        <td id=\"T_2fc65_row7_col9\" class=\"data row7 col9\" >0</td>\n",
       "                        <td id=\"T_2fc65_row7_col10\" class=\"data row7 col10\" >0</td>\n",
       "                        <td id=\"T_2fc65_row7_col11\" class=\"data row7 col11\" >0</td>\n",
       "                        <td id=\"T_2fc65_row7_col12\" class=\"data row7 col12\" >0</td>\n",
       "                        <td id=\"T_2fc65_row7_col13\" class=\"data row7 col13\" >0</td>\n",
       "                        <td id=\"T_2fc65_row7_col14\" class=\"data row7 col14\" >0</td>\n",
       "                        <td id=\"T_2fc65_row7_col15\" class=\"data row7 col15\" >0</td>\n",
       "                        <td id=\"T_2fc65_row7_col16\" class=\"data row7 col16\" >0</td>\n",
       "                        <td id=\"T_2fc65_row7_col17\" class=\"data row7 col17\" >0</td>\n",
       "                        <td id=\"T_2fc65_row7_col18\" class=\"data row7 col18\" >0</td>\n",
       "                        <td id=\"T_2fc65_row7_col19\" class=\"data row7 col19\" >0</td>\n",
       "                        <td id=\"T_2fc65_row7_col20\" class=\"data row7 col20\" >0</td>\n",
       "                        <td id=\"T_2fc65_row7_col21\" class=\"data row7 col21\" >0</td>\n",
       "                        <td id=\"T_2fc65_row7_col22\" class=\"data row7 col22\" >0</td>\n",
       "            </tr>\n",
       "            <tr>\n",
       "                        <th id=\"T_2fc65_level0_row8\" class=\"row_heading level0 row8\" >132</th>\n",
       "                        <td id=\"T_2fc65_row8_col0\" class=\"data row8 col0\" >0.007561</td>\n",
       "                        <td id=\"T_2fc65_row8_col1\" class=\"data row8 col1\" >0.000000</td>\n",
       "                        <td id=\"T_2fc65_row8_col2\" class=\"data row8 col2\" >1</td>\n",
       "                        <td id=\"T_2fc65_row8_col3\" class=\"data row8 col3\" >0</td>\n",
       "                        <td id=\"T_2fc65_row8_col4\" class=\"data row8 col4\" >0</td>\n",
       "                        <td id=\"T_2fc65_row8_col5\" class=\"data row8 col5\" >0</td>\n",
       "                        <td id=\"T_2fc65_row8_col6\" class=\"data row8 col6\" >0</td>\n",
       "                        <td id=\"T_2fc65_row8_col7\" class=\"data row8 col7\" >0</td>\n",
       "                        <td id=\"T_2fc65_row8_col8\" class=\"data row8 col8\" >0</td>\n",
       "                        <td id=\"T_2fc65_row8_col9\" class=\"data row8 col9\" >0</td>\n",
       "                        <td id=\"T_2fc65_row8_col10\" class=\"data row8 col10\" >0</td>\n",
       "                        <td id=\"T_2fc65_row8_col11\" class=\"data row8 col11\" >0</td>\n",
       "                        <td id=\"T_2fc65_row8_col12\" class=\"data row8 col12\" >0</td>\n",
       "                        <td id=\"T_2fc65_row8_col13\" class=\"data row8 col13\" >0</td>\n",
       "                        <td id=\"T_2fc65_row8_col14\" class=\"data row8 col14\" >0</td>\n",
       "                        <td id=\"T_2fc65_row8_col15\" class=\"data row8 col15\" >0</td>\n",
       "                        <td id=\"T_2fc65_row8_col16\" class=\"data row8 col16\" >0</td>\n",
       "                        <td id=\"T_2fc65_row8_col17\" class=\"data row8 col17\" >0</td>\n",
       "                        <td id=\"T_2fc65_row8_col18\" class=\"data row8 col18\" >0</td>\n",
       "                        <td id=\"T_2fc65_row8_col19\" class=\"data row8 col19\" >0</td>\n",
       "                        <td id=\"T_2fc65_row8_col20\" class=\"data row8 col20\" >0</td>\n",
       "                        <td id=\"T_2fc65_row8_col21\" class=\"data row8 col21\" >0</td>\n",
       "                        <td id=\"T_2fc65_row8_col22\" class=\"data row8 col22\" >0</td>\n",
       "            </tr>\n",
       "            <tr>\n",
       "                        <th id=\"T_2fc65_level0_row9\" class=\"row_heading level0 row9\" >175</th>\n",
       "                        <td id=\"T_2fc65_row9_col0\" class=\"data row9 col0\" >0.185493</td>\n",
       "                        <td id=\"T_2fc65_row9_col1\" class=\"data row9 col1\" >0.000000</td>\n",
       "                        <td id=\"T_2fc65_row9_col2\" class=\"data row9 col2\" >1</td>\n",
       "                        <td id=\"T_2fc65_row9_col3\" class=\"data row9 col3\" >1</td>\n",
       "                        <td id=\"T_2fc65_row9_col4\" class=\"data row9 col4\" >1</td>\n",
       "                        <td id=\"T_2fc65_row9_col5\" class=\"data row9 col5\" >1</td>\n",
       "                        <td id=\"T_2fc65_row9_col6\" class=\"data row9 col6\" >0</td>\n",
       "                        <td id=\"T_2fc65_row9_col7\" class=\"data row9 col7\" >0</td>\n",
       "                        <td id=\"T_2fc65_row9_col8\" class=\"data row9 col8\" >0</td>\n",
       "                        <td id=\"T_2fc65_row9_col9\" class=\"data row9 col9\" >0</td>\n",
       "                        <td id=\"T_2fc65_row9_col10\" class=\"data row9 col10\" >0</td>\n",
       "                        <td id=\"T_2fc65_row9_col11\" class=\"data row9 col11\" >0</td>\n",
       "                        <td id=\"T_2fc65_row9_col12\" class=\"data row9 col12\" >0</td>\n",
       "                        <td id=\"T_2fc65_row9_col13\" class=\"data row9 col13\" >0</td>\n",
       "                        <td id=\"T_2fc65_row9_col14\" class=\"data row9 col14\" >0</td>\n",
       "                        <td id=\"T_2fc65_row9_col15\" class=\"data row9 col15\" >0</td>\n",
       "                        <td id=\"T_2fc65_row9_col16\" class=\"data row9 col16\" >0</td>\n",
       "                        <td id=\"T_2fc65_row9_col17\" class=\"data row9 col17\" >0</td>\n",
       "                        <td id=\"T_2fc65_row9_col18\" class=\"data row9 col18\" >0</td>\n",
       "                        <td id=\"T_2fc65_row9_col19\" class=\"data row9 col19\" >0</td>\n",
       "                        <td id=\"T_2fc65_row9_col20\" class=\"data row9 col20\" >0</td>\n",
       "                        <td id=\"T_2fc65_row9_col21\" class=\"data row9 col21\" >0</td>\n",
       "                        <td id=\"T_2fc65_row9_col22\" class=\"data row9 col22\" >0</td>\n",
       "            </tr>\n",
       "    </tbody></table>"
      ],
      "text/plain": [
       "<pandas.io.formats.style.Styler at 0x11fdf82d0>"
      ]
     },
     "execution_count": 31,
     "metadata": {},
     "output_type": "execute_result"
    }
   ],
   "source": [
    "df.sample(10, random_state=10).style.apply(paint, axis=1)"
   ]
  },
  {
   "cell_type": "markdown",
   "metadata": {},
   "source": [
    "So, at low thresholds, we have lots of red 1s (False Positives), and a high thresholds we have lots of red 0s (False Negatives). "
   ]
  },
  {
   "cell_type": "markdown",
   "metadata": {},
   "source": [
    "What is our TPR (True Positive Rate) and FPR (False Positive Rate) for each of these thresholds? "
   ]
  },
  {
   "cell_type": "code",
   "execution_count": 32,
   "metadata": {},
   "outputs": [
    {
     "name": "stdout",
     "output_type": "stream",
     "text": [
      "Showing some low thresholds...\n"
     ]
    },
    {
     "data": {
      "text/html": [
       "<div>\n",
       "<style scoped>\n",
       "    .dataframe tbody tr th:only-of-type {\n",
       "        vertical-align: middle;\n",
       "    }\n",
       "\n",
       "    .dataframe tbody tr th {\n",
       "        vertical-align: top;\n",
       "    }\n",
       "\n",
       "    .dataframe thead th {\n",
       "        text-align: right;\n",
       "    }\n",
       "</style>\n",
       "<table border=\"1\" class=\"dataframe\">\n",
       "  <thead>\n",
       "    <tr style=\"text-align: right;\">\n",
       "      <th></th>\n",
       "      <th>False Positive Rate</th>\n",
       "      <th>True Positive Rate</th>\n",
       "    </tr>\n",
       "    <tr>\n",
       "      <th>Threshold</th>\n",
       "      <th></th>\n",
       "      <th></th>\n",
       "    </tr>\n",
       "  </thead>\n",
       "  <tbody>\n",
       "    <tr>\n",
       "      <th>0.003500</th>\n",
       "      <td>1.000000</td>\n",
       "      <td>1.000000</td>\n",
       "    </tr>\n",
       "    <tr>\n",
       "      <th>0.003924</th>\n",
       "      <td>0.995556</td>\n",
       "      <td>1.000000</td>\n",
       "    </tr>\n",
       "    <tr>\n",
       "      <th>0.003963</th>\n",
       "      <td>0.991111</td>\n",
       "      <td>0.987179</td>\n",
       "    </tr>\n",
       "    <tr>\n",
       "      <th>0.005204</th>\n",
       "      <td>0.937778</td>\n",
       "      <td>0.987179</td>\n",
       "    </tr>\n",
       "  </tbody>\n",
       "</table>\n",
       "</div>"
      ],
      "text/plain": [
       "           False Positive Rate  True Positive Rate\n",
       "Threshold                                         \n",
       "0.003500              1.000000            1.000000\n",
       "0.003924              0.995556            1.000000\n",
       "0.003963              0.991111            0.987179\n",
       "0.005204              0.937778            0.987179"
      ]
     },
     "metadata": {},
     "output_type": "display_data"
    }
   ],
   "source": [
    "rates = get_rates(df)\n",
    "print('Showing some low thresholds...')\n",
    "display(rates.head(4))"
   ]
  },
  {
   "cell_type": "markdown",
   "metadata": {},
   "source": [
    "This makes sense, at a really low threshold we are calling everything 1, so we're catching all the True Positives, but also all the False Positives."
   ]
  },
  {
   "cell_type": "code",
   "execution_count": 33,
   "metadata": {},
   "outputs": [
    {
     "name": "stdout",
     "output_type": "stream",
     "text": [
      "Showing some high thresholds...\n"
     ]
    },
    {
     "data": {
      "text/html": [
       "<div>\n",
       "<style scoped>\n",
       "    .dataframe tbody tr th:only-of-type {\n",
       "        vertical-align: middle;\n",
       "    }\n",
       "\n",
       "    .dataframe tbody tr th {\n",
       "        vertical-align: top;\n",
       "    }\n",
       "\n",
       "    .dataframe thead th {\n",
       "        text-align: right;\n",
       "    }\n",
       "</style>\n",
       "<table border=\"1\" class=\"dataframe\">\n",
       "  <thead>\n",
       "    <tr style=\"text-align: right;\">\n",
       "      <th></th>\n",
       "      <th>False Positive Rate</th>\n",
       "      <th>True Positive Rate</th>\n",
       "    </tr>\n",
       "    <tr>\n",
       "      <th>Threshold</th>\n",
       "      <th></th>\n",
       "      <th></th>\n",
       "    </tr>\n",
       "  </thead>\n",
       "  <tbody>\n",
       "    <tr>\n",
       "      <th>0.979386</th>\n",
       "      <td>0.0</td>\n",
       "      <td>0.102564</td>\n",
       "    </tr>\n",
       "    <tr>\n",
       "      <th>0.988070</th>\n",
       "      <td>0.0</td>\n",
       "      <td>0.051282</td>\n",
       "    </tr>\n",
       "    <tr>\n",
       "      <th>0.990402</th>\n",
       "      <td>0.0</td>\n",
       "      <td>0.025641</td>\n",
       "    </tr>\n",
       "    <tr>\n",
       "      <th>0.992901</th>\n",
       "      <td>0.0</td>\n",
       "      <td>0.012821</td>\n",
       "    </tr>\n",
       "  </tbody>\n",
       "</table>\n",
       "</div>"
      ],
      "text/plain": [
       "           False Positive Rate  True Positive Rate\n",
       "Threshold                                         \n",
       "0.979386                   0.0            0.102564\n",
       "0.988070                   0.0            0.051282\n",
       "0.990402                   0.0            0.025641\n",
       "0.992901                   0.0            0.012821"
      ]
     },
     "metadata": {},
     "output_type": "display_data"
    }
   ],
   "source": [
    "print('Showing some high thresholds...')\n",
    "display(rates.tail(4))"
   ]
  },
  {
   "cell_type": "markdown",
   "metadata": {},
   "source": [
    "This also makes sense, at really high thresholds we're calling everything 0, and therefore catch hardly any positives. "
   ]
  },
  {
   "cell_type": "markdown",
   "metadata": {},
   "source": [
    "Or, graphically..."
   ]
  },
  {
   "cell_type": "code",
   "execution_count": 34,
   "metadata": {},
   "outputs": [
    {
     "data": {
      "image/png": "[encoded data removed]",
      "text/plain": [
       "<Figure size 1152x288 with 1 Axes>"
      ]
     },
     "metadata": {
      "needs_background": "light"
     },
     "output_type": "display_data"
    }
   ],
   "source": [
    "rates.plot(figsize=(16, 4))\n",
    "plt.title('False positive rate and True positive rate vs threshold')\n",
    "plt.xlabel('Threshold')\n",
    "plt.ylabel('Fraction')\n",
    "plt.show()"
   ]
  },
  {
   "cell_type": "markdown",
   "metadata": {},
   "source": [
    "Cool... so at really low thresholds (\"always saying 1\") we catch all the true positives, but immediately generate a tonne of false positives. \n",
    "\n",
    "Now (ok, last step I promise) this threshold axis is kind of redundant. We can just plot TPR vs FPR. "
   ]
  },
  {
   "cell_type": "code",
   "execution_count": 35,
   "metadata": {},
   "outputs": [],
   "source": [
    "rates = get_rates(df)"
   ]
  },
  {
   "cell_type": "code",
   "execution_count": 36,
   "metadata": {},
   "outputs": [
    {
     "data": {
      "image/png": "[encoded data removed]",
      "text/plain": [
       "<Figure size 1152x288 with 1 Axes>"
      ]
     },
     "metadata": {
      "needs_background": "light"
     },
     "output_type": "display_data"
    }
   ],
   "source": [
    "rates.set_index('False Positive Rate')['True Positive Rate'].plot(figsize=(16, 4))\n",
    "plt.title('TPR vs FPR')\n",
    "plt.xlabel('False Positive Rate')\n",
    "plt.ylabel('True Positive Rate')\n",
    "plt.show()"
   ]
  },
  {
   "cell_type": "markdown",
   "metadata": {},
   "source": [
    "Here we can observe a few interesting things. As you may remember, we were excellent at detecting a bunch of True positives before we start detecting any False positives (very high precision, like a judge). \n",
    "\n",
    "That is reflected in the fact that the curve grows very fast on the left side. Does that make sense? \n",
    "\n",
    "Here's the good news: we've just drawn a complete ROC Curve! "
   ]
  },
  {
   "cell_type": "markdown",
   "metadata": {},
   "source": [
    "----"
   ]
  },
  {
   "cell_type": "markdown",
   "metadata": {},
   "source": [
    "# The ROC Curve "
   ]
  },
  {
   "cell_type": "markdown",
   "metadata": {},
   "source": [
    "\n",
    "\n",
    "The Receiver Operating Characteristic (ROC) curve is a very common (and important) metric for **binary classification problems** (when predicting 0 or 1). \n",
    "\n",
    "**Formally**, it is created by plotting the fraction of true positives out of the positives (TPR = true positive rate, a.k.a., sensitivity) vs. the fraction of false positives out of the negatives (FPR = false positive rate, or 1-specificity), at various threshold settings. Sklearn already provide us with all the tools:\n",
    "\n",
    "Take a look at an example ROC curve below ([source](http://scikit-learn.org/stable/auto_examples/model_selection/plot_roc.html#sphx-glr-auto-examples-model-selection-plot-roc-py)):\n",
    "\n",
    "<img alt=\"ROC\" src=\"media/sphx_glr_plot_roc_001.png\" width=\"500\">\n",
    "\n",
    "The desired curve is one that gets to top left corner the fastest possible (which as you can imagine maximizes the area below it). So, an ideal (but very suspicious) AUROC curve is 1.0, while in a completely random scenario we have an AUROC = 0.5. \n",
    "\n",
    "In the following images we've drawn a perfect and random classifier overlaid with the original (ok-ish) one. \n",
    "\n",
    "<img src=\"media/rocs.png\" width=\"900\">\n",
    "\n",
    "Unlike the previous metrics, the ROC functions above require the actual scores/probabilities (and not the predicted labels, which would be 0 and 1). This has the major advantage of allowing you to compare two potential classifiers without having to choose a threshold in advance! \n",
    "\n",
    "\n",
    "Regarding the scikit tools to do this, we have one for creating the curve (generates the points to make the image), and another for calculating AUROC. \n",
    "\n",
    "- The [**`roc_curve`**](http://scikit-learn.org/stable/modules/generated/sklearn.metrics.roc_curve.html#sklearn.metrics.roc_curve) compute Receiver Operating Characteristic (ROC) curve points.\n",
    "- The [**`roc_auc_score`**](http://scikit-learn.org/stable/modules/generated/sklearn.metrics.roc_auc_score.html#sklearn.metrics.roc_auc_score) function computes the Area Under the ROC curve (AUROC). I.e., the curve information is summarized in one number.  \n",
    "\n",
    "In practice, you may often just use the roc_auc_score (AUROC) when comparing classifiers, but it's generally good practice to look at the full ROC curve before making a final decision. "
   ]
  },
  {
   "cell_type": "markdown",
   "metadata": {},
   "source": [
    "Let's calculate then the AU ROC (area under roc) of our heart disease classifier:"
   ]
  },
  {
   "cell_type": "code",
   "execution_count": 37,
   "metadata": {},
   "outputs": [
    {
     "name": "stdout",
     "output_type": "stream",
     "text": [
      "The AU ROC of our classifier is = 0.882\n"
     ]
    }
   ],
   "source": [
    "# The Area Under the ROC curve:\n",
    "roc_auc = roc_auc_score(y_score=df['predicted_proba'], y_true=df['disease'])\n",
    "print('The AU ROC of our classifier is = %.3f' % roc_auc)"
   ]
  },
  {
   "cell_type": "markdown",
   "metadata": {},
   "source": [
    "Let's take a look at the ROC curve."
   ]
  },
  {
   "cell_type": "markdown",
   "metadata": {},
   "source": [
    "This is how you get the FRP, TPR and threshold using scikit: "
   ]
  },
  {
   "cell_type": "code",
   "execution_count": 38,
   "metadata": {},
   "outputs": [],
   "source": [
    "# Data to compute the ROC curve (FPR and TPR):\n",
    "fpr, tpr, thresholds = roc_curve(y_score=df.predicted_proba, y_true=df.disease)"
   ]
  },
  {
   "cell_type": "markdown",
   "metadata": {},
   "source": [
    "To make it pretty, this is some matplotlib code that you can keep re-using: "
   ]
  },
  {
   "cell_type": "code",
   "execution_count": 39,
   "metadata": {},
   "outputs": [],
   "source": [
    "def plot_roc_curve(roc_auc, fpr, tpr):\n",
    "    # Function to plot ROC Curve\n",
    "    # Note: this is ALL just matplotlib stuff, nothing scientific about it! \n",
    "    \n",
    "    # Inputs: \n",
    "    #     roc_auc - AU ROC value (float)\n",
    "    #     fpr - false positive rate (output of roc_curve()) array\n",
    "    #     tpr - true positive rate (output of roc_curve()) array\n",
    "    \n",
    "    plt.figure(figsize=(8,6))\n",
    "    lw = 2\n",
    "    plt.plot(fpr, tpr, color='orange', lw=lw, label='ROC curve (AUROC = %0.2f)' % roc_auc)\n",
    "    plt.plot([0, 1], [0, 1], color='navy', lw=lw, linestyle='--', label='random')\n",
    "    plt.xlim([-0.05, 1.0])\n",
    "    plt.ylim([0.0, 1.05])\n",
    "    plt.grid()\n",
    "    plt.xlabel('False Positive Rate')\n",
    "    plt.ylabel('True Positive Rate')\n",
    "    plt.title('Receiver operating characteristic example')\n",
    "    plt.legend(loc=\"lower right\")\n",
    "    plt.show()"
   ]
  },
  {
   "cell_type": "markdown",
   "metadata": {},
   "source": [
    "Finally, we will plot our ROC Curve (and put the AUROC in the label):"
   ]
  },
  {
   "cell_type": "code",
   "execution_count": 40,
   "metadata": {},
   "outputs": [
    {
     "data": {
      "image/png": "[encoded data removed]",
      "text/plain": [
       "<Figure size 576x432 with 1 Axes>"
      ]
     },
     "metadata": {
      "needs_background": "light"
     },
     "output_type": "display_data"
    }
   ],
   "source": [
    "plot_roc_curve(roc_auc, fpr, tpr)"
   ]
  },
  {
   "cell_type": "markdown",
   "metadata": {},
   "source": [
    "As we can see, the AUROC is around 0.9. "
   ]
  },
  {
   "cell_type": "markdown",
   "metadata": {},
   "source": [
    "# Choosing the best model"
   ]
  },
  {
   "cell_type": "markdown",
   "metadata": {},
   "source": [
    "By now we're approaching the end of the SLU and I'm guessing that at least some of you are thinking that the best model for binary classification problems is always the one with the higher AUROC. While that is true if you're deploying a model in [Kaggle](https://www.kaggle.com/), in the real world, things are a little bit more complicated than that."
   ]
  },
  {
   "cell_type": "markdown",
   "metadata": {},
   "source": [
    "Imagine that you're working on a loan approval model (meaning that the output of your model determines if someone applying for a loan actually gets one). The model with the higher AUROC is likely to be one that also minimizes the chances of ethnical minories getting approved (this happens because the data is inherently biased - you'll learn more about this in SLU17 - Ethics and Fairness)."
   ]
  },
  {
   "cell_type": "markdown",
   "metadata": {},
   "source": [
    "In this case, rather than optimizing for the best AUROC, a responsable data scientist should instead provide good tradeoffs, like a model that has slightly less AUROC but doesn't discriminate ethnical minorities. "
   ]
  },
  {
   "cell_type": "markdown",
   "metadata": {},
   "source": [
    "# Closing remarks "
   ]
  },
  {
   "cell_type": "markdown",
   "metadata": {},
   "source": [
    "A few notes before we go to the exercises: \n",
    "- A model being good or not always depends on the application \n",
    "- Sometimes even experienced data scientists make the mistake of trusting a single number\n",
    "- ROC Curve measures the ability to rank, and does not depend on the threshold \n",
    "- Accuracy is dangerous because it assumes the dataset is balanced \n",
    "- Precision is more important when the cost of a False Positive is higher (e.g. law) \n",
    "- Recall is more important when the cost of a False Negative is higher (e.g. medicine) \n",
    "- F1 combines both precision and recall into a single metric, but assumes they are equally important, which rarely happens in practice. "
   ]
  }
 ],
 "metadata": {
  "kernelspec": {
   "display_name": "Python 3 (ipykernel)",
   "language": "python",
   "name": "python3"
  },
  "language_info": {
   "codemirror_mode": {
    "name": "ipython",
    "version": 3
   },
   "file_extension": ".py",
   "mimetype": "text/x-python",
   "name": "python",
   "nbconvert_exporter": "python",
   "pygments_lexer": "ipython3",
   "version": "3.7.8"
  }
 },
 "nbformat": 4,
 "nbformat_minor": 1
}
