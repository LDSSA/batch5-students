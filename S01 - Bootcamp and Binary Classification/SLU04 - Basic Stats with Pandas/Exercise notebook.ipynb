{
 "cells": [
  {
   "cell_type": "markdown",
   "id": "50525f54",
   "metadata": {
    "deletable": false,
    "editable": false,
    "nbgrader": {
     "grade": false,
     "grade_id": "cell-310bdcceebbb8d52",
     "locked": true,
     "schema_version": 3,
     "solution": false,
     "task": false
    }
   },
   "source": [
    "# SLU04 - Basic Stats with Pandas: Exercises notebook\n",
    "\n",
    "In these exercises, we'll use financial data retrieved from [investing.com](https://www.investing.com/) using the Python package [investpy](https://investpy.readthedocs.io/_info/introduction.html).\n",
    "Additional data was sourced from [justetf.com](https://www.justetf.com/en/) to complement the dataset.\n",
    "\n",
    "## Objective\n",
    "\n",
    "The goal of these exercises is for you to learn how to use pandas to obtain simple statistics from datasets. The following will be tested:\n",
    "- Minimum, maximum, argmin, argmax\n",
    "- Mean, median & mode\n",
    "- Standard deviation and variance\n",
    "- Skewness & Kurtosis\n",
    "- Quantiles\n",
    "- Outliers & how to deal with them\n",
    "\n",
    "## Dataset information\n",
    "\n",
    "![](media/etfs.jpg)\n",
    "\n",
    "[ETFs (Exchange-traded funds)](https://www.investopedia.com/terms/e/etf.asp), as the name implies, are funds that trade on exchanges like a stock. Usually, these funds contain a basket of stocks from a certain country, region, or sector. They are popular among investors because they allow investing in multiple companies at the same time (e.g., Tesla, Google) with low fees.\n",
    "\n",
    "This dataset contains a sample of 155 ETFs popular among European investors.\n",
    "\n",
    "The fields in the dataset are the following:\n",
    "\n",
    "- `isin`: Unique ETF identifier (International Securities Identification Number)\n",
    "- `name`: Fund name\n",
    "- `description`: Investment strategy description\n",
    "- `inception_date`: Date the fund was initiated\n",
    "- `currency`: Currency of the fund\n",
    "- `fund_size`: Amount of money invested in the fund (in € millions)\n",
    "- `ter`: Annual fee paid by investors as a % of the money invested (Total Expense Ratio)\n",
    "- `returns_1y`: Fund return from July 2020 to July 2021\n",
    "- `returns_inception`: Average annual fund return since inception\n",
    "- `volatility_inception`: Annualized standard deviation of returns since inception (this is a measure of risk)\n",
    "\n",
    "*Note: All data as of beginning of July 2021.*\n",
    "\n",
    "*Note 2: In this notebook, \"ETF\" and \"fund\" will be used interchangeably. In this context, they mean the same.*"
   ]
  },
  {
   "cell_type": "code",
   "execution_count": null,
   "id": "16b0c039",
   "metadata": {
    "deletable": false,
    "editable": false,
    "nbgrader": {
     "grade": false,
     "grade_id": "cell-3a7c752ca246892c",
     "locked": true,
     "schema_version": 3,
     "solution": false,
     "task": false
    }
   },
   "outputs": [],
   "source": [
    "import pandas as pd\n",
    "import numpy as np\n",
    "import matplotlib.pyplot as plt\n",
    "import math \n",
    "import hashlib"
   ]
  },
  {
   "cell_type": "code",
   "execution_count": null,
   "id": "6611cad7",
   "metadata": {
    "deletable": false,
    "editable": false,
    "nbgrader": {
     "grade": false,
     "grade_id": "cell-05bad370cf6d127e",
     "locked": true,
     "schema_version": 3,
     "solution": false,
     "task": false
    }
   },
   "outputs": [],
   "source": [
    "data = pd.read_csv('data/etfs_sample.csv').set_index(\"isin\")\n",
    "data.head()"
   ]
  },
  {
   "cell_type": "markdown",
   "id": "461b994f",
   "metadata": {
    "deletable": false,
    "editable": false,
    "nbgrader": {
     "grade": false,
     "grade_id": "cell-45496da1b69fd9da",
     "locked": true,
     "schema_version": 3,
     "solution": false,
     "task": false
    }
   },
   "source": [
    "----"
   ]
  },
  {
   "cell_type": "markdown",
   "id": "81019d6a",
   "metadata": {
    "deletable": false,
    "editable": false,
    "nbgrader": {
     "grade": false,
     "grade_id": "cell-0e58150205d6174b",
     "locked": true,
     "schema_version": 3,
     "solution": false,
     "task": false
    }
   },
   "source": [
    "# Exercise 1 \n",
    "\n",
    "When investing in ETFs, one important factor to consider is the annual fee (`ter`) an investor is required to pay. Find the following:\n",
    " - How much is the minimum fee found in this dataset? What is the `isin` of its fund? What is its `name`?\n",
    " - As a comparison, how much is the maximum fee found in this dataset?\n",
    " \n",
    " \n",
    " *Note: a `ter` of 0.1 means an investor is required to pay 0.1% annually*"
   ]
  },
  {
   "cell_type": "code",
   "execution_count": null,
   "id": "4cfa23ec",
   "metadata": {
    "deletable": false,
    "nbgrader": {
     "grade": false,
     "grade_id": "cell-f14b85025dec767b",
     "locked": false,
     "schema_version": 3,
     "solution": true,
     "task": false
    }
   },
   "outputs": [],
   "source": [
    "# min_fee_value = ...\n",
    "# min_fee_isin = ... # hint: isin is part of the index\n",
    "# min_fee_fund_name = ...\n",
    "\n",
    "# max_fee_value = ...\n",
    "\n",
    "# YOUR CODE HERE\n",
    "raise NotImplementedError()"
   ]
  },
  {
   "cell_type": "markdown",
   "id": "22c60371",
   "metadata": {
    "deletable": false,
    "editable": false,
    "nbgrader": {
     "grade": false,
     "grade_id": "cell-7f10833d7a1af49f",
     "locked": true,
     "schema_version": 3,
     "solution": false,
     "task": false
    }
   },
   "source": [
    "##### Asserts"
   ]
  },
  {
   "cell_type": "code",
   "execution_count": null,
   "id": "794f6fa8",
   "metadata": {
    "deletable": false,
    "editable": false,
    "nbgrader": {
     "grade": true,
     "grade_id": "cell-8245aa570cb2dd22",
     "locked": true,
     "points": 3,
     "schema_version": 3,
     "solution": false,
     "task": false
    }
   },
   "outputs": [],
   "source": [
    "min_fee_isin_hash = \"0a5b1d8bdf44932ca9888453c9833c9dd297090ac376a9c1212d7b952a8f7f43\"\n",
    "min_fee_fund_name_hash = \"921cf10934b28ec882b502ca03072b46e88e5731bcd0309d54c41762320b3ed4\"\n",
    "\n",
    "np.testing.assert_approx_equal(min_fee_value, 0.07, 3)\n",
    "assert min_fee_isin_hash == hashlib.sha256(bytes(min_fee_isin, \"utf-8\")).hexdigest(), \"If there are multiple \"\\\n",
    "\"isins with the lowest fee, return the isin of the first occurrence.\"\n",
    "assert min_fee_fund_name_hash == hashlib.sha256(bytes(min_fee_fund_name, \"utf-8\")).hexdigest(), \"If there are multiple \"\\\n",
    "\"fund names with the lowest fee, return the fund name of the first occurrence.\"\n",
    "\n",
    "np.testing.assert_approx_equal(max_fee_value, 0.86, 3)"
   ]
  },
  {
   "cell_type": "markdown",
   "id": "d96a9cd2",
   "metadata": {
    "deletable": false,
    "editable": false,
    "nbgrader": {
     "grade": false,
     "grade_id": "cell-f0cb65d169697d0e",
     "locked": true,
     "schema_version": 3,
     "solution": false,
     "task": false
    }
   },
   "source": [
    "----"
   ]
  },
  {
   "cell_type": "markdown",
   "id": "97490715",
   "metadata": {
    "deletable": false,
    "editable": false,
    "nbgrader": {
     "grade": false,
     "grade_id": "cell-57947ea652e2cb18",
     "locked": true,
     "schema_version": 3,
     "solution": false,
     "task": false
    }
   },
   "source": [
    "# Exercise 2\n",
    "\n",
    "However, remember that `idxmax` and `idxmin` only return the index of the first of occurrence.\n",
    "\n",
    "Find how many ETFs share the lowest fee (`ter`)."
   ]
  },
  {
   "cell_type": "code",
   "execution_count": null,
   "id": "7bc5d797",
   "metadata": {
    "deletable": false,
    "nbgrader": {
     "grade": false,
     "grade_id": "cell-6b22a0341d2f6385",
     "locked": false,
     "schema_version": 3,
     "solution": true,
     "task": false
    }
   },
   "outputs": [],
   "source": [
    "# number_min_fee_funds = ...\n",
    "\n",
    "# YOUR CODE HERE\n",
    "raise NotImplementedError()"
   ]
  },
  {
   "cell_type": "markdown",
   "id": "d2fc936a",
   "metadata": {
    "deletable": false,
    "editable": false,
    "nbgrader": {
     "grade": false,
     "grade_id": "cell-c1c2f930e69ad305",
     "locked": true,
     "schema_version": 3,
     "solution": false,
     "task": false
    }
   },
   "source": [
    "##### Asserts"
   ]
  },
  {
   "cell_type": "code",
   "execution_count": null,
   "id": "d11f7a38",
   "metadata": {
    "deletable": false,
    "editable": false,
    "nbgrader": {
     "grade": true,
     "grade_id": "cell-144553185cf84ebb",
     "locked": true,
     "points": 2,
     "schema_version": 3,
     "solution": false,
     "task": false
    }
   },
   "outputs": [],
   "source": [
    "number_min_fee_funds_hash = \"af5570f5a1810b7af78caf4bc70a660f0df51e42baf91d4de5b2328de0e83dfc\"\n",
    "\n",
    "assert number_min_fee_funds_hash == hashlib.sha256(bytes(number_min_fee_funds)).hexdigest()"
   ]
  },
  {
   "cell_type": "markdown",
   "id": "6cb8393c",
   "metadata": {
    "deletable": false,
    "editable": false,
    "nbgrader": {
     "grade": false,
     "grade_id": "cell-0e9d997fac7dea23",
     "locked": true,
     "schema_version": 3,
     "solution": false,
     "task": false
    }
   },
   "source": [
    "----"
   ]
  },
  {
   "cell_type": "markdown",
   "id": "309f2462",
   "metadata": {
    "deletable": false,
    "editable": false,
    "nbgrader": {
     "grade": false,
     "grade_id": "cell-153e6be12ee11c3d",
     "locked": true,
     "schema_version": 3,
     "solution": false,
     "task": false
    }
   },
   "source": [
    "# Exercise 3\n",
    "\n",
    "Now, let's focus our analysis on the returns these ETFs yielded since July 2020 (`returns_1y`). Note that, at this point in time, the stock market was starting to recover from the initial COVID-19 impact (which happened in February/ March 2020). What kind of returns do you expect to find?\n",
    "\n",
    "Find the following information:\n",
    "- What are the minimum and maximum returns?\n",
    "- What is the most common return?\n",
    "- What is the average return?\n",
    "- What is the median return?\n",
    "- What is the standard deviation of the returns?\n",
    "- What is the variance of the returns?\n",
    "\n",
    "*Note: in all return variables (including `returns_1y`) a value of 0.1 stands for 10%*"
   ]
  },
  {
   "cell_type": "code",
   "execution_count": null,
   "id": "3014277a",
   "metadata": {
    "deletable": false,
    "nbgrader": {
     "grade": false,
     "grade_id": "cell-66f25c204991a282",
     "locked": false,
     "schema_version": 3,
     "solution": true,
     "task": false
    }
   },
   "outputs": [],
   "source": [
    "# maximum = ...\n",
    "# minimum = ...\n",
    "# most_common = ...  # Hint: you should return a number, not a pandas Series :)\n",
    "# mean = ...\n",
    "# median = ...\n",
    "# standard_deviation = ...\n",
    "# variance = ...\n",
    "\n",
    "# YOUR CODE HERE\n",
    "raise NotImplementedError()"
   ]
  },
  {
   "cell_type": "markdown",
   "id": "51e641bb",
   "metadata": {
    "deletable": false,
    "editable": false,
    "nbgrader": {
     "grade": false,
     "grade_id": "cell-62722edf20bfc4d0",
     "locked": true,
     "schema_version": 3,
     "solution": false,
     "task": false
    }
   },
   "source": [
    "##### Asserts"
   ]
  },
  {
   "cell_type": "code",
   "execution_count": null,
   "id": "21abe42a",
   "metadata": {
    "deletable": false,
    "editable": false,
    "nbgrader": {
     "grade": true,
     "grade_id": "cell-2bfc9713ab5c8611",
     "locked": true,
     "points": 2,
     "schema_version": 3,
     "solution": false,
     "task": false
    }
   },
   "outputs": [],
   "source": [
    "np.testing.assert_approx_equal(maximum, 0.74, 2)\n",
    "np.testing.assert_approx_equal(minimum, -0.16, 2)\n",
    "assert isinstance(most_common, float), \"most_common should be of type float\"\n",
    "np.testing.assert_approx_equal(most_common, 0.3, 2)\n",
    "np.testing.assert_approx_equal(mean, 0.216, 2)\n",
    "np.testing.assert_approx_equal(median, 0.25, 2)\n",
    "np.testing.assert_approx_equal(standard_deviation, 0.160, 2)\n",
    "np.testing.assert_approx_equal(variance, 0.025, 2)"
   ]
  },
  {
   "cell_type": "markdown",
   "id": "90c2fd14",
   "metadata": {
    "deletable": false,
    "editable": false,
    "nbgrader": {
     "grade": false,
     "grade_id": "cell-fbef1df3f4225908",
     "locked": true,
     "schema_version": 3,
     "solution": false,
     "task": false
    }
   },
   "source": [
    "----"
   ]
  },
  {
   "cell_type": "markdown",
   "id": "3321e49b",
   "metadata": {
    "deletable": false,
    "editable": false,
    "nbgrader": {
     "grade": false,
     "grade_id": "cell-025dfd039ccdd20f",
     "locked": true,
     "schema_version": 3,
     "solution": false,
     "task": false
    }
   },
   "source": [
    "# Exercise 4\n",
    "\n",
    "Interesting. While most of the ETFs have been recovering nicely, some are lagging behind.\n",
    "\n",
    "Have a look at the numbers you got again:\n",
    "- Is the median smaller or larger than the mode?\n",
    "- Is the mean smaller or larger than the median? \n",
    "- Given your answers to the questions above, do you expect the distribution of ratings to be skewed? If so, do you expect it to be positively or negatively skewed?\n",
    "\n",
    "Plot a histogram for the distribution of ratings with 20 bins. Can you visually confirm if the distribution is skewed?\n",
    "\n",
    "Compute the skewness measure. Is it positive or negative?"
   ]
  },
  {
   "cell_type": "code",
   "execution_count": null,
   "id": "61548c6f",
   "metadata": {
    "deletable": false,
    "nbgrader": {
     "grade": false,
     "grade_id": "cell-1719ab7970e7b85c",
     "locked": false,
     "schema_version": 3,
     "solution": true,
     "task": false
    }
   },
   "outputs": [],
   "source": [
    "# plot a histogram with 20 bins\n",
    "# ...\n",
    "\n",
    "# compute the skewness measure\n",
    "# skew = ...\n",
    "\n",
    "# YOUR CODE HERE\n",
    "raise NotImplementedError()\n",
    "\n",
    "print(\"The skewness measure is {:.3f}.\".format(skew))"
   ]
  },
  {
   "cell_type": "markdown",
   "id": "7d77ea6d",
   "metadata": {
    "deletable": false,
    "editable": false,
    "nbgrader": {
     "grade": false,
     "grade_id": "cell-ebc6a5e3c6127887",
     "locked": true,
     "schema_version": 3,
     "solution": false,
     "task": false
    }
   },
   "source": [
    "##### Asserts"
   ]
  },
  {
   "cell_type": "code",
   "execution_count": null,
   "id": "0dbcce58",
   "metadata": {
    "deletable": false,
    "editable": false,
    "nbgrader": {
     "grade": true,
     "grade_id": "cell-26a7b3b9e330d52c",
     "locked": true,
     "points": 2,
     "schema_version": 3,
     "solution": false,
     "task": false
    }
   },
   "outputs": [],
   "source": [
    "np.testing.assert_approx_equal(skew, -0.217, 2)"
   ]
  },
  {
   "cell_type": "markdown",
   "id": "0ec00822",
   "metadata": {
    "deletable": false,
    "editable": false,
    "nbgrader": {
     "grade": false,
     "grade_id": "cell-f05798aee199241a",
     "locked": true,
     "schema_version": 3,
     "solution": false,
     "task": false
    }
   },
   "source": [
    "----"
   ]
  },
  {
   "cell_type": "markdown",
   "id": "3efa8e6e",
   "metadata": {
    "deletable": false,
    "editable": false,
    "nbgrader": {
     "grade": false,
     "grade_id": "cell-7eb23047ad447e07",
     "locked": true,
     "schema_version": 3,
     "solution": false,
     "task": false
    }
   },
   "source": [
    "# Exercise 5\n",
    "\n",
    "Let's have a look at the most popular ETF in this sample (iShares Core S&P 500 UCITS). This ETF invests in each of the 500 largest US companies. This group of companies is often called S&P500. Does it sound familiar?\n",
    "\n",
    "We start by loading its weekly returns since 2010."
   ]
  },
  {
   "cell_type": "code",
   "execution_count": null,
   "id": "97472c21",
   "metadata": {
    "deletable": false,
    "editable": false,
    "nbgrader": {
     "grade": false,
     "grade_id": "cell-67fec4e956e89311",
     "locked": true,
     "schema_version": 3,
     "solution": false,
     "task": false
    }
   },
   "outputs": [],
   "source": [
    "data_sp500 = pd.read_csv(\"data/returns_weekly_sp500.csv\").set_index(\"date\").squeeze() # squeeze converts from df to Series\n",
    "data_sp500.head()"
   ]
  },
  {
   "cell_type": "markdown",
   "id": "ca0a83d0",
   "metadata": {
    "deletable": false,
    "editable": false,
    "nbgrader": {
     "grade": false,
     "grade_id": "cell-885141a36a2b734c",
     "locked": true,
     "schema_version": 3,
     "solution": false,
     "task": false
    }
   },
   "source": [
    "And, for comparison purposes, we are going to generate a random normal distribution with the same characteristics."
   ]
  },
  {
   "cell_type": "code",
   "execution_count": null,
   "id": "dd78b204",
   "metadata": {
    "deletable": false,
    "editable": false,
    "nbgrader": {
     "grade": false,
     "grade_id": "cell-1effbb211588dfe4",
     "locked": true,
     "schema_version": 3,
     "solution": false,
     "task": false
    }
   },
   "outputs": [],
   "source": [
    "np.random.seed(42) # we set a random seed so all notebooks generate the same random numbers\n",
    "\n",
    "mean, std, n = data_sp500.mean(), data_sp500.std(), data_sp500.shape[0]\n",
    "random_normal_returns = np.random.normal(mean, std, n) # here, we generate the random normal distribution\n",
    "data_normal = pd.Series(data=random_normal_returns, index=data_sp500.index)\n",
    "data_normal.head()"
   ]
  },
  {
   "cell_type": "markdown",
   "id": "e1c5a0c1",
   "metadata": {
    "deletable": false,
    "editable": false,
    "nbgrader": {
     "grade": false,
     "grade_id": "cell-77a9db3ebe39b07a",
     "locked": true,
     "schema_version": 3,
     "solution": false,
     "task": false
    }
   },
   "source": [
    "Remember that the stock market can be quite volatile during stress periods. \n",
    "\n",
    "- Based on this, which distribution do you expect to have more kurtosis (i.e., a longer \"tail\")?\n",
    "- What do you expect the (excess) kurtosis of the random normal distribution to be?\n",
    "\n",
    "Plot a histogram with 20 bins and compute kurtosis for each of the distributions."
   ]
  },
  {
   "cell_type": "code",
   "execution_count": null,
   "id": "de75bc83",
   "metadata": {
    "deletable": false,
    "nbgrader": {
     "grade": false,
     "grade_id": "cell-ea789979cfa9cc4b",
     "locked": false,
     "schema_version": 3,
     "solution": true,
     "task": false
    }
   },
   "outputs": [],
   "source": [
    "## plot two histograms, side-by-side\n",
    "# plt.figure(1, figsize=(12,4), dpi=200)\n",
    "# plt.subplot(121)\n",
    "## plot first histogram (using the data_sp500 variable)\n",
    "# ...\n",
    "# plt.subplot(122)\n",
    "## plot second histogram (using the data_normal variable)\n",
    "# ...\n",
    "\n",
    "## calculate kurtosis for both distributions\n",
    "# kurt_sp500 = ...\n",
    "# kurt_normal = ...\n",
    "\n",
    "# YOUR CODE HERE\n",
    "raise NotImplementedError()\n",
    "\n",
    "print(\"The kurtosis measure for the S&P500 distribution is {:.1f}.\".format(kurt_sp500))\n",
    "print(\"The kurtosis measure for the random normal distribution is {:.1f}.\".format(kurt_normal))"
   ]
  },
  {
   "cell_type": "markdown",
   "id": "aab89249",
   "metadata": {
    "deletable": false,
    "editable": false,
    "nbgrader": {
     "grade": false,
     "grade_id": "cell-31f8dd9982ef9bc0",
     "locked": true,
     "schema_version": 3,
     "solution": false,
     "task": false
    }
   },
   "source": [
    "##### Asserts"
   ]
  },
  {
   "cell_type": "code",
   "execution_count": null,
   "id": "06e37057",
   "metadata": {
    "deletable": false,
    "editable": false,
    "nbgrader": {
     "grade": true,
     "grade_id": "cell-a0b96a8b810e2d3f",
     "locked": true,
     "points": 3,
     "schema_version": 3,
     "solution": false,
     "task": false
    }
   },
   "outputs": [],
   "source": [
    "np.testing.assert_approx_equal(kurt_sp500, 5.52, 2)\n",
    "np.testing.assert_approx_equal(kurt_normal, 0.23, 2)"
   ]
  },
  {
   "cell_type": "markdown",
   "id": "981608f2",
   "metadata": {
    "deletable": false,
    "editable": false,
    "nbgrader": {
     "grade": false,
     "grade_id": "cell-1888c68d2a228c2e",
     "locked": true,
     "schema_version": 3,
     "solution": false,
     "task": false
    }
   },
   "source": [
    "# Exercise 6\n",
    "\n",
    "Find the value of the first, second, and third quartiles of the distribution of returns since July 2020 (`returns_1y`). Did you notice the value of the second quartile is equal to the median calculated in Exercise 3?\n"
   ]
  },
  {
   "cell_type": "code",
   "execution_count": null,
   "id": "b7465e80",
   "metadata": {
    "deletable": false,
    "nbgrader": {
     "grade": false,
     "grade_id": "cell-e4b83d09bf06c94b",
     "locked": false,
     "schema_version": 3,
     "solution": true,
     "task": false
    }
   },
   "outputs": [],
   "source": [
    "# output quartiles as pandas Series\n",
    "# returns_quartiles = ...\n",
    "\n",
    "# YOUR CODE HERE\n",
    "raise NotImplementedError()"
   ]
  },
  {
   "cell_type": "markdown",
   "id": "a4161790",
   "metadata": {
    "deletable": false,
    "editable": false,
    "nbgrader": {
     "grade": false,
     "grade_id": "cell-532925cf3b51d345",
     "locked": true,
     "schema_version": 3,
     "solution": false,
     "task": false
    }
   },
   "source": [
    "##### Asserts"
   ]
  },
  {
   "cell_type": "code",
   "execution_count": null,
   "id": "a8e673e6",
   "metadata": {
    "deletable": false,
    "editable": false,
    "nbgrader": {
     "grade": true,
     "grade_id": "cell-c696399a8c0cadb8",
     "locked": true,
     "points": 2,
     "schema_version": 3,
     "solution": false,
     "task": false
    }
   },
   "outputs": [],
   "source": [
    "assert isinstance(returns_quartiles, pd.Series)\n",
    "np.testing.assert_approx_equal(returns_quartiles.sum(), 0.69, 3)"
   ]
  },
  {
   "cell_type": "markdown",
   "id": "3533792a",
   "metadata": {
    "deletable": false,
    "editable": false,
    "nbgrader": {
     "grade": false,
     "grade_id": "cell-777f5398dff0d897",
     "locked": true,
     "schema_version": 3,
     "solution": false,
     "task": false
    }
   },
   "source": [
    "----"
   ]
  },
  {
   "cell_type": "markdown",
   "id": "76f8d29a",
   "metadata": {
    "deletable": false,
    "editable": false,
    "nbgrader": {
     "grade": false,
     "grade_id": "cell-9b49894718f512f0",
     "locked": true,
     "schema_version": 3,
     "solution": false,
     "task": false
    }
   },
   "source": [
    "# Exercise 7\n",
    "\n",
    "There's a pandas method really useful to summarize variables. Do you remember what it is?\n",
    "\n",
    "Apply the method on the `returns_inception` column and investigate the results."
   ]
  },
  {
   "cell_type": "code",
   "execution_count": null,
   "id": "e6df7cef",
   "metadata": {
    "deletable": false,
    "nbgrader": {
     "grade": false,
     "grade_id": "cell-71c1572ac509ebc6",
     "locked": false,
     "schema_version": 3,
     "solution": true,
     "task": false
    }
   },
   "outputs": [],
   "source": [
    "# returns_inception_summary ...\n",
    "\n",
    "# YOUR CODE HERE\n",
    "raise NotImplementedError()"
   ]
  },
  {
   "cell_type": "markdown",
   "id": "22190bb9",
   "metadata": {
    "deletable": false,
    "editable": false,
    "nbgrader": {
     "grade": false,
     "grade_id": "cell-0d2c54861b241dfe",
     "locked": true,
     "schema_version": 3,
     "solution": false,
     "task": false
    }
   },
   "source": [
    "#### Asserts"
   ]
  },
  {
   "cell_type": "code",
   "execution_count": null,
   "id": "6c858f41",
   "metadata": {
    "deletable": false,
    "editable": false,
    "nbgrader": {
     "grade": true,
     "grade_id": "cell-6afcb287625277e3",
     "locked": true,
     "points": 1,
     "schema_version": 3,
     "solution": false,
     "task": false
    }
   },
   "outputs": [],
   "source": [
    "assert isinstance(returns_inception_summary, pd.Series), \"Make sure you apply the correct method.\" \\\n",
    "\" It is used to 'describe' the variable. :)\"\n",
    "np.testing.assert_approx_equal(returns_inception_summary.sum(), 155.58, 2)"
   ]
  },
  {
   "cell_type": "markdown",
   "id": "78e70cc6",
   "metadata": {
    "deletable": false,
    "editable": false,
    "nbgrader": {
     "grade": false,
     "grade_id": "cell-bcc9dafc80ef1452",
     "locked": true,
     "schema_version": 3,
     "solution": false,
     "task": false
    }
   },
   "source": [
    "----"
   ]
  },
  {
   "cell_type": "markdown",
   "id": "3629f937",
   "metadata": {
    "deletable": false,
    "editable": false,
    "nbgrader": {
     "grade": false,
     "grade_id": "cell-a45a292faf6b3122",
     "locked": true,
     "schema_version": 3,
     "solution": false,
     "task": false
    }
   },
   "source": [
    "# Exercise 8\n",
    "\n",
    "Frequently, it's useful to know how many unique values a certain variable has and to identify them.\n",
    "\n",
    "In this exercise, obtain:\n",
    "\n",
    "- A Series with the number of unique values in each column of the `data` DataFrame.\n",
    "- A list with all the unique currencies (`currency`) present in this dataset, sorted alphabetically from A to Z."
   ]
  },
  {
   "cell_type": "code",
   "execution_count": null,
   "id": "f275e161",
   "metadata": {
    "deletable": false,
    "nbgrader": {
     "grade": false,
     "grade_id": "cell-43e30632755d54b4",
     "locked": false,
     "schema_version": 3,
     "solution": true,
     "task": false
    }
   },
   "outputs": [],
   "source": [
    "# unique_values_per_col = ... # the output has to be a pandas Series\n",
    "# unique_currencies = ... # the output has to be a list\n",
    "\n",
    "# YOUR CODE HERE\n",
    "raise NotImplementedError()"
   ]
  },
  {
   "cell_type": "markdown",
   "id": "1f82ced0",
   "metadata": {
    "deletable": false,
    "editable": false,
    "nbgrader": {
     "grade": false,
     "grade_id": "cell-e4ea59c38c2e8a38",
     "locked": true,
     "schema_version": 3,
     "solution": false,
     "task": false
    }
   },
   "source": [
    "##### Asserts"
   ]
  },
  {
   "cell_type": "code",
   "execution_count": null,
   "id": "0f2a8c60",
   "metadata": {
    "deletable": false,
    "editable": false,
    "nbgrader": {
     "grade": true,
     "grade_id": "cell-3d550e7cec6bdd20",
     "locked": true,
     "points": 2,
     "schema_version": 3,
     "solution": false,
     "task": false
    }
   },
   "outputs": [],
   "source": [
    "unique_values_per_col_sum_hash = \"ad0ba6378ab807e587dc399aa81d5dbc861511df3aa973d7ed05c6c49be32b5d\"\n",
    "unique_currencies_hash = \"bb9e28b2078efecc96584387ca77cb3fab8cbea12ecab82bcb6868622198f363\"\n",
    "\n",
    "assert isinstance(unique_values_per_col, pd.Series), \"unique_values_per_col should be a pandas Series\"\n",
    "assert unique_values_per_col_sum_hash == hashlib.sha256(bytes(unique_values_per_col.sum())).hexdigest()\n",
    "\n",
    "assert isinstance(unique_currencies, list), \"Make sure unique_currencies is a list. Hint: you might have to convert a numpy \"\\\n",
    "\"array or a set to a list.\"\n",
    "assert unique_currencies_hash == hashlib.sha256(bytes(\"\".join(unique_currencies), \"utf-8\")).hexdigest(), \"Check that you \" \\\n",
    "\"have only unique currencies and they are sorted alphabetically (from A to Z).\""
   ]
  },
  {
   "cell_type": "markdown",
   "id": "e3497666",
   "metadata": {
    "deletable": false,
    "editable": false,
    "nbgrader": {
     "grade": false,
     "grade_id": "cell-c698cdc2b26d3d40",
     "locked": true,
     "schema_version": 3,
     "solution": false,
     "task": false
    }
   },
   "source": [
    "----"
   ]
  },
  {
   "cell_type": "markdown",
   "id": "5d25ad03",
   "metadata": {
    "deletable": false,
    "editable": false,
    "nbgrader": {
     "grade": false,
     "grade_id": "cell-38eccb3095274a7c",
     "locked": true,
     "schema_version": 3,
     "solution": false,
     "task": false
    }
   },
   "source": [
    "# Exercise 9\n",
    "\n",
    "In this last exercise, we will focus on the amount of money invested on each of these ETFs (`fund_size` column). While most of them are relatively small with less than €2 billion invested, others can get quite massive holding €40 billion or more (I told you they can get popular!).\n",
    "\n",
    "Consequently, when you plot this distribution in a histogram, it's very easy to detect the presence of outliers."
   ]
  },
  {
   "cell_type": "code",
   "execution_count": null,
   "id": "974de2da",
   "metadata": {
    "deletable": false,
    "editable": false,
    "nbgrader": {
     "grade": false,
     "grade_id": "cell-370304ec4c771946",
     "locked": true,
     "schema_version": 3,
     "solution": false,
     "task": false
    }
   },
   "outputs": [],
   "source": [
    "data[\"fund_size\"].plot.hist()\n",
    "plt.xlabel('Fund size (in € millions)')\n",
    "plt.title('Distribution of Fund Sizes');"
   ]
  },
  {
   "cell_type": "markdown",
   "id": "b7fe8424",
   "metadata": {
    "deletable": false,
    "editable": false,
    "nbgrader": {
     "grade": false,
     "grade_id": "cell-d8e70aa1c0af493c",
     "locked": true,
     "schema_version": 3,
     "solution": false,
     "task": false
    }
   },
   "source": [
    "How to deal with these outliers?\n",
    "\n",
    "In the Learning Notebook, you learned a few ways to deal with the outliers, in case they are negatively affecting your Machine Learning models. In this exercise, let's explore the **log transformation** and see if it helps us in this case.\n",
    "\n",
    "Do the following:\n",
    "- Obtain the mean and the median of the fund size values; which one is greater?\n",
    "- Create a new column named `log_fund_size` with the log of fund sizes;\n",
    "- Obtain the mean and the median of the log of fund sizes; are they very different from each other?\n",
    "- Plot `log_fund_size` using a histogram with 30 bins. Compare the results.\n",
    "\n",
    "What do you think? Were the outliers dealt with?"
   ]
  },
  {
   "cell_type": "code",
   "execution_count": null,
   "id": "b5e7ae45",
   "metadata": {
    "deletable": false,
    "nbgrader": {
     "grade": false,
     "grade_id": "cell-1abb663f4cf9b220",
     "locked": false,
     "schema_version": 3,
     "solution": true,
     "task": false
    }
   },
   "outputs": [],
   "source": [
    "# fund_size_mean = ...\n",
    "# fund_size_median = ...\n",
    "\n",
    "# create new column named log_fund_size with the log of the fund size\n",
    "# ...\n",
    "\n",
    "# log_fund_size_mean = ...\n",
    "# log_fund_size_median = ...\n",
    "\n",
    "## Plot an histogram (with 30 bins) of the log of the fund size\n",
    "# ...\n",
    "\n",
    "# YOUR CODE HERE\n",
    "raise NotImplementedError()\n",
    "\n",
    "print('The fund size has mean %d and median %d' % (fund_size_mean, fund_size_median))\n",
    "print('The log of the fund size has mean %0.1f and median %0.1f' % (log_fund_size_mean, log_fund_size_median))"
   ]
  },
  {
   "cell_type": "markdown",
   "id": "32f76259",
   "metadata": {
    "deletable": false,
    "editable": false,
    "nbgrader": {
     "grade": false,
     "grade_id": "cell-8059e93cffa9a4ba",
     "locked": true,
     "schema_version": 3,
     "solution": false,
     "task": false
    }
   },
   "source": [
    "##### Asserts"
   ]
  },
  {
   "cell_type": "code",
   "execution_count": null,
   "id": "d02223a3",
   "metadata": {
    "deletable": false,
    "editable": false,
    "nbgrader": {
     "grade": true,
     "grade_id": "cell-a74bd72b6c871c6d",
     "locked": true,
     "points": 3,
     "schema_version": 3,
     "solution": false,
     "task": false
    }
   },
   "outputs": [],
   "source": [
    "np.testing.assert_approx_equal(fund_size_mean, 2426.5, 2)\n",
    "np.testing.assert_approx_equal(fund_size_median, 1124, 1)\n",
    "np.testing.assert_approx_equal(log_fund_size_mean, 7, 1)\n",
    "np.testing.assert_approx_equal(log_fund_size_median, 7, 1)\n",
    "np.testing.assert_approx_equal(data[\"log_fund_size\"].sum(), 1077.6, 2)"
   ]
  },
  {
   "cell_type": "markdown",
   "id": "cbac797a",
   "metadata": {
    "deletable": false,
    "editable": false,
    "nbgrader": {
     "grade": false,
     "grade_id": "cell-64505d93fe4769a6",
     "locked": true,
     "schema_version": 3,
     "solution": false,
     "task": false
    }
   },
   "source": [
    "----"
   ]
  },
  {
   "cell_type": "markdown",
   "id": "a0f143e7",
   "metadata": {
    "deletable": false,
    "editable": false,
    "nbgrader": {
     "grade": false,
     "grade_id": "cell-b31ad7c2b7333fe7",
     "locked": true,
     "schema_version": 3,
     "solution": false,
     "task": false
    }
   },
   "source": [
    "The goal of this exercise notebook was to show you how we can use statistics to derive insights from \"real world\" data.\n",
    "\n",
    "For that, we used financial data related to ETFs. If you want to find more about this topic, visit the following communities:\n",
    "- [r/literaciafinanceira](https://www.reddit.com/r/literaciafinanceira/) (in Portuguese)\n",
    "- [r/eupersonalfinance](https://www.reddit.com/r/eupersonalfinance/) (in English)"
   ]
  },
  {
   "cell_type": "markdown",
   "id": "b72ade33",
   "metadata": {
    "deletable": false,
    "editable": false,
    "nbgrader": {
     "grade": false,
     "grade_id": "cell-ab0e4d148dab7cfd",
     "locked": true,
     "schema_version": 3,
     "solution": false,
     "task": false
    }
   },
   "source": [
    "Congratulations! You have finished. Good luck with the upcoming SLUs!\n",
    "\n",
    "\n",
    "![](media/complete.gif)"
   ]
  }
 ],
 "metadata": {
  "kernelspec": {
   "display_name": "Python 3 (ipykernel)",
   "language": "python",
   "name": "python3"
  },
  "language_info": {
   "codemirror_mode": {
    "name": "ipython",
    "version": 3
   },
   "file_extension": ".py",
   "mimetype": "text/x-python",
   "name": "python",
   "nbconvert_exporter": "python",
   "pygments_lexer": "ipython3",
   "version": "3.7.11"
  }
 },
 "nbformat": 4,
 "nbformat_minor": 5
}
