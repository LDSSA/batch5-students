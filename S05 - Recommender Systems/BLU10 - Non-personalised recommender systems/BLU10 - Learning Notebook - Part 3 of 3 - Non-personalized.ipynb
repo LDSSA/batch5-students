{
 "cells": [
  {
   "cell_type": "markdown",
   "metadata": {},
   "source": [
    "# BLU10 - Learning Notebook - Part 3 of 3 - Non-personalized Recommendations"
   ]
  },
  {
   "cell_type": "code",
   "execution_count": 1,
   "metadata": {},
   "outputs": [],
   "source": [
    "import os\n",
    "from mlxtend.preprocessing import TransactionEncoder\n",
    "from mlxtend.frequent_patterns import apriori, association_rules\n",
    "import numpy as np\n",
    "import pandas as pd"
   ]
  },
  {
   "cell_type": "markdown",
   "metadata": {},
   "source": [
    "It is finally time to implement our first basic Recommender System!\n",
    "\n",
    "# 1 Non-personalized RS\n",
    "\n",
    "The core functions of any RS is to identify useful items for the user.\n",
    "\n",
    "Going back to our framework, non-personalized RS typically include the base model (users, items, and ratings).\n",
    "\n",
    "We consider users, however, as providers of ratings, ignoring user preferences at recommendation time.\n",
    "\n",
    "![Recommender Sytems Framework](./media/recommender_systems_framework_base.png)\n",
    "\n",
    "*Fig.1 - RS framework with a community and the basic model.*\n",
    "\n",
    "**The rationale is that a generic user also likes something that is liked by many users.**\n",
    "\n",
    "If we are unable to predict the utility of an item for a particular user, then we recommend an item with high utility for many users. This approach is particularly relevant in the absence of information about the user preferences.\n",
    "\n",
    "Non-personalized algorithms are useful to get a sense of building an RS and train our NumPy skills.\n",
    "\n",
    "# 2 Loading the data\n",
    "\n",
    "First, we read the data into Python and NumPy."
   ]
  },
  {
   "cell_type": "code",
   "execution_count": 2,
   "metadata": {},
   "outputs": [
    {
     "data": {
      "text/html": [
       "<div>\n",
       "<style scoped>\n",
       "    .dataframe tbody tr th:only-of-type {\n",
       "        vertical-align: middle;\n",
       "    }\n",
       "\n",
       "    .dataframe tbody tr th {\n",
       "        vertical-align: top;\n",
       "    }\n",
       "\n",
       "    .dataframe thead th {\n",
       "        text-align: right;\n",
       "    }\n",
       "</style>\n",
       "<table border=\"1\" class=\"dataframe\">\n",
       "  <thead>\n",
       "    <tr style=\"text-align: right;\">\n",
       "      <th></th>\n",
       "      <th>0</th>\n",
       "      <th>1</th>\n",
       "      <th>2</th>\n",
       "    </tr>\n",
       "  </thead>\n",
       "  <tbody>\n",
       "    <tr>\n",
       "      <th>0</th>\n",
       "      <td>1.0</td>\n",
       "      <td>31.0</td>\n",
       "      <td>2.5</td>\n",
       "    </tr>\n",
       "    <tr>\n",
       "      <th>1</th>\n",
       "      <td>1.0</td>\n",
       "      <td>1029.0</td>\n",
       "      <td>3.0</td>\n",
       "    </tr>\n",
       "    <tr>\n",
       "      <th>2</th>\n",
       "      <td>1.0</td>\n",
       "      <td>1061.0</td>\n",
       "      <td>3.0</td>\n",
       "    </tr>\n",
       "    <tr>\n",
       "      <th>3</th>\n",
       "      <td>1.0</td>\n",
       "      <td>1129.0</td>\n",
       "      <td>2.0</td>\n",
       "    </tr>\n",
       "    <tr>\n",
       "      <th>4</th>\n",
       "      <td>1.0</td>\n",
       "      <td>1172.0</td>\n",
       "      <td>4.0</td>\n",
       "    </tr>\n",
       "  </tbody>\n",
       "</table>\n",
       "</div>"
      ],
      "text/plain": [
       "     0       1    2\n",
       "0  1.0    31.0  2.5\n",
       "1  1.0  1029.0  3.0\n",
       "2  1.0  1061.0  3.0\n",
       "3  1.0  1129.0  2.0\n",
       "4  1.0  1172.0  4.0"
      ]
     },
     "execution_count": 2,
     "metadata": {},
     "output_type": "execute_result"
    }
   ],
   "source": [
    "def read_data():\n",
    "    \n",
    "    path = os.path.join('data', 'ml-latest-small', 'ratings.csv')\n",
    "    data = np.genfromtxt(path, delimiter=',', skip_header=1, usecols=[0, 1, 2])\n",
    "    return data\n",
    "\n",
    "\n",
    "data = read_data()\n",
    "pd.DataFrame(data).head(5)"
   ]
  },
  {
   "cell_type": "markdown",
   "metadata": {},
   "source": [
    "What we have here is:\n",
    "* User identification (ID) in the first column\n",
    "* Item identification (ID) in the second column\n",
    "* Rating in the third column.\n",
    "\n"
   ]
  },
  {
   "cell_type": "markdown",
   "metadata": {},
   "source": [
    "We have about 100004 pairs of user X ratings - combination of products that the users have ranked: "
   ]
  },
  {
   "cell_type": "code",
   "execution_count": 3,
   "metadata": {},
   "outputs": [
    {
     "data": {
      "text/plain": [
       "100004"
      ]
     },
     "execution_count": 3,
     "metadata": {},
     "output_type": "execute_result"
    }
   ],
   "source": [
    "data.shape[0]"
   ]
  },
  {
   "cell_type": "markdown",
   "metadata": {},
   "source": [
    "**We'll work with this data in array form throughout the lecture.**"
   ]
  },
  {
   "cell_type": "markdown",
   "metadata": {},
   "source": [
    "For more information, explore the `../data/ml-latest-small/` folder."
   ]
  },
  {
   "cell_type": "markdown",
   "metadata": {},
   "source": [
    "# 3 Building the ratings matrix\n",
    "\n",
    "The second step then is to transform this representation into a ratings matrix, with:\n",
    "* Users as rows\n",
    "* Items as columns\n",
    "* Ratings as values.\n",
    "\n",
    "We use the unique values for users and items, storing the indices that can be used to reconstruct the original array.\n",
    "\n",
    "Then, we create a matrix, all filled with zeros, the size we want:\n",
    "* The number of unique users is the number of rows\n",
    "* The number of unique items is the number of columns.\n",
    "\n",
    "Finally, we fill in the rating values, using the stored indexes, in a vectorized way."
   ]
  },
  {
   "cell_type": "markdown",
   "metadata": {},
   "source": [
    "## 3.1 - Building it with Numpy"
   ]
  },
  {
   "cell_type": "code",
   "execution_count": 4,
   "metadata": {},
   "outputs": [
    {
     "data": {
      "text/plain": [
       "array([[0., 0., 0., ..., 0., 0., 0.],\n",
       "       [0., 0., 0., ..., 0., 0., 0.],\n",
       "       [0., 0., 0., ..., 0., 0., 0.],\n",
       "       ...,\n",
       "       [0., 0., 0., ..., 0., 0., 0.],\n",
       "       [4., 0., 0., ..., 0., 0., 0.],\n",
       "       [5., 0., 0., ..., 0., 0., 0.]])"
      ]
     },
     "execution_count": 4,
     "metadata": {},
     "output_type": "execute_result"
    }
   ],
   "source": [
    "def make_ratings(data):\n",
    "    \n",
    "    users, user_pos = np.unique(data[:, 0], return_inverse=True)\n",
    "    items, item_pos = np.unique(data[:, 1], return_inverse=True)\n",
    "    \n",
    "    R = np.zeros((len(users), len(items)))\n",
    "    R[user_pos, item_pos] = data[:, 2]\n",
    "    \n",
    "    return R\n",
    "\n",
    "\n",
    "R = make_ratings(data)\n",
    "R"
   ]
  },
  {
   "cell_type": "markdown",
   "metadata": {},
   "source": [
    "Take your time to read through and experiment with the code as you go."
   ]
  },
  {
   "cell_type": "markdown",
   "metadata": {},
   "source": [
    "**How many values do you think will be non zero in this matrix?**"
   ]
  },
  {
   "cell_type": "code",
   "execution_count": 5,
   "metadata": {},
   "outputs": [
    {
     "data": {
      "text/plain": [
       "100004"
      ]
     },
     "execution_count": 5,
     "metadata": {},
     "output_type": "execute_result"
    }
   ],
   "source": [
    "len(R[R>0])"
   ]
  },
  {
   "cell_type": "markdown",
   "metadata": {},
   "source": [
    "Exactly the number of rows we had in our tabular format!"
   ]
  },
  {
   "cell_type": "markdown",
   "metadata": {},
   "source": [
    "## 3.2 Building it with Pandas "
   ]
  },
  {
   "cell_type": "markdown",
   "metadata": {},
   "source": [
    "Another beautiful constructor that we might use and we haven't spoke about yet is the Pandas pivot function. It's normal that we want to retain indexes for our products and users in a data frame instead of having a numpy array so Pandas rescues us on that."
   ]
  },
  {
   "cell_type": "markdown",
   "metadata": {},
   "source": [
    "You have to use the pivot method on a dataframe. It takes as arguments: \n",
    "- index: The row index (normally the User)\n",
    "- columns: The column indexes (normally the Product)\n",
    "- values: The values of the matrix (normally the Ratings)"
   ]
  },
  {
   "cell_type": "code",
   "execution_count": 6,
   "metadata": {
    "scrolled": true
   },
   "outputs": [
    {
     "data": {
      "text/html": [
       "<div>\n",
       "<style scoped>\n",
       "    .dataframe tbody tr th:only-of-type {\n",
       "        vertical-align: middle;\n",
       "    }\n",
       "\n",
       "    .dataframe tbody tr th {\n",
       "        vertical-align: top;\n",
       "    }\n",
       "\n",
       "    .dataframe thead th {\n",
       "        text-align: right;\n",
       "    }\n",
       "</style>\n",
       "<table border=\"1\" class=\"dataframe\">\n",
       "  <thead>\n",
       "    <tr style=\"text-align: right;\">\n",
       "      <th>1</th>\n",
       "      <th>1.0</th>\n",
       "      <th>2.0</th>\n",
       "      <th>3.0</th>\n",
       "      <th>4.0</th>\n",
       "      <th>5.0</th>\n",
       "      <th>6.0</th>\n",
       "      <th>7.0</th>\n",
       "      <th>8.0</th>\n",
       "      <th>9.0</th>\n",
       "      <th>10.0</th>\n",
       "      <th>...</th>\n",
       "      <th>161084.0</th>\n",
       "      <th>161155.0</th>\n",
       "      <th>161594.0</th>\n",
       "      <th>161830.0</th>\n",
       "      <th>161918.0</th>\n",
       "      <th>161944.0</th>\n",
       "      <th>162376.0</th>\n",
       "      <th>162542.0</th>\n",
       "      <th>162672.0</th>\n",
       "      <th>163949.0</th>\n",
       "    </tr>\n",
       "    <tr>\n",
       "      <th>0</th>\n",
       "      <th></th>\n",
       "      <th></th>\n",
       "      <th></th>\n",
       "      <th></th>\n",
       "      <th></th>\n",
       "      <th></th>\n",
       "      <th></th>\n",
       "      <th></th>\n",
       "      <th></th>\n",
       "      <th></th>\n",
       "      <th></th>\n",
       "      <th></th>\n",
       "      <th></th>\n",
       "      <th></th>\n",
       "      <th></th>\n",
       "      <th></th>\n",
       "      <th></th>\n",
       "      <th></th>\n",
       "      <th></th>\n",
       "      <th></th>\n",
       "      <th></th>\n",
       "    </tr>\n",
       "  </thead>\n",
       "  <tbody>\n",
       "    <tr>\n",
       "      <th>1.0</th>\n",
       "      <td>NaN</td>\n",
       "      <td>NaN</td>\n",
       "      <td>NaN</td>\n",
       "      <td>NaN</td>\n",
       "      <td>NaN</td>\n",
       "      <td>NaN</td>\n",
       "      <td>NaN</td>\n",
       "      <td>NaN</td>\n",
       "      <td>NaN</td>\n",
       "      <td>NaN</td>\n",
       "      <td>...</td>\n",
       "      <td>NaN</td>\n",
       "      <td>NaN</td>\n",
       "      <td>NaN</td>\n",
       "      <td>NaN</td>\n",
       "      <td>NaN</td>\n",
       "      <td>NaN</td>\n",
       "      <td>NaN</td>\n",
       "      <td>NaN</td>\n",
       "      <td>NaN</td>\n",
       "      <td>NaN</td>\n",
       "    </tr>\n",
       "    <tr>\n",
       "      <th>2.0</th>\n",
       "      <td>NaN</td>\n",
       "      <td>NaN</td>\n",
       "      <td>NaN</td>\n",
       "      <td>NaN</td>\n",
       "      <td>NaN</td>\n",
       "      <td>NaN</td>\n",
       "      <td>NaN</td>\n",
       "      <td>NaN</td>\n",
       "      <td>NaN</td>\n",
       "      <td>4.0</td>\n",
       "      <td>...</td>\n",
       "      <td>NaN</td>\n",
       "      <td>NaN</td>\n",
       "      <td>NaN</td>\n",
       "      <td>NaN</td>\n",
       "      <td>NaN</td>\n",
       "      <td>NaN</td>\n",
       "      <td>NaN</td>\n",
       "      <td>NaN</td>\n",
       "      <td>NaN</td>\n",
       "      <td>NaN</td>\n",
       "    </tr>\n",
       "    <tr>\n",
       "      <th>3.0</th>\n",
       "      <td>NaN</td>\n",
       "      <td>NaN</td>\n",
       "      <td>NaN</td>\n",
       "      <td>NaN</td>\n",
       "      <td>NaN</td>\n",
       "      <td>NaN</td>\n",
       "      <td>NaN</td>\n",
       "      <td>NaN</td>\n",
       "      <td>NaN</td>\n",
       "      <td>NaN</td>\n",
       "      <td>...</td>\n",
       "      <td>NaN</td>\n",
       "      <td>NaN</td>\n",
       "      <td>NaN</td>\n",
       "      <td>NaN</td>\n",
       "      <td>NaN</td>\n",
       "      <td>NaN</td>\n",
       "      <td>NaN</td>\n",
       "      <td>NaN</td>\n",
       "      <td>NaN</td>\n",
       "      <td>NaN</td>\n",
       "    </tr>\n",
       "    <tr>\n",
       "      <th>4.0</th>\n",
       "      <td>NaN</td>\n",
       "      <td>NaN</td>\n",
       "      <td>NaN</td>\n",
       "      <td>NaN</td>\n",
       "      <td>NaN</td>\n",
       "      <td>NaN</td>\n",
       "      <td>NaN</td>\n",
       "      <td>NaN</td>\n",
       "      <td>NaN</td>\n",
       "      <td>4.0</td>\n",
       "      <td>...</td>\n",
       "      <td>NaN</td>\n",
       "      <td>NaN</td>\n",
       "      <td>NaN</td>\n",
       "      <td>NaN</td>\n",
       "      <td>NaN</td>\n",
       "      <td>NaN</td>\n",
       "      <td>NaN</td>\n",
       "      <td>NaN</td>\n",
       "      <td>NaN</td>\n",
       "      <td>NaN</td>\n",
       "    </tr>\n",
       "    <tr>\n",
       "      <th>5.0</th>\n",
       "      <td>NaN</td>\n",
       "      <td>NaN</td>\n",
       "      <td>4.0</td>\n",
       "      <td>NaN</td>\n",
       "      <td>NaN</td>\n",
       "      <td>NaN</td>\n",
       "      <td>NaN</td>\n",
       "      <td>NaN</td>\n",
       "      <td>NaN</td>\n",
       "      <td>NaN</td>\n",
       "      <td>...</td>\n",
       "      <td>NaN</td>\n",
       "      <td>NaN</td>\n",
       "      <td>NaN</td>\n",
       "      <td>NaN</td>\n",
       "      <td>NaN</td>\n",
       "      <td>NaN</td>\n",
       "      <td>NaN</td>\n",
       "      <td>NaN</td>\n",
       "      <td>NaN</td>\n",
       "      <td>NaN</td>\n",
       "    </tr>\n",
       "  </tbody>\n",
       "</table>\n",
       "<p>5 rows × 9066 columns</p>\n",
       "</div>"
      ],
      "text/plain": [
       "1    1.0       2.0       3.0       4.0       5.0       6.0       7.0       \\\n",
       "0                                                                           \n",
       "1.0       NaN       NaN       NaN       NaN       NaN       NaN       NaN   \n",
       "2.0       NaN       NaN       NaN       NaN       NaN       NaN       NaN   \n",
       "3.0       NaN       NaN       NaN       NaN       NaN       NaN       NaN   \n",
       "4.0       NaN       NaN       NaN       NaN       NaN       NaN       NaN   \n",
       "5.0       NaN       NaN       4.0       NaN       NaN       NaN       NaN   \n",
       "\n",
       "1    8.0       9.0       10.0      ...  161084.0  161155.0  161594.0  \\\n",
       "0                                  ...                                 \n",
       "1.0       NaN       NaN       NaN  ...       NaN       NaN       NaN   \n",
       "2.0       NaN       NaN       4.0  ...       NaN       NaN       NaN   \n",
       "3.0       NaN       NaN       NaN  ...       NaN       NaN       NaN   \n",
       "4.0       NaN       NaN       4.0  ...       NaN       NaN       NaN   \n",
       "5.0       NaN       NaN       NaN  ...       NaN       NaN       NaN   \n",
       "\n",
       "1    161830.0  161918.0  161944.0  162376.0  162542.0  162672.0  163949.0  \n",
       "0                                                                          \n",
       "1.0       NaN       NaN       NaN       NaN       NaN       NaN       NaN  \n",
       "2.0       NaN       NaN       NaN       NaN       NaN       NaN       NaN  \n",
       "3.0       NaN       NaN       NaN       NaN       NaN       NaN       NaN  \n",
       "4.0       NaN       NaN       NaN       NaN       NaN       NaN       NaN  \n",
       "5.0       NaN       NaN       NaN       NaN       NaN       NaN       NaN  \n",
       "\n",
       "[5 rows x 9066 columns]"
      ]
     },
     "execution_count": 6,
     "metadata": {},
     "output_type": "execute_result"
    }
   ],
   "source": [
    "pd.DataFrame(data).pivot(index=0, columns=1, values=2).head(5)"
   ]
  },
  {
   "cell_type": "markdown",
   "metadata": {},
   "source": [
    "Nice! We can power this up with fillna()!"
   ]
  },
  {
   "cell_type": "code",
   "execution_count": 7,
   "metadata": {
    "scrolled": true
   },
   "outputs": [
    {
     "data": {
      "text/html": [
       "<div>\n",
       "<style scoped>\n",
       "    .dataframe tbody tr th:only-of-type {\n",
       "        vertical-align: middle;\n",
       "    }\n",
       "\n",
       "    .dataframe tbody tr th {\n",
       "        vertical-align: top;\n",
       "    }\n",
       "\n",
       "    .dataframe thead th {\n",
       "        text-align: right;\n",
       "    }\n",
       "</style>\n",
       "<table border=\"1\" class=\"dataframe\">\n",
       "  <thead>\n",
       "    <tr style=\"text-align: right;\">\n",
       "      <th>1</th>\n",
       "      <th>1.0</th>\n",
       "      <th>2.0</th>\n",
       "      <th>3.0</th>\n",
       "      <th>4.0</th>\n",
       "      <th>5.0</th>\n",
       "      <th>6.0</th>\n",
       "      <th>7.0</th>\n",
       "      <th>8.0</th>\n",
       "      <th>9.0</th>\n",
       "      <th>10.0</th>\n",
       "      <th>...</th>\n",
       "      <th>161084.0</th>\n",
       "      <th>161155.0</th>\n",
       "      <th>161594.0</th>\n",
       "      <th>161830.0</th>\n",
       "      <th>161918.0</th>\n",
       "      <th>161944.0</th>\n",
       "      <th>162376.0</th>\n",
       "      <th>162542.0</th>\n",
       "      <th>162672.0</th>\n",
       "      <th>163949.0</th>\n",
       "    </tr>\n",
       "    <tr>\n",
       "      <th>0</th>\n",
       "      <th></th>\n",
       "      <th></th>\n",
       "      <th></th>\n",
       "      <th></th>\n",
       "      <th></th>\n",
       "      <th></th>\n",
       "      <th></th>\n",
       "      <th></th>\n",
       "      <th></th>\n",
       "      <th></th>\n",
       "      <th></th>\n",
       "      <th></th>\n",
       "      <th></th>\n",
       "      <th></th>\n",
       "      <th></th>\n",
       "      <th></th>\n",
       "      <th></th>\n",
       "      <th></th>\n",
       "      <th></th>\n",
       "      <th></th>\n",
       "      <th></th>\n",
       "    </tr>\n",
       "  </thead>\n",
       "  <tbody>\n",
       "    <tr>\n",
       "      <th>1.0</th>\n",
       "      <td>0.0</td>\n",
       "      <td>0.0</td>\n",
       "      <td>0.0</td>\n",
       "      <td>0.0</td>\n",
       "      <td>0.0</td>\n",
       "      <td>0.0</td>\n",
       "      <td>0.0</td>\n",
       "      <td>0.0</td>\n",
       "      <td>0.0</td>\n",
       "      <td>0.0</td>\n",
       "      <td>...</td>\n",
       "      <td>0.0</td>\n",
       "      <td>0.0</td>\n",
       "      <td>0.0</td>\n",
       "      <td>0.0</td>\n",
       "      <td>0.0</td>\n",
       "      <td>0.0</td>\n",
       "      <td>0.0</td>\n",
       "      <td>0.0</td>\n",
       "      <td>0.0</td>\n",
       "      <td>0.0</td>\n",
       "    </tr>\n",
       "    <tr>\n",
       "      <th>2.0</th>\n",
       "      <td>0.0</td>\n",
       "      <td>0.0</td>\n",
       "      <td>0.0</td>\n",
       "      <td>0.0</td>\n",
       "      <td>0.0</td>\n",
       "      <td>0.0</td>\n",
       "      <td>0.0</td>\n",
       "      <td>0.0</td>\n",
       "      <td>0.0</td>\n",
       "      <td>4.0</td>\n",
       "      <td>...</td>\n",
       "      <td>0.0</td>\n",
       "      <td>0.0</td>\n",
       "      <td>0.0</td>\n",
       "      <td>0.0</td>\n",
       "      <td>0.0</td>\n",
       "      <td>0.0</td>\n",
       "      <td>0.0</td>\n",
       "      <td>0.0</td>\n",
       "      <td>0.0</td>\n",
       "      <td>0.0</td>\n",
       "    </tr>\n",
       "    <tr>\n",
       "      <th>3.0</th>\n",
       "      <td>0.0</td>\n",
       "      <td>0.0</td>\n",
       "      <td>0.0</td>\n",
       "      <td>0.0</td>\n",
       "      <td>0.0</td>\n",
       "      <td>0.0</td>\n",
       "      <td>0.0</td>\n",
       "      <td>0.0</td>\n",
       "      <td>0.0</td>\n",
       "      <td>0.0</td>\n",
       "      <td>...</td>\n",
       "      <td>0.0</td>\n",
       "      <td>0.0</td>\n",
       "      <td>0.0</td>\n",
       "      <td>0.0</td>\n",
       "      <td>0.0</td>\n",
       "      <td>0.0</td>\n",
       "      <td>0.0</td>\n",
       "      <td>0.0</td>\n",
       "      <td>0.0</td>\n",
       "      <td>0.0</td>\n",
       "    </tr>\n",
       "    <tr>\n",
       "      <th>4.0</th>\n",
       "      <td>0.0</td>\n",
       "      <td>0.0</td>\n",
       "      <td>0.0</td>\n",
       "      <td>0.0</td>\n",
       "      <td>0.0</td>\n",
       "      <td>0.0</td>\n",
       "      <td>0.0</td>\n",
       "      <td>0.0</td>\n",
       "      <td>0.0</td>\n",
       "      <td>4.0</td>\n",
       "      <td>...</td>\n",
       "      <td>0.0</td>\n",
       "      <td>0.0</td>\n",
       "      <td>0.0</td>\n",
       "      <td>0.0</td>\n",
       "      <td>0.0</td>\n",
       "      <td>0.0</td>\n",
       "      <td>0.0</td>\n",
       "      <td>0.0</td>\n",
       "      <td>0.0</td>\n",
       "      <td>0.0</td>\n",
       "    </tr>\n",
       "    <tr>\n",
       "      <th>5.0</th>\n",
       "      <td>0.0</td>\n",
       "      <td>0.0</td>\n",
       "      <td>4.0</td>\n",
       "      <td>0.0</td>\n",
       "      <td>0.0</td>\n",
       "      <td>0.0</td>\n",
       "      <td>0.0</td>\n",
       "      <td>0.0</td>\n",
       "      <td>0.0</td>\n",
       "      <td>0.0</td>\n",
       "      <td>...</td>\n",
       "      <td>0.0</td>\n",
       "      <td>0.0</td>\n",
       "      <td>0.0</td>\n",
       "      <td>0.0</td>\n",
       "      <td>0.0</td>\n",
       "      <td>0.0</td>\n",
       "      <td>0.0</td>\n",
       "      <td>0.0</td>\n",
       "      <td>0.0</td>\n",
       "      <td>0.0</td>\n",
       "    </tr>\n",
       "  </tbody>\n",
       "</table>\n",
       "<p>5 rows × 9066 columns</p>\n",
       "</div>"
      ],
      "text/plain": [
       "1    1.0       2.0       3.0       4.0       5.0       6.0       7.0       \\\n",
       "0                                                                           \n",
       "1.0       0.0       0.0       0.0       0.0       0.0       0.0       0.0   \n",
       "2.0       0.0       0.0       0.0       0.0       0.0       0.0       0.0   \n",
       "3.0       0.0       0.0       0.0       0.0       0.0       0.0       0.0   \n",
       "4.0       0.0       0.0       0.0       0.0       0.0       0.0       0.0   \n",
       "5.0       0.0       0.0       4.0       0.0       0.0       0.0       0.0   \n",
       "\n",
       "1    8.0       9.0       10.0      ...  161084.0  161155.0  161594.0  \\\n",
       "0                                  ...                                 \n",
       "1.0       0.0       0.0       0.0  ...       0.0       0.0       0.0   \n",
       "2.0       0.0       0.0       4.0  ...       0.0       0.0       0.0   \n",
       "3.0       0.0       0.0       0.0  ...       0.0       0.0       0.0   \n",
       "4.0       0.0       0.0       4.0  ...       0.0       0.0       0.0   \n",
       "5.0       0.0       0.0       0.0  ...       0.0       0.0       0.0   \n",
       "\n",
       "1    161830.0  161918.0  161944.0  162376.0  162542.0  162672.0  163949.0  \n",
       "0                                                                          \n",
       "1.0       0.0       0.0       0.0       0.0       0.0       0.0       0.0  \n",
       "2.0       0.0       0.0       0.0       0.0       0.0       0.0       0.0  \n",
       "3.0       0.0       0.0       0.0       0.0       0.0       0.0       0.0  \n",
       "4.0       0.0       0.0       0.0       0.0       0.0       0.0       0.0  \n",
       "5.0       0.0       0.0       0.0       0.0       0.0       0.0       0.0  \n",
       "\n",
       "[5 rows x 9066 columns]"
      ]
     },
     "execution_count": 7,
     "metadata": {},
     "output_type": "execute_result"
    }
   ],
   "source": [
    "pd.DataFrame(data).pivot(index=0, columns=1, values=2).fillna(0).head(5)"
   ]
  },
  {
   "cell_type": "markdown",
   "metadata": {},
   "source": [
    "A thing of beauty. One-line of code! But remember that with great power comes great responsability - this matrix is really hungry and eats a lot of space!"
   ]
  },
  {
   "cell_type": "markdown",
   "metadata": {},
   "source": [
    "# 4 Density and Sparsity score\n",
    "\n",
    "Now, we compute the Density score and the Sparsity of the ratings matrix.\n",
    "\n",
    "## 4.1 Density \n",
    "\n",
    "We will use the array method `nonzero` to return a mask of the elements that are non-zero - this is another way to get the elements that are not zero in a matrix - if you had negative elements it would be more efficient to use this method instead of the R[R>0] one."
   ]
  },
  {
   "cell_type": "code",
   "execution_count": 8,
   "metadata": {},
   "outputs": [
    {
     "data": {
      "text/plain": [
       "(array([  0,   0,   0, ..., 670, 670, 670]),\n",
       " array([  30,  833,  859, ..., 4597, 4610, 4696]))"
      ]
     },
     "execution_count": 8,
     "metadata": {},
     "output_type": "execute_result"
    }
   ],
   "source": [
    "R.nonzero()"
   ]
  },
  {
   "cell_type": "markdown",
   "metadata": {},
   "source": [
    "We can compute the density score, as: \n",
    "\n",
    "$$Density = \\frac{|R'|}{|R|}$$\n",
    "\n",
    "Where $|R'|$ is equal to the elements that are not zero in the matrix."
   ]
  },
  {
   "cell_type": "code",
   "execution_count": 9,
   "metadata": {},
   "outputs": [
    {
     "data": {
      "text/plain": [
       "0.016439141608663475"
      ]
     },
     "execution_count": 9,
     "metadata": {},
     "output_type": "execute_result"
    }
   ],
   "source": [
    "R[R.nonzero()].size / R.size"
   ]
  },
  {
   "cell_type": "markdown",
   "metadata": {},
   "source": [
    "Holy moly, at least now we know what we are up against! - Only 1.6% of the matrix has values that are not zero - Density refers to the number of elements in a matrix that are not zero over the total elements of a matrix. "
   ]
  },
  {
   "cell_type": "markdown",
   "metadata": {},
   "source": [
    "## 4.2 Sparsity"
   ]
  },
  {
   "cell_type": "markdown",
   "metadata": {},
   "source": [
    "Sparsity is the opposite - the number of elements that are zero in a matrix over the total elements in the matrix! Simply put we can also consider:  \n",
    "\n",
    "$$Sparsity = 1- \\frac{|R'|}{|R|}$$"
   ]
  },
  {
   "cell_type": "code",
   "execution_count": 10,
   "metadata": {},
   "outputs": [
    {
     "data": {
      "text/plain": [
       "0.9835608583913366"
      ]
     },
     "execution_count": 10,
     "metadata": {},
     "output_type": "execute_result"
    }
   ],
   "source": [
    "1 - R[R.nonzero()].size / R.size"
   ]
  },
  {
   "cell_type": "markdown",
   "metadata": {},
   "source": [
    "They complement each other and they are attributes that are important when speaking of rating matrixes, in this case: \n",
    "- **This matrix is ~2% dense and ~98% sparse!**"
   ]
  },
  {
   "cell_type": "markdown",
   "metadata": {},
   "source": [
    "# 5 Aggregated opinion\n",
    "\n",
    "Again, the most important idea about non-personalization is that we predict the utility for the entire community.\n",
    "\n",
    "Perhaps the oldest RS is aggregated opinion, i.e., most popular/hated (Think Billboard or [IMDb Bottom 100](https://www.imdb.com/chart/bottom)).\n",
    "\n",
    "## 5.1 Most-rated\n",
    "\n",
    "According to popular opinion, the most popular items are the ones with most ratings. (see what we did here?) \n",
    "\n",
    "We start by checking which elements are greater than zero."
   ]
  },
  {
   "cell_type": "code",
   "execution_count": 11,
   "metadata": {},
   "outputs": [
    {
     "data": {
      "text/plain": [
       "array([[False, False, False, ..., False, False, False],\n",
       "       [False, False, False, ..., False, False, False],\n",
       "       [False, False, False, ..., False, False, False],\n",
       "       ...,\n",
       "       [False, False, False, ..., False, False, False],\n",
       "       [ True, False, False, ..., False, False, False],\n",
       "       [ True, False, False, ..., False, False, False]])"
      ]
     },
     "execution_count": 11,
     "metadata": {},
     "output_type": "execute_result"
    }
   ],
   "source": [
    "def is_rating(R):\n",
    "    return np.greater(R, 0)\n",
    "\n",
    "is_rating(R)"
   ]
  },
  {
   "cell_type": "markdown",
   "metadata": {},
   "source": [
    "Recall that each row corresponds to user and each column to an item, we can sum the results in each column to know how many real ratings exist for that item."
   ]
  },
  {
   "cell_type": "code",
   "execution_count": 23,
   "metadata": {},
   "outputs": [
    {
     "data": {
      "text/plain": [
       "9066"
      ]
     },
     "execution_count": 23,
     "metadata": {},
     "output_type": "execute_result"
    }
   ],
   "source": [
    "def count_ratings(R):\n",
    "    R_ = is_rating(R)\n",
    "    return R_.sum(axis=0)\n",
    "\n",
    "count_ratings(R)"
   ]
  },
  {
   "cell_type": "markdown",
   "metadata": {},
   "source": [
    "Now, we can have a function that retrieves the top-$N$ most-rated items."
   ]
  },
  {
   "cell_type": "code",
   "execution_count": 13,
   "metadata": {},
   "outputs": [
    {
     "data": {
      "text/plain": [
       "array([321, 266, 284])"
      ]
     },
     "execution_count": 13,
     "metadata": {},
     "output_type": "execute_result"
    }
   ],
   "source": [
    "def most_rated(R, n):\n",
    "    R_ = count_ratings(R)\n",
    "    return np.negative(R_).argsort()[:n]\n",
    "\n",
    "\n",
    "most_rated(R, 3)"
   ]
  },
  {
   "cell_type": "markdown",
   "metadata": {},
   "source": [
    "## Yeah, but what if most ratings are negative?\n",
    "\n",
    "We can extend the function above to mimic another popular algorithm, \"Highest % of Top Ratings\".\n",
    "\n",
    "Let's say a positive rating is anything above the value of 3 (e.g., 3 stars)."
   ]
  },
  {
   "cell_type": "code",
   "execution_count": 14,
   "metadata": {},
   "outputs": [
    {
     "data": {
      "text/plain": [
       "array([182,  51,  24, ...,   1,   0,   1])"
      ]
     },
     "execution_count": 14,
     "metadata": {},
     "output_type": "execute_result"
    }
   ],
   "source": [
    "def count_positive_ratings(R, threshold):\n",
    "    R_ = is_above_threshold(R, threshold)\n",
    "    return R_.sum(axis=0)\n",
    "\n",
    "\n",
    "def is_above_threshold(R, threshold):\n",
    "    return np.greater(R, threshold)\n",
    "\n",
    "\n",
    "count_positive_ratings(R, 3)"
   ]
  },
  {
   "cell_type": "markdown",
   "metadata": {},
   "source": [
    "Now, we just need to count the number of positive ratings and sort the resulting array."
   ]
  },
  {
   "cell_type": "code",
   "execution_count": 15,
   "metadata": {},
   "outputs": [
    {
     "data": {
      "text/plain": [
       "array([284, 321, 266])"
      ]
     },
     "execution_count": 15,
     "metadata": {},
     "output_type": "execute_result"
    }
   ],
   "source": [
    "def most_positive_ratings(R, threshold, n):\n",
    "    R_ = count_positive_ratings(R, threshold)\n",
    "    return np.negative(R_).argsort()[:n]\n",
    "\n",
    "\n",
    "most_positive_ratings(R, 3, 3)"
   ]
  },
  {
   "cell_type": "markdown",
   "metadata": {},
   "source": [
    "# 6. Powering up with Summary Statistics\n",
    "\n",
    "Until now we have only used counts to do stuff: Count the number of ratings and count the number of positive ratings. But we can rely on good old statistics to help us out here.\n",
    "\n",
    "Probably the most popular non-personalized algorithm is the average rating.\n",
    "\n",
    "Popularized at first by Amazon and Ebay and then IMDB, Netflix, among others, this is a basic yet widely used algorithm.\n",
    "\n",
    "The first step is to remove the zeros, so that they don't affect our average."
   ]
  },
  {
   "cell_type": "code",
   "execution_count": 16,
   "metadata": {},
   "outputs": [
    {
     "data": {
      "text/plain": [
       "array([[nan, nan, nan, ..., nan, nan, nan],\n",
       "       [nan, nan, nan, ..., nan, nan, nan],\n",
       "       [nan, nan, nan, ..., nan, nan, nan],\n",
       "       ...,\n",
       "       [nan, nan, nan, ..., nan, nan, nan],\n",
       "       [ 4., nan, nan, ..., nan, nan, nan],\n",
       "       [ 5., nan, nan, ..., nan, nan, nan]])"
      ]
     },
     "execution_count": 16,
     "metadata": {},
     "output_type": "execute_result"
    }
   ],
   "source": [
    "def remove_zeros(R):\n",
    "    R_ = R.copy()\n",
    "    R_[R_ == 0] = np.NaN\n",
    "    \n",
    "    return R_\n",
    "\n",
    "\n",
    "remove_zeros(R)"
   ]
  },
  {
   "cell_type": "markdown",
   "metadata": {},
   "source": [
    "And now, we can safely compute the average rating per item and sort the array."
   ]
  },
  {
   "cell_type": "code",
   "execution_count": 22,
   "metadata": {},
   "outputs": [
    {
     "data": {
      "text/plain": [
       "(671, 9066)"
      ]
     },
     "execution_count": 22,
     "metadata": {},
     "output_type": "execute_result"
    }
   ],
   "source": [
    "R.shape"
   ]
  },
  {
   "cell_type": "code",
   "execution_count": 21,
   "metadata": {},
   "outputs": [
    {
     "data": {
      "text/plain": [
       "9066"
      ]
     },
     "execution_count": 21,
     "metadata": {},
     "output_type": "execute_result"
    }
   ],
   "source": [
    "def mean_ratings(R):\n",
    "    R_ = remove_zeros(R)\n",
    "    return np.nanmean(R_, axis=0)\n",
    "\n",
    "\n",
    "mean_ratings(R)"
   ]
  },
  {
   "cell_type": "code",
   "execution_count": 18,
   "metadata": {},
   "outputs": [
    {
     "data": {
      "text/plain": [
       "array([9065, 8119, 8125])"
      ]
     },
     "execution_count": 18,
     "metadata": {},
     "output_type": "execute_result"
    }
   ],
   "source": [
    "def best_mean_rating(R, n):\n",
    "    R_ = mean_ratings(R)\n",
    "    return np.negative(R_).argsort()[:n]\n",
    "\n",
    "\n",
    "best_mean_rating(R, 3)"
   ]
  },
  {
   "cell_type": "markdown",
   "metadata": {},
   "source": [
    "There are alternatives, such as computing the \"mean rating for users that liked this item\", that we don't explore.\n",
    "\n",
    "It's increasingly popular also to show an histogram alongside mean ratings, to give a sense of the distribution of ratings. Or to normalize the mean by the number of ratings so that items with a low number of ratings do not get an advantage."
   ]
  },
  {
   "cell_type": "markdown",
   "metadata": {},
   "source": [
    "# 7 Association rules\n",
    "\n",
    "Perhaps one of the most interesting (and also very popular) non-personalized algorithms is \"people that buy X, also buy Y\".\n",
    "\n",
    "These are called association rules. Here, and for the sake of conciseness, we use `mlxtend` to implement some of them. \n",
    "\n",
    "(Yes, we are cheating. We should be implementing it with NumPy but for simplicity sake we will use mlxtend!)\n",
    "\n",
    "## 7.1 Apriori\n",
    "\n",
    "Apriori is used to identify common item pairs, i.e., stuff that usually goes together:\n",
    "* We identify individual items that satisfy a minimum occurrence threshold\n",
    "* Then, we extend the item sets, adding one item at a time \n",
    "* Every time we check if the resulting item set satisfies the specified threshold\n",
    "* The algorithm stops when there are no more items to add that meet the threshold. \n",
    "\n",
    "The `mlxtend` expects a one-hot input, i.e., 0/1 or True/False.\n",
    "\n",
    "(Unfortunately, `mlxtend` only supports dataframes at this point.)"
   ]
  },
  {
   "cell_type": "code",
   "execution_count": 19,
   "metadata": {},
   "outputs": [
    {
     "data": {
      "text/html": [
       "<div>\n",
       "<style scoped>\n",
       "    .dataframe tbody tr th:only-of-type {\n",
       "        vertical-align: middle;\n",
       "    }\n",
       "\n",
       "    .dataframe tbody tr th {\n",
       "        vertical-align: top;\n",
       "    }\n",
       "\n",
       "    .dataframe thead th {\n",
       "        text-align: right;\n",
       "    }\n",
       "</style>\n",
       "<table border=\"1\" class=\"dataframe\">\n",
       "  <thead>\n",
       "    <tr style=\"text-align: right;\">\n",
       "      <th></th>\n",
       "      <th>support</th>\n",
       "      <th>itemsets</th>\n",
       "    </tr>\n",
       "  </thead>\n",
       "  <tbody>\n",
       "    <tr>\n",
       "      <th>0</th>\n",
       "      <td>0.368107</td>\n",
       "      <td>(0)</td>\n",
       "    </tr>\n",
       "    <tr>\n",
       "      <th>1</th>\n",
       "      <td>0.339791</td>\n",
       "      <td>(100)</td>\n",
       "    </tr>\n",
       "    <tr>\n",
       "      <th>2</th>\n",
       "      <td>0.433681</td>\n",
       "      <td>(232)</td>\n",
       "    </tr>\n",
       "    <tr>\n",
       "      <th>3</th>\n",
       "      <td>0.482861</td>\n",
       "      <td>(266)</td>\n",
       "    </tr>\n",
       "    <tr>\n",
       "      <th>4</th>\n",
       "      <td>0.463487</td>\n",
       "      <td>(284)</td>\n",
       "    </tr>\n",
       "    <tr>\n",
       "      <th>5</th>\n",
       "      <td>0.508197</td>\n",
       "      <td>(321)</td>\n",
       "    </tr>\n",
       "    <tr>\n",
       "      <th>6</th>\n",
       "      <td>0.317437</td>\n",
       "      <td>(406)</td>\n",
       "    </tr>\n",
       "    <tr>\n",
       "      <th>7</th>\n",
       "      <td>0.408346</td>\n",
       "      <td>(427)</td>\n",
       "    </tr>\n",
       "    <tr>\n",
       "      <th>8</th>\n",
       "      <td>0.363636</td>\n",
       "      <td>(472)</td>\n",
       "    </tr>\n",
       "    <tr>\n",
       "      <th>9</th>\n",
       "      <td>0.320417</td>\n",
       "      <td>(521)</td>\n",
       "    </tr>\n",
       "    <tr>\n",
       "      <th>10</th>\n",
       "      <td>0.353204</td>\n",
       "      <td>(522)</td>\n",
       "    </tr>\n",
       "    <tr>\n",
       "      <th>11</th>\n",
       "      <td>0.301043</td>\n",
       "      <td>(523)</td>\n",
       "    </tr>\n",
       "    <tr>\n",
       "      <th>12</th>\n",
       "      <td>0.453055</td>\n",
       "      <td>(525)</td>\n",
       "    </tr>\n",
       "    <tr>\n",
       "      <th>13</th>\n",
       "      <td>0.333830</td>\n",
       "      <td>(535)</td>\n",
       "    </tr>\n",
       "    <tr>\n",
       "      <th>14</th>\n",
       "      <td>0.324888</td>\n",
       "      <td>(644)</td>\n",
       "    </tr>\n",
       "    <tr>\n",
       "      <th>15</th>\n",
       "      <td>0.348733</td>\n",
       "      <td>(953)</td>\n",
       "    </tr>\n",
       "    <tr>\n",
       "      <th>16</th>\n",
       "      <td>0.327869</td>\n",
       "      <td>(955)</td>\n",
       "    </tr>\n",
       "    <tr>\n",
       "      <th>17</th>\n",
       "      <td>0.323398</td>\n",
       "      <td>(966)</td>\n",
       "    </tr>\n",
       "    <tr>\n",
       "      <th>18</th>\n",
       "      <td>0.336811</td>\n",
       "      <td>(1024)</td>\n",
       "    </tr>\n",
       "    <tr>\n",
       "      <th>19</th>\n",
       "      <td>0.385991</td>\n",
       "      <td>(2062)</td>\n",
       "    </tr>\n",
       "    <tr>\n",
       "      <th>20</th>\n",
       "      <td>0.327869</td>\n",
       "      <td>(2288)</td>\n",
       "    </tr>\n",
       "    <tr>\n",
       "      <th>21</th>\n",
       "      <td>0.301043</td>\n",
       "      <td>(2374)</td>\n",
       "    </tr>\n",
       "    <tr>\n",
       "      <th>22</th>\n",
       "      <td>0.302534</td>\n",
       "      <td>(232, 953)</td>\n",
       "    </tr>\n",
       "    <tr>\n",
       "      <th>23</th>\n",
       "      <td>0.326379</td>\n",
       "      <td>(266, 284)</td>\n",
       "    </tr>\n",
       "    <tr>\n",
       "      <th>24</th>\n",
       "      <td>0.344262</td>\n",
       "      <td>(321, 266)</td>\n",
       "    </tr>\n",
       "    <tr>\n",
       "      <th>25</th>\n",
       "      <td>0.333830</td>\n",
       "      <td>(266, 525)</td>\n",
       "    </tr>\n",
       "    <tr>\n",
       "      <th>26</th>\n",
       "      <td>0.321908</td>\n",
       "      <td>(321, 284)</td>\n",
       "    </tr>\n",
       "    <tr>\n",
       "      <th>27</th>\n",
       "      <td>0.308495</td>\n",
       "      <td>(284, 525)</td>\n",
       "    </tr>\n",
       "    <tr>\n",
       "      <th>28</th>\n",
       "      <td>0.329359</td>\n",
       "      <td>(321, 427)</td>\n",
       "    </tr>\n",
       "    <tr>\n",
       "      <th>29</th>\n",
       "      <td>0.338301</td>\n",
       "      <td>(321, 525)</td>\n",
       "    </tr>\n",
       "  </tbody>\n",
       "</table>\n",
       "</div>"
      ],
      "text/plain": [
       "     support    itemsets\n",
       "0   0.368107         (0)\n",
       "1   0.339791       (100)\n",
       "2   0.433681       (232)\n",
       "3   0.482861       (266)\n",
       "4   0.463487       (284)\n",
       "5   0.508197       (321)\n",
       "6   0.317437       (406)\n",
       "7   0.408346       (427)\n",
       "8   0.363636       (472)\n",
       "9   0.320417       (521)\n",
       "10  0.353204       (522)\n",
       "11  0.301043       (523)\n",
       "12  0.453055       (525)\n",
       "13  0.333830       (535)\n",
       "14  0.324888       (644)\n",
       "15  0.348733       (953)\n",
       "16  0.327869       (955)\n",
       "17  0.323398       (966)\n",
       "18  0.336811      (1024)\n",
       "19  0.385991      (2062)\n",
       "20  0.327869      (2288)\n",
       "21  0.301043      (2374)\n",
       "22  0.302534  (232, 953)\n",
       "23  0.326379  (266, 284)\n",
       "24  0.344262  (321, 266)\n",
       "25  0.333830  (266, 525)\n",
       "26  0.321908  (321, 284)\n",
       "27  0.308495  (284, 525)\n",
       "28  0.329359  (321, 427)\n",
       "29  0.338301  (321, 525)"
      ]
     },
     "execution_count": 19,
     "metadata": {},
     "output_type": "execute_result"
    }
   ],
   "source": [
    "def get_apriori_itemsets(R, min_support=0.3):\n",
    "    R_ = pd.DataFrame(R > 0)\n",
    "    return apriori(R_, min_support)\n",
    "\n",
    "\n",
    "get_apriori_itemsets(R)"
   ]
  },
  {
   "cell_type": "markdown",
   "metadata": {},
   "source": [
    "## 7.2 Support\n",
    "\n",
    "Support is the percentage of users that contains the item set, so:\n",
    "\n",
    "$$Support\\{i, j\\} = \\frac{|U_{i, j}|}{|U|} = \\frac{|U_{i, j}|}{m}$$\n",
    "\n",
    "## 7.3 Confidence\n",
    "\n",
    "Given two sets, the confidence refers to how frequently the item $j$ is purchased, given that item $i$ was purchased, as:\n",
    "\n",
    "$$Confidence\\{i \\to j \\} = \\frac{Support\\{i, j\\}}{Support\\{i\\}}$$\n",
    "\n",
    "Or, in a more familiar way, confidence is the conditional probability of $j$ given $i$:\n",
    "\n",
    "$$P(j|i) = \\frac{P(i \\cap j)}{P(i)}$$\n",
    "\n",
    "However, do $i$, and $j$ occur for the same users for a reason, or is it random? What if $j$ is a trendy item?\n",
    "\n",
    "## 7.4 Lift\n",
    "\n",
    "Meet the bananas trap: just because people buy bananas most times, it doesn't mean bananas go well with soap.\n",
    "\n",
    "Fortunately, there is a better way. \n",
    "\n",
    "The lift algorithm, which takes into consideration the popularity of the items.\n",
    "\n",
    "$$Lift\\{i, j\\} = \\frac{Support\\{i, j\\}}{Support\\{i\\} * Support\\{j\\}}$$\n",
    "\n",
    "The denominator is the likelihood that $i$ and $j$ appear together by chance, so lift questions whether $i$ makes $j$ more probable or not. Think of lift as a metric that is able to take into account the actual popularity of the item."
   ]
  },
  {
   "cell_type": "code",
   "execution_count": 20,
   "metadata": {},
   "outputs": [
    {
     "data": {
      "text/html": [
       "<div>\n",
       "<style scoped>\n",
       "    .dataframe tbody tr th:only-of-type {\n",
       "        vertical-align: middle;\n",
       "    }\n",
       "\n",
       "    .dataframe tbody tr th {\n",
       "        vertical-align: top;\n",
       "    }\n",
       "\n",
       "    .dataframe thead th {\n",
       "        text-align: right;\n",
       "    }\n",
       "</style>\n",
       "<table border=\"1\" class=\"dataframe\">\n",
       "  <thead>\n",
       "    <tr style=\"text-align: right;\">\n",
       "      <th></th>\n",
       "      <th>antecedents</th>\n",
       "      <th>consequents</th>\n",
       "      <th>antecedent support</th>\n",
       "      <th>consequent support</th>\n",
       "      <th>support</th>\n",
       "      <th>confidence</th>\n",
       "      <th>lift</th>\n",
       "      <th>leverage</th>\n",
       "      <th>conviction</th>\n",
       "    </tr>\n",
       "  </thead>\n",
       "  <tbody>\n",
       "    <tr>\n",
       "      <th>0</th>\n",
       "      <td>(232)</td>\n",
       "      <td>(953)</td>\n",
       "      <td>0.433681</td>\n",
       "      <td>0.348733</td>\n",
       "      <td>0.302534</td>\n",
       "      <td>0.697595</td>\n",
       "      <td>2.000367</td>\n",
       "      <td>0.151295</td>\n",
       "      <td>2.153621</td>\n",
       "    </tr>\n",
       "    <tr>\n",
       "      <th>1</th>\n",
       "      <td>(953)</td>\n",
       "      <td>(232)</td>\n",
       "      <td>0.348733</td>\n",
       "      <td>0.433681</td>\n",
       "      <td>0.302534</td>\n",
       "      <td>0.867521</td>\n",
       "      <td>2.000367</td>\n",
       "      <td>0.151295</td>\n",
       "      <td>4.274794</td>\n",
       "    </tr>\n",
       "    <tr>\n",
       "      <th>2</th>\n",
       "      <td>(266)</td>\n",
       "      <td>(284)</td>\n",
       "      <td>0.482861</td>\n",
       "      <td>0.463487</td>\n",
       "      <td>0.326379</td>\n",
       "      <td>0.675926</td>\n",
       "      <td>1.458348</td>\n",
       "      <td>0.102578</td>\n",
       "      <td>1.655525</td>\n",
       "    </tr>\n",
       "    <tr>\n",
       "      <th>3</th>\n",
       "      <td>(284)</td>\n",
       "      <td>(266)</td>\n",
       "      <td>0.463487</td>\n",
       "      <td>0.482861</td>\n",
       "      <td>0.326379</td>\n",
       "      <td>0.704180</td>\n",
       "      <td>1.458348</td>\n",
       "      <td>0.102578</td>\n",
       "      <td>1.748153</td>\n",
       "    </tr>\n",
       "    <tr>\n",
       "      <th>4</th>\n",
       "      <td>(321)</td>\n",
       "      <td>(266)</td>\n",
       "      <td>0.508197</td>\n",
       "      <td>0.482861</td>\n",
       "      <td>0.344262</td>\n",
       "      <td>0.677419</td>\n",
       "      <td>1.402927</td>\n",
       "      <td>0.098874</td>\n",
       "      <td>1.603130</td>\n",
       "    </tr>\n",
       "    <tr>\n",
       "      <th>5</th>\n",
       "      <td>(266)</td>\n",
       "      <td>(321)</td>\n",
       "      <td>0.482861</td>\n",
       "      <td>0.508197</td>\n",
       "      <td>0.344262</td>\n",
       "      <td>0.712963</td>\n",
       "      <td>1.402927</td>\n",
       "      <td>0.098874</td>\n",
       "      <td>1.713379</td>\n",
       "    </tr>\n",
       "    <tr>\n",
       "      <th>6</th>\n",
       "      <td>(266)</td>\n",
       "      <td>(525)</td>\n",
       "      <td>0.482861</td>\n",
       "      <td>0.453055</td>\n",
       "      <td>0.333830</td>\n",
       "      <td>0.691358</td>\n",
       "      <td>1.525991</td>\n",
       "      <td>0.115067</td>\n",
       "      <td>1.772101</td>\n",
       "    </tr>\n",
       "    <tr>\n",
       "      <th>7</th>\n",
       "      <td>(525)</td>\n",
       "      <td>(266)</td>\n",
       "      <td>0.453055</td>\n",
       "      <td>0.482861</td>\n",
       "      <td>0.333830</td>\n",
       "      <td>0.736842</td>\n",
       "      <td>1.525991</td>\n",
       "      <td>0.115067</td>\n",
       "      <td>1.965127</td>\n",
       "    </tr>\n",
       "    <tr>\n",
       "      <th>8</th>\n",
       "      <td>(321)</td>\n",
       "      <td>(284)</td>\n",
       "      <td>0.508197</td>\n",
       "      <td>0.463487</td>\n",
       "      <td>0.321908</td>\n",
       "      <td>0.633431</td>\n",
       "      <td>1.366663</td>\n",
       "      <td>0.086365</td>\n",
       "      <td>1.463607</td>\n",
       "    </tr>\n",
       "    <tr>\n",
       "      <th>9</th>\n",
       "      <td>(284)</td>\n",
       "      <td>(321)</td>\n",
       "      <td>0.463487</td>\n",
       "      <td>0.508197</td>\n",
       "      <td>0.321908</td>\n",
       "      <td>0.694534</td>\n",
       "      <td>1.366663</td>\n",
       "      <td>0.086365</td>\n",
       "      <td>1.610009</td>\n",
       "    </tr>\n",
       "    <tr>\n",
       "      <th>10</th>\n",
       "      <td>(284)</td>\n",
       "      <td>(525)</td>\n",
       "      <td>0.463487</td>\n",
       "      <td>0.453055</td>\n",
       "      <td>0.308495</td>\n",
       "      <td>0.665595</td>\n",
       "      <td>1.469125</td>\n",
       "      <td>0.098509</td>\n",
       "      <td>1.635575</td>\n",
       "    </tr>\n",
       "    <tr>\n",
       "      <th>11</th>\n",
       "      <td>(525)</td>\n",
       "      <td>(284)</td>\n",
       "      <td>0.453055</td>\n",
       "      <td>0.463487</td>\n",
       "      <td>0.308495</td>\n",
       "      <td>0.680921</td>\n",
       "      <td>1.469125</td>\n",
       "      <td>0.098509</td>\n",
       "      <td>1.681442</td>\n",
       "    </tr>\n",
       "    <tr>\n",
       "      <th>12</th>\n",
       "      <td>(321)</td>\n",
       "      <td>(427)</td>\n",
       "      <td>0.508197</td>\n",
       "      <td>0.408346</td>\n",
       "      <td>0.329359</td>\n",
       "      <td>0.648094</td>\n",
       "      <td>1.587120</td>\n",
       "      <td>0.121839</td>\n",
       "      <td>1.681284</td>\n",
       "    </tr>\n",
       "    <tr>\n",
       "      <th>13</th>\n",
       "      <td>(427)</td>\n",
       "      <td>(321)</td>\n",
       "      <td>0.408346</td>\n",
       "      <td>0.508197</td>\n",
       "      <td>0.329359</td>\n",
       "      <td>0.806569</td>\n",
       "      <td>1.587120</td>\n",
       "      <td>0.121839</td>\n",
       "      <td>2.542530</td>\n",
       "    </tr>\n",
       "    <tr>\n",
       "      <th>14</th>\n",
       "      <td>(321)</td>\n",
       "      <td>(525)</td>\n",
       "      <td>0.508197</td>\n",
       "      <td>0.453055</td>\n",
       "      <td>0.338301</td>\n",
       "      <td>0.665689</td>\n",
       "      <td>1.469334</td>\n",
       "      <td>0.108060</td>\n",
       "      <td>1.636037</td>\n",
       "    </tr>\n",
       "    <tr>\n",
       "      <th>15</th>\n",
       "      <td>(525)</td>\n",
       "      <td>(321)</td>\n",
       "      <td>0.453055</td>\n",
       "      <td>0.508197</td>\n",
       "      <td>0.338301</td>\n",
       "      <td>0.746711</td>\n",
       "      <td>1.469334</td>\n",
       "      <td>0.108060</td>\n",
       "      <td>1.941665</td>\n",
       "    </tr>\n",
       "  </tbody>\n",
       "</table>\n",
       "</div>"
      ],
      "text/plain": [
       "   antecedents consequents  antecedent support  consequent support   support  \\\n",
       "0        (232)       (953)            0.433681            0.348733  0.302534   \n",
       "1        (953)       (232)            0.348733            0.433681  0.302534   \n",
       "2        (266)       (284)            0.482861            0.463487  0.326379   \n",
       "3        (284)       (266)            0.463487            0.482861  0.326379   \n",
       "4        (321)       (266)            0.508197            0.482861  0.344262   \n",
       "5        (266)       (321)            0.482861            0.508197  0.344262   \n",
       "6        (266)       (525)            0.482861            0.453055  0.333830   \n",
       "7        (525)       (266)            0.453055            0.482861  0.333830   \n",
       "8        (321)       (284)            0.508197            0.463487  0.321908   \n",
       "9        (284)       (321)            0.463487            0.508197  0.321908   \n",
       "10       (284)       (525)            0.463487            0.453055  0.308495   \n",
       "11       (525)       (284)            0.453055            0.463487  0.308495   \n",
       "12       (321)       (427)            0.508197            0.408346  0.329359   \n",
       "13       (427)       (321)            0.408346            0.508197  0.329359   \n",
       "14       (321)       (525)            0.508197            0.453055  0.338301   \n",
       "15       (525)       (321)            0.453055            0.508197  0.338301   \n",
       "\n",
       "    confidence      lift  leverage  conviction  \n",
       "0     0.697595  2.000367  0.151295    2.153621  \n",
       "1     0.867521  2.000367  0.151295    4.274794  \n",
       "2     0.675926  1.458348  0.102578    1.655525  \n",
       "3     0.704180  1.458348  0.102578    1.748153  \n",
       "4     0.677419  1.402927  0.098874    1.603130  \n",
       "5     0.712963  1.402927  0.098874    1.713379  \n",
       "6     0.691358  1.525991  0.115067    1.772101  \n",
       "7     0.736842  1.525991  0.115067    1.965127  \n",
       "8     0.633431  1.366663  0.086365    1.463607  \n",
       "9     0.694534  1.366663  0.086365    1.610009  \n",
       "10    0.665595  1.469125  0.098509    1.635575  \n",
       "11    0.680921  1.469125  0.098509    1.681442  \n",
       "12    0.648094  1.587120  0.121839    1.681284  \n",
       "13    0.806569  1.587120  0.121839    2.542530  \n",
       "14    0.665689  1.469334  0.108060    1.636037  \n",
       "15    0.746711  1.469334  0.108060    1.941665  "
      ]
     },
     "execution_count": 20,
     "metadata": {},
     "output_type": "execute_result"
    }
   ],
   "source": [
    "def get_rules(R, min_support=.3, min_threshold=1.2):\n",
    "    itemsets = get_apriori_itemsets(R, min_support=0.3)\n",
    "    return association_rules(itemsets, metric=\"lift\", min_threshold=min_threshold)\n",
    "\n",
    "\n",
    "get_rules(R)"
   ]
  },
  {
   "cell_type": "markdown",
   "metadata": {},
   "source": [
    "Wrapping up: \n",
    "- Non personalized recommenders do not take into account specific users preferences or characteristics.\n",
    "- Non personalized recommenders approaches are the simpler way to do recommendation engines.\n",
    "- It's really important to know how to handle matrix sparsity as it will impact your workflow until the end.\n",
    "\n",
    "Now, we have the foundations to tackle more complex recommendation approaches.\n",
    "\n",
    "Time to practice!"
   ]
  }
 ],
 "metadata": {
  "kernelspec": {
   "display_name": "Python 3",
   "language": "python",
   "name": "python3"
  },
  "language_info": {
   "codemirror_mode": {
    "name": "ipython",
    "version": 3
   },
   "file_extension": ".py",
   "mimetype": "text/x-python",
   "name": "python",
   "nbconvert_exporter": "python",
   "pygments_lexer": "ipython3",
   "version": "3.6.9"
  }
 },
 "nbformat": 4,
 "nbformat_minor": 2
}
