{
 "cells": [
  {
   "cell_type": "markdown",
   "metadata": {},
   "source": [
    "# BLU10 - Learning Notebook - Appendix"
   ]
  },
  {
   "cell_type": "code",
   "execution_count": 1,
   "metadata": {},
   "outputs": [],
   "source": [
    "import numpy as np\n",
    "import pandas as pd\n",
    "import scipy as sp\n",
    "from scipy.sparse import random, coo_matrix, lil_matrix, dok_matrix, csr_matrix, csc_matrix\n",
    "from statistics import mean\n",
    "from math import nan, isnan"
   ]
  },
  {
   "cell_type": "markdown",
   "metadata": {},
   "source": [
    "# A More on Sparse Matrices\n",
    "\n",
    "\n",
    "## A.1 Implementation of sparse matrices in SciPy\n",
    "\n",
    "Let's explore how sparse matrices work and exemplify some implementations"
   ]
  },
  {
   "cell_type": "markdown",
   "metadata": {},
   "source": [
    "### A.1.1 Dictionary of Keys (DOK)\n",
    "\n",
    "The most straightforward implementation of a sparse matrix is as a dictionary of keys, in which the keys are tuples that represent indices.\n",
    "\n",
    "```\n",
    "┌───┬───┬───┐          \n",
    "│ 1 │ 0 │ 0 │          {  \n",
    "├───┼───┼───┤            (0, 0): 1,\n",
    "│ 0 │ 1 │ 0 │ → DoK →    (1, 1): 1,\n",
    "├───┼───┼───┤            (2, 2): 1,\n",
    "│ 0 │ 0 │ 1 │          }\n",
    "└───┴───┴───┘ \n",
    "```"
   ]
  },
  {
   "cell_type": "code",
   "execution_count": 2,
   "metadata": {},
   "outputs": [
    {
     "data": {
      "text/plain": [
       "array([[0.        , 0.        , 0.        , 0.        , 0.        ],\n",
       "       [0.        , 0.        , 0.        , 0.        , 0.        ],\n",
       "       [0.        , 0.        , 0.        , 0.        , 0.        ],\n",
       "       [0.        , 0.30424224, 0.        , 0.        , 0.        ],\n",
       "       [0.        , 0.        , 0.        , 0.        , 0.        ]])"
      ]
     },
     "execution_count": 2,
     "metadata": {},
     "output_type": "execute_result"
    }
   ],
   "source": [
    "B = random(5, 5, density=.04, format='dok', random_state=42)\n",
    "\n",
    "B.toarray()"
   ]
  },
  {
   "cell_type": "code",
   "execution_count": 3,
   "metadata": {},
   "outputs": [
    {
     "data": {
      "text/plain": [
       "{(3, 1): 0.3042422429595377}"
      ]
     },
     "execution_count": 3,
     "metadata": {},
     "output_type": "execute_result"
    }
   ],
   "source": [
    "dict(B)"
   ]
  },
  {
   "cell_type": "markdown",
   "metadata": {},
   "source": [
    "### A.1.2 Linked List (LIL)\n",
    "\n",
    "The row-based linked list format uses two NumPy arrays with regular Python lists inside them, one list per row.\n",
    "\n",
    "The first array stores the values in the cells ordered from the left-most column to the right-most one. (If there's no data, the row is an empty list.)\n",
    "\n",
    "The second stores which cells are occupied, i.e., the column index of the values.\n",
    "\n",
    "```\n",
    "┌───┬───┬───┐         Matrix data:    Matrix rows:          \n",
    "│ 1 │ 0 │ 1 │          [               [  \n",
    "├───┼───┼───┤            [1, 1],         [0, 2],\n",
    "│ 0 │ 0 │ 0 │ → LIL →    [],             [],\n",
    "├───┼───┼───┤            [1],            [2]\n",
    "│ 0 │ 0 │ 1 │          ]               ]\n",
    "└───┴───┴───┘ \n",
    "```"
   ]
  },
  {
   "cell_type": "code",
   "execution_count": 4,
   "metadata": {},
   "outputs": [
    {
     "data": {
      "text/plain": [
       "array([[0.        , 0.        , 0.        , 0.        , 0.        ],\n",
       "       [0.        , 0.        , 0.        , 0.97600332, 0.        ],\n",
       "       [0.        , 0.        , 0.        , 0.        , 0.        ],\n",
       "       [0.        , 0.        , 0.        , 0.        , 0.        ],\n",
       "       [0.        , 0.        , 0.        , 0.        , 0.        ]])"
      ]
     },
     "execution_count": 4,
     "metadata": {},
     "output_type": "execute_result"
    }
   ],
   "source": [
    "C = random(5, 5, density=.04, format='lil', random_state=45)\n",
    "\n",
    "C.toarray()"
   ]
  },
  {
   "cell_type": "code",
   "execution_count": 5,
   "metadata": {},
   "outputs": [
    {
     "data": {
      "text/plain": [
       "array([list([]), list([0.9760033158175416]), list([]), list([]), list([])],\n",
       "      dtype=object)"
      ]
     },
     "execution_count": 5,
     "metadata": {},
     "output_type": "execute_result"
    }
   ],
   "source": [
    "C.data"
   ]
  },
  {
   "cell_type": "code",
   "execution_count": 6,
   "metadata": {},
   "outputs": [
    {
     "data": {
      "text/plain": [
       "array([list([]), list([3]), list([]), list([]), list([])], dtype=object)"
      ]
     },
     "execution_count": 6,
     "metadata": {},
     "output_type": "execute_result"
    }
   ],
   "source": [
    "C.rows"
   ]
  },
  {
   "cell_type": "markdown",
   "metadata": {},
   "source": [
    "### A.1.3 Coordinate List (COO)\n",
    "\n",
    "A `COO` matrix uses three NumPy arrays, and for each occupied cell, there is a value in the three of them.\n",
    "\n",
    "Perhaps without surprise, the first stores the values, the second the row indexes and the third the column indexes.\n",
    "\n",
    "```\n",
    "┌───┬───┬───┐                   \n",
    "│ 1 │ 0 │ 1 │          Matrix data: [1, 1, 1] \n",
    "├───┼───┼───┤          \n",
    "│ 0 │ 0 │ 0 │ → COO →  Matrix rows: [0, 0, 2]\n",
    "├───┼───┼───┤          \n",
    "│ 0 │ 0 │ 1 │          Matrix cols: [0, 2, 2]\n",
    "└───┴───┴───┘ \n",
    "```"
   ]
  },
  {
   "cell_type": "code",
   "execution_count": 7,
   "metadata": {},
   "outputs": [
    {
     "data": {
      "text/plain": [
       "array([[0.        , 0.        , 0.        , 0.        , 0.        ],\n",
       "       [0.        , 0.        , 0.        , 0.        , 0.        ],\n",
       "       [0.        , 0.        , 0.        , 0.        , 0.        ],\n",
       "       [0.        , 0.        , 0.        , 0.        , 0.92627396],\n",
       "       [0.        , 0.        , 0.        , 0.        , 0.        ]])"
      ]
     },
     "execution_count": 7,
     "metadata": {},
     "output_type": "execute_result"
    }
   ],
   "source": [
    "D = random(5, 5, density=.04, format='coo', random_state=54)\n",
    "\n",
    "D.toarray()"
   ]
  },
  {
   "cell_type": "code",
   "execution_count": 8,
   "metadata": {},
   "outputs": [
    {
     "data": {
      "text/plain": [
       "array([0.92627396])"
      ]
     },
     "execution_count": 8,
     "metadata": {},
     "output_type": "execute_result"
    }
   ],
   "source": [
    "D.data"
   ]
  },
  {
   "cell_type": "code",
   "execution_count": 9,
   "metadata": {},
   "outputs": [
    {
     "data": {
      "text/plain": [
       "array([3])"
      ]
     },
     "execution_count": 9,
     "metadata": {},
     "output_type": "execute_result"
    }
   ],
   "source": [
    "D.row"
   ]
  },
  {
   "cell_type": "code",
   "execution_count": 10,
   "metadata": {},
   "outputs": [
    {
     "data": {
      "text/plain": [
       "array([4], dtype=int32)"
      ]
     },
     "execution_count": 10,
     "metadata": {},
     "output_type": "execute_result"
    }
   ],
   "source": [
    "D.col"
   ]
  },
  {
   "cell_type": "markdown",
   "metadata": {},
   "source": [
    "### A.1.4 Compressed Sparse (CS)\n",
    "\n",
    "The **Compressed Sparse Row (CSR)**, uses three arrays:\n",
    "* `data`, the value vector containing all non-zero values in [row-major order](https://en.wikipedia.org/wiki/Row-_and_column-major_order)\n",
    "* `indptr`, the index pointer indicates at which element of the value vector the row starts\n",
    "* `indices`, contains the column indices (which column each of the values come from).\n",
    "\n",
    "```\n",
    "┌───┬───┬───┐                   \n",
    "│ 1 │ 0 │ 1 │          Matrix data:    [1, 1, 1] \n",
    "├───┼───┼───┤          \n",
    "│ 0 │ 0 │ 0 │ → CSR →  Matrix indptr:  [0, 2, 2, 4]\n",
    "├───┼───┼───┤          \n",
    "│ 0 │ 0 │ 1 │          Matrix indices: [0, 2, 2]\n",
    "└───┴───┴───┘ \n",
    "```\n",
    "\n",
    "In fact, the index pointers tell us the starting and stopping indices `data[i, j]` for each row, above:\n",
    "* The first row is given by `data[0:2]`\n",
    "* The second row is given by `data[2:2]`\n",
    "* The third row is given by `data[2:4]`.\n",
    "\n",
    "For a better visualization, check the following CSR representation, which can be found [here](https://matteding.github.io/2019/04/25/sparse-matrices/):\n",
    "\n",
    "<img src=\"https://matteding.github.io/images/csr.gif\" width=\"500\"></img>\n",
    "\n",
    "The **Compressed Sparse Column (CSC)** format is similar, but the pointers refer to columns and the indices to the rows.\n",
    "\n",
    "When comparing the two types of Compressed Sparse matrices:\n",
    "* `CSR` provides efficient row slicing but slow column slicing, i.e., accessing and operating on row vectors\n",
    "* `CSC` provides efficient column slicing but slow row slicing, i.e., accessing and operating on column vectors.\n"
   ]
  },
  {
   "cell_type": "code",
   "execution_count": 11,
   "metadata": {},
   "outputs": [
    {
     "data": {
      "text/plain": [
       "array([[0.22027153, 0.        , 0.        , 0.16514066, 0.        ],\n",
       "       [0.        , 0.        , 0.73870729, 0.        , 0.        ],\n",
       "       [0.        , 0.        , 0.        , 0.        , 0.        ],\n",
       "       [0.92758757, 0.        , 0.        , 0.        , 0.        ],\n",
       "       [0.10069371, 0.        , 0.        , 0.        , 0.        ]])"
      ]
     },
     "execution_count": 11,
     "metadata": {},
     "output_type": "execute_result"
    }
   ],
   "source": [
    "E = random(5, 5, density=.2, format='csr', random_state=65)\n",
    "\n",
    "E.toarray()"
   ]
  },
  {
   "cell_type": "code",
   "execution_count": 12,
   "metadata": {},
   "outputs": [
    {
     "data": {
      "text/plain": [
       "array([0.22027153, 0.16514066, 0.73870729, 0.92758757, 0.10069371])"
      ]
     },
     "execution_count": 12,
     "metadata": {},
     "output_type": "execute_result"
    }
   ],
   "source": [
    "E.data"
   ]
  },
  {
   "cell_type": "code",
   "execution_count": 13,
   "metadata": {},
   "outputs": [
    {
     "data": {
      "text/plain": [
       "array([0, 2, 3, 3, 4, 5], dtype=int32)"
      ]
     },
     "execution_count": 13,
     "metadata": {},
     "output_type": "execute_result"
    }
   ],
   "source": [
    "E.indptr"
   ]
  },
  {
   "cell_type": "code",
   "execution_count": 14,
   "metadata": {
    "scrolled": true
   },
   "outputs": [
    {
     "data": {
      "text/plain": [
       "array([0, 3, 2, 0, 0], dtype=int32)"
      ]
     },
     "execution_count": 14,
     "metadata": {},
     "output_type": "execute_result"
    }
   ],
   "source": [
    "E.indices"
   ]
  },
  {
   "cell_type": "markdown",
   "metadata": {},
   "source": [
    "### A.1.5 Summary\n",
    "\n",
    "The main takeaways (aka the sparse matrices guide to happiness):\n",
    "\n",
    "* `DOK`, `LIL` and `COO` are all convenient formats to construct sparse matrices\n",
    "* `COO` is a fast format for constructing sparse matrices and is preferred to `DOK` and `LIL` for large matrices\n",
    "* On the other hand, `DOK` and `LIL` deal efficiently with changes to the sparsity structure, suited for incremental construction\n",
    "* Once we construct the matrix, we convert it to `CSR` or `CSC` fast operations, the most used for write-once-read-many tasks.\n",
    "\n",
    "| Sparse Matrix Type       | Street Name | Good                                                                                       | Bad                                                                   |\n",
    "|--------------------------|-------------|--------------------------------------------------------------------------------------------|-----------------------------------------------------------------------|\n",
    "| Dictionary of Keys (DOK) | DOK         | Fast incremental construction; Flexible structure; Efficient access to individual elements | Slow iteration; Slow arithmetics; Slow slicing                        |\n",
    "| List of Lists (LIL)      | LIL         | Fast incremental construction; Flexible structure                                          | Slow arithmetics; Slow column slicing; Slow matrix-vector products    |\n",
    "| Coordinate List (COO)    | COO         | Fast conversion to other sparse formats; Permits duplicate entries                         | Doesn't support arithmetic operations; Doesn't support slicing        |\n",
    "| Compressed Sparse (CS)   | CSR/CSC     | Changes to sparsity structure are expensive                                                | Efficient arithmetics; Efficient slicing; Fast matrix-vector products |\n",
    "\n",
    "*Table 1: Comparison of the main sparse matrix types in SciPy.*\n"
   ]
  },
  {
   "cell_type": "markdown",
   "metadata": {},
   "source": [
    "## A.2 Creating Sparse Matrices\n",
    "\n",
    "Back to our rating matrix $R$ from the previous unit, as:\n",
    "\n",
    "```\n",
    "    ┌───┬───┬───┐                   \n",
    "    │ 1 │   │ 2 │\n",
    "    ├───┼───┼───┤          \n",
    "R = │ 1 │ 5 │   │\n",
    "    ├───┼───┼───┤          \n",
    "    │   │ 2 │ 1 │\n",
    "    └───┴───┴───┘ \n",
    "```\n",
    "\n",
    "In this section, we build sparse representations of $R$.\n",
    "\n",
    "We start from our standard array."
   ]
  },
  {
   "cell_type": "code",
   "execution_count": 15,
   "metadata": {},
   "outputs": [
    {
     "data": {
      "text/plain": [
       "array([[1, 0, 2],\n",
       "       [1, 5, 0],\n",
       "       [0, 2, 1]])"
      ]
     },
     "execution_count": 15,
     "metadata": {},
     "output_type": "execute_result"
    }
   ],
   "source": [
    "data = np.array([1, 0, 2, 1, 5, 0, 0, 2, 1]).reshape(3, 3)\n",
    "data"
   ]
  },
  {
   "cell_type": "markdown",
   "metadata": {},
   "source": [
    "### A.2.1 DOK and LIL\n",
    "\n",
    "The use-case for both `DOK` and `LIL` is incremental construction."
   ]
  },
  {
   "cell_type": "code",
   "execution_count": 16,
   "metadata": {},
   "outputs": [
    {
     "data": {
      "text/plain": [
       "array([[1., 0., 2.],\n",
       "       [1., 5., 0.],\n",
       "       [0., 2., 1.]])"
      ]
     },
     "execution_count": 16,
     "metadata": {},
     "output_type": "execute_result"
    }
   ],
   "source": [
    "F = dok_matrix((3, 3))\n",
    "\n",
    "for i in range(3):\n",
    "    for j in range(3):\n",
    "        F[i, j] = data[i, j]\n",
    "\n",
    "F.toarray()"
   ]
  },
  {
   "cell_type": "code",
   "execution_count": 17,
   "metadata": {},
   "outputs": [
    {
     "data": {
      "text/plain": [
       "array([[1., 0., 2.],\n",
       "       [1., 5., 0.],\n",
       "       [0., 2., 1.]])"
      ]
     },
     "execution_count": 17,
     "metadata": {},
     "output_type": "execute_result"
    }
   ],
   "source": [
    "G = lil_matrix((3, 3))\n",
    "\n",
    "G[data.nonzero()] = data[data.nonzero()]\n",
    "\n",
    "G.toarray()"
   ]
  },
  {
   "cell_type": "markdown",
   "metadata": {},
   "source": [
    "### A.2.2 COO\n",
    "\n",
    "However, the most common way to create sparse matrices (and the one we will be using) is the `COO`."
   ]
  },
  {
   "cell_type": "code",
   "execution_count": 18,
   "metadata": {},
   "outputs": [
    {
     "data": {
      "text/plain": [
       "array([[1, 0, 2],\n",
       "       [1, 5, 0],\n",
       "       [0, 2, 1]])"
      ]
     },
     "execution_count": 18,
     "metadata": {},
     "output_type": "execute_result"
    }
   ],
   "source": [
    "data  = np.array([1, 2, 1, 5, 2, 1])\n",
    "\n",
    "col = np.array([0, 2, 0, 1, 1, 2])\n",
    "row = np.array([0, 0, 1, 1, 2, 2])\n",
    "\n",
    "H = coo_matrix((data, (row, col)), shape=(3, 3))\n",
    "H.toarray()"
   ]
  },
  {
   "cell_type": "markdown",
   "metadata": {},
   "source": [
    "### A.2.3 Compressed Sparse\n",
    "\n",
    "Numpy matrices can easily be converted to the `CSR` format, so that we can efficiently operate on them."
   ]
  },
  {
   "cell_type": "code",
   "execution_count": 19,
   "metadata": {},
   "outputs": [
    {
     "data": {
      "text/plain": [
       "<3x3 sparse matrix of type '<class 'numpy.int32'>'\n",
       "\twith 6 stored elements in Compressed Sparse Row format>"
      ]
     },
     "execution_count": 19,
     "metadata": {},
     "output_type": "execute_result"
    }
   ],
   "source": [
    "# Redefining our first array\n",
    "data = np.array([1, 0, 2, 1, 5, 0, 0, 2, 1]).reshape(3, 3)\n",
    "\n",
    "H_ = csr_matrix(data)\n",
    "H_"
   ]
  },
  {
   "cell_type": "code",
   "execution_count": 20,
   "metadata": {},
   "outputs": [
    {
     "data": {
      "text/plain": [
       "array([1, 2, 1, 5, 2, 1], dtype=int32)"
      ]
     },
     "execution_count": 20,
     "metadata": {},
     "output_type": "execute_result"
    }
   ],
   "source": [
    "H_.data"
   ]
  },
  {
   "cell_type": "code",
   "execution_count": 21,
   "metadata": {},
   "outputs": [
    {
     "data": {
      "text/plain": [
       "array([0, 2, 4, 6], dtype=int32)"
      ]
     },
     "execution_count": 21,
     "metadata": {},
     "output_type": "execute_result"
    }
   ],
   "source": [
    "H_.indptr"
   ]
  },
  {
   "cell_type": "code",
   "execution_count": 22,
   "metadata": {},
   "outputs": [
    {
     "data": {
      "text/plain": [
       "array([0, 2, 0, 1, 1, 2], dtype=int32)"
      ]
     },
     "execution_count": 22,
     "metadata": {},
     "output_type": "execute_result"
    }
   ],
   "source": [
    "H_.indices"
   ]
  },
  {
   "cell_type": "markdown",
   "metadata": {},
   "source": [
    "The process is exactly the same to convert to `CSC`."
   ]
  },
  {
   "cell_type": "code",
   "execution_count": 23,
   "metadata": {
    "scrolled": true
   },
   "outputs": [
    {
     "data": {
      "text/plain": [
       "<3x3 sparse matrix of type '<class 'numpy.int32'>'\n",
       "\twith 6 stored elements in Compressed Sparse Column format>"
      ]
     },
     "execution_count": 23,
     "metadata": {},
     "output_type": "execute_result"
    }
   ],
   "source": [
    "H_ = csc_matrix(data)\n",
    "H_"
   ]
  },
  {
   "cell_type": "markdown",
   "metadata": {},
   "source": [
    "Note that, if you already have a sparse matrix in COO format, it can easily be converted to CSR and CSC."
   ]
  },
  {
   "cell_type": "code",
   "execution_count": 24,
   "metadata": {},
   "outputs": [
    {
     "data": {
      "text/plain": [
       "<3x3 sparse matrix of type '<class 'numpy.int32'>'\n",
       "\twith 6 stored elements in Compressed Sparse Row format>"
      ]
     },
     "execution_count": 24,
     "metadata": {},
     "output_type": "execute_result"
    }
   ],
   "source": [
    "H.tocsr()"
   ]
  },
  {
   "cell_type": "code",
   "execution_count": 25,
   "metadata": {},
   "outputs": [
    {
     "data": {
      "text/plain": [
       "<3x3 sparse matrix of type '<class 'numpy.int32'>'\n",
       "\twith 6 stored elements in Compressed Sparse Column format>"
      ]
     },
     "execution_count": 25,
     "metadata": {},
     "output_type": "execute_result"
    }
   ],
   "source": [
    "H.tocsc()"
   ]
  },
  {
   "cell_type": "markdown",
   "metadata": {},
   "source": [
    "# B. Vectorization\n",
    "\n",
    "Python is a high-level language, valuing convenience more than more control over program execution and, ultimately, performance.\n",
    "\n",
    "Now, as we've seen, recommender systems deal with large amounts of data, thus emphasizing execution and performance.\n",
    "\n",
    "NumPy (and Pandas, done right) allows us to have both convenience and performance, using *vectorization*. Curious?\n",
    "\n",
    "Remember the rating matrix $R$, from the previous notebook:\n",
    "\n",
    "$$\\begin{bmatrix}1 &  & 2\\\\ 1 & 5 & \\\\  & 2 & 1\\end{bmatrix}$$\n",
    "\n",
    "Let's start by representing it as a list of lists."
   ]
  },
  {
   "cell_type": "code",
   "execution_count": 26,
   "metadata": {},
   "outputs": [
    {
     "data": {
      "text/plain": [
       "[[1, nan, 2], [1, 5, nan], [nan, 2, 1]]"
      ]
     },
     "execution_count": 26,
     "metadata": {},
     "output_type": "execute_result"
    }
   ],
   "source": [
    "R = [[1, nan, 2], [1, 5, nan], [nan, 2, 1]]\n",
    "R"
   ]
  },
  {
   "cell_type": "markdown",
   "metadata": {},
   "source": [
    "Now, we want to compute the mean rating per user."
   ]
  },
  {
   "cell_type": "code",
   "execution_count": 27,
   "metadata": {},
   "outputs": [
    {
     "data": {
      "text/plain": [
       "[1.5, 3, 1.5]"
      ]
     },
     "execution_count": 27,
     "metadata": {},
     "output_type": "execute_result"
    }
   ],
   "source": [
    "def mean_user_ratings(R):\n",
    "    return [mean([r for r in u if not isnan(r)]) for u in R]\n",
    "\n",
    "\n",
    "mean_user_ratings(R)"
   ]
  },
  {
   "cell_type": "markdown",
   "metadata": {},
   "source": [
    "In this implementation, Python iterates over the 3 rows, plus 3 elements per row, for a total of 9 cycles.\n",
    "\n",
    "Vectorization, on the other hand, uses Single Instruction Multiple Data ([SIMD](https://en.wikipedia.org/wiki/SIMD), in short) available in most modern CPUs, to:\n",
    "* Perform an operation\n",
    "* On multiple data points\n",
    "* Simultaneously (i.e., in single a cycle).\n",
    "\n",
    "Vectorization implements what is known as data parallelism, by applying the same transformation to multiple data in parallel.\n",
    "\n",
    "Again, Python gives us no control over how a program gets executed, to exploit SIMD directly.\n",
    "\n",
    "The good news is that NumPy implements vectorization for us.\n",
    "\n",
    "Features such as array methods and universal functions are used to vectorize operations and remove `for` loops."
   ]
  },
  {
   "cell_type": "markdown",
   "metadata": {},
   "source": [
    "## B.1 Loading the matrix"
   ]
  },
  {
   "cell_type": "markdown",
   "metadata": {},
   "source": [
    "Since most times we deal with plain text data, we will use `genfromtxt` to load data from `ratings_matrix.csv`."
   ]
  },
  {
   "cell_type": "code",
   "execution_count": 28,
   "metadata": {},
   "outputs": [
    {
     "data": {
      "text/plain": [
       "array([[ 1., nan,  2.],\n",
       "       [ 1.,  5., nan],\n",
       "       [nan,  2.,  1.]])"
      ]
     },
     "execution_count": 28,
     "metadata": {},
     "output_type": "execute_result"
    }
   ],
   "source": [
    "R_ = np.genfromtxt('data/interim/ratings_matrix.csv',  delimiter=',')\n",
    "R_"
   ]
  },
  {
   "cell_type": "markdown",
   "metadata": {},
   "source": [
    "Just to make sure, let's print of the attributes of the array."
   ]
  },
  {
   "cell_type": "code",
   "execution_count": 29,
   "metadata": {},
   "outputs": [
    {
     "name": "stdout",
     "output_type": "stream",
     "text": [
      "R_ is a 2-dimensional, 3 by 3 matrix, of float64 elements.\n"
     ]
    }
   ],
   "source": [
    "ndims = R_.ndim\n",
    "nrows = R_.shape[0]\n",
    "ncols = R_.shape[0] \n",
    "dtype = R_.dtype\n",
    "\n",
    "print(\"R_ is a {}-dimensional, {} by {} matrix, of {} elements.\".format(ndims, nrows, ncols, dtype))"
   ]
  },
  {
   "cell_type": "markdown",
   "metadata": {},
   "source": [
    "## B.2 Indexing"
   ]
  },
  {
   "cell_type": "markdown",
   "metadata": {},
   "source": [
    "### B.2.1 User vectors\n",
    "\n",
    "Sometimes, we want to select vectors of user ratings, such as $R_u = \\begin{bmatrix}r_{u, i_1} & ... & r_{u, i_n}\\end{bmatrix}$.\n",
    "\n",
    "Using the square brackets notation and the row index, we do:\n",
    "\n",
    "```\n",
    "    ┌───┬───┬───┐   \n",
    "    │ 1 │   │ 2 │ \n",
    "    ┏━━━┳━━━┳━━━┓          ┏━━━┳━━━┳━━━┓\n",
    "R = ┃ 1 ┃ 5 ┃   ┃ → R[1] = ┃ 1 ┃ 5 ┃   ┃\n",
    "    ┗━━━┻━━━┻━━━┛          ┗━━━┻━━━┻━━━┛\n",
    "    │   │ 2 │ 1 │          (view, shape=(3,))\n",
    "    └───┴───┴───┘\n",
    "```"
   ]
  },
  {
   "cell_type": "code",
   "execution_count": 30,
   "metadata": {},
   "outputs": [
    {
     "data": {
      "text/plain": [
       "array([ 1.,  5., nan])"
      ]
     },
     "execution_count": 30,
     "metadata": {},
     "output_type": "execute_result"
    }
   ],
   "source": [
    "R_[1]"
   ]
  },
  {
   "cell_type": "markdown",
   "metadata": {},
   "source": [
    "This returns a *view* of the original array, meaning that modifying it modifies the base array.\n",
    "\n",
    "We can check whether or not the resulting array is a view using the attribute `ndarray.base`."
   ]
  },
  {
   "cell_type": "code",
   "execution_count": 31,
   "metadata": {},
   "outputs": [
    {
     "data": {
      "text/plain": [
       "True"
      ]
     },
     "execution_count": 31,
     "metadata": {},
     "output_type": "execute_result"
    }
   ],
   "source": [
    "R_[1].base is R_"
   ]
  },
  {
   "cell_type": "markdown",
   "metadata": {},
   "source": [
    "However, regular indexing will return a rank-1 array, i.e. 1-dimensional, which in many cases is not desirable."
   ]
  },
  {
   "cell_type": "code",
   "execution_count": 32,
   "metadata": {},
   "outputs": [
    {
     "data": {
      "text/plain": [
       "(3,)"
      ]
     },
     "execution_count": 32,
     "metadata": {},
     "output_type": "execute_result"
    }
   ],
   "source": [
    "R_[1].shape"
   ]
  },
  {
   "cell_type": "markdown",
   "metadata": {},
   "source": [
    "If we want to return a *copy* instead of a view of original array, we need to use advanced indexing.\n",
    "\n",
    "```\n",
    "    ┌───┬───┬───┐   \n",
    "    │ 1 │   │ 2 │ \n",
    "    ┏━━━┳━━━┳━━━┓            ┏━━━┳━━━┳━━━┓\n",
    "R = ┃ 1 ┃ 5 ┃   ┃ → R[[1]] = ┃ 1 ┃ 5 ┃   ┃\n",
    "    ┗━━━┻━━━┻━━━┛            ┗━━━┻━━━┻━━━┛\n",
    "    │   │ 2 │ 1 │            (copy, shape=(1, 3))\n",
    "    └───┴───┴───┘\n",
    "```"
   ]
  },
  {
   "cell_type": "code",
   "execution_count": 33,
   "metadata": {},
   "outputs": [
    {
     "data": {
      "text/plain": [
       "array([[ 1.,  5., nan]])"
      ]
     },
     "execution_count": 33,
     "metadata": {},
     "output_type": "execute_result"
    }
   ],
   "source": [
    "R_[[1]]"
   ]
  },
  {
   "cell_type": "code",
   "execution_count": 34,
   "metadata": {},
   "outputs": [
    {
     "data": {
      "text/plain": [
       "False"
      ]
     },
     "execution_count": 34,
     "metadata": {},
     "output_type": "execute_result"
    }
   ],
   "source": [
    "R_[[1]].base is R_"
   ]
  },
  {
   "cell_type": "markdown",
   "metadata": {},
   "source": [
    "Do you see any other difference?"
   ]
  },
  {
   "cell_type": "code",
   "execution_count": 35,
   "metadata": {},
   "outputs": [
    {
     "data": {
      "text/plain": [
       "(1, 3)"
      ]
     },
     "execution_count": 35,
     "metadata": {},
     "output_type": "execute_result"
    }
   ],
   "source": [
    "R_[[1]].shape"
   ]
  },
  {
   "cell_type": "markdown",
   "metadata": {},
   "source": [
    "Unless you explicitly want to change the array, advanced indexing is recommended."
   ]
  },
  {
   "cell_type": "markdown",
   "metadata": {},
   "source": [
    "### B.2.2 Item vectors\n",
    "\n",
    "We use square brackets with comma separated wildcard and column index.\n",
    "\n",
    "```\n",
    "    ┌───┬───┏━━━┓             ┏━━━┓\n",
    "    │ 1 │   ┃ 2 ┃             ┃ 2 ┃\n",
    "    ├───┼───┣━━━┫             ┣━━━┫\n",
    "R = │ 1 │ 5 ┃   ┃ → R[:, 2] = ┃   ┃ (view, shape=(3,))\n",
    "    ├───┼───┣━━━┫             ┣━━━┫\n",
    "    │   │ 2 ┃ 1 ┃             ┃ 1 ┃\n",
    "    └───┴───┗━━━┛             ┗━━━┛\n",
    "```"
   ]
  },
  {
   "cell_type": "code",
   "execution_count": 36,
   "metadata": {},
   "outputs": [
    {
     "data": {
      "text/plain": [
       "array([ 2., nan,  1.])"
      ]
     },
     "execution_count": 36,
     "metadata": {},
     "output_type": "execute_result"
    }
   ],
   "source": [
    "R_[:, 2]"
   ]
  },
  {
   "cell_type": "code",
   "execution_count": 37,
   "metadata": {},
   "outputs": [
    {
     "data": {
      "text/plain": [
       "True"
      ]
     },
     "execution_count": 37,
     "metadata": {},
     "output_type": "execute_result"
    }
   ],
   "source": [
    "R_[:, 0].base is R_"
   ]
  },
  {
   "cell_type": "code",
   "execution_count": 38,
   "metadata": {},
   "outputs": [
    {
     "data": {
      "text/plain": [
       "(3,)"
      ]
     },
     "execution_count": 38,
     "metadata": {},
     "output_type": "execute_result"
    }
   ],
   "source": [
    "R_[:, 0].shape"
   ]
  },
  {
   "cell_type": "markdown",
   "metadata": {},
   "source": [
    "Again, we should use fancy indexing:\n",
    "\n",
    "```\n",
    "    ┌───┬───┏━━━┓               ┏━━━┓\n",
    "    │ 1 │   ┃ 2 ┃               ┃ 2 ┃\n",
    "    ├───┼───┣━━━┫               ┣━━━┫\n",
    "R = │ 1 │ 5 ┃   ┃ → R[:, [2]] = ┃   ┃ (copy, shape=(3, 1))\n",
    "    ├───┼───┣━━━┫               ┣━━━┫\n",
    "    │   │ 2 ┃ 1 ┃               ┃ 1 ┃\n",
    "    └───┴───┗━━━┛               ┗━━━┛\n",
    "```"
   ]
  },
  {
   "cell_type": "code",
   "execution_count": 39,
   "metadata": {},
   "outputs": [
    {
     "data": {
      "text/plain": [
       "array([[ 2.],\n",
       "       [nan],\n",
       "       [ 1.]])"
      ]
     },
     "execution_count": 39,
     "metadata": {},
     "output_type": "execute_result"
    }
   ],
   "source": [
    "R_[:, [2]]"
   ]
  },
  {
   "cell_type": "code",
   "execution_count": 40,
   "metadata": {},
   "outputs": [
    {
     "data": {
      "text/plain": [
       "False"
      ]
     },
     "execution_count": 40,
     "metadata": {},
     "output_type": "execute_result"
    }
   ],
   "source": [
    "R_[:, [2]].base is R_"
   ]
  },
  {
   "cell_type": "code",
   "execution_count": 41,
   "metadata": {},
   "outputs": [
    {
     "data": {
      "text/plain": [
       "(3, 1)"
      ]
     },
     "execution_count": 41,
     "metadata": {},
     "output_type": "execute_result"
    }
   ],
   "source": [
    "R_[:, [2]].shape"
   ]
  },
  {
   "cell_type": "markdown",
   "metadata": {},
   "source": [
    "### B.2.3 Ratings\n",
    "\n",
    "To select individual elements of our ratings matrix, we combine the notations above, so that:\n",
    "\n",
    "```\n",
    "    ┏━━━┓───┬───┐             ┏━━━┓\n",
    "    ┃ 1 ┃   │ 2 │ → R[0, 0] = ┃ 1 ┃ (scalar)\n",
    "    ┗━━━┛───┼───┤             ┗━━━┛\n",
    "R = │ 1 │ 5 │   │  \n",
    "    ├───┼───┼───┤\n",
    "    │   │ 2 │ 1 │\n",
    "    └───┴───┴───┘\n",
    "```"
   ]
  },
  {
   "cell_type": "code",
   "execution_count": 42,
   "metadata": {},
   "outputs": [
    {
     "data": {
      "text/plain": [
       "1.0"
      ]
     },
     "execution_count": 42,
     "metadata": {},
     "output_type": "execute_result"
    }
   ],
   "source": [
    "R_[0, 0]"
   ]
  },
  {
   "cell_type": "markdown",
   "metadata": {},
   "source": [
    "### B.2.4 Boolean masks\n",
    "\n",
    "We use boolean arrays to select specific locations according to a condition.\n",
    "\n",
    "A boolean mask is an array of boolean values.\n",
    "\n",
    "```\n",
    "                  ┌───┬───┬───┐\n",
    "                  │ 0 │ 1 │ 0 │\n",
    "                  ├───┼───┼───┤                    \n",
    "M = np.isnan(R) = │ 0 │ 0 │ 1 │ \n",
    "                  ├───┼───┼───┤                             \n",
    "                  │ 1 │ 0 │ 0 │                   \n",
    "                  └───┴───┴───┘  \n",
    "```\n",
    "That can be used\n",
    "\n",
    "```\n",
    "    ┌───┬───┬───┐\n",
    "    │ 1 │   │ 2 │\n",
    "    ├───┼───┼───┤          ┌───┬───┬───┐\n",
    "R = │ 1 │ 5 │   │ → R[M] = │   │   │   │\n",
    "    ├───┼───┼───┤          └───┴───┴───┘       \n",
    "    │   │ 2 │ 1 │                   \n",
    "    └───┴───┴───┘                   \n",
    "```"
   ]
  },
  {
   "cell_type": "code",
   "execution_count": 43,
   "metadata": {},
   "outputs": [
    {
     "data": {
      "text/plain": [
       "array([[False,  True, False],\n",
       "       [False, False,  True],\n",
       "       [ True, False, False]])"
      ]
     },
     "execution_count": 43,
     "metadata": {},
     "output_type": "execute_result"
    }
   ],
   "source": [
    "M = np.isnan(R_)\n",
    "M"
   ]
  },
  {
   "cell_type": "code",
   "execution_count": 44,
   "metadata": {},
   "outputs": [
    {
     "data": {
      "text/plain": [
       "array([nan, nan, nan])"
      ]
     },
     "execution_count": 44,
     "metadata": {},
     "output_type": "execute_result"
    }
   ],
   "source": [
    "R_[M]"
   ]
  },
  {
   "cell_type": "markdown",
   "metadata": {},
   "source": [
    "### B.2.5 Reshufling vectors\n",
    "\n",
    "We use these indexing techniques to change the order of the elements of an array.\n",
    "\n",
    "```\n",
    "    ┏━━━┓                  ┏━━━┓\n",
    "    ┃ 0 ┃                  ┃ 1 ┃\n",
    "    ┣━━━┫                  ┣━━━┫\n",
    "v = ┃ 1 ┃ → v[[1, 2, 0]] = ┃ 2 ┃\n",
    "    ┣━━━┫                  ┣━━━┫\n",
    "    ┃ 2 ┃                  ┃ 0 ┃\n",
    "    ┗━━━┛                  ┗━━━┛\n",
    "```\n",
    "\n",
    "Consider the array `v`. representing a column vector."
   ]
  },
  {
   "cell_type": "code",
   "execution_count": 45,
   "metadata": {},
   "outputs": [
    {
     "data": {
      "text/plain": [
       "array([[0],\n",
       "       [1],\n",
       "       [2]])"
      ]
     },
     "execution_count": 45,
     "metadata": {},
     "output_type": "execute_result"
    }
   ],
   "source": [
    "v = np.array([[0], [1], [2]])\n",
    "v"
   ]
  },
  {
   "cell_type": "markdown",
   "metadata": {},
   "source": [
    "We pass an array of indexes to change positions, in a vectorized way."
   ]
  },
  {
   "cell_type": "code",
   "execution_count": 46,
   "metadata": {},
   "outputs": [
    {
     "data": {
      "text/plain": [
       "array([[1],\n",
       "       [2],\n",
       "       [0]])"
      ]
     },
     "execution_count": 46,
     "metadata": {},
     "output_type": "execute_result"
    }
   ],
   "source": [
    "v[[1, 2, 0]]"
   ]
  },
  {
   "cell_type": "markdown",
   "metadata": {},
   "source": [
    "## B.3 Array methods\n",
    "\n",
    "If you have done the Prep Course, do you remember numpy array methods? They are pretty handy when dealing with Recommender Systems and Rating Matrixes in general so the following session will mostly be a refresher on these concepts if they are not on your top of mind.\n",
    "\n",
    "NumPy arrays have many methods ([docs](https://docs.scipy.org/doc/numpy-1.13.0/reference/arrays.ndarray.html)), which operate on or with the array and typically return a new array.\n",
    "\n",
    "Such methods can be grouped according to their purpose:\n",
    "* Array conversion\n",
    "* Shape manipulation\n",
    "* Item selection and manipulation\n",
    "* Calculation.\n",
    "\n",
    "Some common operations we can perform along either axis of a `ndarray` are:\n",
    "* [argmin](https://docs.scipy.org/doc/numpy/reference/generated/numpy.ndarray.argmin.html)\n",
    "* [min](https://docs.scipy.org/doc/numpy/reference/generated/numpy.ndarray.min.html)\n",
    "* [max](https://docs.scipy.org/doc/numpy/reference/generated/numpy.ndarray.max.html)\n",
    "* [round](https://docs.scipy.org/doc/numpy/reference/generated/numpy.ndarray.round.html)\n",
    "* [sum](https://docs.scipy.org/doc/numpy/reference/generated/numpy.ndarray.sum.html)\n",
    "* [cumsum](https://docs.scipy.org/doc/numpy/reference/generated/numpy.ndarray.cumsum.html)\n",
    "* [mean](https://docs.scipy.org/doc/numpy/reference/generated/numpy.ndarray.mean.html)\n",
    "* [var](https://docs.scipy.org/doc/numpy/reference/generated/numpy.ndarray.var.html)\n",
    "* [std](https://docs.scipy.org/doc/numpy/reference/generated/numpy.ndarray.std.html)\n",
    "* [prod](https://docs.scipy.org/doc/numpy/reference/generated/numpy.ndarray.prod.html)\n",
    "* [cumprod](https://docs.scipy.org/doc/numpy/reference/generated/numpy.ndarray.cumprod.html)\n",
    "* [all](https://docs.scipy.org/doc/numpy/reference/generated/numpy.ndarray.all.html)\n",
    "* [any](https://docs.scipy.org/doc/numpy/reference/generated/numpy.ndarray.any.html).\n",
    "\n",
    "We will illustrate a few methods, particularly relevant to our course.\n",
    "\n",
    "### B.3.1 Reshaping\n",
    "\n",
    "We can change the shape of the array using `ndarray.reshape`, given the new shape is compatible with the original one.\n",
    "\n",
    "```\n",
    "    ┌───┬───┬───┐\n",
    "    │ 1 │   │ 2 │\n",
    "    ├───┼───┼───┤                     ┌───┬───┬───┬───┬───┬───┬───┬───┬───┐\n",
    "R = │ 1 │ 5 │   │ → R.reshape(1, 9) = │ 1 │   │ 2 │ 1 │ 5 │   │   │ 2 │ 1 │\n",
    "    ├───┼───┼───┤                     └───┴───┴───┴───┴───┴───┴───┴───┴───┘            \n",
    "    │   │ 2 │ 1 │                   \n",
    "    └───┴───┴───┘                   \n",
    "```\n",
    "\n",
    "We use `reshape` throughout the code to enforce a given shape."
   ]
  },
  {
   "cell_type": "code",
   "execution_count": 47,
   "metadata": {},
   "outputs": [
    {
     "data": {
      "text/plain": [
       "array([[ 1., nan,  2.,  1.,  5., nan, nan,  2.,  1.]])"
      ]
     },
     "execution_count": 47,
     "metadata": {},
     "output_type": "execute_result"
    }
   ],
   "source": [
    "R_.reshape(1, 9)"
   ]
  },
  {
   "cell_type": "markdown",
   "metadata": {},
   "source": [
    "### B.3.2 Transposing\n",
    "\n",
    "Other useful operation is transposing a matrix as in linear algebra.\n",
    "\n",
    "```\n",
    "    ┌───┬───┬───┐                   ┌───┬───┬───┐\n",
    "    │ 1 │   │ 2 │                   │ 1 │ 1 │   │\n",
    "    ├───┼───┼───┤                   ├───┼───┼───┤\n",
    "R = │ 1 │ 5 │   │ → R.transpose() = │   │ 5 │ 2 │\n",
    "    ├───┼───┼───┤                   ├───┼───┼───┤                    \n",
    "    │   │ 2 │ 1 │                   │ 2 │   │ 1 │\n",
    "    └───┴───┴───┘                   └───┴───┴───┘\n",
    "```"
   ]
  },
  {
   "cell_type": "code",
   "execution_count": 48,
   "metadata": {},
   "outputs": [
    {
     "data": {
      "text/plain": [
       "array([[ 1.,  1., nan],\n",
       "       [nan,  5.,  2.],\n",
       "       [ 2., nan,  1.]])"
      ]
     },
     "execution_count": 48,
     "metadata": {},
     "output_type": "execute_result"
    }
   ],
   "source": [
    "R_.transpose()"
   ]
  },
  {
   "cell_type": "markdown",
   "metadata": {},
   "source": [
    "### B.3.3 Argmax\n",
    "\n",
    "Returns the indices of the maximum values along an axis (0 for columns, 1 for rows).\n",
    "\n",
    "\n",
    "```\n",
    "    ┌───┬───┬───┐\n",
    "    │ 1 │   │ 2 │\n",
    "    ├───┼───┼───┤                             ┌───┬───┬───┐\n",
    "R = │ 1 │ 5 │   │ → np.nanargmax(R, axis=1) = │ 2 │ 1 │ 1 │\n",
    "    ├───┼───┼───┤                             └───┴───┴───┘            \n",
    "    │   │ 2 │ 1 │                   \n",
    "    └───┴───┴───┘                   \n",
    "```\n",
    "\n",
    "There is, however, a problem: `argmax` returns `np.NaN` values as maximum values."
   ]
  },
  {
   "cell_type": "code",
   "execution_count": 49,
   "metadata": {},
   "outputs": [
    {
     "data": {
      "text/plain": [
       "array([1, 2, 0], dtype=int64)"
      ]
     },
     "execution_count": 49,
     "metadata": {},
     "output_type": "execute_result"
    }
   ],
   "source": [
    "R_.argmax(axis=1)"
   ]
  },
  {
   "cell_type": "markdown",
   "metadata": {},
   "source": [
    "Fortunately, NumPy provides a `nanargmax` method to deal with such cases."
   ]
  },
  {
   "cell_type": "code",
   "execution_count": 50,
   "metadata": {},
   "outputs": [
    {
     "data": {
      "text/plain": [
       "array([2, 1, 1], dtype=int64)"
      ]
     },
     "execution_count": 50,
     "metadata": {},
     "output_type": "execute_result"
    }
   ],
   "source": [
    "np.nanargmax(R_, axis=1)"
   ]
  },
  {
   "cell_type": "markdown",
   "metadata": {},
   "source": [
    "### B.3.4 Argsort\n",
    "\n",
    "Returns the indices that would sort an array along an axis.\n",
    "\n",
    "Unfortunately, NumPy doesn't provide (to our knowledge) a method for missing values.\n",
    "\n",
    "Also, `argsort` doesn't provide descending order. So we have to improvise!\n",
    "\n",
    "```\n",
    "    ┌───┬───┬───┐                        ┌───┬───┬───┐\n",
    "    │ 1 │   │ 2 │                        │ 1 │ 0 │ 2 │\n",
    "    ├───┼───┼───┤                        ├───┼───┼───┤\n",
    "R = │ 1 │ 5 │   │ → R[np.isnan(R)] = 0 → │ 1 │ 5 │ 0 │\n",
    "    ├───┼───┼───┤                        ├───┼───┼───┤            \n",
    "    │   │ 2 │ 1 │                        │ 0 │ 2 │ 1 │\n",
    "    └───┴───┴───┘                        └───┴───┴───┘ \n",
    "    \n",
    "    ┌───┬───┬───┐                        ┌───┬───┬───┐\n",
    "    │ 1 │ 0 │ 2 │                        │-1 │ 0 │-2 │\n",
    "    ├───┼───┼───┤                        ├───┼───┼───┤\n",
    "R = │ 1 │ 5 │ 0 │ → np.negative(R)     = │-1 │-5 │ 0 │\n",
    "    ├───┼───┼───┤                        ├───┼───┼───┤            \n",
    "    │ 0 │ 2 │ 1 │                        │ 0 │-2 │-1 │\n",
    "    └───┴───┴───┘                        └───┴───┴───┘\n",
    "\n",
    "    ┌───┬───┬───┐                        ┌───┬───┬───┐\n",
    "    │-1 │ 0 │-2 │                        │ 2 │ 0 │ 1 │\n",
    "    ├───┼───┼───┤                        ├───┼───┼───┤\n",
    "R = │-1 │-5 │ 0 │ → R.argsort(axis=1)  = │ 1 │ 0 │ 2 │\n",
    "    ├───┼───┼───┤                        ├───┼───┼───┤            \n",
    "    │ 0 │-2 │-1 │                        │ 1 │ 2 │ 0 │\n",
    "    └───┴───┴───┘                        └───┴───┴───┘ \n",
    "```"
   ]
  },
  {
   "cell_type": "code",
   "execution_count": 51,
   "metadata": {},
   "outputs": [
    {
     "data": {
      "text/plain": [
       "array([[1., 0., 2.],\n",
       "       [1., 5., 0.],\n",
       "       [0., 2., 1.]])"
      ]
     },
     "execution_count": 51,
     "metadata": {},
     "output_type": "execute_result"
    }
   ],
   "source": [
    "R_zeros = R_.copy()\n",
    "R_zeros[np.isnan(R_)] = 0\n",
    "R_zeros"
   ]
  },
  {
   "cell_type": "code",
   "execution_count": 52,
   "metadata": {},
   "outputs": [
    {
     "data": {
      "text/plain": [
       "array([[-1., -0., -2.],\n",
       "       [-1., -5., -0.],\n",
       "       [-0., -2., -1.]])"
      ]
     },
     "execution_count": 52,
     "metadata": {},
     "output_type": "execute_result"
    }
   ],
   "source": [
    "R_zeros = np.negative(R_zeros)\n",
    "R_zeros"
   ]
  },
  {
   "cell_type": "code",
   "execution_count": 53,
   "metadata": {},
   "outputs": [
    {
     "data": {
      "text/plain": [
       "array([[2, 0, 1],\n",
       "       [1, 0, 2],\n",
       "       [1, 2, 0]], dtype=int64)"
      ]
     },
     "execution_count": 53,
     "metadata": {},
     "output_type": "execute_result"
    }
   ],
   "source": [
    "R_zeros.argsort(axis=1)"
   ]
  },
  {
   "cell_type": "markdown",
   "metadata": {},
   "source": [
    "### B.3.5 Mean\n",
    "\n",
    "Finally, we compute the mean rating per user with vectorization.\n",
    "\n",
    "However, and this is becoming a common theme, \n",
    "\n",
    "The `mean` method doesn't deal with missing values, so we use `np.nanmean`.\n",
    "\n",
    "```\n",
    "    ┌───┬───┬───┐                                          ┌───┐\n",
    "    │ 1 │   │ 2 │                                          │1.5│\n",
    "    ├───┼───┼───┤                                          ├───┤\n",
    "R = │ 1 │ 5 │   │ → np.nanmean(R, axis=1, keepdims=True) = │ 3 │\n",
    "    ├───┼───┼───┤                                          ├───┤      \n",
    "    │   │ 2 │ 1 │                                          │1.5│\n",
    "    └───┴───┴───┘                                          └───┘\n",
    "```"
   ]
  },
  {
   "cell_type": "code",
   "execution_count": 54,
   "metadata": {},
   "outputs": [
    {
     "data": {
      "text/plain": [
       "array([nan, nan, nan])"
      ]
     },
     "execution_count": 54,
     "metadata": {},
     "output_type": "execute_result"
    }
   ],
   "source": [
    "R_.mean(axis=1)"
   ]
  },
  {
   "cell_type": "code",
   "execution_count": 55,
   "metadata": {},
   "outputs": [
    {
     "data": {
      "text/plain": [
       "array([[1.5],\n",
       "       [3. ],\n",
       "       [1.5]])"
      ]
     },
     "execution_count": 55,
     "metadata": {},
     "output_type": "execute_result"
    }
   ],
   "source": [
    "np.nanmean(R_, axis=1, keepdims=True)"
   ]
  },
  {
   "cell_type": "markdown",
   "metadata": {},
   "source": [
    "Not only is vectorization performant, but, thanks to NumPy, it's also expressive.\n",
    "\n",
    "Many other methods behave just like mean, `min`, `max`, `sum`, `var`, `std`, among others."
   ]
  },
  {
   "cell_type": "markdown",
   "metadata": {},
   "source": [
    "## B.4 Universal functions\n",
    "\n",
    "Additionally to the array methods discussed above, NumPY provides many [universal functions](https://docs.scipy.org/doc/numpy/reference/ufuncs.html#available-ufuncs).\n",
    "\n",
    "We group the methods, among others, as:\n",
    "* Math functions\n",
    "* Trigonometric functions\n",
    "* Comparison functions.\n",
    "\n",
    "Many of these, are implemented in compiled C code, for performance.\n",
    "\n",
    "Because of vectorization, these functions are applied, in parallel, to multiple data at once.\n",
    "\n",
    "Universal funtions operate element-by-element and include (some them we already know):\n",
    "* [add](https://docs.scipy.org/doc/numpy/reference/generated/numpy.add.html)\n",
    "* [subtract](https://docs.scipy.org/doc/numpy/reference/generated/numpy.subtract.html)\n",
    "* [multiply](https://docs.scipy.org/doc/numpy/reference/generated/numpy.multiply.html)\n",
    "* [divide](https://docs.scipy.org/doc/numpy/reference/generated/numpy.divide.html)\n",
    "* [negative](https://docs.scipy.org/doc/numpy/reference/generated/numpy.negative.html)\n",
    "* [positive](https://docs.scipy.org/doc/numpy/reference/generated/numpy.positive.html)\n",
    "* [power](https://docs.scipy.org/doc/numpy/reference/generated/numpy.power.html)\n",
    "* [exp](https://docs.scipy.org/doc/numpy/reference/generated/numpy.exp.html)\n",
    "* [log](https://docs.scipy.org/doc/numpy/reference/generated/numpy.log.html)\n",
    "* [sin](https://docs.scipy.org/doc/numpy/reference/generated/numpy.sin.html)\n",
    "* [cos](https://docs.scipy.org/doc/numpy/reference/generated/numpy.cos.html)\n",
    "* [greater](https://docs.scipy.org/doc/numpy/reference/generated/numpy.greater.html), [greater_equal](https://docs.scipy.org/doc/numpy/reference/generated/numpy.greater_equal.html)\n",
    "* [less](https://docs.scipy.org/doc/numpy/reference/generated/numpy.less.html), [less_equal](https://docs.scipy.org/doc/numpy/reference/generated/numpy.less_equal.html)\n",
    "* [equal](https://docs.scipy.org/doc/numpy/reference/generated/numpy.equal.html)\n",
    "* [not_equal](https://docs.scipy.org/doc/numpy/reference/generated/numpy.not_equal.html)\n",
    "* [maximum](https://docs.scipy.org/doc/numpy/reference/generated/numpy.maximum.html)\n",
    "* [minimum](https://docs.scipy.org/doc/numpy/reference/generated/numpy.minimum.html).\n",
    "\n",
    "We exemplify some of these functions. Let's start by creating two different matrices.\n",
    "\n",
    "```\n",
    "    ┌───┬───┬───┐       ┌───┬───┬───┐\n",
    "    │ 3 │ 1 │ 2 │       │ 5 │ 5 │ 2 │ \n",
    "    ├───┼───┼───┤       ├───┼───┼───┤\n",
    "A = │ 1 │ 5 │ 4 │   B = │ 3 │ 3 │ 3 │\n",
    "    ├───┼───┼───┤       ├───┼───┼───┤   \n",
    "    │ 4 │ 4 │ 1 │       │ 2 │ 5 │ 4 │\n",
    "    └───┴───┴───┘       └───┴───┴───┘\n",
    "```"
   ]
  },
  {
   "cell_type": "code",
   "execution_count": 56,
   "metadata": {},
   "outputs": [],
   "source": [
    "A = np.array([[3, 1, 2], [1, 5, 4], [4, 4, 1]])\n",
    "B = np.array([[5, 5, 2], [3, 3, 3], [2, 5, 4]])"
   ]
  },
  {
   "cell_type": "markdown",
   "metadata": {},
   "source": [
    "### B.4.1 Add\n",
    "\n",
    "We use `add` to add arrays element-wise.\n",
    "\n",
    "```\n",
    "┌───┬───┬───┐   ┌───┬───┬───┐   ┌───────┬───────┬───────┐   ┌───┬───┬───┐\n",
    "│ 3 │ 1 │ 2 │   │ 5 │ 5 │ 2 │   │ 3 + 5 │ 1 + 5 │ 2 + 2 │   │ 8 │ 6 │ 4 │ \n",
    "├───┼───┼───┤   ├───┼───┼───┤   ├───────┼───────┼───────┤   ├───┼───┼───┤\n",
    "│ 1 │ 5 │ 4 │ + │ 3 │ 3 │ 3 │ → │ 1 + 3 │ 5 + 3 │ 4 + 3 │ = │ 4 │ 8 │ 7 │  \n",
    "├───┼───┼───┤   ├───┼───┼───┤   ├───────┼───────┼───────┤   ├───┼───┼───┤   \n",
    "│ 4 │ 4 │ 1 │   │ 2 │ 5 │ 4 │   │ 4 + 2 │ 4 + 5 │ 1 + 4 │   │ 6 │ 9 │ 5 │\n",
    "└───┴───┴───┘   └───┴───┴───┘   └───────┴───────┴───────┘   └───┴───┴───┘\n",
    "```"
   ]
  },
  {
   "cell_type": "code",
   "execution_count": 57,
   "metadata": {},
   "outputs": [
    {
     "data": {
      "text/plain": [
       "array([[8, 6, 4],\n",
       "       [4, 8, 7],\n",
       "       [6, 9, 5]])"
      ]
     },
     "execution_count": 57,
     "metadata": {},
     "output_type": "execute_result"
    }
   ],
   "source": [
    "np.add(A, B)"
   ]
  },
  {
   "cell_type": "markdown",
   "metadata": {},
   "source": [
    "Alternatively, you can use math operators, as you would normally do (`add` is called internally)."
   ]
  },
  {
   "cell_type": "code",
   "execution_count": 58,
   "metadata": {},
   "outputs": [
    {
     "data": {
      "text/plain": [
       "array([[8, 6, 4],\n",
       "       [4, 8, 7],\n",
       "       [6, 9, 5]])"
      ]
     },
     "execution_count": 58,
     "metadata": {},
     "output_type": "execute_result"
    }
   ],
   "source": [
    "A + B"
   ]
  },
  {
   "cell_type": "markdown",
   "metadata": {},
   "source": [
    "The downside of using math operators is that you need to make sure `A` and `B` are `ndarrays`.\n",
    "\n",
    "If you use `add` it will convert any input array-like object into a `ndarray` prior to performing the operation.\n",
    "\n",
    "You can apply the same reasoning to any other math function, as subtract, multiply or divide.\n",
    "\n",
    "### B.4.2 Log\n",
    "\n",
    "We use `log` to apply the natural algorithm, element-wise.\n",
    "\n",
    "```\n",
    "    ┌───┬───┬───┐               ┌────────┬────────┬────────┐\n",
    "    │ 3 │ 1 │ 2 │               │ log(3) │ log(1) │ log(2) │\n",
    "    ├───┼───┼───┤               ├────────┼────────┼────────┤\n",
    "A = │ 1 │ 5 │ 4 │ → np.log(A) = │ log(1) │ log(5) │ log(4) │\n",
    "    ├───┼───┼───┤               ├────────┼────────┼────────┤            \n",
    "    │ 4 │ 4 │ 1 │               │ log(4) │ log(4) │ log(1) │\n",
    "    └───┴───┴───┘               └────────┴────────┴────────┘\n",
    "```"
   ]
  },
  {
   "cell_type": "code",
   "execution_count": 59,
   "metadata": {},
   "outputs": [
    {
     "data": {
      "text/plain": [
       "array([[1.09861229, 0.        , 0.69314718],\n",
       "       [0.        , 1.60943791, 1.38629436],\n",
       "       [1.38629436, 1.38629436, 0.        ]])"
      ]
     },
     "execution_count": 59,
     "metadata": {},
     "output_type": "execute_result"
    }
   ],
   "source": [
    "np.log(A)"
   ]
  },
  {
   "cell_type": "markdown",
   "metadata": {},
   "source": [
    "Important functions operate like log, like `exp`, `sin` and `cos`, among others.\n",
    "\n",
    "### B.4.3 Greater\n",
    "\n",
    "Compares two arrays element-wise.\n",
    "\n",
    "```\n",
    "┌───┬───┬───┐   ┌───┬───┬───┐   ┌───────┬───────┬───────┐   ┌───┬───┬───┐\n",
    "│ 3 │ 1 │ 2 │   │ 5 │ 5 │ 2 │   │ 3 > 5 │ 1 > 5 │ 2 > 2 │   │ 0 │ 0 │ 0 │ \n",
    "├───┼───┼───┤   ├───┼───┼───┤   ├───────┼───────┼───────┤   ├───┼───┼───┤\n",
    "│ 1 │ 5 │ 4 │ > │ 3 │ 3 │ 3 │ → │ 1 > 3 │ 5 > 3 │ 4 > 3 │ = │ 0 │ 1 │ 1 │  \n",
    "├───┼───┼───┤   ├───┼───┼───┤   ├───────┼───────┼───────┤   ├───┼───┼───┤   \n",
    "│ 4 │ 4 │ 1 │   │ 2 │ 5 │ 4 │   │ 4 > 2 │ 4 > 5 │ 1 > 4 │   │ 1 │ 0 │ 0 │\n",
    "└───┴───┴───┘   └───┴───┴───┘   └───────┴───────┴───────┘   └───┴───┴───┘\n",
    "```"
   ]
  },
  {
   "cell_type": "code",
   "execution_count": 60,
   "metadata": {},
   "outputs": [
    {
     "data": {
      "text/plain": [
       "array([[False, False, False],\n",
       "       [False,  True,  True],\n",
       "       [ True, False, False]])"
      ]
     },
     "execution_count": 60,
     "metadata": {},
     "output_type": "execute_result"
    }
   ],
   "source": [
    "np.greater(A, B)"
   ]
  },
  {
   "cell_type": "code",
   "execution_count": 61,
   "metadata": {},
   "outputs": [
    {
     "data": {
      "text/plain": [
       "array([[False, False, False],\n",
       "       [False,  True,  True],\n",
       "       [ True, False, False]])"
      ]
     },
     "execution_count": 61,
     "metadata": {},
     "output_type": "execute_result"
    }
   ],
   "source": [
    "A > B"
   ]
  },
  {
   "cell_type": "markdown",
   "metadata": {},
   "source": [
    "### B.4.4 Maximum\n",
    "\n",
    "Returns the maximum of two arrays, element-wise.\n",
    "\n",
    "```\n",
    "               ┌───────────┬───────────┬───────────┐   ┌───┬───┬───┐\n",
    "               │ max(3, 5) │ max(1, 5) │ max(2, 2) │   │ 5 │ 5 │ 2 │ \n",
    "               ├───────────┼───────────┼───────────┤   ├───┼───┼───┤\n",
    "np.max(A, B) → │ max(1, 3) │ max(5, 3) │ max(4, 3) │ = │ 3 │ 5 │ 4 │  \n",
    "               ├───────────┼───────────┼───────────┤   ├───┼───┼───┤   \n",
    "               │ max(4, 2) │ max(4, 5) │ max(1, 4) │   │ 4 │ 5 │ 4 │\n",
    "               └───────────┴───────────┴───────────┘   └───┴───┴───┘\n",
    "```"
   ]
  },
  {
   "cell_type": "code",
   "execution_count": 62,
   "metadata": {},
   "outputs": [
    {
     "data": {
      "text/plain": [
       "array([[5, 5, 2],\n",
       "       [3, 5, 4],\n",
       "       [4, 5, 4]])"
      ]
     },
     "execution_count": 62,
     "metadata": {},
     "output_type": "execute_result"
    }
   ],
   "source": [
    "np.maximum(A, B)"
   ]
  },
  {
   "cell_type": "markdown",
   "metadata": {},
   "source": [
    "## B.5 Broadcasting\n",
    "\n",
    "All this convient functionality operates on a element-by-element basis. \n",
    "\n",
    "What about operations on arrays with different sizes?\n",
    "\n",
    "### B.5.1 Columns\n",
    "\n",
    "We think of boardcasting as streching an array, so that it matches the dimensions of another.\n",
    "\n",
    "In two dimensions, this means duplicating rows or columns, so that the dimensions of both arrays match.\n",
    "\n",
    "```\n",
    "┌───┐   ┌───┬───┬───┐   ┌───┬───┬───┐   ┌───┬───┬───┐\n",
    "│ 1 │   │ 1 │ 2 │ 3 │   │ 1 │ 1 │ 1 │   │ 1 │ 2 │ 3 │ \n",
    "├───┤   ├───┼───┼───┤   ├───┼───┼───┤   ├───┼───┼───┤\n",
    "│ 2 │ + │ 4 │ 5 │ 6 │ → │ 2 │ 2 │ 2 │ + │ 4 │ 5 │ 6 │   \n",
    "├───┤   ├───┼───┼───┤   ├───┼───┼───┤   ├───┼───┼───┤   \n",
    "│ 3 │   │ 7 │ 8 │ 9 │   │ 3 │ 3 │ 3 │   │ 7 │ 8 │ 9 │\n",
    "└───┘   └───┴───┴───┘   └───┴───┴───┘   └───┴───┴───┘\n",
    "(3, 1)      (3, 3)          (3, 3)          (3, 3)\n",
    "```\n",
    "\n",
    "In this case, we duplicate columns, so that both matrices become the same shape.\n",
    "\n",
    "If the number of columns of both matrices aren't multiples, an error will be thrown."
   ]
  },
  {
   "cell_type": "code",
   "execution_count": 63,
   "metadata": {},
   "outputs": [
    {
     "data": {
      "text/plain": [
       "array([[ 2,  3,  4],\n",
       "       [ 6,  7,  8],\n",
       "       [10, 11, 12]])"
      ]
     },
     "execution_count": 63,
     "metadata": {},
     "output_type": "execute_result"
    }
   ],
   "source": [
    "A = np.arange(1, 4).reshape(3, 1)\n",
    "B = np.arange(1, 10).reshape(3, 3)\n",
    "\n",
    "np.add(A, B)"
   ]
  },
  {
   "cell_type": "markdown",
   "metadata": {},
   "source": [
    "### B.5.2 Rows\n",
    "\n",
    "We can do the same to the rows, given that the number of rows in each matrix are multiples.\n",
    "\n",
    "```\n",
    "                ┌───┬───┬───┐   ┌───┬───┬───┐   ┌───┬───┬───┐\n",
    "                │ 1 │ 2 │ 3 │   │ 1 │ 2 │ 3 │   │ 1 │ 2 │ 3 │ \n",
    "┌───┬───┬───┐   ├───┼───┼───┤   ├───┼───┼───┤   ├───┼───┼───┤\n",
    "│ 1 │ 2 │ 3 │ + │ 4 │ 5 │ 6 │ → │ 1 │ 2 │ 3 │ + │ 4 │ 5 │ 6 │   \n",
    "└───┴───┴───┘   ├───┼───┼───┤   ├───┼───┼───┤   ├───┼───┼───┤   \n",
    "    (1, 3)      │ 7 │ 8 │ 9 │   │ 1 │ 2 │ 3 │   │ 7 │ 8 │ 9 │\n",
    "                └───┴───┴───┘   └───┴───┴───┘   └───┴───┴───┘\n",
    "                    (3, 3)          (3, 3)          (3, 3)\n",
    "```"
   ]
  },
  {
   "cell_type": "code",
   "execution_count": 64,
   "metadata": {},
   "outputs": [
    {
     "data": {
      "text/plain": [
       "array([[ 2,  4,  6],\n",
       "       [ 5,  7,  9],\n",
       "       [ 8, 10, 12]])"
      ]
     },
     "execution_count": 64,
     "metadata": {},
     "output_type": "execute_result"
    }
   ],
   "source": [
    "A = A.reshape(1, 3)\n",
    "\n",
    "np.add(A, B)"
   ]
  },
  {
   "cell_type": "markdown",
   "metadata": {},
   "source": [
    "# C Matrix Algebra\n",
    "\n",
    "In the previous learning unit, we introduced vectorization and data-parallelization, i.e., performing a single operation on multiple data at once.\n",
    "\n",
    "Vectorization decreases time complexity, grounded in $n$-dimensional arrays and the methods and functions that operate on them.\n",
    "\n",
    "Vectorized instructions are applied to the data as a whole, avoiding cycles and, particularly, `for` loops.\n",
    "\n",
    "A particularly relevant set of methods deliberately left out of the last unit, relates to linear algebra and matrix multiplication.\n",
    "\n",
    "## C.1 Notation\n",
    "\n",
    "We write $A \\in \\mathbb{R}^{\\space m \\space \\times \\space n}$ a matrix with $m$ rows and $n$ columns, where the entries of $A$ are real numbers.\n",
    "\n",
    "An $n$-dimensional vector is a vector with $n$ entries, as $x \\in \\mathbb{R}^n$, represented as a matrix with $n$ rows and one column, i.e., a column-vector.\n",
    "\n",
    "$$x = \\begin{bmatrix} x_0 \\\\ x_1 \\\\ ... \\\\ x_n \\end{bmatrix}$$ \n",
    "\n",
    "If we want to represent $x$ as a matrix with $n$ columns and a single row, i.e., a row-vector, we explicitly write the vector transposed.\n",
    "\n",
    "$$x^T = \\begin{bmatrix}x_0 & x_1 & ... & x_n \\end{bmatrix}$$\n",
    "\n",
    "We use $a_{ij}$ to represent the value of $A$ in the $i$-th row and the $j$-th column, $a_j$ for the $j$-th column and $a_i^T$ for the $i$-th row.\n",
    "\n",
    "$$A = \\begin{bmatrix}a_{00} & a_{01} & ... & a_{0n} \\\\ a_{10} & a_{11} & ... & a_{1n} \\\\ ...  & ... & ... & ...\\\\ a_{m0} & a_{m1} & ... & a_{mn}\\end{bmatrix}$$\n",
    "\n",
    "$$a_j = \\begin{bmatrix} a_{0j} \\\\ a_{1j} \\\\ ... \\\\ a_{mj} \\end{bmatrix}$$ \n",
    "\n",
    "$$a_i= \\begin{bmatrix}a_{i0} & a_{i1} & ... & a_{in} \\end{bmatrix}$$\n",
    "\n",
    "We move to matrix multiplication, the critical matrix operation in memory-based recommender systems.\n",
    "\n",
    "## C.2 Matrix Multiplication\n",
    "\n",
    "The product of two matrices $A \\in \\mathbb{R}^{\\space m \\space \\times \\space n}$ and $B \\in \\mathbb{R}^{\\space n \\space \\times \\space p}$ is the matrix $C = AB \\in \\mathbb{R}^{\\space m \\space \\times \\space p}$, where:\n",
    "\n",
    "$$C_{ij} = \\sum\\limits_{k=1}^n A_{ik}B_{kj}$$\n",
    "\n",
    "In short, each value in $C_{ik}$ is the sum of the product of the $i$th-row of $A$ by the $j$-th column of $B$.\n",
    "\n",
    "For the matrix product to exist, the number of columns in $A$ must equal the number of rows in $B$.\n",
    "\n",
    "## C.3 Vector-vector products\n",
    "\n",
    "This product is known as the scalar or *dot* product, from the centered dot that is used to designate this operation, as in $x \\cdot y$.\n",
    "\n",
    "Given $x^T, y \\in \\mathbb{R}^n$, the inner product or dot-product of the vectors is:\n",
    "\n",
    "$$x^Ty \\in R = \\begin{bmatrix}x_0 & x_1 & ... & x_n\\end{bmatrix} \\begin{bmatrix}y_0 \\\\ y_1 \\\\ ... \\\\ y_n\\end{bmatrix} = \\sum\\limits_{i=1}^n x_{i}y_{i}$$\n",
    "\n",
    "Note that this is a particular case of matrix multiplication, with a single row and a single column.\n",
    "\n",
    "This operation is sometimes also referred to as the sum-product, popularized by an Excel function with that name."
   ]
  },
  {
   "cell_type": "code",
   "execution_count": 65,
   "metadata": {},
   "outputs": [],
   "source": [
    "x = [0, 1, 2, 3, 4]\n",
    "y = [5, 6, 7, 8, 9]"
   ]
  },
  {
   "cell_type": "markdown",
   "metadata": {},
   "source": [
    "Let's implement this in vanilla Python, to build up our intuition. \n",
    "\n",
    "We will use `zip` to aggregate both lists element-wise."
   ]
  },
  {
   "cell_type": "code",
   "execution_count": 66,
   "metadata": {},
   "outputs": [
    {
     "data": {
      "text/plain": [
       "[(0, 5), (1, 6), (2, 7), (3, 8), (4, 9)]"
      ]
     },
     "execution_count": 66,
     "metadata": {},
     "output_type": "execute_result"
    }
   ],
   "source": [
    "list(zip(x, y))"
   ]
  },
  {
   "cell_type": "code",
   "execution_count": 67,
   "metadata": {},
   "outputs": [
    {
     "data": {
      "text/plain": [
       "80"
      ]
     },
     "execution_count": 67,
     "metadata": {},
     "output_type": "execute_result"
    }
   ],
   "source": [
    "def dot_product(x, y):\n",
    "    result = 0\n",
    "    for i, j in zip(x, y):\n",
    "        result += i*j\n",
    "        \n",
    "    return result\n",
    "\n",
    "\n",
    "dot_product(x, y)"
   ]
  },
  {
   "cell_type": "markdown",
   "metadata": {},
   "source": [
    "It is always the case that $x^Ty = y^Tx$.\n",
    "\n",
    "Without surprises, NumPy provides us with a vectorized function for the dot-product of two arrays.\n",
    "\n",
    "We transpose a matrix using the array method `transposed`, or simply `T`."
   ]
  },
  {
   "cell_type": "code",
   "execution_count": 68,
   "metadata": {},
   "outputs": [
    {
     "data": {
      "text/plain": [
       "array([[80]])"
      ]
     },
     "execution_count": 68,
     "metadata": {},
     "output_type": "execute_result"
    }
   ],
   "source": [
    "x_ = np.array(x).reshape(-1, 1)\n",
    "y_ = np.array(y).reshape(-1, 1)\n",
    "\n",
    "np.dot(x_.T, y_)"
   ]
  },
  {
   "cell_type": "markdown",
   "metadata": {},
   "source": [
    "## C.4 Matrix-Vector products\n",
    "\n",
    "Given a matrix $A \\in \\mathbb{R}^{\\space m \\space \\times \\space n}$ and a vector $x \\in \\mathbb{R}^{\\space n}$, the product is a vector $y = Ax \\in \\mathbb{R}^{\\space m}$. \n",
    "\n",
    "(Perhaps it's worth remembering that $x$ is an $n \\times 1$ matrix. Hence, the shape of $y$.)\n",
    "\n",
    "There are four equivalent ways to look at matrix-vector multiplication. Take $A$ by the rows, we write it as:\n",
    "\n",
    "$$y = Ax = \\begin{bmatrix}a_0^Tx \\\\ a_1^Tx \\\\ ... \\\\ a_m^Tx\\end{bmatrix}$$\n",
    "\n",
    "In other words, the $i$-th entry of $y$ is equal to the inner product of the $i$th row of $A$ and $x$, $y_i = a_i^T x$.\n",
    "\n",
    "However, if we write $A$ in column form:\n",
    "\n",
    "$$y = Ax = a_0x_0 + a_1x_1 + ... + a_nx_n$$\n",
    "\n",
    "Thus, $y$ is a linear combination of the columns of $A$, where $x$ gives the coefficients.\n",
    "\n",
    "It's also possible to multiply on the left by a row vector. Using the columns from $A$:\n",
    "\n",
    "$$y^T = x^TA = \\begin{bmatrix}x^Ta_0 & x^Ta_1 & ... & x^Ta_n \\end{bmatrix}$$\n",
    "\n",
    "Or, alternatively, using the rows:\n",
    "\n",
    "$$y^T = x_0a_0^T + x_1a_1^T + ... + x_na_n^T$$\n",
    "\n",
    "We have that $y^T$ is a linear combination of the rows of $A$, where $x$ is a vector of coefficients."
   ]
  },
  {
   "cell_type": "code",
   "execution_count": 69,
   "metadata": {},
   "outputs": [
    {
     "data": {
      "text/plain": [
       "array([[0, 1, 2],\n",
       "       [3, 4, 5],\n",
       "       [6, 7, 8]])"
      ]
     },
     "execution_count": 69,
     "metadata": {},
     "output_type": "execute_result"
    }
   ],
   "source": [
    "H = np.arange(9).reshape(3, 3)\n",
    "H"
   ]
  },
  {
   "cell_type": "code",
   "execution_count": 70,
   "metadata": {},
   "outputs": [
    {
     "data": {
      "text/plain": [
       "array([[0],\n",
       "       [1],\n",
       "       [2]])"
      ]
     },
     "execution_count": 70,
     "metadata": {},
     "output_type": "execute_result"
    }
   ],
   "source": [
    "h = np.arange(3).reshape(-1, 1)\n",
    "h"
   ]
  },
  {
   "cell_type": "code",
   "execution_count": 71,
   "metadata": {},
   "outputs": [
    {
     "data": {
      "text/plain": [
       "array([[ 5],\n",
       "       [14],\n",
       "       [23]])"
      ]
     },
     "execution_count": 71,
     "metadata": {},
     "output_type": "execute_result"
    }
   ],
   "source": [
    "np.dot(H, h)"
   ]
  },
  {
   "cell_type": "markdown",
   "metadata": {},
   "source": [
    "## C.5 Matrix-Matrix products\n",
    "\n",
    "Using the above, we can build our intuition of the matrix-matrix multiplication $C = AB$.\n",
    "\n",
    "We start by representing matrix multiplication as a set of dot-products.\n",
    "\n",
    "$$C = AB = \\begin{bmatrix}a_0^Tb_0 & a_0^Tb_1 & ... & a_0^Tb_p \\\\ a_1^Tb_0 & a_1^Tb_1 & ... & a_1^Tb_p \\\\ ...  & ... & ... & ...\\\\ a_m^Tb_0 & a_m^Tb_1 & ... & a_m^Tb_p\\end{bmatrix}$$\n",
    "\n",
    "Remember that since $A \\in \\mathbb{R}^{\\space m \\space \\times \\space n}$ and $B \\in \\mathbb{R}^{\\space n \\space \\times \\space p}$, we have $a_i \\in \\mathbb{R}^n$ and $b_j \\in \\mathbb{R}^n$.\n",
    "\n",
    "A second approach is to represent matrix multiplication as a set of matrix-vector products, each returning a column-vector.\n",
    "\n",
    "$$C = AB = \\begin{bmatrix}Ab_0 & Ab_1 & ... & Ab_p\\end{bmatrix}$$\n",
    "\n",
    "A third one is to use matrix-vector products with the vector on the left, each returning a row-vector.\n",
    "\n",
    "$$C = AB = \\begin{bmatrix}a_0^TB \\\\ a_1^TB \\\\ ... \\\\ a_m^TB\\end{bmatrix}$$"
   ]
  },
  {
   "cell_type": "code",
   "execution_count": 72,
   "metadata": {},
   "outputs": [
    {
     "data": {
      "text/plain": [
       "array([[ 0,  1,  2,  3],\n",
       "       [ 4,  5,  6,  7],\n",
       "       [ 8,  9, 10, 11]])"
      ]
     },
     "execution_count": 72,
     "metadata": {},
     "output_type": "execute_result"
    }
   ],
   "source": [
    "I = np.arange(12).reshape(3, 4)\n",
    "I"
   ]
  },
  {
   "cell_type": "code",
   "execution_count": 73,
   "metadata": {},
   "outputs": [
    {
     "data": {
      "text/plain": [
       "array([[ 20,  23,  26,  29],\n",
       "       [ 56,  68,  80,  92],\n",
       "       [ 92, 113, 134, 155]])"
      ]
     },
     "execution_count": 73,
     "metadata": {},
     "output_type": "execute_result"
    }
   ],
   "source": [
    "np.dot(H, I)"
   ]
  },
  {
   "cell_type": "markdown",
   "metadata": {},
   "source": [
    "Combining sparse matrices with linear algebra, we manage space and time complexity when building memory-based RS."
   ]
  }
 ],
 "metadata": {
  "kernelspec": {
   "display_name": "Python 3",
   "language": "python",
   "name": "python3"
  },
  "language_info": {
   "codemirror_mode": {
    "name": "ipython",
    "version": 3
   },
   "file_extension": ".py",
   "mimetype": "text/x-python",
   "name": "python",
   "nbconvert_exporter": "python",
   "pygments_lexer": "ipython3",
   "version": "3.7.3"
  }
 },
 "nbformat": 4,
 "nbformat_minor": 2
}
