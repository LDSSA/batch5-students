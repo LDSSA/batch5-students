{
 "cells": [
  {
   "cell_type": "code",
   "execution_count": null,
   "metadata": {
    "deletable": false,
    "editable": false,
    "nbgrader": {
     "grade": false,
     "grade_id": "cell-f5f86dd72ee9831f",
     "locked": true,
     "schema_version": 3,
     "solution": false,
     "task": false
    }
   },
   "outputs": [],
   "source": [
    "import hashlib # for grading purposes"
   ]
  },
  {
   "cell_type": "markdown",
   "metadata": {
    "deletable": false,
    "editable": false,
    "nbgrader": {
     "grade": false,
     "grade_id": "cell-e412ce9e2f5626d6",
     "locked": true,
     "schema_version": 3,
     "solution": false,
     "task": false
    }
   },
   "source": [
    "# Main Goal\n",
    "\n",
    "The main idea of the workflow unit is for you to understand how you should build a strategy for designing a Recommender System.\n",
    "For this purpose we recommend that you:\n",
    "\n",
    "1. Review the workflow notebook carefully and make sure you are able to explain to a 5-year-old child (or a [rubber duck](https://en.wikipedia.org/wiki/Rubber_duck_debugging)) the whole pipeline. Even better, try to get some ideas on how to improve it!\n",
    "\n",
    "2. Choose one of these [datasets](https://github.com/caserec/Datasets-for-Recommender-Systems) and follow the steps on the Simplified Pipeline notebook.\n",
    "\n",
    "3. Design and implement the whole RS pipeline for another dataset from stratch - as will happen on the Hackathon.\n",
    "\n",
    "When you feel ready for the Hackathon complete the next cell and submit it to the Portal.\n"
   ]
  },
  {
   "cell_type": "code",
   "execution_count": null,
   "metadata": {
    "deletable": false,
    "nbgrader": {
     "grade": false,
     "grade_id": "cell-e7c828874307647a",
     "locked": false,
     "schema_version": 3,
     "solution": true,
     "task": false
    }
   },
   "outputs": [],
   "source": [
    "def ds_recommenders_oath_of_office():\n",
    "    \"\"\"The Recommender Systems' Data Scientist Oath of Office\n",
    "    \n",
    "    Returns:\n",
    "        oath (str): should contain the following sentence:\n",
    "                    'I do solemnly swear I have reviewed the Workflow notebook and I am ready for the Hackathon!'\n",
    "    \"\"\"\n",
    "    # YOUR CODE HERE\n",
    "    raise NotImplementedError()\n",
    "\n",
    "oath = ds_recommenders_oath_of_office()"
   ]
  },
  {
   "cell_type": "code",
   "execution_count": null,
   "metadata": {
    "deletable": false,
    "editable": false,
    "nbgrader": {
     "grade": true,
     "grade_id": "cell-5ce403cc55ee4d49",
     "locked": true,
     "points": 20,
     "schema_version": 3,
     "solution": false,
     "task": false
    }
   },
   "outputs": [],
   "source": [
    "expected_hash = '3829f34c0b9c1e4a4da31670486d219446ae6ad92b0a243d92ec41793611ed7f'\n",
    "assert hashlib.sha256(oath.encode()).hexdigest() == expected_hash"
   ]
  }
 ],
 "metadata": {
  "kernelspec": {
   "display_name": "Python 3",
   "language": "python",
   "name": "python3"
  },
  "language_info": {
   "codemirror_mode": {
    "name": "ipython",
    "version": 3
   },
   "file_extension": ".py",
   "mimetype": "text/x-python",
   "name": "python",
   "nbconvert_exporter": "python",
   "pygments_lexer": "ipython3",
   "version": "3.8.0"
  }
 },
 "nbformat": 4,
 "nbformat_minor": 2
}
