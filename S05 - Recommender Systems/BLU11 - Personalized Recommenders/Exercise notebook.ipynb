{
 "cells": [
  {
   "cell_type": "markdown",
   "metadata": {
    "deletable": false,
    "editable": false,
    "nbgrader": {
     "grade": false,
     "grade_id": "cell-17a04b92ed01953e",
     "locked": true,
     "schema_version": 3,
     "solution": false,
     "task": false
    }
   },
   "source": [
    "# BLU11 - Exercise Notebook\n",
    "\n",
    "## Create your own movie recommender system\n",
    "\n",
    "This exercise notebook will help you create a Recommender System using Collaborative and Content-based filtering and, in the end, it will help you to pick some movies according to users' preferences.\n",
    "\n",
    "## Overall Strategy\n",
    "\n",
    "1. **Setup:** Import and pre-process the data\n",
    "1. **Collaborative Filtering:** normally better but may have the cold-start problem\n",
    "1. **Content-based Filtering:** larger amounts of accessible information about the movie (not only ratings)"
   ]
  },
  {
   "cell_type": "code",
   "execution_count": null,
   "metadata": {
    "deletable": false,
    "editable": false,
    "nbgrader": {
     "grade": false,
     "grade_id": "cell-ccd7a7449d7ca0c1",
     "locked": true,
     "schema_version": 3,
     "solution": false,
     "task": false
    }
   },
   "outputs": [],
   "source": [
    "# Define your setup\n",
    "import os\n",
    "import hashlib # for grading purposes\n",
    "import json\n",
    "import pandas as pd\n",
    "import numpy as np\n",
    "\n",
    "from scipy.sparse import csr_matrix\n",
    "\n",
    "from sklearn.metrics.pairwise import cosine_similarity\n",
    "from sklearn.feature_extraction.text import TfidfVectorizer\n",
    "from sklearn.preprocessing import normalize\n",
    "\n",
    "import warnings\n",
    "warnings.filterwarnings('ignore')"
   ]
  },
  {
   "cell_type": "markdown",
   "metadata": {
    "deletable": false,
    "editable": false,
    "nbgrader": {
     "grade": false,
     "grade_id": "cell-4a7c06fbdf00b1b7",
     "locked": true,
     "schema_version": 3,
     "solution": false,
     "task": false
    }
   },
   "source": [
    "We'll be using a standard dataset for recommendations, called the [MovieLens](https://grouplens.org/datasets/movielens/) dataset. Our dataset is an adapted version from the smallest version of the dataset available.\n",
    "\n",
    "We have 3 data files available:   "
   ]
  },
  {
   "cell_type": "markdown",
   "metadata": {
    "deletable": false,
    "editable": false,
    "nbgrader": {
     "grade": false,
     "grade_id": "cell-df6eca2c5ff41681",
     "locked": true,
     "schema_version": 3,
     "solution": false,
     "task": false
    }
   },
   "source": [
    "#### Dataset Ratings"
   ]
  },
  {
   "cell_type": "markdown",
   "metadata": {
    "deletable": false,
    "editable": false,
    "nbgrader": {
     "grade": false,
     "grade_id": "cell-d87166cac16585bb",
     "locked": true,
     "schema_version": 3,
     "solution": false,
     "task": false
    }
   },
   "source": [
    "`ratings.csv`: has 70,584 ratings, provided by 147 users, for 9,298 movies."
   ]
  },
  {
   "cell_type": "code",
   "execution_count": null,
   "metadata": {
    "deletable": false,
    "editable": false,
    "nbgrader": {
     "grade": false,
     "grade_id": "cell-b427a7d303addf56",
     "locked": true,
     "schema_version": 3,
     "solution": false,
     "task": false
    }
   },
   "outputs": [],
   "source": [
    "df_ratings = pd.read_csv(os.path.join(\"data\", \"ratings.csv\"))\n",
    "df_ratings.head()"
   ]
  },
  {
   "cell_type": "markdown",
   "metadata": {
    "deletable": false,
    "editable": false,
    "nbgrader": {
     "grade": false,
     "grade_id": "cell-edd2e7ad2b6dc57c",
     "locked": true,
     "schema_version": 3,
     "solution": false,
     "task": false
    }
   },
   "source": [
    "#### Dataset Movies"
   ]
  },
  {
   "cell_type": "markdown",
   "metadata": {
    "deletable": false,
    "editable": false,
    "nbgrader": {
     "grade": false,
     "grade_id": "cell-6b7bfe56b5fd5b2d",
     "locked": true,
     "schema_version": 3,
     "solution": false,
     "task": false
    }
   },
   "source": [
    "`movies.csv`: has the `movieId`, `title`, `genre`, and year for 9,742 movies"
   ]
  },
  {
   "cell_type": "code",
   "execution_count": null,
   "metadata": {
    "deletable": false,
    "editable": false,
    "nbgrader": {
     "grade": false,
     "grade_id": "cell-afef74c7b9c0b58d",
     "locked": true,
     "schema_version": 3,
     "solution": false,
     "task": false
    }
   },
   "outputs": [],
   "source": [
    "df_movies = pd.read_csv(os.path.join(\"data\",\"movies.csv\"))\n",
    "df_movies = df_movies.set_index(\"movieId\")\n",
    "df_movies.head()"
   ]
  },
  {
   "cell_type": "markdown",
   "metadata": {
    "deletable": false,
    "editable": false,
    "nbgrader": {
     "grade": false,
     "grade_id": "cell-837d83d87288301d",
     "locked": true,
     "schema_version": 3,
     "solution": false,
     "task": false
    }
   },
   "source": [
    "#### Dataset Tags"
   ]
  },
  {
   "cell_type": "markdown",
   "metadata": {
    "deletable": false,
    "editable": false,
    "nbgrader": {
     "grade": false,
     "grade_id": "cell-5869592ff3ec59f1",
     "locked": true,
     "schema_version": 3,
     "solution": false,
     "task": false
    }
   },
   "source": [
    "`tags.csv`: has 3.5k tags, provided by 49 users, for 1,551 movies."
   ]
  },
  {
   "cell_type": "code",
   "execution_count": null,
   "metadata": {
    "deletable": false,
    "editable": false,
    "nbgrader": {
     "grade": false,
     "grade_id": "cell-21fbb3c32a995313",
     "locked": true,
     "schema_version": 3,
     "solution": false,
     "task": false
    }
   },
   "outputs": [],
   "source": [
    "df_tags = pd.read_csv(os.path.join(\"data\", \"tags.csv\"))\n",
    "df_tags.head()"
   ]
  },
  {
   "cell_type": "markdown",
   "metadata": {
    "deletable": false,
    "editable": false,
    "nbgrader": {
     "grade": false,
     "grade_id": "cell-802387ea90c38d91",
     "locked": true,
     "schema_version": 3,
     "solution": false,
     "task": false
    }
   },
   "source": [
    "# 1) Build the Ratings Matrix"
   ]
  },
  {
   "cell_type": "markdown",
   "metadata": {
    "deletable": false,
    "editable": false,
    "nbgrader": {
     "grade": false,
     "grade_id": "cell-336d1babda4bb533",
     "locked": true,
     "schema_version": 3,
     "solution": false,
     "task": false
    }
   },
   "source": [
    "## 1.1 -  Create a Ratings Dataframe"
   ]
  },
  {
   "cell_type": "markdown",
   "metadata": {
    "deletable": false,
    "editable": false,
    "nbgrader": {
     "grade": false,
     "grade_id": "cell-59a3ed65a75a3612",
     "locked": true,
     "schema_version": 3,
     "solution": false,
     "task": false
    }
   },
   "source": [
    "Transform the `df_ratings` dataframe in order to have the `userId` as the index, the `movieId` as the column name and the correspondent`rating` as the values.   \n",
    "Make sure that index and column names are in ascending order.  \n",
    "Assign the transformed dataframe to a variable called `df_ratings_transformed`."
   ]
  },
  {
   "cell_type": "code",
   "execution_count": null,
   "metadata": {
    "deletable": false,
    "nbgrader": {
     "grade": false,
     "grade_id": "cell-858cb039a058302d",
     "locked": false,
     "schema_version": 3,
     "solution": true,
     "task": false
    }
   },
   "outputs": [],
   "source": [
    "# df_ratings_transformed = ...\n",
    "# YOUR CODE HERE\n",
    "raise NotImplementedError()"
   ]
  },
  {
   "cell_type": "code",
   "execution_count": null,
   "metadata": {
    "deletable": false,
    "editable": false,
    "nbgrader": {
     "grade": true,
     "grade_id": "cell-74f1244b20ac0139",
     "locked": true,
     "points": 1,
     "schema_version": 3,
     "solution": false,
     "task": false
    }
   },
   "outputs": [],
   "source": [
    "assert df_ratings_transformed.shape == (147, 9298)\n",
    "assert df_ratings_transformed.columns[888] == 1228\n",
    "assert df_ratings_transformed.index[64] == 275\n",
    "df_ratings_transformed.head()"
   ]
  },
  {
   "cell_type": "markdown",
   "metadata": {
    "deletable": false,
    "editable": false,
    "nbgrader": {
     "grade": false,
     "grade_id": "cell-8367a6879c5ddcb7",
     "locked": true,
     "schema_version": 3,
     "solution": false,
     "task": false
    }
   },
   "source": [
    "## 1.2 - Create utility functions"
   ]
  },
  {
   "cell_type": "markdown",
   "metadata": {
    "deletable": false,
    "editable": false,
    "nbgrader": {
     "grade": false,
     "grade_id": "cell-2f66d84c37cc301e",
     "locked": true,
     "schema_version": 3,
     "solution": false,
     "task": false
    }
   },
   "source": [
    "Create a set of utility functions that do the correspondence between user/movie Id and index.    \n",
    "\n",
    "The functions must follow the requirements below:   \n",
    "- Accepts movie/user's index or Id;\n",
    "- Accepts an array of movie/user's Id that keeps the same order of movies and users  as `df_ratings_transformed`;\n",
    "- Returns the correspondent id, if it accepts an index, of the index position on the array of movie/user's Id;\n",
    "- Returns the correspondent index, if it accepts an id of the same array;"
   ]
  },
  {
   "cell_type": "markdown",
   "metadata": {
    "deletable": false,
    "editable": false,
    "nbgrader": {
     "grade": false,
     "grade_id": "cell-2254ac0f95f0b178",
     "locked": true,
     "schema_version": 3,
     "solution": false,
     "task": false
    }
   },
   "source": [
    "The array of movie/user's Id should have the following default values:"
   ]
  },
  {
   "cell_type": "code",
   "execution_count": null,
   "metadata": {
    "deletable": false,
    "editable": false,
    "nbgrader": {
     "grade": false,
     "grade_id": "cell-44f5e0402dbfa88f",
     "locked": true,
     "schema_version": 3,
     "solution": false,
     "task": false
    }
   },
   "outputs": [],
   "source": [
    "user_id_array = df_ratings_transformed.index.to_numpy()\n",
    "movie_id_array = df_ratings_transformed.columns.to_numpy()"
   ]
  },
  {
   "cell_type": "code",
   "execution_count": null,
   "metadata": {
    "deletable": false,
    "nbgrader": {
     "grade": false,
     "grade_id": "cell-c168dca2ff205190",
     "locked": false,
     "schema_version": 3,
     "solution": true,
     "task": false
    }
   },
   "outputs": [],
   "source": [
    "def get_user_index(user_id, user_id_array=user_id_array):\n",
    "    \"\"\"\n",
    "    For the user_id, returns the correspondent position on user_id_array\n",
    "    \n",
    "    Parameters\n",
    "    ----------\n",
    "    user_id : int\n",
    "    user_id_array: np.array\n",
    "    \n",
    "    Returns\n",
    "    -------\n",
    "    user_index : int\n",
    "    \"\"\"\n",
    "    # user_index = ...\n",
    "    # YOUR CODE HERE\n",
    "    raise NotImplementedError()\n",
    "    return user_index\n",
    "\n",
    "def get_user_id(user_index, user_id_array=user_id_array):\n",
    "    \"\"\"\n",
    "    For the user_index, returns the correspondent id on user_id_array\n",
    "    \n",
    "    Parameters\n",
    "    ----------\n",
    "    user_index : int\n",
    "    user_id_array: np.array\n",
    "    \n",
    "    Returns\n",
    "    -------\n",
    "    user_id : int\n",
    "    \"\"\"\n",
    "    # user_id = ...\n",
    "    # YOUR CODE HERE\n",
    "    raise NotImplementedError()\n",
    "    return user_id\n",
    "\n",
    "def get_movie_index(movie_id, movie_id_array=movie_id_array):\n",
    "    \"\"\"\n",
    "    For the movie_id, returns the correspondent position on movie_id_array\n",
    "    \n",
    "    Parameters\n",
    "    ----------\n",
    "    movie_id : int\n",
    "    movie_id_array: np.array\n",
    "    \n",
    "    Returns\n",
    "    -------\n",
    "    movie_index : int\n",
    "    \"\"\"\n",
    "    # movie_index = ...\n",
    "    # YOUR CODE HERE\n",
    "    raise NotImplementedError()\n",
    "    return movie_index\n",
    "\n",
    "def get_movie_id(movie_index, movie_id_array=movie_id_array):\n",
    "    \"\"\"\n",
    "    For the movie_index, returns the correspondent id on movie_id_array\n",
    "    \n",
    "    Parameters\n",
    "    ----------\n",
    "    movie_index : int\n",
    "    movie_id_array: np.array\n",
    "    \n",
    "    Returns\n",
    "    -------\n",
    "    movie_id : int\n",
    "    \"\"\"\n",
    "    # movie_id = ...\n",
    "    # YOUR CODE HERE\n",
    "    raise NotImplementedError()\n",
    "    return movie_id"
   ]
  },
  {
   "cell_type": "code",
   "execution_count": null,
   "metadata": {
    "deletable": false,
    "editable": false,
    "nbgrader": {
     "grade": false,
     "grade_id": "cell-72371ca468475796",
     "locked": true,
     "schema_version": 3,
     "solution": false,
     "task": false
    }
   },
   "outputs": [],
   "source": [
    "user_index_45 = get_user_index(45)\n",
    "user_id_45 = get_user_id(45)\n",
    "movie_index_87 = get_movie_index(87)\n",
    "movie_id_98 = get_movie_id(98)"
   ]
  },
  {
   "cell_type": "code",
   "execution_count": null,
   "metadata": {
    "deletable": false,
    "editable": false,
    "nbgrader": {
     "grade": true,
     "grade_id": "cell-63f666f689c79a76",
     "locked": true,
     "points": 1,
     "schema_version": 3,
     "solution": false,
     "task": false
    }
   },
   "outputs": [],
   "source": [
    "assert hashlib.sha256(json.dumps(int(user_index_45)).encode()).hexdigest() == \"6b51d431df5d7f141cbececcf79edf3dd861c3b4069f0b11661a3eefacbba918\"\n",
    "assert hashlib.sha256(json.dumps(int(user_id_45)).encode()).hexdigest() == \"1dfacb2ea5a03e0a915999e03b5a56196f1b1664d2f768d1b7eff60ac059789d\"\n",
    "assert hashlib.sha256(json.dumps(int(movie_index_87)).encode()).hexdigest() == \"f74efabef12ea619e30b79bddef89cffa9dda494761681ca862cff2871a85980\"\n",
    "assert hashlib.sha256(json.dumps(int(movie_id_98)).encode()).hexdigest() == \"e5b861a6d8a966dfca7e7341cd3eb6be9901688d547a72ebed0b1f5e14f3d08d\""
   ]
  },
  {
   "cell_type": "markdown",
   "metadata": {
    "deletable": false,
    "editable": false,
    "nbgrader": {
     "grade": false,
     "grade_id": "cell-32813d87f38715a8",
     "locked": true,
     "schema_version": 3,
     "solution": false,
     "task": false
    }
   },
   "source": [
    "### 1.3 - Create a Ratings Matrix"
   ]
  },
  {
   "cell_type": "markdown",
   "metadata": {
    "deletable": false,
    "editable": false,
    "nbgrader": {
     "grade": false,
     "grade_id": "cell-3786ee9a17c7481c",
     "locked": true,
     "schema_version": 3,
     "solution": false,
     "task": false
    }
   },
   "source": [
    "Create a function called `create_ratings_matrix` that accepts the dataframe `df_ratings_transformed`,  that contains users' Ids as indexes, items' Ids as column names and ratings as values. \n",
    "The order of users and items in the `df_ratings_transformed` dataframe should be maintained in the ratings matrix."
   ]
  },
  {
   "cell_type": "code",
   "execution_count": null,
   "metadata": {
    "deletable": false,
    "nbgrader": {
     "grade": false,
     "grade_id": "cell-eb562bd06d152cf6",
     "locked": false,
     "schema_version": 3,
     "solution": true,
     "task": false
    }
   },
   "outputs": [],
   "source": [
    "def create_ratings_matrix(df_ratings_transformed):\n",
    "    \"\"\"\n",
    "    Creates a rating matrix from df_ratings_transformed, following the same organization of movies and users\n",
    "    \n",
    "    Parameters\n",
    "    ----------\n",
    "    df_ratings_transformed: pd.DataFrame\n",
    "    \n",
    "    Returns\n",
    "    -------\n",
    "    R : csr_matrix\n",
    "    \"\"\"\n",
    "    # R = ...\n",
    "    # YOUR CODE HERE\n",
    "    raise NotImplementedError()\n",
    "    return R"
   ]
  },
  {
   "cell_type": "code",
   "execution_count": null,
   "metadata": {
    "deletable": false,
    "editable": false,
    "nbgrader": {
     "grade": true,
     "grade_id": "cell-7147902c1cfe5670",
     "locked": true,
     "points": 2,
     "schema_version": 3,
     "solution": false,
     "task": false
    }
   },
   "outputs": [],
   "source": [
    "R = create_ratings_matrix(df_ratings_transformed)\n",
    "assert hashlib.sha256(json.dumps(int(R.shape[0])).encode()).hexdigest() == \"1d28c120568c10e19b9d8abe8b66d0983fa3d2e11ee7751aca50f83c6f4a43aa\"\n",
    "assert hashlib.sha256(json.dumps(int(R.shape[1])).encode()).hexdigest() == \"5c7b55dd4c978558ebd771143a57aa9825ca25ba65e6df89c7270fe10c7e9929\"\n",
    "assert hashlib.sha256(json.dumps(int(R[45].sum())).encode()).hexdigest() == \"fc9e91cc78e1817d80b4ba8c2dc9a638d0c57959825ee34f5e3d7688ad80dfb9\""
   ]
  },
  {
   "cell_type": "markdown",
   "metadata": {
    "deletable": false,
    "editable": false,
    "nbgrader": {
     "grade": false,
     "grade_id": "cell-aa4297c81933f067",
     "locked": true,
     "schema_version": 3,
     "solution": false,
     "task": false
    }
   },
   "source": [
    "\n",
    "# 2) Collaborative Filtering\n",
    "\n",
    "Now that we have the ratings matrix already built, let's calculate similarities and give recommendations based on it.\n",
    "\n",
    "\n",
    "## 2.1 -  Calculate Similarities\n",
    "\n",
    "Create a function, named `calculate_similarities`, that accepts a ratings matrix, and a string named `similarity_type`.    \n",
    "If `similarity_type` equals `users`, that indicates that we want to return the users similarity, if it equals `items`, it indicates that we want the items similarity."
   ]
  },
  {
   "cell_type": "code",
   "execution_count": null,
   "metadata": {
    "deletable": false,
    "nbgrader": {
     "grade": false,
     "grade_id": "cell-7ba0f4b6ac6e6c79",
     "locked": false,
     "schema_version": 3,
     "solution": true,
     "task": false
    }
   },
   "outputs": [],
   "source": [
    "def calculate_similarities(ratings_matrix, similarity_type):\n",
    "    \"\"\"\n",
    "    Get the cosine similarity between users.\n",
    "    \n",
    "    Parameters\n",
    "    ----------\n",
    "    ratings_matrix : csr_matrix\n",
    "              Ratings matrix.\n",
    "              \n",
    "    similarity_type: str, \"users\" or \"items\"\n",
    "\n",
    "    Returns\n",
    "    -------\n",
    "    similarities : csr_matrix\n",
    "                        sparse representation of the cosine similarity between users or items.\n",
    "    \"\"\"\n",
    "    # similarities = ...\n",
    "    # YOUR CODE HERE\n",
    "    raise NotImplementedError()\n",
    "    return similarities"
   ]
  },
  {
   "cell_type": "code",
   "execution_count": null,
   "metadata": {
    "deletable": false,
    "editable": false,
    "nbgrader": {
     "grade": true,
     "grade_id": "cell-7565813cf2d25920",
     "locked": true,
     "points": 2,
     "schema_version": 3,
     "solution": false,
     "task": false
    }
   },
   "outputs": [],
   "source": [
    "users_similarities = calculate_similarities(ratings_matrix=R, similarity_type=\"users\")\n",
    "assert isinstance(users_similarities, csr_matrix)\n",
    "items_similarities = calculate_similarities(ratings_matrix=R, similarity_type=\"items\")\n",
    "assert isinstance(items_similarities, csr_matrix)\n",
    "np.testing.assert_almost_equal(users_similarities[73].sum(), 38.97, 1)\n",
    "np.testing.assert_almost_equal(items_similarities[82].sum(), 1170.75, 1)"
   ]
  },
  {
   "cell_type": "markdown",
   "metadata": {
    "deletable": false,
    "editable": false,
    "nbgrader": {
     "grade": false,
     "grade_id": "cell-b9726c92a3d67781",
     "locked": true,
     "schema_version": 3,
     "solution": false,
     "task": false
    }
   },
   "source": [
    "## 2.2 - Calculate the nearest neighbor of a user"
   ]
  },
  {
   "cell_type": "markdown",
   "metadata": {
    "deletable": false,
    "editable": false,
    "nbgrader": {
     "grade": false,
     "grade_id": "cell-550e637b11231d24",
     "locked": true,
     "schema_version": 3,
     "solution": false,
     "task": false
    }
   },
   "source": [
    "John, that has the `userId` nº 25, wants to see a new movie and asked us for recommendations.    \n",
    "Let's first take a look at his past history. For that, we need to first merge the dataframe `df_ratings` with `df_movies`, on column `movieId`. This new dataframe is called `df_ratings_title` and has been created in the cell below for you."
   ]
  },
  {
   "cell_type": "code",
   "execution_count": null,
   "metadata": {
    "deletable": false,
    "editable": false,
    "nbgrader": {
     "grade": false,
     "grade_id": "cell-4406eb727a8049b9",
     "locked": true,
     "schema_version": 3,
     "solution": false,
     "task": false
    }
   },
   "outputs": [],
   "source": [
    "df_ratings_title = pd.merge(df_ratings, df_movies, on=\"movieId\", how=\"left\").sort_values(\"rating\", ascending=False)"
   ]
  },
  {
   "cell_type": "markdown",
   "metadata": {
    "deletable": false,
    "editable": false,
    "nbgrader": {
     "grade": false,
     "grade_id": "cell-b412b76cad4d0a85",
     "locked": true,
     "schema_version": 3,
     "solution": false,
     "task": false
    }
   },
   "source": [
    "Now let's only select and preview the information that corresponds to `John` on `df_ratings_title`."
   ]
  },
  {
   "cell_type": "code",
   "execution_count": null,
   "metadata": {
    "deletable": false,
    "editable": false,
    "nbgrader": {
     "grade": false,
     "grade_id": "cell-7a26a6a815d24ccc",
     "locked": true,
     "schema_version": 3,
     "solution": false,
     "task": false
    }
   },
   "outputs": [],
   "source": [
    "john_id = 25\n",
    "df_john = df_ratings_title[df_ratings_title.userId==john_id]\n",
    "df_john"
   ]
  },
  {
   "cell_type": "markdown",
   "metadata": {
    "deletable": false,
    "editable": false,
    "nbgrader": {
     "grade": false,
     "grade_id": "cell-354795d9714b426e",
     "locked": true,
     "schema_version": 3,
     "solution": false,
     "task": false
    }
   },
   "source": [
    "## 2.2.1  - Get Closest User"
   ]
  },
  {
   "cell_type": "markdown",
   "metadata": {
    "deletable": false,
    "editable": false,
    "nbgrader": {
     "grade": false,
     "grade_id": "cell-b1e27ab39bdfaf0c",
     "locked": true,
     "schema_version": 3,
     "solution": false,
     "task": false
    }
   },
   "source": [
    "Now we want to find out who is the most similar user to John. For that, let's build a function called `get_closest_user_id`, that accepts `users_similarities` and a `user_id`. It should return the id of the user who is most similar."
   ]
  },
  {
   "cell_type": "code",
   "execution_count": null,
   "metadata": {
    "deletable": false,
    "nbgrader": {
     "grade": false,
     "grade_id": "cell-cbf93a8d2861a14a",
     "locked": false,
     "schema_version": 3,
     "solution": true,
     "task": false
    }
   },
   "outputs": [],
   "source": [
    "def get_closest_user_id(users_similarities, user_id):\n",
    "    \"\"\"\n",
    "    Return the id of the closest user to user_id.\n",
    "    Hint: Use the utility functions to convert between id and index\n",
    "    \n",
    "    Parameters\n",
    "    ----------\n",
    "    users_similarities : csr_matrix\n",
    "    user_id: int\n",
    "    \n",
    "    Returns\n",
    "    -------\n",
    "    closest_user_id : int\n",
    "    \"\"\"\n",
    "    # closest_user_id = ...\n",
    "    # YOUR CODE HERE\n",
    "    raise NotImplementedError()\n",
    "    return closest_user_id"
   ]
  },
  {
   "cell_type": "markdown",
   "metadata": {
    "deletable": false,
    "editable": false,
    "nbgrader": {
     "grade": false,
     "grade_id": "cell-2f23b7f65c887cdc",
     "locked": true,
     "schema_version": 3,
     "solution": false,
     "task": false
    }
   },
   "source": [
    "With help of the function `get_closest_user_id`, let's see who is the closest user to John."
   ]
  },
  {
   "cell_type": "code",
   "execution_count": null,
   "metadata": {
    "deletable": false,
    "editable": false,
    "nbgrader": {
     "grade": false,
     "grade_id": "cell-fd83975777e86339",
     "locked": true,
     "schema_version": 3,
     "solution": false,
     "task": false
    }
   },
   "outputs": [],
   "source": [
    "closest_user_to_john = get_closest_user_id(users_similarities, john_id)\n",
    "\"The Id of the closest user to John is %s\" % str(closest_user_to_john)"
   ]
  },
  {
   "cell_type": "code",
   "execution_count": null,
   "metadata": {
    "deletable": false,
    "editable": false,
    "nbgrader": {
     "grade": true,
     "grade_id": "cell-424b8fa117620dcc",
     "locked": true,
     "points": 2,
     "schema_version": 3,
     "solution": false,
     "task": false
    }
   },
   "outputs": [],
   "source": [
    "assert  hashlib.sha256(json.dumps(int(closest_user_to_john)).encode()).hexdigest() == \"624b60c58c9d8bfb6ff1886c2fd605d2adeb6ea4da576068201b6c6958ce93f4\""
   ]
  },
  {
   "cell_type": "markdown",
   "metadata": {},
   "source": [
    "Let's take a look at the movies rated by the user most similar to John."
   ]
  },
  {
   "cell_type": "code",
   "execution_count": null,
   "metadata": {},
   "outputs": [],
   "source": [
    "df_closest_user = df_ratings_title[df_ratings_title[\"userId\"] == closest_user_to_john]\n",
    "df_closest_user"
   ]
  },
  {
   "cell_type": "markdown",
   "metadata": {
    "deletable": false,
    "editable": false,
    "nbgrader": {
     "grade": false,
     "grade_id": "cell-a619dd320e606b14",
     "locked": true,
     "schema_version": 3,
     "solution": false,
     "task": false
    }
   },
   "source": [
    "## 2.3 - Get recommendations from the closest user"
   ]
  },
  {
   "cell_type": "markdown",
   "metadata": {
    "deletable": false,
    "editable": false,
    "nbgrader": {
     "grade": false,
     "grade_id": "cell-2b8a4ea22ad82af5",
     "locked": true,
     "schema_version": 3,
     "solution": false,
     "task": false
    }
   },
   "source": [
    "Create a function called `get_closest_user_recommendations`, that accepts the dataframe `df_user` and `df_closest_user`, and returns a dataframe with `genres`, `movieId`, `title` and `year` of the movies watched by the closest user, with a rating greater than 2, that the user hasn't watched yet."
   ]
  },
  {
   "cell_type": "code",
   "execution_count": null,
   "metadata": {
    "deletable": false,
    "nbgrader": {
     "grade": false,
     "grade_id": "cell-d6dcef57cc70293a",
     "locked": false,
     "schema_version": 3,
     "solution": true,
     "task": false
    }
   },
   "outputs": [],
   "source": [
    "def get_closest_user_recommendations(df_user, df_closest_user):\n",
    "    \"\"\"\n",
    "    Get the movies on df_closest_user, that are not on df_user and have ratings bigger than 2\n",
    "    \n",
    "    Parameters\n",
    "    ----------\n",
    "    df_user : pd.DataFrame\n",
    "    df_closest_user: pd.DataFrame\n",
    "    \n",
    "    Returns\n",
    "    -------\n",
    "    df_new_movies : pd.DataFrame\n",
    "    \"\"\"\n",
    "    # df_new_movies = ...\n",
    "    # YOUR CODE HERE\n",
    "    raise NotImplementedError()\n",
    "    return df_new_movies"
   ]
  },
  {
   "cell_type": "code",
   "execution_count": null,
   "metadata": {
    "deletable": false,
    "editable": false,
    "nbgrader": {
     "grade": true,
     "grade_id": "cell-5ff930902eadd30b",
     "locked": true,
     "points": 1,
     "schema_version": 3,
     "solution": false,
     "task": false
    }
   },
   "outputs": [],
   "source": [
    "user_recommendations = get_closest_user_recommendations(df_john, df_closest_user)\n",
    "assert list(user_recommendations.columns.sort_values()) == ['genres', 'movieId', 'title', 'year']\n",
    "assert  hashlib.sha256(json.dumps(int(user_recommendations.movieId.sum())).encode()).hexdigest() == \"ad0d7f127516cc1330d5d41d6cab963a831fc6d563568f0b8417f6d7e544f13b\"\n",
    "assert hashlib.sha256(json.dumps(int(user_recommendations.movieId.sort_values().iloc[1])).encode()).hexdigest() == \"5d8f6cce532a7aeb57196be62344095936793400b3aeb3580d248b17d5518a86\"\n",
    "print(\"Those are the movies that the closest user to John can recommend to him.\")\n",
    "user_recommendations"
   ]
  },
  {
   "cell_type": "markdown",
   "metadata": {
    "deletable": false,
    "editable": false,
    "nbgrader": {
     "grade": false,
     "grade_id": "cell-8fc58c4991132154",
     "locked": true,
     "schema_version": 3,
     "solution": false,
     "task": false
    }
   },
   "source": [
    "## 2.4 - Get Users Predictions with collaborative filtering\n",
    "Let's build a function, named `make_user_predictions`, that predicts the user's ratings, for the movies that haven't been rated by the users yet, based on the user's ratings and similarities between them. "
   ]
  },
  {
   "cell_type": "code",
   "execution_count": null,
   "metadata": {
    "deletable": false,
    "nbgrader": {
     "grade": false,
     "grade_id": "cell-4b927f9157112c21",
     "locked": false,
     "schema_version": 3,
     "solution": true,
     "task": false
    }
   },
   "outputs": [],
   "source": [
    "def make_user_predictions(users_similarities, R):\n",
    "    \"\"\"\n",
    "    Parameters\n",
    "    ----------\n",
    "    users_similarities : csr_matrix, shape: (n_users, n_users)\n",
    "                Matrix with the similarities between users.\n",
    "    \n",
    "    R : csr_matrix, shape: (n_users, n_items)\n",
    "        Matrix with the available ratings.\n",
    "    \n",
    "    Returns\n",
    "    -------\n",
    "    users_predictions : csr_matrix, shape: (n_users, n_items)\n",
    "                        Ratings predictions.\n",
    "    \"\"\"\n",
    "    # users_predictions = ...\n",
    "    # YOUR CODE HERE\n",
    "    raise NotImplementedError()\n",
    "    return users_predictions"
   ]
  },
  {
   "cell_type": "code",
   "execution_count": null,
   "metadata": {
    "deletable": false,
    "editable": false,
    "nbgrader": {
     "grade": true,
     "grade_id": "cell-2eb483cbd08d7c67",
     "locked": true,
     "points": 2,
     "schema_version": 3,
     "solution": false,
     "task": false
    }
   },
   "outputs": [],
   "source": [
    "users_predictions = make_user_predictions(users_similarities, R)\n",
    "assert hashlib.sha256(json.dumps(users_predictions.shape[0]).encode()).hexdigest() == \"1d28c120568c10e19b9d8abe8b66d0983fa3d2e11ee7751aca50f83c6f4a43aa\"\n",
    "assert hashlib.sha256(json.dumps(users_predictions.shape[1]).encode()).hexdigest() == \"5c7b55dd4c978558ebd771143a57aa9825ca25ba65e6df89c7270fe10c7e9929\"\n",
    "assert hashlib.sha256(json.dumps((users_predictions == 0).size).encode()).hexdigest() == \"bcdbafca562b7a2eaf193e1802357698be9870e0b354ce92a3bd03d22b4043ea\"\n",
    "np.testing.assert_almost_equal(users_predictions[33].sum(), 28672.67, 1)\n",
    "assert hashlib.sha256(json.dumps(round(users_predictions[34].toarray()[0][5], 1)).encode()).hexdigest() == \"04125177931fbd4afa4af7296dbdc95e9f209268cb4518f08aa568aa503993a2\""
   ]
  },
  {
   "cell_type": "markdown",
   "metadata": {
    "deletable": false,
    "editable": false,
    "nbgrader": {
     "grade": false,
     "grade_id": "cell-fd11dfac840b2729",
     "locked": true,
     "schema_version": 3,
     "solution": false,
     "task": false
    }
   },
   "source": [
    "## 2.5 - Get top 10 movies"
   ]
  },
  {
   "cell_type": "markdown",
   "metadata": {
    "deletable": false,
    "editable": false,
    "nbgrader": {
     "grade": false,
     "grade_id": "cell-f394be590625e6b8",
     "locked": true,
     "schema_version": 3,
     "solution": false,
     "task": false
    }
   },
   "source": [
    "From users predictions, let's create a function named `get_top_n`, that returns, by default, the top 10 unseen movies, with the greatest predicted rating, for a given user Id."
   ]
  },
  {
   "cell_type": "code",
   "execution_count": null,
   "metadata": {
    "deletable": false,
    "nbgrader": {
     "grade": false,
     "grade_id": "cell-04f3e47dbc84e1d6",
     "locked": false,
     "schema_version": 3,
     "solution": true,
     "task": false
    }
   },
   "outputs": [],
   "source": [
    "def get_top_n(users_predictions, user_id, n=10):\n",
    "    \"\"\"\n",
    "    Returns the top n movies for a given user\n",
    "    \n",
    "    Hint: Use the utility functions to convert between id and index\n",
    "    \n",
    "    Parameters\n",
    "    ----------\n",
    "    users_predictions : csr_matrix, shape: (n_users, n_items)\n",
    "                        Ratings predictions.\n",
    "    \n",
    "    user_id: int\n",
    "    \n",
    "    n: int\n",
    "    \n",
    "    Returns\n",
    "    -------\n",
    "    movies_ids : list\n",
    "    \"\"\"\n",
    "    # movies_ids = ...\n",
    "    # YOUR CODE HERE\n",
    "    raise NotImplementedError()\n",
    "    return movies_ids"
   ]
  },
  {
   "cell_type": "code",
   "execution_count": null,
   "metadata": {
    "deletable": false,
    "editable": false,
    "nbgrader": {
     "grade": true,
     "grade_id": "cell-a71327ba24c1cd00",
     "locked": true,
     "points": 1,
     "schema_version": 3,
     "solution": false,
     "task": false
    }
   },
   "outputs": [],
   "source": [
    "top_movies_ids = get_top_n(users_predictions,john_id)\n",
    "assert hashlib.sha256(json.dumps(int(sum(top_movies_ids))).encode()).hexdigest() == \"ce03c60619dc47c9cc0818d5da415a3d73918806fce620c6fa0f257415c8e1c9\"\n",
    "assert hashlib.sha256(json.dumps(int(len(top_movies_ids))).encode()).hexdigest() == \"4a44dc15364204a80fe80e9039455cc1608281820fe2b24f1e5233ade6af1dd5\"\n",
    "print(\"Those are the top 10 movies that we can recommend to John using collaborative filtering.\")\n",
    "df_movies.loc[top_movies_ids]"
   ]
  },
  {
   "cell_type": "markdown",
   "metadata": {
    "deletable": false,
    "editable": false,
    "nbgrader": {
     "grade": false,
     "grade_id": "cell-bf5b9fc76e784e53",
     "locked": true,
     "schema_version": 3,
     "solution": false,
     "task": false
    }
   },
   "source": [
    "# 3) Content-based Filtering"
   ]
  },
  {
   "cell_type": "markdown",
   "metadata": {
    "deletable": false,
    "editable": false,
    "nbgrader": {
     "grade": false,
     "grade_id": "cell-94edc58f987a065c",
     "locked": true,
     "schema_version": 3,
     "solution": false,
     "task": false
    }
   },
   "source": [
    "Now let's do predictions based on the characteristics of the items themselves.    \n",
    "For that purpose, we can make use of the `tag.csv` dataset to describe the movies."
   ]
  },
  {
   "cell_type": "markdown",
   "metadata": {
    "deletable": false,
    "editable": false,
    "nbgrader": {
     "grade": false,
     "grade_id": "cell-7cb6f5d54a6cce32",
     "locked": true,
     "schema_version": 3,
     "solution": false,
     "task": false
    }
   },
   "source": [
    "## 3.1 - Processing the Tags"
   ]
  },
  {
   "cell_type": "markdown",
   "metadata": {
    "deletable": false,
    "editable": false,
    "nbgrader": {
     "grade": false,
     "grade_id": "cell-d89c503f1e247864",
     "locked": true,
     "schema_version": 3,
     "solution": false,
     "task": false
    }
   },
   "source": [
    "Since we have multiple tags for the same movie, we can join them on a single string (document), for each movie, to describe it.   \n",
    "Create a function named `create_movie_document_tags`, that applies the following processing to tags:  \n",
    "- Remove whitespaces for multi-word tags;\n",
    "- Lowercase tags; \n",
    "- Join all the tags in a single document, separated by comma;   \n",
    "\n",
    "Then, returns a series that has the correspondence between `movieId` and all the given `tags`, in a single document, already processed. The series should have `movieId` as index.  "
   ]
  },
  {
   "cell_type": "code",
   "execution_count": null,
   "metadata": {
    "deletable": false,
    "nbgrader": {
     "grade": false,
     "grade_id": "cell-6394b2a5662fff0d",
     "locked": false,
     "schema_version": 3,
     "solution": true,
     "task": false
    }
   },
   "outputs": [],
   "source": [
    "def create_movie_document_tags(df):\n",
    "    \"\"\"\n",
    "    1st step of preprocessing the movies contents.\n",
    "    Join the multiple tags (lower cased and without spaces) in a single row for each movie, with the tags separated by a space.\n",
    "    \n",
    "    Parameters\n",
    "    ----------\n",
    "    df : pd.DataFrame\n",
    "              Original dataframe for the tags\n",
    "              \n",
    "    Returns\n",
    "    -------\n",
    "    tags : pd.Series\n",
    "                        Series with movieId as Index and the multiple tags in a document.\n",
    "    \"\"\"\n",
    "    # tags = ...\n",
    "    # YOUR CODE HERE\n",
    "    raise NotImplementedError()\n",
    "    return tags"
   ]
  },
  {
   "cell_type": "code",
   "execution_count": null,
   "metadata": {
    "deletable": false,
    "editable": false,
    "nbgrader": {
     "grade": true,
     "grade_id": "cell-2f64ce9a11bd0ff5",
     "locked": true,
     "points": 2,
     "schema_version": 3,
     "solution": false,
     "task": false
    }
   },
   "outputs": [],
   "source": [
    "df_document_tags = create_movie_document_tags(df_tags)\n",
    "assert isinstance(df_document_tags, pd.Series)\n",
    "assert df_document_tags.shape[0] == 1551\n",
    "assert hashlib.sha256(json.dumps(df_document_tags.loc[50]).encode()).hexdigest() == \"a3bbafd77ce83eac3385449cebf8f7db4d5174b30da52e7cbdc35550e4d547cd\""
   ]
  },
  {
   "cell_type": "markdown",
   "metadata": {
    "deletable": false,
    "editable": false,
    "nbgrader": {
     "grade": false,
     "grade_id": "cell-eb5c8452dbe626cd",
     "locked": true,
     "schema_version": 3,
     "solution": false,
     "task": false
    }
   },
   "source": [
    "## 3.2 - Add more information about movies"
   ]
  },
  {
   "cell_type": "markdown",
   "metadata": {
    "deletable": false,
    "editable": false,
    "nbgrader": {
     "grade": false,
     "grade_id": "cell-5955a93d0dc5e270",
     "locked": true,
     "schema_version": 3,
     "solution": false,
     "task": false
    }
   },
   "source": [
    "From the dataframe `df_movies`, create a new dataframe named `df_movies_processed`, with `movieId` as the index. Create a new column named `decade`, from the column `year` with help of the function `extract_decade` below. After creating the column `decade`, drop the column `year`.   \n",
    "Also, clean the column `genres` in order to have each genre in lower case, without spaces (in the cases where each genre has more than one word), and separate genres with one space.   \n",
    "Finally, join the serie `df_document_tags` by `movieId` and give the name `tags` to the new column created.  \n",
    "If there is any missing values, fill them with empty strings.   \n",
    "Select only the movies that have ratings, assign it to `df_movies_processed_w_ratings`, and keep the same order they appear in the ratings matrix.   "
   ]
  },
  {
   "cell_type": "code",
   "execution_count": null,
   "metadata": {
    "deletable": false,
    "editable": false,
    "nbgrader": {
     "grade": false,
     "grade_id": "cell-02c603a67bc6b09b",
     "locked": true,
     "schema_version": 3,
     "solution": false,
     "task": false
    }
   },
   "outputs": [],
   "source": [
    "def extract_decade(value):\n",
    "    try: \n",
    "        decade = int(10*round(value/10))\n",
    "        return str(decade)\n",
    "    except:\n",
    "        return \"\""
   ]
  },
  {
   "cell_type": "code",
   "execution_count": null,
   "metadata": {
    "deletable": false,
    "nbgrader": {
     "grade": false,
     "grade_id": "cell-3133fcaddcded315",
     "locked": false,
     "schema_version": 3,
     "solution": true,
     "task": false
    }
   },
   "outputs": [],
   "source": [
    "df_movies_processed = df_movies[[\"genres\", \"year\"]]\n",
    "# df_movies_processed[\"decade\"] = ...\n",
    "# df_movies_processed[\"genres\"] = ...\n",
    "# df_movies_processed[\"tags\"] = ...\n",
    "# df_movies_processed_w_ratings = ...\n",
    "# YOUR CODE HERE\n",
    "raise NotImplementedError()"
   ]
  },
  {
   "cell_type": "code",
   "execution_count": null,
   "metadata": {
    "deletable": false,
    "editable": false,
    "nbgrader": {
     "grade": true,
     "grade_id": "cell-29392df2bc0e9a00",
     "locked": true,
     "points": 1,
     "schema_version": 3,
     "solution": false,
     "task": false
    }
   },
   "outputs": [],
   "source": [
    "assert df_movies_processed_w_ratings.shape == (9298, 3)\n",
    "assert ('genres' and 'decade' and 'tags') in df_movies_processed_w_ratings.columns\n",
    "assert hashlib.sha256(json.dumps(int(sum(df_movies_processed_w_ratings.index))).encode()).hexdigest() == \"131cb34d8c2b760e68aca73489b1adb4df2bac32813f0f094ebf425fe93cc037\"\n",
    "assert hashlib.sha256(json.dumps(df_movies_processed_w_ratings.iloc[58].decade).encode()).hexdigest() == \"637116a317aaf00163e5ae8e254bd0fa5625603b98429d84f87e5c8c5240e350\"\n",
    "assert hashlib.sha256(json.dumps(df_movies_processed_w_ratings.iloc[58].genres).encode()).hexdigest() == \"2a82415726224b3ddf84350f8d9f94213c447329073f7bc9096abbc8dcfa9660\"\n",
    "assert hashlib.sha256(json.dumps(df_movies_processed_w_ratings.iloc[58].tags).encode()).hexdigest() == \"12ae32cb1ec02d01eda3581b127c1fee3b0dc53572ed6baf239721a03d82e126\"\n",
    "assert df_movies_processed_w_ratings[df_movies_processed_w_ratings.tags==\"\"].size == 23307\n",
    "df_movies_processed_w_ratings.head()"
   ]
  },
  {
   "cell_type": "markdown",
   "metadata": {
    "deletable": false,
    "editable": false,
    "nbgrader": {
     "grade": false,
     "grade_id": "cell-1eb78679f7200351",
     "locked": true,
     "schema_version": 3,
     "solution": false,
     "task": false
    }
   },
   "source": [
    "## 3.3 - Calculate the Profiles for the Items   \n",
    "### 3.3.1 - Calculate the tf-idf\n",
    "\n",
    "Create a function named `get_tf_idf`, that accepts a pandas series where the values are type `str`, and returns the correspondent tf-idf for that serie."
   ]
  },
  {
   "cell_type": "code",
   "execution_count": null,
   "metadata": {
    "deletable": false,
    "nbgrader": {
     "grade": false,
     "grade_id": "cell-810408e9f169b757",
     "locked": false,
     "schema_version": 3,
     "solution": true,
     "task": false
    }
   },
   "outputs": [],
   "source": [
    "def get_tf_idf(doc_series: pd.Series):\n",
    "    \"\"\"\n",
    "    Generates the tf-idf of doc_series\n",
    "    \n",
    "    Parameters\n",
    "    ----------\n",
    "    doc_series : pd.Series, shape:(n_items, )\n",
    "              serie where elements are of type str\n",
    "              \n",
    "    Returns\n",
    "    -------\n",
    "    doc_tf_idf : csr_matrix, shape: (n_items, n_tfidf_features)\n",
    "    \"\"\"\n",
    "    # YOUR CODE HERE\n",
    "    raise NotImplementedError()\n",
    "    return doc_tf_idf"
   ]
  },
  {
   "cell_type": "code",
   "execution_count": null,
   "metadata": {
    "deletable": false,
    "editable": false,
    "nbgrader": {
     "grade": true,
     "grade_id": "cell-61a2eb080d104894",
     "locked": true,
     "points": 1,
     "schema_version": 3,
     "solution": false,
     "task": false
    }
   },
   "outputs": [],
   "source": [
    "tag_tf_idf  = get_tf_idf(df_movies_processed_w_ratings[\"tags\"])\n",
    "assert tag_tf_idf.shape == (9298, 1458)\n",
    "np.testing.assert_almost_equal(tag_tf_idf[:, 5].toarray().sum(), 2.26, 2)"
   ]
  },
  {
   "cell_type": "markdown",
   "metadata": {
    "deletable": false,
    "editable": false,
    "nbgrader": {
     "grade": false,
     "grade_id": "cell-5ab9a7084c94c594",
     "locked": true,
     "schema_version": 3,
     "solution": false,
     "task": false
    }
   },
   "source": [
    "### 3.3.2 - Calculate items profile"
   ]
  },
  {
   "cell_type": "markdown",
   "metadata": {
    "deletable": false,
    "editable": false,
    "nbgrader": {
     "grade": false,
     "grade_id": "cell-c93858b37dd602c3",
     "locked": true,
     "schema_version": 3,
     "solution": false,
     "task": false
    }
   },
   "source": [
    "Let's now create an item's profile that contains information regarding `tags`, `genres`, and `decades`. "
   ]
  },
  {
   "cell_type": "markdown",
   "metadata": {
    "deletable": false,
    "editable": false,
    "nbgrader": {
     "grade": false,
     "grade_id": "cell-28db82386ba682c1",
     "locked": true,
     "schema_version": 3,
     "solution": false,
     "task": false
    }
   },
   "source": [
    "Create a function named `get_items_profile`, that accepts a dataframe, calculates tf-idf for each column, concatenates horizontally all the  csr_matrix that are a result of the tf-idf, and returns it as a csr_matrix.        \n",
    "Hint: Use the function `get_if_idf` and the method `np.hstack`."
   ]
  },
  {
   "cell_type": "code",
   "execution_count": null,
   "metadata": {
    "deletable": false,
    "nbgrader": {
     "grade": false,
     "grade_id": "cell-04e8da78ee6158a6",
     "locked": false,
     "schema_version": 3,
     "solution": true,
     "task": false
    }
   },
   "outputs": [],
   "source": [
    "def get_items_profile(df: pd.DataFrame):   \n",
    "    \"\"\"\n",
    "    Creates the item profiles from tf-idf applied to all the columns on df\n",
    "    \n",
    "    Parameters\n",
    "    ----------\n",
    "    df : pd.DataFrame, shape:(n_items, n_features)\n",
    "              \n",
    "              \n",
    "    Returns\n",
    "    -------\n",
    "    item_profiles : csr_matrix, shape: (n_items, n_tfidf_features)\n",
    "    \"\"\"\n",
    "    # item_profiles = ...\n",
    "    # YOUR CODE HERE\n",
    "    raise NotImplementedError()\n",
    "    return item_profiles"
   ]
  },
  {
   "cell_type": "code",
   "execution_count": null,
   "metadata": {
    "deletable": false,
    "editable": false,
    "nbgrader": {
     "grade": true,
     "grade_id": "cell-b7dc880fad53861e",
     "locked": true,
     "points": 1,
     "schema_version": 3,
     "solution": false,
     "task": false
    }
   },
   "outputs": [],
   "source": [
    "item_profiles = get_items_profile(df_movies_processed_w_ratings)\n",
    "assert item_profiles.shape == (9298, 1493)\n",
    "assert hashlib.sha256(json.dumps(int(item_profiles[45, :].toarray()[0].sum())).encode()).hexdigest() == \"ef2d127de37b942baad06145e54b0c619a1f22327b2ebbcfbec78f5564afe39d\""
   ]
  },
  {
   "cell_type": "markdown",
   "metadata": {
    "deletable": false,
    "editable": false,
    "nbgrader": {
     "grade": false,
     "grade_id": "cell-814515cc2a92c161",
     "locked": true,
     "schema_version": 3,
     "solution": false,
     "task": false
    }
   },
   "source": [
    "## 3.4 - User Profiles\n",
    "The next step is to create a function called `make_user_profiles` that accepts the ratings matrix and the items profiles, calculates, and returns the user profiles."
   ]
  },
  {
   "cell_type": "code",
   "execution_count": null,
   "metadata": {
    "deletable": false,
    "nbgrader": {
     "grade": false,
     "grade_id": "cell-20bcd68441488e85",
     "locked": false,
     "schema_version": 3,
     "solution": true,
     "task": false
    }
   },
   "outputs": [],
   "source": [
    "# YOUR CODE HERE\n",
    "raise NotImplementedError()"
   ]
  },
  {
   "cell_type": "code",
   "execution_count": null,
   "metadata": {
    "deletable": false,
    "editable": false,
    "nbgrader": {
     "grade": true,
     "grade_id": "cell-4c85ea9dfea538d0",
     "locked": true,
     "points": 1,
     "schema_version": 3,
     "solution": false,
     "task": false
    }
   },
   "outputs": [],
   "source": [
    "user_profiles = make_user_profiles(R, item_profiles)\n",
    "assert user_profiles.shape == (147, 1493)\n",
    "assert hashlib.sha256(json.dumps(int(user_profiles[10, :].toarray()[0].sum())).encode()).hexdigest() == \"3c7f572560e6d2f14680d05690428dbedc48378a6b8015d86024428f36791dad\""
   ]
  },
  {
   "cell_type": "markdown",
   "metadata": {
    "deletable": false,
    "editable": false,
    "nbgrader": {
     "grade": false,
     "grade_id": "cell-d1ccca8b6ac23283",
     "locked": true,
     "schema_version": 3,
     "solution": false,
     "task": false
    }
   },
   "source": [
    "## 3.5 - The Moment of Truth\n",
    "Finally, let's make predictions, this time based not only on ratings, but also on items characteristics. "
   ]
  },
  {
   "cell_type": "code",
   "execution_count": null,
   "metadata": {
    "deletable": false,
    "nbgrader": {
     "grade": false,
     "grade_id": "cell-5ac2689623d9a18c",
     "locked": false,
     "schema_version": 3,
     "solution": true,
     "task": false
    }
   },
   "outputs": [],
   "source": [
    "#todo compare tfidf with tags vs tfidf for tags with one hot encode? for genre, decade and compare the results\n",
    "#\n",
    "def make_predictions(R, item_profiles, user_profiles):\n",
    "    \"\"\"\n",
    "    Make predictions based on the ratings matrix, the item profiles and the user profiles we calculated previously.\n",
    "    \n",
    "    \n",
    "    Parameters\n",
    "    ----------\n",
    "    R : csr_matrix. shape: (n_users, n_items)\n",
    "        Matrix containing the ratings initially assigned.\n",
    "        \n",
    "    item_profiles : csr_matrix. shape: (n_items, n_tfidf_features)\n",
    "                    Matrix containing the TF-IDF features calculated for the items.\n",
    "                    \n",
    "    user_profiles : csr_matrix. shape: (n_users, n_tfidf_features)\n",
    "                    Matrix containing the user profiles as the product of the ratings with the item profiles.\n",
    "                    \n",
    "                    \n",
    "    Returns\n",
    "    -------\n",
    "    predictions : csr_matrix. shape: (n_users, n_items)\n",
    "                  Matrix with the predictions. Already rated content is suppressed to 0.\n",
    "    \"\"\"\n",
    "    # YOUR CODE HERE\n",
    "    raise NotImplementedError()\n",
    "    return predictions"
   ]
  },
  {
   "cell_type": "code",
   "execution_count": null,
   "metadata": {
    "deletable": false,
    "editable": false,
    "nbgrader": {
     "grade": true,
     "grade_id": "cell-001af6c8b8138140",
     "locked": true,
     "points": 2,
     "schema_version": 3,
     "solution": false,
     "task": false
    }
   },
   "outputs": [],
   "source": [
    "pred = make_predictions(R, item_profiles, user_profiles)\n",
    "assert pred.shape == (147, 9298)\n",
    "assert hashlib.sha256(json.dumps(int(pred[:, 50].toarray().sum())).encode()).hexdigest() == \"bbb965ab0c80d6538cf2184babad2a564a010376712012bd07b0af92dcd3097d\"\n",
    "assert hashlib.sha256(json.dumps(pred[pred == 0].size).encode()).hexdigest() == \"ade54f1d9e8f688033b38ac8289791a62e9e1b9fde4ea1eb8ae8cb7f3ac503a8\""
   ]
  },
  {
   "cell_type": "markdown",
   "metadata": {
    "deletable": false,
    "editable": false,
    "nbgrader": {
     "grade": false,
     "grade_id": "cell-d91941cf9c36e511",
     "locked": true,
     "schema_version": 3,
     "solution": false,
     "task": false
    }
   },
   "source": [
    "## 3.6 - Get Top-20 items for John (Not Graded)"
   ]
  },
  {
   "cell_type": "markdown",
   "metadata": {
    "deletable": false,
    "editable": false,
    "nbgrader": {
     "grade": false,
     "grade_id": "cell-a90bbe59493e101f",
     "locked": true,
     "schema_version": 3,
     "solution": false,
     "task": false
    }
   },
   "source": [
    "With these new predictions, we can give recommendations to John, having in account not only the ratings but also the movies' content."
   ]
  },
  {
   "cell_type": "code",
   "execution_count": null,
   "metadata": {
    "deletable": false,
    "editable": false,
    "nbgrader": {
     "grade": false,
     "grade_id": "cell-c1585e7213d67765",
     "locked": true,
     "schema_version": 3,
     "solution": false,
     "task": false
    }
   },
   "outputs": [],
   "source": [
    "top_movies_ids = get_top_n(pred, john_id, 20)\n",
    "df_movies.loc[top_movies_ids]"
   ]
  }
 ],
 "metadata": {
  "kernelspec": {
   "display_name": "Python 3",
   "language": "python",
   "name": "python3"
  },
  "language_info": {
   "codemirror_mode": {
    "name": "ipython",
    "version": 3
   },
   "file_extension": ".py",
   "mimetype": "text/x-python",
   "name": "python",
   "nbconvert_exporter": "python",
   "pygments_lexer": "ipython3",
   "version": "3.7.9"
  }
 },
 "nbformat": 4,
 "nbformat_minor": 2
}
