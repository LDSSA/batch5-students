{
 "cells": [
  {
   "cell_type": "code",
   "execution_count": null,
   "metadata": {
    "deletable": false,
    "editable": false,
    "nbgrader": {
     "grade": false,
     "grade_id": "cell-3b735b942b2009ce",
     "locked": true,
     "schema_version": 3,
     "solution": false,
     "task": false
    }
   },
   "outputs": [],
   "source": [
    "import os\n",
    "import pandas as pd\n",
    "import json\n",
    "import joblib\n",
    "import pickle\n",
    "import requests\n",
    "from sklearn.pipeline import make_pipeline, Pipeline\n",
    "from sklearn.model_selection import cross_val_score\n",
    "from category_encoders import OneHotEncoder\n",
    "from sklearn.compose import ColumnTransformer\n",
    "from sklearn.ensemble import RandomForestClassifier\n",
    "from sklearn.linear_model import LogisticRegression\n",
    "import warnings\n",
    "warnings.filterwarnings('ignore')"
   ]
  },
  {
   "cell_type": "markdown",
   "metadata": {
    "deletable": false,
    "editable": false,
    "nbgrader": {
     "grade": false,
     "grade_id": "cell-093ada1b8f5cf10b",
     "locked": true,
     "schema_version": 3,
     "solution": false,
     "task": false
    }
   },
   "source": [
    "The portuguese “Velho Banco”, wants to attract wealthier clients for one of its products. For this purpose, they want to predict the annual income of each person, based on the information those people provided to the bank.\n",
    "\n",
    "Your company has been hired to help with this situation, and you were assigned to create a service that should predict if person's annual income if above 50k. The service should answer with a Yes or No answer.\n",
    "\n",
    "These exercises will guide you on your task, step by step."
   ]
  },
  {
   "cell_type": "markdown",
   "metadata": {
    "deletable": false,
    "editable": false,
    "nbgrader": {
     "grade": false,
     "grade_id": "cell-9dda3087fc177930",
     "locked": true,
     "schema_version": 3,
     "solution": false,
     "task": false
    }
   },
   "source": [
    "### 1. Meet the data\n",
    "\n",
    "Start by getting familiar with the dataset, in file `salaries.csv`, adapted from [here](https://www.kaggle.com/wenruliu/adult-income-dataset).\n",
    "Each row in the dataset is about each client, and has 4 fields.\n",
    "\n",
    "4 features:\n",
    "\n",
    "- **age**: what is the age of the client\n",
    "- **education**: the school education of the client\n",
    "- **hours-per-week**: number of hours the person works per week\n",
    "- **native-country**: where the person is from\n",
    "\n",
    "And the target:\n",
    "- **salary**: if is above or bellow 50k\n",
    "\n",
    "We'll consider a potencial client for the product when the salary is above 50k."
   ]
  },
  {
   "cell_type": "code",
   "execution_count": null,
   "metadata": {
    "deletable": false,
    "editable": false,
    "nbgrader": {
     "grade": false,
     "grade_id": "cell-6c73de8f632d9425",
     "locked": true,
     "schema_version": 3,
     "solution": false,
     "task": false
    }
   },
   "outputs": [],
   "source": [
    "df = pd.read_csv(os.path.join(\"data\", \"salaries.csv\"))\n",
    "df.head()"
   ]
  },
  {
   "cell_type": "code",
   "execution_count": null,
   "metadata": {
    "deletable": false,
    "nbgrader": {
     "grade": false,
     "grade_id": "cell-07b7596b7c482937",
     "locked": false,
     "schema_version": 3,
     "solution": true,
     "task": false
    }
   },
   "outputs": [],
   "source": [
    "# Create a DataFrame with the 4 features: age, education, hours-per-week, native-country\n",
    "# Keep them in this order\n",
    "# X = ...\n",
    "\n",
    "# YOUR CODE HERE\n",
    "raise NotImplementedError()\n",
    "\n",
    "\n",
    "# Create a series with the target: salary\n",
    "# y = ...\n",
    "# YOUR CODE HERE\n",
    "raise NotImplementedError()"
   ]
  },
  {
   "cell_type": "code",
   "execution_count": null,
   "metadata": {
    "deletable": false,
    "editable": false,
    "nbgrader": {
     "grade": true,
     "grade_id": "cell-f5c67edf8e0decb5",
     "locked": true,
     "points": 1,
     "schema_version": 3,
     "solution": false,
     "task": false
    }
   },
   "outputs": [],
   "source": [
    "assert isinstance(X, pd.DataFrame)\n",
    "assert X.columns.tolist() == [\"age\", \"education\", \"hours-per-week\", \"native-country\"]\n",
    "\n",
    "assert isinstance(y, pd.Series)"
   ]
  },
  {
   "cell_type": "markdown",
   "metadata": {
    "deletable": false,
    "editable": false,
    "nbgrader": {
     "grade": false,
     "grade_id": "cell-5ecc8001c4919b62",
     "locked": true,
     "schema_version": 3,
     "solution": false,
     "task": false
    }
   },
   "source": [
    "### 2. Build a model\n",
    "\n",
    "Build a scikit model that predicts whether a person earns more than 50k, based on the features that you have available. Your model should be delivered as a scikit [Pipeline](https://scikit-learn.org/stable/modules/generated/sklearn.pipeline.Pipeline.html#sklearn.pipeline.Pipeline.predict_proba).\n",
    "\n",
    "Don't worry too much about the model's performance, anything better than random works! We'll focus on model performance in the next BLUs."
   ]
  },
  {
   "cell_type": "code",
   "execution_count": null,
   "metadata": {
    "deletable": false,
    "nbgrader": {
     "grade": false,
     "grade_id": "cell-41aff4c773d827da",
     "locked": false,
     "schema_version": 3,
     "solution": true,
     "task": false
    }
   },
   "outputs": [],
   "source": [
    "# Create the pipeline with your model\n",
    "# pipeline = ...\n",
    "# YOUR CODE HERE\n",
    "raise NotImplementedError()"
   ]
  },
  {
   "cell_type": "code",
   "execution_count": null,
   "metadata": {
    "deletable": false,
    "editable": false,
    "nbgrader": {
     "grade": true,
     "grade_id": "cell-7f6385b594764da7",
     "locked": true,
     "points": 2,
     "schema_version": 3,
     "solution": false,
     "task": false
    }
   },
   "outputs": [],
   "source": [
    "assert isinstance(pipeline, Pipeline)"
   ]
  },
  {
   "cell_type": "code",
   "execution_count": null,
   "metadata": {
    "deletable": false,
    "nbgrader": {
     "grade": false,
     "grade_id": "cell-e076246fb29c9928",
     "locked": false,
     "schema_version": 3,
     "solution": true,
     "task": false
    }
   },
   "outputs": [],
   "source": [
    "# Use cross validation with 5 folds and ROC_AUC as metric, to check your model's performance\n",
    "# roc_aucs = cross_val_score(...)\n",
    "# YOUR CODE HERE\n",
    "raise NotImplementedError()"
   ]
  },
  {
   "cell_type": "code",
   "execution_count": null,
   "metadata": {
    "deletable": false,
    "editable": false,
    "nbgrader": {
     "grade": true,
     "grade_id": "cell-044b10bfe1c9f942",
     "locked": true,
     "points": 2,
     "schema_version": 3,
     "solution": false,
     "task": false
    }
   },
   "outputs": [],
   "source": [
    "assert roc_aucs.mean() > 0.5"
   ]
  },
  {
   "cell_type": "code",
   "execution_count": null,
   "metadata": {
    "deletable": false,
    "nbgrader": {
     "grade": false,
     "grade_id": "cell-2648bddb36617860",
     "locked": false,
     "schema_version": 3,
     "solution": true,
     "task": false
    }
   },
   "outputs": [],
   "source": [
    "# Now fit the pipeline to all the training data\n",
    "# YOUR CODE HERE\n",
    "raise NotImplementedError()"
   ]
  },
  {
   "cell_type": "code",
   "execution_count": null,
   "metadata": {
    "deletable": false,
    "editable": false,
    "nbgrader": {
     "grade": true,
     "grade_id": "cell-1253351ba8bae163",
     "locked": true,
     "points": 2,
     "schema_version": 3,
     "solution": false,
     "task": false
    }
   },
   "outputs": [],
   "source": [
    "assert pipeline.predict_proba(X.head(1)).shape == (1, 2)"
   ]
  },
  {
   "cell_type": "markdown",
   "metadata": {},
   "source": [
    "### 3. Serialize all the things!\n",
    "\n",
    "Now we need to serialize three things:\n",
    "\n",
    "1. The column names in the correct order\n",
    "1. The fitted pipeline\n",
    "1. The dtypes of the columns of the training set"
   ]
  },
  {
   "cell_type": "code",
   "execution_count": null,
   "metadata": {},
   "outputs": [],
   "source": [
    "# This is a temporary directory where your serialized files will be saved\n",
    "# You can change it while working on the exercises locally,\n",
    "# but change it back to TMP_DIR = '/tmp' before submitting the exercises,\n",
    "# otherwise grading will fail\n",
    "TMP_DIR = '/tmp'"
   ]
  },
  {
   "cell_type": "code",
   "execution_count": null,
   "metadata": {
    "deletable": false,
    "nbgrader": {
     "grade": false,
     "grade_id": "cell-5c005f7797fa6539",
     "locked": false,
     "schema_version": 3,
     "solution": true,
     "task": false
    }
   },
   "outputs": [],
   "source": [
    "# Serialize the column names from the X DataFrame into a file named columns.json\n",
    "# YOUR CODE HERE\n",
    "raise NotImplementedError()"
   ]
  },
  {
   "cell_type": "code",
   "execution_count": null,
   "metadata": {
    "deletable": false,
    "editable": false,
    "nbgrader": {
     "grade": true,
     "grade_id": "cell-05b83e3ddf3da045",
     "locked": true,
     "points": 1,
     "schema_version": 3,
     "solution": false,
     "task": false
    }
   },
   "outputs": [],
   "source": [
    "with open(os.path.join(TMP_DIR, \"columns.json\"), 'r') as fh:\n",
    "    columns = json.load(fh)\n",
    "    \n",
    "assert columns == X.columns.tolist()"
   ]
  },
  {
   "cell_type": "code",
   "execution_count": null,
   "metadata": {
    "deletable": false,
    "nbgrader": {
     "grade": false,
     "grade_id": "cell-07af2c8ac79550f7",
     "locked": false,
     "schema_version": 3,
     "solution": true,
     "task": false
    }
   },
   "outputs": [],
   "source": [
    "# Pickle the dtypes of the columns from the X DataFrame into a file named dtypes.pickle\n",
    "# YOUR CODE HERE\n",
    "raise NotImplementedError()"
   ]
  },
  {
   "cell_type": "code",
   "execution_count": null,
   "metadata": {
    "deletable": false,
    "editable": false,
    "nbgrader": {
     "grade": true,
     "grade_id": "cell-47e4637e8d8e2a64",
     "locked": true,
     "points": 1,
     "schema_version": 3,
     "solution": false,
     "task": false
    }
   },
   "outputs": [],
   "source": [
    "with open(os.path.join(TMP_DIR, \"dtypes.pickle\"), 'rb') as fh:\n",
    "    dtypes = pickle.load(fh)\n",
    "    \n",
    "assert dtypes.equals(X.dtypes)"
   ]
  },
  {
   "cell_type": "code",
   "execution_count": null,
   "metadata": {
    "deletable": false,
    "nbgrader": {
     "grade": false,
     "grade_id": "cell-83f3ebc142010e9f",
     "locked": false,
     "schema_version": 3,
     "solution": true,
     "task": false
    }
   },
   "outputs": [],
   "source": [
    "# Pickle the fitted pipeline into a file named pipeline.pickle\n",
    "# YOUR CODE HERE\n",
    "raise NotImplementedError()"
   ]
  },
  {
   "cell_type": "code",
   "execution_count": null,
   "metadata": {
    "deletable": false,
    "editable": false,
    "nbgrader": {
     "grade": true,
     "grade_id": "cell-aacbc4873f79af3c",
     "locked": true,
     "points": 1,
     "schema_version": 3,
     "solution": false,
     "task": false
    }
   },
   "outputs": [],
   "source": [
    "pipeline_recovered = joblib.load(os.path.join(TMP_DIR, \"pipeline.pickle\"))\n",
    "\n",
    "assert isinstance(pipeline_recovered, Pipeline)\n",
    "assert pipeline_recovered.predict_proba(X.head(1)).shape == (1, 2)"
   ]
  },
  {
   "cell_type": "markdown",
   "metadata": {
    "deletable": false,
    "editable": false,
    "nbgrader": {
     "grade": false,
     "grade_id": "cell-842958da0ca18608",
     "locked": true,
     "schema_version": 3,
     "solution": false,
     "task": false
    }
   },
   "source": [
    "### 4. Create a new repo for your service\n",
    "\n",
    "Now it's time to create a new repo for your service. As you learned in the README of the [heroku-model-deploy repository](https://github.com/LDSSA/heroku-model-deploy), duplicate the heroku-model-deploy repo.\n",
    "\n",
    "From this point on, you should code on the new repo. The remaining exercises in this notebook are questions meant to check if your service is working as expected.\n",
    "\n",
    "After you've setup your new repo, copy the following things over there:\n",
    "- `columns.json` file\n",
    "- `dtypes.pickle` file\n",
    "- `pipeline.pickle` file\n",
    "- the package containing custom code in your model (only if you've used it, of course!)."
   ]
  },
  {
   "cell_type": "markdown",
   "metadata": {
    "deletable": false,
    "editable": false,
    "nbgrader": {
     "grade": false,
     "grade_id": "cell-348c4399be9f23a8",
     "locked": true,
     "schema_version": 3,
     "solution": false,
     "task": false
    }
   },
   "source": [
    "### 5. Build your flask app\n",
    "\n",
    "#### /predict\n",
    "\n",
    "At this point, you can either edit the `app.py` file that's in the repo, or start a new file from scratch.\n",
    "My advice is that you start one from scratch, as it will probably be a better learning experience.\n",
    "\n",
    "Start by creating a `predict` endpoint, that should receive POST requests, and a JSON payload with:\n",
    "- id\n",
    "- observation, which has 4 fields: age, education, hours-per-week, native-country.\n",
    "\n",
    "This endpoint should return the proba returned by your model for this observation.\n",
    "Make sure that each field is in the correct format before passing it to the scikit model. If you receive an observation with an invalid value, return an appropriate error message.\n",
    "\n",
    "When a request is received, you should update your local sqlite database with the following:\n",
    "- id\n",
    "- observation\n",
    "- proba\n",
    "- true_class (which is null for now)\n",
    "\n",
    "In case your app has received an observation with an id that it has seen before, it should return an error message, the correspondent proba, and don't store anything.\n",
    "\n",
    "Try the following commands to check that everything is working as expected."
   ]
  },
  {
   "cell_type": "markdown",
   "metadata": {
    "deletable": false,
    "editable": false,
    "nbgrader": {
     "grade": false,
     "grade_id": "cell-323d5162ea6c0008",
     "locked": true,
     "schema_version": 3,
     "solution": false,
     "task": false
    }
   },
   "source": [
    "**Command**\n",
    "\n",
    "```bash\n",
    "~ > curl -X POST http://localhost:5000/predict -d '{\"id\": 0, \"observation\": {\"age\": 45, \"education\": \"Bachelors\", \"hours-per-week\": 45, \"native-country\": \"United-States\"}}' -H \"Content-Type:application/json\"\n",
    "```\n",
    "\n",
    "\n",
    "**Expected output**\n",
    "\n",
    "```json\n",
    "{\n",
    "  \"proba\": 0.3\n",
    "}\n",
    "```\n",
    "\n",
    "(any proba value works, it depends on your model, of course!)"
   ]
  },
  {
   "cell_type": "markdown",
   "metadata": {
    "deletable": false,
    "editable": false,
    "nbgrader": {
     "grade": false,
     "grade_id": "cell-255b3138647074b8",
     "locked": true,
     "schema_version": 3,
     "solution": false,
     "task": false
    }
   },
   "source": [
    "**Command**\n",
    "\n",
    "```bash\n",
    "~ > curl -X POST http://localhost:5000/predict -d '{\"id\": 0, \"observation\": {\"age\": 45, \"education\": \"Bachelors\", \"hours-per-week\": 45, \"native-country\": \"United-States\"}}' -H \"Content-Type:application/json\"\n",
    "```\n",
    "\n",
    "\n",
    "**Expected output**\n",
    "\n",
    "```json\n",
    "{\n",
    "  \"error\": \"Observation ID: \\\"0\\\" already exists\",\n",
    "  \"proba\": 0.3\n",
    "}\n",
    "```"
   ]
  },
  {
   "cell_type": "markdown",
   "metadata": {
    "deletable": false,
    "editable": false,
    "nbgrader": {
     "grade": false,
     "grade_id": "cell-cd109fea5648a5cb",
     "locked": true,
     "schema_version": 3,
     "solution": false,
     "task": false
    }
   },
   "source": [
    "**Command**\n",
    "\n",
    "```bash\n",
    "curl -X POST http://localhost:5000/predict -d '{\"id\": 1, \"observation\": {\"age\": 45, \"education\": \"Bachelors\", \"hours-per-week\": \"45 hours\", \"native-country\": \"United-States\"}}' -H \"Content-Type:application/json\"\n",
    "```\n",
    "\n",
    "**Expected output**\n",
    "```json\n",
    "{\n",
    "  \"error\": \"Observation is invalid!\"\n",
    "}\n",
    "```"
   ]
  },
  {
   "cell_type": "code",
   "execution_count": null,
   "metadata": {
    "deletable": false,
    "nbgrader": {
     "grade": false,
     "grade_id": "cell-c098b18fbb94dac2",
     "locked": false,
     "schema_version": 3,
     "solution": true,
     "task": false
    }
   },
   "outputs": [],
   "source": [
    "# When the predict endpoint of your flask app is working as expected,\n",
    "# set variable predict_endpoint_working_fine to True\n",
    "predict_endpoint_working_fine = False\n",
    "\n",
    "# YOUR CODE HERE\n",
    "raise NotImplementedError()"
   ]
  },
  {
   "cell_type": "code",
   "execution_count": null,
   "metadata": {
    "deletable": false,
    "editable": false,
    "nbgrader": {
     "grade": true,
     "grade_id": "cell-3e6dbbbbc93ef800",
     "locked": true,
     "points": 3,
     "schema_version": 3,
     "solution": false,
     "task": false
    }
   },
   "outputs": [],
   "source": [
    "assert predict_endpoint_working_fine"
   ]
  },
  {
   "cell_type": "markdown",
   "metadata": {
    "deletable": false,
    "editable": false,
    "nbgrader": {
     "grade": false,
     "grade_id": "cell-47acb752b1ba5730",
     "locked": true,
     "schema_version": 3,
     "solution": false,
     "task": false
    }
   },
   "source": [
    "#### /update\n",
    "\n",
    "The update endpoint should receive POST requests, and a JSON payload with:\n",
    "- id\n",
    "- true_class\n",
    "\n",
    "If there is an observation with `id` in your database, you should update the `true_class` value with the value in the request. The response should be the observation, with the updated true_class value.\n",
    "\n",
    "Otherwise, you should return an appropriate error message.\n",
    "\n",
    "Try the following commands to check that everything is working as expected."
   ]
  },
  {
   "cell_type": "markdown",
   "metadata": {
    "deletable": false,
    "editable": false,
    "nbgrader": {
     "grade": false,
     "grade_id": "cell-36f99897d25c7dee",
     "locked": true,
     "schema_version": 3,
     "solution": false,
     "task": false
    }
   },
   "source": [
    "**Command**\n",
    "\n",
    "```bash\n",
    "~ > curl -X POST http://localhost:5000/update -d '{\"id\": 0, \"true_class\": 1}'  -H \"Content-Type:application/json\"\n",
    "```\n",
    "\n",
    "\n",
    "**Expected output**\n",
    "\n",
    "```json\n",
    "{\n",
    "  \"id\": 1,\n",
    "  \"observation\": \"{\"age\": 45, \"education\": \"Bachelors\", \"hours-per-week\": 45, \"native-country\": \"United-States\"}\",\n",
    "  \"observation_id\": 0,\n",
    "  \"proba\": 0.3,\n",
    "  \"true_class\": 1\n",
    "}\n",
    "```"
   ]
  },
  {
   "cell_type": "markdown",
   "metadata": {
    "deletable": false,
    "editable": false,
    "nbgrader": {
     "grade": false,
     "grade_id": "cell-87df0f20c5b63b7a",
     "locked": true,
     "schema_version": 3,
     "solution": false,
     "task": false
    }
   },
   "source": [
    "**Command**\n",
    "\n",
    "```bash\n",
    "~ > curl -X POST http://localhost:5000/update -d '{\"id\": 3, \"true_class\": 1}'  -H \"Content-Type:application/json\"\n",
    "```\n",
    "\n",
    "\n",
    "**Expected output**\n",
    "\n",
    "```json\n",
    "{\n",
    "  \"error\": \"Observation ID: \\\"3\\\" does not exist\"\n",
    "}\n",
    "```"
   ]
  },
  {
   "cell_type": "code",
   "execution_count": null,
   "metadata": {
    "deletable": false,
    "nbgrader": {
     "grade": false,
     "grade_id": "cell-40d6ee7431c34db9",
     "locked": false,
     "schema_version": 3,
     "solution": true,
     "task": false
    }
   },
   "outputs": [],
   "source": [
    "# When the predict endpoint of your flask app is working as expected,\n",
    "# set variable update_endpoint_working_fine to True\n",
    "update_endpoint_working_fine = False\n",
    "\n",
    "# YOUR CODE HERE\n",
    "raise NotImplementedError()"
   ]
  },
  {
   "cell_type": "code",
   "execution_count": null,
   "metadata": {
    "deletable": false,
    "editable": false,
    "nbgrader": {
     "grade": true,
     "grade_id": "cell-589e67c22bb96a5b",
     "locked": true,
     "points": 2,
     "schema_version": 3,
     "solution": false,
     "task": false
    }
   },
   "outputs": [],
   "source": [
    "assert update_endpoint_working_fine"
   ]
  },
  {
   "cell_type": "markdown",
   "metadata": {
    "deletable": false,
    "editable": false,
    "nbgrader": {
     "grade": false,
     "grade_id": "cell-b4eb379e93d926d1",
     "locked": true,
     "schema_version": 3,
     "solution": false,
     "task": false
    }
   },
   "source": [
    "### 6. Deploy your app to heroku\n",
    "\n",
    "Follow the instructions on the Learning part of this BLU to deploy your app to heroku.\n",
    "\n",
    "In order to check that your app is working correctly on heroku, re-run the previous commands, but replacing the `localhost` with the URL of your heroku app (like `https://<your-app-name>.herokuapp.com`). For instance, the first command would be:\n",
    "\n",
    "\n",
    "**Command**\n",
    "\n",
    "```bash\n",
    "~ > curl -X POST https://<your-app-name>.herokuapp.com/predict -d '{\"id\": 0, \"observation\": {\"age\": 45, \"education\": \"Bachelors\", \"hours-per-week\": 45, \"native-country\": \"United-States\"}}' -H \"Content-Type:application/json\"\n",
    "```\n",
    "\n",
    "\n",
    "**Expected output**\n",
    "\n",
    "```json\n",
    "{\n",
    "  \"proba\": 0.3\n",
    "}\n",
    "```"
   ]
  },
  {
   "cell_type": "code",
   "execution_count": null,
   "metadata": {
    "deletable": false,
    "nbgrader": {
     "grade": false,
     "grade_id": "cell-711322a2c161a32a",
     "locked": false,
     "schema_version": 3,
     "solution": true,
     "task": false
    }
   },
   "outputs": [],
   "source": [
    "# In this test, we will call your app to check if it's working as expected\n",
    "# Assign the variable APP_NAME to the name of your heroku app\n",
    "# APP_NAME = ...\n",
    "\n",
    "# YOUR CODE HERE\n",
    "raise NotImplementedError()"
   ]
  },
  {
   "cell_type": "code",
   "execution_count": null,
   "metadata": {
    "deletable": false,
    "editable": false,
    "nbgrader": {
     "grade": true,
     "grade_id": "cell-011a2a3474c01346",
     "locked": true,
     "points": 3,
     "schema_version": 3,
     "solution": false,
     "task": false
    }
   },
   "outputs": [],
   "source": [
    "# Testing the /predict endpoint\n",
    "\n",
    "url = f\"http://{APP_NAME}.herokuapp.com/predict\"\n",
    "payload = {\n",
    "    \"id\": 0,\n",
    "    \"observation\": {\"age\": 45,\n",
    "                    \"education\": \"Bachelors\",\n",
    "                    \"hours-per-week\": 45,\n",
    "                    \"native-country\": \"United-States\"}\n",
    "}\n",
    "\n",
    "r = requests.post(url, json=payload)\n",
    "\n",
    "assert isinstance(r, requests.Response)\n",
    "assert r.ok\n",
    "assert \"proba\" in r.json()\n",
    "assert isinstance(r.json()[\"proba\"], float)\n",
    "assert 0 <= r.json()[\"proba\"] <= 1"
   ]
  },
  {
   "cell_type": "code",
   "execution_count": null,
   "metadata": {
    "deletable": false,
    "editable": false,
    "nbgrader": {
     "grade": true,
     "grade_id": "cell-b88d9b0ab2bf644e",
     "locked": true,
     "points": 2,
     "schema_version": 3,
     "solution": false,
     "task": false
    }
   },
   "outputs": [],
   "source": [
    "# Testing the /update endpoint\n",
    "\n",
    "url = f\"http://{APP_NAME}.herokuapp.com/update\"\n",
    "payload = {\n",
    "    \"id\": 0,\n",
    "    \"true_class\": 1\n",
    "}\n",
    "\n",
    "r = requests.post(url, json=payload)\n",
    "\n",
    "assert isinstance(r, requests.Response)\n",
    "assert r.ok\n",
    "assert \"observation\" in r.json()\n",
    "assert \"proba\" in r.json()\n",
    "assert \"true_class\" in r.json()\n",
    "assert r.json()[\"true_class\"] == 1"
   ]
  }
 ],
 "metadata": {
  "kernelspec": {
   "display_name": "Python 3",
   "language": "python",
   "name": "python3"
  },
  "language_info": {
   "codemirror_mode": {
    "name": "ipython",
    "version": 3
   },
   "file_extension": ".py",
   "mimetype": "text/x-python",
   "name": "python",
   "nbconvert_exporter": "python",
   "pygments_lexer": "ipython3",
   "version": "3.7.3"
  }
 },
 "nbformat": 4,
 "nbformat_minor": 4
}
