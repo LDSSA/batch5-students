{
 "cells": [
  {
   "cell_type": "markdown",
   "metadata": {},
   "source": [
    "## Parsing Client Requirements\n",
    "\n",
    "So you know how to train models, you're familiar with a bunch of data science problems, what's next? \n",
    "\n",
    "* **What you expect**: you meet a client, they tell you exactly what they need and provide you with a very clean dataset that they have collected for this purpose and have adequate expectations\n",
    "\n",
    "* **What actually happens**: you meet a client, they tell you they have a problem, they struggle to define it, so through the middle of hours of meetings you extract a few ideas of what they might actually be looking for; then you meet the tech-savvy people, and when they give you requirements, they are something like this - they want maximum accuracy, thousands of requests per second, and a super explainable model... oh, and did I mention they have no data? \n",
    "\n",
    "_Good luck sailor_\n",
    "\n",
    "\n",
    "<img src=\"media/data-scientist-heres-all-the-data.png\" width=500 />\n",
    "\n",
    "Well, not all clients are that crazy, and hopefully in this unit you'll practice how to formalize some of the most reasonable requirements into proper code you can use, how to design your system so that it is reasonably reliable and how to explain the tradeoffs in play with all these things. Shall we?"
   ]
  },
  {
   "cell_type": "code",
   "execution_count": 1,
   "metadata": {},
   "outputs": [
    {
     "name": "stderr",
     "output_type": "stream",
     "text": [
      "/Users/catarinasilva/.pyenv/versions/3.8.5/envs/batch4-blu14/lib/python3.8/site-packages/pandas/compat/__init__.py:120: UserWarning: Could not import the lzma module. Your installed Python is incomplete. Attempting to use lzma compression will result in a RuntimeError.\n",
      "  warnings.warn(msg)\n"
     ]
    }
   ],
   "source": [
    "import json\n",
    "import joblib\n",
    "import pickle\n",
    "import pandas as pd\n",
    "import numpy as np\n",
    "import seaborn as sns\n",
    "from sklearn.model_selection import train_test_split\n",
    "from sklearn.pipeline import make_pipeline, Pipeline\n",
    "from sklearn.impute import SimpleImputer\n",
    "from sklearn.preprocessing import StandardScaler, OneHotEncoder\n",
    "from sklearn.compose import ColumnTransformer\n",
    "from sklearn.ensemble import RandomForestClassifier\n",
    "from sklearn.metrics import precision_score, recall_score, roc_auc_score\n",
    "\n",
    "import matplotlib.pyplot as plt\n",
    "import matplotlib.image as mpimg\n",
    "%matplotlib inline"
   ]
  },
  {
   "cell_type": "markdown",
   "metadata": {},
   "source": [
    "## Police affairs\n",
    "\n",
    "As an example, we'll use the original problem that students had to work with in the previous capstone. Here's the rough description of the desired project:\n",
    "\n",
    "> The police department has received lots of complaints about its stop and search policy. Every time a car is stopped, the police officers have to decide whether or not to search the car for contraband. According to critics, these searches have a bias against people of certain backgrounds. \n",
    ">\n",
    "> Your company has been hired to (1) determine whether these criticisms seem to be substantiated, and (2) create a service to fairly decide whether or not to search a car, based on objective data. This service will be used by police officers to request authorization to search, and your service will return a Yes or No answer. \n",
    ">\n",
    "> The police department has asked for the following requirements: \n",
    "> - A minimum 50% success rate for searches (when a car is searched, it should be at least 50% likely that contraband is found)\n",
    "> - No police sub-department should have a discrepancy bigger than 5% between the search success rate between protected classes (race, ethnicity, gender)  \n",
    "> - Find the largest possible amount of contraband, given the constraints above. \n"
   ]
  },
  {
   "cell_type": "markdown",
   "metadata": {},
   "source": [
    "Let's start by seeing what data we were given and getting familiar with our dataset. Uncomment the cell below to download the file:"
   ]
  },
  {
   "cell_type": "code",
   "execution_count": 2,
   "metadata": {},
   "outputs": [],
   "source": [
    "# ! curl -o data/train.csv http://storage.googleapis.com/capstone_train/train.csv"
   ]
  },
  {
   "cell_type": "code",
   "execution_count": 3,
   "metadata": {},
   "outputs": [
    {
     "data": {
      "text/html": [
       "<div>\n",
       "<style scoped>\n",
       "    .dataframe tbody tr th:only-of-type {\n",
       "        vertical-align: middle;\n",
       "    }\n",
       "\n",
       "    .dataframe tbody tr th {\n",
       "        vertical-align: top;\n",
       "    }\n",
       "\n",
       "    .dataframe thead th {\n",
       "        text-align: right;\n",
       "    }\n",
       "</style>\n",
       "<table border=\"1\" class=\"dataframe\">\n",
       "  <thead>\n",
       "    <tr style=\"text-align: right;\">\n",
       "      <th></th>\n",
       "      <th>VehicleSearchedIndicator</th>\n",
       "      <th>ContrabandIndicator</th>\n",
       "      <th>Department Name</th>\n",
       "      <th>InterventionDateTime</th>\n",
       "      <th>InterventionLocationName</th>\n",
       "      <th>InterventionReasonCode</th>\n",
       "      <th>ReportingOfficerIdentificationID</th>\n",
       "      <th>ResidentIndicator</th>\n",
       "      <th>SearchAuthorizationCode</th>\n",
       "      <th>StatuteReason</th>\n",
       "      <th>SubjectAge</th>\n",
       "      <th>SubjectEthnicityCode</th>\n",
       "      <th>SubjectRaceCode</th>\n",
       "      <th>SubjectSexCode</th>\n",
       "      <th>TownResidentIndicator</th>\n",
       "    </tr>\n",
       "  </thead>\n",
       "  <tbody>\n",
       "    <tr>\n",
       "      <th>0</th>\n",
       "      <td>False</td>\n",
       "      <td>False</td>\n",
       "      <td>New Haven</td>\n",
       "      <td>10/01/2013 12:00:00 AM</td>\n",
       "      <td>NEW HAVEN</td>\n",
       "      <td>V</td>\n",
       "      <td>262</td>\n",
       "      <td>True</td>\n",
       "      <td>N</td>\n",
       "      <td>Stop Sign</td>\n",
       "      <td>31.0</td>\n",
       "      <td>H</td>\n",
       "      <td>W</td>\n",
       "      <td>M</td>\n",
       "      <td>True</td>\n",
       "    </tr>\n",
       "    <tr>\n",
       "      <th>1</th>\n",
       "      <td>False</td>\n",
       "      <td>False</td>\n",
       "      <td>State Police</td>\n",
       "      <td>10/01/2013 12:00:00 AM</td>\n",
       "      <td>WILLINGTON</td>\n",
       "      <td>V</td>\n",
       "      <td>1000002715</td>\n",
       "      <td>False</td>\n",
       "      <td>N</td>\n",
       "      <td>Other</td>\n",
       "      <td>29.0</td>\n",
       "      <td>M</td>\n",
       "      <td>W</td>\n",
       "      <td>M</td>\n",
       "      <td>False</td>\n",
       "    </tr>\n",
       "    <tr>\n",
       "      <th>2</th>\n",
       "      <td>False</td>\n",
       "      <td>False</td>\n",
       "      <td>Plymouth</td>\n",
       "      <td>10/01/2013 12:00:00 AM</td>\n",
       "      <td>Terryville</td>\n",
       "      <td>V</td>\n",
       "      <td>21</td>\n",
       "      <td>True</td>\n",
       "      <td>N</td>\n",
       "      <td>Speed Related</td>\n",
       "      <td>18.0</td>\n",
       "      <td>N</td>\n",
       "      <td>W</td>\n",
       "      <td>M</td>\n",
       "      <td>True</td>\n",
       "    </tr>\n",
       "    <tr>\n",
       "      <th>3</th>\n",
       "      <td>False</td>\n",
       "      <td>False</td>\n",
       "      <td>Plymouth</td>\n",
       "      <td>10/01/2013 12:00:00 AM</td>\n",
       "      <td>Plymouth</td>\n",
       "      <td>V</td>\n",
       "      <td>D1</td>\n",
       "      <td>True</td>\n",
       "      <td>N</td>\n",
       "      <td>Speed Related</td>\n",
       "      <td>52.0</td>\n",
       "      <td>N</td>\n",
       "      <td>W</td>\n",
       "      <td>F</td>\n",
       "      <td>False</td>\n",
       "    </tr>\n",
       "    <tr>\n",
       "      <th>4</th>\n",
       "      <td>False</td>\n",
       "      <td>False</td>\n",
       "      <td>Bethel</td>\n",
       "      <td>10/01/2013 12:00:00 AM</td>\n",
       "      <td>BETHEL</td>\n",
       "      <td>V</td>\n",
       "      <td>08M</td>\n",
       "      <td>True</td>\n",
       "      <td>N</td>\n",
       "      <td>Cell Phone</td>\n",
       "      <td>34.0</td>\n",
       "      <td>N</td>\n",
       "      <td>W</td>\n",
       "      <td>M</td>\n",
       "      <td>False</td>\n",
       "    </tr>\n",
       "  </tbody>\n",
       "</table>\n",
       "</div>"
      ],
      "text/plain": [
       "   VehicleSearchedIndicator  ContrabandIndicator Department Name  \\\n",
       "0                     False                False       New Haven   \n",
       "1                     False                False    State Police   \n",
       "2                     False                False        Plymouth   \n",
       "3                     False                False        Plymouth   \n",
       "4                     False                False          Bethel   \n",
       "\n",
       "     InterventionDateTime InterventionLocationName InterventionReasonCode  \\\n",
       "0  10/01/2013 12:00:00 AM                NEW HAVEN                      V   \n",
       "1  10/01/2013 12:00:00 AM               WILLINGTON                      V   \n",
       "2  10/01/2013 12:00:00 AM               Terryville                      V   \n",
       "3  10/01/2013 12:00:00 AM                 Plymouth                      V   \n",
       "4  10/01/2013 12:00:00 AM                   BETHEL                      V   \n",
       "\n",
       "  ReportingOfficerIdentificationID  ResidentIndicator SearchAuthorizationCode  \\\n",
       "0                              262               True                       N   \n",
       "1                       1000002715              False                       N   \n",
       "2                               21               True                       N   \n",
       "3                               D1               True                       N   \n",
       "4                              08M               True                       N   \n",
       "\n",
       "   StatuteReason  SubjectAge SubjectEthnicityCode SubjectRaceCode  \\\n",
       "0      Stop Sign        31.0                    H               W   \n",
       "1          Other        29.0                    M               W   \n",
       "2  Speed Related        18.0                    N               W   \n",
       "3  Speed Related        52.0                    N               W   \n",
       "4     Cell Phone        34.0                    N               W   \n",
       "\n",
       "  SubjectSexCode  TownResidentIndicator  \n",
       "0              M                   True  \n",
       "1              M                  False  \n",
       "2              M                   True  \n",
       "3              F                  False  \n",
       "4              M                  False  "
      ]
     },
     "execution_count": 3,
     "metadata": {},
     "output_type": "execute_result"
    }
   ],
   "source": [
    "df = pd.read_csv(\"data/train.csv\")\n",
    "df.head()"
   ]
  },
  {
   "cell_type": "markdown",
   "metadata": {},
   "source": [
    "You're also given a dictionary explaining what each field means. \n",
    "\n",
    "<img src=\"media/data-dictionary.png\" width=900 />\n",
    "\n",
    "A quick check shows that there is an equivalent for each dataframe field in the data dictionary given."
   ]
  },
  {
   "cell_type": "code",
   "execution_count": 4,
   "metadata": {},
   "outputs": [
    {
     "name": "stdout",
     "output_type": "stream",
     "text": [
      "Index(['VehicleSearchedIndicator', 'ContrabandIndicator', 'Department Name',\n",
      "       'InterventionDateTime', 'InterventionLocationName',\n",
      "       'InterventionReasonCode', 'ReportingOfficerIdentificationID',\n",
      "       'ResidentIndicator', 'SearchAuthorizationCode', 'StatuteReason',\n",
      "       'SubjectAge', 'SubjectEthnicityCode', 'SubjectRaceCode',\n",
      "       'SubjectSexCode', 'TownResidentIndicator'],\n",
      "      dtype='object')\n"
     ]
    }
   ],
   "source": [
    "columns = df.columns\n",
    "print(columns)"
   ]
  },
  {
   "cell_type": "markdown",
   "metadata": {},
   "source": [
    "<br>\n",
    "    \n",
    "### Setting up our universe\n",
    "\n",
    "We'll start by framing the problem and setting up the boundaries for it.\n",
    "\n",
    "Notice the `VehicleSearchedIndicator` and `ContrabandIndicator` columns. As we have to predict if a car should be searched or not based on the probability of having contraband, the intuition would be that:\n",
    "\n",
    "* The searched cars should serve as our main data\n",
    "* The non-searched cars shouldn't provide a lot of info as the lack of search will make the contraband unreliable (and we would expect it to be False)\n",
    "\n",
    "Let's map out these values:\n"
   ]
  },
  {
   "cell_type": "code",
   "execution_count": 5,
   "metadata": {},
   "outputs": [
    {
     "data": {
      "text/html": [
       "<div>\n",
       "<style scoped>\n",
       "    .dataframe tbody tr th:only-of-type {\n",
       "        vertical-align: middle;\n",
       "    }\n",
       "\n",
       "    .dataframe tbody tr th {\n",
       "        vertical-align: top;\n",
       "    }\n",
       "\n",
       "    .dataframe thead th {\n",
       "        text-align: right;\n",
       "    }\n",
       "</style>\n",
       "<table border=\"1\" class=\"dataframe\">\n",
       "  <thead>\n",
       "    <tr style=\"text-align: right;\">\n",
       "      <th>VehicleSearchedIndicator</th>\n",
       "      <th>False</th>\n",
       "      <th>True</th>\n",
       "    </tr>\n",
       "    <tr>\n",
       "      <th>ContrabandIndicator</th>\n",
       "      <th></th>\n",
       "      <th></th>\n",
       "    </tr>\n",
       "  </thead>\n",
       "  <tbody>\n",
       "    <tr>\n",
       "      <th>False</th>\n",
       "      <td>2394077</td>\n",
       "      <td>51225</td>\n",
       "    </tr>\n",
       "    <tr>\n",
       "      <th>True</th>\n",
       "      <td>2823</td>\n",
       "      <td>25518</td>\n",
       "    </tr>\n",
       "  </tbody>\n",
       "</table>\n",
       "</div>"
      ],
      "text/plain": [
       "VehicleSearchedIndicator    False  True \n",
       "ContrabandIndicator                     \n",
       "False                     2394077  51225\n",
       "True                         2823  25518"
      ]
     },
     "execution_count": 5,
     "metadata": {},
     "output_type": "execute_result"
    }
   ],
   "source": [
    "# Obtaining the crossed amounts of cars searched and the amount of contraband found \n",
    "\n",
    "df.groupby(['ContrabandIndicator', \n",
    "            'VehicleSearchedIndicator'])['InterventionDateTime'].count().unstack()\n",
    "\n"
   ]
  },
  {
   "cell_type": "markdown",
   "metadata": {},
   "source": [
    "We have around 70K examples of cars searched which we can directly use, and over 2M that weren't searched. From those, however, we have almost 3K that are listed as having contraband. Let's assume those are cases where the contraband was so obvious that it did not require a search. If we make this assumption then we would want to use this data as the contraband is fairly obvious, otherwise you can discard it.\n",
    "\n",
    "<img src=\"media/polices_search.jpeg\" width=400 />\n",
    "\n",
    "\n",
    "\n",
    "The other columns are our potential features. We should take a look into each to get information about:\n",
    "\n",
    "* their type\n",
    "* the potential values, which should corroborate the information given when applicable\n",
    "\n",
    "\n",
    "For example, we can check the subject's age, verify the type is what we expect and check the values it can take:"
   ]
  },
  {
   "cell_type": "code",
   "execution_count": 6,
   "metadata": {},
   "outputs": [
    {
     "data": {
      "image/png": "[encoded data removed]",
      "text/plain": [
       "<Figure size 432x288 with 1 Axes>"
      ]
     },
     "metadata": {
      "needs_background": "light"
     },
     "output_type": "display_data"
    }
   ],
   "source": [
    "## Subject Age\n",
    "\n",
    "df.hist(column='SubjectAge', bins=20, figsize=(6, 4));\n",
    "plt.xlabel('Age');\n",
    "plt.ylabel('Count');\n"
   ]
  },
  {
   "cell_type": "markdown",
   "metadata": {},
   "source": [
    "Something that stands out is the small but visible column in the 0-5 category. These are obviously impossible and we need to handle them somehow. But let's leave that for later on.\n",
    "\n",
    "Let's now check one of the code-like columns:"
   ]
  },
  {
   "cell_type": "code",
   "execution_count": 7,
   "metadata": {},
   "outputs": [
    {
     "data": {
      "image/png": "[encoded data removed]",
      "text/plain": [
       "<Figure size 432x288 with 1 Axes>"
      ]
     },
     "metadata": {
      "needs_background": "light"
     },
     "output_type": "display_data"
    }
   ],
   "source": [
    "## Subject Race\n",
    "\n",
    "df.SubjectRaceCode.value_counts().plot(kind='bar');\n",
    "plt.xlabel('Race');\n",
    "plt.ylabel('Count');\n"
   ]
  },
  {
   "cell_type": "markdown",
   "metadata": {},
   "source": [
    "There's a clear disparity between samples for each race, which can cause issues to make sure there is no discrimination. In particular, only the two first race groups (White and Black) have a significant amount of examples.\n",
    "\n",
    "This might be a problem not only to train your model but to efficiently analyze its biases. We might need to come back to this.\n",
    "\n",
    "For now, let's move forward and analyze one more categorical feature:\n",
    "\n"
   ]
  },
  {
   "cell_type": "code",
   "execution_count": 8,
   "metadata": {},
   "outputs": [
    {
     "data": {
      "image/png": "[encoded data removed]",
      "text/plain": [
       "<Figure size 432x288 with 1 Axes>"
      ]
     },
     "metadata": {
      "needs_background": "light"
     },
     "output_type": "display_data"
    }
   ],
   "source": [
    "## Intervention reason code\n",
    "\n",
    "df.InterventionReasonCode.value_counts().plot(kind='bar');\n",
    "plt.xlabel('Intervention Reason');\n",
    "plt.ylabel('Count');\n"
   ]
  },
  {
   "cell_type": "markdown",
   "metadata": {},
   "source": [
    "In this case, for example, we have the three expected values and an unexpected value, which we will need to handle somehow. \n",
    "\n",
    "You should do a similar analysis and get quite acquainted with the current information in your dataset. We won't show the same breakdown for all features but do play around with them to get familiar with what they mean.\n",
    "\n",
    "<br>\n",
    "\n",
    "### Unexpected values\n",
    "\n",
    "But let's go back to our **unexpected values**. There will be cases where new values are acceptable because your features don't have a closed space, and cases where different values are just not acceptable. \n",
    "\n",
    "To deal with those, we can make decisions on either to drop rows with unexpected values or to convert them to a specific default flag, if applicable (for example if you have a flag \"other\"/\"unknown\"/etc). In some cases, those will be obvious and in some, you'll have to make explicit decisions that you need to debate with your client or your users. \n",
    "\n",
    "For now, let's tackle this by creating a map for all our well-defined columns with our expected values and defaults, if relevant. "
   ]
  },
  {
   "cell_type": "code",
   "execution_count": 9,
   "metadata": {},
   "outputs": [],
   "source": [
    "known_categories = {\n",
    "    \"InterventionReasonCode\": {\"values\": [\"V\", \"E\", \"I\"], \"default\": None},\n",
    "    \"SubjectRaceCode\": {\"values\": [\"W\", \"B\", \"A\", \"I\"], \"default\": None},\n",
    "    \"SubjectSexCode\": {\"values\": [\"M\", \"F\"], \"default\": None},\n",
    "    \"SubjectEthnicityCode\": {\"values\": [\"H\", \"M\", \"N\"], \"default\": \"N\"},\n",
    "    \"SearchAuthorizationCode\": {\"values\": [\"O\", \"I\", \"C\", \"N\"], \"default\": \"N\"},\n",
    "    # We can use it also for booleans!\n",
    "    \"TownResidentIndicator\": {\"values\": [True, False]}, \n",
    "    \"ResidentIndicator\": {\"values\": [True, False]},\n",
    "    \"VehicleSearchedIndicator\": {\"values\": [True, False]},\n",
    "    \"ContrabandIndicator\": {\"values\": [True, False]},\n",
    "}\n"
   ]
  },
  {
   "cell_type": "markdown",
   "metadata": {},
   "source": [
    "This is a way of formalizing our setup and can later on be reused to serve our models, but for now we will create a small function to perform a clean-up of the dataframe and apply it to the original dataset."
   ]
  },
  {
   "cell_type": "code",
   "execution_count": 10,
   "metadata": {},
   "outputs": [],
   "source": [
    "def resolve_unexpected(df, known_categories):\n",
    "    processed_df = df.copy()\n",
    "    defaults = 0\n",
    "    dropped = 0\n",
    "    \n",
    "    for column in known_categories.keys():\n",
    "        mapping = known_categories[column]\n",
    "        bad_rows = processed_df[~processed_df[column].isin(mapping.get('values'))].index\n",
    "        if bad_rows.empty:\n",
    "            continue\n",
    "        if mapping.get('default'):\n",
    "            processed_df.iloc[bad_rows, df.columns.get_loc(column)] = mapping.get('default')\n",
    "            defaults += len(bad_rows)\n",
    "        else:\n",
    "            processed_df.drop(bad_rows, inplace=True)\n",
    "            dropped += len(bad_rows)\n",
    "            \n",
    "    return processed_df, defaults, dropped\n",
    "        "
   ]
  },
  {
   "cell_type": "code",
   "execution_count": 11,
   "metadata": {},
   "outputs": [],
   "source": [
    "df_clean, defaults, dropped = resolve_unexpected(df, known_categories)"
   ]
  },
  {
   "cell_type": "code",
   "execution_count": 12,
   "metadata": {},
   "outputs": [
    {
     "name": "stdout",
     "output_type": "stream",
     "text": [
      "Updated 10 to default. Dropped 5\n"
     ]
    }
   ],
   "source": [
    "print(\"Updated {} to default. Dropped {}\".format(defaults, dropped))"
   ]
  },
  {
   "cell_type": "markdown",
   "metadata": {},
   "source": [
    "So the dataset was pretty clean, but this will already prevent these sneaky examples to bite us later on.\n",
    "<br>\n",
    "\n",
    "\n",
    "### Data normalization\n",
    "\n",
    "After a bit more analysis, you should have noticed also that there is a date column representing the intervention date and time, both following an American format. For our baseline, we'll ignore the time element and parse the date into some features that can be used regardless, such as hour of day, day of week and month.\n"
   ]
  },
  {
   "cell_type": "code",
   "execution_count": 13,
   "metadata": {},
   "outputs": [],
   "source": [
    "df_base = df_clean.copy()\n",
    "\n",
    "# beware american timestamps, where the month comes before day \n",
    "df_base['InterventionDateTime'] = pd.to_datetime(df_base['InterventionDateTime'], format='%m/%d/%Y %I:%M:%S %p')\n",
    "\n",
    "# get the hour and day of the week, maybe they will be useful \n",
    "df_base['hour'] = df_base['InterventionDateTime'].dt.hour\n",
    "df_base['month'] = df_base['InterventionDateTime'].dt.month\n",
    "df_base['day_of_week'] = df_base['InterventionDateTime'].dt.day_name()\n"
   ]
  },
  {
   "cell_type": "markdown",
   "metadata": {},
   "source": [
    "We will also do some very very simple normalization of the text fields in our dataframe."
   ]
  },
  {
   "cell_type": "code",
   "execution_count": 14,
   "metadata": {},
   "outputs": [],
   "source": [
    "# Lowercase deparment name and location\n",
    "df_base['Department Name'] = df_base['Department Name'].apply(lambda x: str(x).lower())\n",
    "df_base['InterventionLocationName'] = df_base['InterventionLocationName'].apply(lambda x: str(x).lower())\n",
    "\n",
    "\n",
    "df_base = df_base.dropna()"
   ]
  },
  {
   "cell_type": "markdown",
   "metadata": {},
   "source": [
    "Finally, we'll drop the weird age values that don't seem to add up."
   ]
  },
  {
   "cell_type": "code",
   "execution_count": 15,
   "metadata": {},
   "outputs": [
    {
     "data": {
      "text/html": [
       "<div>\n",
       "<style scoped>\n",
       "    .dataframe tbody tr th:only-of-type {\n",
       "        vertical-align: middle;\n",
       "    }\n",
       "\n",
       "    .dataframe tbody tr th {\n",
       "        vertical-align: top;\n",
       "    }\n",
       "\n",
       "    .dataframe thead th {\n",
       "        text-align: right;\n",
       "    }\n",
       "</style>\n",
       "<table border=\"1\" class=\"dataframe\">\n",
       "  <thead>\n",
       "    <tr style=\"text-align: right;\">\n",
       "      <th></th>\n",
       "      <th>VehicleSearchedIndicator</th>\n",
       "      <th>ContrabandIndicator</th>\n",
       "      <th>Department Name</th>\n",
       "      <th>InterventionDateTime</th>\n",
       "      <th>InterventionLocationName</th>\n",
       "      <th>InterventionReasonCode</th>\n",
       "      <th>ReportingOfficerIdentificationID</th>\n",
       "      <th>ResidentIndicator</th>\n",
       "      <th>SearchAuthorizationCode</th>\n",
       "      <th>StatuteReason</th>\n",
       "      <th>SubjectAge</th>\n",
       "      <th>SubjectEthnicityCode</th>\n",
       "      <th>SubjectRaceCode</th>\n",
       "      <th>SubjectSexCode</th>\n",
       "      <th>TownResidentIndicator</th>\n",
       "      <th>hour</th>\n",
       "      <th>month</th>\n",
       "      <th>day_of_week</th>\n",
       "    </tr>\n",
       "  </thead>\n",
       "  <tbody>\n",
       "    <tr>\n",
       "      <th>0</th>\n",
       "      <td>False</td>\n",
       "      <td>False</td>\n",
       "      <td>new haven</td>\n",
       "      <td>2013-10-01</td>\n",
       "      <td>new haven</td>\n",
       "      <td>V</td>\n",
       "      <td>262</td>\n",
       "      <td>True</td>\n",
       "      <td>N</td>\n",
       "      <td>Stop Sign</td>\n",
       "      <td>31.0</td>\n",
       "      <td>H</td>\n",
       "      <td>W</td>\n",
       "      <td>M</td>\n",
       "      <td>True</td>\n",
       "      <td>0</td>\n",
       "      <td>10</td>\n",
       "      <td>Tuesday</td>\n",
       "    </tr>\n",
       "    <tr>\n",
       "      <th>1</th>\n",
       "      <td>False</td>\n",
       "      <td>False</td>\n",
       "      <td>state police</td>\n",
       "      <td>2013-10-01</td>\n",
       "      <td>willington</td>\n",
       "      <td>V</td>\n",
       "      <td>1000002715</td>\n",
       "      <td>False</td>\n",
       "      <td>N</td>\n",
       "      <td>Other</td>\n",
       "      <td>29.0</td>\n",
       "      <td>M</td>\n",
       "      <td>W</td>\n",
       "      <td>M</td>\n",
       "      <td>False</td>\n",
       "      <td>0</td>\n",
       "      <td>10</td>\n",
       "      <td>Tuesday</td>\n",
       "    </tr>\n",
       "    <tr>\n",
       "      <th>2</th>\n",
       "      <td>False</td>\n",
       "      <td>False</td>\n",
       "      <td>plymouth</td>\n",
       "      <td>2013-10-01</td>\n",
       "      <td>terryville</td>\n",
       "      <td>V</td>\n",
       "      <td>21</td>\n",
       "      <td>True</td>\n",
       "      <td>N</td>\n",
       "      <td>Speed Related</td>\n",
       "      <td>18.0</td>\n",
       "      <td>N</td>\n",
       "      <td>W</td>\n",
       "      <td>M</td>\n",
       "      <td>True</td>\n",
       "      <td>0</td>\n",
       "      <td>10</td>\n",
       "      <td>Tuesday</td>\n",
       "    </tr>\n",
       "    <tr>\n",
       "      <th>3</th>\n",
       "      <td>False</td>\n",
       "      <td>False</td>\n",
       "      <td>plymouth</td>\n",
       "      <td>2013-10-01</td>\n",
       "      <td>plymouth</td>\n",
       "      <td>V</td>\n",
       "      <td>D1</td>\n",
       "      <td>True</td>\n",
       "      <td>N</td>\n",
       "      <td>Speed Related</td>\n",
       "      <td>52.0</td>\n",
       "      <td>N</td>\n",
       "      <td>W</td>\n",
       "      <td>F</td>\n",
       "      <td>False</td>\n",
       "      <td>0</td>\n",
       "      <td>10</td>\n",
       "      <td>Tuesday</td>\n",
       "    </tr>\n",
       "    <tr>\n",
       "      <th>4</th>\n",
       "      <td>False</td>\n",
       "      <td>False</td>\n",
       "      <td>bethel</td>\n",
       "      <td>2013-10-01</td>\n",
       "      <td>bethel</td>\n",
       "      <td>V</td>\n",
       "      <td>08M</td>\n",
       "      <td>True</td>\n",
       "      <td>N</td>\n",
       "      <td>Cell Phone</td>\n",
       "      <td>34.0</td>\n",
       "      <td>N</td>\n",
       "      <td>W</td>\n",
       "      <td>M</td>\n",
       "      <td>False</td>\n",
       "      <td>0</td>\n",
       "      <td>10</td>\n",
       "      <td>Tuesday</td>\n",
       "    </tr>\n",
       "  </tbody>\n",
       "</table>\n",
       "</div>"
      ],
      "text/plain": [
       "   VehicleSearchedIndicator  ContrabandIndicator Department Name  \\\n",
       "0                     False                False       new haven   \n",
       "1                     False                False    state police   \n",
       "2                     False                False        plymouth   \n",
       "3                     False                False        plymouth   \n",
       "4                     False                False          bethel   \n",
       "\n",
       "  InterventionDateTime InterventionLocationName InterventionReasonCode  \\\n",
       "0           2013-10-01                new haven                      V   \n",
       "1           2013-10-01               willington                      V   \n",
       "2           2013-10-01               terryville                      V   \n",
       "3           2013-10-01                 plymouth                      V   \n",
       "4           2013-10-01                   bethel                      V   \n",
       "\n",
       "  ReportingOfficerIdentificationID  ResidentIndicator SearchAuthorizationCode  \\\n",
       "0                              262               True                       N   \n",
       "1                       1000002715              False                       N   \n",
       "2                               21               True                       N   \n",
       "3                               D1               True                       N   \n",
       "4                              08M               True                       N   \n",
       "\n",
       "   StatuteReason  SubjectAge SubjectEthnicityCode SubjectRaceCode  \\\n",
       "0      Stop Sign        31.0                    H               W   \n",
       "1          Other        29.0                    M               W   \n",
       "2  Speed Related        18.0                    N               W   \n",
       "3  Speed Related        52.0                    N               W   \n",
       "4     Cell Phone        34.0                    N               W   \n",
       "\n",
       "  SubjectSexCode  TownResidentIndicator  hour  month day_of_week  \n",
       "0              M                   True     0     10     Tuesday  \n",
       "1              M                  False     0     10     Tuesday  \n",
       "2              M                   True     0     10     Tuesday  \n",
       "3              F                  False     0     10     Tuesday  \n",
       "4              M                  False     0     10     Tuesday  "
      ]
     },
     "execution_count": 15,
     "metadata": {},
     "output_type": "execute_result"
    }
   ],
   "source": [
    "# Get indexes where age is unreasonably low\n",
    "indexAge = df_base[df_base['SubjectAge'] < 10].index\n",
    " \n",
    "# Delete these row indexes from dataFrame\n",
    "df_base.drop(indexAge, inplace=True)\n",
    "             \n",
    "df_base.head()\n"
   ]
  },
  {
   "cell_type": "markdown",
   "metadata": {},
   "source": [
    "### Dataset split\n",
    "\n",
    "We'll do a random split with scikitlearn that will be re-used through the rest of the notebook.\n",
    "\n",
    "**Note**: We are ignoring the temporal nature of the data for now, as it is not relevant for the purpose of these examples, but keep in mind that you might want to include that if you were working on the problem for real.\n"
   ]
  },
  {
   "cell_type": "code",
   "execution_count": 16,
   "metadata": {},
   "outputs": [],
   "source": [
    "df_search = df_base[(df_base['VehicleSearchedIndicator'] == True) | (df_base['ContrabandIndicator'] == True) ]\n",
    "\n",
    "df_train, df_test = train_test_split(df_search, test_size=0.3, random_state=42)\n",
    "\n"
   ]
  },
  {
   "cell_type": "markdown",
   "metadata": {},
   "source": [
    "### Training a baseline model\n",
    "\n",
    "We'll now train a baseline model for the problem. As we're aiming for a simple baseline, we're going to use almost all available features and train a simple classifier using:\n",
    "\n",
    "- one hot encoding for our categorical features\n",
    "- a standard scaler for our numerical features\n",
    "\n",
    "Run the pipeline below to train the baseline.\n",
    "\n"
   ]
  },
  {
   "cell_type": "code",
   "execution_count": 17,
   "metadata": {},
   "outputs": [
    {
     "data": {
      "text/plain": [
       "0.6687788339252474"
      ]
     },
     "execution_count": 17,
     "metadata": {},
     "output_type": "execute_result"
    }
   ],
   "source": [
    "target = 'ContrabandIndicator'\n",
    "\n",
    "all_features = [\n",
    "  'SubjectRaceCode',\n",
    "  'SubjectSexCode',\n",
    "  'SubjectEthnicityCode',\n",
    "  'StatuteReason', \n",
    "  'InterventionReasonCode',\n",
    "  'ResidentIndicator',\n",
    "  'SearchAuthorizationCode',\n",
    "  'SubjectAge',\n",
    "  'hour',\n",
    "  'day_of_week'\n",
    "]\n",
    "\n",
    "numerical_features = ['SubjectAge', 'hour']\n",
    "categorical_features = [\n",
    "  'SubjectRaceCode',\n",
    "  'SubjectSexCode',\n",
    "  'SubjectEthnicityCode',\n",
    "  'StatuteReason', \n",
    "  'InterventionReasonCode',\n",
    "  'ResidentIndicator',\n",
    "  'SearchAuthorizationCode',\n",
    "  'day_of_week'\n",
    "]\n",
    "\n",
    "numeric_transformer = Pipeline(steps=[\n",
    "    ('imputer', SimpleImputer(strategy='median')),\n",
    "    ('scaler', StandardScaler())])\n",
    "\n",
    "categorical_transformer = Pipeline(steps=[\n",
    "    ('imputer', SimpleImputer(strategy='constant', fill_value='missing')),\n",
    "    ('onehot', OneHotEncoder(handle_unknown='ignore'))])\n",
    "\n",
    "preprocessor = ColumnTransformer(\n",
    "    transformers=[\n",
    "        ('num', numeric_transformer, numerical_features),\n",
    "        ('cat', categorical_transformer, categorical_features)])\n",
    "\n",
    "pipeline = make_pipeline(\n",
    "    preprocessor,\n",
    "    RandomForestClassifier(max_depth=3, min_samples_leaf=.03, class_weight=\"balanced\", random_state=42, n_jobs=-1),\n",
    ")\n",
    "\n",
    "\n",
    "X_train = df_train[all_features]\n",
    "y_train = df_train[target]\n",
    "\n",
    "pipeline.fit(X_train, y_train)\n",
    "\n",
    "X_test = df_test[all_features]\n",
    "y_test = df_test[target]\n",
    "\n",
    "y_pred = pipeline.predict(X_test)\n",
    "y_pred_train = pipeline.predict(X_train)\n",
    "\n",
    "# To use on other cells\n",
    "X_train_baseline = X_train.copy()\n",
    "X_test_baseline = df_test.copy()\n",
    "y_test_baseline = X_test_baseline[target].copy()\n",
    "y_pred_baseline = y_pred.copy()\n",
    "pipeline_baseline = pipeline\n",
    "\n",
    "roc_auc_score(y_test, y_pred)\n"
   ]
  },
  {
   "cell_type": "markdown",
   "metadata": {},
   "source": [
    "We can also see what are the most important features in our model, which should give us some intuition of what type of information it is prioritizing.\n"
   ]
  },
  {
   "cell_type": "code",
   "execution_count": 18,
   "metadata": {},
   "outputs": [
    {
     "name": "stdout",
     "output_type": "stream",
     "text": [
      "Feature ranking:\n",
      "1. feature SearchAuthorizationCode_O (0.258803)\n",
      "2. feature SearchAuthorizationCode_C (0.202273)\n",
      "3. feature SearchAuthorizationCode_I (0.194072)\n",
      "4. feature SubjectAge (0.115865)\n",
      "5. feature SearchAuthorizationCode_N (0.061532)\n",
      "6. feature StatuteReason_Registration (0.031616)\n",
      "7. feature SubjectRaceCode_B (0.030741)\n",
      "8. feature StatuteReason_Other (0.023039)\n",
      "9. feature SubjectRaceCode_W (0.018665)\n",
      "10. feature SubjectEthnicityCode_H (0.018373)\n"
     ]
    },
    {
     "data": {
      "image/png": "[encoded data removed]",
      "text/plain": [
       "<Figure size 432x288 with 1 Axes>"
      ]
     },
     "metadata": {
      "needs_background": "light"
     },
     "output_type": "display_data"
    }
   ],
   "source": [
    "categorical_encode_step = pipeline.named_steps['columntransformer'].named_transformers_['cat'].named_steps['onehot']\n",
    "random_forest_step = pipeline.named_steps['randomforestclassifier']\n",
    "\n",
    "onehot_columns = categorical_encode_step.get_feature_names(input_features=categorical_features)\n",
    "\n",
    "importances = pd.Series(data=random_forest_step.feature_importances_, index = np.array(numerical_features + list(onehot_columns)))\n",
    "\n",
    "indices = np.argsort(importances)[::-1]\n",
    "print(\"Feature ranking:\")\n",
    "\n",
    "for f in range(X_train.shape[1]):\n",
    "    print(\"%d. feature %s (%f)\" % (f + 1, importances.index[indices[f]], importances[indices[f]]))\n",
    "\n",
    "std = np.std([tree.feature_importances_ for tree in random_forest_step.estimators_], axis=0)\n",
    "\n",
    "plt.figure()\n",
    "plt.title(\"Feature importances\")\n",
    "plt.bar(x=importances.index[indices], height=importances[indices],\n",
    "        color=\"r\", yerr=std[indices], align=\"center\");\n",
    "plt.xticks(range(len(importances.index[indices])), importances.index[indices], rotation=45, ha=\"right\")\n",
    "plt.xlim([-1, X_train.shape[1]])\n",
    "plt.xlabel('Features');\n",
    "plt.ylabel('Importance');\n",
    "\n",
    "plt.show()\n"
   ]
  },
  {
   "cell_type": "markdown",
   "metadata": {},
   "source": [
    "So it seems like search authorization code is one of the most important requirements. In particular, the case of \"O\" - other situations such as Probable Cause, Reasonable Suspicion, Plain View Contraband, Incident to Arrest, Drug Dog Alert, Exigent Circumstances - seems to have a great impact on our model. \n",
    "\n",
    "Intuitively this makes sense, but keep in mind this might not be the best of features, as it assumes there is already a previous model to suggest a search. But we'll come back to that later.\n",
    "\n",
    "Now that we have our baseline, does it pass the clients' requirements?\n",
    "\n",
    "<br>\n",
    "\n",
    "### Formalizing client requirements\n",
    "\n",
    "We'll now go back to our client requirements. They were the following:\n",
    "\n",
    "- A minimum 50% success rate for searches (when a car is searched, it should be at least 50% likely that contraband is found)\n",
    "- No police sub-department should have a discrepancy bigger than 5% between the search success rate between protected classes (race, ethnicity, gender)  \n",
    "- To find the largest possible amount of contraband, given the constraints above. \n",
    "\n",
    "So, let's analyze each one step by step and see if our baseline model satisfies them or needs to be adjusted."
   ]
  },
  {
   "cell_type": "markdown",
   "metadata": {},
   "source": [
    "###  1 - Minimum 50% success rate for searches\n",
    "\n",
    "Let's break it down:\n",
    "\n",
    "This means that what we want is:\n",
    "\n",
    "- from all the searches that our model outputs - a.k.a total positive labels\n",
    "- we want at least a percentage to be correct - a.k.a true positives labels\n",
    "\n",
    "_Sounds familiar?_ \n",
    "\n",
    "\n",
    "$$\n",
    "Precision = \\frac{True Positives}{Total Predicted Positives} =  \\frac{True Positives}{True Positives + False Positives} \n",
    "$$\n",
    "\n",
    "\n",
    "    \n",
    "This just means we want a precision above 0.5. Let's design a tiny function to verify this requirement:"
   ]
  },
  {
   "cell_type": "code",
   "execution_count": 19,
   "metadata": {},
   "outputs": [],
   "source": [
    "def verify_success_rate_above(y_true, y_pred, min_success_rate=0.5):\n",
    "    \"\"\"\n",
    "    Verifies the success rate on a test set is above a provided minimum\n",
    "    \n",
    "    \n",
    "    \"\"\"\n",
    "    \n",
    "    precision = precision_score(y_true, y_pred, pos_label=True)\n",
    "    is_satisfied = (precision >= min_success_rate)\n",
    "    \n",
    "    return is_satisfied, precision\n"
   ]
  },
  {
   "cell_type": "markdown",
   "metadata": {},
   "source": [
    "We can now run the function on our baseline model."
   ]
  },
  {
   "cell_type": "code",
   "execution_count": 20,
   "metadata": {},
   "outputs": [
    {
     "name": "stdout",
     "output_type": "stream",
     "text": [
      "True 0.5340273761326393\n"
     ]
    }
   ],
   "source": [
    "is_verified, success_rate = verify_success_rate_above(y_test_baseline, y_pred_baseline)\n",
    "\n",
    "print(is_verified, success_rate)"
   ]
  },
  {
   "cell_type": "markdown",
   "metadata": {},
   "source": [
    "\n"
   ]
  },
  {
   "cell_type": "markdown",
   "metadata": {},
   "source": [
    "Awesome, it seems like we pass the first requirement, even with just the baseline. Now let's see how we fare on the second one:\n",
    "\n",
    "<br>\n",
    "\n",
    "###  2 - No police sub-department should have a discrepancy bigger than 5% between the search success rate between protected classes (race, ethnicity, gender)\n",
    "\n",
    "Let's break it down:\n",
    "\n",
    "- for the predictions of each police sub-department\n",
    "- the success rates - a.k.a **precision** - for each protected class \n",
    "- should NOT differ by more than 5% \n",
    "\n",
    "If we have the following test set:\n",
    "\n",
    "| Police department |   P1    |   P2   |  P3   |  P4   |\n",
    "|-------------------|---------|--------|-------|-------| \n",
    "| White |    5000       |     10   |  20000    | 5000  |\n",
    "| Black |   10000       |  20000   |     10    | 5000  |\n",
    "| Asian |    2000       |   1000   |     40    | 5000  |\n",
    "\n",
    "\n",
    "And model 1 has the following precisions:\n",
    "\n",
    "| Police department |   P1    |   P2   |  P3   |  P4   |\n",
    "|-------------------|---------|--------|-------|-------| \n",
    "| White |    0.55   |   0.9   |  0.51  | 0.61  |\n",
    "| Black |    0.5    |   0.53  |  0.2   | 0.62  |\n",
    "| Asian |    0.51   |   0.5   |  0.9   | 0.59  |\n",
    "\n",
    "\n",
    "Does it satisfy these requirements?\n",
    "\n",
    "First, let's add the difference between classes:\n",
    "\n",
    "| Police department |   P1    |   P2   |  P3   |  P4   |\n",
    "|-------------------|---------|--------|-------|-------| \n",
    "| Diff_white_black |    0.05  |  0.37  |  0.29 | 0.01  |\n",
    "| Diff_white_asian |    0.04  |  0.4   |  0.39 | 0.02  |\n",
    "| Diff_black_asian |    0.01  |  0.03  |  0.7  | 0.03  |\n",
    "| Max diff         |    0.05  |  0.4   |  0.7  | 0.03  |\n",
    "| Requirement satisfied         |    ✅  |  ⚠️   |  ⚠️  | ✅  |\n",
    "\n",
    "\n",
    "Once again, let's design a tiny function to verify this requirement:"
   ]
  },
  {
   "cell_type": "code",
   "execution_count": 21,
   "metadata": {},
   "outputs": [],
   "source": [
    "def verify_no_discrimination(X_test, y_true, y_pred, sensitive_column='SubjectRaceCode', max_diff=0.05):\n",
    "    \"\"\"\n",
    "    Verifies that no subdeparment has discrimination in between protected races\n",
    "    \n",
    "    \n",
    "    \"\"\"\n",
    "    \n",
    "    departments = X_test['Department Name'].unique()\n",
    "    sensitive_classes = X_test[sensitive_column].unique()\n",
    "    \n",
    "    is_satisfied = True\n",
    "    problematic_departments = []\n",
    "    good_deparments = []\n",
    "    for department in departments:\n",
    "        precisions = {}\n",
    "        for sensitive_class in sensitive_classes:\n",
    "            mask = (X_test[sensitive_column] == sensitive_class) & (X_test['Department Name'] == department)\n",
    "            if mask.sum():\n",
    "                precisions[sensitive_class] = precision_score(y_true[mask], y_pred[mask], pos_label=1)\n",
    "                \n",
    "        diff = np.max(list(precisions.values())) - np.min(list(precisions.values()))\n",
    "        if diff > max_diff:\n",
    "            is_satisfied = False\n",
    "            problematic_departments.append((department, diff, precisions))\n",
    "        else:\n",
    "            good_deparments.append((department, diff, precisions))\n",
    "\n",
    "    return is_satisfied, problematic_departments, good_deparments\n",
    "\n"
   ]
  },
  {
   "cell_type": "markdown",
   "metadata": {},
   "source": [
    "As we have 3 potential sources of discrimination, let's run our function for each one:"
   ]
  },
  {
   "cell_type": "code",
   "execution_count": 22,
   "metadata": {},
   "outputs": [
    {
     "name": "stderr",
     "output_type": "stream",
     "text": [
      "/Users/catarinasilva/.pyenv/versions/3.8.5/envs/batch4-blu14/lib/python3.8/site-packages/sklearn/metrics/_classification.py:1221: UndefinedMetricWarning: Precision is ill-defined and being set to 0.0 due to no predicted samples. Use `zero_division` parameter to control this behavior.\n",
      "  _warn_prf(average, modifier, msg_start, len(result))\n"
     ]
    },
    {
     "name": "stdout",
     "output_type": "stream",
     "text": [
      "Requirement failed 😢\n",
      "Num problematic departments: 104\n",
      "Num good departments: 10\n",
      "avg diff: 0.526309387255875\n",
      "\n",
      "\n",
      "Gender\n",
      "Requirement failed 😢\n",
      "Num problematic departments: 82\n",
      "Num good departments: 32\n",
      "avg diff: 0.22529260494451797\n",
      "\n",
      "Ethnicity\n",
      "Requirement failed 😢\n",
      "Num problematic departments: 98\n",
      "Num good departments: 16\n",
      "avg diff: 0.42075829710136425\n",
      "Departments analysed: 114\n"
     ]
    }
   ],
   "source": [
    "is_satisfied, problematic_departments, good_deparments = verify_no_discrimination(\n",
    "    X_test_baseline, y_test_baseline, y_pred_baseline)\n",
    "\n",
    "\n",
    "if not is_satisfied:\n",
    "    print(\"Requirement failed 😢\")\n",
    "    print(\"Num problematic departments: {}\".format(len(problematic_departments)))\n",
    "    print(\"Num good departments: {}\".format(len(good_deparments)))\n",
    "\n",
    "    print(\"avg diff:\", np.mean([p[1] for p in problematic_departments]))\n",
    "        \n",
    "print(\"\\n\\nGender\")\n",
    "\n",
    "is_satisfied, problematic_departments, good_deparments = verify_no_discrimination(\n",
    "    X_test_baseline, y_test_baseline, y_pred_baseline, sensitive_column='SubjectSexCode')\n",
    "\n",
    "if not is_satisfied:\n",
    "    print(\"Requirement failed 😢\")\n",
    "    print(\"Num problematic departments: {}\".format(len(problematic_departments)))\n",
    "    print(\"Num good departments: {}\".format(len(good_deparments)))\n",
    "\n",
    "    print(\"avg diff:\", np.mean([p[1] for p in problematic_departments]))\n",
    "        \n",
    "        \n",
    "print(\"\\nEthnicity\")\n",
    "\n",
    "is_satisfied, problematic_departments, good_deparments = verify_no_discrimination(\n",
    "    X_test_baseline, y_test_baseline, y_pred_baseline, sensitive_column='SubjectEthnicityCode')\n",
    "\n",
    "if not is_satisfied:\n",
    "    print(\"Requirement failed 😢\")\n",
    "    print(\"Num problematic departments: {}\".format(len(problematic_departments)))\n",
    "    print(\"Num good departments: {}\".format(len(good_deparments)))\n",
    "\n",
    "    print(\"avg diff:\", np.mean([p[1] for p in problematic_departments]))\n",
    "else:\n",
    "    print(\"Requirement satisfied! 🚀\")\n",
    "\n",
    "print(\"Departments analysed: {}\".format(len(problematic_departments) + len(good_deparments)))\n",
    "\n",
    "        "
   ]
  },
  {
   "cell_type": "markdown",
   "metadata": {},
   "source": [
    "That seems terrible! Not only do the majority of the departments have different success rates for each class but the average difference is quite large.\n",
    "\n",
    "However, let's go back to something we saw before. \n",
    "\n",
    "\n",
    "When we plotted counts on one of the particular sensitive classes - SubjectRaceCode - we saw that there were big discrepancies in the representation of each race. If we plot the same for the targeted dataset under each department we will be able to see how problematic this can be. \n",
    "\n",
    "\n",
    "Check out below examples for a couple of departments and classes:"
   ]
  },
  {
   "cell_type": "code",
   "execution_count": 23,
   "metadata": {},
   "outputs": [
    {
     "data": {
      "image/png": "[encoded data removed]",
      "text/plain": [
       "<Figure size 432x288 with 1 Axes>"
      ]
     },
     "metadata": {
      "needs_background": "light"
     },
     "output_type": "display_data"
    }
   ],
   "source": [
    "df_search[df_search['Department Name'] == 'west hartford'].SubjectRaceCode.value_counts().plot(kind='bar');\n",
    "plt.xlabel('Race');\n",
    "plt.ylabel('Count (west hartford)');\n"
   ]
  },
  {
   "cell_type": "code",
   "execution_count": 24,
   "metadata": {},
   "outputs": [
    {
     "data": {
      "image/png": "[encoded data removed]",
      "text/plain": [
       "<Figure size 432x288 with 1 Axes>"
      ]
     },
     "metadata": {
      "needs_background": "light"
     },
     "output_type": "display_data"
    }
   ],
   "source": [
    "df_search[df_search['Department Name'] == 'greenwich'].SubjectSexCode.value_counts().plot(kind='bar');\n",
    "plt.xlabel('Sex');\n",
    "plt.ylabel('Count (greenwich)');"
   ]
  },
  {
   "cell_type": "code",
   "execution_count": 25,
   "metadata": {},
   "outputs": [
    {
     "data": {
      "image/png": "[encoded data removed]",
      "text/plain": [
       "<Figure size 432x288 with 1 Axes>"
      ]
     },
     "metadata": {
      "needs_background": "light"
     },
     "output_type": "display_data"
    }
   ],
   "source": [
    "df_search[df_search['Department Name'] == 'westport'].SubjectEthnicityCode.value_counts().plot(kind='bar');\n",
    "plt.xlabel('Ethnicity');\n",
    "plt.ylabel('Count (westport)');"
   ]
  },
  {
   "cell_type": "markdown",
   "metadata": {},
   "source": [
    "This points to the fact that we might have very underrepresented classes in our data, and optimizing for those might not be ideal. We can do a couple of changes to our function:\n",
    "\n",
    "- add a threshold to avoid a small amount of samples to be factored in, only taking into account well-represented classes\n",
    "- add a global measure of discrimination\n",
    "\n",
    "See the implementation below:"
   ]
  },
  {
   "cell_type": "code",
   "execution_count": 26,
   "metadata": {},
   "outputs": [],
   "source": [
    "def verify_no_discrimination(X_test, y_true, y_pred, sensitive_column='SubjectRaceCode', max_diff=0.05, min_samples=50):\n",
    "    \"\"\"\n",
    "    Verifies that no subdeparment has discrimination in between protected races\n",
    "    \"\"\"\n",
    "    \n",
    "    departments = X_test['Department Name'].unique()\n",
    "    sensitive_classes = X_test[sensitive_column].unique()\n",
    "    \n",
    "    is_satisfied = True\n",
    "    problematic_departments = []\n",
    "    good_deparments = []\n",
    "    ignored_departments = []\n",
    "    for department in departments:\n",
    "        precisions = {}\n",
    "        for sensitive_class in sensitive_classes:\n",
    "            mask = (X_test[sensitive_column] == sensitive_class) & (X_test['Department Name'] == department)\n",
    "            if np.sum(mask) > min_samples:\n",
    "                precisions[sensitive_class] = precision_score(y_true[mask], y_pred[mask], pos_label=1)\n",
    "                \n",
    "        if len(precisions) > 1:    \n",
    "            diff = np.max(list(precisions.values())) - np.min(list(precisions.values()))\n",
    "\n",
    "            if diff > max_diff:\n",
    "                is_satisfied = False\n",
    "                problematic_departments.append((department, diff, precisions))\n",
    "            else:\n",
    "                good_deparments.append((department, diff, precisions))\n",
    "        else:\n",
    "            ignored_departments.append((department, None, []))\n",
    "    \n",
    "    global_precisions = {}\n",
    "    for sensitive_class in sensitive_classes:\n",
    "        mask = (X_test[sensitive_column] == sensitive_class)\n",
    "        if np.sum(mask) > min_samples:\n",
    "            global_precisions[sensitive_class] = precision_score(y_true[mask], y_pred[mask], pos_label=1)\n",
    "    \n",
    "    if len(precisions) > 1:    \n",
    "        diff = np.max(list(precisions.values())) - np.min(list(precisions.values()))\n",
    "        if diff > max_diff:\n",
    "            is_satisfied = False\n",
    "        \n",
    "    return is_satisfied, problematic_departments, good_deparments, global_precisions\n",
    "\n"
   ]
  },
  {
   "cell_type": "markdown",
   "metadata": {},
   "source": [
    "We can now re-run our verification code:"
   ]
  },
  {
   "cell_type": "code",
   "execution_count": 27,
   "metadata": {},
   "outputs": [
    {
     "name": "stdout",
     "output_type": "stream",
     "text": [
      "Race\n",
      "Requirement failed 😢\n",
      "Global rates: {'A': 0.5131578947368421, 'W': 0.5665961945031712, 'B': 0.4615141955835962, 'I': 0.5454545454545454}\n",
      "Num problematic departments: 27\n",
      "Num good departments: 12\n",
      "avg diff: 0.1578197942623296\n",
      "\n",
      "\n",
      "Gender\n",
      "Requirement failed 😢\n",
      "Global rates: {'M': 0.5317674691720493, 'F': 0.5443786982248521}\n",
      "Num problematic departments: 19\n",
      "Num good departments: 11\n",
      "avg diff: 0.12856514081985473\n",
      "\n",
      "\n",
      "Ethnicity\n",
      "Requirement failed 😢\n",
      "Global rates: {'N': 0.5444796490372897, 'H': 0.4975822050290135, 'M': 0.43}\n",
      "Num problematic departments: 24\n",
      "Num good departments: 10\n",
      "avg diff: 0.1372623471471484\n",
      "Departments analysed: 34\n"
     ]
    }
   ],
   "source": [
    "is_satisfied, problematic_departments, good_deparments, global_precisions = verify_no_discrimination(\n",
    "    X_test_baseline, y_test_baseline, y_pred_baseline)\n",
    "\n",
    "\n",
    "print(\"Race\")\n",
    "\n",
    "if not is_satisfied:\n",
    "    print(\"Requirement failed 😢\")\n",
    "    print(\"Global rates: {}\".format(global_precisions))\n",
    "    print(\"Num problematic departments: {}\".format(len(problematic_departments)))\n",
    "    print(\"Num good departments: {}\".format(len(good_deparments)))\n",
    "\n",
    "    print(\"avg diff:\", np.mean([p[1] for p in problematic_departments]))\n",
    "        \n",
    "print(\"\\n\\nGender\")\n",
    "\n",
    "is_satisfied, problematic_departments, good_deparments, global_precisions = verify_no_discrimination(\n",
    "    X_test_baseline, y_test_baseline, y_pred_baseline, sensitive_column='SubjectSexCode')\n",
    "\n",
    "if not is_satisfied:\n",
    "    print(\"Requirement failed 😢\")\n",
    "    print(\"Global rates: {}\".format(global_precisions))\n",
    "    print(\"Num problematic departments: {}\".format(len(problematic_departments)))\n",
    "    print(\"Num good departments: {}\".format(len(good_deparments)))\n",
    "\n",
    "    print(\"avg diff:\", np.mean([p[1] for p in problematic_departments]))\n",
    "\n",
    "print(\"\\n\\nEthnicity\")\n",
    "\n",
    "is_satisfied, problematic_departments, good_deparments, global_precisions = verify_no_discrimination(\n",
    "    X_test_baseline, y_test_baseline, y_pred_baseline, sensitive_column='SubjectEthnicityCode')\n",
    "\n",
    "if not is_satisfied:\n",
    "    print(\"Requirement failed 😢\")\n",
    "    print(\"Global rates: {}\".format(global_precisions))\n",
    "    print(\"Num problematic departments: {}\".format(len(problematic_departments)))\n",
    "    print(\"Num good departments: {}\".format(len(good_deparments)))\n",
    "\n",
    "    print(\"avg diff:\", np.mean([p[1] for p in problematic_departments]))\n",
    "else:\n",
    "    print(\"Requirement satisfied! 🚀\")\n",
    "\n",
    "print(\"Departments analysed: {}\".format(len(problematic_departments) + len(good_deparments)))        "
   ]
  },
  {
   "cell_type": "markdown",
   "metadata": {},
   "source": [
    "Our model still seems not to satisfy this requirement but not in such a terrible way as before.\n",
    "\n",
    "\n",
    "<br>\n",
    "\n",
    "###  3 - The largest possible amount of contraband found, given the constraints above\n",
    "\n",
    "Finally, we want to maximize the contraband found. Well, this should be simple right? We want the highest possible number of true positives, despite also potentially having more false positives, within the other constraints. Once again, this should ring a bell:\n",
    "\n",
    "\n",
    "$$\n",
    "Recall = \\frac{True Positives}{Total Existing Positives} = \\frac{True Positives}{True Positives + False Negatives}\n",
    "$$\n",
    "\n",
    "We build a final function to provide this measure:\n",
    "\n"
   ]
  },
  {
   "cell_type": "code",
   "execution_count": 28,
   "metadata": {},
   "outputs": [],
   "source": [
    "def verify_amount_found(y_true, y_pred):\n",
    "    \"\"\"\n",
    "    Verifies the amout of contraband found in the test dataset - a.k.a the recall in our test set\n",
    "    \"\"\"\n",
    "    \n",
    "    recall = recall_score(y_true, y_pred, pos_label=True)    \n",
    "    return recall\n"
   ]
  },
  {
   "cell_type": "markdown",
   "metadata": {},
   "source": [
    "And we run it on our baseline:"
   ]
  },
  {
   "cell_type": "code",
   "execution_count": 29,
   "metadata": {},
   "outputs": [
    {
     "data": {
      "text/plain": [
       "0.6521483225426722"
      ]
     },
     "execution_count": 29,
     "metadata": {},
     "output_type": "execute_result"
    }
   ],
   "source": [
    "verify_amount_found(y_test_baseline, y_pred_baseline)\n"
   ]
  },
  {
   "cell_type": "markdown",
   "metadata": {},
   "source": [
    "Since here we do not have a hard requirement to pass or fail, this value is as good as any other value, and only when we start working on the next iterations of the model, can we use it for comparison with the baseline.\n",
    "\n",
    "Not bad for a first model, right? I mean, it's not like the cops were that efficient...\n",
    "\n",
    "<img src=\"media/model-mistakes.png\" width=600 />\n",
    "\n",
    "\n",
    "\n",
    "<br>\n",
    "\n",
    "### Fairness tradeoffs\n",
    "\n",
    "On the next iteration, you might choose to remove the features that are directly tied to sensitive classes, such as race, gender and ethnicity.\n",
    "\n",
    "In fact, let's see what would happen if you train a model with just the statute reason:"
   ]
  },
  {
   "cell_type": "code",
   "execution_count": 30,
   "metadata": {},
   "outputs": [
    {
     "data": {
      "text/plain": [
       "0.5323198592368573"
      ]
     },
     "execution_count": 30,
     "metadata": {},
     "output_type": "execute_result"
    }
   ],
   "source": [
    "target = 'ContrabandIndicator'\n",
    "\n",
    "all_features = [\n",
    "  'StatuteReason', \n",
    "]\n",
    "\n",
    "categorical_transformer = Pipeline(steps=[\n",
    "    ('imputer', SimpleImputer(strategy='constant', fill_value='missing')),\n",
    "    ('onehot', OneHotEncoder(handle_unknown='ignore'))])\n",
    "\n",
    "preprocessor = ColumnTransformer(\n",
    "    transformers=[\n",
    "        ('cat', categorical_transformer, all_features)])\n",
    "\n",
    "pipeline = make_pipeline(\n",
    "    preprocessor,\n",
    "    RandomForestClassifier(max_depth=3, min_samples_leaf=.03, class_weight=\"balanced\", random_state=42, n_jobs=-1),\n",
    ")\n",
    "\n",
    "X_train = df_train[all_features]\n",
    "y_train = df_train[target]\n",
    "\n",
    "pipeline.fit(X_train, y_train)\n",
    "\n",
    "X_test = df_test[all_features]\n",
    "y_test = df_test[target]\n",
    "\n",
    "y_pred = pipeline.predict(X_test)\n",
    "\n",
    "# To use on other cells\n",
    "X_train_sensitive = X_train.copy()\n",
    "X_test_sensitive = df_test.copy()\n",
    "y_test_sensitive = X_test_baseline[target].copy()\n",
    "y_pred_sensitive = y_pred.copy()\n",
    "pipeline_sensitive = pipeline\n",
    "\n",
    "roc_auc_score(y_test, y_pred)\n"
   ]
  },
  {
   "cell_type": "markdown",
   "metadata": {},
   "source": [
    "We had a small drop in the original metric (ROC_AUC), but what about our requirements? \n",
    "\n",
    "We'll now run all of the verification functions we built:"
   ]
  },
  {
   "cell_type": "code",
   "execution_count": 31,
   "metadata": {},
   "outputs": [
    {
     "data": {
      "text/plain": [
       "(False, 0.3767835124185309)"
      ]
     },
     "execution_count": 31,
     "metadata": {},
     "output_type": "execute_result"
    }
   ],
   "source": [
    "verify_success_rate_above(y_test_sensitive, y_pred_sensitive)\n"
   ]
  },
  {
   "cell_type": "code",
   "execution_count": 32,
   "metadata": {},
   "outputs": [
    {
     "name": "stdout",
     "output_type": "stream",
     "text": [
      "Race\n",
      "Requirement failed 😢\n",
      "Global rates: {'A': 0.3684210526315789, 'W': 0.39516666666666667, 'B': 0.33271604938271604, 'I': 0.2807017543859649}\n",
      "Num problematic departments: 17\n",
      "Num good departments: 22\n",
      "avg diff: 0.09996879384231046\n",
      "\n",
      "\n",
      "Gender\n",
      "Requirement failed 😢\n",
      "Global rates: {'M': 0.3742120343839542, 'F': 0.38847281015955715}\n",
      "Num problematic departments: 23\n",
      "Num good departments: 7\n",
      "avg diff: 0.10884603633900546\n",
      "\n",
      "\n",
      "Ethnicity\n",
      "Requirement failed 😢\n",
      "Global rates: {'N': 0.3952068386505877, 'H': 0.31659919028340083, 'M': 0.29464285714285715}\n",
      "Num problematic departments: 23\n",
      "Num good departments: 11\n",
      "avg diff: 0.10419344690498486\n",
      "Departments analysed: 34\n"
     ]
    }
   ],
   "source": [
    "is_satisfied, problematic_departments, good_deparments, global_precisions = verify_no_discrimination(\n",
    "    X_test_sensitive, y_test_sensitive, y_pred_sensitive)\n",
    "\n",
    "\n",
    "print(\"Race\")\n",
    "\n",
    "if not is_satisfied:\n",
    "    print(\"Requirement failed 😢\")\n",
    "    print(\"Global rates: {}\".format(global_precisions))\n",
    "    print(\"Num problematic departments: {}\".format(len(problematic_departments)))\n",
    "    print(\"Num good departments: {}\".format(len(good_deparments)))\n",
    "\n",
    "    print(\"avg diff:\", np.mean([p[1] for p in problematic_departments]))\n",
    "        \n",
    "print(\"\\n\\nGender\")\n",
    "\n",
    "is_satisfied, problematic_departments, good_deparments, global_precisions = verify_no_discrimination(\n",
    "    X_test_sensitive, y_test_sensitive, y_pred_sensitive, sensitive_column='SubjectSexCode')\n",
    "\n",
    "if not is_satisfied:\n",
    "    print(\"Requirement failed 😢\")\n",
    "    print(\"Global rates: {}\".format(global_precisions))\n",
    "    print(\"Num problematic departments: {}\".format(len(problematic_departments)))\n",
    "    print(\"Num good departments: {}\".format(len(good_deparments)))\n",
    "\n",
    "    print(\"avg diff:\", np.mean([p[1] for p in problematic_departments]))\n",
    "\n",
    "print(\"\\n\\nEthnicity\")\n",
    "\n",
    "is_satisfied, problematic_departments, good_deparments, global_precisions = verify_no_discrimination(\n",
    "    X_test_sensitive, y_test_sensitive, y_pred_sensitive, sensitive_column='SubjectEthnicityCode')\n",
    "\n",
    "if not is_satisfied:\n",
    "    print(\"Requirement failed 😢\")\n",
    "    print(\"Global rates: {}\".format(global_precisions))\n",
    "    print(\"Num problematic departments: {}\".format(len(problematic_departments)))\n",
    "    print(\"Num good departments: {}\".format(len(good_deparments)))\n",
    "\n",
    "    print(\"avg diff:\", np.mean([p[1] for p in problematic_departments]))\n",
    "else:\n",
    "    print(\"Requirement satisfied! 🚀\")\n",
    "\n",
    "print(\"Departments analysed: {}\".format(len(problematic_departments) + len(good_deparments)))\n",
    "\n",
    "        "
   ]
  },
  {
   "cell_type": "code",
   "execution_count": 33,
   "metadata": {},
   "outputs": [
    {
     "data": {
      "text/plain": [
       "0.755385520894644"
      ]
     },
     "execution_count": 33,
     "metadata": {},
     "output_type": "execute_result"
    }
   ],
   "source": [
    "verify_amount_found(y_test_sensitive, y_pred_sensitive)\n"
   ]
  },
  {
   "cell_type": "markdown",
   "metadata": {},
   "source": [
    "So, if we summarize our two models, we get:\n",
    "\n",
    "\n",
    "| Model |   Baseline    |  Second iteration   |  Best model |\n",
    "|-------------------|---------|--------|--------| \n",
    "| Requirement 1 - success rate |     0.53  |  0.38  | 1 |\n",
    "| Requirement 2 - global discrimination (race) |  0.105  |  0.11  | 1 |\n",
    "| Requirement 2 - global discrimination (sex) | 0.012  | 0.014 | 1 |\n",
    "| Requirement 2 - global discrimination (ethnicity) | 0.114  |  0.101   | 2 | \n",
    "| Requirement 2 - # department discrimination (race) | 27 |  17 | 2 |\n",
    "| Requirement 2 - # department discrimination (sex) | 19 |  23 | 1 |\n",
    "| Requirement 2 - # department discrimination (ethnicity) | 24 |  23  | 2 |\n",
    "| Requirement 3 - contraband found (Recall) | 0.65  | 0.76  | 2 | \n",
    "\n",
    "\n",
    "So there are clearly pros and cons in each model, and in some cases you might need to make hard decisions. These 2 models are simple baselines, but even when you go further and optimize to reduce discrimination, for example, you may not be able to satisfy the first requirement. \n",
    "\n",
    "However you decide, the important thing is to explain well the process you used and explain to your client what are the trade-offs in place, as well as understand what they may want to prioritize.\n",
    "\n",
    "Keep in mind that, in this case, if there were biases already in play, it might be hard to escape those, and you may want to suggest ways of tackling this problem further. For example, you may suggest that non-selected cars are searched at random to collect more data.\n"
   ]
  },
  {
   "cell_type": "markdown",
   "metadata": {},
   "source": [
    "<br>\n",
    "\n",
    "## Privacy requirements\n",
    "\n",
    "\n",
    "Finally, there is always a level of privacy requirements that you need to account for. Even if your client does not request anything in particular in this sense, this is not something you can forget. So why do we care about privacy?\n",
    "\n",
    "Most datasets we use for real-life applications have people's data, and with that any sort of personal information. Any such information that can potentially identify a specific individual is regarded as **personally identifiable information**. Some types of PII:\n",
    "\n",
    "- Names\n",
    "- Addresses\n",
    "- Phone numbers\n",
    "- Emails\n",
    "- Medical information\n",
    "- Payment values \n",
    "- ...\n",
    "\n",
    "Some of these can be used to directly identify a person and some can be used together with other information to get there. All of it can be considered PII.\n",
    "\n",
    "\n",
    "####  Why do you care?\n",
    "\n",
    "- First, it is your ethical responsibility to make sure you protect the data you use when it contains sensitive information about any person (and we hope all academy students have this strong sense of ethics and want to have a positive impact)\n",
    "- Even if you don't care about ethics, there are laws concerning privacy. _Looking at you, GDPR_\n",
    "\n",
    "\n",
    "Not going to bore you with the details, but GDPR - General Data Protection Regulation - is a set of regulations that is in effect in all EU, that concern data protection and privacy. This regulation imposes that companies respect a set of individual rights of every person:\n",
    "\n",
    "1. The right to be informed\n",
    "1. The right of access\n",
    "1. The right to rectification\n",
    "1. The right to erasure (or right to be forgotten)\n",
    "1. The right to restrict processing\n",
    "1. The right to data portability\n",
    "1. The right to object\n",
    "1. Rights in relation to automated decision making and profiling\n",
    "\n",
    "There are also other principles and a lot more details to it, and if you just search for it you can dive fully into it. But mostly what you need to know is that, since 2016, data protection is not just a perk that some companies offer, but it is actually mandatory.  \n",
    "\n",
    "\n",
    "\n",
    "####  What can you do?\n",
    "\n",
    "- avoid collecting PII that you won't need for your application \n",
    "- make sure the people working with the data have access only to the portion of data they need\n",
    "- even if you need the PII for something, avoid replicating it in a lot of different places, using ids instead can work in some cases\n",
    "- anonymize information whenever possible in a way that prevents completely or at least makes it more difficult to trace back this information\n",
    "- encryption of data\n",
    "\n",
    "These sound very abstract - and they are - because in every application there are different types of PII and protecting it completely is not an easy task.\n",
    "\n",
    "\n",
    "<img src=\"media/everyone-gets-privacy.jpeg\" width=400 />\n"
   ]
  },
  {
   "cell_type": "markdown",
   "metadata": {},
   "source": [
    "<br>\n",
    "\n",
    "## Prepare for deploy\n",
    "\n",
    "We are going to decide to go with our first model. Even though it fails the second requirement, its recall is not terrible and the differences in the rates between classes are tolerable. \n",
    "\n",
    "We'll use what we've learned from the first BLU of this specialization to serialize our model."
   ]
  },
  {
   "cell_type": "code",
   "execution_count": 34,
   "metadata": {},
   "outputs": [],
   "source": [
    "with open('columns.json', 'w') as fh:\n",
    "    json.dump(X_train_baseline.columns.tolist(), fh)\n",
    "    \n",
    "with open('dtypes.pickle', 'wb') as fh:\n",
    "    pickle.dump(X_train_baseline.dtypes, fh)\n",
    "    \n",
    "joblib.dump(pipeline_baseline, 'pipeline.pickle');"
   ]
  },
  {
   "cell_type": "markdown",
   "metadata": {},
   "source": [
    "We can now deploy our model and pray to the gods of production to spare us from different distributions!\n",
    "\n",
    "<img src=\"media/surprised-pikachu.jpg\" width=350 />\n",
    "\n",
    "\n",
    "Move on to the next BLU to see what other problems you can fight when sending your model out to the wild."
   ]
  }
 ],
 "metadata": {
  "kernelspec": {
   "display_name": "Python 3",
   "language": "python",
   "name": "python3"
  },
  "language_info": {
   "codemirror_mode": {
    "name": "ipython",
    "version": 3
   },
   "file_extension": ".py",
   "mimetype": "text/x-python",
   "name": "python",
   "nbconvert_exporter": "python",
   "pygments_lexer": "ipython3",
   "version": "3.8.5"
  }
 },
 "nbformat": 4,
 "nbformat_minor": 4
}
