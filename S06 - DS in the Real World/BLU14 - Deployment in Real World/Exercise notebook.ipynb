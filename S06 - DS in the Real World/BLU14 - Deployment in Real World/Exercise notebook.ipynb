{
 "cells": [
  {
   "cell_type": "markdown",
   "metadata": {
    "deletable": false,
    "editable": false,
    "nbgrader": {
     "grade": false,
     "grade_id": "cell-b07abb410d0b03e8",
     "locked": true,
     "schema_version": 3,
     "solution": false,
     "task": false
    }
   },
   "source": [
    "\n",
    "# BLU14 - Exercise Notebook\n"
   ]
  },
  {
   "cell_type": "code",
   "execution_count": null,
   "metadata": {
    "deletable": false,
    "editable": false,
    "nbgrader": {
     "grade": false,
     "grade_id": "cell-6029358aaa125687",
     "locked": true,
     "schema_version": 3,
     "solution": false,
     "task": false
    }
   },
   "outputs": [],
   "source": [
    "import os\n",
    "import base64\n",
    "import joblib\n",
    "import pandas as pd\n",
    "import numpy as np\n",
    "import category_encoders\n",
    "import json\n",
    "import joblib\n",
    "import pickle\n",
    "import math\n",
    "import requests\n",
    "from copy import deepcopy\n",
    "import seaborn as sns\n",
    "from uuid import uuid4\n",
    "\n",
    "from sklearn.model_selection import train_test_split\n",
    "from sklearn.pipeline import make_pipeline, Pipeline\n",
    "from sklearn.model_selection import cross_val_score\n",
    "from category_encoders import OneHotEncoder\n",
    "from sklearn.impute import SimpleImputer\n",
    "from sklearn.preprocessing import StandardScaler, OneHotEncoder\n",
    "from sklearn.compose import ColumnTransformer\n",
    "from sklearn.model_selection import cross_val_score\n",
    "from sklearn.ensemble import RandomForestClassifier\n",
    "from sklearn.linear_model import LogisticRegression\n",
    "from sklearn.metrics import precision_score, recall_score, f1_score, accuracy_score, roc_auc_score\n",
    "\n",
    "import matplotlib.pyplot as plt\n",
    "import matplotlib.image as mpimg\n",
    "%matplotlib inline"
   ]
  },
  {
   "cell_type": "markdown",
   "metadata": {
    "deletable": false,
    "editable": false,
    "nbgrader": {
     "grade": false,
     "grade_id": "cell-1e4de53acc49a080",
     "locked": true,
     "schema_version": 3,
     "solution": false,
     "task": false
    }
   },
   "source": [
    "After the police, you nailed another big client. A bank hired you to assess whether or not a person is potentially a good client. For that purpose, they want you to design a system that tries to predict if a given individual earns more than 50K a year. You're no expert in the financial field, but you decide to take on the challenge. They provide you with a dataset of existing clients they have and their earnings.\n",
    "\n",
    "<img src=\"media/banks.png\" width=400 />\n",
    "\n",
    "\n",
    "They also provide you with the following data description:\n",
    "\n",
    "#### Attribute Information\n",
    "\n",
    "    1) age - client's age\n",
    "    2) workclass - type of work performed by the client (eg. `Private`)\n",
    "    3) fnlwgt - final weight assigned by the Census Bureau: if two samples have the same (or similar) fnlwgt they have similar characteristics, demographically speaking\n",
    "    4) education - level of education of client (eg. `Bachelors`)\n",
    "    5) education-num - \n",
    "    6) marital-status - client's marital status (eg `Widowed`)\n",
    "    7) occupation - type of job held by the client (eg. `Craft-repair`)\n",
    "    8) relationship - \n",
    "    9) race - client's race\n",
    "    10) sex - \"male\"/\"female\"\n",
    "    11) capital-gain - total capital gain in the previous year\n",
    "    12) capital-loss - total capital loss in previous year\n",
    "    13) hours-per-week - number of hours the the client works per week\n",
    "    14) native-country - client's original nationality (eg. `Portugal`)\n",
    "\n",
    "\n",
    "**Note**: even if the dataset has values outside of the data dictionary, you should for these exercises consider the data dictionary as the source of truth.\n",
    "\n",
    "Load the dataset below and check out its format:\n"
   ]
  },
  {
   "cell_type": "code",
   "execution_count": null,
   "metadata": {
    "deletable": false,
    "editable": false,
    "nbgrader": {
     "grade": false,
     "grade_id": "cell-38fc8b0a01b6c17d",
     "locked": true,
     "schema_version": 3,
     "solution": false,
     "task": false
    }
   },
   "outputs": [],
   "source": [
    "def load_data():\n",
    "    df = pd.read_csv(os.path.join(\"data\", \"bank.csv\"))\n",
    "    return df\n",
    "\n",
    "df = load_data()\n",
    "df.head()\n"
   ]
  },
  {
   "cell_type": "markdown",
   "metadata": {
    "deletable": false,
    "editable": false,
    "nbgrader": {
     "grade": false,
     "grade_id": "cell-b1f0716dd0e185a8",
     "locked": true,
     "schema_version": 3,
     "solution": false,
     "task": false
    }
   },
   "source": [
    "Let's split our data into train and test:"
   ]
  },
  {
   "cell_type": "code",
   "execution_count": null,
   "metadata": {
    "deletable": false,
    "editable": false,
    "nbgrader": {
     "grade": false,
     "grade_id": "cell-3079f4bf5c6b51a5",
     "locked": true,
     "schema_version": 3,
     "solution": false,
     "task": false
    }
   },
   "outputs": [],
   "source": [
    "df = load_data()\n",
    "df_train, df_test = train_test_split(df, test_size=0.3, random_state=42)\n",
    "\n",
    "df_test.salary.value_counts().plot(kind=\"bar\");\n",
    "plt.xlabel('Target value');\n",
    "plt.ylabel('Target value counts');\n"
   ]
  },
  {
   "cell_type": "markdown",
   "metadata": {
    "deletable": false,
    "editable": false,
    "nbgrader": {
     "grade": false,
     "grade_id": "cell-b5a701873eb4a857",
     "locked": true,
     "schema_version": 3,
     "solution": false,
     "task": false
    }
   },
   "source": [
    "### Q1)  \n",
    "\n",
    "### Q1.a) Train a baseline model\n",
    "\n",
    "Build a baseline model for this problem (don't worry about performance for now) and serialize it. Use the following features:\n",
    "\n",
    "    1) age \n",
    "    2) workclass - type of work performed by the client (eg. `Private`)\n",
    "    4) education - level of education of client (eg. `Bachelors`)\n",
    "    6) marital-status - client's marital status (eg `Widowed`)\n",
    "    9) race - client's race\n",
    "    10) sex - \"male\"/\"female\"\n",
    "    11) capital-gain - total capital gain in the previous year\n",
    "    12) capital-loss - total capital loss in the previous year\n",
    "    13) hours-per-week - number of hours the client works per week\n",
    "\n",
    "Make sure to change the target so that it has a binary value - True or False - instead of the original values. In particular:\n",
    "\n",
    "* False: client has as a salary of less than 50K\n",
    "* True: client has as a salary higher or equal to 50K\n",
    "\n",
    "**Note**: As we already provided the split, use the `df_train` to train your model.\n",
    "\n",
    "**Note 2**: If you use models or functions that have a random component, ensure that you pass a random state so that there are no surprises when you submit."
   ]
  },
  {
   "cell_type": "code",
   "execution_count": null,
   "metadata": {
    "deletable": false,
    "editable": false,
    "nbgrader": {
     "grade": false,
     "grade_id": "cell-c0f8bd2fd8a95779",
     "locked": true,
     "schema_version": 3,
     "solution": false,
     "task": false
    }
   },
   "outputs": [],
   "source": [
    "# This is a temporary directory where your serialized files will be saved. Make sure you use this as \n",
    "# the target folder when you serialize your files\n",
    "TMP_DIR = '/tmp'"
   ]
  },
  {
   "cell_type": "code",
   "execution_count": null,
   "metadata": {
    "deletable": false,
    "nbgrader": {
     "grade": false,
     "grade_id": "cell-6a8b3cf903220496",
     "locked": false,
     "schema_version": 3,
     "solution": true,
     "task": false
    }
   },
   "outputs": [],
   "source": [
    "# Write code to train and serialize a model in the block below\n",
    "#\n",
    "# Outputs expected: `columns.json`, `dtypes.pickle` and `pipeline.pickle`\n",
    "#\n",
    "# Your pipeline should be able to receive a dataframe with the columns we've requested you to use\n",
    "# in the form `pipeline.predict(test_df)`\n",
    "#\n",
    "\n",
    "# YOUR CODE HERE\n",
    "raise NotImplementedError()"
   ]
  },
  {
   "cell_type": "markdown",
   "metadata": {},
   "source": [
    "Test your procedure is correct by running the asserts below:"
   ]
  },
  {
   "cell_type": "code",
   "execution_count": null,
   "metadata": {
    "deletable": false,
    "editable": false,
    "nbgrader": {
     "grade": true,
     "grade_id": "cell-02ebbb63fbd9f79a",
     "locked": true,
     "points": 2,
     "schema_version": 3,
     "solution": false,
     "task": false
    }
   },
   "outputs": [],
   "source": [
    "with open(os.path.join(TMP_DIR, 'columns.json')) as fh:\n",
    "    columns = json.load(fh)\n",
    "    assert columns == [\"age\", \"workclass\", \"education\", \"marital-status\", \"race\", \"sex\", \"capital-gain\", \"capital-loss\", \"hours-per-week\"]\n",
    "\n",
    "with open(os.path.join(TMP_DIR, 'dtypes.pickle'), 'rb') as fh:\n",
    "    dtypes = pickle.load(fh)\n",
    "    assert dtypes.apply(lambda x: str(x)).isin([\"int64\", \"int32\", \"object\"]).all()\n",
    "\n",
    "with open(os.path.join(TMP_DIR, 'pipeline.pickle'), 'rb') as fh:\n",
    "    pipeline = joblib.load(fh)\n",
    "    assert isinstance(pipeline, Pipeline)\n",
    "    assert pipeline.predict(pd.DataFrame([{\n",
    "        \"age\": 23, \n",
    "        \"workclass\": \"Private\", \n",
    "        \"education\": \"Bachelors\", \n",
    "        \"marital-status\": \"Widowed\", \n",
    "        \"race\": \"White\",\n",
    "        \"sex\": \"male\",\n",
    "        \"capital-gain\": 0, \n",
    "        \"capital-loss\": 0, \n",
    "        \"hours-per-week\": 40}\n",
    "    ], columns=columns).astype(dtypes)) in [0, 1]"
   ]
  },
  {
   "cell_type": "markdown",
   "metadata": {
    "deletable": false,
    "editable": false,
    "nbgrader": {
     "grade": false,
     "grade_id": "cell-cec5bed529e037b7",
     "locked": true,
     "schema_version": 3,
     "solution": false,
     "task": false
    }
   },
   "source": [
    "### Q1.b) Client requirements\n",
    "\n",
    "\n",
    "Now, the client asks you one more thing. They want to make sure your model is as good at retrieving male cases of high salary as it is retrieving female cases. \n",
    "\n",
    "For example, if we have a pool of clients where 100 male clients earn more than 50K and we retrieve 80 out of those, and where 100 female patients also earn more than 50K but we only return 20 from those, then you're discriminating and that's not ok. A similar proportion, such as 75 women out of the 100 that earn higher, is expected.\n",
    "\n",
    "Build a small function to verify this. In particular, make sure that the difference in percentage points is not higher than 10:"
   ]
  },
  {
   "cell_type": "code",
   "execution_count": null,
   "metadata": {
    "deletable": false,
    "nbgrader": {
     "grade": false,
     "grade_id": "cell-0ca5bf28d4e81180",
     "locked": false,
     "schema_version": 3,
     "solution": true,
     "task": false
    }
   },
   "outputs": [],
   "source": [
    "def verify_retrieve_rates(X_test, y_true, y_test):\n",
    "    \"\"\"\n",
    "    Verify retrieval rates for different `sex` instances are \n",
    "    not different by more than 10 percentage points\n",
    "    \n",
    "    Inputs:\n",
    "        X_test: features for the test cases\n",
    "        y_true: true labels for the test cases [0, 1]\n",
    "        y_test: predictions for the test cases [0, 1]\n",
    "\n",
    "    Returns: tuple of (success, rate_difference)\n",
    "        success: True if the condition is satisfied, otherwise False\n",
    "        rate_difference: difference between each class retrieval rates (as an absolute value) \n",
    "        \n",
    "    \"\"\"\n",
    "    # YOUR CODE HERE\n",
    "    raise NotImplementedError()"
   ]
  },
  {
   "cell_type": "markdown",
   "metadata": {
    "deletable": false,
    "editable": false,
    "nbgrader": {
     "grade": false,
     "grade_id": "cell-8c29ef35a9d73ebd",
     "locked": true,
     "schema_version": 3,
     "solution": false,
     "task": false
    }
   },
   "source": [
    "Verify your function is working on a couple of models."
   ]
  },
  {
   "cell_type": "code",
   "execution_count": null,
   "metadata": {
    "deletable": false,
    "editable": false,
    "nbgrader": {
     "grade": true,
     "grade_id": "cell-d445e07c99ff6fff",
     "locked": true,
     "points": 2,
     "schema_version": 3,
     "solution": false,
     "task": false
    }
   },
   "outputs": [],
   "source": [
    "\n",
    "model_1 = pd.read_csv(os.path.join('data', 'data_model_1.csv'))\n",
    "\n",
    "X_test = model_1.copy().drop(columns=['target', 'prediction'])\n",
    "y_test = model_1.target\n",
    "y_pred = model_1.prediction\n",
    "\n",
    "success, rate_diff = verify_retrieve_rates(X_test, y_test, y_pred) \n",
    "\n",
    "assert success is False\n",
    "assert math.isclose(rate_diff, 0.55)\n",
    "\n",
    "model_2 = pd.read_csv(os.path.join('data', 'data_model_2.csv'))\n",
    "\n",
    "X_test = model_2.copy().drop(columns=['target', 'prediction'])\n",
    "y_test = model_2.target\n",
    "y_pred = model_2.prediction\n",
    "\n",
    "success, rate_diff = verify_retrieve_rates(X_test, y_test, y_pred) \n",
    "\n",
    "assert success is True\n",
    "assert math.isclose(rate_diff, 0.050000000000000044)\n"
   ]
  },
  {
   "cell_type": "markdown",
   "metadata": {
    "deletable": false,
    "editable": false,
    "nbgrader": {
     "grade": false,
     "grade_id": "cell-f60c10e28e9ad450",
     "locked": true,
     "schema_version": 3,
     "solution": false,
     "task": false
    }
   },
   "source": [
    "If you passed the asserts, you've defused this task. Move forward to the next one.\n",
    "\n",
    "<img src=\"media/client-specs.png\" width=400 />\n",
    "\n",
    "\n",
    "\n",
    "\n",
    "<br>\n",
    "\n",
    "### Q2) Prepare the model to be served\n",
    "\n",
    "\n",
    "Now, use the model that you built for Q1 and build a predict function around it that will parse the request and return the respective prediction. Split your code into initialization and prediction code as you've learned. Additionally, instead of returning 0 or 1, return True or False. Do not worry about potential bad inputs at this point, we'll get to it later on.\n",
    "\n"
   ]
  },
  {
   "cell_type": "code",
   "execution_count": null,
   "metadata": {
    "deletable": false,
    "nbgrader": {
     "grade": false,
     "grade_id": "cell-41c50b60ab6b94be",
     "locked": false,
     "schema_version": 3,
     "solution": true,
     "task": false
    }
   },
   "outputs": [],
   "source": [
    "# Initialization code\n",
    "\n",
    "# YOUR CODE HERE\n",
    "raise NotImplementedError()\n",
    "\n",
    "\n",
    "def predict(request):\n",
    "    \"\"\"\n",
    "    Produce prediction for request.\n",
    "    \n",
    "    Inputs:\n",
    "        request: dictionary with format described below\n",
    "        \n",
    "        ```\n",
    "        {\n",
    "            \"observation_id\": <id-as-a-string>,\n",
    "            \"data\": {\n",
    "                \"age\": <value>,\n",
    "                \"sex\": <value>,\n",
    "                \"race\": <value>,\n",
    "                \"workclass\": <value>,\n",
    "                \"education\": <value>,\n",
    "                \"marital-status\": <value>,\n",
    "                \"capital-gain\": <value>,\n",
    "                \"capital-loss\": <value>,\n",
    "                \"hours-per-week\": <value>,\n",
    "            }\n",
    "        }\n",
    "        ```\n",
    "    \n",
    "    Returns:\n",
    "        response: A dictionary echoing the request and its data with the addition of the prediction and probability \n",
    "            ```\n",
    "            {\n",
    "                \"observation_id\": <id-of-request>,\n",
    "                \"age\": <value-of-request>,\n",
    "                \"sex\": <value-of-request>,\n",
    "                \"race\": <value-of-request>,\n",
    "                \"workclass\": <value-of-request>,\n",
    "                \"education\": <value-of-request>,\n",
    "                \"marital-status\": <value-of-request>,\n",
    "                \"capital-gain\": <value-of-request>,\n",
    "                \"capital-loss\": <value-of-request>,\n",
    "                \"hours-per-week\": <value-of-request>,\n",
    "                \"prediction\": <True|False>,\n",
    "                \"probability\": <probability generated by model>\n",
    "            }\n",
    "            ```\n",
    "    \"\"\"\n",
    "    # YOUR CODE HERE\n",
    "    raise NotImplementedError()\n",
    "    return response"
   ]
  },
  {
   "cell_type": "markdown",
   "metadata": {
    "deletable": false,
    "editable": false,
    "nbgrader": {
     "grade": false,
     "grade_id": "cell-053d4ccfe2e0d5cc",
     "locked": true,
     "schema_version": 3,
     "solution": false,
     "task": false
    }
   },
   "source": [
    "Test your function on the code below:"
   ]
  },
  {
   "cell_type": "code",
   "execution_count": null,
   "metadata": {
    "deletable": false,
    "editable": false,
    "nbgrader": {
     "grade": true,
     "grade_id": "cell-50f083e22995d498",
     "locked": true,
     "points": 4,
     "schema_version": 3,
     "solution": false,
     "task": false
    }
   },
   "outputs": [],
   "source": [
    "\n",
    "request = {\n",
    "    \"observation_id\": \"1\",\n",
    "    \"data\": \n",
    "        {\n",
    "            \"age\": 30, \n",
    "            \"workclass\": \"Private\", \n",
    "            \"sex\": \"Female\", \n",
    "            \"race\": \"Amer-Indian-Eskimo\", \n",
    "            \"education\": \"Masters\", \n",
    "            \"marital-status\": \"Never-married\", \n",
    "            \"capital-gain\": 0, \n",
    "            \"capital-loss\": 0, \n",
    "            \"hours-per-week\": 45, \n",
    "        }\n",
    "}\n",
    "\n",
    "response = predict(request)\n",
    "assert sorted(response.keys()) == \\\n",
    "    sorted([\"observation_id\", \"age\", \"sex\", \"race\", \"education\", \"marital-status\", \"workclass\",\n",
    "            \"capital-gain\", \"capital-loss\", \"hours-per-week\", \"prediction\", \"probability\"])\n",
    "\n",
    "assert response[\"observation_id\"] == \"1\"\n",
    "assert response[\"age\"] == 30\n",
    "assert response[\"hours-per-week\"] == 45\n",
    "assert response[\"prediction\"] in [True, False]\n",
    "\n",
    "probability_1 = response[\"probability\"] \n",
    "\n",
    "\n",
    "request = {\n",
    "    \"observation_id\": \"2\",\n",
    "    \"data\": \n",
    "        {\n",
    "            \"age\": 44, \n",
    "            \"workclass\": \"Private\", \n",
    "            \"sex\": \"Male\", \n",
    "            \"race\": \"White\", \n",
    "            \"education\": \"Some-college\", \n",
    "            \"marital-status\": \"Married-civ-spouse\", \n",
    "            \"capital-gain\": 0, \n",
    "            \"capital-loss\": 0, \n",
    "            \"hours-per-week\": 40, \n",
    "        }\n",
    "}\n",
    "\n",
    "response = predict(request)\n",
    "assert sorted(response.keys()) == \\\n",
    "    sorted([\"observation_id\", \"age\", \"sex\", \"race\", \"education\", \"marital-status\", \"workclass\",\n",
    "            \"capital-gain\", \"capital-loss\", \"hours-per-week\", \"prediction\", \"probability\"])\n",
    "\n",
    "assert response[\"observation_id\"] == \"2\"\n",
    "assert response[\"education\"] == \"Some-college\"\n",
    "assert response[\"hours-per-week\"] == 40\n",
    "assert response[\"prediction\"] in [True, False]\n",
    "\n",
    "probability_2 = response[\"probability\"] \n",
    "\n",
    "assert probability_1 != probability_2\n"
   ]
  },
  {
   "cell_type": "markdown",
   "metadata": {
    "deletable": false,
    "editable": false,
    "nbgrader": {
     "grade": false,
     "grade_id": "cell-405026099770218f",
     "locked": true,
     "schema_version": 3,
     "solution": false,
     "task": false
    }
   },
   "source": [
    "\n",
    "Hurray! It passed the tests. \n",
    "\n",
    "\n",
    "<br>\n",
    "\n",
    "### Q3) Protecting our server\n",
    "\n",
    "Let's be a bit more thorough with our server. To avoid issues and ensure we have full control around what is going on, we need to reason about which values we expect to receive and in what format.\n",
    "\n",
    "\n",
    "\n",
    "<img src=\"media/darth-vader-validation.jpg\" width=400 />\n",
    "\n",
    "\n",
    "\n",
    "#### Q3.1) Categorical values\n",
    "\n",
    "First, we'll reason about categorical values. As the name indicates, these are the values that are restricted to a set of potential choices. So logically, what we want to verify when one of these arrives at our server, is that they belong to the correct range. \n",
    "\n",
    "Create a function that given a column and a dataframe, obtains the list of possible values for it:\n"
   ]
  },
  {
   "cell_type": "code",
   "execution_count": null,
   "metadata": {
    "deletable": false,
    "nbgrader": {
     "grade": false,
     "grade_id": "cell-fb68f2a2c5114348",
     "locked": false,
     "schema_version": 3,
     "solution": true,
     "task": false
    }
   },
   "outputs": [],
   "source": [
    "def get_valid_categories(df, column):\n",
    "    \"\"\"\n",
    "    Obtain list of available categories for column\n",
    "    \n",
    "    Inputs:\n",
    "        df (pandas.DataFrame): dataframe from which to extract column values\n",
    "        column (str): target column for which to extract values\n",
    "    \n",
    "    Returns:\n",
    "        categories: A list of potential values for column\n",
    "    \"\"\"\n",
    "\n",
    "    # YOUR CODE HERE\n",
    "    raise NotImplementedError()\n",
    "\n",
    "    return categories\n",
    "    "
   ]
  },
  {
   "cell_type": "markdown",
   "metadata": {
    "deletable": false,
    "editable": false,
    "nbgrader": {
     "grade": false,
     "grade_id": "cell-923dcdf794f295e4",
     "locked": true,
     "schema_version": 3,
     "solution": false,
     "task": false
    }
   },
   "source": [
    "Test your function below:"
   ]
  },
  {
   "cell_type": "code",
   "execution_count": null,
   "metadata": {
    "deletable": false,
    "editable": false,
    "nbgrader": {
     "grade": true,
     "grade_id": "cell-ccd1c2b06618669a",
     "locked": true,
     "points": 1,
     "schema_version": 3,
     "solution": false,
     "task": false
    }
   },
   "outputs": [],
   "source": [
    "df = load_data()\n",
    "\n",
    "# Test dataframe categorical values\n",
    "assert get_valid_categories(df, \"sex\") == [\"Male\", \"Female\"]\n",
    "assert get_valid_categories(df, \"race\") ==  [\"White\", \"Black\", \"Asian-Pac-Islander\", \"Amer-Indian-Eskimo\", \"Other\"]\n",
    "assert len(get_valid_categories(df, \"workclass\")) == 9\n",
    "assert len(get_valid_categories(df, \"education\")) == 16\n",
    "assert len(get_valid_categories(df, \"marital-status\")) == 7\n",
    "\n",
    "\n",
    "# Test dataframe numerical values - notice the amount of potential different values\n",
    "assert len(get_valid_categories(df, \"age\")) == 71\n",
    "assert len(get_valid_categories(df, \"capital-loss\")) == 83\n",
    "assert len(get_valid_categories(df, \"hours-per-week\")) == 90\n",
    "assert len(get_valid_categories(df, \"capital-gain\")) == 116\n"
   ]
  },
  {
   "cell_type": "markdown",
   "metadata": {
    "deletable": false,
    "editable": false,
    "nbgrader": {
     "grade": false,
     "grade_id": "cell-ae852ee3861c9cad",
     "locked": true,
     "schema_version": 3,
     "solution": false,
     "task": false
    }
   },
   "source": [
    "\n",
    "#### Q3.2) Numerical values\n",
    "\n",
    "Now we'll look into numerical values. Even though you used the categorical approach to assess them in the last cell, it should be obvious why that's not the best idea for validation. First, the amount of values might easily explode, depending on the scenario. And second, we don't really want to exclude potentially new values that can be interpreted by the model.\n",
    "\n",
    "For these values, it's better to reason and set proper expectations so that the model still behaves. Sometimes these can be set intuitively:\n"
   ]
  },
  {
   "cell_type": "markdown",
   "metadata": {
    "deletable": false,
    "editable": false,
    "nbgrader": {
     "grade": false,
     "grade_id": "cell-39ead3f22ab339de",
     "locked": true,
     "schema_version": 3,
     "solution": false,
     "task": false
    }
   },
   "source": [
    "**Q3.2.i)** For example, which age range do you think is most adequate?\n",
    "\n",
    "- A) -100 to 100\n",
    "- B) 0 to 100\n",
    "- C) 20 to 1000\n",
    "\n",
    "Enter your answer below wrapped by quotes, for example:\n",
    "\n",
    "```\n",
    "answer_q32i = \"A\"\n",
    "```"
   ]
  },
  {
   "cell_type": "code",
   "execution_count": null,
   "metadata": {
    "deletable": false,
    "nbgrader": {
     "grade": false,
     "grade_id": "cell-181303646d6f5459",
     "locked": false,
     "schema_version": 3,
     "solution": true,
     "task": false
    }
   },
   "outputs": [],
   "source": [
    "# answer_q32i = 'A' or 'B' or 'C' \n",
    "\n",
    "# YOUR CODE HERE\n",
    "raise NotImplementedError()"
   ]
  },
  {
   "cell_type": "code",
   "execution_count": null,
   "metadata": {
    "deletable": false,
    "editable": false,
    "nbgrader": {
     "grade": true,
     "grade_id": "cell-a75cd03660bb8883",
     "locked": true,
     "points": 0.5,
     "schema_version": 3,
     "solution": false,
     "task": false
    }
   },
   "outputs": [],
   "source": [
    "assert base64.b64encode(answer_q32i.encode()) == b'Qg=='"
   ]
  },
  {
   "cell_type": "markdown",
   "metadata": {
    "deletable": false,
    "editable": false,
    "nbgrader": {
     "grade": false,
     "grade_id": "cell-e3de61a69d97750e",
     "locked": true,
     "schema_version": 3,
     "solution": false,
     "task": false
    }
   },
   "source": [
    "However, not all features are that obvious and have ranges we can reason about. However, there are some strategies to go around it.\n",
    "\n",
    "**Q3.2.ii)** Take for example capital gain, what do you think is most appropriate?\n",
    "\n",
    "- A) Taking the minimum and maximum of the observed values and using them as a range\n",
    "- B) Setting fixed values - eg. 0 to 10000\n",
    "- C) Leaving the range of allowed values completely free of any specification\n",
    "\n",
    "Enter your answer below wrapped by quotes, for example:\n",
    "\n",
    "```\n",
    "answer_q32ii = \"A\"\n",
    "```"
   ]
  },
  {
   "cell_type": "code",
   "execution_count": null,
   "metadata": {
    "deletable": false,
    "nbgrader": {
     "grade": false,
     "grade_id": "cell-09665c3fce6194a2",
     "locked": false,
     "schema_version": 3,
     "solution": true,
     "task": false
    }
   },
   "outputs": [],
   "source": [
    "# answer_q32ii = 'A' or 'B' or 'C' \n",
    "\n",
    "# YOUR CODE HERE\n",
    "raise NotImplementedError()"
   ]
  },
  {
   "cell_type": "code",
   "execution_count": null,
   "metadata": {
    "deletable": false,
    "editable": false,
    "nbgrader": {
     "grade": true,
     "grade_id": "cell-8c8fa9d734f8df94",
     "locked": true,
     "points": 0.5,
     "schema_version": 3,
     "solution": false,
     "task": false
    }
   },
   "outputs": [],
   "source": [
    "assert base64.b64encode(answer_q32ii.encode()) == b'QQ=='"
   ]
  },
  {
   "cell_type": "markdown",
   "metadata": {},
   "source": [
    "#### Q3.3) Putting everything together\n",
    "\n",
    "Now put everything together. Create a function similar to the one above and protect it against unexpected inputs. \n",
    "\n",
    "If everything is well with your request return an answer like this:\n",
    "\n",
    "```json\n",
    "{\n",
    "    \"observation_id\": \"id1234\",\n",
    "    \"prediction\": True,\n",
    "    \"probability\": 0.4\n",
    "}\n",
    "```\n",
    "\n",
    "However, if there is a problem with the initial data, such as missing fields or invalid values, we want to return a different response:\n",
    "\n",
    "```json\n",
    "{\n",
    "    \"observation_id\": \"id1234\",\n",
    "    \"error\": \"Some error occured\",\n",
    "}\n",
    "```\n",
    "\n",
    "\n",
    "#### Hints \n",
    "\n",
    "- Hint 1: If the `observation_id` is not present, set it to None\n",
    "- Hint 2: Check out the tests to see what we expect from the error cases and error messages\n",
    "- Hint 3: Even though we mentioned better strategies above for values such as capital-gain and capital-loss, it's enough here to protect against what the tests show \n"
   ]
  },
  {
   "cell_type": "code",
   "execution_count": null,
   "metadata": {
    "deletable": false,
    "nbgrader": {
     "grade": false,
     "grade_id": "cell-ba9eb7b46c393f65",
     "locked": false,
     "schema_version": 3,
     "solution": true,
     "task": false
    }
   },
   "outputs": [],
   "source": [
    "# Initialization code\n",
    "\n",
    "# YOUR CODE HERE\n",
    "raise NotImplementedError()\n",
    "\n",
    "\n",
    "def attempt_predict(request):\n",
    "    \"\"\"\n",
    "    Produce prediction for request.\n",
    "    \n",
    "    Inputs:\n",
    "        request: dictionary with format described below\n",
    "        \n",
    "        ```\n",
    "        {\n",
    "            \"observation_id\": <id-as-a-string>,\n",
    "            \"data\": {\n",
    "                \"age\": <value>,\n",
    "                \"sex\": <value>,\n",
    "                \"race\": <value>,\n",
    "                \"workclass\": <value>,\n",
    "                \"education\": <value>,\n",
    "                \"marital-status\": <value>,\n",
    "                \"capital-gain\": <value>,\n",
    "                \"capital-loss\": <value>,\n",
    "                \"hours-per-week\": <value>,\n",
    "            }\n",
    "        }\n",
    "        ```\n",
    "     \n",
    "    Returns: A dictionary with predictions or an error, the two potential values:\n",
    "                if the request is OK and was properly parsed and predicted:\n",
    "                ```\n",
    "                {\n",
    "                    \"observation_id\": <id-of-request>,\n",
    "                    \"prediction\": <True|False>,\n",
    "                    \"probability\": <probability generated by model>\n",
    "                }\n",
    "                ```\n",
    "                otherwise:\n",
    "                ```\n",
    "                {\n",
    "                    \"observation_id\": <id-of-request>,\n",
    "                    \"error\": \"some error message\"\n",
    "                }\n",
    "                ```\n",
    "    \"\"\"\n",
    "\n",
    "    # YOUR CODE HERE\n",
    "    raise NotImplementedError()\n",
    "    return response\n"
   ]
  },
  {
   "cell_type": "markdown",
   "metadata": {
    "deletable": false,
    "editable": false,
    "nbgrader": {
     "grade": false,
     "grade_id": "cell-159253e9dbf17db6",
     "locked": true,
     "schema_version": 3,
     "solution": false,
     "task": false
    }
   },
   "source": [
    "Run the tests below to validate your function is protected against some simple cases:"
   ]
  },
  {
   "cell_type": "code",
   "execution_count": null,
   "metadata": {
    "deletable": false,
    "editable": false,
    "nbgrader": {
     "grade": true,
     "grade_id": "cell-5fdd682e3b4da185",
     "locked": true,
     "points": 3,
     "schema_version": 3,
     "solution": false,
     "task": false
    }
   },
   "outputs": [],
   "source": [
    "################################################\n",
    "# Test with good payload\n",
    "################################################\n",
    "\n",
    "base_request = {\n",
    "    \"observation_id\": \"1\",\n",
    "    \"data\": \n",
    "        {\n",
    "            \"age\": 30, \n",
    "            \"workclass\": \"Private\", \n",
    "            \"sex\": \"Female\", \n",
    "            \"race\": \"Amer-Indian-Eskimo\", \n",
    "            \"education\": \"Masters\", \n",
    "            \"marital-status\": \"Never-married\", \n",
    "            \"capital-gain\": 0, \n",
    "            \"capital-loss\": 0, \n",
    "            \"hours-per-week\": 45, \n",
    "        }\n",
    "}\n",
    "\n",
    "response = attempt_predict(base_request)\n",
    "assert 'prediction' in response, response\n",
    "assert 'probability' in response, response\n",
    "assert 'observation_id' in response, response\n",
    "\n",
    "assert response[\"observation_id\"] == \"1\", response[\"observation_id\"]\n",
    "assert response[\"prediction\"] in [True, False], response[\"prediction\"] \n",
    "assert response[\"probability\"] <= 1.0, response[\"probability\"] \n",
    "assert response[\"probability\"] >= 0.0, response[\"probability\"] \n",
    "\n",
    "\n",
    "################################################\n",
    "# Test missing `observation_id` produces an error\n",
    "################################################\n",
    "\n",
    "bad_request_1 = deepcopy(base_request)\n",
    "bad_request_1['random_field'] = bad_request_1.pop('observation_id')\n",
    "\n",
    "response = attempt_predict(bad_request_1)\n",
    "assert 'error' in response, response\n",
    "assert 'observation_id' in response['error'] \n",
    "\n",
    "\n",
    "################################################\n",
    "# Test missing `data` produces an error\n",
    "################################################\n",
    "\n",
    "bad_request_2 = deepcopy(base_request)\n",
    "bad_request_2['data_field_name'] = bad_request_2.pop('data')\n",
    "\n",
    "response = attempt_predict(bad_request_2)\n",
    "assert 'error' in response, response\n",
    "assert 'data' in response['error'] \n",
    "\n",
    "\n",
    "################################################\n",
    "# Test missing columns produce an error\n",
    "################################################\n",
    "\n",
    "bad_request_3 = deepcopy(base_request)\n",
    "bad_request_3['data'].pop('age')\n",
    "\n",
    "response = attempt_predict(bad_request_3)\n",
    "assert 'error' in response, response\n",
    "assert 'age' in response['error'], response['error']\n",
    "\n",
    "\n",
    "################################################\n",
    "# Test extra columns produce an error\n",
    "################################################\n",
    "\n",
    "bad_request_4 = deepcopy(base_request)\n",
    "bad_request_4['data']['relationship'] = \"Wife\"\n",
    "\n",
    "response = attempt_predict(bad_request_4)\n",
    "assert 'error' in response, response\n",
    "assert 'relationship' in response['error'], response['error']\n"
   ]
  },
  {
   "cell_type": "markdown",
   "metadata": {
    "deletable": false,
    "editable": false,
    "nbgrader": {
     "grade": false,
     "grade_id": "cell-f7c6084210b7712f",
     "locked": true,
     "schema_version": 3,
     "solution": false,
     "task": false
    }
   },
   "source": [
    "Run a couple more tests to make sure your server is bulletproof:"
   ]
  },
  {
   "cell_type": "code",
   "execution_count": null,
   "metadata": {
    "deletable": false,
    "editable": false,
    "nbgrader": {
     "grade": true,
     "grade_id": "cell-001653d2c8007a1a",
     "locked": true,
     "points": 3,
     "schema_version": 3,
     "solution": false,
     "task": false
    }
   },
   "outputs": [],
   "source": [
    "\n",
    "####################################################\n",
    "# Test invalid values for categorical features - sex\n",
    "####################################################\n",
    "\n",
    "bad_request_5 = deepcopy(base_request)\n",
    "bad_request_5['data']['sex'] = \"Engineeer\"\n",
    "\n",
    "response = attempt_predict(bad_request_5)\n",
    "assert 'error' in response, response\n",
    "assert 'sex' in response['error'], response['error']\n",
    "assert 'Engineeer' in response['error'], response['error']\n",
    "\n",
    "\n",
    "###########################################################################\n",
    "# Test invalid values for categorical features - race\n",
    "###########################################################################\n",
    "\n",
    "bad_request_6 = deepcopy(base_request)\n",
    "bad_request_6['data']['race'] = 'Male'\n",
    "\n",
    "response = attempt_predict(bad_request_6)\n",
    "assert 'error' in response, response\n",
    "assert 'race' in response['error'], response['error']\n",
    "assert 'Male' in response['error'], response['error']\n",
    "\n",
    "\n",
    "####################################################\n",
    "# Test invalid values for numerical features - age\n",
    "####################################################\n",
    "\n",
    "bad_request_7 = deepcopy(base_request)\n",
    "bad_request_7['data']['age'] = -12\n",
    "\n",
    "response = attempt_predict(bad_request_7)\n",
    "assert 'error' in response, response\n",
    "assert 'age' in response['error'], response['error']\n",
    "assert '-12' in response['error'], response['error']\n",
    "\n",
    "bad_request_8 = deepcopy(base_request)\n",
    "bad_request_8['data']['age'] = 1200\n",
    "\n",
    "response = attempt_predict(bad_request_8)\n",
    "assert 'error' in response, response\n",
    "assert 'age' in response['error'], response['error']\n",
    "assert '1200' in response['error'], response['error']\n",
    "\n",
    "\n",
    "####################################################\n",
    "# Test invalid values for numerical features - capital gain and loss\n",
    "####################################################\n",
    "\n",
    "bad_request_9 = deepcopy(base_request)\n",
    "bad_request_9['data']['capital-gain'] = -10\n",
    "\n",
    "response = attempt_predict(bad_request_9)\n",
    "assert 'error' in response, response\n",
    "assert 'capital-gain' in response['error'], response['error']\n",
    "assert '-10' in response['error'], response['error']\n",
    "\n",
    "bad_request_10 = deepcopy(base_request)\n",
    "bad_request_10['data']['capital-loss'] = -500\n",
    "\n",
    "response = attempt_predict(bad_request_10)\n",
    "assert 'error' in response, response\n",
    "assert 'capital-loss' in response['error'], response['error']\n",
    "assert '-500' in response['error'], response['error']\n",
    "\n",
    "\n",
    "####################################################\n",
    "# Test invalid values for numerical features - hours per week\n",
    "####################################################\n",
    "\n",
    "bad_request_11 = deepcopy(base_request)\n",
    "bad_request_11['data']['hours-per-week'] = -10\n",
    "\n",
    "response = attempt_predict(bad_request_11)\n",
    "assert 'error' in response, response\n",
    "assert 'hours-per-week' in response['error'], response['error']\n",
    "assert '-10' in response['error'], response['error']\n",
    "\n",
    "bad_request_12 = deepcopy(base_request)\n",
    "bad_request_12['data']['hours-per-week'] = 400\n",
    "\n",
    "response = attempt_predict(bad_request_12)\n",
    "assert 'error' in response, response\n",
    "assert 'hours-per-week' in response['error'], response['error']\n",
    "assert '400' in response['error'], response['error']\n"
   ]
  },
  {
   "cell_type": "markdown",
   "metadata": {
    "deletable": false,
    "editable": false,
    "nbgrader": {
     "grade": false,
     "grade_id": "cell-27c74c3d31a3055f",
     "locked": true,
     "schema_version": 3,
     "solution": false,
     "task": false
    }
   },
   "source": [
    "\n",
    "Ufff. That was tough. But now your app is a bit safer to deploy! At least from all the cases we could think of.\n",
    "\n",
    "<img src=\"media/code-passes-tests.png\" width=500 />\n",
    "\n",
    "\n",
    "<br>\n",
    "\n",
    "### Q4) Put everything together\n",
    "\n",
    "Finally, build a server with your model and a predict endpoint protected from all the cases before. Deploy it and set \n",
    "the name of your app below:"
   ]
  },
  {
   "cell_type": "code",
   "execution_count": null,
   "metadata": {
    "deletable": false,
    "nbgrader": {
     "grade": false,
     "grade_id": "cell-fd9977536ad6270d",
     "locked": false,
     "schema_version": 3,
     "solution": true,
     "task": false
    }
   },
   "outputs": [],
   "source": [
    "# Assign the variable APP_NAME to the name of your heroku app\n",
    "# APP_NAME = ...\n",
    "\n",
    "# YOUR CODE HERE\n",
    "raise NotImplementedError()"
   ]
  },
  {
   "cell_type": "markdown",
   "metadata": {
    "deletable": false,
    "editable": false,
    "nbgrader": {
     "grade": false,
     "grade_id": "cell-07135d75c857276c",
     "locked": true,
     "schema_version": 3,
     "solution": false,
     "task": false
    }
   },
   "source": [
    "\n",
    "Test that your server is bulletproof:"
   ]
  },
  {
   "cell_type": "code",
   "execution_count": null,
   "metadata": {
    "deletable": false,
    "editable": false,
    "nbgrader": {
     "grade": true,
     "grade_id": "cell-ac0c1a590d9aba53",
     "locked": true,
     "points": 4,
     "schema_version": 3,
     "solution": false,
     "task": false
    }
   },
   "outputs": [],
   "source": [
    "# Test locally\n",
    "# url = f\"http://localhost:5000/predict\"\n",
    "\n",
    "\n",
    "# Testing the predict/update endpoint\n",
    "url = \"https://{}.herokuapp.com/predict\".format(APP_NAME)\n",
    "\n",
    "\n",
    "################################################\n",
    "# Test with good payload\n",
    "################################################\n",
    "\n",
    "payload = {\n",
    "    \"observation_id\": str(uuid4()),\n",
    "    \"data\": \n",
    "        {\n",
    "            \"age\": 30, \n",
    "            \"workclass\": \"Private\", \n",
    "            \"sex\": \"Female\", \n",
    "            \"race\": \"Amer-Indian-Eskimo\", \n",
    "            \"education\": \"Masters\", \n",
    "            \"marital-status\": \"Never-married\", \n",
    "            \"capital-gain\": 0, \n",
    "            \"capital-loss\": 0, \n",
    "            \"hours-per-week\": 45, \n",
    "        }\n",
    "}\n",
    "\n",
    "\n",
    "r = requests.post(url, json=payload)\n",
    "assert isinstance(r, requests.Response)\n",
    "assert r.ok\n",
    "\n",
    "response = r.json()\n",
    "\n",
    "assert 'prediction' in response, response\n",
    "assert 'probability' in response, response\n",
    "\n",
    "assert response[\"prediction\"] in [True, False]\n",
    "\n",
    "assert isinstance(response[\"probability\"], float)\n",
    "assert 0 <= response[\"probability\"] <= 1\n",
    "\n",
    "\n",
    "################################################\n",
    "# Test missing `observation_id` produces an error\n",
    "################################################\n",
    "\n",
    "bad_payload_1 = deepcopy(payload)\n",
    "bad_payload_1['random_field'] = bad_payload_1.pop('observation_id')\n",
    "\n",
    "r = requests.post(url, json=bad_payload_1)\n",
    "assert isinstance(r, requests.Response)\n",
    "assert r.ok\n",
    "\n",
    "response = r.json()\n",
    "\n",
    "assert 'error' in response, response\n",
    "assert 'observation_id' in response['error'], response['error']\n",
    "\n",
    "\n",
    "################################################\n",
    "# Test missing `data` produces an error\n",
    "################################################\n",
    "\n",
    "bad_payload_2 = deepcopy(payload)\n",
    "bad_payload_2['observation_id'] = str(uuid4())\n",
    "bad_payload_2['random_field'] = bad_payload_2.pop('data')\n",
    "\n",
    "r = requests.post(url, json=bad_payload_2)\n",
    "assert isinstance(r, requests.Response)\n",
    "assert r.ok\n",
    "\n",
    "response = r.json()\n",
    "\n",
    "assert 'error' in response, response\n",
    "assert 'data' in response['error'], response['error']\n",
    "\n",
    "\n",
    "################################################\n",
    "# Test missing columns produce an error\n",
    "################################################\n",
    "\n",
    "bad_payload_3 = deepcopy(payload)\n",
    "bad_payload_3['observation_id'] = str(uuid4())\n",
    "bad_payload_3['data'].pop('age')\n",
    "\n",
    "r = requests.post(url, json=bad_payload_3)\n",
    "assert isinstance(r, requests.Response)\n",
    "assert r.ok\n",
    "\n",
    "response = r.json()\n",
    "\n",
    "assert 'error' in response, response\n",
    "assert 'age' in response['error'], response['error']\n",
    "\n",
    "\n",
    "################################################\n",
    "# Test extra columns produce an error\n",
    "################################################\n",
    "\n",
    "bad_payload_4 = deepcopy(payload)\n",
    "bad_payload_4['observation_id'] = str(uuid4())\n",
    "bad_payload_4['data']['relationship'] = \"Wife\"\n",
    "\n",
    "r = requests.post(url, json=bad_payload_4)\n",
    "assert isinstance(r, requests.Response)\n",
    "assert r.ok\n",
    "\n",
    "response = r.json()\n",
    "\n",
    "assert 'error' in response, response\n",
    "assert 'relationship' in response['error'], response['error']\n",
    "\n",
    "\n",
    "###########################################################################\n",
    "# Test invalid values for categorical features - race\n",
    "###########################################################################\n",
    "\n",
    "\n",
    "bad_payload_5 = deepcopy(payload)\n",
    "bad_payload_5['observation_id'] = str(uuid4())\n",
    "bad_payload_5['data']['race'] = 'Engineer'\n",
    "\n",
    "r = requests.post(url, json=bad_payload_5)\n",
    "assert isinstance(r, requests.Response)\n",
    "assert r.ok\n",
    "\n",
    "response = r.json()\n",
    "\n",
    "assert 'error' in response, response\n",
    "assert 'race' in response['error'], response['error']\n",
    "assert 'Engineer' in response['error'], response['error']\n",
    "\n",
    "\n",
    "####################################################\n",
    "# Test invalid values for numerical features - age\n",
    "####################################################\n",
    "\n",
    "bad_payload_6 = deepcopy(payload)\n",
    "bad_payload_6['observation_id'] = str(uuid4())\n",
    "bad_payload_6['data']['age'] = -12\n",
    "\n",
    "r = requests.post(url, json=bad_payload_6)\n",
    "assert isinstance(r, requests.Response)\n",
    "assert r.ok\n",
    "\n",
    "response = r.json()\n",
    "\n",
    "assert 'error' in response, response\n",
    "assert 'age' in response['error'], response['error']\n",
    "assert '-12' in response['error'], response['error']\n",
    "\n"
   ]
  },
  {
   "cell_type": "markdown",
   "metadata": {
    "deletable": false,
    "editable": false,
    "nbgrader": {
     "grade": false,
     "grade_id": "cell-8088ad24d8aadbc8",
     "locked": true,
     "schema_version": 3,
     "solution": false,
     "task": false
    }
   },
   "source": [
    "And... you're done. You have successfully built a model, assessed if it passed the client requirements, built an app and protected it from crappy input. \n",
    "\n",
    "It's time for a well-deserved rest, so go ahead and go be a couch potato.\n",
    "\n",
    "<br>\n",
    "\n",
    "<img src=\"media/lays.png\" width=400 />\n",
    "\n"
   ]
  }
 ],
 "metadata": {
  "kernelspec": {
   "display_name": "Python 3",
   "language": "python",
   "name": "python3"
  },
  "language_info": {
   "codemirror_mode": {
    "name": "ipython",
    "version": 3
   },
   "file_extension": ".py",
   "mimetype": "text/x-python",
   "name": "python",
   "nbconvert_exporter": "python",
   "pygments_lexer": "ipython3",
   "version": "3.8.5"
  }
 },
 "nbformat": 4,
 "nbformat_minor": 4
}
