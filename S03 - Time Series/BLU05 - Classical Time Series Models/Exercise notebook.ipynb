{
 "cells": [
  {
   "cell_type": "markdown",
   "metadata": {
    "deletable": false,
    "editable": false,
    "nbgrader": {
     "grade": false,
     "grade_id": "cell-3db1b7eb6aade580",
     "locked": true,
     "schema_version": 3,
     "solution": false
    }
   },
   "source": [
    "# BLU05  - Exercise Notebook "
   ]
  },
  {
   "cell_type": "code",
   "execution_count": null,
   "metadata": {
    "deletable": false,
    "editable": false,
    "nbgrader": {
     "grade": false,
     "grade_id": "cell-d9b262915f7cb1e5",
     "locked": true,
     "schema_version": 3,
     "solution": false
    }
   },
   "outputs": [],
   "source": [
    "import numpy as np\n",
    "import pandas as pd\n",
    "import matplotlib.pyplot as plt\n",
    "from sklearn.metrics import mean_absolute_error, mean_squared_error\n",
    "from statsmodels.tsa.seasonal import seasonal_decompose\n",
    "from statsmodels.graphics.tsaplots import plot_acf, plot_pacf\n",
    "import hashlib # for grading purposes\n",
    "\n",
    "import pmdarima as pm\n",
    "from pmdarima.pipeline import Pipeline\n",
    "from pmdarima.preprocessing import BoxCoxEndogTransformer\n",
    "import warnings\n",
    "warnings.simplefilter(action='ignore', category=FutureWarning)   \n",
    "warnings.filterwarnings(\"ignore\") # specify to ignore warning messages\n",
    "%matplotlib inline\n",
    "plt.rcParams['figure.figsize'] = (12, 4)"
   ]
  },
  {
   "cell_type": "markdown",
   "metadata": {
    "deletable": false,
    "editable": false,
    "nbgrader": {
     "grade": false,
     "grade_id": "cell-9bd6c84962e8c3d2",
     "locked": true,
     "schema_version": 3,
     "solution": false
    }
   },
   "source": [
    "# Functions"
   ]
  },
  {
   "cell_type": "code",
   "execution_count": null,
   "metadata": {
    "deletable": false,
    "editable": false,
    "nbgrader": {
     "grade": false,
     "grade_id": "cell-0dc908871fcc57e4",
     "locked": true,
     "schema_version": 3,
     "solution": false
    }
   },
   "outputs": [],
   "source": [
    "def load_emissions_data():\n",
    "    emissions = pd.read_csv('data/emissions.csv')\n",
    "    emissions = emissions[emissions.Description=='Coal Electric Power Sector CO2 Emissions']\n",
    "    emissions['YYYYMM'] = emissions['YYYYMM'].astype(str)\n",
    "    emissions['YYYYMM'] = pd.to_datetime(emissions['YYYYMM'],format='%Y%m', errors='coerce').dropna()\n",
    "    emissions = emissions.set_index('YYYYMM')\n",
    "    emissions = emissions.sort_index()\n",
    "    emissions['Value'] = emissions.Value.astype(float)\n",
    "    emissions.index = emissions.index.rename('date')\n",
    "    emissions = emissions['Value']\n",
    "    emissions = emissions['1980':'2000']\n",
    "    emissions = emissions.resample('MS').mean()\n",
    "    return emissions"
   ]
  },
  {
   "cell_type": "code",
   "execution_count": null,
   "metadata": {
    "deletable": false,
    "editable": false,
    "nbgrader": {
     "grade": false,
     "grade_id": "cell-8d88c344e4521fd2",
     "locked": true,
     "schema_version": 3,
     "solution": false,
     "task": false
    }
   },
   "outputs": [],
   "source": [
    "def load_coal_data():\n",
    "    np.random.seed(10)\n",
    "    df = pd.read_csv('data/MER_T06_01.csv')\n",
    "    df = df[df.Description=='Coal Consumption']\n",
    "    df.YYYYMM = pd.to_datetime(df.YYYYMM, format='%Y%m',errors='coerce' )\n",
    "    df = df.set_index('YYYYMM')\n",
    "    df = df.loc['1980':'2000']\n",
    "    df.Value = pd.to_numeric(df.Value)\n",
    "    df.Value = df.Value + np.random.normal(0,df.Value.mean()/20,len(df.Value))\n",
    "    return df.Value.to_frame()"
   ]
  },
  {
   "cell_type": "markdown",
   "metadata": {
    "deletable": false,
    "editable": false,
    "nbgrader": {
     "grade": false,
     "grade_id": "cell-c9a3e566cc624451",
     "locked": true,
     "schema_version": 3,
     "solution": false
    }
   },
   "source": [
    "# Let's predict CO2 emissions!"
   ]
  },
  {
   "cell_type": "code",
   "execution_count": null,
   "metadata": {
    "deletable": false,
    "editable": false,
    "nbgrader": {
     "grade": false,
     "grade_id": "cell-15a023e1124b90c0",
     "locked": true,
     "schema_version": 3,
     "solution": false
    }
   },
   "outputs": [],
   "source": [
    "emissions = load_emissions_data()"
   ]
  },
  {
   "cell_type": "code",
   "execution_count": null,
   "metadata": {
    "deletable": false,
    "editable": false,
    "nbgrader": {
     "grade": false,
     "grade_id": "cell-d451a5e011b09c6c",
     "locked": true,
     "schema_version": 3,
     "solution": false
    }
   },
   "outputs": [],
   "source": [
    "emissions_train = emissions[:'1997']\n",
    "emissions_test = emissions['1997':]"
   ]
  },
  {
   "cell_type": "markdown",
   "metadata": {
    "deletable": false,
    "editable": false,
    "nbgrader": {
     "grade": false,
     "grade_id": "cell-5db0587a41ba75ab",
     "locked": true,
     "schema_version": 3,
     "solution": false
    }
   },
   "source": [
    "##### Let's get an overview of the df and plot the series to get an idea of what's going on"
   ]
  },
  {
   "cell_type": "code",
   "execution_count": null,
   "metadata": {},
   "outputs": [],
   "source": [
    "emissions_train.head(13)"
   ]
  },
  {
   "cell_type": "code",
   "execution_count": null,
   "metadata": {
    "deletable": false,
    "editable": false,
    "nbgrader": {
     "grade": false,
     "grade_id": "cell-846a66e59e645d8e",
     "locked": true,
     "schema_version": 3,
     "solution": false
    }
   },
   "outputs": [],
   "source": [
    "emissions_train.plot();\n",
    "plt.xlabel('Time');\n",
    "plt.title('Monthly CO2 emissions (gCO2eq)');"
   ]
  },
  {
   "cell_type": "markdown",
   "metadata": {
    "deletable": false,
    "editable": false,
    "nbgrader": {
     "grade": false,
     "grade_id": "cell-a342eff0c4d27f6b",
     "locked": true,
     "schema_version": 3,
     "solution": false
    }
   },
   "source": [
    "### Q1:Getting a feel of the data"
   ]
  },
  {
   "cell_type": "code",
   "execution_count": null,
   "metadata": {
    "deletable": false,
    "nbgrader": {
     "grade": false,
     "grade_id": "cell-20ec8c1b7ca5a846",
     "locked": false,
     "schema_version": 3,
     "solution": true,
     "task": false
    }
   },
   "outputs": [],
   "source": [
    "# Is the magnitude of the variance changing? answer with 'Yes' or 'No'\n",
    "# variance_change = \n",
    "\n",
    "# Does it have an apparent trend? answer with 'Yes' or 'No'\n",
    "# apparent_trend = \n",
    "\n",
    "# the emissions plot can give you some insights on these points.\n",
    "# but we've also talked about clearer approaches like using some rolling ???? function\n",
    "# and the seasonal_decompose function (extra tip: you can use a 1-year window, window=12)\n",
    "\n",
    "# YOUR CODE HERE\n",
    "raise NotImplementedError()"
   ]
  },
  {
   "cell_type": "code",
   "execution_count": null,
   "metadata": {
    "deletable": false,
    "editable": false,
    "nbgrader": {
     "grade": true,
     "grade_id": "cell-d1e64704448ac7a8",
     "locked": true,
     "points": 0.5,
     "schema_version": 3,
     "solution": false,
     "task": false
    }
   },
   "outputs": [],
   "source": [
    "expected_hash = '85a39ab345d672ff8ca9b9c6876f3adcacf45ee7c1e2dbd2408fd338bd55e07e'\n",
    "assert hashlib.sha256(variance_change.encode()).hexdigest() == expected_hash\n",
    "expected_hash = '85a39ab345d672ff8ca9b9c6876f3adcacf45ee7c1e2dbd2408fd338bd55e07e'\n",
    "assert hashlib.sha256(apparent_trend.encode()).hexdigest() == expected_hash"
   ]
  },
  {
   "cell_type": "markdown",
   "metadata": {
    "deletable": false,
    "editable": false,
    "nbgrader": {
     "grade": false,
     "grade_id": "cell-50c774b21ff04b4b",
     "locked": true,
     "schema_version": 3,
     "solution": false
    }
   },
   "source": [
    "### Q2: Make the time series stationary"
   ]
  },
  {
   "cell_type": "code",
   "execution_count": null,
   "metadata": {
    "deletable": false,
    "nbgrader": {
     "grade": false,
     "grade_id": "cell-4673648012938702",
     "locked": false,
     "schema_version": 3,
     "solution": true
    }
   },
   "outputs": [],
   "source": [
    "# emissions_train_log = \n",
    "# emissions_train_log_detrend = \n",
    "# emissions_train_log_detrend_without_nans =  \n",
    "\n",
    "# YOUR CODE HERE\n",
    "raise NotImplementedError()"
   ]
  },
  {
   "cell_type": "code",
   "execution_count": null,
   "metadata": {},
   "outputs": [],
   "source": [
    "plot_acf(emissions_train);\n",
    "plt.xlabel('Lag')\n",
    "plot_acf(emissions_train_log);\n",
    "plt.xlabel('Lag')\n",
    "plot_acf(emissions_train_log_detrend_without_nans);\n",
    "plt.xlabel('Lag')"
   ]
  },
  {
   "cell_type": "code",
   "execution_count": null,
   "metadata": {
    "deletable": false,
    "editable": false,
    "nbgrader": {
     "grade": true,
     "grade_id": "cell-37f19bfc31b2d1e0",
     "locked": true,
     "points": 2,
     "schema_version": 3,
     "solution": false
    }
   },
   "outputs": [],
   "source": [
    "expected_hash = 'a9bd2829b2d2191c657f4e3b13bf0feca647eb3630a15ebac45aa578d6199e3d'\n",
    "assert hashlib.sha256(str(np.round(emissions_train_log_detrend_without_nans[0],5)).encode()).hexdigest() == expected_hash"
   ]
  },
  {
   "cell_type": "markdown",
   "metadata": {
    "deletable": false,
    "editable": false,
    "nbgrader": {
     "grade": false,
     "grade_id": "cell-d5eb2e423241997d",
     "locked": true,
     "schema_version": 3,
     "solution": false,
     "task": false
    }
   },
   "source": [
    "### Optional: Visualize the variance and/or trend of the stationarity timeseries"
   ]
  },
  {
   "cell_type": "markdown",
   "metadata": {
    "deletable": false,
    "editable": false,
    "nbgrader": {
     "grade": false,
     "grade_id": "cell-ef1184e061dcce01",
     "locked": true,
     "schema_version": 3,
     "solution": false
    }
   },
   "source": [
    "### Q3: Looking for seasonality"
   ]
  },
  {
   "cell_type": "code",
   "execution_count": null,
   "metadata": {
    "deletable": false,
    "nbgrader": {
     "grade": false,
     "grade_id": "cell-b2bfb6431053bbb1",
     "locked": false,
     "schema_version": 3,
     "solution": true
    }
   },
   "outputs": [],
   "source": [
    "# Use the autocorrelation plots to infer what is the seasonality of the time series.\n",
    "\n",
    "#plot_pacf(what goes here?), if you're curious take also a look at the acf\n",
    "#plt.xlabel('lag')\n",
    "#plt.ylabel('Autocorrelation')\n",
    "#plt.show()\n",
    "\n",
    "# S = \n",
    "\n",
    "# YOUR CODE HERE\n",
    "raise NotImplementedError()"
   ]
  },
  {
   "cell_type": "code",
   "execution_count": null,
   "metadata": {
    "deletable": false,
    "editable": false,
    "nbgrader": {
     "grade": true,
     "grade_id": "cell-31fe58e5b06199fb",
     "locked": true,
     "points": 1.5,
     "schema_version": 3,
     "solution": false
    }
   },
   "outputs": [],
   "source": [
    "assert isinstance(S, int)\n",
    "expected_hash = '6b51d431df5d7f141cbececcf79edf3dd861c3b4069f0b11661a3eefacbba918'\n",
    "assert hashlib.sha256(str(S).encode()).hexdigest() == expected_hash"
   ]
  },
  {
   "cell_type": "markdown",
   "metadata": {
    "deletable": false,
    "editable": false,
    "nbgrader": {
     "grade": false,
     "grade_id": "cell-a5824aabddaf7b2b",
     "locked": true,
     "schema_version": 3,
     "solution": false
    }
   },
   "source": [
    "### Q4: Fit a SARIMAX model on the train set using AutoARIMA"
   ]
  },
  {
   "cell_type": "code",
   "execution_count": null,
   "metadata": {},
   "outputs": [],
   "source": [
    "S"
   ]
  },
  {
   "cell_type": "code",
   "execution_count": null,
   "metadata": {
    "deletable": false,
    "nbgrader": {
     "grade": false,
     "grade_id": "cell-6312e30d5d2437ff",
     "locked": false,
     "schema_version": 3,
     "solution": true
    }
   },
   "outputs": [],
   "source": [
    "# Use S according to what you saw on the previous question.\n",
    "# Use the logged train dataset, but not the diffed since pmdarima can find that on his own.\n",
    "# Use the 'nm' method and maxiter=20\n",
    "# Also define that warnings should be suppressed\n",
    "\n",
    "# sarimax =\n",
    "# sarimax.fit()\n",
    "\n",
    "# YOUR CODE HERE\n",
    "raise NotImplementedError()"
   ]
  },
  {
   "cell_type": "code",
   "execution_count": null,
   "metadata": {
    "deletable": false,
    "editable": false,
    "nbgrader": {
     "grade": true,
     "grade_id": "cell-70c443f3d02f4229",
     "locked": true,
     "points": 2,
     "schema_version": 3,
     "solution": false
    }
   },
   "outputs": [],
   "source": [
    "expected_hash = '5eed90f880c272ad2ae830b7d6c54f8362876cebc88c946db10dbf26aafa9a1b'\n",
    "assert hashlib.sha256(str(sarimax.get_params()).encode()).hexdigest() == expected_hash"
   ]
  },
  {
   "cell_type": "markdown",
   "metadata": {
    "deletable": false,
    "editable": false,
    "nbgrader": {
     "grade": false,
     "grade_id": "cell-df6f0922c941bff6",
     "locked": true,
     "schema_version": 3,
     "solution": false,
     "task": false
    }
   },
   "source": [
    "### Q5: Use that model to do the in-sample predictions and calculate the corresponding MSE"
   ]
  },
  {
   "cell_type": "code",
   "execution_count": null,
   "metadata": {
    "deletable": false,
    "nbgrader": {
     "grade": false,
     "grade_id": "cell-d322536e95c10f9b",
     "locked": false,
     "schema_version": 3,
     "solution": true,
     "task": false
    }
   },
   "outputs": [],
   "source": [
    "# Don't forget that you used the logged dataset when training the model, thus its outputs will also be logged\n",
    "\n",
    "# predictions =\n",
    "# mse = \n",
    "\n",
    "# YOUR CODE HERE\n",
    "raise NotImplementedError()"
   ]
  },
  {
   "cell_type": "code",
   "execution_count": null,
   "metadata": {
    "deletable": false,
    "editable": false,
    "nbgrader": {
     "grade": true,
     "grade_id": "cell-b8b5a48f82f2b6a3",
     "locked": true,
     "points": 2,
     "schema_version": 3,
     "solution": false,
     "task": false
    }
   },
   "outputs": [],
   "source": [
    "expected_hash = 'e84be574290605e678015094ff2db55a865d20754df25ef1fbbd86b9cc73a576'\n",
    "assert hashlib.sha256(str(np.round(predictions,1)).encode()).hexdigest() == expected_hash\n",
    "\n",
    "expected_hash = 'd4d63176def902021ddfc53b452cc750fcbec8e3e087976502ecf529ecaa2b8e'\n",
    "assert hashlib.sha256(str(np.round(mse,1)).encode()).hexdigest() == expected_hash"
   ]
  },
  {
   "cell_type": "markdown",
   "metadata": {
    "deletable": false,
    "editable": false,
    "nbgrader": {
     "grade": false,
     "grade_id": "cell-ee915637230b4e53",
     "locked": true,
     "schema_version": 3,
     "solution": false
    }
   },
   "source": [
    "### Q6: Forecast the test set using a multi-step forecast and calculate the corresponding MSE"
   ]
  },
  {
   "cell_type": "code",
   "execution_count": null,
   "metadata": {
    "deletable": false,
    "nbgrader": {
     "grade": false,
     "grade_id": "cell-893836dce142cc23",
     "locked": false,
     "schema_version": 3,
     "solution": true
    }
   },
   "outputs": [],
   "source": [
    "# Don't forget that you used the logged dataset when training the model.\n",
    "\n",
    "# forecast = \n",
    "# mse = \n",
    "\n",
    "# YOUR CODE HERE\n",
    "raise NotImplementedError()"
   ]
  },
  {
   "cell_type": "code",
   "execution_count": null,
   "metadata": {
    "deletable": false,
    "editable": false,
    "nbgrader": {
     "grade": true,
     "grade_id": "cell-a9c4b093d376d0be",
     "locked": true,
     "points": 2,
     "schema_version": 3,
     "solution": false,
     "task": false
    }
   },
   "outputs": [],
   "source": [
    "expected_hash = '433aed5fef7646ce383023e7fe95ebc0f4291a215cbb3d61fe3f3d307c06d3b4'\n",
    "assert hashlib.sha256(str(np.round(forecast,1)).encode()).hexdigest() == expected_hash\n",
    "\n",
    "expected_hash = '2185f687cc1bbae4025d1b867cd762892de64fac607059896b6bce8c62f62f34'\n",
    "assert hashlib.sha256(str(np.round(mse,1)).encode()).hexdigest() == expected_hash"
   ]
  },
  {
   "cell_type": "code",
   "execution_count": null,
   "metadata": {
    "deletable": false,
    "editable": false,
    "nbgrader": {
     "grade": false,
     "grade_id": "cell-df335e136d88c79b",
     "locked": true,
     "schema_version": 3,
     "solution": false,
     "task": false
    }
   },
   "outputs": [],
   "source": [
    "emissions_test.plot()\n",
    "pd.Series(forecast, index=emissions_test.index).plot()\n",
    "plt.xlabel('Time')\n",
    "plt.title('Monthly CO2 emissions (gCO2eq)')\n",
    "plt.legend(['original','forecast'],loc=2)\n",
    "print(mse)"
   ]
  },
  {
   "cell_type": "markdown",
   "metadata": {
    "deletable": false,
    "editable": false,
    "nbgrader": {
     "grade": false,
     "grade_id": "cell-e9b7350c0f7474f7",
     "locked": true,
     "schema_version": 3,
     "solution": false
    }
   },
   "source": [
    "### Q7: Forecast the test set using multiple one-step forecasts"
   ]
  },
  {
   "cell_type": "markdown",
   "metadata": {
    "deletable": false,
    "editable": false,
    "nbgrader": {
     "grade": false,
     "grade_id": "cell-9025d26c981a4dd6",
     "locked": true,
     "schema_version": 3,
     "solution": false,
     "task": false
    }
   },
   "source": [
    "### Q7.1: Get the rolling one-step forecasts"
   ]
  },
  {
   "cell_type": "code",
   "execution_count": null,
   "metadata": {
    "deletable": false,
    "nbgrader": {
     "grade": false,
     "grade_id": "cell-7df87d54c98920a1",
     "locked": false,
     "schema_version": 3,
     "solution": true
    }
   },
   "outputs": [],
   "source": [
    "# Don't forget to fit your sarimax model again\n",
    "# You will need to make a for loop that updates the model\n",
    "\n",
    "# sarimax_forecast_one_step_refit = []\n",
    "# sarimax.fit(emissions_train_log)  \n",
    "# emissions_test_logged = \n",
    "# Update loop\n",
    "\n",
    "# YOUR CODE HERE\n",
    "raise NotImplementedError()"
   ]
  },
  {
   "cell_type": "code",
   "execution_count": null,
   "metadata": {
    "deletable": false,
    "editable": false,
    "nbgrader": {
     "grade": true,
     "grade_id": "cell-bb5f9d7036959ca8",
     "locked": true,
     "points": 4,
     "schema_version": 3,
     "solution": false
    }
   },
   "outputs": [],
   "source": [
    "expected_hash = '7080152205ba48d591d1dede83e16a46e27f6d228a709220cb4e31d80a46adcc'\n",
    "assert hashlib.sha256(str(np.round(sarimax_forecast_one_step_refit)).encode()).hexdigest() == expected_hash"
   ]
  },
  {
   "cell_type": "markdown",
   "metadata": {
    "deletable": false,
    "editable": false,
    "nbgrader": {
     "grade": false,
     "grade_id": "cell-5c0e9ce8a9315b84",
     "locked": true,
     "schema_version": 3,
     "solution": false,
     "task": false
    }
   },
   "source": [
    "### Q7.2: Calculate the corresponding MSE"
   ]
  },
  {
   "cell_type": "code",
   "execution_count": null,
   "metadata": {
    "deletable": false,
    "nbgrader": {
     "grade": false,
     "grade_id": "cell-b08743bd56aa6f39",
     "locked": false,
     "schema_version": 3,
     "solution": true,
     "task": false
    }
   },
   "outputs": [],
   "source": [
    "# Don't forget that you used the logged dataset when training the model.\n",
    "\n",
    "# sarimax_forecast_one_step_refit_exp =\n",
    "# mse =\n",
    "\n",
    "# YOUR CODE HERE\n",
    "raise NotImplementedError()"
   ]
  },
  {
   "cell_type": "code",
   "execution_count": null,
   "metadata": {
    "deletable": false,
    "editable": false,
    "nbgrader": {
     "grade": true,
     "grade_id": "cell-d1d8e5e079f2aeab",
     "locked": true,
     "points": 1,
     "schema_version": 3,
     "solution": false,
     "task": false
    }
   },
   "outputs": [],
   "source": [
    "expected_hash = 'bba8868023dbbbb0b719df3b375500c3a9643db09f8919a43a7774d578adc329'\n",
    "assert hashlib.sha256(str(np.round(sarimax_forecast_one_step_refit_exp,1)).encode()).hexdigest() == expected_hash\n",
    "\n",
    "expected_hash = 'cb30211d8e99f76a7f0b4f080b48cb2095f6b6128b07d52bbf030a78c146aea0'\n",
    "assert hashlib.sha256(str(np.round(mse,1)).encode()).hexdigest() == expected_hash"
   ]
  },
  {
   "cell_type": "code",
   "execution_count": null,
   "metadata": {
    "deletable": false,
    "editable": false,
    "nbgrader": {
     "grade": false,
     "grade_id": "cell-c763e0c9b5bf4c17",
     "locked": true,
     "schema_version": 3,
     "solution": false,
     "task": false
    }
   },
   "outputs": [],
   "source": [
    "emissions_test.plot()\n",
    "pd.Series(sarimax_forecast_one_step_refit_exp, index=emissions_test.index).plot()\n",
    "plt.xlabel('Time')\n",
    "plt.title('Monthly CO2 emissions (gCO2eq)')\n",
    "plt.legend(['original','forecast'],loc=2)\n",
    "\n",
    "print(mse)"
   ]
  },
  {
   "cell_type": "markdown",
   "metadata": {
    "deletable": false,
    "editable": false,
    "nbgrader": {
     "grade": false,
     "grade_id": "cell-d6261c9789b85eef",
     "locked": true,
     "schema_version": 3,
     "solution": false
    }
   },
   "source": [
    "### Q8: Repeat Q7 now with an exogenous input"
   ]
  },
  {
   "cell_type": "markdown",
   "metadata": {
    "deletable": false,
    "editable": false,
    "nbgrader": {
     "grade": false,
     "grade_id": "cell-b85797c22db10743",
     "locked": true,
     "schema_version": 3,
     "solution": false,
     "task": false
    }
   },
   "source": [
    "Let's test the performance of our model using an exogenous input: the coal consumption. Note that the dataset below contains the coal consumption forecast made on the previous month. This means that we can use this exogenous data for doing one-step forecasts. "
   ]
  },
  {
   "cell_type": "code",
   "execution_count": null,
   "metadata": {
    "deletable": false,
    "editable": false,
    "nbgrader": {
     "grade": false,
     "grade_id": "cell-078966aeaf3c5d75",
     "locked": true,
     "schema_version": 3,
     "solution": false,
     "task": false
    }
   },
   "outputs": [],
   "source": [
    "exog = load_coal_data()\n",
    "exog_train = exog[:'1997']\n",
    "exog_test = exog['1997':]"
   ]
  },
  {
   "cell_type": "markdown",
   "metadata": {
    "deletable": false,
    "editable": false,
    "nbgrader": {
     "grade": false,
     "grade_id": "cell-6d7e5b4aa47133d2",
     "locked": true,
     "schema_version": 3,
     "solution": false,
     "task": false
    }
   },
   "source": [
    "Let's look at the data to get an idea of what we can expect:"
   ]
  },
  {
   "cell_type": "code",
   "execution_count": null,
   "metadata": {
    "deletable": false,
    "editable": false,
    "nbgrader": {
     "grade": false,
     "grade_id": "cell-c474cab10a74ac5a",
     "locked": true,
     "schema_version": 3,
     "solution": false,
     "task": false
    }
   },
   "outputs": [],
   "source": [
    "exog_train.plot();\n",
    "plt.xlabel('Time');\n",
    "plt.title('Monthly coal consumption');"
   ]
  },
  {
   "cell_type": "markdown",
   "metadata": {
    "deletable": false,
    "editable": false,
    "nbgrader": {
     "grade": false,
     "grade_id": "cell-6da7c592b0e8f449",
     "locked": true,
     "schema_version": 3,
     "solution": false,
     "task": false
    }
   },
   "source": [
    "### Q8.1: Get the rolling one-step forecasts"
   ]
  },
  {
   "cell_type": "code",
   "execution_count": null,
   "metadata": {
    "deletable": false,
    "nbgrader": {
     "grade": false,
     "grade_id": "cell-31d0dfc073a764a7",
     "locked": false,
     "schema_version": 3,
     "solution": true
    }
   },
   "outputs": [],
   "source": [
    "# Don't forget to fit your sarimax model again\n",
    "# You will need to make a for loop that updates the model\n",
    "# Note that this case is slightly different from the learning notebooks, where we used the exogenous data to do a\n",
    "# multi-step forecast. Here we need to use the exogenous data in the context of multiple one-step forecasts, this \n",
    "# means we need to have an update loop where we also include the new values of the exogenous data \n",
    "# (similar to what was done in Q7.1).\n",
    "\n",
    "# YOUR CODE HERE\n",
    "raise NotImplementedError()"
   ]
  },
  {
   "cell_type": "code",
   "execution_count": null,
   "metadata": {
    "deletable": false,
    "editable": false,
    "nbgrader": {
     "grade": true,
     "grade_id": "cell-a89774a4f207e248",
     "locked": true,
     "points": 4,
     "schema_version": 3,
     "solution": false
    }
   },
   "outputs": [],
   "source": [
    "expected_hash = 'acb1cf9da851c0c91595a3c6f68cc4669dbcb9d23dde524100b656376e1de214'\n",
    "assert hashlib.sha256(str(np.round(sarimax_forecast_one_step_refit,1)).encode()).hexdigest() == expected_hash"
   ]
  },
  {
   "cell_type": "markdown",
   "metadata": {
    "deletable": false,
    "editable": false,
    "nbgrader": {
     "grade": false,
     "grade_id": "cell-a7c2c1c82f4dd784",
     "locked": true,
     "schema_version": 3,
     "solution": false,
     "task": false
    }
   },
   "source": [
    "### Q8.2: Calculate the corresponding MSE"
   ]
  },
  {
   "cell_type": "code",
   "execution_count": null,
   "metadata": {
    "deletable": false,
    "nbgrader": {
     "grade": false,
     "grade_id": "cell-08cf8f9cc63a4753",
     "locked": false,
     "schema_version": 3,
     "solution": true,
     "task": false
    }
   },
   "outputs": [],
   "source": [
    "# Don't forget that you used the logged dataset when training the model.\n",
    "\n",
    "# sarimax_forecast_one_step_refit_exp = \n",
    "# mse = \n",
    "\n",
    "# YOUR CODE HERE\n",
    "raise NotImplementedError()"
   ]
  },
  {
   "cell_type": "code",
   "execution_count": null,
   "metadata": {
    "deletable": false,
    "editable": false,
    "nbgrader": {
     "grade": true,
     "grade_id": "cell-44a5908d26970bf6",
     "locked": true,
     "points": 1,
     "schema_version": 3,
     "solution": false,
     "task": false
    }
   },
   "outputs": [],
   "source": [
    "expected_hash = 'ba39644cf33119587851eb252e85132508761fd8a8d708ca2e8e314754d8b9d9'\n",
    "assert hashlib.sha256(str(np.round(sarimax_forecast_one_step_refit_exp,1)).encode()).hexdigest() == expected_hash\n",
    "\n",
    "expected_hash = '0ac326686f62e06176321c58953c4eb0fed6c7610bdef09b71c7e8c36424daac'\n",
    "assert hashlib.sha256(str(np.round(mse,1)).encode()).hexdigest() == expected_hash"
   ]
  },
  {
   "cell_type": "code",
   "execution_count": null,
   "metadata": {
    "deletable": false,
    "editable": false,
    "nbgrader": {
     "grade": false,
     "grade_id": "cell-f03162fd9b305d87",
     "locked": true,
     "schema_version": 3,
     "solution": false,
     "task": false
    }
   },
   "outputs": [],
   "source": [
    "emissions_test.plot()\n",
    "pd.Series(sarimax_forecast_one_step_refit_exp, index=emissions_test.index).plot()\n",
    "plt.xlabel('Time')\n",
    "plt.title('Monthly CO2 emissions (gCO2eq)')\n",
    "plt.legend(['original','forecast'],loc=2)\n",
    "print(mse)"
   ]
  },
  {
   "cell_type": "markdown",
   "metadata": {
    "deletable": false,
    "editable": false,
    "nbgrader": {
     "grade": false,
     "grade_id": "cell-28dad82f155f1d45",
     "locked": true,
     "schema_version": 3,
     "solution": false,
     "task": false
    }
   },
   "source": [
    "### Q666: Unlock the power of the WMSE (optional)\n",
    "So here's a little something which we didn't discuss in the Learning materials: _weighted_ metrics (be it MAE, MSE, etc.)\n",
    "\n",
    "Now, let's dive in a trip of massive imagination:\n",
    "- the CO2 emissions data set is respective to the _Island of Wonders_ \n",
    "- you are a travel agent selling holiday packs for this island (say what?!)\n",
    "- every month you sell the same number of packs, except for August where your sales double (summer vacation!)\n",
    "- all your clients are very picky about urban pollution and ask you for a month-ahead CO2 forecast\n",
    "\n",
    "If you train/evaluate your model as usual, you get an all-rounder tool and an overall assessment. However, it might be of interest to take into account that there are 2x the clients in August and maybe give this month 2x the relevance.\n",
    "\n",
    "For simplicity, we will leave the \"training the model part\" out (you can still explore this on your own). But take a look at the `sample_weight` parameter of `mean_squared_error` ([link](https://scikit-learn.org/stable/modules/generated/sklearn.metrics.mean_squared_error.html)) and try to **calculate the test MSE using the same `sarimax_forecast_one_step_refit_exp` forecast but giving 2x the importance to the August records**.\n",
    "\n"
   ]
  },
  {
   "cell_type": "code",
   "execution_count": null,
   "metadata": {
    "deletable": false,
    "nbgrader": {
     "grade": false,
     "grade_id": "cell-c48beed0f9e0c069",
     "locked": false,
     "schema_version": 3,
     "solution": true,
     "task": false
    }
   },
   "outputs": [],
   "source": [
    "# create a baseline weight list filled with ones (1)\n",
    "# w = \n",
    "\n",
    "# create a list with the month for each element of the test set\n",
    "# month = \n",
    "\n",
    "# edit the w list, giving the August elements double the weight\n",
    "# ...\n",
    "\n",
    "# calculate the WMAE\n",
    "# wmse_august_double_relevance = \n",
    "\n",
    "# YOUR CODE HERE\n",
    "raise NotImplementedError()"
   ]
  },
  {
   "cell_type": "code",
   "execution_count": null,
   "metadata": {
    "deletable": false,
    "editable": false,
    "nbgrader": {
     "grade": true,
     "grade_id": "cell-f420dc7a8b6051bc",
     "locked": true,
     "points": 0,
     "schema_version": 3,
     "solution": false,
     "task": false
    }
   },
   "outputs": [],
   "source": [
    "expected_hash = '0ac326686f62e06176321c58953c4eb0fed6c7610bdef09b71c7e8c36424daac'\n",
    "assert hashlib.sha256(str(np.round(mse,1)).encode()).hexdigest() == expected_hash"
   ]
  },
  {
   "cell_type": "code",
   "execution_count": null,
   "metadata": {},
   "outputs": [],
   "source": [
    "print(mse)\n",
    "print(wmse_august_double_relevance)"
   ]
  }
 ],
 "metadata": {
  "kernelspec": {
   "display_name": "Python 3 (ipykernel)",
   "language": "python",
   "name": "python3"
  },
  "language_info": {
   "codemirror_mode": {
    "name": "ipython",
    "version": 3
   },
   "file_extension": ".py",
   "mimetype": "text/x-python",
   "name": "python",
   "nbconvert_exporter": "python",
   "pygments_lexer": "ipython3",
   "version": "3.7.10"
  }
 },
 "nbformat": 4,
 "nbformat_minor": 2
}
