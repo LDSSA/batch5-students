{
 "cells": [
  {
   "cell_type": "markdown",
   "metadata": {},
   "source": [
    "# BLU02 - Learning Notebook - Data wrangling workflows - Part 1 of 3"
   ]
  },
  {
   "cell_type": "code",
   "execution_count": 1,
   "metadata": {},
   "outputs": [],
   "source": [
    "import numpy as np\n",
    "import pandas as pd\n",
    "import os\n",
    "\n",
    "from sklearn.datasets import load_iris"
   ]
  },
  {
   "cell_type": "markdown",
   "metadata": {},
   "source": [
    "# About the BLU \n",
    "\n",
    "## Data wrangling workflows\n",
    "\n",
    "A typical data science workflow goes as follows: you get data from a source, you clean it, and then you continuously iterate on it.\n",
    "\n",
    "![data_transformation_workflow](./media/data_processing_workflow.png)\n",
    "\n",
    "On the previous learning unit in this specialization, we focused mostly on getting and cleaning data (the blue boxes above). \n",
    "\n",
    "At this point, we got a dataset and performed necessary data cleaning. Our data is, therefore, in an interim state:\n",
    "* You have a *tidy dataset* (observations as rows and features as columns), comprised of one or more tables\n",
    "* You know how to import such tables into Pandas, regardless of the format they are stored.\n",
    "\n",
    "Now, to explore, visualize and model the data, we have to perform transformations on it with agility, balancing:\n",
    "* Speed of iteration, testing different hypothesis fast and easy\n",
    "* Consistency, ensuring our pipeline doesn't collapse along the way.\n",
    "\n",
    "In this first part, we'll go into how to transform the dataset and explore it in Pandas.\n",
    "\n",
    "Then, we'll learn how to combine dataframes.\n",
    "\n",
    "Finally, we'll move to scikit-learn to build efficient pipelines for modeling."
   ]
  },
  {
   "cell_type": "markdown",
   "metadata": {},
   "source": [
    "# About the data\n",
    "\n",
    "The New York Philharmonic played its first concert on December 7, 1842.\n",
    "\n",
    "The data documents all known concerts, amounting to more than 20,000 performances. Some considerations:\n",
    "* The Program is the top-most level element in the dataset\n",
    "* A Program is defined as performances in which the repertoire, conductors, and soloists are the same\n",
    "* A Program is associated with an Orchestra (e.g., New York Philharmonic) and a Season (e.g., 1842-43)\n",
    "* A Program may have multiple Concerts with different dates, times and locations\n",
    "* A Program's repertoire may contain various Works (e.g., two different symphonies by Beethoven)\n",
    "* A Work can have multiple Soloists (e.g., Mahler on the harpsichord, Strauss or Bernstein on the piano).\n",
    "\n",
    "**For more information about the dataset, including the data dictionary, please head to the README.**\n",
    "\n",
    "In this unit, we will be using Works and Concerts, imported as follows."
   ]
  },
  {
   "cell_type": "code",
   "execution_count": 2,
   "metadata": {},
   "outputs": [],
   "source": [
    "works = pd.read_csv('./data/works.csv')\n",
    "concerts = pd.read_csv('./data/concerts.csv')"
   ]
  },
  {
   "cell_type": "code",
   "execution_count": 3,
   "metadata": {},
   "outputs": [
    {
     "data": {
      "text/html": [
       "<div>\n",
       "<style scoped>\n",
       "    .dataframe tbody tr th:only-of-type {\n",
       "        vertical-align: middle;\n",
       "    }\n",
       "\n",
       "    .dataframe tbody tr th {\n",
       "        vertical-align: top;\n",
       "    }\n",
       "\n",
       "    .dataframe thead th {\n",
       "        text-align: right;\n",
       "    }\n",
       "</style>\n",
       "<table border=\"1\" class=\"dataframe\">\n",
       "  <thead>\n",
       "    <tr style=\"text-align: right;\">\n",
       "      <th></th>\n",
       "      <th>GUID</th>\n",
       "      <th>ProgramID</th>\n",
       "      <th>WorkID</th>\n",
       "      <th>MovementID</th>\n",
       "      <th>ComposerName</th>\n",
       "      <th>WorkTitle</th>\n",
       "      <th>Movement</th>\n",
       "      <th>ConductorName</th>\n",
       "      <th>Interval</th>\n",
       "      <th>isInterval</th>\n",
       "    </tr>\n",
       "  </thead>\n",
       "  <tbody>\n",
       "    <tr>\n",
       "      <th>0</th>\n",
       "      <td>38e072a7-8fc9-4f9a-8eac-3957905c0002</td>\n",
       "      <td>3853</td>\n",
       "      <td>52446</td>\n",
       "      <td>NaN</td>\n",
       "      <td>Beethoven,  Ludwig  van</td>\n",
       "      <td>SYMPHONY NO. 5 IN C MINOR, OP.67</td>\n",
       "      <td>NaN</td>\n",
       "      <td>Hill, Ureli Corelli</td>\n",
       "      <td>NaN</td>\n",
       "      <td>False</td>\n",
       "    </tr>\n",
       "    <tr>\n",
       "      <th>1</th>\n",
       "      <td>c7b2b95c-5e0b-431c-a340-5b37fc860b34</td>\n",
       "      <td>5178</td>\n",
       "      <td>52437</td>\n",
       "      <td>NaN</td>\n",
       "      <td>Beethoven,  Ludwig  van</td>\n",
       "      <td>SYMPHONY NO. 3 IN E FLAT MAJOR, OP. 55 (EROICA)</td>\n",
       "      <td>NaN</td>\n",
       "      <td>Hill, Ureli Corelli</td>\n",
       "      <td>NaN</td>\n",
       "      <td>False</td>\n",
       "    </tr>\n",
       "    <tr>\n",
       "      <th>2</th>\n",
       "      <td>894e1a52-1ae5-4fa7-aec0-b99997555a37</td>\n",
       "      <td>10785</td>\n",
       "      <td>52364</td>\n",
       "      <td>1.0</td>\n",
       "      <td>Beethoven,  Ludwig  van</td>\n",
       "      <td>EGMONT, OP.84</td>\n",
       "      <td>Overture</td>\n",
       "      <td>Hill, Ureli Corelli</td>\n",
       "      <td>NaN</td>\n",
       "      <td>False</td>\n",
       "    </tr>\n",
       "    <tr>\n",
       "      <th>3</th>\n",
       "      <td>34ec2c2b-3297-4716-9831-b538310462b7</td>\n",
       "      <td>5887</td>\n",
       "      <td>52434</td>\n",
       "      <td>NaN</td>\n",
       "      <td>Beethoven,  Ludwig  van</td>\n",
       "      <td>SYMPHONY NO. 2 IN D MAJOR, OP.36</td>\n",
       "      <td>NaN</td>\n",
       "      <td>Boucher, Alfred</td>\n",
       "      <td>NaN</td>\n",
       "      <td>False</td>\n",
       "    </tr>\n",
       "    <tr>\n",
       "      <th>4</th>\n",
       "      <td>610a4acc-94e4-4cd6-bdc1-8ad020edc7e9</td>\n",
       "      <td>305</td>\n",
       "      <td>52453</td>\n",
       "      <td>NaN</td>\n",
       "      <td>Beethoven,  Ludwig  van</td>\n",
       "      <td>SYMPHONY NO. 7 IN A MAJOR, OP.92</td>\n",
       "      <td>NaN</td>\n",
       "      <td>Hill, Ureli Corelli</td>\n",
       "      <td>NaN</td>\n",
       "      <td>False</td>\n",
       "    </tr>\n",
       "  </tbody>\n",
       "</table>\n",
       "</div>"
      ],
      "text/plain": [
       "                                   GUID  ProgramID  WorkID  MovementID  \\\n",
       "0  38e072a7-8fc9-4f9a-8eac-3957905c0002       3853   52446         NaN   \n",
       "1  c7b2b95c-5e0b-431c-a340-5b37fc860b34       5178   52437         NaN   \n",
       "2  894e1a52-1ae5-4fa7-aec0-b99997555a37      10785   52364         1.0   \n",
       "3  34ec2c2b-3297-4716-9831-b538310462b7       5887   52434         NaN   \n",
       "4  610a4acc-94e4-4cd6-bdc1-8ad020edc7e9        305   52453         NaN   \n",
       "\n",
       "              ComposerName                                        WorkTitle  \\\n",
       "0  Beethoven,  Ludwig  van                 SYMPHONY NO. 5 IN C MINOR, OP.67   \n",
       "1  Beethoven,  Ludwig  van  SYMPHONY NO. 3 IN E FLAT MAJOR, OP. 55 (EROICA)   \n",
       "2  Beethoven,  Ludwig  van                                    EGMONT, OP.84   \n",
       "3  Beethoven,  Ludwig  van                 SYMPHONY NO. 2 IN D MAJOR, OP.36   \n",
       "4  Beethoven,  Ludwig  van                 SYMPHONY NO. 7 IN A MAJOR, OP.92   \n",
       "\n",
       "   Movement        ConductorName Interval  isInterval  \n",
       "0       NaN  Hill, Ureli Corelli      NaN       False  \n",
       "1       NaN  Hill, Ureli Corelli      NaN       False  \n",
       "2  Overture  Hill, Ureli Corelli      NaN       False  \n",
       "3       NaN      Boucher, Alfred      NaN       False  \n",
       "4       NaN  Hill, Ureli Corelli      NaN       False  "
      ]
     },
     "execution_count": 3,
     "metadata": {},
     "output_type": "execute_result"
    }
   ],
   "source": [
    "works.head()"
   ]
  },
  {
   "cell_type": "code",
   "execution_count": 4,
   "metadata": {},
   "outputs": [
    {
     "data": {
      "text/html": [
       "<div>\n",
       "<style scoped>\n",
       "    .dataframe tbody tr th:only-of-type {\n",
       "        vertical-align: middle;\n",
       "    }\n",
       "\n",
       "    .dataframe tbody tr th {\n",
       "        vertical-align: top;\n",
       "    }\n",
       "\n",
       "    .dataframe thead th {\n",
       "        text-align: right;\n",
       "    }\n",
       "</style>\n",
       "<table border=\"1\" class=\"dataframe\">\n",
       "  <thead>\n",
       "    <tr style=\"text-align: right;\">\n",
       "      <th></th>\n",
       "      <th>GUID</th>\n",
       "      <th>ProgramID</th>\n",
       "      <th>ConcertID</th>\n",
       "      <th>EventType</th>\n",
       "      <th>Location</th>\n",
       "      <th>Venue</th>\n",
       "      <th>Date</th>\n",
       "      <th>Time</th>\n",
       "    </tr>\n",
       "  </thead>\n",
       "  <tbody>\n",
       "    <tr>\n",
       "      <th>0</th>\n",
       "      <td>38e072a7-8fc9-4f9a-8eac-3957905c0002</td>\n",
       "      <td>3853</td>\n",
       "      <td>0</td>\n",
       "      <td>Subscription Season</td>\n",
       "      <td>Manhattan, NY</td>\n",
       "      <td>Apollo Rooms</td>\n",
       "      <td>1842-12-07T05:00:00+00:00</td>\n",
       "      <td>8:00PM</td>\n",
       "    </tr>\n",
       "    <tr>\n",
       "      <th>1</th>\n",
       "      <td>c7b2b95c-5e0b-431c-a340-5b37fc860b34</td>\n",
       "      <td>5178</td>\n",
       "      <td>0</td>\n",
       "      <td>Subscription Season</td>\n",
       "      <td>Manhattan, NY</td>\n",
       "      <td>Apollo Rooms</td>\n",
       "      <td>1843-02-18T05:00:00+00:00</td>\n",
       "      <td>8:00PM</td>\n",
       "    </tr>\n",
       "    <tr>\n",
       "      <th>2</th>\n",
       "      <td>894e1a52-1ae5-4fa7-aec0-b99997555a37</td>\n",
       "      <td>10785</td>\n",
       "      <td>0</td>\n",
       "      <td>Special</td>\n",
       "      <td>Manhattan, NY</td>\n",
       "      <td>Apollo Rooms</td>\n",
       "      <td>1843-04-07T05:00:00+00:00</td>\n",
       "      <td>8:00PM</td>\n",
       "    </tr>\n",
       "    <tr>\n",
       "      <th>3</th>\n",
       "      <td>34ec2c2b-3297-4716-9831-b538310462b7</td>\n",
       "      <td>5887</td>\n",
       "      <td>0</td>\n",
       "      <td>Subscription Season</td>\n",
       "      <td>Manhattan, NY</td>\n",
       "      <td>Apollo Rooms</td>\n",
       "      <td>1843-04-22T05:00:00+00:00</td>\n",
       "      <td>8:00PM</td>\n",
       "    </tr>\n",
       "    <tr>\n",
       "      <th>4</th>\n",
       "      <td>610a4acc-94e4-4cd6-bdc1-8ad020edc7e9</td>\n",
       "      <td>305</td>\n",
       "      <td>0</td>\n",
       "      <td>Subscription Season</td>\n",
       "      <td>Manhattan, NY</td>\n",
       "      <td>Apollo Rooms</td>\n",
       "      <td>1843-11-18T05:00:00+00:00</td>\n",
       "      <td>NaN</td>\n",
       "    </tr>\n",
       "  </tbody>\n",
       "</table>\n",
       "</div>"
      ],
      "text/plain": [
       "                                   GUID  ProgramID  ConcertID  \\\n",
       "0  38e072a7-8fc9-4f9a-8eac-3957905c0002       3853          0   \n",
       "1  c7b2b95c-5e0b-431c-a340-5b37fc860b34       5178          0   \n",
       "2  894e1a52-1ae5-4fa7-aec0-b99997555a37      10785          0   \n",
       "3  34ec2c2b-3297-4716-9831-b538310462b7       5887          0   \n",
       "4  610a4acc-94e4-4cd6-bdc1-8ad020edc7e9        305          0   \n",
       "\n",
       "             EventType       Location         Venue  \\\n",
       "0  Subscription Season  Manhattan, NY  Apollo Rooms   \n",
       "1  Subscription Season  Manhattan, NY  Apollo Rooms   \n",
       "2              Special  Manhattan, NY  Apollo Rooms   \n",
       "3  Subscription Season  Manhattan, NY  Apollo Rooms   \n",
       "4  Subscription Season  Manhattan, NY  Apollo Rooms   \n",
       "\n",
       "                        Date    Time  \n",
       "0  1842-12-07T05:00:00+00:00  8:00PM  \n",
       "1  1843-02-18T05:00:00+00:00  8:00PM  \n",
       "2  1843-04-07T05:00:00+00:00  8:00PM  \n",
       "3  1843-04-22T05:00:00+00:00  8:00PM  \n",
       "4  1843-11-18T05:00:00+00:00     NaN  "
      ]
     },
     "execution_count": 4,
     "metadata": {},
     "output_type": "execute_result"
    }
   ],
   "source": [
    "concerts.head()"
   ]
  },
  {
   "cell_type": "markdown",
   "metadata": {},
   "source": [
    "# 1 Data transformation\n",
    "\n",
    "## 1.1 Transformations as functions \n",
    "\n",
    "Most data transformations operate on dataframes: they receive a local dataframe, transform it and return a new one.\n",
    "\n",
    "In its simplest form, this is the signature of a generic data transformer."
   ]
  },
  {
   "cell_type": "code",
   "execution_count": 5,
   "metadata": {},
   "outputs": [],
   "source": [
    "def data_transformer(df):\n",
    "    df = df.copy()\n",
    "    # df = ...\n",
    "    return df"
   ]
  },
  {
   "cell_type": "markdown",
   "metadata": {},
   "source": [
    "Such transformations have no side effects and operate as functions on immutable data (i.e., they keep the original dataframe unchanged).\n",
    "\n",
    "Since the output depends only on the arguments, calling them with the same arguments always produces the same result.\n",
    "\n",
    "Confusing? Not really."
   ]
  },
  {
   "cell_type": "code",
   "execution_count": 6,
   "metadata": {},
   "outputs": [
    {
     "data": {
      "text/html": [
       "<div>\n",
       "<style scoped>\n",
       "    .dataframe tbody tr th:only-of-type {\n",
       "        vertical-align: middle;\n",
       "    }\n",
       "\n",
       "    .dataframe tbody tr th {\n",
       "        vertical-align: top;\n",
       "    }\n",
       "\n",
       "    .dataframe thead th {\n",
       "        text-align: right;\n",
       "    }\n",
       "</style>\n",
       "<table border=\"1\" class=\"dataframe\">\n",
       "  <thead>\n",
       "    <tr style=\"text-align: right;\">\n",
       "      <th></th>\n",
       "      <th>B</th>\n",
       "      <th>C</th>\n",
       "      <th>D</th>\n",
       "      <th>Z</th>\n",
       "    </tr>\n",
       "  </thead>\n",
       "  <tbody>\n",
       "    <tr>\n",
       "      <th>0</th>\n",
       "      <td>-0.664994</td>\n",
       "      <td>0.919975</td>\n",
       "      <td>0.644443</td>\n",
       "      <td>-1.150628</td>\n",
       "    </tr>\n",
       "    <tr>\n",
       "      <th>1</th>\n",
       "      <td>-0.423129</td>\n",
       "      <td>-1.437467</td>\n",
       "      <td>-0.791423</td>\n",
       "      <td>-0.520635</td>\n",
       "    </tr>\n",
       "    <tr>\n",
       "      <th>2</th>\n",
       "      <td>2.693411</td>\n",
       "      <td>0.514641</td>\n",
       "      <td>-1.620516</td>\n",
       "      <td>2.092076</td>\n",
       "    </tr>\n",
       "    <tr>\n",
       "      <th>3</th>\n",
       "      <td>-1.714306</td>\n",
       "      <td>0.169466</td>\n",
       "      <td>-0.183609</td>\n",
       "      <td>1.256887</td>\n",
       "    </tr>\n",
       "    <tr>\n",
       "      <th>4</th>\n",
       "      <td>-0.471753</td>\n",
       "      <td>0.297009</td>\n",
       "      <td>-0.027823</td>\n",
       "      <td>0.097585</td>\n",
       "    </tr>\n",
       "    <tr>\n",
       "      <th>5</th>\n",
       "      <td>0.431045</td>\n",
       "      <td>-0.249574</td>\n",
       "      <td>0.156998</td>\n",
       "      <td>0.686160</td>\n",
       "    </tr>\n",
       "  </tbody>\n",
       "</table>\n",
       "</div>"
      ],
      "text/plain": [
       "          B         C         D         Z\n",
       "0 -0.664994  0.919975  0.644443 -1.150628\n",
       "1 -0.423129 -1.437467 -0.791423 -0.520635\n",
       "2  2.693411  0.514641 -1.620516  2.092076\n",
       "3 -1.714306  0.169466 -0.183609  1.256887\n",
       "4 -0.471753  0.297009 -0.027823  0.097585\n",
       "5  0.431045 -0.249574  0.156998  0.686160"
      ]
     },
     "execution_count": 6,
     "metadata": {},
     "output_type": "execute_result"
    }
   ],
   "source": [
    "def rename_column(df, new_name, old_name):\n",
    "    df = df.copy()\n",
    "    df[new_name] = df[old_name]\n",
    "    df = df.drop(columns=old_name)\n",
    "    return df\n",
    "\n",
    "def test_dataframe():\n",
    "    data = np.random.randn(6, 4)\n",
    "    columns = ['A', 'B', 'C', 'D']\n",
    "    return pd.DataFrame(data=data, columns=columns)\n",
    "\n",
    "df = test_dataframe()\n",
    "\n",
    "rename_column(df, 'Z', 'A')"
   ]
  },
  {
   "cell_type": "code",
   "execution_count": 7,
   "metadata": {},
   "outputs": [
    {
     "data": {
      "text/html": [
       "<div>\n",
       "<style scoped>\n",
       "    .dataframe tbody tr th:only-of-type {\n",
       "        vertical-align: middle;\n",
       "    }\n",
       "\n",
       "    .dataframe tbody tr th {\n",
       "        vertical-align: top;\n",
       "    }\n",
       "\n",
       "    .dataframe thead th {\n",
       "        text-align: right;\n",
       "    }\n",
       "</style>\n",
       "<table border=\"1\" class=\"dataframe\">\n",
       "  <thead>\n",
       "    <tr style=\"text-align: right;\">\n",
       "      <th></th>\n",
       "      <th>B</th>\n",
       "      <th>C</th>\n",
       "      <th>D</th>\n",
       "      <th>Z</th>\n",
       "    </tr>\n",
       "  </thead>\n",
       "  <tbody>\n",
       "    <tr>\n",
       "      <th>0</th>\n",
       "      <td>-0.664994</td>\n",
       "      <td>0.919975</td>\n",
       "      <td>0.644443</td>\n",
       "      <td>-1.150628</td>\n",
       "    </tr>\n",
       "    <tr>\n",
       "      <th>1</th>\n",
       "      <td>-0.423129</td>\n",
       "      <td>-1.437467</td>\n",
       "      <td>-0.791423</td>\n",
       "      <td>-0.520635</td>\n",
       "    </tr>\n",
       "    <tr>\n",
       "      <th>2</th>\n",
       "      <td>2.693411</td>\n",
       "      <td>0.514641</td>\n",
       "      <td>-1.620516</td>\n",
       "      <td>2.092076</td>\n",
       "    </tr>\n",
       "    <tr>\n",
       "      <th>3</th>\n",
       "      <td>-1.714306</td>\n",
       "      <td>0.169466</td>\n",
       "      <td>-0.183609</td>\n",
       "      <td>1.256887</td>\n",
       "    </tr>\n",
       "    <tr>\n",
       "      <th>4</th>\n",
       "      <td>-0.471753</td>\n",
       "      <td>0.297009</td>\n",
       "      <td>-0.027823</td>\n",
       "      <td>0.097585</td>\n",
       "    </tr>\n",
       "    <tr>\n",
       "      <th>5</th>\n",
       "      <td>0.431045</td>\n",
       "      <td>-0.249574</td>\n",
       "      <td>0.156998</td>\n",
       "      <td>0.686160</td>\n",
       "    </tr>\n",
       "  </tbody>\n",
       "</table>\n",
       "</div>"
      ],
      "text/plain": [
       "          B         C         D         Z\n",
       "0 -0.664994  0.919975  0.644443 -1.150628\n",
       "1 -0.423129 -1.437467 -0.791423 -0.520635\n",
       "2  2.693411  0.514641 -1.620516  2.092076\n",
       "3 -1.714306  0.169466 -0.183609  1.256887\n",
       "4 -0.471753  0.297009 -0.027823  0.097585\n",
       "5  0.431045 -0.249574  0.156998  0.686160"
      ]
     },
     "execution_count": 7,
     "metadata": {},
     "output_type": "execute_result"
    }
   ],
   "source": [
    "rename_column(df, 'Z', 'A')"
   ]
  },
  {
   "cell_type": "markdown",
   "metadata": {},
   "source": [
    "The same result, see! The program (or Notebook) remembers nothing but the original data and the function itself: a white canvas!\n",
    "\n",
    "What about the original dataframe?"
   ]
  },
  {
   "cell_type": "code",
   "execution_count": 8,
   "metadata": {},
   "outputs": [
    {
     "data": {
      "text/html": [
       "<div>\n",
       "<style scoped>\n",
       "    .dataframe tbody tr th:only-of-type {\n",
       "        vertical-align: middle;\n",
       "    }\n",
       "\n",
       "    .dataframe tbody tr th {\n",
       "        vertical-align: top;\n",
       "    }\n",
       "\n",
       "    .dataframe thead th {\n",
       "        text-align: right;\n",
       "    }\n",
       "</style>\n",
       "<table border=\"1\" class=\"dataframe\">\n",
       "  <thead>\n",
       "    <tr style=\"text-align: right;\">\n",
       "      <th></th>\n",
       "      <th>A</th>\n",
       "      <th>B</th>\n",
       "      <th>C</th>\n",
       "      <th>D</th>\n",
       "    </tr>\n",
       "  </thead>\n",
       "  <tbody>\n",
       "    <tr>\n",
       "      <th>0</th>\n",
       "      <td>-1.150628</td>\n",
       "      <td>-0.664994</td>\n",
       "      <td>0.919975</td>\n",
       "      <td>0.644443</td>\n",
       "    </tr>\n",
       "    <tr>\n",
       "      <th>1</th>\n",
       "      <td>-0.520635</td>\n",
       "      <td>-0.423129</td>\n",
       "      <td>-1.437467</td>\n",
       "      <td>-0.791423</td>\n",
       "    </tr>\n",
       "    <tr>\n",
       "      <th>2</th>\n",
       "      <td>2.092076</td>\n",
       "      <td>2.693411</td>\n",
       "      <td>0.514641</td>\n",
       "      <td>-1.620516</td>\n",
       "    </tr>\n",
       "    <tr>\n",
       "      <th>3</th>\n",
       "      <td>1.256887</td>\n",
       "      <td>-1.714306</td>\n",
       "      <td>0.169466</td>\n",
       "      <td>-0.183609</td>\n",
       "    </tr>\n",
       "    <tr>\n",
       "      <th>4</th>\n",
       "      <td>0.097585</td>\n",
       "      <td>-0.471753</td>\n",
       "      <td>0.297009</td>\n",
       "      <td>-0.027823</td>\n",
       "    </tr>\n",
       "    <tr>\n",
       "      <th>5</th>\n",
       "      <td>0.686160</td>\n",
       "      <td>0.431045</td>\n",
       "      <td>-0.249574</td>\n",
       "      <td>0.156998</td>\n",
       "    </tr>\n",
       "  </tbody>\n",
       "</table>\n",
       "</div>"
      ],
      "text/plain": [
       "          A         B         C         D\n",
       "0 -1.150628 -0.664994  0.919975  0.644443\n",
       "1 -0.520635 -0.423129 -1.437467 -0.791423\n",
       "2  2.092076  2.693411  0.514641 -1.620516\n",
       "3  1.256887 -1.714306  0.169466 -0.183609\n",
       "4  0.097585 -0.471753  0.297009 -0.027823\n",
       "5  0.686160  0.431045 -0.249574  0.156998"
      ]
     },
     "execution_count": 8,
     "metadata": {},
     "output_type": "execute_result"
    }
   ],
   "source": [
    "df"
   ]
  },
  {
   "cell_type": "markdown",
   "metadata": {},
   "source": [
    "After each call, the program *state* is the same as it was before (no new objects, no changes, no nothing!), as if nothing happened.\n",
    "\n",
    "This property is valid for as long as we don't explicitly overwrite the original dataframe outside the function, using an assignment."
   ]
  },
  {
   "cell_type": "code",
   "execution_count": 9,
   "metadata": {},
   "outputs": [
    {
     "name": "stdout",
     "output_type": "stream",
     "text": [
      "For some reason this doesn't work. Why is that?\n"
     ]
    }
   ],
   "source": [
    "df = test_dataframe()\n",
    "df = rename_column(df, 'Z', 'A')\n",
    "\n",
    "try:\n",
    "    rename_column(df, 'Z', 'A')\n",
    "except:\n",
    "    print(\"For some reason this doesn't work. Why is that?\")"
   ]
  },
  {
   "cell_type": "markdown",
   "metadata": {},
   "source": [
    "Mutable data is dangerous because it makes programs unpredictable. And this is why you should avoid modifying objects after creation.\n",
    "\n",
    "Such pitfall is common in Notebooks, especially when you re-run cells, run them in a different order or restart the Kernel. (Am I right?)\n",
    "\n",
    "**Data transformation is a *pipeline***\n",
    "\n",
    "Another problem is that data transformation is about applying multiple, sequential changes to the data (i.e., a multistep process).\n",
    "\n",
    "![data_transformation_pipeline](./media/data_transformation_pipeline.png)\n",
    "\n",
    "*Fig 2. - A data transformation pipeline is a multistep process.*\n",
    "\n",
    "And once we realize this, how do we go about it?"
   ]
  },
  {
   "cell_type": "code",
   "execution_count": 10,
   "metadata": {},
   "outputs": [
    {
     "data": {
      "text/html": [
       "<div>\n",
       "<style scoped>\n",
       "    .dataframe tbody tr th:only-of-type {\n",
       "        vertical-align: middle;\n",
       "    }\n",
       "\n",
       "    .dataframe tbody tr th {\n",
       "        vertical-align: top;\n",
       "    }\n",
       "\n",
       "    .dataframe thead th {\n",
       "        text-align: right;\n",
       "    }\n",
       "</style>\n",
       "<table border=\"1\" class=\"dataframe\">\n",
       "  <thead>\n",
       "    <tr style=\"text-align: right;\">\n",
       "      <th></th>\n",
       "      <th>C</th>\n",
       "      <th>D</th>\n",
       "      <th>Z</th>\n",
       "    </tr>\n",
       "  </thead>\n",
       "  <tbody>\n",
       "    <tr>\n",
       "      <th>0</th>\n",
       "      <td>1.919829</td>\n",
       "      <td>NaN</td>\n",
       "      <td>1.740645</td>\n",
       "    </tr>\n",
       "    <tr>\n",
       "      <th>1</th>\n",
       "      <td>0.340426</td>\n",
       "      <td>0.736913</td>\n",
       "      <td>1.443214</td>\n",
       "    </tr>\n",
       "    <tr>\n",
       "      <th>2</th>\n",
       "      <td>0.203898</td>\n",
       "      <td>NaN</td>\n",
       "      <td>1.158438</td>\n",
       "    </tr>\n",
       "    <tr>\n",
       "      <th>4</th>\n",
       "      <td>0.106867</td>\n",
       "      <td>NaN</td>\n",
       "      <td>NaN</td>\n",
       "    </tr>\n",
       "    <tr>\n",
       "      <th>5</th>\n",
       "      <td>NaN</td>\n",
       "      <td>NaN</td>\n",
       "      <td>1.767068</td>\n",
       "    </tr>\n",
       "  </tbody>\n",
       "</table>\n",
       "</div>"
      ],
      "text/plain": [
       "          C         D         Z\n",
       "0  1.919829       NaN  1.740645\n",
       "1  0.340426  0.736913  1.443214\n",
       "2  0.203898       NaN  1.158438\n",
       "4  0.106867       NaN       NaN\n",
       "5       NaN       NaN  1.767068"
      ]
     },
     "execution_count": 10,
     "metadata": {},
     "output_type": "execute_result"
    }
   ],
   "source": [
    "df = test_dataframe()\n",
    "\n",
    "df_renamed = rename_column(df, 'Z', 'A')\n",
    "# Code happens. Ideas are tested, hours go by.\n",
    "df_renamed_without_b = df_renamed.drop(columns='B')\n",
    "# More code happens. We keep on testing ideas, days go by.\n",
    "df_renamed_without_b_positive = df_renamed_without_b[df_renamed_without_b > 0]\n",
    "# There's a lot of code. Ideas come and go, we've been doing this for a week.\n",
    "df_renamed_without_b_positive_no_nans = df_renamed_without_b_positive.dropna(how='all')\n",
    "# Can we honestly trace back how to get from df to here? Probably not.\n",
    "df_renamed_without_b_positive_no_nans"
   ]
  },
  {
   "cell_type": "markdown",
   "metadata": {},
   "source": [
    "Using functions instead, you concisely encapsulate everything. \n",
    "\n",
    "(Also, you spend less time naming things, unless you want to.)"
   ]
  },
  {
   "cell_type": "code",
   "execution_count": 11,
   "metadata": {},
   "outputs": [
    {
     "data": {
      "text/html": [
       "<div>\n",
       "<style scoped>\n",
       "    .dataframe tbody tr th:only-of-type {\n",
       "        vertical-align: middle;\n",
       "    }\n",
       "\n",
       "    .dataframe tbody tr th {\n",
       "        vertical-align: top;\n",
       "    }\n",
       "\n",
       "    .dataframe thead th {\n",
       "        text-align: right;\n",
       "    }\n",
       "</style>\n",
       "<table border=\"1\" class=\"dataframe\">\n",
       "  <thead>\n",
       "    <tr style=\"text-align: right;\">\n",
       "      <th></th>\n",
       "      <th>C</th>\n",
       "      <th>D</th>\n",
       "      <th>Z</th>\n",
       "    </tr>\n",
       "  </thead>\n",
       "  <tbody>\n",
       "    <tr>\n",
       "      <th>0</th>\n",
       "      <td>1.919829</td>\n",
       "      <td>NaN</td>\n",
       "      <td>1.740645</td>\n",
       "    </tr>\n",
       "    <tr>\n",
       "      <th>1</th>\n",
       "      <td>0.340426</td>\n",
       "      <td>0.736913</td>\n",
       "      <td>1.443214</td>\n",
       "    </tr>\n",
       "    <tr>\n",
       "      <th>2</th>\n",
       "      <td>0.203898</td>\n",
       "      <td>NaN</td>\n",
       "      <td>1.158438</td>\n",
       "    </tr>\n",
       "    <tr>\n",
       "      <th>4</th>\n",
       "      <td>0.106867</td>\n",
       "      <td>NaN</td>\n",
       "      <td>NaN</td>\n",
       "    </tr>\n",
       "    <tr>\n",
       "      <th>5</th>\n",
       "      <td>NaN</td>\n",
       "      <td>NaN</td>\n",
       "      <td>1.767068</td>\n",
       "    </tr>\n",
       "  </tbody>\n",
       "</table>\n",
       "</div>"
      ],
      "text/plain": [
       "          C         D         Z\n",
       "0  1.919829       NaN  1.740645\n",
       "1  0.340426  0.736913  1.443214\n",
       "2  0.203898       NaN  1.158438\n",
       "4  0.106867       NaN       NaN\n",
       "5       NaN       NaN  1.767068"
      ]
     },
     "execution_count": 11,
     "metadata": {},
     "output_type": "execute_result"
    }
   ],
   "source": [
    "def data_transformer(df, how_to_dropna):\n",
    "    df = df.copy()\n",
    "    df = rename_column(df, 'Z', 'A')\n",
    "    df = df.drop(columns='B')\n",
    "    df = df[df > 0]\n",
    "    df = df.dropna(how=how_to_dropna)\n",
    "    return df\n",
    "\n",
    "data_transformer(df, how_to_dropna='all')"
   ]
  },
  {
   "cell_type": "markdown",
   "metadata": {},
   "source": [
    "This function is a bad one: names are not explicit, and there are no apparent blocks of logic.\n",
    "\n",
    "Functions should organize and document our codebase (*what* you are doing and how).\n",
    "\n",
    "Using functions, immutable data and avoiding side effects is a smart choice to manage complexity and keep things understandable.\n",
    "\n",
    "Alternatively, we could structure our functions more like this."
   ]
  },
  {
   "cell_type": "code",
   "execution_count": 12,
   "metadata": {},
   "outputs": [],
   "source": [
    "def preprocess_data():\n",
    "    df = df.copy()\n",
    "    # df = rename_misspelled_columns(df)\n",
    "    # df = drop_unnecessary_columns(df)\n",
    "    # df = keep_only_positive_values(df)\n",
    "    # df = removemissing_values(df)\n",
    "    return df"
   ]
  },
  {
   "cell_type": "markdown",
   "metadata": {},
   "source": [
    "## 1.2 Data transformation in Pandas\n",
    "\n",
    "Pandas provides convenient methods for most data transformation tasks, with a unified, well-known syntax and consistent interfaces.\n",
    "\n",
    "For example, we don't need to create a `rename_column()` function, since Pandas already provides a `df.rename()` method for us."
   ]
  },
  {
   "cell_type": "code",
   "execution_count": 13,
   "metadata": {},
   "outputs": [
    {
     "data": {
      "text/html": [
       "<div>\n",
       "<style scoped>\n",
       "    .dataframe tbody tr th:only-of-type {\n",
       "        vertical-align: middle;\n",
       "    }\n",
       "\n",
       "    .dataframe tbody tr th {\n",
       "        vertical-align: top;\n",
       "    }\n",
       "\n",
       "    .dataframe thead th {\n",
       "        text-align: right;\n",
       "    }\n",
       "</style>\n",
       "<table border=\"1\" class=\"dataframe\">\n",
       "  <thead>\n",
       "    <tr style=\"text-align: right;\">\n",
       "      <th></th>\n",
       "      <th>Z</th>\n",
       "      <th>B</th>\n",
       "      <th>C</th>\n",
       "      <th>D</th>\n",
       "    </tr>\n",
       "  </thead>\n",
       "  <tbody>\n",
       "    <tr>\n",
       "      <th>0</th>\n",
       "      <td>2.168212</td>\n",
       "      <td>-0.420703</td>\n",
       "      <td>-0.031369</td>\n",
       "      <td>-1.818334</td>\n",
       "    </tr>\n",
       "    <tr>\n",
       "      <th>1</th>\n",
       "      <td>0.752952</td>\n",
       "      <td>-0.287908</td>\n",
       "      <td>0.428064</td>\n",
       "      <td>0.814887</td>\n",
       "    </tr>\n",
       "    <tr>\n",
       "      <th>2</th>\n",
       "      <td>-0.531787</td>\n",
       "      <td>2.007234</td>\n",
       "      <td>0.852440</td>\n",
       "      <td>-1.411855</td>\n",
       "    </tr>\n",
       "    <tr>\n",
       "      <th>3</th>\n",
       "      <td>-0.618196</td>\n",
       "      <td>-0.745066</td>\n",
       "      <td>-0.923835</td>\n",
       "      <td>0.251442</td>\n",
       "    </tr>\n",
       "    <tr>\n",
       "      <th>4</th>\n",
       "      <td>-0.180549</td>\n",
       "      <td>-0.509346</td>\n",
       "      <td>-1.226173</td>\n",
       "      <td>0.397597</td>\n",
       "    </tr>\n",
       "    <tr>\n",
       "      <th>5</th>\n",
       "      <td>-1.489332</td>\n",
       "      <td>-0.877962</td>\n",
       "      <td>-0.626025</td>\n",
       "      <td>0.506173</td>\n",
       "    </tr>\n",
       "  </tbody>\n",
       "</table>\n",
       "</div>"
      ],
      "text/plain": [
       "          Z         B         C         D\n",
       "0  2.168212 -0.420703 -0.031369 -1.818334\n",
       "1  0.752952 -0.287908  0.428064  0.814887\n",
       "2 -0.531787  2.007234  0.852440 -1.411855\n",
       "3 -0.618196 -0.745066 -0.923835  0.251442\n",
       "4 -0.180549 -0.509346 -1.226173  0.397597\n",
       "5 -1.489332 -0.877962 -0.626025  0.506173"
      ]
     },
     "execution_count": 13,
     "metadata": {},
     "output_type": "execute_result"
    }
   ],
   "source": [
    "df = test_dataframe()\n",
    "\n",
    "df.rename({'A': 'Z'}, axis=1)"
   ]
  },
  {
   "cell_type": "markdown",
   "metadata": {},
   "source": [
    "As a recap: `df.rename()` follows our transformer signature:\n",
    "* It takes a dataframe as input \n",
    "* And returns a new one as output.\n",
    "\n",
    "This predictable input/output is what we mean by consistent interfaces! \n",
    "\n",
    "It seems very promising to build and multistep pipelines, no? What transformations can we perform this way?"
   ]
  },
  {
   "cell_type": "markdown",
   "metadata": {},
   "source": [
    "### 1.2.1 Subsetting columns or the index\n",
    "\n",
    "#### Take a subset of indexes or columns\n",
    "\n",
    "Pandas implements this functionality, somewhat counterintuitively, as `df.filter()`.\n",
    "\n",
    "Imagine that we want only the columns related to the work itself, excluding IDs."
   ]
  },
  {
   "cell_type": "code",
   "execution_count": 14,
   "metadata": {},
   "outputs": [
    {
     "data": {
      "text/html": [
       "<div>\n",
       "<style scoped>\n",
       "    .dataframe tbody tr th:only-of-type {\n",
       "        vertical-align: middle;\n",
       "    }\n",
       "\n",
       "    .dataframe tbody tr th {\n",
       "        vertical-align: top;\n",
       "    }\n",
       "\n",
       "    .dataframe thead th {\n",
       "        text-align: right;\n",
       "    }\n",
       "</style>\n",
       "<table border=\"1\" class=\"dataframe\">\n",
       "  <thead>\n",
       "    <tr style=\"text-align: right;\">\n",
       "      <th></th>\n",
       "      <th>ComposerName</th>\n",
       "      <th>WorkTitle</th>\n",
       "      <th>Movement</th>\n",
       "    </tr>\n",
       "  </thead>\n",
       "  <tbody>\n",
       "    <tr>\n",
       "      <th>0</th>\n",
       "      <td>Beethoven,  Ludwig  van</td>\n",
       "      <td>SYMPHONY NO. 5 IN C MINOR, OP.67</td>\n",
       "      <td>NaN</td>\n",
       "    </tr>\n",
       "    <tr>\n",
       "      <th>1</th>\n",
       "      <td>Beethoven,  Ludwig  van</td>\n",
       "      <td>SYMPHONY NO. 3 IN E FLAT MAJOR, OP. 55 (EROICA)</td>\n",
       "      <td>NaN</td>\n",
       "    </tr>\n",
       "    <tr>\n",
       "      <th>2</th>\n",
       "      <td>Beethoven,  Ludwig  van</td>\n",
       "      <td>EGMONT, OP.84</td>\n",
       "      <td>Overture</td>\n",
       "    </tr>\n",
       "    <tr>\n",
       "      <th>3</th>\n",
       "      <td>Beethoven,  Ludwig  van</td>\n",
       "      <td>SYMPHONY NO. 2 IN D MAJOR, OP.36</td>\n",
       "      <td>NaN</td>\n",
       "    </tr>\n",
       "    <tr>\n",
       "      <th>4</th>\n",
       "      <td>Beethoven,  Ludwig  van</td>\n",
       "      <td>SYMPHONY NO. 7 IN A MAJOR, OP.92</td>\n",
       "      <td>NaN</td>\n",
       "    </tr>\n",
       "  </tbody>\n",
       "</table>\n",
       "</div>"
      ],
      "text/plain": [
       "              ComposerName                                        WorkTitle  \\\n",
       "0  Beethoven,  Ludwig  van                 SYMPHONY NO. 5 IN C MINOR, OP.67   \n",
       "1  Beethoven,  Ludwig  van  SYMPHONY NO. 3 IN E FLAT MAJOR, OP. 55 (EROICA)   \n",
       "2  Beethoven,  Ludwig  van                                    EGMONT, OP.84   \n",
       "3  Beethoven,  Ludwig  van                 SYMPHONY NO. 2 IN D MAJOR, OP.36   \n",
       "4  Beethoven,  Ludwig  van                 SYMPHONY NO. 7 IN A MAJOR, OP.92   \n",
       "\n",
       "   Movement  \n",
       "0       NaN  \n",
       "1       NaN  \n",
       "2  Overture  \n",
       "3       NaN  \n",
       "4       NaN  "
      ]
     },
     "execution_count": 14,
     "metadata": {},
     "output_type": "execute_result"
    }
   ],
   "source": [
    "work_related_columns = ['ComposerName', 'WorkTitle', 'Movement']\n",
    "# Select columns by name.\n",
    "works.filter(items=work_related_columns).head()"
   ]
  },
  {
   "cell_type": "markdown",
   "metadata": {},
   "source": [
    "We can also use it to subset our dataframe based on the index."
   ]
  },
  {
   "cell_type": "code",
   "execution_count": 15,
   "metadata": {},
   "outputs": [
    {
     "data": {
      "text/html": [
       "<div>\n",
       "<style scoped>\n",
       "    .dataframe tbody tr th:only-of-type {\n",
       "        vertical-align: middle;\n",
       "    }\n",
       "\n",
       "    .dataframe tbody tr th {\n",
       "        vertical-align: top;\n",
       "    }\n",
       "\n",
       "    .dataframe thead th {\n",
       "        text-align: right;\n",
       "    }\n",
       "</style>\n",
       "<table border=\"1\" class=\"dataframe\">\n",
       "  <thead>\n",
       "    <tr style=\"text-align: right;\">\n",
       "      <th></th>\n",
       "      <th>ComposerName</th>\n",
       "      <th>GUID</th>\n",
       "      <th>ProgramID</th>\n",
       "      <th>WorkID</th>\n",
       "      <th>MovementID</th>\n",
       "      <th>WorkTitle</th>\n",
       "      <th>Movement</th>\n",
       "      <th>ConductorName</th>\n",
       "      <th>Interval</th>\n",
       "      <th>isInterval</th>\n",
       "    </tr>\n",
       "  </thead>\n",
       "  <tbody>\n",
       "    <tr>\n",
       "      <th>0</th>\n",
       "      <td>Glass,  Philip</td>\n",
       "      <td>cf230066-2cd2-4093-8b78-b91b8dda3cbf</td>\n",
       "      <td>11639</td>\n",
       "      <td>5729</td>\n",
       "      <td>NaN</td>\n",
       "      <td>KOYAANISQATSI</td>\n",
       "      <td>NaN</td>\n",
       "      <td>Riesman, Michael</td>\n",
       "      <td>NaN</td>\n",
       "      <td>False</td>\n",
       "    </tr>\n",
       "    <tr>\n",
       "      <th>1</th>\n",
       "      <td>Glass,  Philip</td>\n",
       "      <td>adf68bf5-db9d-4b24-aac6-c9b7c398cf06</td>\n",
       "      <td>14047</td>\n",
       "      <td>12401</td>\n",
       "      <td>NaN</td>\n",
       "      <td>\"FATHER DEATH BLUES\" FROM HYDROGEN JUKEBOX</td>\n",
       "      <td>NaN</td>\n",
       "      <td>Sainte-Agathe, Valérie</td>\n",
       "      <td>NaN</td>\n",
       "      <td>False</td>\n",
       "    </tr>\n",
       "    <tr>\n",
       "      <th>2</th>\n",
       "      <td>Glass,  Philip</td>\n",
       "      <td>990a8f66-cd5f-466e-b3b6-800baa6c0b47-0.1</td>\n",
       "      <td>14189</td>\n",
       "      <td>12547</td>\n",
       "      <td>NaN</td>\n",
       "      <td>QUARTET, STRING, NO. 3 (MISHIMA)</td>\n",
       "      <td>NaN</td>\n",
       "      <td>NaN</td>\n",
       "      <td>NaN</td>\n",
       "      <td>False</td>\n",
       "    </tr>\n",
       "    <tr>\n",
       "      <th>3</th>\n",
       "      <td>Glass,  Philip</td>\n",
       "      <td>3d50968c-2e8b-405f-969c-ba36f941f393</td>\n",
       "      <td>14189</td>\n",
       "      <td>12547</td>\n",
       "      <td>NaN</td>\n",
       "      <td>QUARTET, STRING, NO. 3 (MISHIMA)</td>\n",
       "      <td>NaN</td>\n",
       "      <td>NaN</td>\n",
       "      <td>NaN</td>\n",
       "      <td>False</td>\n",
       "    </tr>\n",
       "    <tr>\n",
       "      <th>4</th>\n",
       "      <td>Glass,  Philip</td>\n",
       "      <td>fb8e7125-7ef9-492e-a820-914467475701</td>\n",
       "      <td>14025</td>\n",
       "      <td>12327</td>\n",
       "      <td>NaN</td>\n",
       "      <td>SARABANDE IN COMMON TIME (SOLO VIOLIN)</td>\n",
       "      <td>NaN</td>\n",
       "      <td>NaN</td>\n",
       "      <td>NaN</td>\n",
       "      <td>False</td>\n",
       "    </tr>\n",
       "  </tbody>\n",
       "</table>\n",
       "</div>"
      ],
      "text/plain": [
       "     ComposerName                                      GUID  ProgramID  \\\n",
       "0  Glass,  Philip      cf230066-2cd2-4093-8b78-b91b8dda3cbf      11639   \n",
       "1  Glass,  Philip      adf68bf5-db9d-4b24-aac6-c9b7c398cf06      14047   \n",
       "2  Glass,  Philip  990a8f66-cd5f-466e-b3b6-800baa6c0b47-0.1      14189   \n",
       "3  Glass,  Philip      3d50968c-2e8b-405f-969c-ba36f941f393      14189   \n",
       "4  Glass,  Philip      fb8e7125-7ef9-492e-a820-914467475701      14025   \n",
       "\n",
       "   WorkID  MovementID                                   WorkTitle Movement  \\\n",
       "0    5729         NaN                               KOYAANISQATSI      NaN   \n",
       "1   12401         NaN  \"FATHER DEATH BLUES\" FROM HYDROGEN JUKEBOX      NaN   \n",
       "2   12547         NaN            QUARTET, STRING, NO. 3 (MISHIMA)      NaN   \n",
       "3   12547         NaN            QUARTET, STRING, NO. 3 (MISHIMA)      NaN   \n",
       "4   12327         NaN      SARABANDE IN COMMON TIME (SOLO VIOLIN)      NaN   \n",
       "\n",
       "            ConductorName Interval  isInterval  \n",
       "0        Riesman, Michael      NaN       False  \n",
       "1  Sainte-Agathe, Valérie      NaN       False  \n",
       "2                     NaN      NaN       False  \n",
       "3                     NaN      NaN       False  \n",
       "4                     NaN      NaN       False  "
      ]
     },
     "execution_count": 15,
     "metadata": {},
     "output_type": "execute_result"
    }
   ],
   "source": [
    "# Select rows containing 'Glass' on the index.\n",
    "works.set_index('ComposerName').filter(like='Glass', axis=0).reset_index().head()"
   ]
  },
  {
   "cell_type": "markdown",
   "metadata": {},
   "source": [
    "### 1.2.2 Drop columns\n",
    "\n",
    "Additionally, `GUID` and `ProgramID` are pretty redundant. We can get rid of `GUID`."
   ]
  },
  {
   "cell_type": "code",
   "execution_count": 16,
   "metadata": {},
   "outputs": [
    {
     "data": {
      "text/html": [
       "<div>\n",
       "<style scoped>\n",
       "    .dataframe tbody tr th:only-of-type {\n",
       "        vertical-align: middle;\n",
       "    }\n",
       "\n",
       "    .dataframe tbody tr th {\n",
       "        vertical-align: top;\n",
       "    }\n",
       "\n",
       "    .dataframe thead th {\n",
       "        text-align: right;\n",
       "    }\n",
       "</style>\n",
       "<table border=\"1\" class=\"dataframe\">\n",
       "  <thead>\n",
       "    <tr style=\"text-align: right;\">\n",
       "      <th></th>\n",
       "      <th>ProgramID</th>\n",
       "      <th>WorkID</th>\n",
       "      <th>MovementID</th>\n",
       "      <th>ComposerName</th>\n",
       "      <th>WorkTitle</th>\n",
       "      <th>Movement</th>\n",
       "      <th>ConductorName</th>\n",
       "      <th>Interval</th>\n",
       "      <th>isInterval</th>\n",
       "    </tr>\n",
       "  </thead>\n",
       "  <tbody>\n",
       "    <tr>\n",
       "      <th>0</th>\n",
       "      <td>3853</td>\n",
       "      <td>52446</td>\n",
       "      <td>NaN</td>\n",
       "      <td>Beethoven,  Ludwig  van</td>\n",
       "      <td>SYMPHONY NO. 5 IN C MINOR, OP.67</td>\n",
       "      <td>NaN</td>\n",
       "      <td>Hill, Ureli Corelli</td>\n",
       "      <td>NaN</td>\n",
       "      <td>False</td>\n",
       "    </tr>\n",
       "    <tr>\n",
       "      <th>1</th>\n",
       "      <td>5178</td>\n",
       "      <td>52437</td>\n",
       "      <td>NaN</td>\n",
       "      <td>Beethoven,  Ludwig  van</td>\n",
       "      <td>SYMPHONY NO. 3 IN E FLAT MAJOR, OP. 55 (EROICA)</td>\n",
       "      <td>NaN</td>\n",
       "      <td>Hill, Ureli Corelli</td>\n",
       "      <td>NaN</td>\n",
       "      <td>False</td>\n",
       "    </tr>\n",
       "    <tr>\n",
       "      <th>2</th>\n",
       "      <td>10785</td>\n",
       "      <td>52364</td>\n",
       "      <td>1.0</td>\n",
       "      <td>Beethoven,  Ludwig  van</td>\n",
       "      <td>EGMONT, OP.84</td>\n",
       "      <td>Overture</td>\n",
       "      <td>Hill, Ureli Corelli</td>\n",
       "      <td>NaN</td>\n",
       "      <td>False</td>\n",
       "    </tr>\n",
       "    <tr>\n",
       "      <th>3</th>\n",
       "      <td>5887</td>\n",
       "      <td>52434</td>\n",
       "      <td>NaN</td>\n",
       "      <td>Beethoven,  Ludwig  van</td>\n",
       "      <td>SYMPHONY NO. 2 IN D MAJOR, OP.36</td>\n",
       "      <td>NaN</td>\n",
       "      <td>Boucher, Alfred</td>\n",
       "      <td>NaN</td>\n",
       "      <td>False</td>\n",
       "    </tr>\n",
       "    <tr>\n",
       "      <th>4</th>\n",
       "      <td>305</td>\n",
       "      <td>52453</td>\n",
       "      <td>NaN</td>\n",
       "      <td>Beethoven,  Ludwig  van</td>\n",
       "      <td>SYMPHONY NO. 7 IN A MAJOR, OP.92</td>\n",
       "      <td>NaN</td>\n",
       "      <td>Hill, Ureli Corelli</td>\n",
       "      <td>NaN</td>\n",
       "      <td>False</td>\n",
       "    </tr>\n",
       "  </tbody>\n",
       "</table>\n",
       "</div>"
      ],
      "text/plain": [
       "   ProgramID  WorkID  MovementID             ComposerName  \\\n",
       "0       3853   52446         NaN  Beethoven,  Ludwig  van   \n",
       "1       5178   52437         NaN  Beethoven,  Ludwig  van   \n",
       "2      10785   52364         1.0  Beethoven,  Ludwig  van   \n",
       "3       5887   52434         NaN  Beethoven,  Ludwig  van   \n",
       "4        305   52453         NaN  Beethoven,  Ludwig  van   \n",
       "\n",
       "                                         WorkTitle  Movement  \\\n",
       "0                 SYMPHONY NO. 5 IN C MINOR, OP.67       NaN   \n",
       "1  SYMPHONY NO. 3 IN E FLAT MAJOR, OP. 55 (EROICA)       NaN   \n",
       "2                                    EGMONT, OP.84  Overture   \n",
       "3                 SYMPHONY NO. 2 IN D MAJOR, OP.36       NaN   \n",
       "4                 SYMPHONY NO. 7 IN A MAJOR, OP.92       NaN   \n",
       "\n",
       "         ConductorName Interval  isInterval  \n",
       "0  Hill, Ureli Corelli      NaN       False  \n",
       "1  Hill, Ureli Corelli      NaN       False  \n",
       "2  Hill, Ureli Corelli      NaN       False  \n",
       "3      Boucher, Alfred      NaN       False  \n",
       "4  Hill, Ureli Corelli      NaN       False  "
      ]
     },
     "execution_count": 16,
     "metadata": {},
     "output_type": "execute_result"
    }
   ],
   "source": [
    "works.drop(columns='GUID').head()"
   ]
  },
  {
   "cell_type": "markdown",
   "metadata": {},
   "source": [
    "### 1.2.3 Group By\n",
    "\n",
    "This is a very extensive topic, and we'll just touch it's surface here, so that you know that exists and can explore it further later by your own.\n",
    "\n",
    "In case you've worked with SQL before, you'll find this very familiar :)\n",
    "\n",
    "So, in Pandas there is a process of three chained steps called split-apply-combine:\n",
    "\n",
    "- split: splitting the DataFrame into groups (this is the groupby), we need to specify the column or the columns that will be used to form the groups.\n",
    "- apply: apply a function to each group (aggregation, transformation and filtration)\n",
    "- combine: create a DataFrame with the results\n",
    "\n",
    "With this out of the way, it's time to focus on three types of functions you may want to apply:\n",
    "* Aggregation (e.g., sum, count, mean)\n",
    "* Transformation (e.g., filling missing values)\n",
    "* Filtration (e.g., discard data from underrepresented groups).\n",
    "\n",
    "We will drill-down into each one of them. For this next part, we will use be using the `concerts` data.\n",
    "\n"
   ]
  },
  {
   "cell_type": "markdown",
   "metadata": {},
   "source": [
    "**Aggregation** (e.g., sum, count, mean)\n",
    "\n",
    "We want to start by uncovering the most popular programs, by the number of performances.\n",
    "\n",
    "So the first step is to group our data by `ProgramID`. This returns a DataFrameGroupBy object that by itself doesn't tell us much.\n",
    "\n",
    "However, we can use the group property of the DataFrameGroupBy object to inspect the groups.\n"
   ]
  },
  {
   "cell_type": "code",
   "execution_count": 17,
   "metadata": {},
   "outputs": [
    {
     "data": {
      "text/plain": [
       "<pandas.core.groupby.generic.DataFrameGroupBy object at 0x12b58c0d0>"
      ]
     },
     "execution_count": 17,
     "metadata": {},
     "output_type": "execute_result"
    }
   ],
   "source": [
    "concerts_grouped_by_ProgramID = concerts.groupby('ProgramID')\n",
    "concerts_grouped_by_ProgramID"
   ]
  },
  {
   "cell_type": "code",
   "execution_count": 18,
   "metadata": {},
   "outputs": [
    {
     "data": {
      "text/plain": [
       "{1: [474, 14097], 2: [1578], 3: [1579], 4: [1580, 14382], 5: [10075], 6: [1581], 7: [10076, 16815, 19224, 20893], 8: [10066], 9: [9471], 10: [7565], 11: [1582], 12: [10077, 16816, 19225, 20894], 13: [10058], 14: [9473], 15: [7566], 16: [154], 17: [3797, 14812], 18: [1583], 19: [10065], 20: [10078, 16817, 19226], 21: [9475], 22: [7567, 15738], 24: [1584], 25: [10063], 26: [10433], 27: [7568], 28: [1585, 14383], 29: [3799, 14813], 30: [10434], 31: [8604, 16117, 18674], 32: [7570, 15739], 33: [3800, 14814], 34: [4466], 35: [1589], 36: [10244], 37: [10435, 16978, 19355, 20978], 38: [8605], 39: [7571, 15740], 40: [4467, 14985, 18285], 41: [3801, 14815], 42: [334], 43: [1164], 44: [10436, 16979, 19356, 20979], 45: [8606, 16118], 46: [7572, 15741], 47: [19], 48: [4470, 14986, 18286], 49: [3803, 14816], 50: [1165, 14308], 51: [9549], 52: [10437, 16980, 19357], 53: [7573], 54: [1168], 55: [4472, 14987], 56: [3805, 14817], 57: [5101, 15174], 58: [9331, 16496, 18968, 20712], 59: [10439, 16981, 19358], 60: [7574], 61: [1169], 62: [4474], 63: [5103], 64: [9332], 65: [9218], 66: [7035, 15632], 67: [5104, 15175], 68: [4592, 15040, 18299], 69: [4475, 14988, 18287], 70: [312], 71: [1170, 14309, 18202], 72: [9333, 16497, 18969], 73: [9219], 74: [7036], 75: [5106], 76: [107], 78: [9334], 79: [9220], 80: [7037], 81: [5107, 15176], 82: [1179], 83: [9335, 16498, 18970], 84: [7038, 15633], 85: [1180, 14311], 86: [5109], 87: [9337, 16499, 18971, 20713], 88: [7039], 89: [5111, 15177], 90: [1876], 91: [7561], 92: [7040], 93: [7028], 94: [6722], 95: [5112], 96: [3031], 97: [1877], 98: [7042, 15634], 99: [6723], 100: [5113, 15178], 101: [1880], 102: [7044], ...}"
      ]
     },
     "execution_count": 18,
     "metadata": {},
     "output_type": "execute_result"
    }
   ],
   "source": [
    "concerts_grouped_by_ProgramID.groups"
   ]
  },
  {
   "cell_type": "markdown",
   "metadata": {},
   "source": [
    "Now, if we want to know the number of performances per program we can simply call `DataFrameGroupBy.size()`"
   ]
  },
  {
   "cell_type": "code",
   "execution_count": 19,
   "metadata": {
    "scrolled": true
   },
   "outputs": [
    {
     "data": {
      "text/plain": [
       "ProgramID\n",
       "1        2\n",
       "2        1\n",
       "3        1\n",
       "4        2\n",
       "5        1\n",
       "        ..\n",
       "14191    2\n",
       "14192    1\n",
       "14193    1\n",
       "14194    1\n",
       "14195    1\n",
       "Length: 13932, dtype: int64"
      ]
     },
     "execution_count": 19,
     "metadata": {},
     "output_type": "execute_result"
    }
   ],
   "source": [
    "concerts_grouped_by_ProgramID.size()"
   ]
  },
  {
   "cell_type": "markdown",
   "metadata": {},
   "source": [
    "The same result but using all the operations together"
   ]
  },
  {
   "cell_type": "code",
   "execution_count": 20,
   "metadata": {},
   "outputs": [
    {
     "data": {
      "text/plain": [
       "ProgramID\n",
       "1        2\n",
       "2        1\n",
       "3        1\n",
       "4        2\n",
       "5        1\n",
       "        ..\n",
       "14191    2\n",
       "14192    1\n",
       "14193    1\n",
       "14194    1\n",
       "14195    1\n",
       "Length: 13932, dtype: int64"
      ]
     },
     "execution_count": 20,
     "metadata": {},
     "output_type": "execute_result"
    }
   ],
   "source": [
    "concerts.groupby('ProgramID').size()"
   ]
  },
  {
   "cell_type": "markdown",
   "metadata": {},
   "source": [
    "With the operation above we obtain a Dataframe with the number of performances per `ProgramID`. If we want to know the most popular ones we need to use the `pd.DataFrame.nlargest()`"
   ]
  },
  {
   "cell_type": "code",
   "execution_count": 21,
   "metadata": {},
   "outputs": [
    {
     "data": {
      "text/plain": [
       "ProgramID\n",
       "3128     16\n",
       "3139     16\n",
       "10700    16\n",
       "10702    16\n",
       "3134     12\n",
       "dtype: int64"
      ]
     },
     "execution_count": 21,
     "metadata": {},
     "output_type": "execute_result"
    }
   ],
   "source": [
    "concerts.groupby('ProgramID').size().nlargest()"
   ]
  },
  {
   "cell_type": "markdown",
   "metadata": {},
   "source": [
    "We use `GroupBy.size()` to count the number of elements in each group. A list of available methods:\n",
    "* `mean()`\n",
    "* `sum()`\n",
    "* `size()`\n",
    "* `count()`\n",
    "* `std()`\n",
    "* `var()`\n",
    "* `sem()`\n",
    "* `describe()`\n",
    "* `first()`\n",
    "* `last()`\n",
    "* `nth()`\n",
    "* `min()`\n",
    "* `max()`.\n",
    "\n",
    "Alternatively, we can use `GroupBy.agg()` as a more general method. Check out the [docs](http://pandas.pydata.org/pandas-docs/version/0.22/generated/pandas.core.groupby.DataFrameGroupBy.agg.html).\n",
    "\n",
    "You could even define your own aggregation function using the lambda nomenclature, we will see an example of it in the transformation topic."
   ]
  },
  {
   "cell_type": "markdown",
   "metadata": {},
   "source": [
    "Let's now imagine that we want to know when it was the first performance of each program.\n",
    "We start by `group-by` the shows by `ProgramID` and then, for each group we take the `min` of the Date column. "
   ]
  },
  {
   "cell_type": "code",
   "execution_count": 22,
   "metadata": {},
   "outputs": [
    {
     "data": {
      "text/plain": [
       "ProgramID\n",
       "1        1897-02-05T05:00:00+00:00\n",
       "2        1916-12-03T05:00:00+00:00\n",
       "3        1916-12-06T05:00:00+00:00\n",
       "4        1916-12-07T05:00:00+00:00\n",
       "5        1983-09-14T04:00:00+00:00\n",
       "                   ...            \n",
       "14191    2016-12-11T05:00:00+00:00\n",
       "14192    2017-01-15T05:00:00+00:00\n",
       "14193    2017-02-03T05:00:00+00:00\n",
       "14194    2017-03-13T04:00:00+00:00\n",
       "14195    2017-04-18T04:00:00+00:00\n",
       "Name: Date, Length: 13932, dtype: object"
      ]
     },
     "execution_count": 22,
     "metadata": {},
     "output_type": "execute_result"
    }
   ],
   "source": [
    "concerts.groupby('ProgramID').Date.min()"
   ]
  },
  {
   "cell_type": "markdown",
   "metadata": {},
   "source": [
    "And if we want to know when it was the last performance?"
   ]
  },
  {
   "cell_type": "code",
   "execution_count": 23,
   "metadata": {},
   "outputs": [
    {
     "data": {
      "text/plain": [
       "ProgramID\n",
       "1        1897-02-06T05:00:00+00:00\n",
       "2        1916-12-03T05:00:00+00:00\n",
       "3        1916-12-06T05:00:00+00:00\n",
       "4        1916-12-08T05:00:00+00:00\n",
       "5        1983-09-14T04:00:00+00:00\n",
       "                   ...            \n",
       "14191    2016-12-11T05:00:00+00:00\n",
       "14192    2017-01-15T05:00:00+00:00\n",
       "14193    2017-02-03T05:00:00+00:00\n",
       "14194    2017-03-13T04:00:00+00:00\n",
       "14195    2017-04-18T04:00:00+00:00\n",
       "Name: Date, Length: 13932, dtype: object"
      ]
     },
     "execution_count": 23,
     "metadata": {},
     "output_type": "execute_result"
    }
   ],
   "source": [
    "concerts.groupby('ProgramID').Date.max()"
   ]
  },
  {
   "cell_type": "markdown",
   "metadata": {},
   "source": [
    "**Transformation**\n",
    "\n",
    "The inherent difference between aggregation and transformation is that the later returns an object the same size as the original input.\n",
    "\n",
    "We don't have an excellent example in our dataset, so let's use the [Iris](https://archive.ics.uci.edu/ml/datasets/iris) dataset to exemplify a possible use case."
   ]
  },
  {
   "cell_type": "code",
   "execution_count": 24,
   "metadata": {},
   "outputs": [
    {
     "data": {
      "text/html": [
       "<div>\n",
       "<style scoped>\n",
       "    .dataframe tbody tr th:only-of-type {\n",
       "        vertical-align: middle;\n",
       "    }\n",
       "\n",
       "    .dataframe tbody tr th {\n",
       "        vertical-align: top;\n",
       "    }\n",
       "\n",
       "    .dataframe thead th {\n",
       "        text-align: right;\n",
       "    }\n",
       "</style>\n",
       "<table border=\"1\" class=\"dataframe\">\n",
       "  <thead>\n",
       "    <tr style=\"text-align: right;\">\n",
       "      <th></th>\n",
       "      <th>sepal length (cm)</th>\n",
       "      <th>sepal width (cm)</th>\n",
       "      <th>petal length (cm)</th>\n",
       "      <th>petal width (cm)</th>\n",
       "      <th>Target</th>\n",
       "    </tr>\n",
       "  </thead>\n",
       "  <tbody>\n",
       "    <tr>\n",
       "      <th>0</th>\n",
       "      <td>5.1</td>\n",
       "      <td>3.5</td>\n",
       "      <td>1.4</td>\n",
       "      <td>0.2</td>\n",
       "      <td>0</td>\n",
       "    </tr>\n",
       "    <tr>\n",
       "      <th>1</th>\n",
       "      <td>4.9</td>\n",
       "      <td>3.0</td>\n",
       "      <td>1.4</td>\n",
       "      <td>0.2</td>\n",
       "      <td>0</td>\n",
       "    </tr>\n",
       "    <tr>\n",
       "      <th>2</th>\n",
       "      <td>4.7</td>\n",
       "      <td>3.2</td>\n",
       "      <td>1.3</td>\n",
       "      <td>0.2</td>\n",
       "      <td>0</td>\n",
       "    </tr>\n",
       "    <tr>\n",
       "      <th>3</th>\n",
       "      <td>4.6</td>\n",
       "      <td>3.1</td>\n",
       "      <td>1.5</td>\n",
       "      <td>0.2</td>\n",
       "      <td>0</td>\n",
       "    </tr>\n",
       "    <tr>\n",
       "      <th>4</th>\n",
       "      <td>5.0</td>\n",
       "      <td>3.6</td>\n",
       "      <td>1.4</td>\n",
       "      <td>0.2</td>\n",
       "      <td>0</td>\n",
       "    </tr>\n",
       "  </tbody>\n",
       "</table>\n",
       "</div>"
      ],
      "text/plain": [
       "   sepal length (cm)  sepal width (cm)  petal length (cm)  petal width (cm)  \\\n",
       "0                5.1               3.5                1.4               0.2   \n",
       "1                4.9               3.0                1.4               0.2   \n",
       "2                4.7               3.2                1.3               0.2   \n",
       "3                4.6               3.1                1.5               0.2   \n",
       "4                5.0               3.6                1.4               0.2   \n",
       "\n",
       "   Target  \n",
       "0       0  \n",
       "1       0  \n",
       "2       0  \n",
       "3       0  \n",
       "4       0  "
      ]
     },
     "execution_count": 24,
     "metadata": {},
     "output_type": "execute_result"
    }
   ],
   "source": [
    "iris = load_iris()\n",
    "df = pd.DataFrame(data=iris.data, columns=iris.feature_names)\n",
    "df = df.assign(Target=iris.target)\n",
    "df.head()"
   ]
  },
  {
   "cell_type": "markdown",
   "metadata": {},
   "source": [
    "Now, imagine that we want to standardize the data, but using the statistics for each group:\n",
    "* We take the mean and the standard deviation *inside each group*\n",
    "* We want to standardize each value according to that.\n",
    "\n",
    "We implement it as a lambda function, that will be applied to each group separately."
   ]
  },
  {
   "cell_type": "code",
   "execution_count": 25,
   "metadata": {},
   "outputs": [
    {
     "data": {
      "text/html": [
       "<div>\n",
       "<style scoped>\n",
       "    .dataframe tbody tr th:only-of-type {\n",
       "        vertical-align: middle;\n",
       "    }\n",
       "\n",
       "    .dataframe tbody tr th {\n",
       "        vertical-align: top;\n",
       "    }\n",
       "\n",
       "    .dataframe thead th {\n",
       "        text-align: right;\n",
       "    }\n",
       "</style>\n",
       "<table border=\"1\" class=\"dataframe\">\n",
       "  <thead>\n",
       "    <tr style=\"text-align: right;\">\n",
       "      <th></th>\n",
       "      <th>sepal length (cm)</th>\n",
       "      <th>sepal width (cm)</th>\n",
       "      <th>petal length (cm)</th>\n",
       "      <th>petal width (cm)</th>\n",
       "    </tr>\n",
       "  </thead>\n",
       "  <tbody>\n",
       "    <tr>\n",
       "      <th>0</th>\n",
       "      <td>0.266674</td>\n",
       "      <td>0.189941</td>\n",
       "      <td>-0.357011</td>\n",
       "      <td>-0.436492</td>\n",
       "    </tr>\n",
       "    <tr>\n",
       "      <th>1</th>\n",
       "      <td>-0.300718</td>\n",
       "      <td>-1.129096</td>\n",
       "      <td>-0.357011</td>\n",
       "      <td>-0.436492</td>\n",
       "    </tr>\n",
       "    <tr>\n",
       "      <th>2</th>\n",
       "      <td>-0.868111</td>\n",
       "      <td>-0.601481</td>\n",
       "      <td>-0.932836</td>\n",
       "      <td>-0.436492</td>\n",
       "    </tr>\n",
       "    <tr>\n",
       "      <th>3</th>\n",
       "      <td>-1.151807</td>\n",
       "      <td>-0.865288</td>\n",
       "      <td>0.218813</td>\n",
       "      <td>-0.436492</td>\n",
       "    </tr>\n",
       "    <tr>\n",
       "      <th>4</th>\n",
       "      <td>-0.017022</td>\n",
       "      <td>0.453749</td>\n",
       "      <td>-0.357011</td>\n",
       "      <td>-0.436492</td>\n",
       "    </tr>\n",
       "  </tbody>\n",
       "</table>\n",
       "</div>"
      ],
      "text/plain": [
       "   sepal length (cm)  sepal width (cm)  petal length (cm)  petal width (cm)\n",
       "0           0.266674          0.189941          -0.357011         -0.436492\n",
       "1          -0.300718         -1.129096          -0.357011         -0.436492\n",
       "2          -0.868111         -0.601481          -0.932836         -0.436492\n",
       "3          -1.151807         -0.865288           0.218813         -0.436492\n",
       "4          -0.017022          0.453749          -0.357011         -0.436492"
      ]
     },
     "execution_count": 25,
     "metadata": {},
     "output_type": "execute_result"
    }
   ],
   "source": [
    "zscore = lambda x: (x - x.mean()) / x.std()\n",
    "\n",
    "df.groupby('Target').transform(zscore).head()"
   ]
  },
  {
   "cell_type": "markdown",
   "metadata": {},
   "source": [
    "The downside is that, since we are returning the entire dataframe, it can't return `Target` as the index, so we lose the column.\n",
    "\n",
    "Let's make sure we got this right."
   ]
  },
  {
   "cell_type": "code",
   "execution_count": 26,
   "metadata": {},
   "outputs": [
    {
     "data": {
      "text/html": [
       "<div>\n",
       "<style scoped>\n",
       "    .dataframe tbody tr th:only-of-type {\n",
       "        vertical-align: middle;\n",
       "    }\n",
       "\n",
       "    .dataframe tbody tr th {\n",
       "        vertical-align: top;\n",
       "    }\n",
       "\n",
       "    .dataframe thead tr th {\n",
       "        text-align: left;\n",
       "    }\n",
       "\n",
       "    .dataframe thead tr:last-of-type th {\n",
       "        text-align: right;\n",
       "    }\n",
       "</style>\n",
       "<table border=\"1\" class=\"dataframe\">\n",
       "  <thead>\n",
       "    <tr>\n",
       "      <th></th>\n",
       "      <th colspan=\"2\" halign=\"left\">sepal length (cm)</th>\n",
       "      <th colspan=\"2\" halign=\"left\">sepal width (cm)</th>\n",
       "      <th colspan=\"2\" halign=\"left\">petal length (cm)</th>\n",
       "      <th colspan=\"2\" halign=\"left\">petal width (cm)</th>\n",
       "    </tr>\n",
       "    <tr>\n",
       "      <th></th>\n",
       "      <th>mean</th>\n",
       "      <th>std</th>\n",
       "      <th>mean</th>\n",
       "      <th>std</th>\n",
       "      <th>mean</th>\n",
       "      <th>std</th>\n",
       "      <th>mean</th>\n",
       "      <th>std</th>\n",
       "    </tr>\n",
       "    <tr>\n",
       "      <th>Target</th>\n",
       "      <th></th>\n",
       "      <th></th>\n",
       "      <th></th>\n",
       "      <th></th>\n",
       "      <th></th>\n",
       "      <th></th>\n",
       "      <th></th>\n",
       "      <th></th>\n",
       "    </tr>\n",
       "  </thead>\n",
       "  <tbody>\n",
       "    <tr>\n",
       "      <th>0</th>\n",
       "      <td>-6.739748e-16</td>\n",
       "      <td>1.0</td>\n",
       "      <td>1.487699e-16</td>\n",
       "      <td>1.0</td>\n",
       "      <td>-1.177947e-15</td>\n",
       "      <td>1.0</td>\n",
       "      <td>3.996803e-16</td>\n",
       "      <td>1.0</td>\n",
       "    </tr>\n",
       "    <tr>\n",
       "      <th>1</th>\n",
       "      <td>4.996004e-17</td>\n",
       "      <td>1.0</td>\n",
       "      <td>-1.486589e-15</td>\n",
       "      <td>1.0</td>\n",
       "      <td>4.352074e-16</td>\n",
       "      <td>1.0</td>\n",
       "      <td>8.165690e-16</td>\n",
       "      <td>1.0</td>\n",
       "    </tr>\n",
       "    <tr>\n",
       "      <th>2</th>\n",
       "      <td>2.757794e-15</td>\n",
       "      <td>1.0</td>\n",
       "      <td>-6.800116e-16</td>\n",
       "      <td>1.0</td>\n",
       "      <td>-1.010303e-15</td>\n",
       "      <td>1.0</td>\n",
       "      <td>-9.459100e-16</td>\n",
       "      <td>1.0</td>\n",
       "    </tr>\n",
       "  </tbody>\n",
       "</table>\n",
       "</div>"
      ],
      "text/plain": [
       "       sepal length (cm)      sepal width (cm)      petal length (cm)       \\\n",
       "                    mean  std             mean  std              mean  std   \n",
       "Target                                                                       \n",
       "0          -6.739748e-16  1.0     1.487699e-16  1.0     -1.177947e-15  1.0   \n",
       "1           4.996004e-17  1.0    -1.486589e-15  1.0      4.352074e-16  1.0   \n",
       "2           2.757794e-15  1.0    -6.800116e-16  1.0     -1.010303e-15  1.0   \n",
       "\n",
       "       petal width (cm)       \n",
       "                   mean  std  \n",
       "Target                        \n",
       "0          3.996803e-16  1.0  \n",
       "1          8.165690e-16  1.0  \n",
       "2         -9.459100e-16  1.0  "
      ]
     },
     "execution_count": 26,
     "metadata": {},
     "output_type": "execute_result"
    }
   ],
   "source": [
    "df_transformed = df.groupby('Target').transform(zscore)\n",
    "\n",
    "df_transformed.groupby(df['Target']).agg(['mean', 'std'])"
   ]
  },
  {
   "cell_type": "markdown",
   "metadata": {},
   "source": [
    "We did it! Zero mean and standard deviation equal to one *inside each group*.\n",
    "\n",
    "Now, if this use case doesn't ring a bell, think about replacing missing values with the group mean, for example. Useful, right?"
   ]
  },
  {
   "cell_type": "markdown",
   "metadata": {},
   "source": [
    "**Filtration**\n",
    "\n",
    "The method `DataFrameGroupBy.filter()` provides a convenient way to filter out elements that belong to underrepresented groups."
   ]
  },
  {
   "cell_type": "code",
   "execution_count": 27,
   "metadata": {},
   "outputs": [
    {
     "data": {
      "text/html": [
       "<div>\n",
       "<style scoped>\n",
       "    .dataframe tbody tr th:only-of-type {\n",
       "        vertical-align: middle;\n",
       "    }\n",
       "\n",
       "    .dataframe tbody tr th {\n",
       "        vertical-align: top;\n",
       "    }\n",
       "\n",
       "    .dataframe thead th {\n",
       "        text-align: right;\n",
       "    }\n",
       "</style>\n",
       "<table border=\"1\" class=\"dataframe\">\n",
       "  <thead>\n",
       "    <tr style=\"text-align: right;\">\n",
       "      <th></th>\n",
       "      <th>GUID</th>\n",
       "      <th>ProgramID</th>\n",
       "      <th>ConcertID</th>\n",
       "      <th>EventType</th>\n",
       "      <th>Location</th>\n",
       "      <th>Venue</th>\n",
       "      <th>Date</th>\n",
       "      <th>Time</th>\n",
       "    </tr>\n",
       "  </thead>\n",
       "  <tbody>\n",
       "    <tr>\n",
       "      <th>6608</th>\n",
       "      <td>8ad0bfa4-09b9-4b18-889b-d0c426410cbb</td>\n",
       "      <td>3128</td>\n",
       "      <td>0</td>\n",
       "      <td>Special</td>\n",
       "      <td>Manhattan, NY</td>\n",
       "      <td>Roxy Theatre</td>\n",
       "      <td>1950-09-01T04:00:00+00:00</td>\n",
       "      <td>12:00PM</td>\n",
       "    </tr>\n",
       "    <tr>\n",
       "      <th>6610</th>\n",
       "      <td>1e1114aa-7152-4305-a357-7aac149b8599</td>\n",
       "      <td>3139</td>\n",
       "      <td>0</td>\n",
       "      <td>Special</td>\n",
       "      <td>Manhattan, NY</td>\n",
       "      <td>Roxy Theatre</td>\n",
       "      <td>1950-09-08T04:00:00+00:00</td>\n",
       "      <td>NaN</td>\n",
       "    </tr>\n",
       "    <tr>\n",
       "      <th>6689</th>\n",
       "      <td>b37d1833-3252-41a6-9f3e-fbd596b215b0</td>\n",
       "      <td>10700</td>\n",
       "      <td>0</td>\n",
       "      <td>Special</td>\n",
       "      <td>Manhattan, NY</td>\n",
       "      <td>Roxy Theatre</td>\n",
       "      <td>1951-05-09T04:00:00+00:00</td>\n",
       "      <td>12:40PM</td>\n",
       "    </tr>\n",
       "    <tr>\n",
       "      <th>6691</th>\n",
       "      <td>35fda061-f4c4-423c-a8ab-feb792caee34</td>\n",
       "      <td>10702</td>\n",
       "      <td>0</td>\n",
       "      <td>Special</td>\n",
       "      <td>Manhattan, NY</td>\n",
       "      <td>Roxy Theatre</td>\n",
       "      <td>1951-05-16T04:00:00+00:00</td>\n",
       "      <td>NaN</td>\n",
       "    </tr>\n",
       "    <tr>\n",
       "      <th>15517</th>\n",
       "      <td>8ad0bfa4-09b9-4b18-889b-d0c426410cbb</td>\n",
       "      <td>3128</td>\n",
       "      <td>1</td>\n",
       "      <td>Special</td>\n",
       "      <td>Manhattan, NY</td>\n",
       "      <td>Roxy Theatre</td>\n",
       "      <td>1950-09-01T04:00:00+00:00</td>\n",
       "      <td>NaN</td>\n",
       "    </tr>\n",
       "  </tbody>\n",
       "</table>\n",
       "</div>"
      ],
      "text/plain": [
       "                                       GUID  ProgramID  ConcertID EventType  \\\n",
       "6608   8ad0bfa4-09b9-4b18-889b-d0c426410cbb       3128          0   Special   \n",
       "6610   1e1114aa-7152-4305-a357-7aac149b8599       3139          0   Special   \n",
       "6689   b37d1833-3252-41a6-9f3e-fbd596b215b0      10700          0   Special   \n",
       "6691   35fda061-f4c4-423c-a8ab-feb792caee34      10702          0   Special   \n",
       "15517  8ad0bfa4-09b9-4b18-889b-d0c426410cbb       3128          1   Special   \n",
       "\n",
       "            Location         Venue                       Date     Time  \n",
       "6608   Manhattan, NY  Roxy Theatre  1950-09-01T04:00:00+00:00  12:00PM  \n",
       "6610   Manhattan, NY  Roxy Theatre  1950-09-08T04:00:00+00:00      NaN  \n",
       "6689   Manhattan, NY  Roxy Theatre  1951-05-09T04:00:00+00:00  12:40PM  \n",
       "6691   Manhattan, NY  Roxy Theatre  1951-05-16T04:00:00+00:00      NaN  \n",
       "15517  Manhattan, NY  Roxy Theatre  1950-09-01T04:00:00+00:00      NaN  "
      ]
     },
     "execution_count": 27,
     "metadata": {},
     "output_type": "execute_result"
    }
   ],
   "source": [
    "concerts.groupby('ProgramID').filter(lambda x: x.shape[0] > 15).head()"
   ]
  },
  {
   "cell_type": "markdown",
   "metadata": {},
   "source": [
    "It returns a subset of the original dataframe, depending on a function applied to the group as a whole."
   ]
  },
  {
   "cell_type": "markdown",
   "metadata": {},
   "source": [
    "### 1.2.4 Method chaining\n",
    "\n",
    "Now we know about some of the most common individual transformations we can use. But how can we combine them?\n",
    "\n",
    "Data transformation is a pipeline, i.e., some sequential transformations, *chained* together.\n",
    "\n",
    "This chaining means that each transformation returns an object that will be consumed by the next one, and so on, in a pre-defined order.\n",
    "\n",
    "As we've seen, a familiar syntax is to declare intermediate variables for each output, used as input to the next function."
   ]
  },
  {
   "cell_type": "markdown",
   "metadata": {},
   "source": [
    "As an example, let us define a simple function that make the subset of a dataframe based on a mask"
   ]
  },
  {
   "cell_type": "code",
   "execution_count": 28,
   "metadata": {},
   "outputs": [],
   "source": [
    "def subset(df, mask):\n",
    "    return df[mask]"
   ]
  },
  {
   "cell_type": "code",
   "execution_count": 29,
   "metadata": {},
   "outputs": [
    {
     "data": {
      "text/plain": [
       "ComposerName\n",
       "Traditional,                  640\n",
       "Bach,  Johann  Sebastian      306\n",
       "Mozart,  Wolfgang  Amadeus    242\n",
       "Schubert,  Franz              158\n",
       "Beethoven,  Ludwig  van       144\n",
       "dtype: int64"
      ]
     },
     "execution_count": 29,
     "metadata": {},
     "output_type": "execute_result"
    }
   ],
   "source": [
    "mask = works['Interval'].isnull()\n",
    "df_no_intervals = subset(works,mask)\n",
    "\n",
    "df_exclude_minor_composers = df_no_intervals.groupby('ComposerName').filter(lambda x: x.shape[0] > 10)\n",
    "\n",
    "df_work_related = df_exclude_minor_composers.filter(items=work_related_columns)\n",
    "df_work_related_no_movement = df_work_related.drop(columns='Movement')\n",
    "df_work_related_no_movement_unique = df_work_related_no_movement.drop_duplicates()\n",
    "\n",
    "works_per_composer = df_work_related_no_movement_unique.groupby('ComposerName').size()\n",
    "works_per_composer_sorted = works_per_composer.nlargest()\n",
    "works_per_composer_sorted"
   ]
  },
  {
   "cell_type": "markdown",
   "metadata": {},
   "source": [
    "These declarations are syntactic sugar: they make it easier to read and express confusing things such as data pipelines. Some downsides:\n",
    "* We need to create an extra variable per intermediate step\n",
    "* Cognitive burden of naming each variable and keeping them in mind\n",
    "* They make the code less fluid\n",
    "* They make it harder to visualize the whole picture of what your program (or Notebook) is doing\n",
    "* They are error-prone and heavily reliant on the state, which is dangerous as we've seen.\n",
    "\n",
    "What if there was an alternative?\n",
    "\n",
    "Method chaining allows invoking multiple method calls chained together in a single statement, each receiving and returning an object.\n",
    "\n",
    "This syntax has always been possible with Pandas, but more and more methods and being added that (try to guess it!):\n",
    "* Receive a dataframe\n",
    "* Return a transformed dataframe."
   ]
  },
  {
   "cell_type": "code",
   "execution_count": 30,
   "metadata": {},
   "outputs": [
    {
     "data": {
      "image/png": "[encoded data removed]",
      "text/plain": [
       "<Figure size 432x288 with 1 Axes>"
      ]
     },
     "metadata": {
      "needs_background": "light"
     },
     "output_type": "display_data"
    }
   ],
   "source": [
    "no_intervals = works['Interval'].isnull()\n",
    "df_no_intervals = subset(works,mask)\n",
    "\n",
    "df_work_related = df_no_intervals.filter(items=work_related_columns)\n",
    "\n",
    "(df_work_related.groupby('ComposerName').filter(lambda x: x.shape[0] > 10)\n",
    "                .drop(columns='Movement')\n",
    "                .drop_duplicates()\n",
    "                .groupby('ComposerName').size()\n",
    "                .nlargest()\n",
    "                .plot(kind='bar'));"
   ]
  },
  {
   "cell_type": "markdown",
   "metadata": {},
   "source": [
    "Code flows from top to bottom, and the function parameters are always near the function. \n",
    "\n",
    "Also, you eliminate an extra variable for each intermediate steps.\n",
    "\n",
    "Now, explicitly naming things is good. Ideally, you want to chain functions that make sense together and encapsulate them in logically."
   ]
  },
  {
   "cell_type": "code",
   "execution_count": 31,
   "metadata": {},
   "outputs": [
    {
     "data": {
      "text/plain": [
       "ComposerName\n",
       "Traditional,                  640\n",
       "Bach,  Johann  Sebastian      306\n",
       "Mozart,  Wolfgang  Amadeus    242\n",
       "Schubert,  Franz              158\n",
       "Beethoven,  Ludwig  van       144\n",
       "dtype: int64"
      ]
     },
     "execution_count": 31,
     "metadata": {},
     "output_type": "execute_result"
    }
   ],
   "source": [
    "def get_top_5_composers(df):\n",
    "    df = df.copy()\n",
    "    \n",
    "    no_intervals = df['Interval'].isnull()\n",
    "    df = subset(df, no_intervals)\n",
    "    \n",
    "    work_related_columns = ['ComposerName', 'WorkTitle', 'Movement']\n",
    "    \n",
    "    df = (df.filter(work_related_columns)\n",
    "            .groupby('ComposerName').filter(lambda x: x.shape[0] > 10)\n",
    "            .drop(columns='Movement')\n",
    "            .drop_duplicates()\n",
    "            .groupby('ComposerName').size()\n",
    "            .nlargest())\n",
    "    return df\n",
    "\n",
    "top_5_composers = get_top_5_composers(works)\n",
    "top_5_composers"
   ]
  },
  {
   "cell_type": "markdown",
   "metadata": {},
   "source": [
    "Another drawback to excessively long chains is that debugging is harder, as there are no intermediate values to inspect.\n",
    "\n",
    "**Segregate your code to avoid long chains and keep only together what belongs together.**\n",
    "\n",
    "(In case of doubt, read [The Zen of Python](https://www.python.org/dev/peps/pep-0020/) out loud ten times.)\n",
    "\n",
    "### 1.2.5 Custom methods and pipes\n",
    "\n",
    "Now, for the final trick.\n",
    "\n",
    "The function `subset()` has the exact signature we want, again:\n",
    "* It receives a dataframe\n",
    "* It return a transformed dataframe.\n",
    "\n",
    "What if Pandas had a way to include such functions in pipelines? Meet `df.pipe()`!\n",
    "\n",
    "The method `df.pipe()` allows us to include user-defined functions in method chains (aka pipelines).\n",
    "\n",
    "It works like this."
   ]
  },
  {
   "cell_type": "code",
   "execution_count": 32,
   "metadata": {},
   "outputs": [
    {
     "name": "stderr",
     "output_type": "stream",
     "text": [
      "<ipython-input-28-4fd6598355d7>:2: UserWarning: Boolean Series key will be reindexed to match DataFrame index.\n",
      "  return df[mask]\n"
     ]
    },
    {
     "data": {
      "image/png": "[encoded data removed]",
      "text/plain": [
       "<Figure size 432x288 with 1 Axes>"
      ]
     },
     "metadata": {
      "needs_background": "light"
     },
     "output_type": "display_data"
    }
   ],
   "source": [
    "(df_work_related.pipe(subset, no_intervals)\n",
    "                .filter(items=work_related_columns)\n",
    "                .groupby('ComposerName').filter(lambda x: x.shape[0] > 10)\n",
    "                .drop(columns='Movement')\n",
    "                .drop_duplicates()\n",
    "                .groupby('ComposerName').size()\n",
    "                .nlargest()\n",
    "                .plot(kind='bar'));"
   ]
  },
  {
   "cell_type": "markdown",
   "metadata": {},
   "source": [
    "So, this should work."
   ]
  },
  {
   "cell_type": "code",
   "execution_count": 33,
   "metadata": {},
   "outputs": [
    {
     "data": {
      "text/plain": [
       "ComposerName\n",
       "Traditional,                  640\n",
       "Bach,  Johann  Sebastian      306\n",
       "Mozart,  Wolfgang  Amadeus    242\n",
       "Schubert,  Franz              158\n",
       "Beethoven,  Ludwig  van       144\n",
       "dtype: int64"
      ]
     },
     "execution_count": 33,
     "metadata": {},
     "output_type": "execute_result"
    }
   ],
   "source": [
    "def get_top_5_composers(df):\n",
    "    no_intervals = df['Interval'].isnull()\n",
    "    work_related_columns = ['ComposerName', 'WorkTitle', 'Movement']\n",
    "    \n",
    "    df = df.copy()\n",
    "    df = (df.pipe(subset, no_intervals)\n",
    "            .filter(items=work_related_columns)\n",
    "            .groupby('ComposerName').filter(lambda x: x.shape[0] > 10)\n",
    "            .drop(columns='Movement')\n",
    "            .drop_duplicates()\n",
    "            .groupby('ComposerName').size()\n",
    "            .nlargest())\n",
    "    \n",
    "    return df\n",
    "\n",
    "top_5_composers = get_top_5_composers(works)\n",
    "top_5_composers"
   ]
  },
  {
   "cell_type": "markdown",
   "metadata": {},
   "source": [
    "And it does!\n",
    "\n",
    "Now, we have all the tools we need to build robust data transformation pipelines in Pandas.\n",
    "\n",
    "In the next Notebook, you will learn how to combine dataframes."
   ]
  }
 ],
 "metadata": {
  "kernelspec": {
   "display_name": "Python 3",
   "language": "python",
   "name": "python3"
  },
  "language_info": {
   "codemirror_mode": {
    "name": "ipython",
    "version": 3
   },
   "file_extension": ".py",
   "mimetype": "text/x-python",
   "name": "python",
   "nbconvert_exporter": "python",
   "pygments_lexer": "ipython3",
   "version": "3.9.1"
  }
 },
 "nbformat": 4,
 "nbformat_minor": 2
}
