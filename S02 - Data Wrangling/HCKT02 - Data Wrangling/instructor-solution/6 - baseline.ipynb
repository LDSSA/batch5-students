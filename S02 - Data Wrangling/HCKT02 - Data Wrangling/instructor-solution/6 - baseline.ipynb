{
 "cells": [
  {
   "cell_type": "code",
   "execution_count": 1,
   "id": "b1ab4d01",
   "metadata": {},
   "outputs": [],
   "source": [
    "import pandas as pd\n",
    "import numpy as np\n",
    "from sklearn.ensemble import RandomForestClassifier\n",
    "from sklearn.datasets import make_classification\n",
    "from sklearn.model_selection import train_test_split\n",
    "from sklearn.metrics import accuracy_score, precision_score, recall_score, f1_score\n",
    "from sklearn.feature_selection import mutual_info_classif\n",
    "import matplotlib.pyplot as plt\n",
    "import seaborn as sns\n",
    "from xgboost import XGBClassifier\n",
    "from sklearn.model_selection import GridSearchCV\n",
    "\n",
    "plt.rcParams['figure.figsize'] = [10, 10]"
   ]
  },
  {
   "cell_type": "markdown",
   "id": "8a031391",
   "metadata": {},
   "source": [
    "# Hackathon #2 - Data Wrangling (Instructor solution)"
   ]
  },
  {
   "cell_type": "markdown",
   "id": "ad93e90f",
   "metadata": {},
   "source": [
    "Table of Contents\n",
    "- [Load Wrangled Train Dataframe](#Load-Wrangled-Train-Dataframe)\n",
    "- [EDA](#EDA)\n",
    "- [Feature Selection](#Feature-Selection)\n",
    "- [Random Forest Classifier](#Random-Forest-Classifier)\n",
    "- [Classify Test Data](#Classify-Test-Data)"
   ]
  },
  {
   "cell_type": "markdown",
   "id": "d27b1536",
   "metadata": {},
   "source": [
    "## Load Wrangled Train Dataframe"
   ]
  },
  {
   "cell_type": "code",
   "execution_count": 2,
   "id": "a89f0c1d",
   "metadata": {},
   "outputs": [
    {
     "data": {
      "text/html": [
       "<div>\n",
       "<style scoped>\n",
       "    .dataframe tbody tr th:only-of-type {\n",
       "        vertical-align: middle;\n",
       "    }\n",
       "\n",
       "    .dataframe tbody tr th {\n",
       "        vertical-align: top;\n",
       "    }\n",
       "\n",
       "    .dataframe thead th {\n",
       "        text-align: right;\n",
       "    }\n",
       "</style>\n",
       "<table border=\"1\" class=\"dataframe\">\n",
       "  <thead>\n",
       "    <tr style=\"text-align: right;\">\n",
       "      <th></th>\n",
       "      <th>submitinfotoemail</th>\n",
       "      <th>iframeorframe</th>\n",
       "      <th>missingtitle</th>\n",
       "      <th>imagesonlyinform</th>\n",
       "      <th>subdomainlevelrt</th>\n",
       "      <th>urllengthrt</th>\n",
       "      <th>pctextresourceurlsrt</th>\n",
       "      <th>abnormalextformactionr</th>\n",
       "      <th>extmetascriptlinkrt</th>\n",
       "      <th>pctextnullselfredirecthyperlinksrt</th>\n",
       "      <th>...</th>\n",
       "      <th>numquerycomponents</th>\n",
       "      <th>insecureforms</th>\n",
       "      <th>urllength</th>\n",
       "      <th>pctnullselfredirecthyperlinks</th>\n",
       "      <th>numdots</th>\n",
       "      <th>frequentdomainnamemismatch</th>\n",
       "      <th>numsensitivewords</th>\n",
       "      <th>pathlength</th>\n",
       "      <th>extformaction</th>\n",
       "      <th>pctexthyperlinks</th>\n",
       "    </tr>\n",
       "    <tr>\n",
       "      <th>id</th>\n",
       "      <th></th>\n",
       "      <th></th>\n",
       "      <th></th>\n",
       "      <th></th>\n",
       "      <th></th>\n",
       "      <th></th>\n",
       "      <th></th>\n",
       "      <th></th>\n",
       "      <th></th>\n",
       "      <th></th>\n",
       "      <th></th>\n",
       "      <th></th>\n",
       "      <th></th>\n",
       "      <th></th>\n",
       "      <th></th>\n",
       "      <th></th>\n",
       "      <th></th>\n",
       "      <th></th>\n",
       "      <th></th>\n",
       "      <th></th>\n",
       "      <th></th>\n",
       "    </tr>\n",
       "  </thead>\n",
       "  <tbody>\n",
       "    <tr>\n",
       "      <th>1</th>\n",
       "      <td>0.0</td>\n",
       "      <td>0.0</td>\n",
       "      <td>0.0</td>\n",
       "      <td>1.0</td>\n",
       "      <td>1.0</td>\n",
       "      <td>0.0</td>\n",
       "      <td>0.0</td>\n",
       "      <td>1.0</td>\n",
       "      <td>0.0</td>\n",
       "      <td>0.0</td>\n",
       "      <td>...</td>\n",
       "      <td>0.0</td>\n",
       "      <td>1.0</td>\n",
       "      <td>72.0</td>\n",
       "      <td>0.0</td>\n",
       "      <td>3.0</td>\n",
       "      <td>0.0</td>\n",
       "      <td>0.0</td>\n",
       "      <td>44.0</td>\n",
       "      <td>0.0</td>\n",
       "      <td>0.0</td>\n",
       "    </tr>\n",
       "    <tr>\n",
       "      <th>2</th>\n",
       "      <td>0.0</td>\n",
       "      <td>0.0</td>\n",
       "      <td>0.0</td>\n",
       "      <td>0.0</td>\n",
       "      <td>1.0</td>\n",
       "      <td>-1.0</td>\n",
       "      <td>0.0</td>\n",
       "      <td>1.0</td>\n",
       "      <td>0.0</td>\n",
       "      <td>0.0</td>\n",
       "      <td>...</td>\n",
       "      <td>0.0</td>\n",
       "      <td>1.0</td>\n",
       "      <td>72.0</td>\n",
       "      <td>0.0</td>\n",
       "      <td>3.0</td>\n",
       "      <td>0.0</td>\n",
       "      <td>0.0</td>\n",
       "      <td>44.0</td>\n",
       "      <td>0.0</td>\n",
       "      <td>0.0</td>\n",
       "    </tr>\n",
       "    <tr>\n",
       "      <th>3</th>\n",
       "      <td>0.0</td>\n",
       "      <td>0.0</td>\n",
       "      <td>0.0</td>\n",
       "      <td>0.0</td>\n",
       "      <td>1.0</td>\n",
       "      <td>0.0</td>\n",
       "      <td>0.0</td>\n",
       "      <td>1.0</td>\n",
       "      <td>0.0</td>\n",
       "      <td>0.0</td>\n",
       "      <td>...</td>\n",
       "      <td>2.0</td>\n",
       "      <td>1.0</td>\n",
       "      <td>144.0</td>\n",
       "      <td>0.0</td>\n",
       "      <td>3.0</td>\n",
       "      <td>0.0</td>\n",
       "      <td>1.0</td>\n",
       "      <td>16.0</td>\n",
       "      <td>0.0</td>\n",
       "      <td>0.0</td>\n",
       "    </tr>\n",
       "    <tr>\n",
       "      <th>4</th>\n",
       "      <td>1.0</td>\n",
       "      <td>0.0</td>\n",
       "      <td>0.0</td>\n",
       "      <td>0.0</td>\n",
       "      <td>1.0</td>\n",
       "      <td>-1.0</td>\n",
       "      <td>0.0</td>\n",
       "      <td>1.0</td>\n",
       "      <td>0.0</td>\n",
       "      <td>0.0</td>\n",
       "      <td>...</td>\n",
       "      <td>0.0</td>\n",
       "      <td>1.0</td>\n",
       "      <td>58.0</td>\n",
       "      <td>0.0</td>\n",
       "      <td>3.0</td>\n",
       "      <td>0.0</td>\n",
       "      <td>0.0</td>\n",
       "      <td>24.0</td>\n",
       "      <td>0.0</td>\n",
       "      <td>0.0</td>\n",
       "    </tr>\n",
       "    <tr>\n",
       "      <th>5</th>\n",
       "      <td>0.0</td>\n",
       "      <td>1.0</td>\n",
       "      <td>0.0</td>\n",
       "      <td>0.0</td>\n",
       "      <td>1.0</td>\n",
       "      <td>1.0</td>\n",
       "      <td>0.0</td>\n",
       "      <td>0.0</td>\n",
       "      <td>0.0</td>\n",
       "      <td>0.0</td>\n",
       "      <td>...</td>\n",
       "      <td>0.0</td>\n",
       "      <td>1.0</td>\n",
       "      <td>79.0</td>\n",
       "      <td>0.0</td>\n",
       "      <td>3.0</td>\n",
       "      <td>0.0</td>\n",
       "      <td>0.0</td>\n",
       "      <td>50.0</td>\n",
       "      <td>0.0</td>\n",
       "      <td>0.0</td>\n",
       "    </tr>\n",
       "    <tr>\n",
       "      <th>...</th>\n",
       "      <td>...</td>\n",
       "      <td>...</td>\n",
       "      <td>...</td>\n",
       "      <td>...</td>\n",
       "      <td>...</td>\n",
       "      <td>...</td>\n",
       "      <td>...</td>\n",
       "      <td>...</td>\n",
       "      <td>...</td>\n",
       "      <td>...</td>\n",
       "      <td>...</td>\n",
       "      <td>...</td>\n",
       "      <td>...</td>\n",
       "      <td>...</td>\n",
       "      <td>...</td>\n",
       "      <td>...</td>\n",
       "      <td>...</td>\n",
       "      <td>...</td>\n",
       "      <td>...</td>\n",
       "      <td>...</td>\n",
       "      <td>...</td>\n",
       "    </tr>\n",
       "    <tr>\n",
       "      <th>9996</th>\n",
       "      <td>0.0</td>\n",
       "      <td>1.0</td>\n",
       "      <td>0.0</td>\n",
       "      <td>0.0</td>\n",
       "      <td>1.0</td>\n",
       "      <td>1.0</td>\n",
       "      <td>0.0</td>\n",
       "      <td>1.0</td>\n",
       "      <td>0.0</td>\n",
       "      <td>0.0</td>\n",
       "      <td>...</td>\n",
       "      <td>2.0</td>\n",
       "      <td>1.0</td>\n",
       "      <td>50.0</td>\n",
       "      <td>0.0</td>\n",
       "      <td>3.0</td>\n",
       "      <td>0.0</td>\n",
       "      <td>0.0</td>\n",
       "      <td>10.0</td>\n",
       "      <td>0.0</td>\n",
       "      <td>0.0</td>\n",
       "    </tr>\n",
       "    <tr>\n",
       "      <th>9997</th>\n",
       "      <td>0.0</td>\n",
       "      <td>1.0</td>\n",
       "      <td>0.0</td>\n",
       "      <td>0.0</td>\n",
       "      <td>1.0</td>\n",
       "      <td>0.0</td>\n",
       "      <td>0.0</td>\n",
       "      <td>1.0</td>\n",
       "      <td>0.0</td>\n",
       "      <td>0.0</td>\n",
       "      <td>...</td>\n",
       "      <td>2.0</td>\n",
       "      <td>1.0</td>\n",
       "      <td>50.0</td>\n",
       "      <td>0.0</td>\n",
       "      <td>3.0</td>\n",
       "      <td>0.0</td>\n",
       "      <td>0.0</td>\n",
       "      <td>10.0</td>\n",
       "      <td>0.0</td>\n",
       "      <td>0.0</td>\n",
       "    </tr>\n",
       "    <tr>\n",
       "      <th>9998</th>\n",
       "      <td>0.0</td>\n",
       "      <td>1.0</td>\n",
       "      <td>0.0</td>\n",
       "      <td>0.0</td>\n",
       "      <td>1.0</td>\n",
       "      <td>0.0</td>\n",
       "      <td>0.0</td>\n",
       "      <td>1.0</td>\n",
       "      <td>0.0</td>\n",
       "      <td>0.0</td>\n",
       "      <td>...</td>\n",
       "      <td>0.0</td>\n",
       "      <td>1.0</td>\n",
       "      <td>57.0</td>\n",
       "      <td>0.0</td>\n",
       "      <td>2.0</td>\n",
       "      <td>0.0</td>\n",
       "      <td>0.0</td>\n",
       "      <td>34.0</td>\n",
       "      <td>0.0</td>\n",
       "      <td>0.0</td>\n",
       "    </tr>\n",
       "    <tr>\n",
       "      <th>9999</th>\n",
       "      <td>0.0</td>\n",
       "      <td>0.0</td>\n",
       "      <td>0.0</td>\n",
       "      <td>0.0</td>\n",
       "      <td>1.0</td>\n",
       "      <td>0.0</td>\n",
       "      <td>0.0</td>\n",
       "      <td>1.0</td>\n",
       "      <td>0.0</td>\n",
       "      <td>0.0</td>\n",
       "      <td>...</td>\n",
       "      <td>1.0</td>\n",
       "      <td>1.0</td>\n",
       "      <td>49.0</td>\n",
       "      <td>0.0</td>\n",
       "      <td>3.0</td>\n",
       "      <td>0.0</td>\n",
       "      <td>0.0</td>\n",
       "      <td>13.0</td>\n",
       "      <td>0.0</td>\n",
       "      <td>0.0</td>\n",
       "    </tr>\n",
       "    <tr>\n",
       "      <th>10000</th>\n",
       "      <td>0.0</td>\n",
       "      <td>0.0</td>\n",
       "      <td>0.0</td>\n",
       "      <td>0.0</td>\n",
       "      <td>1.0</td>\n",
       "      <td>1.0</td>\n",
       "      <td>0.0</td>\n",
       "      <td>1.0</td>\n",
       "      <td>0.0</td>\n",
       "      <td>0.0</td>\n",
       "      <td>...</td>\n",
       "      <td>1.0</td>\n",
       "      <td>1.0</td>\n",
       "      <td>49.0</td>\n",
       "      <td>0.0</td>\n",
       "      <td>3.0</td>\n",
       "      <td>0.0</td>\n",
       "      <td>0.0</td>\n",
       "      <td>13.0</td>\n",
       "      <td>0.0</td>\n",
       "      <td>0.0</td>\n",
       "    </tr>\n",
       "  </tbody>\n",
       "</table>\n",
       "<p>8000 rows × 48 columns</p>\n",
       "</div>"
      ],
      "text/plain": [
       "       submitinfotoemail  iframeorframe  missingtitle  imagesonlyinform  \\\n",
       "id                                                                        \n",
       "1                    0.0            0.0           0.0               1.0   \n",
       "2                    0.0            0.0           0.0               0.0   \n",
       "3                    0.0            0.0           0.0               0.0   \n",
       "4                    1.0            0.0           0.0               0.0   \n",
       "5                    0.0            1.0           0.0               0.0   \n",
       "...                  ...            ...           ...               ...   \n",
       "9996                 0.0            1.0           0.0               0.0   \n",
       "9997                 0.0            1.0           0.0               0.0   \n",
       "9998                 0.0            1.0           0.0               0.0   \n",
       "9999                 0.0            0.0           0.0               0.0   \n",
       "10000                0.0            0.0           0.0               0.0   \n",
       "\n",
       "       subdomainlevelrt  urllengthrt  pctextresourceurlsrt  \\\n",
       "id                                                           \n",
       "1                   1.0          0.0                   0.0   \n",
       "2                   1.0         -1.0                   0.0   \n",
       "3                   1.0          0.0                   0.0   \n",
       "4                   1.0         -1.0                   0.0   \n",
       "5                   1.0          1.0                   0.0   \n",
       "...                 ...          ...                   ...   \n",
       "9996                1.0          1.0                   0.0   \n",
       "9997                1.0          0.0                   0.0   \n",
       "9998                1.0          0.0                   0.0   \n",
       "9999                1.0          0.0                   0.0   \n",
       "10000               1.0          1.0                   0.0   \n",
       "\n",
       "       abnormalextformactionr  extmetascriptlinkrt  \\\n",
       "id                                                   \n",
       "1                         1.0                  0.0   \n",
       "2                         1.0                  0.0   \n",
       "3                         1.0                  0.0   \n",
       "4                         1.0                  0.0   \n",
       "5                         0.0                  0.0   \n",
       "...                       ...                  ...   \n",
       "9996                      1.0                  0.0   \n",
       "9997                      1.0                  0.0   \n",
       "9998                      1.0                  0.0   \n",
       "9999                      1.0                  0.0   \n",
       "10000                     1.0                  0.0   \n",
       "\n",
       "       pctextnullselfredirecthyperlinksrt  ...  numquerycomponents  \\\n",
       "id                                         ...                       \n",
       "1                                     0.0  ...                 0.0   \n",
       "2                                     0.0  ...                 0.0   \n",
       "3                                     0.0  ...                 2.0   \n",
       "4                                     0.0  ...                 0.0   \n",
       "5                                     0.0  ...                 0.0   \n",
       "...                                   ...  ...                 ...   \n",
       "9996                                  0.0  ...                 2.0   \n",
       "9997                                  0.0  ...                 2.0   \n",
       "9998                                  0.0  ...                 0.0   \n",
       "9999                                  0.0  ...                 1.0   \n",
       "10000                                 0.0  ...                 1.0   \n",
       "\n",
       "       insecureforms  urllength  pctnullselfredirecthyperlinks  numdots  \\\n",
       "id                                                                        \n",
       "1                1.0       72.0                            0.0      3.0   \n",
       "2                1.0       72.0                            0.0      3.0   \n",
       "3                1.0      144.0                            0.0      3.0   \n",
       "4                1.0       58.0                            0.0      3.0   \n",
       "5                1.0       79.0                            0.0      3.0   \n",
       "...              ...        ...                            ...      ...   \n",
       "9996             1.0       50.0                            0.0      3.0   \n",
       "9997             1.0       50.0                            0.0      3.0   \n",
       "9998             1.0       57.0                            0.0      2.0   \n",
       "9999             1.0       49.0                            0.0      3.0   \n",
       "10000            1.0       49.0                            0.0      3.0   \n",
       "\n",
       "       frequentdomainnamemismatch  numsensitivewords  pathlength  \\\n",
       "id                                                                 \n",
       "1                             0.0                0.0        44.0   \n",
       "2                             0.0                0.0        44.0   \n",
       "3                             0.0                1.0        16.0   \n",
       "4                             0.0                0.0        24.0   \n",
       "5                             0.0                0.0        50.0   \n",
       "...                           ...                ...         ...   \n",
       "9996                          0.0                0.0        10.0   \n",
       "9997                          0.0                0.0        10.0   \n",
       "9998                          0.0                0.0        34.0   \n",
       "9999                          0.0                0.0        13.0   \n",
       "10000                         0.0                0.0        13.0   \n",
       "\n",
       "       extformaction  pctexthyperlinks  \n",
       "id                                      \n",
       "1                0.0               0.0  \n",
       "2                0.0               0.0  \n",
       "3                0.0               0.0  \n",
       "4                0.0               0.0  \n",
       "5                0.0               0.0  \n",
       "...              ...               ...  \n",
       "9996             0.0               0.0  \n",
       "9997             0.0               0.0  \n",
       "9998             0.0               0.0  \n",
       "9999             0.0               0.0  \n",
       "10000            0.0               0.0  \n",
       "\n",
       "[8000 rows x 48 columns]"
      ]
     },
     "metadata": {},
     "output_type": "display_data"
    }
   ],
   "source": [
    "df = pd.read_csv(\"merge_data.csv\").set_index('id')\n",
    "display(df)"
   ]
  },
  {
   "cell_type": "markdown",
   "id": "9a9e28a7",
   "metadata": {},
   "source": [
    "## EDA"
   ]
  },
  {
   "cell_type": "code",
   "execution_count": 3,
   "id": "4181d765",
   "metadata": {},
   "outputs": [
    {
     "data": {
      "text/html": [
       "<div>\n",
       "<style scoped>\n",
       "    .dataframe tbody tr th:only-of-type {\n",
       "        vertical-align: middle;\n",
       "    }\n",
       "\n",
       "    .dataframe tbody tr th {\n",
       "        vertical-align: top;\n",
       "    }\n",
       "\n",
       "    .dataframe thead th {\n",
       "        text-align: right;\n",
       "    }\n",
       "</style>\n",
       "<table border=\"1\" class=\"dataframe\">\n",
       "  <thead>\n",
       "    <tr style=\"text-align: right;\">\n",
       "      <th></th>\n",
       "      <th>submitinfotoemail</th>\n",
       "      <th>iframeorframe</th>\n",
       "      <th>missingtitle</th>\n",
       "      <th>imagesonlyinform</th>\n",
       "      <th>subdomainlevelrt</th>\n",
       "      <th>urllengthrt</th>\n",
       "      <th>pctextresourceurlsrt</th>\n",
       "      <th>abnormalextformactionr</th>\n",
       "      <th>extmetascriptlinkrt</th>\n",
       "      <th>pctextnullselfredirecthyperlinksrt</th>\n",
       "      <th>...</th>\n",
       "      <th>numquerycomponents</th>\n",
       "      <th>insecureforms</th>\n",
       "      <th>urllength</th>\n",
       "      <th>pctnullselfredirecthyperlinks</th>\n",
       "      <th>numdots</th>\n",
       "      <th>frequentdomainnamemismatch</th>\n",
       "      <th>numsensitivewords</th>\n",
       "      <th>pathlength</th>\n",
       "      <th>extformaction</th>\n",
       "      <th>pctexthyperlinks</th>\n",
       "    </tr>\n",
       "  </thead>\n",
       "  <tbody>\n",
       "    <tr>\n",
       "      <th>count</th>\n",
       "      <td>8000.000000</td>\n",
       "      <td>8000.000000</td>\n",
       "      <td>8000.00000</td>\n",
       "      <td>8000.000000</td>\n",
       "      <td>8000.000000</td>\n",
       "      <td>8000.000000</td>\n",
       "      <td>8000.0</td>\n",
       "      <td>8000.000000</td>\n",
       "      <td>8000.0</td>\n",
       "      <td>8000.0</td>\n",
       "      <td>...</td>\n",
       "      <td>8000.000000</td>\n",
       "      <td>8000.000000</td>\n",
       "      <td>8000.000000</td>\n",
       "      <td>8000.0</td>\n",
       "      <td>8000.000000</td>\n",
       "      <td>8000.0</td>\n",
       "      <td>8000.000000</td>\n",
       "      <td>8000.000000</td>\n",
       "      <td>8000.000000</td>\n",
       "      <td>8000.0</td>\n",
       "    </tr>\n",
       "    <tr>\n",
       "      <th>mean</th>\n",
       "      <td>0.125750</td>\n",
       "      <td>0.339000</td>\n",
       "      <td>0.03400</td>\n",
       "      <td>0.029875</td>\n",
       "      <td>0.960500</td>\n",
       "      <td>0.019750</td>\n",
       "      <td>0.0</td>\n",
       "      <td>0.790250</td>\n",
       "      <td>0.0</td>\n",
       "      <td>0.0</td>\n",
       "      <td>...</td>\n",
       "      <td>0.457125</td>\n",
       "      <td>0.847125</td>\n",
       "      <td>70.277500</td>\n",
       "      <td>0.0</td>\n",
       "      <td>2.447250</td>\n",
       "      <td>0.0</td>\n",
       "      <td>0.111125</td>\n",
       "      <td>35.594375</td>\n",
       "      <td>0.101125</td>\n",
       "      <td>0.0</td>\n",
       "    </tr>\n",
       "    <tr>\n",
       "      <th>std</th>\n",
       "      <td>0.331588</td>\n",
       "      <td>0.473399</td>\n",
       "      <td>0.18124</td>\n",
       "      <td>0.170253</td>\n",
       "      <td>0.236531</td>\n",
       "      <td>0.815134</td>\n",
       "      <td>0.0</td>\n",
       "      <td>0.523726</td>\n",
       "      <td>0.0</td>\n",
       "      <td>0.0</td>\n",
       "      <td>...</td>\n",
       "      <td>1.350144</td>\n",
       "      <td>0.359889</td>\n",
       "      <td>33.543839</td>\n",
       "      <td>0.0</td>\n",
       "      <td>1.323135</td>\n",
       "      <td>0.0</td>\n",
       "      <td>0.369179</td>\n",
       "      <td>24.767550</td>\n",
       "      <td>0.301513</td>\n",
       "      <td>0.0</td>\n",
       "    </tr>\n",
       "    <tr>\n",
       "      <th>min</th>\n",
       "      <td>0.000000</td>\n",
       "      <td>0.000000</td>\n",
       "      <td>0.00000</td>\n",
       "      <td>0.000000</td>\n",
       "      <td>-1.000000</td>\n",
       "      <td>-1.000000</td>\n",
       "      <td>0.0</td>\n",
       "      <td>-1.000000</td>\n",
       "      <td>0.0</td>\n",
       "      <td>0.0</td>\n",
       "      <td>...</td>\n",
       "      <td>0.000000</td>\n",
       "      <td>0.000000</td>\n",
       "      <td>14.000000</td>\n",
       "      <td>0.0</td>\n",
       "      <td>1.000000</td>\n",
       "      <td>0.0</td>\n",
       "      <td>0.000000</td>\n",
       "      <td>0.000000</td>\n",
       "      <td>0.000000</td>\n",
       "      <td>0.0</td>\n",
       "    </tr>\n",
       "    <tr>\n",
       "      <th>25%</th>\n",
       "      <td>0.000000</td>\n",
       "      <td>0.000000</td>\n",
       "      <td>0.00000</td>\n",
       "      <td>0.000000</td>\n",
       "      <td>1.000000</td>\n",
       "      <td>-1.000000</td>\n",
       "      <td>0.0</td>\n",
       "      <td>1.000000</td>\n",
       "      <td>0.0</td>\n",
       "      <td>0.0</td>\n",
       "      <td>...</td>\n",
       "      <td>0.000000</td>\n",
       "      <td>1.000000</td>\n",
       "      <td>48.000000</td>\n",
       "      <td>0.0</td>\n",
       "      <td>2.000000</td>\n",
       "      <td>0.0</td>\n",
       "      <td>0.000000</td>\n",
       "      <td>18.000000</td>\n",
       "      <td>0.000000</td>\n",
       "      <td>0.0</td>\n",
       "    </tr>\n",
       "    <tr>\n",
       "      <th>50%</th>\n",
       "      <td>0.000000</td>\n",
       "      <td>0.000000</td>\n",
       "      <td>0.00000</td>\n",
       "      <td>0.000000</td>\n",
       "      <td>1.000000</td>\n",
       "      <td>0.000000</td>\n",
       "      <td>0.0</td>\n",
       "      <td>1.000000</td>\n",
       "      <td>0.0</td>\n",
       "      <td>0.0</td>\n",
       "      <td>...</td>\n",
       "      <td>0.000000</td>\n",
       "      <td>1.000000</td>\n",
       "      <td>62.000000</td>\n",
       "      <td>0.0</td>\n",
       "      <td>2.000000</td>\n",
       "      <td>0.0</td>\n",
       "      <td>0.000000</td>\n",
       "      <td>30.000000</td>\n",
       "      <td>0.000000</td>\n",
       "      <td>0.0</td>\n",
       "    </tr>\n",
       "    <tr>\n",
       "      <th>75%</th>\n",
       "      <td>0.000000</td>\n",
       "      <td>1.000000</td>\n",
       "      <td>0.00000</td>\n",
       "      <td>0.000000</td>\n",
       "      <td>1.000000</td>\n",
       "      <td>1.000000</td>\n",
       "      <td>0.0</td>\n",
       "      <td>1.000000</td>\n",
       "      <td>0.0</td>\n",
       "      <td>0.0</td>\n",
       "      <td>...</td>\n",
       "      <td>0.000000</td>\n",
       "      <td>1.000000</td>\n",
       "      <td>84.000000</td>\n",
       "      <td>0.0</td>\n",
       "      <td>3.000000</td>\n",
       "      <td>0.0</td>\n",
       "      <td>0.000000</td>\n",
       "      <td>48.000000</td>\n",
       "      <td>0.000000</td>\n",
       "      <td>0.0</td>\n",
       "    </tr>\n",
       "    <tr>\n",
       "      <th>max</th>\n",
       "      <td>1.000000</td>\n",
       "      <td>1.000000</td>\n",
       "      <td>1.00000</td>\n",
       "      <td>1.000000</td>\n",
       "      <td>1.000000</td>\n",
       "      <td>1.000000</td>\n",
       "      <td>0.0</td>\n",
       "      <td>1.000000</td>\n",
       "      <td>0.0</td>\n",
       "      <td>0.0</td>\n",
       "      <td>...</td>\n",
       "      <td>23.000000</td>\n",
       "      <td>1.000000</td>\n",
       "      <td>253.000000</td>\n",
       "      <td>0.0</td>\n",
       "      <td>16.000000</td>\n",
       "      <td>0.0</td>\n",
       "      <td>3.000000</td>\n",
       "      <td>161.000000</td>\n",
       "      <td>1.000000</td>\n",
       "      <td>0.0</td>\n",
       "    </tr>\n",
       "  </tbody>\n",
       "</table>\n",
       "<p>8 rows × 48 columns</p>\n",
       "</div>"
      ],
      "text/plain": [
       "       submitinfotoemail  iframeorframe  missingtitle  imagesonlyinform  \\\n",
       "count        8000.000000    8000.000000    8000.00000       8000.000000   \n",
       "mean            0.125750       0.339000       0.03400          0.029875   \n",
       "std             0.331588       0.473399       0.18124          0.170253   \n",
       "min             0.000000       0.000000       0.00000          0.000000   \n",
       "25%             0.000000       0.000000       0.00000          0.000000   \n",
       "50%             0.000000       0.000000       0.00000          0.000000   \n",
       "75%             0.000000       1.000000       0.00000          0.000000   \n",
       "max             1.000000       1.000000       1.00000          1.000000   \n",
       "\n",
       "       subdomainlevelrt  urllengthrt  pctextresourceurlsrt  \\\n",
       "count       8000.000000  8000.000000                8000.0   \n",
       "mean           0.960500     0.019750                   0.0   \n",
       "std            0.236531     0.815134                   0.0   \n",
       "min           -1.000000    -1.000000                   0.0   \n",
       "25%            1.000000    -1.000000                   0.0   \n",
       "50%            1.000000     0.000000                   0.0   \n",
       "75%            1.000000     1.000000                   0.0   \n",
       "max            1.000000     1.000000                   0.0   \n",
       "\n",
       "       abnormalextformactionr  extmetascriptlinkrt  \\\n",
       "count             8000.000000               8000.0   \n",
       "mean                 0.790250                  0.0   \n",
       "std                  0.523726                  0.0   \n",
       "min                 -1.000000                  0.0   \n",
       "25%                  1.000000                  0.0   \n",
       "50%                  1.000000                  0.0   \n",
       "75%                  1.000000                  0.0   \n",
       "max                  1.000000                  0.0   \n",
       "\n",
       "       pctextnullselfredirecthyperlinksrt  ...  numquerycomponents  \\\n",
       "count                              8000.0  ...         8000.000000   \n",
       "mean                                  0.0  ...            0.457125   \n",
       "std                                   0.0  ...            1.350144   \n",
       "min                                   0.0  ...            0.000000   \n",
       "25%                                   0.0  ...            0.000000   \n",
       "50%                                   0.0  ...            0.000000   \n",
       "75%                                   0.0  ...            0.000000   \n",
       "max                                   0.0  ...           23.000000   \n",
       "\n",
       "       insecureforms    urllength  pctnullselfredirecthyperlinks      numdots  \\\n",
       "count    8000.000000  8000.000000                         8000.0  8000.000000   \n",
       "mean        0.847125    70.277500                            0.0     2.447250   \n",
       "std         0.359889    33.543839                            0.0     1.323135   \n",
       "min         0.000000    14.000000                            0.0     1.000000   \n",
       "25%         1.000000    48.000000                            0.0     2.000000   \n",
       "50%         1.000000    62.000000                            0.0     2.000000   \n",
       "75%         1.000000    84.000000                            0.0     3.000000   \n",
       "max         1.000000   253.000000                            0.0    16.000000   \n",
       "\n",
       "       frequentdomainnamemismatch  numsensitivewords   pathlength  \\\n",
       "count                      8000.0        8000.000000  8000.000000   \n",
       "mean                          0.0           0.111125    35.594375   \n",
       "std                           0.0           0.369179    24.767550   \n",
       "min                           0.0           0.000000     0.000000   \n",
       "25%                           0.0           0.000000    18.000000   \n",
       "50%                           0.0           0.000000    30.000000   \n",
       "75%                           0.0           0.000000    48.000000   \n",
       "max                           0.0           3.000000   161.000000   \n",
       "\n",
       "       extformaction  pctexthyperlinks  \n",
       "count    8000.000000            8000.0  \n",
       "mean        0.101125               0.0  \n",
       "std         0.301513               0.0  \n",
       "min         0.000000               0.0  \n",
       "25%         0.000000               0.0  \n",
       "50%         0.000000               0.0  \n",
       "75%         0.000000               0.0  \n",
       "max         1.000000               0.0  \n",
       "\n",
       "[8 rows x 48 columns]"
      ]
     },
     "execution_count": 3,
     "metadata": {},
     "output_type": "execute_result"
    }
   ],
   "source": [
    "df.describe()"
   ]
  },
  {
   "cell_type": "code",
   "execution_count": 4,
   "id": "63ee4425",
   "metadata": {},
   "outputs": [
    {
     "data": {
      "text/plain": [
       "submitinfotoemail                     float64\n",
       "iframeorframe                         float64\n",
       "missingtitle                          float64\n",
       "imagesonlyinform                      float64\n",
       "subdomainlevelrt                      float64\n",
       "urllengthrt                           float64\n",
       "pctextresourceurlsrt                  float64\n",
       "abnormalextformactionr                float64\n",
       "extmetascriptlinkrt                   float64\n",
       "pctextnullselfredirecthyperlinksrt    float64\n",
       "domaininpaths                         float64\n",
       "querylength                           float64\n",
       "rightclickdisabled                    float64\n",
       "domaininsubdomains                    float64\n",
       "extfavicon                            float64\n",
       "nohttps                               float64\n",
       "hostnamelength                        float64\n",
       "numunderscore                         float64\n",
       "fakelinkinstatusbar                   float64\n",
       "doubleslashinpath                     float64\n",
       "pctextresourceurls                    float64\n",
       "atsymbol                              float64\n",
       "class_label                           float64\n",
       "numnumericchars                       float64\n",
       "relativeformaction                    float64\n",
       "ipaddress                             float64\n",
       "tildesymbol                           float64\n",
       "numhash                               float64\n",
       "httpsinhostname                       float64\n",
       "subdomainlevel                        float64\n",
       "pathlevel                             float64\n",
       "randomstring                          float64\n",
       "numdashinhostname                     float64\n",
       "numpercent                            float64\n",
       "abnormalformaction                    float64\n",
       "embeddedbrandname                     float64\n",
       "numdash                               float64\n",
       "numampersand                          float64\n",
       "numquerycomponents                    float64\n",
       "insecureforms                         float64\n",
       "urllength                             float64\n",
       "pctnullselfredirecthyperlinks         float64\n",
       "numdots                               float64\n",
       "frequentdomainnamemismatch            float64\n",
       "numsensitivewords                     float64\n",
       "pathlength                            float64\n",
       "extformaction                         float64\n",
       "pctexthyperlinks                      float64\n",
       "dtype: object"
      ]
     },
     "execution_count": 4,
     "metadata": {},
     "output_type": "execute_result"
    }
   ],
   "source": [
    "df.dtypes"
   ]
  },
  {
   "cell_type": "code",
   "execution_count": 5,
   "id": "4eacd039",
   "metadata": {},
   "outputs": [
    {
     "data": {
      "text/plain": [
       "<AxesSubplot:>"
      ]
     },
     "execution_count": 5,
     "metadata": {},
     "output_type": "execute_result"
    },
    {
     "data": {
      "image/png": "[encoded data removed]",
      "text/plain": [
       "<Figure size 720x720 with 1 Axes>"
      ]
     },
     "metadata": {
      "needs_background": "light"
     },
     "output_type": "display_data"
    }
   ],
   "source": [
    "df[df.columns.difference(['id'])].plot.box(vert = False, grid = True)"
   ]
  },
  {
   "cell_type": "code",
   "execution_count": 6,
   "id": "cf8c3b5d",
   "metadata": {},
   "outputs": [
    {
     "data": {
      "text/plain": [
       "<AxesSubplot:ylabel='id'>"
      ]
     },
     "execution_count": 6,
     "metadata": {},
     "output_type": "execute_result"
    },
    {
     "data": {
      "image/png": "[encoded data removed]",
      "text/plain": [
       "<Figure size 720x720 with 2 Axes>"
      ]
     },
     "metadata": {
      "needs_background": "light"
     },
     "output_type": "display_data"
    }
   ],
   "source": [
    "colours = ['#808080','#FFFFFF'] # specify the colours - gray is missing. white is not missing.\n",
    "sns.heatmap(df.isnull(), cmap=sns.color_palette(colours))"
   ]
  },
  {
   "cell_type": "code",
   "execution_count": 7,
   "id": "60140bd8",
   "metadata": {},
   "outputs": [
    {
     "data": {
      "text/plain": [
       "<AxesSubplot:>"
      ]
     },
     "execution_count": 7,
     "metadata": {},
     "output_type": "execute_result"
    },
    {
     "data": {
      "image/png": "[encoded data removed]",
      "text/plain": [
       "<Figure size 720x720 with 1 Axes>"
      ]
     },
     "metadata": {
      "needs_background": "light"
     },
     "output_type": "display_data"
    }
   ],
   "source": [
    "df['class_label'].value_counts().plot(kind='bar')"
   ]
  },
  {
   "cell_type": "code",
   "execution_count": 8,
   "id": "7806bca8",
   "metadata": {},
   "outputs": [],
   "source": [
    "X = df.drop(['class_label'], axis=1)\n",
    "y = df['class_label']"
   ]
  },
  {
   "cell_type": "markdown",
   "id": "d39601b3",
   "metadata": {},
   "source": [
    "## Feature Selection"
   ]
  },
  {
   "cell_type": "markdown",
   "id": "f6e37d3f",
   "metadata": {},
   "source": [
    "Feature selection done with [sklearn mutual_info_classif](https://scikit-learn.org/stable/modules/generated/sklearn.feature_selection.mutual_info_classif.html)\n",
    "\n",
    "This method estimate [mutual information](https://en.wikipedia.org/wiki/Mutual_information) (mi) for a discrete target variable.\n",
    "\n",
    "Mutual information between two random variables is a non-negative value, which measures the dependency between the variables. It is equal to zero if and only if two random variables are independent, and higher values mean higher dependency."
   ]
  },
  {
   "cell_type": "code",
   "execution_count": 9,
   "id": "c6de5c08",
   "metadata": {},
   "outputs": [],
   "source": [
    "discrete_features = X.dtypes == int # only works with int! max 37 features out of 48\n",
    "\n",
    "mi_scores = mutual_info_classif(X, y, discrete_features=discrete_features)\n",
    "mi_scores = pd.Series(mi_scores, name='MI Scores', index=X.columns)\n",
    "mi_scores = mi_scores.sort_values(ascending=False)"
   ]
  },
  {
   "cell_type": "code",
   "execution_count": 10,
   "id": "ab1e49ac",
   "metadata": {},
   "outputs": [
    {
     "data": {
      "image/png": "[encoded data removed]",
      "text/plain": [
       "<Figure size 1200x1200 with 1 Axes>"
      ]
     },
     "metadata": {
      "needs_background": "light"
     },
     "output_type": "display_data"
    }
   ],
   "source": [
    "def plot_mi_scores(scores):\n",
    "    scores = scores.sort_values(ascending=True)\n",
    "    width = np.arange(len(scores))\n",
    "    ticks = list(scores.index)\n",
    "    plt.barh(width, scores)\n",
    "    plt.yticks(width, ticks)\n",
    "    plt.title(\"MI Scores\")\n",
    "    \n",
    "plt.figure(dpi=100, figsize=(12,12))\n",
    "plot_mi_scores(mi_scores)"
   ]
  },
  {
   "cell_type": "code",
   "execution_count": 11,
   "id": "12f04cc9",
   "metadata": {},
   "outputs": [],
   "source": [
    "top_n_features = mi_scores.sort_values(ascending=False).head(30).index.tolist()"
   ]
  },
  {
   "cell_type": "markdown",
   "id": "e9222800",
   "metadata": {},
   "source": [
    "## Get train & Test Data"
   ]
  },
  {
   "cell_type": "code",
   "execution_count": 12,
   "id": "2d0615d4",
   "metadata": {},
   "outputs": [],
   "source": [
    "X_train, X_test, y_train, y_test = train_test_split(X, y, test_size=0.2, shuffle=True)"
   ]
  },
  {
   "cell_type": "markdown",
   "id": "e9648a71",
   "metadata": {},
   "source": [
    "## Random Forest Classifier"
   ]
  },
  {
   "cell_type": "code",
   "execution_count": 13,
   "id": "4813bee9",
   "metadata": {},
   "outputs": [],
   "source": [
    "clf = RandomForestClassifier(n_estimators=500, \n",
    "            max_depth=32, \n",
    "            max_features=1.0,\n",
    "            random_state=0)\n",
    "\n",
    "\n",
    "clf.fit(X_train, y_train)\n",
    "\n",
    "y_pred = clf.predict(X_test)"
   ]
  },
  {
   "cell_type": "code",
   "execution_count": 24,
   "id": "b5d2e080",
   "metadata": {},
   "outputs": [
    {
     "name": "stdout",
     "output_type": "stream",
     "text": [
      "Performance for RFC Model with all features is precision : 0.9100985221674877, recall : 0.9214463840399002, f1 score : 0.9157372986369269, accuracy : 0.915\n"
     ]
    }
   ],
   "source": [
    "precision = precision_score(y_test, y_pred)\n",
    "recall = recall_score(y_test, y_pred)\n",
    "f1 = f1_score(y_test, y_pred)\n",
    "accuracy = accuracy_score(y_test, y_pred)\n",
    "\n",
    "print(\"Performance for RFC Model with all features is precision : {}, recall : {}, f1 score : {}, accuracy : {}\".format(precision, recall, f1, accuracy))"
   ]
  },
  {
   "cell_type": "markdown",
   "id": "0501cd3b",
   "metadata": {},
   "source": [
    "## HyperParameter Tunning"
   ]
  },
  {
   "cell_type": "code",
   "execution_count": 23,
   "id": "c92f72d9",
   "metadata": {},
   "outputs": [
    {
     "name": "stdout",
     "output_type": "stream",
     "text": [
      "Fitting 3 folds for each of 500 candidates, totalling 1500 fits\n"
     ]
    }
   ],
   "source": [
    "n_estimators = [100, 300, 500, 800, 1200]\n",
    "max_depth = [5, 8, 15, 25, 30]\n",
    "min_samples_split = [2, 5, 10, 15, 100]\n",
    "min_samples_leaf = [1, 2, 5, 10] \n",
    "\n",
    "forest = RandomForestClassifier(random_state = 1, n_estimators = 10, min_samples_split = 1)\n",
    "\n",
    "hyperF = dict(n_estimators = n_estimators, max_depth = max_depth,  \n",
    "              min_samples_split = min_samples_split, \n",
    "             min_samples_leaf = min_samples_leaf)\n",
    "\n",
    "gridF = GridSearchCV(forest, hyperF, cv = 3, verbose = 1, \n",
    "                      n_jobs = -1, scoring='f1')\n",
    "bestF = gridF.fit(X_train, y_train)"
   ]
  },
  {
   "cell_type": "code",
   "execution_count": 25,
   "id": "7d4fbe67",
   "metadata": {},
   "outputs": [
    {
     "data": {
      "text/plain": [
       "{'max_depth': 30,\n",
       " 'min_samples_leaf': 1,\n",
       " 'min_samples_split': 2,\n",
       " 'n_estimators': 800}"
      ]
     },
     "execution_count": 25,
     "metadata": {},
     "output_type": "execute_result"
    }
   ],
   "source": [
    "gridF.best_params_"
   ]
  },
  {
   "cell_type": "code",
   "execution_count": 27,
   "id": "109038c5",
   "metadata": {},
   "outputs": [
    {
     "name": "stdout",
     "output_type": "stream",
     "text": [
      "Performance for RFC Model after HyperParameter Tunning with Top all features is precision : 0.913151364764268, recall : 0.9177057356608479, f1 score : 0.9154228855721394, accuracy : 0.915\n"
     ]
    }
   ],
   "source": [
    "y_pred = bestF.predict(X_test)\n",
    "\n",
    "precision = precision_score(y_test, y_pred)\n",
    "recall = recall_score(y_test, y_pred)\n",
    "f1 = f1_score(y_test, y_pred)\n",
    "accuracy = accuracy_score(y_test, y_pred)\n",
    "\n",
    "print(\"Performance for RFC Model after HyperParameter Tunning with Top all features is precision : {}, recall : {}, f1 score : {}, accuracy : {}\".format(precision, recall, f1, accuracy))"
   ]
  },
  {
   "cell_type": "markdown",
   "id": "45b9c55f",
   "metadata": {},
   "source": [
    "## Feature importance"
   ]
  },
  {
   "cell_type": "code",
   "execution_count": 31,
   "id": "1561d63e",
   "metadata": {
    "scrolled": true
   },
   "outputs": [
    {
     "data": {
      "text/plain": [
       "<AxesSubplot:>"
      ]
     },
     "execution_count": 31,
     "metadata": {},
     "output_type": "execute_result"
    },
    {
     "data": {
      "image/png": "[encoded data removed]",
      "text/plain": [
       "<Figure size 720x720 with 1 Axes>"
      ]
     },
     "metadata": {
      "needs_background": "light"
     },
     "output_type": "display_data"
    }
   ],
   "source": [
    "feat_importances = pd.Series(clf.feature_importances_, index=X_train.columns)\n",
    "feat_importances.nlargest(10).plot(kind='barh')"
   ]
  },
  {
   "cell_type": "markdown",
   "id": "70dec592",
   "metadata": {},
   "source": [
    "## XGBoost!"
   ]
  },
  {
   "cell_type": "code",
   "execution_count": 35,
   "id": "87181907",
   "metadata": {},
   "outputs": [
    {
     "name": "stdout",
     "output_type": "stream",
     "text": [
      "Fitting 3 folds for each of 500 candidates, totalling 1500 fits\n"
     ]
    }
   ],
   "source": [
    "n_estimators = [100, 300, 500, 800, 1200]\n",
    "max_depth = [5, 8, 15, 25, 30]\n",
    "learning_rate = [0.01, 0.1, 0.3, 0.5, 0.7, 0.9, 1] \n",
    "\n",
    "xgb = XGBClassifier(n_estimators=1200, max_depth=25,n_jobs=-1)\n",
    "\n",
    "hyperXGB = dict(n_estimators = n_estimators, max_depth = max_depth,  \n",
    "             learning_rate = learning_rate)\n",
    "\n",
    "gridXGB = GridSearchCV(xgb, hyperXGB, cv = 3, verbose = 1, \n",
    "                      n_jobs = -1, scoring='f1')\n",
    "gridXGB = gridF.fit(X_train, y_train)"
   ]
  },
  {
   "cell_type": "code",
   "execution_count": 37,
   "id": "d31454ad",
   "metadata": {},
   "outputs": [
    {
     "data": {
      "text/plain": [
       "{'max_depth': 30,\n",
       " 'min_samples_leaf': 1,\n",
       " 'min_samples_split': 2,\n",
       " 'n_estimators': 800}"
      ]
     },
     "execution_count": 37,
     "metadata": {},
     "output_type": "execute_result"
    }
   ],
   "source": [
    "gridXGB.best_params_"
   ]
  },
  {
   "cell_type": "code",
   "execution_count": 36,
   "id": "fe8258d6",
   "metadata": {},
   "outputs": [],
   "source": [
    "y_pred = gridXGB.predict(X_test)"
   ]
  },
  {
   "cell_type": "code",
   "execution_count": 38,
   "id": "ff1f4fa2",
   "metadata": {},
   "outputs": [
    {
     "name": "stdout",
     "output_type": "stream",
     "text": [
      "Performance for XGBoostC Model with Top all features is precision : 0.9100985221674877, recall : 0.9214463840399002, f1 score : 0.9157372986369269, accuracy : 0.915\n"
     ]
    }
   ],
   "source": [
    "precision = precision_score(y_test, clf_xbb_y_pred)\n",
    "recall = recall_score(y_test, clf_xbb_y_pred)\n",
    "f1 = f1_score(y_test, clf_xbb_y_pred)\n",
    "accuracy = accuracy_score(y_test, clf_xbb_y_pred)\n",
    "\n",
    "print(\"Performance for XGBoostC Model with Top all features is precision : {}, recall : {}, f1 score : {}, accuracy : {}\".format( precision, recall, f1, accuracy))"
   ]
  },
  {
   "cell_type": "markdown",
   "id": "9db04647",
   "metadata": {},
   "source": [
    "## Classify Test Data"
   ]
  },
  {
   "cell_type": "code",
   "execution_count": 16,
   "id": "0f8a96ba",
   "metadata": {},
   "outputs": [],
   "source": [
    "df_test = pd.read_csv(\"../../data/test.csv\")\n",
    "\n",
    "#lowercase column names to match wrangled dataframe\n",
    "df_test.columns = df_test.columns.str.lower()"
   ]
  },
  {
   "cell_type": "code",
   "execution_count": 19,
   "id": "8aabc0dc",
   "metadata": {},
   "outputs": [],
   "source": [
    "#X_test_data = df_test[top_n_features]\n",
    "X_test_data = df_test[X.columns]"
   ]
  },
  {
   "cell_type": "code",
   "execution_count": 39,
   "id": "bb71e47f",
   "metadata": {},
   "outputs": [],
   "source": [
    "#y_pred_test_data = clf.predict(X_test_data)\n",
    "#y_pred_test_data = gridF.predict(X_test_data)\n",
    "y_pred_test_data = gridXGB.predict(X_test_data)"
   ]
  },
  {
   "cell_type": "code",
   "execution_count": 40,
   "id": "b91668c9",
   "metadata": {},
   "outputs": [
    {
     "data": {
      "text/html": [
       "<div>\n",
       "<style scoped>\n",
       "    .dataframe tbody tr th:only-of-type {\n",
       "        vertical-align: middle;\n",
       "    }\n",
       "\n",
       "    .dataframe tbody tr th {\n",
       "        vertical-align: top;\n",
       "    }\n",
       "\n",
       "    .dataframe thead th {\n",
       "        text-align: right;\n",
       "    }\n",
       "</style>\n",
       "<table border=\"1\" class=\"dataframe\">\n",
       "  <thead>\n",
       "    <tr style=\"text-align: right;\">\n",
       "      <th></th>\n",
       "      <th>CLASS_LABEL</th>\n",
       "    </tr>\n",
       "    <tr>\n",
       "      <th>id</th>\n",
       "      <th></th>\n",
       "    </tr>\n",
       "  </thead>\n",
       "  <tbody>\n",
       "    <tr>\n",
       "      <th>7920</th>\n",
       "      <td>0.0</td>\n",
       "    </tr>\n",
       "    <tr>\n",
       "      <th>912</th>\n",
       "      <td>1.0</td>\n",
       "    </tr>\n",
       "    <tr>\n",
       "      <th>6632</th>\n",
       "      <td>0.0</td>\n",
       "    </tr>\n",
       "    <tr>\n",
       "      <th>4537</th>\n",
       "      <td>1.0</td>\n",
       "    </tr>\n",
       "    <tr>\n",
       "      <th>8487</th>\n",
       "      <td>0.0</td>\n",
       "    </tr>\n",
       "    <tr>\n",
       "      <th>...</th>\n",
       "      <td>...</td>\n",
       "    </tr>\n",
       "    <tr>\n",
       "      <th>599</th>\n",
       "      <td>1.0</td>\n",
       "    </tr>\n",
       "    <tr>\n",
       "      <th>8355</th>\n",
       "      <td>1.0</td>\n",
       "    </tr>\n",
       "    <tr>\n",
       "      <th>4745</th>\n",
       "      <td>1.0</td>\n",
       "    </tr>\n",
       "    <tr>\n",
       "      <th>4567</th>\n",
       "      <td>1.0</td>\n",
       "    </tr>\n",
       "    <tr>\n",
       "      <th>2314</th>\n",
       "      <td>1.0</td>\n",
       "    </tr>\n",
       "  </tbody>\n",
       "</table>\n",
       "<p>1800 rows × 1 columns</p>\n",
       "</div>"
      ],
      "text/plain": [
       "      CLASS_LABEL\n",
       "id               \n",
       "7920          0.0\n",
       "912           1.0\n",
       "6632          0.0\n",
       "4537          1.0\n",
       "8487          0.0\n",
       "...           ...\n",
       "599           1.0\n",
       "8355          1.0\n",
       "4745          1.0\n",
       "4567          1.0\n",
       "2314          1.0\n",
       "\n",
       "[1800 rows x 1 columns]"
      ]
     },
     "execution_count": 40,
     "metadata": {},
     "output_type": "execute_result"
    }
   ],
   "source": [
    "df_to_submit = pd.DataFrame(index=df_test.id, data={'CLASS_LABEL': y_pred_test_data})\n",
    "df_to_submit"
   ]
  },
  {
   "cell_type": "code",
   "execution_count": 41,
   "id": "484a19a3",
   "metadata": {},
   "outputs": [],
   "source": [
    "df_to_submit.to_csv('baseline_XGB_hyperparameter_allfeatures.csv')"
   ]
  },
  {
   "cell_type": "code",
   "execution_count": null,
   "id": "952ecb7a",
   "metadata": {},
   "outputs": [],
   "source": []
  }
 ],
 "metadata": {
  "kernelspec": {
   "display_name": "Python 3",
   "language": "python",
   "name": "python3"
  },
  "language_info": {
   "codemirror_mode": {
    "name": "ipython",
    "version": 3
   },
   "file_extension": ".py",
   "mimetype": "text/x-python",
   "name": "python",
   "nbconvert_exporter": "python",
   "pygments_lexer": "ipython3",
   "version": "3.7.10"
  }
 },
 "nbformat": 4,
 "nbformat_minor": 5
}
