{
 "cells": [
  {
   "cell_type": "markdown",
   "metadata": {},
   "source": [
    "# Learning Notebook - Part 1 of 3 - Dealing with csv's... and beyond"
   ]
  },
  {
   "cell_type": "markdown",
   "metadata": {},
   "source": [
    "Welcome to data wrangling!\n",
    "\n",
    "Up to this point of the academy, you already handled several datasets. Some were big, some were small. Some were very clean, some were a little messier (maybe with some missing values).\n",
    "\n",
    "But in all the cases, they were pretty easy to handle (thanks pd.read_csv!), and conveniently accessible.\n",
    "\n",
    "Well, in real life, that never happens. When dealing with a data science problem, you'll find that the data you need is probably scattered around multiple sources, stored in several different formats, and there are always additional challenges! \n"
   ]
  },
  {
   "cell_type": "markdown",
   "metadata": {},
   "source": [
    "![title](./media/files_everywhere.png)"
   ]
  },
  {
   "cell_type": "markdown",
   "metadata": {},
   "source": [
    "\n",
    "But worry not, that's what we're here for :)\n",
    "In this specialization you'll learn many tools that will turn you into a professional data wrangler.\n",
    "\n",
    "**Let's start with some handy Jupyter notebook's tools.**"
   ]
  },
  {
   "cell_type": "markdown",
   "metadata": {},
   "source": [
    "## 1. ! (system shell access)\n",
    "\n",
    "In a Jupyter notebook, any statement that you start with an exclamation mark (!), will be sent to the underlying operating system.\n",
    "\n",
    "In practice, this means that you can run shell commands in the notebooks, in the same way as you do in your computer terminal.\n",
    "\n",
    "**Disclaimer**: the goal of this is to show that we can run shell commands from the notebooks, and we'll use Unix commands to demonstrate it. In most of the examples, we tried to include a Windows equivalent. If by any chance some command doesn't work in your machine, try to figure out by yourself what works in your OS, because this will probably be handy in the future!\n",
    "\n",
    "Let's see some examples now. The first is to list the files in the current directory."
   ]
  },
  {
   "cell_type": "code",
   "execution_count": 1,
   "metadata": {
    "tags": []
   },
   "outputs": [
    {
     "name": "stdout",
     "output_type": "stream",
     "text": [
      "total 284K\r\n",
      "drwxrwxr-x 6 ppribeir ppribeir 4,0K jul 31 20:27  data\r\n",
      "-rw-rw-r-- 1 ppribeir ppribeir  28K jul 31 20:27 'Exercise notebook.ipynb'\r\n",
      "-rw-rw-r-- 1 ppribeir ppribeir 132K ago  1 10:49 \"Learning Notebook - Part 1 of 3 - Dealing with csv's... and beyond.ipynb\"\r\n",
      "-rw-rw-r-- 1 ppribeir ppribeir  65K jul 31 20:27 'Learning Notebook - Part 2 of 3 - Common Problems and Solutions.ipynb'\r\n",
      "-rw-rw-r-- 1 ppribeir ppribeir  35K jul 31 20:27 'Learning Notebook - Part 3 of 3 - Dealing with larger datasets.ipynb'\r\n",
      "drwxrwxr-x 2 ppribeir ppribeir 4,0K jul 31 20:27  media\r\n",
      "-rw-rw-r-- 1 ppribeir ppribeir 1,5K jul 31 20:35  README.md\r\n",
      "-rw-rw-r-- 1 ppribeir ppribeir 1,4K jul 31 16:05  requirements_old.txt\r\n",
      "-rw-rw-r-- 1 ppribeir ppribeir  133 jul 31 22:13  requirements.txt\r\n"
     ]
    }
   ],
   "source": [
    "# list the current directory\n",
    "# in Windows: ! dir\n",
    "! ls -lh"
   ]
  },
  {
   "cell_type": "markdown",
   "metadata": {},
   "source": [
    "In order to see the contents of a file, we just have to use command **cat** (Unix) or **type** (Windows), followed by the file path."
   ]
  },
  {
   "cell_type": "code",
   "execution_count": 2,
   "metadata": {
    "tags": []
   },
   "outputs": [
    {
     "name": "stdout",
     "output_type": "stream",
     "text": [
      "Lorem ipsum dolor sit amet, consectetur adipiscing elit. Duis et tristique enim. Sed eget venenatis eros, quis suscipit lorem. Ut malesuada, erat a scelerisque cursus, odio mi sodales ligula, at elementum ipsum dui condimentum ipsum. Nam imperdiet viverra dictum. Aenean commodo accumsan iaculis. Vestibulum ante ipsum primis in faucibus orci luctus et ultrices posuere cubilia Curae; Maecenas sed suscipit odio, ornare ullamcorper felis. Donec sit amet egestas sem, ac semper sem. Integer mattis purus sed orci volutpat porta. Donec cursus dapibus interdum. Donec ornare mattis dolor. Sed quis scelerisque nisl, in efficitur odio. Phasellus posuere libero eget orci feugiat scelerisque. Phasellus ullamcorper tortor nec facilisis blandit.\r\n",
      "Vestibulum tempus, purus id ultrices eleifend, lorem nunc malesuada odio, vitae aliquam elit ipsum a nulla. Vivamus sed neque arcu. Vivamus commodo nunc a est hendrerit tempor. Nullam viverra sit amet augue in sagittis. Pellentesque molestie porttitor volutpat. Nullam nec sagittis mi. Duis tempor dui mollis ligula vehicula, sed sodales lacus ullamcorper. Maecenas ultrices vestibulum mollis.\r\n"
     ]
    }
   ],
   "source": [
    "# print the contents of a file\n",
    "# in Windows: ! type data\\lorem\\lorem_ipsum_short.txt\n",
    "! cat data/lorem/lorem_ipsum_short.txt"
   ]
  },
  {
   "cell_type": "markdown",
   "metadata": {},
   "source": [
    "Sometimes files are very big. In that case, printing all the content of a file can be too expensive and not very useful.\n",
    "\n",
    "Thus, it's important to know how big is a file before opening it.\n",
    "A good way to do it is by counting the number of lines that the file has "
   ]
  },
  {
   "cell_type": "code",
   "execution_count": 3,
   "metadata": {
    "tags": []
   },
   "outputs": [
    {
     "name": "stdout",
     "output_type": "stream",
     "text": [
      "150\r\n"
     ]
    }
   ],
   "source": [
    "# counting the number of lines in a file\n",
    "# in Windows: ! type data\\lorem\\lorem_ipsum_long.txt | find /c /v \"\"\n",
    "\n",
    "! wc -l < data/lorem/lorem_ipsum_long.txt"
   ]
  },
  {
   "cell_type": "markdown",
   "metadata": {},
   "source": [
    "Note: wc counts the carriage returns (aka newline, you'll hear about it in a bit), so make sure that the last line ends with a carriage return, or it won't be included in this count!"
   ]
  },
  {
   "cell_type": "markdown",
   "metadata": {},
   "source": [
    "When a file is in fact very big, we can still preview it. But instead of printing all its content, we'll just want to print its first lines.\n",
    "\n",
    "For this we can use the command **head** (Unix) or **more** (Windows)."
   ]
  },
  {
   "cell_type": "code",
   "execution_count": 4,
   "metadata": {
    "tags": []
   },
   "outputs": [
    {
     "name": "stdout",
     "output_type": "stream",
     "text": [
      "Lorem ipsum dolor sit amet, consectetur adipiscing elit. Sed pharetra pulvinar nulla, nec ultricies velit posuere nec. Nulla rhoncus convallis lectus in dignissim. Nulla aliquet justo risus, ac dapibus urna faucibus aliquet. Cras in pretium leo. Etiam id neque a erat feugiat vehicula. Curabitur accumsan volutpat ante, vitae vestibulum lorem congue et. Vivamus fringilla massa id dictum bibendum. Maecenas iaculis arcu ut tellus varius, at imperdiet metus lacinia. Maecenas eget turpis metus. Maecenas est mauris, venenatis cursus nulla at, gravida posuere sapien. Fusce a ex purus. Pellentesque eleifend, lorem sed pulvinar scelerisque, orci eros maximus purus, id sagittis dolor est non nulla. Vestibulum ex metus, porttitor a leo ornare, pharetra pharetra libero. Suspendisse cursus ligula in ante tincidunt rhoncus malesuada eu justo.\r\n",
      "Class aptent taciti sociosqu ad litora torquent per conubia nostra, per inceptos himenaeos. Nam nec sem nisl. Aliquam at velit neque. Cras nec sem fringilla, hendrerit massa vel, accumsan leo. Sed scelerisque tellus ut diam volutpat, in gravida justo tristique. Morbi venenatis nisi id aliquam congue. Curabitur ut convallis justo, eu mattis augue. Aliquam sollicitudin elit eros, eu vulputate enim eleifend sed. Fusce sollicitudin fermentum mauris, id hendrerit dui vehicula sit amet. Duis tempus tellus ut sem malesuada lobortis. Vivamus rutrum sit amet eros ac faucibus. Sed gravida ante ut porta lacinia. In et ante ante.\r\n"
     ]
    }
   ],
   "source": [
    "# print the content of the first two lines of the file\n",
    "# in Windows: ! more /e data\\lorem\\lorem_ipsum_long.txt P 2\n",
    "! head -2 data/lorem/lorem_ipsum_long.txt"
   ]
  },
  {
   "cell_type": "markdown",
   "metadata": {},
   "source": [
    "Similarly, we can also preview the last lines of the file, with the **tail** command on Unix.\n",
    "\n",
    "Unfortunately, Windows doesn't have a built-in command equivalent to tail. But there are some packages that can be installed to fill this purpose (check this [stackoverflow post](https://stackoverflow.com/questions/187587/a-windows-equivalent-of-the-unix-tail-command)). Or you can always **type** the whole file (if not too big), and read the last lines..."
   ]
  },
  {
   "cell_type": "code",
   "execution_count": 5,
   "metadata": {
    "tags": []
   },
   "outputs": [
    {
     "name": "stdout",
     "output_type": "stream",
     "text": [
      "Morbi sodales et felis in bibendum. Nullam sollicitudin dapibus tellus, at molestie dui sagittis sed. Proin a tellus ac mi pharetra ullamcorper et in diam. Donec at posuere massa. Vestibulum ante ipsum primis in faucibus orci luctus et ultrices posuere cubilia Curae; Quisque faucibus justo sollicitudin tincidunt tincidunt. Mauris magna massa, convallis quis erat sit amet, varius consequat nibh. In ac elit eu purus tempor lobortis quis at ante. Aliquam erat volutpat. Etiam sed arcu ut ex venenatis suscipit. Quisque ac porta diam. Lorem ipsum dolor sit amet, consectetur adipiscing elit. Fusce tristique malesuada diam, at hendrerit neque euismod sit amet.\r\n",
      "Aenean commodo posuere elit, et ornare mi bibendum eget. Mauris scelerisque elit neque, vel eleifend leo pellentesque et. Aliquam erat volutpat. Vestibulum porttitor, neque in eleifend tincidunt, dolor tortor sagittis velit, a vehicula odio lectus et neque. Etiam odio diam, congue nec neque quis, hendrerit convallis nisi. Nullam leo ligula, faucibus eu felis eget, imperdiet egestas odio. Integer mollis consectetur fringilla. Maecenas quis blandit justo, ac tempor libero. Morbi ac est eu leo feugiat venenatis at in massa. In mattis mollis rutrum. Donec tempor auctor interdum. Etiam ultricies mi non mi convallis, at congue est tincidunt.\r\n",
      "Nunc ut luctus ligula. Class aptent taciti sociosqu ad litora torquent per conubia nostra, per inceptos himenaeos. Sed eu imperdiet erat. Donec sit amet odio tincidunt lorem consectetur tempus. Orci varius natoque penatibus et magnis dis parturient montes, nascetur ridiculus mus. Curabitur blandit arcu et purus facilisis vehicula. Aenean cursus felis enim, nec fringilla nisl laoreet vitae. Donec hendrerit mi lectus, eu convallis urna accumsan vitae. Donec imperdiet egestas justo, ullamcorper aliquam ex semper non. Fusce vel consectetur nulla, ac interdum odio. Suspendisse sit amet magna laoreet, interdum augue eu, pellentesque tortor. Sed consectetur blandit massa, interdum efficitur libero ullamcorper eget. Donec interdum sagittis justo, quis aliquam arcu pellentesque quis.\r\n"
     ]
    }
   ],
   "source": [
    "# print the content of the last three lines of the file\n",
    "# in Windows :(\n",
    "! tail -3 data/lorem/lorem_ipsum_long.txt"
   ]
  },
  {
   "cell_type": "markdown",
   "metadata": {},
   "source": [
    "**Optional tip**\n",
    "\n",
    "Another useful thing is that we can use variables with the ! commands.\n",
    "\n",
    "We can assign the result of a ! command to a variable `var` in the notebook. `var` will be a list, where each element corresponds to a line in the ! command. Examples:"
   ]
  },
  {
   "cell_type": "code",
   "execution_count": 6,
   "metadata": {},
   "outputs": [
    {
     "data": {
      "text/plain": [
       "['150']"
      ]
     },
     "execution_count": 6,
     "metadata": {},
     "output_type": "execute_result"
    }
   ],
   "source": [
    "var = ! wc -l < ./data/lorem/lorem_ipsum_long.txt\n",
    "var"
   ]
  },
  {
   "cell_type": "code",
   "execution_count": 7,
   "metadata": {
    "scrolled": true
   },
   "outputs": [
    {
     "data": {
      "text/plain": [
       "['total 296',\n",
       " 'drwxrwxr-x 5 ppribeir ppribeir   4096 ago  1 10:49 .',\n",
       " 'drwxrwxr-x 3 ppribeir ppribeir   4096 jul 31 20:22 ..',\n",
       " 'drwxrwxr-x 6 ppribeir ppribeir   4096 jul 31 20:27 data',\n",
       " '-rw-rw-r-- 1 ppribeir ppribeir  28604 jul 31 20:27 Exercise notebook.ipynb',\n",
       " 'drwxrwxr-x 2 ppribeir ppribeir   4096 jul 31 20:38 .ipynb_checkpoints',\n",
       " \"-rw-rw-r-- 1 ppribeir ppribeir 134242 ago  1 10:49 Learning Notebook - Part 1 of 3 - Dealing with csv's... and beyond.ipynb\",\n",
       " '-rw-rw-r-- 1 ppribeir ppribeir  65559 jul 31 20:27 Learning Notebook - Part 2 of 3 - Common Problems and Solutions.ipynb',\n",
       " '-rw-rw-r-- 1 ppribeir ppribeir  35678 jul 31 20:27 Learning Notebook - Part 3 of 3 - Dealing with larger datasets.ipynb',\n",
       " 'drwxrwxr-x 2 ppribeir ppribeir   4096 jul 31 20:27 media',\n",
       " '-rw-rw-r-- 1 ppribeir ppribeir   1460 jul 31 20:35 README.md',\n",
       " '-rw-rw-r-- 1 ppribeir ppribeir   1338 jul 31 16:05 requirements_old.txt',\n",
       " '-rw-rw-r-- 1 ppribeir ppribeir    133 jul 31 22:13 requirements.txt']"
      ]
     },
     "execution_count": 7,
     "metadata": {},
     "output_type": "execute_result"
    }
   ],
   "source": [
    "var = ! ls -la\n",
    "var"
   ]
  },
  {
   "cell_type": "markdown",
   "metadata": {},
   "source": [
    "And conversely, we can also pass python variables to the ! commands."
   ]
  },
  {
   "cell_type": "code",
   "execution_count": 8,
   "metadata": {
    "scrolled": true,
    "tags": []
   },
   "outputs": [
    {
     "name": "stdout",
     "output_type": "stream",
     "text": [
      "150\r\n"
     ]
    }
   ],
   "source": [
    "filename = \"./data/lorem/lorem_ipsum_long.txt\"\n",
    "! wc -l < {filename}"
   ]
  },
  {
   "cell_type": "markdown",
   "metadata": {},
   "source": [
    "---"
   ]
  },
  {
   "cell_type": "markdown",
   "metadata": {},
   "source": [
    "**Now that we know how to handle files let's learn about file formats.**\n"
   ]
  },
  {
   "cell_type": "markdown",
   "metadata": {},
   "source": [
    "## 2. File Formats Introduction\n",
    "\n",
    "Throughout this academy we've been dealing a lot with csv files.\n",
    "But in the real world, there is a plethora of file formats! \n",
    "\n",
    "Just for fun, you can scroll [this Wikipedia page](https://en.wikipedia.org/wiki/List_of_file_formats), to see a list with all the file formats that exist out there.\n",
    "\n",
    "In this notebook, we'll learn about the most common file formats and how to read data from files with different formats into pandas DataFrames.\n",
    "We'll also cover how to deal with different character encodings."
   ]
  },
  {
   "cell_type": "code",
   "execution_count": 9,
   "metadata": {},
   "outputs": [],
   "source": [
    "# Some imports\n",
    "import chardet\n",
    "import os\n",
    "import pandas as pd"
   ]
  },
  {
   "cell_type": "markdown",
   "metadata": {},
   "source": [
    "### Delimiter separated values\n",
    "\n",
    "A [delimiter separated values](https://en.wikipedia.org/wiki/Delimiter-separated_values) file, is a file where each row represents a data point and its several fields are separated with a **delimiter** character. The lines are separated by [newlines](https://en.wikipedia.org/wiki/Newline#In_programming_languages) (which you can think of as the `\\n` character).\n",
    "\n",
    "The best known example of a delimiter separated values file is the **comma separated values**, where the delimiter character is a comma. These files usually have the .csv extension, i.e they are called something.csv.\n",
    "\n",
    "Other common delimiters are:\n",
    "\n",
    "* tab (`\\t`)\n",
    "* colon (`:`)\n",
    "* pipe (`|`)\n",
    "* space (` `)\n",
    "\n",
    "In fact, using the tab as a delimiter is so common, that tab separated values files are called tsvs, and have the .tsv extension."
   ]
  },
  {
   "cell_type": "code",
   "execution_count": 10,
   "metadata": {
    "tags": []
   },
   "outputs": [
    {
     "name": "stdout",
     "output_type": "stream",
     "text": [
      "#,Name,Type 1,Type 2,HP,Attack,Defense,Sp. Atk,Sp. Def,Speed,Generation,Legendary\r\n",
      "1,Bulbasaur,Grass,Poison,45,49,49,65,65,45,1,False\r\n",
      "2,Ivysaur,Grass,Poison,60,62,63,80,80,60,1,False\r\n",
      "3,Venusaur,Grass,Poison,80,82,83,100,100,80,1,False\r\n",
      "4,Mega Venusaur,Grass,Poison,80,100,123,122,120,80,1,False\r\n"
     ]
    }
   ],
   "source": [
    "# Using the ! magic and the head command to see the first 5 lines of a csv file\n",
    "#! more /e data\\pokemons\\pokemons.csv P 5\n",
    "! head -5 data/pokemons/pokemons.csv"
   ]
  },
  {
   "cell_type": "markdown",
   "metadata": {},
   "source": [
    "### JSON\n",
    "\n",
    "[JSON](https://en.wikipedia.org/wiki/JSON) stands for JavaScript Object Notation. It was derived from JavaScript but it is language independent, so many languages (including Python, of course!) have built in support to parse and generate JSON data. \n",
    "\n",
    "This data format is very common in communication between browsers, servers and databases, so expect to see it a lot!\n",
    "\n",
    "In JSON files, the data is represented in key-value pairs and arrays. \n",
    "Also, JSON files use the .json extension."
   ]
  },
  {
   "cell_type": "code",
   "execution_count": 11,
   "metadata": {
    "tags": []
   },
   "outputs": [
    {
     "name": "stdout",
     "output_type": "stream",
     "text": [
      "{\r\n",
      "    \"1\": {\r\n",
      "        \"Name\": \"Bulbasaur\",\r\n",
      "        \"Types\": [\r\n",
      "            \"Grass\",\r\n",
      "            \"Poison\"\r\n",
      "        ],\r\n",
      "        \"HP\": 45,\r\n",
      "        \"Attack\": 49,\r\n",
      "        \"Defense\": 49,\r\n",
      "        \"Sp. Atk\": 65,\r\n",
      "        \"Sp. Def\": 65,\r\n",
      "        \"Speed\": 45,\r\n",
      "        \"Generation\": 1,\r\n",
      "        \"Legendary\": false\r\n",
      "    },\r\n",
      "    \"2\": {\r\n",
      "        \"Name\": \"Ivysaur\",\r\n",
      "        \"Types\": [\r\n",
      "            \"Grass\",\r\n",
      "            \"Poison\"\r\n",
      "        ],\r\n",
      "        \"HP\": 60,\r\n",
      "        \"Attack\": 62,\r\n",
      "        \"Defense\": 63,\r\n",
      "        \"Sp. Atk\": 80,\r\n",
      "        \"Sp. Def\": 80,\r\n",
      "        \"Speed\": 60,\r\n",
      "        \"Generation\": 1,\r\n",
      "        \"Legendary\": false\r\n",
      "    }\r\n",
      "}"
     ]
    }
   ],
   "source": [
    "# Displaying the contents of a JSON file\n",
    "#! type data\\pokemons\\pokemons.json\n",
    "! cat data/pokemons/pokemons.json"
   ]
  },
  {
   "cell_type": "markdown",
   "metadata": {},
   "source": [
    "### Excel\n",
    "\n",
    "[Excel](https://en.wikipedia.org/wiki/Microsoft_Excel) is a spreadsheet developed by Microsoft, which has been THE tool used by Data Analysts for the past decades.\n",
    "\n",
    "We're not planning to use Excel much around here, but working as a data scientist in a company, you'll very likely receive some Excel files with data.\n",
    "\n",
    "Unfortunately, using the head or cat commands to preview Excel files won't show us much... So we'll have to rely on pandas for that (more on that soon)."
   ]
  },
  {
   "cell_type": "code",
   "execution_count": 12,
   "metadata": {
    "tags": []
   },
   "outputs": [
    {
     "name": "stdout",
     "output_type": "stream",
     "text": [
      "��\u0011ࡱ\u001a�\u0000\u0000\u0000\u0000\u0000\u0000\u0000\u0000\u0000\u0000\u0000\u0000\u0000\u0000\u0000\u0000>\u0000\u0003\u0000��\t\u0000\u0006\u0000\u0000\u0000\u0000\u0000\u0000\u0000\u0000\u0000\u0000\u0000\u0002\u0000\u0000\u0000�\u0000\u0000\u0000\u0000\u0000\u0000\u0000\u0000\u0010\u0000\u0000����\u0000\u0000\u0000\u0000����\u0000\u0000\u0000\u0000�\u0000\u0000\u0000�\u0000\u0000\u0000��������������������������������������������������������������������������������������������������������������������������������������������������������������������������������������������������������������������������������������������������������������������������������������������������������������������������������������������������������������������������������������������������������������������������������������������\t\b\u0010\u0000\u0000\u0006\u0005\u0000�\r",
      "�\u0007\u0000\u0000\u0000\u0000\u0006\u0000\u0000\u0000�\u0000\u0002\u0000�\u0004�\u0000\u0002\u0000\u0000\u0000�\u0000\u0000\u0000\\\u0000p\u0000None                                                                                                            B\u0000\u0002\u0000�\u0004a\u0001\u0002\u0000\u0000\u0000=\u0001\u0002\u0000\u0001\u0000�\u0000\u0002\u0000\u000e\u0000\u0019\u0000\u0002\u0000\u0000\u0000\u0012\u0000\u0002\u0000\u0000\u0000c\u0000\u0002\u0000\u0000\u0000\u0013\u0000\u0002\u0000\u0000\u0000�\u0001\u0002\u0000\u0000\u0000�\u0001\u0002\u0000\u0000\u0000@\u0000\u0002\u0000\u0000\u0000�\u0000\u0002\u0000\u0000\u0000=\u0000\u0012\u0000�\u0001Z\u0000�?N*8\u0000\u0000\u0000\u0000\u0000\u0001\u0000X\u0002\"\u0000\u0002\u0000\u0000\u0000\u000e\u0000\u0002\u0000\u0001\u0000�\u0001\u0002\u0000\u0000\u0000�\u0000\u0002\u0000\u0000\u00001\u0000\u0015\u0000�\u0000\u0000\u0000��\u0001\u0000\u0000\u0000\u0000\u0001\u0000\u0005\u0000Arial1\u0000\u0015\u0000�\u0000\u0000\u0000��\u0001\u0000\u0000\u0000\u0000\u0001\u0000\u0005\u0000Arial1\u0000\u0015\u0000�\u0000\u0000\u0000��\u0001\u0000\u0000\u0000\u0000\u0001\u0000\u0005\u0000Arial1\u0000\u0015\u0000�\u0000\u0000\u0000��\u0001\u0000\u0000\u0000\u0000\u0001\u0000\u0005\u0000Arial1\u0000\u0015\u0000�\u0000\u0000\u0000��\u0001\u0000\u0000\u0000\u0000\u0001\u0000\u0005\u0000Arial1\u0000\u0015\u0000�\u0000\u0000\u0000��\u0001\u0000\u0000\u0000\u0000\u0001\u0000\u0005\u0000Arial1\u0000\u0015\u0000�\u0000\u0001\u0000��\u0002\u0000\u0000\u0000\u0000\u0001\u0000\u0005\u0000Arial1\u0000\u0015\u0000�\u0000\u0000\u0000��\u0001\u0000\u0000\u0000\u0000\u0001\u0000\u0005\u0000Arial\u001e",
      "\u0004\f",
      "\u0000�\u0000\u0007\u0000\u0000General�\u0000\u0014\u0000\u0006\u0000�\u0000�� \u0000\u0000�\u0000\u0000\u0000\u0000\u0000\u0000\u0000\u0000� �\u0000\u0014\u0000\u0006\u0000�\u0000�� \u0000\u0000�\u0000\u0000\u0000\u0000\u0000\u0000\u0000\u0000� �\u0000\u0014\u0000\u0006\u0000�\u0000�� \u0000\u0000�\u0000\u0000\u0000\u0000\u0000\u0000\u0000\u0000� �\u0000\u0014\u0000\u0006\u0000�\u0000�� \u0000\u0000�\u0000\u0000\u0000\u0000\u0000\u0000\u0000\u0000� �\u0000\u0014\u0000\u0006\u0000�\u0000�� \u0000\u0000�\u0000\u0000\u0000\u0000\u0000\u0000\u0000\u0000� �\u0000\u0014\u0000\u0006\u0000�\u0000�� \u0000\u0000�\u0000\u0000\u0000\u0000\u0000\u0000\u0000\u0000� �\u0000\u0014\u0000\u0006\u0000�\u0000�� \u0000\u0000�\u0000\u0000\u0000\u0000\u0000\u0000\u0000\u0000� �\u0000\u0014\u0000\u0006\u0000�\u0000�� \u0000\u0000�\u0000\u0000\u0000\u0000\u0000\u0000\u0000\u0000� �\u0000\u0014\u0000\u0006\u0000�\u0000�� \u0000\u0000�\u0000\u0000\u0000\u0000\u0000\u0000\u0000\u0000� �\u0000\u0014\u0000\u0006\u0000�\u0000�� \u0000\u0000�\u0000\u0000\u0000\u0000\u0000\u0000\u0000\u0000� �\u0000\u0014\u0000\u0006\u0000�\u0000�� \u0000\u0000�\u0000\u0000\u0000\u0000\u0000\u0000\u0000\u0000� �\u0000\u0014\u0000\u0006\u0000�\u0000�� \u0000\u0000�\u0000\u0000\u0000\u0000\u0000\u0000\u0000\u0000� �\u0000\u0014\u0000\u0006\u0000�\u0000�� \u0000\u0000�\u0000\u0000\u0000\u0000\u0000\u0000\u0000\u0000� �\u0000\u0014\u0000\u0006\u0000�\u0000�� \u0000\u0000�\u0000\u0000\u0000\u0000\u0000\u0000\u0000\u0000� �\u0000\u0014\u0000\u0006\u0000�\u0000�� \u0000\u0000�\u0000\u0000\u0000\u0000\u0000\u0000\u0000\u0000� �\u0000\u0014\u0000\u0006\u0000�\u0000�� \u0000\u0000�\u0000\u0000\u0000\u0000\u0000\u0000\u0000\u0000� �\u0000\u0014\u0000\u0006\u0000�\u0000\u0001\u0000 \u0000\u0000�\u0000\u0000\u0000\u0000\u0000\u0000\u0000\u0000� �\u0000\u0014\u0000\u0007\u0000�\u0000\u0001\u0000\u0002\u0000\u0000�\u0011\u0011@ @ \u0000\u0000� �\u0000\u0014\u0000\b\u0000�\u0000\u0001\u0000 \u0000\u0000�\u0000\u0000\u0000\u0000\u0000\u0000\u0000\u0000� �\u0002\u0004\u0000\u0000�\u0000�`\u0001\u0002\u0000\u0001\u0000�\u0000\u000e\u0000t(\u0000\u0000\u0000\u0000\u0006\u0000Sheet1�\u0000  �\u0007\u0000\u0000=\u0003\u0000\u0000\u0004\u0000\u0000Name\u0006\u0000\u0000Type 1\u0006\u0000\u0000Type 2\u0002\u0000\u0000HP\u0006\u0000\u0000Attack\u0007\u0000\u0000Defense\u0007\u0000\u0000Sp. Atk\u0007\u0000\u0000Sp. Def\u0005\u0000\u0000Speed\r\n",
      "\u0000\u0000Generation\t\u0000\u0000Legendary\u0001\u0000\u0000#\t\u0000\u0000Bulbasaur\u0007\u0000\u0000Ivysaur\b\u0000\u0000Venusaur\r",
      "\u0000\u0000Mega Venusaur\r\n",
      "\u0000\u0000Charmander\r\n",
      "\u0000\u0000Charmeleon\t\u0000\u0000Charizard\u0010\u0000\u0000Mega Charizard X\u0010\u0000\u0000Mega Charizard Y\b\u0000\u0000Squirtle\t\u0000\u0000Wartortle\t\u0000\u0000Blastoise\u000e\u0000\u0000Mega Blastoise\b\u0000\u0000Caterpie\u0007\u0000\u0000Metapod\r\n",
      "\u0000\u0000Butterfree\u0006\u0000\u0000Weedle\u0006\u0000\u0000Kakuna\b\u0000\u0000Beedrill\r",
      "\u0000\u0000Mega Beedrill\u0006\u0000\u0000Pidgey\t\u0000\u0000Pidgeotto\u0007\u0000\u0000Pidgeot\f",
      "\u0000\u0000Mega Pidgeot\u0007\u0000\u0000Rattata\b\u0000\u0000Raticate\u0007\u0000\u0000Spearow\u0006\u0000\u0000Fearow\u0005\u0000\u0000Ekans\u0005\u0000\u0000Arbok\u0007\u0000\u0000Pikachu\u0006\u0000\u0000Raichu\t\u0000\u0000Sandshrew\t\u0000\u0000Sandslash\b\u0000\u0001N\u0000i\u0000d\u0000o\u0000r\u0000a\u0000n\u0000@&\b\u0000\u0000Nidorina\t\u0000\u0000Nidoqueen\b\u0000\u0001N\u0000i\u0000d\u0000o\u0000r\u0000a\u0000n\u0000B&\b\u0000\u0000Nidorino\b\u0000\u0000Nidoking\b\u0000\u0000Clefairy\b\u0000\u0000Clefable\u0006\u0000\u0000Vulpix\t\u0000\u0000Ninetales\r\n"
     ]
    }
   ],
   "source": [
    "# Previewing excel files using head doesn't help us much\n",
    "#! more /e data\\pokemons\\pokemons.xls P 5\n",
    "! head -5 data/pokemons/pokemons.xls"
   ]
  },
  {
   "cell_type": "markdown",
   "metadata": {},
   "source": [
    "### HTML\n",
    "\n",
    "[HTML](https://en.wikipedia.org/wiki/HTML) stands for Hypertext Markup Language (HTML) and is the standard markup language for creating web pages and web applications.\n",
    "\n",
    "As a data scientist, it's not very likely that you'll receive HTML files with data. But if you think that HTML is the language that developers use to actually \"paint\" web pages, you may start finding it more interesting :)\n",
    "\n",
    "But more on that later, let's now preview an HTML file."
   ]
  },
  {
   "cell_type": "code",
   "execution_count": 13,
   "metadata": {
    "tags": []
   },
   "outputs": [
    {
     "name": "stdout",
     "output_type": "stream",
     "text": [
      "<table border=\"1\" class=\"dataframe\">\r\n",
      "  <thead>\r\n",
      "    <tr style=\"text-align: right;\">\r\n",
      "      <th>#</th>\r\n",
      "      <th>Name</th>\r\n",
      "      <th>Type 1</th>\r\n",
      "      <th>Type 2</th>\r\n",
      "      <th>HP</th>\r\n",
      "      <th>Attack</th>\r\n",
      "      <th>Defense</th>\r\n",
      "      <th>Sp. Atk</th>\r\n",
      "      <th>Sp. Def</th>\r\n",
      "      <th>Speed</th>\r\n",
      "      <th>Generation</th>\r\n",
      "      <th>Legendary</th>\r\n",
      "    </tr>\r\n",
      "  </thead>\r\n",
      "  <tbody>\r\n",
      "    <tr>\r\n",
      "      <td>1</td>\r\n",
      "      <td>Bulbasaur</td>\r\n",
      "      <td>Grass</td>\r\n",
      "      <td>Poison</td>\r\n",
      "      <td>45</td>\r\n",
      "      <td>49</td>\r\n",
      "      <td>49</td>\r\n",
      "      <td>65</td>\r\n",
      "      <td>65</td>\r\n",
      "      <td>45</td>\r\n",
      "      <td>1</td>\r\n",
      "      <td>False</td>\r\n",
      "    </tr>\r\n",
      "    <tr>\r\n",
      "      <td>2</td>\r\n",
      "      <td>Ivysaur</td>\r\n",
      "      <td>Grass</td>\r\n",
      "      <td>Poison</td>\r\n",
      "      <td>60</td>\r\n",
      "      <td>62</td>\r\n",
      "      <td>63</td>\r\n",
      "      <td>80</td>\r\n",
      "      <td>80</td>\r\n",
      "      <td>60</td>\r\n",
      "      <td>1</td>\r\n",
      "      <td>False</td>\r\n",
      "    </tr>\r\n",
      "  </tbody>\r\n",
      "</table>"
     ]
    }
   ],
   "source": [
    "#! type data\\pokemons\\pokemons.html\n",
    "! cat data/pokemons/pokemons.html"
   ]
  },
  {
   "cell_type": "markdown",
   "metadata": {},
   "source": [
    "**Optional tip**\n",
    "\n",
    "Just some curiosity about jupyter-notebooks and HTML.\n",
    "\n",
    "You can write HTML code in a markdown cell to render the HTML.\n",
    "For instance, if you try to copy the content HTML file that we read above and paste it in a markdown cell, this will be the result."
   ]
  },
  {
   "cell_type": "markdown",
   "metadata": {},
   "source": [
    "<table border=\"1\" class=\"dataframe\">\n",
    "  <thead>\n",
    "    <tr style=\"text-align: right;\">\n",
    "      <th></th>\n",
    "      <th>Name</th>\n",
    "      <th>Type 1</th>\n",
    "      <th>Type 2</th>\n",
    "      <th>HP</th>\n",
    "      <th>Attack</th>\n",
    "      <th>Defense</th>\n",
    "      <th>Sp. Atk</th>\n",
    "      <th>Sp. Def</th>\n",
    "      <th>Speed</th>\n",
    "      <th>Generation</th>\n",
    "      <th>Legendary</th>\n",
    "    </tr>\n",
    "    <tr>\n",
    "      <th>#</th>\n",
    "      <th></th>\n",
    "      <th></th>\n",
    "      <th></th>\n",
    "      <th></th>\n",
    "      <th></th>\n",
    "      <th></th>\n",
    "      <th></th>\n",
    "      <th></th>\n",
    "      <th></th>\n",
    "      <th></th>\n",
    "      <th></th>\n",
    "    </tr>\n",
    "  </thead>\n",
    "  <tbody>\n",
    "    <tr>\n",
    "      <th>1</th>\n",
    "      <td>Bulbasaur</td>\n",
    "      <td>Grass</td>\n",
    "      <td>Poison</td>\n",
    "      <td>45</td>\n",
    "      <td>49</td>\n",
    "      <td>49</td>\n",
    "      <td>65</td>\n",
    "      <td>65</td>\n",
    "      <td>45</td>\n",
    "      <td>1</td>\n",
    "      <td>False</td>\n",
    "    </tr>\n",
    "    <tr>\n",
    "      <th>2</th>\n",
    "      <td>Ivysaur</td>\n",
    "      <td>Grass</td>\n",
    "      <td>Poison</td>\n",
    "      <td>60</td>\n",
    "      <td>62</td>\n",
    "      <td>63</td>\n",
    "      <td>80</td>\n",
    "      <td>80</td>\n",
    "      <td>60</td>\n",
    "      <td>1</td>\n",
    "      <td>False</td>\n",
    "    </tr>\n",
    "  </tbody>\n",
    "</table>"
   ]
  },
  {
   "cell_type": "markdown",
   "metadata": {},
   "source": [
    "The table even looks pretty because jupyter is running some CSS code by default, to add styles to the output tables."
   ]
  },
  {
   "cell_type": "markdown",
   "metadata": {},
   "source": [
    "However you can't really use it to calculate anything, only displaying it."
   ]
  },
  {
   "cell_type": "markdown",
   "metadata": {},
   "source": [
    "## 3. Reading files with pandas"
   ]
  },
  {
   "cell_type": "markdown",
   "metadata": {},
   "source": [
    "<img src=\"./media/panda_reading.png\" align=\"left\"/>"
   ]
  },
  {
   "cell_type": "markdown",
   "metadata": {},
   "source": [
    "Pandas has a set of functions to read data from files into pandas DataFrames.\n",
    "Their signature looks like\n",
    "\n",
    "```\n",
    "pd.read_XXX(filepath, other arguments)\n",
    "```\n",
    "\n",
    "where XXX should be replaced with the file type: **csv** (for delimiter separated values files), **json**, **excel**, **html**, among others.\n",
    "\n",
    "By now, you should already be familiar with function read_csv. But so far, we've only seen very basic examples of its usage. Let's explore this family of functions a bit more to see how we can handle more complicated situations."
   ]
  },
  {
   "cell_type": "markdown",
   "metadata": {},
   "source": [
    "### 1. read_csv\n",
    "\n",
    "[docs](https://pandas.pydata.org/pandas-docs/stable/generated/pandas.read_csv.html)\n",
    "\n",
    "* **Delimiter type**\n",
    "\n",
    "The read_csv function can be used to read any delimiter separated values file.\n",
    "By default, it assumes that the delimiter character is a comma (hence, read_csv). If we want to use a different delimiter, we can use argument **sep**."
   ]
  },
  {
   "cell_type": "code",
   "execution_count": 14,
   "metadata": {
    "scrolled": true,
    "tags": []
   },
   "outputs": [
    {
     "name": "stdout",
     "output_type": "stream",
     "text": [
      "#\tName\tType 1\tType 2\tHP\tAttack\tDefense\tSp. Atk\tSp. Def\tSpeed\tGeneration\tLegendary\r\n",
      "1\tBulbasaur\tGrass\tPoison\t45\t49\t49\t65\t65\t45\t1\tFalse\r\n",
      "2\tIvysaur\tGrass\tPoison\t60\t62\t63\t80\t80\t60\t1\tFalse\r\n",
      "3\tVenusaur\tGrass\tPoison\t80\t82\t83\t100\t100\t80\t1\tFalse\r\n",
      "4\tMega Venusaur\tGrass\tPoison\t80\t100\t123\t122\t120\t80\t1\tFalse\r\n",
      "5\tCharmander\tFire\t\t39\t52\t43\t60\t50\t65\t1\tFalse\r\n"
     ]
    }
   ],
   "source": [
    "# preview tsv\n",
    "# ! type data\\pokemons\\pokemons_tabs.tsv\n",
    "! cat data/pokemons/pokemons_tabs.tsv"
   ]
  },
  {
   "cell_type": "code",
   "execution_count": 15,
   "metadata": {
    "scrolled": true
   },
   "outputs": [
    {
     "data": {
      "text/html": [
       "<div>\n",
       "<style scoped>\n",
       "    .dataframe tbody tr th:only-of-type {\n",
       "        vertical-align: middle;\n",
       "    }\n",
       "\n",
       "    .dataframe tbody tr th {\n",
       "        vertical-align: top;\n",
       "    }\n",
       "\n",
       "    .dataframe thead th {\n",
       "        text-align: right;\n",
       "    }\n",
       "</style>\n",
       "<table border=\"1\" class=\"dataframe\">\n",
       "  <thead>\n",
       "    <tr style=\"text-align: right;\">\n",
       "      <th></th>\n",
       "      <th>#</th>\n",
       "      <th>Name</th>\n",
       "      <th>Type 1</th>\n",
       "      <th>Type 2</th>\n",
       "      <th>HP</th>\n",
       "      <th>Attack</th>\n",
       "      <th>Defense</th>\n",
       "      <th>Sp. Atk</th>\n",
       "      <th>Sp. Def</th>\n",
       "      <th>Speed</th>\n",
       "      <th>Generation</th>\n",
       "      <th>Legendary</th>\n",
       "    </tr>\n",
       "  </thead>\n",
       "  <tbody>\n",
       "    <tr>\n",
       "      <th>0</th>\n",
       "      <td>1</td>\n",
       "      <td>Bulbasaur</td>\n",
       "      <td>Grass</td>\n",
       "      <td>Poison</td>\n",
       "      <td>45</td>\n",
       "      <td>49</td>\n",
       "      <td>49</td>\n",
       "      <td>65</td>\n",
       "      <td>65</td>\n",
       "      <td>45</td>\n",
       "      <td>1</td>\n",
       "      <td>False</td>\n",
       "    </tr>\n",
       "    <tr>\n",
       "      <th>1</th>\n",
       "      <td>2</td>\n",
       "      <td>Ivysaur</td>\n",
       "      <td>Grass</td>\n",
       "      <td>Poison</td>\n",
       "      <td>60</td>\n",
       "      <td>62</td>\n",
       "      <td>63</td>\n",
       "      <td>80</td>\n",
       "      <td>80</td>\n",
       "      <td>60</td>\n",
       "      <td>1</td>\n",
       "      <td>False</td>\n",
       "    </tr>\n",
       "    <tr>\n",
       "      <th>2</th>\n",
       "      <td>3</td>\n",
       "      <td>Venusaur</td>\n",
       "      <td>Grass</td>\n",
       "      <td>Poison</td>\n",
       "      <td>80</td>\n",
       "      <td>82</td>\n",
       "      <td>83</td>\n",
       "      <td>100</td>\n",
       "      <td>100</td>\n",
       "      <td>80</td>\n",
       "      <td>1</td>\n",
       "      <td>False</td>\n",
       "    </tr>\n",
       "    <tr>\n",
       "      <th>3</th>\n",
       "      <td>4</td>\n",
       "      <td>Mega Venusaur</td>\n",
       "      <td>Grass</td>\n",
       "      <td>Poison</td>\n",
       "      <td>80</td>\n",
       "      <td>100</td>\n",
       "      <td>123</td>\n",
       "      <td>122</td>\n",
       "      <td>120</td>\n",
       "      <td>80</td>\n",
       "      <td>1</td>\n",
       "      <td>False</td>\n",
       "    </tr>\n",
       "    <tr>\n",
       "      <th>4</th>\n",
       "      <td>5</td>\n",
       "      <td>Charmander</td>\n",
       "      <td>Fire</td>\n",
       "      <td>NaN</td>\n",
       "      <td>39</td>\n",
       "      <td>52</td>\n",
       "      <td>43</td>\n",
       "      <td>60</td>\n",
       "      <td>50</td>\n",
       "      <td>65</td>\n",
       "      <td>1</td>\n",
       "      <td>False</td>\n",
       "    </tr>\n",
       "  </tbody>\n",
       "</table>\n",
       "</div>"
      ],
      "text/plain": [
       "   #           Name Type 1  Type 2  HP  Attack  Defense  Sp. Atk  Sp. Def  \\\n",
       "0  1      Bulbasaur  Grass  Poison  45      49       49       65       65   \n",
       "1  2        Ivysaur  Grass  Poison  60      62       63       80       80   \n",
       "2  3       Venusaur  Grass  Poison  80      82       83      100      100   \n",
       "3  4  Mega Venusaur  Grass  Poison  80     100      123      122      120   \n",
       "4  5     Charmander   Fire     NaN  39      52       43       60       50   \n",
       "\n",
       "   Speed  Generation  Legendary  \n",
       "0     45           1      False  \n",
       "1     60           1      False  \n",
       "2     80           1      False  \n",
       "3     80           1      False  \n",
       "4     65           1      False  "
      ]
     },
     "execution_count": 15,
     "metadata": {},
     "output_type": "execute_result"
    }
   ],
   "source": [
    "pd.read_csv(os.path.join('data', 'pokemons', 'pokemons.csv'), sep=',').head()\n",
    "\n",
    "# You can also try this one:\n",
    "#pd.read_csv(os.path.join('data', 'pokemons', 'pokemons_semicol.csv'), sep=';').head()"
   ]
  },
  {
   "cell_type": "markdown",
   "metadata": {},
   "source": [
    "**Tip**\n",
    "\n",
    "Using `os.path.join('path', 'to', 'file')` makes the pathfile OS independent, which means that this command should work both on Windows and Unix."
   ]
  },
  {
   "cell_type": "markdown",
   "metadata": {},
   "source": [
    "* **Using a column as index**\n",
    "\n",
    "If we want to use a certain column as the DataFrame index, we can use the argument **index_col** giving it the name or the number of the column."
   ]
  },
  {
   "cell_type": "code",
   "execution_count": 16,
   "metadata": {
    "scrolled": true
   },
   "outputs": [
    {
     "data": {
      "text/html": [
       "<div>\n",
       "<style scoped>\n",
       "    .dataframe tbody tr th:only-of-type {\n",
       "        vertical-align: middle;\n",
       "    }\n",
       "\n",
       "    .dataframe tbody tr th {\n",
       "        vertical-align: top;\n",
       "    }\n",
       "\n",
       "    .dataframe thead th {\n",
       "        text-align: right;\n",
       "    }\n",
       "</style>\n",
       "<table border=\"1\" class=\"dataframe\">\n",
       "  <thead>\n",
       "    <tr style=\"text-align: right;\">\n",
       "      <th></th>\n",
       "      <th>Name</th>\n",
       "      <th>Type 1</th>\n",
       "      <th>Type 2</th>\n",
       "      <th>HP</th>\n",
       "      <th>Attack</th>\n",
       "      <th>Defense</th>\n",
       "      <th>Sp. Atk</th>\n",
       "      <th>Sp. Def</th>\n",
       "      <th>Speed</th>\n",
       "      <th>Generation</th>\n",
       "      <th>Legendary</th>\n",
       "    </tr>\n",
       "    <tr>\n",
       "      <th>#</th>\n",
       "      <th></th>\n",
       "      <th></th>\n",
       "      <th></th>\n",
       "      <th></th>\n",
       "      <th></th>\n",
       "      <th></th>\n",
       "      <th></th>\n",
       "      <th></th>\n",
       "      <th></th>\n",
       "      <th></th>\n",
       "      <th></th>\n",
       "    </tr>\n",
       "  </thead>\n",
       "  <tbody>\n",
       "    <tr>\n",
       "      <th>1</th>\n",
       "      <td>Bulbasaur</td>\n",
       "      <td>Grass</td>\n",
       "      <td>Poison</td>\n",
       "      <td>45</td>\n",
       "      <td>49</td>\n",
       "      <td>49</td>\n",
       "      <td>65</td>\n",
       "      <td>65</td>\n",
       "      <td>45</td>\n",
       "      <td>1</td>\n",
       "      <td>False</td>\n",
       "    </tr>\n",
       "    <tr>\n",
       "      <th>2</th>\n",
       "      <td>Ivysaur</td>\n",
       "      <td>Grass</td>\n",
       "      <td>Poison</td>\n",
       "      <td>60</td>\n",
       "      <td>62</td>\n",
       "      <td>63</td>\n",
       "      <td>80</td>\n",
       "      <td>80</td>\n",
       "      <td>60</td>\n",
       "      <td>1</td>\n",
       "      <td>False</td>\n",
       "    </tr>\n",
       "    <tr>\n",
       "      <th>3</th>\n",
       "      <td>Venusaur</td>\n",
       "      <td>Grass</td>\n",
       "      <td>Poison</td>\n",
       "      <td>80</td>\n",
       "      <td>82</td>\n",
       "      <td>83</td>\n",
       "      <td>100</td>\n",
       "      <td>100</td>\n",
       "      <td>80</td>\n",
       "      <td>1</td>\n",
       "      <td>False</td>\n",
       "    </tr>\n",
       "    <tr>\n",
       "      <th>4</th>\n",
       "      <td>Mega Venusaur</td>\n",
       "      <td>Grass</td>\n",
       "      <td>Poison</td>\n",
       "      <td>80</td>\n",
       "      <td>100</td>\n",
       "      <td>123</td>\n",
       "      <td>122</td>\n",
       "      <td>120</td>\n",
       "      <td>80</td>\n",
       "      <td>1</td>\n",
       "      <td>False</td>\n",
       "    </tr>\n",
       "    <tr>\n",
       "      <th>5</th>\n",
       "      <td>Charmander</td>\n",
       "      <td>Fire</td>\n",
       "      <td>NaN</td>\n",
       "      <td>39</td>\n",
       "      <td>52</td>\n",
       "      <td>43</td>\n",
       "      <td>60</td>\n",
       "      <td>50</td>\n",
       "      <td>65</td>\n",
       "      <td>1</td>\n",
       "      <td>False</td>\n",
       "    </tr>\n",
       "  </tbody>\n",
       "</table>\n",
       "</div>"
      ],
      "text/plain": [
       "            Name Type 1  Type 2  HP  Attack  Defense  Sp. Atk  Sp. Def  Speed  \\\n",
       "#                                                                               \n",
       "1      Bulbasaur  Grass  Poison  45      49       49       65       65     45   \n",
       "2        Ivysaur  Grass  Poison  60      62       63       80       80     60   \n",
       "3       Venusaur  Grass  Poison  80      82       83      100      100     80   \n",
       "4  Mega Venusaur  Grass  Poison  80     100      123      122      120     80   \n",
       "5     Charmander   Fire     NaN  39      52       43       60       50     65   \n",
       "\n",
       "   Generation  Legendary  \n",
       "#                         \n",
       "1           1      False  \n",
       "2           1      False  \n",
       "3           1      False  \n",
       "4           1      False  \n",
       "5           1      False  "
      ]
     },
     "execution_count": 16,
     "metadata": {},
     "output_type": "execute_result"
    }
   ],
   "source": [
    "pd.read_csv(os.path.join('data', 'pokemons', 'pokemons_short.csv'), index_col='#')\n",
    "\n",
    "# Using the index column number instead of name would be\n",
    "# pd.read_csv(os.path.join('data', 'pokemons', 'pokemons_short.csv'), index_col=0)"
   ]
  },
  {
   "cell_type": "markdown",
   "metadata": {},
   "source": [
    "* **Specifying column names**\n",
    "\n",
    "read_csv assumes that the first row in the file has the column names. If the file doesn't have column names, this can be inconvenient! To avoid this, we can specify the column names to use, with argument **names**."
   ]
  },
  {
   "cell_type": "code",
   "execution_count": 17,
   "metadata": {
    "tags": []
   },
   "outputs": [
    {
     "name": "stdout",
     "output_type": "stream",
     "text": [
      "1,Bulbasaur,Grass,Poison,45,49,49,65,65,45,1,False\r\n",
      "2,Ivysaur,Grass,Poison,60,62,63,80,80,60,1,False\r\n",
      "3,Venusaur,Grass,Poison,80,82,83,100,100,80,1,False\r\n",
      "4,Mega Venusaur,Grass,Poison,80,100,123,122,120,80,1,False\r\n",
      "5,Charmander,Fire,,39,52,43,60,50,65,1,False\r\n"
     ]
    }
   ],
   "source": [
    "# preview file without column names\n",
    "# ! type data\\pokemons\\pokemons_no_names.csv\n",
    "! cat data/pokemons/pokemons_no_names.csv"
   ]
  },
  {
   "cell_type": "code",
   "execution_count": 18,
   "metadata": {
    "scrolled": true
   },
   "outputs": [
    {
     "data": {
      "text/html": [
       "<div>\n",
       "<style scoped>\n",
       "    .dataframe tbody tr th:only-of-type {\n",
       "        vertical-align: middle;\n",
       "    }\n",
       "\n",
       "    .dataframe tbody tr th {\n",
       "        vertical-align: top;\n",
       "    }\n",
       "\n",
       "    .dataframe thead th {\n",
       "        text-align: right;\n",
       "    }\n",
       "</style>\n",
       "<table border=\"1\" class=\"dataframe\">\n",
       "  <thead>\n",
       "    <tr style=\"text-align: right;\">\n",
       "      <th></th>\n",
       "      <th>#</th>\n",
       "      <th>Name</th>\n",
       "      <th>Type 1</th>\n",
       "      <th>Type 2</th>\n",
       "      <th>HP</th>\n",
       "      <th>Attack</th>\n",
       "      <th>Defense</th>\n",
       "      <th>Sp. Atk</th>\n",
       "      <th>Sp. Def</th>\n",
       "      <th>Speed</th>\n",
       "      <th>Generation</th>\n",
       "      <th>Legendary</th>\n",
       "    </tr>\n",
       "  </thead>\n",
       "  <tbody>\n",
       "    <tr>\n",
       "      <th>0</th>\n",
       "      <td>1</td>\n",
       "      <td>Bulbasaur</td>\n",
       "      <td>Grass</td>\n",
       "      <td>Poison</td>\n",
       "      <td>45</td>\n",
       "      <td>49</td>\n",
       "      <td>49</td>\n",
       "      <td>65</td>\n",
       "      <td>65</td>\n",
       "      <td>45</td>\n",
       "      <td>1</td>\n",
       "      <td>False</td>\n",
       "    </tr>\n",
       "    <tr>\n",
       "      <th>1</th>\n",
       "      <td>2</td>\n",
       "      <td>Ivysaur</td>\n",
       "      <td>Grass</td>\n",
       "      <td>Poison</td>\n",
       "      <td>60</td>\n",
       "      <td>62</td>\n",
       "      <td>63</td>\n",
       "      <td>80</td>\n",
       "      <td>80</td>\n",
       "      <td>60</td>\n",
       "      <td>1</td>\n",
       "      <td>False</td>\n",
       "    </tr>\n",
       "    <tr>\n",
       "      <th>2</th>\n",
       "      <td>3</td>\n",
       "      <td>Venusaur</td>\n",
       "      <td>Grass</td>\n",
       "      <td>Poison</td>\n",
       "      <td>80</td>\n",
       "      <td>82</td>\n",
       "      <td>83</td>\n",
       "      <td>100</td>\n",
       "      <td>100</td>\n",
       "      <td>80</td>\n",
       "      <td>1</td>\n",
       "      <td>False</td>\n",
       "    </tr>\n",
       "    <tr>\n",
       "      <th>3</th>\n",
       "      <td>4</td>\n",
       "      <td>Mega Venusaur</td>\n",
       "      <td>Grass</td>\n",
       "      <td>Poison</td>\n",
       "      <td>80</td>\n",
       "      <td>100</td>\n",
       "      <td>123</td>\n",
       "      <td>122</td>\n",
       "      <td>120</td>\n",
       "      <td>80</td>\n",
       "      <td>1</td>\n",
       "      <td>False</td>\n",
       "    </tr>\n",
       "    <tr>\n",
       "      <th>4</th>\n",
       "      <td>5</td>\n",
       "      <td>Charmander</td>\n",
       "      <td>Fire</td>\n",
       "      <td>NaN</td>\n",
       "      <td>39</td>\n",
       "      <td>52</td>\n",
       "      <td>43</td>\n",
       "      <td>60</td>\n",
       "      <td>50</td>\n",
       "      <td>65</td>\n",
       "      <td>1</td>\n",
       "      <td>False</td>\n",
       "    </tr>\n",
       "  </tbody>\n",
       "</table>\n",
       "</div>"
      ],
      "text/plain": [
       "   #           Name Type 1  Type 2  HP  Attack  Defense  Sp. Atk  Sp. Def  \\\n",
       "0  1      Bulbasaur  Grass  Poison  45      49       49       65       65   \n",
       "1  2        Ivysaur  Grass  Poison  60      62       63       80       80   \n",
       "2  3       Venusaur  Grass  Poison  80      82       83      100      100   \n",
       "3  4  Mega Venusaur  Grass  Poison  80     100      123      122      120   \n",
       "4  5     Charmander   Fire     NaN  39      52       43       60       50   \n",
       "\n",
       "   Speed  Generation  Legendary  \n",
       "0     45           1      False  \n",
       "1     60           1      False  \n",
       "2     80           1      False  \n",
       "3     80           1      False  \n",
       "4     65           1      False  "
      ]
     },
     "execution_count": 18,
     "metadata": {},
     "output_type": "execute_result"
    }
   ],
   "source": [
    "cols = ['#', 'Name', 'Type 1', 'Type 2', 'HP', 'Attack', 'Defense', 'Sp. Atk',\n",
    "       'Sp. Def', 'Speed', 'Generation', 'Legendary']\n",
    "pd.read_csv(os.path.join('data', 'pokemons', 'pokemons_no_names.csv'), names=cols)"
   ]
  },
  {
   "cell_type": "markdown",
   "metadata": {},
   "source": [
    "Also, if the file has column names but we want to override them, we can still use argument **names**. But we need to add argument **header** too: this argument specifies in which line the column names are.\n",
    "\n",
    "So, header=0 means that the header (column names) is the first line, and names=list_of_names means that we want to use list_of_names instead of the current header."
   ]
  },
  {
   "cell_type": "code",
   "execution_count": 19,
   "metadata": {
    "scrolled": true,
    "tags": []
   },
   "outputs": [
    {
     "name": "stdout",
     "output_type": "stream",
     "text": [
      "Col_1,Col_2,Col_3,Col_4,Col_5,Col_6,Col_7,Col_8,Col_9,Col_10,Col_11,Col_12\r\n",
      "1,Bulbasaur,Grass,Poison,45,49,49,65,65,45,1,False\r\n",
      "2,Ivysaur,Grass,Poison,60,62,63,80,80,60,1,False\r\n",
      "3,Venusaur,Grass,Poison,80,82,83,100,100,80,1,False\r\n",
      "4,Mega Venusaur,Grass,Poison,80,100,123,122,120,80,1,False\r\n",
      "5,Charmander,Fire,,39,52,43,60,50,65,1,False\r\n"
     ]
    }
   ],
   "source": [
    "# preview file with meaningless column names\n",
    "# ! type data\\pokemons\\pokemons_meaningless_names.csv\n",
    "! cat ./data/pokemons/pokemons_meaningless_names.csv"
   ]
  },
  {
   "cell_type": "code",
   "execution_count": 20,
   "metadata": {
    "scrolled": true
   },
   "outputs": [
    {
     "data": {
      "text/html": [
       "<div>\n",
       "<style scoped>\n",
       "    .dataframe tbody tr th:only-of-type {\n",
       "        vertical-align: middle;\n",
       "    }\n",
       "\n",
       "    .dataframe tbody tr th {\n",
       "        vertical-align: top;\n",
       "    }\n",
       "\n",
       "    .dataframe thead th {\n",
       "        text-align: right;\n",
       "    }\n",
       "</style>\n",
       "<table border=\"1\" class=\"dataframe\">\n",
       "  <thead>\n",
       "    <tr style=\"text-align: right;\">\n",
       "      <th></th>\n",
       "      <th>#</th>\n",
       "      <th>My Name</th>\n",
       "      <th>My Type 1</th>\n",
       "      <th>My Type 2</th>\n",
       "      <th>My HP</th>\n",
       "      <th>My Attack</th>\n",
       "      <th>My Defense</th>\n",
       "      <th>My Sp. Atk</th>\n",
       "      <th>My Sp. Def</th>\n",
       "      <th>My Speed</th>\n",
       "      <th>My Generation</th>\n",
       "      <th>My Legendary</th>\n",
       "    </tr>\n",
       "  </thead>\n",
       "  <tbody>\n",
       "    <tr>\n",
       "      <th>0</th>\n",
       "      <td>1</td>\n",
       "      <td>Bulbasaur</td>\n",
       "      <td>Grass</td>\n",
       "      <td>Poison</td>\n",
       "      <td>45</td>\n",
       "      <td>49</td>\n",
       "      <td>49</td>\n",
       "      <td>65</td>\n",
       "      <td>65</td>\n",
       "      <td>45</td>\n",
       "      <td>1</td>\n",
       "      <td>False</td>\n",
       "    </tr>\n",
       "    <tr>\n",
       "      <th>1</th>\n",
       "      <td>2</td>\n",
       "      <td>Ivysaur</td>\n",
       "      <td>Grass</td>\n",
       "      <td>Poison</td>\n",
       "      <td>60</td>\n",
       "      <td>62</td>\n",
       "      <td>63</td>\n",
       "      <td>80</td>\n",
       "      <td>80</td>\n",
       "      <td>60</td>\n",
       "      <td>1</td>\n",
       "      <td>False</td>\n",
       "    </tr>\n",
       "    <tr>\n",
       "      <th>2</th>\n",
       "      <td>3</td>\n",
       "      <td>Venusaur</td>\n",
       "      <td>Grass</td>\n",
       "      <td>Poison</td>\n",
       "      <td>80</td>\n",
       "      <td>82</td>\n",
       "      <td>83</td>\n",
       "      <td>100</td>\n",
       "      <td>100</td>\n",
       "      <td>80</td>\n",
       "      <td>1</td>\n",
       "      <td>False</td>\n",
       "    </tr>\n",
       "    <tr>\n",
       "      <th>3</th>\n",
       "      <td>4</td>\n",
       "      <td>Mega Venusaur</td>\n",
       "      <td>Grass</td>\n",
       "      <td>Poison</td>\n",
       "      <td>80</td>\n",
       "      <td>100</td>\n",
       "      <td>123</td>\n",
       "      <td>122</td>\n",
       "      <td>120</td>\n",
       "      <td>80</td>\n",
       "      <td>1</td>\n",
       "      <td>False</td>\n",
       "    </tr>\n",
       "    <tr>\n",
       "      <th>4</th>\n",
       "      <td>5</td>\n",
       "      <td>Charmander</td>\n",
       "      <td>Fire</td>\n",
       "      <td>NaN</td>\n",
       "      <td>39</td>\n",
       "      <td>52</td>\n",
       "      <td>43</td>\n",
       "      <td>60</td>\n",
       "      <td>50</td>\n",
       "      <td>65</td>\n",
       "      <td>1</td>\n",
       "      <td>False</td>\n",
       "    </tr>\n",
       "  </tbody>\n",
       "</table>\n",
       "</div>"
      ],
      "text/plain": [
       "   #        My Name My Type 1 My Type 2  My HP  My Attack  My Defense  \\\n",
       "0  1      Bulbasaur     Grass    Poison     45         49          49   \n",
       "1  2        Ivysaur     Grass    Poison     60         62          63   \n",
       "2  3       Venusaur     Grass    Poison     80         82          83   \n",
       "3  4  Mega Venusaur     Grass    Poison     80        100         123   \n",
       "4  5     Charmander      Fire       NaN     39         52          43   \n",
       "\n",
       "   My Sp. Atk  My Sp. Def  My Speed  My Generation  My Legendary  \n",
       "0          65          65        45              1         False  \n",
       "1          80          80        60              1         False  \n",
       "2         100         100        80              1         False  \n",
       "3         122         120        80              1         False  \n",
       "4          60          50        65              1         False  "
      ]
     },
     "execution_count": 20,
     "metadata": {},
     "output_type": "execute_result"
    }
   ],
   "source": [
    "cols = ['#', 'My Name', 'My Type 1', 'My Type 2', 'My HP', 'My Attack', 'My Defense', 'My Sp. Atk',\n",
    "       'My Sp. Def', 'My Speed', 'My Generation', 'My Legendary']\n",
    "pd.read_csv(os.path.join('data', 'pokemons', 'pokemons_meaningless_names.csv'), names=cols, header=0)"
   ]
  },
  {
   "cell_type": "markdown",
   "metadata": {},
   "source": [
    "* **Ignoring blank lines**\n",
    "\n",
    "By default, empty lines are ignored by read_csv.\n",
    "If we're interested in detecting empty lines, we can use argument **skip_blank_lines=False** to see the empty lines in the DataFrame as NaNs."
   ]
  },
  {
   "cell_type": "code",
   "execution_count": 21,
   "metadata": {
    "scrolled": true,
    "tags": []
   },
   "outputs": [
    {
     "name": "stdout",
     "output_type": "stream",
     "text": [
      "#,Name,Type 1,Type 2,HP,Attack,Defense,Sp. Atk,Sp. Def,Speed,Generation,Legendary\r\n",
      "1,Bulbasaur,Grass,Poison,45,49,49,65,65,45,1,False\r\n",
      "2,Ivysaur,Grass,Poison,60,62,63,80,80,60,1,False\r\n",
      "\r\n",
      "3,Venusaur,Grass,Poison,80,82,83,100,100,80,1,False\r\n",
      "\r\n",
      "4,Mega Venusaur,Grass,Poison,80,100,123,122,120,80,1,False\r\n",
      "5,Charmander,Fire,,39,52,43,60,50,65,1,False\r\n"
     ]
    }
   ],
   "source": [
    "# preview file with blank rows\n",
    "# ! type data\\pokemons\\pokemons_blank_rows.csv\n",
    "! cat ./data/pokemons/pokemons_blank_rows.csv"
   ]
  },
  {
   "cell_type": "code",
   "execution_count": 22,
   "metadata": {
    "scrolled": true
   },
   "outputs": [
    {
     "data": {
      "text/html": [
       "<div>\n",
       "<style scoped>\n",
       "    .dataframe tbody tr th:only-of-type {\n",
       "        vertical-align: middle;\n",
       "    }\n",
       "\n",
       "    .dataframe tbody tr th {\n",
       "        vertical-align: top;\n",
       "    }\n",
       "\n",
       "    .dataframe thead th {\n",
       "        text-align: right;\n",
       "    }\n",
       "</style>\n",
       "<table border=\"1\" class=\"dataframe\">\n",
       "  <thead>\n",
       "    <tr style=\"text-align: right;\">\n",
       "      <th></th>\n",
       "      <th>#</th>\n",
       "      <th>Name</th>\n",
       "      <th>Type 1</th>\n",
       "      <th>Type 2</th>\n",
       "      <th>HP</th>\n",
       "      <th>Attack</th>\n",
       "      <th>Defense</th>\n",
       "      <th>Sp. Atk</th>\n",
       "      <th>Sp. Def</th>\n",
       "      <th>Speed</th>\n",
       "      <th>Generation</th>\n",
       "      <th>Legendary</th>\n",
       "    </tr>\n",
       "  </thead>\n",
       "  <tbody>\n",
       "    <tr>\n",
       "      <th>0</th>\n",
       "      <td>1.0</td>\n",
       "      <td>Bulbasaur</td>\n",
       "      <td>Grass</td>\n",
       "      <td>Poison</td>\n",
       "      <td>45.0</td>\n",
       "      <td>49.0</td>\n",
       "      <td>49.0</td>\n",
       "      <td>65.0</td>\n",
       "      <td>65.0</td>\n",
       "      <td>45.0</td>\n",
       "      <td>1.0</td>\n",
       "      <td>False</td>\n",
       "    </tr>\n",
       "    <tr>\n",
       "      <th>1</th>\n",
       "      <td>2.0</td>\n",
       "      <td>Ivysaur</td>\n",
       "      <td>Grass</td>\n",
       "      <td>Poison</td>\n",
       "      <td>60.0</td>\n",
       "      <td>62.0</td>\n",
       "      <td>63.0</td>\n",
       "      <td>80.0</td>\n",
       "      <td>80.0</td>\n",
       "      <td>60.0</td>\n",
       "      <td>1.0</td>\n",
       "      <td>False</td>\n",
       "    </tr>\n",
       "    <tr>\n",
       "      <th>2</th>\n",
       "      <td>NaN</td>\n",
       "      <td>NaN</td>\n",
       "      <td>NaN</td>\n",
       "      <td>NaN</td>\n",
       "      <td>NaN</td>\n",
       "      <td>NaN</td>\n",
       "      <td>NaN</td>\n",
       "      <td>NaN</td>\n",
       "      <td>NaN</td>\n",
       "      <td>NaN</td>\n",
       "      <td>NaN</td>\n",
       "      <td>NaN</td>\n",
       "    </tr>\n",
       "    <tr>\n",
       "      <th>3</th>\n",
       "      <td>3.0</td>\n",
       "      <td>Venusaur</td>\n",
       "      <td>Grass</td>\n",
       "      <td>Poison</td>\n",
       "      <td>80.0</td>\n",
       "      <td>82.0</td>\n",
       "      <td>83.0</td>\n",
       "      <td>100.0</td>\n",
       "      <td>100.0</td>\n",
       "      <td>80.0</td>\n",
       "      <td>1.0</td>\n",
       "      <td>False</td>\n",
       "    </tr>\n",
       "    <tr>\n",
       "      <th>4</th>\n",
       "      <td>NaN</td>\n",
       "      <td>NaN</td>\n",
       "      <td>NaN</td>\n",
       "      <td>NaN</td>\n",
       "      <td>NaN</td>\n",
       "      <td>NaN</td>\n",
       "      <td>NaN</td>\n",
       "      <td>NaN</td>\n",
       "      <td>NaN</td>\n",
       "      <td>NaN</td>\n",
       "      <td>NaN</td>\n",
       "      <td>NaN</td>\n",
       "    </tr>\n",
       "    <tr>\n",
       "      <th>5</th>\n",
       "      <td>4.0</td>\n",
       "      <td>Mega Venusaur</td>\n",
       "      <td>Grass</td>\n",
       "      <td>Poison</td>\n",
       "      <td>80.0</td>\n",
       "      <td>100.0</td>\n",
       "      <td>123.0</td>\n",
       "      <td>122.0</td>\n",
       "      <td>120.0</td>\n",
       "      <td>80.0</td>\n",
       "      <td>1.0</td>\n",
       "      <td>False</td>\n",
       "    </tr>\n",
       "    <tr>\n",
       "      <th>6</th>\n",
       "      <td>5.0</td>\n",
       "      <td>Charmander</td>\n",
       "      <td>Fire</td>\n",
       "      <td>NaN</td>\n",
       "      <td>39.0</td>\n",
       "      <td>52.0</td>\n",
       "      <td>43.0</td>\n",
       "      <td>60.0</td>\n",
       "      <td>50.0</td>\n",
       "      <td>65.0</td>\n",
       "      <td>1.0</td>\n",
       "      <td>False</td>\n",
       "    </tr>\n",
       "  </tbody>\n",
       "</table>\n",
       "</div>"
      ],
      "text/plain": [
       "     #           Name Type 1  Type 2    HP  Attack  Defense  Sp. Atk  Sp. Def  \\\n",
       "0  1.0      Bulbasaur  Grass  Poison  45.0    49.0     49.0     65.0     65.0   \n",
       "1  2.0        Ivysaur  Grass  Poison  60.0    62.0     63.0     80.0     80.0   \n",
       "2  NaN            NaN    NaN     NaN   NaN     NaN      NaN      NaN      NaN   \n",
       "3  3.0       Venusaur  Grass  Poison  80.0    82.0     83.0    100.0    100.0   \n",
       "4  NaN            NaN    NaN     NaN   NaN     NaN      NaN      NaN      NaN   \n",
       "5  4.0  Mega Venusaur  Grass  Poison  80.0   100.0    123.0    122.0    120.0   \n",
       "6  5.0     Charmander   Fire     NaN  39.0    52.0     43.0     60.0     50.0   \n",
       "\n",
       "   Speed  Generation Legendary  \n",
       "0   45.0         1.0     False  \n",
       "1   60.0         1.0     False  \n",
       "2    NaN         NaN       NaN  \n",
       "3   80.0         1.0     False  \n",
       "4    NaN         NaN       NaN  \n",
       "5   80.0         1.0     False  \n",
       "6   65.0         1.0     False  "
      ]
     },
     "execution_count": 22,
     "metadata": {},
     "output_type": "execute_result"
    }
   ],
   "source": [
    "pd.read_csv(os.path.join('data', 'pokemons', 'pokemons_blank_rows.csv'), skip_blank_lines=False)"
   ]
  },
  {
   "cell_type": "markdown",
   "metadata": {},
   "source": [
    "* **Replacing NA values**\n",
    "\n",
    "There are some values that are interpreted as NaNs by default, like the string 'NaN' or a null value.\n",
    "If we want to additionally consider other values as NaNs, we can use argument **na_values** for that."
   ]
  },
  {
   "cell_type": "code",
   "execution_count": 23,
   "metadata": {
    "scrolled": true,
    "tags": []
   },
   "outputs": [
    {
     "name": "stdout",
     "output_type": "stream",
     "text": [
      "#,Name,Type 1,Type 2,HP,Attack,Defense,Sp. Atk,Sp. Def,Speed,Generation,Legendary\r\n",
      "1,Bulbasaur,Grass,Poison,45,49,49,65,65,45,1,False\r\n",
      "2,Unknown,Grass,Poison,60,62,63,80,80,60,1,???\r\n",
      "3,Venusaur,Grass,Poison,80,82,83,100,100,80,1,False\r\n",
      "4,Mega Venusaur,Grass,Poison,80,100,123,122,120,80,1,???\r\n",
      "5,Unknown,Fire,,39,52,43,60,50,65,1,False\r\n"
     ]
    }
   ],
   "source": [
    "# in this file, we have some missing values marked as Unknown and ???\n",
    "# ! type data\\pokemons\\pokemons_missing_values.csv\n",
    "! cat ./data/pokemons/pokemons_missing_values.csv"
   ]
  },
  {
   "cell_type": "code",
   "execution_count": 24,
   "metadata": {
    "scrolled": false
   },
   "outputs": [
    {
     "data": {
      "text/html": [
       "<div>\n",
       "<style scoped>\n",
       "    .dataframe tbody tr th:only-of-type {\n",
       "        vertical-align: middle;\n",
       "    }\n",
       "\n",
       "    .dataframe tbody tr th {\n",
       "        vertical-align: top;\n",
       "    }\n",
       "\n",
       "    .dataframe thead th {\n",
       "        text-align: right;\n",
       "    }\n",
       "</style>\n",
       "<table border=\"1\" class=\"dataframe\">\n",
       "  <thead>\n",
       "    <tr style=\"text-align: right;\">\n",
       "      <th></th>\n",
       "      <th>#</th>\n",
       "      <th>Name</th>\n",
       "      <th>Type 1</th>\n",
       "      <th>Type 2</th>\n",
       "      <th>HP</th>\n",
       "      <th>Attack</th>\n",
       "      <th>Defense</th>\n",
       "      <th>Sp. Atk</th>\n",
       "      <th>Sp. Def</th>\n",
       "      <th>Speed</th>\n",
       "      <th>Generation</th>\n",
       "      <th>Legendary</th>\n",
       "    </tr>\n",
       "  </thead>\n",
       "  <tbody>\n",
       "    <tr>\n",
       "      <th>0</th>\n",
       "      <td>1</td>\n",
       "      <td>Bulbasaur</td>\n",
       "      <td>Grass</td>\n",
       "      <td>Poison</td>\n",
       "      <td>45</td>\n",
       "      <td>49</td>\n",
       "      <td>49</td>\n",
       "      <td>65</td>\n",
       "      <td>65</td>\n",
       "      <td>45</td>\n",
       "      <td>1</td>\n",
       "      <td>False</td>\n",
       "    </tr>\n",
       "    <tr>\n",
       "      <th>1</th>\n",
       "      <td>2</td>\n",
       "      <td>NaN</td>\n",
       "      <td>Grass</td>\n",
       "      <td>Poison</td>\n",
       "      <td>60</td>\n",
       "      <td>62</td>\n",
       "      <td>63</td>\n",
       "      <td>80</td>\n",
       "      <td>80</td>\n",
       "      <td>60</td>\n",
       "      <td>1</td>\n",
       "      <td>NaN</td>\n",
       "    </tr>\n",
       "    <tr>\n",
       "      <th>2</th>\n",
       "      <td>3</td>\n",
       "      <td>Venusaur</td>\n",
       "      <td>Grass</td>\n",
       "      <td>Poison</td>\n",
       "      <td>80</td>\n",
       "      <td>82</td>\n",
       "      <td>83</td>\n",
       "      <td>100</td>\n",
       "      <td>100</td>\n",
       "      <td>80</td>\n",
       "      <td>1</td>\n",
       "      <td>False</td>\n",
       "    </tr>\n",
       "    <tr>\n",
       "      <th>3</th>\n",
       "      <td>4</td>\n",
       "      <td>Mega Venusaur</td>\n",
       "      <td>Grass</td>\n",
       "      <td>Poison</td>\n",
       "      <td>80</td>\n",
       "      <td>100</td>\n",
       "      <td>123</td>\n",
       "      <td>122</td>\n",
       "      <td>120</td>\n",
       "      <td>80</td>\n",
       "      <td>1</td>\n",
       "      <td>NaN</td>\n",
       "    </tr>\n",
       "    <tr>\n",
       "      <th>4</th>\n",
       "      <td>5</td>\n",
       "      <td>NaN</td>\n",
       "      <td>Fire</td>\n",
       "      <td>NaN</td>\n",
       "      <td>39</td>\n",
       "      <td>52</td>\n",
       "      <td>43</td>\n",
       "      <td>60</td>\n",
       "      <td>50</td>\n",
       "      <td>65</td>\n",
       "      <td>1</td>\n",
       "      <td>False</td>\n",
       "    </tr>\n",
       "  </tbody>\n",
       "</table>\n",
       "</div>"
      ],
      "text/plain": [
       "   #           Name Type 1  Type 2  HP  Attack  Defense  Sp. Atk  Sp. Def  \\\n",
       "0  1      Bulbasaur  Grass  Poison  45      49       49       65       65   \n",
       "1  2            NaN  Grass  Poison  60      62       63       80       80   \n",
       "2  3       Venusaur  Grass  Poison  80      82       83      100      100   \n",
       "3  4  Mega Venusaur  Grass  Poison  80     100      123      122      120   \n",
       "4  5            NaN   Fire     NaN  39      52       43       60       50   \n",
       "\n",
       "   Speed  Generation Legendary  \n",
       "0     45           1     False  \n",
       "1     60           1       NaN  \n",
       "2     80           1     False  \n",
       "3     80           1       NaN  \n",
       "4     65           1     False  "
      ]
     },
     "execution_count": 24,
     "metadata": {},
     "output_type": "execute_result"
    }
   ],
   "source": [
    "# recognize Unknown in column Name as NaN, recognize ??? in column Legendary as NaN\n",
    "pd.read_csv(\n",
    "    os.path.join('data', 'pokemons', 'pokemons_missing_values.csv'),\n",
    "    na_values={'Name': 'Unknown', 'Legendary': '???'}\n",
    ")"
   ]
  },
  {
   "cell_type": "markdown",
   "metadata": {},
   "source": [
    "* **Decimal separator**\n",
    "\n",
    "Number separators is an issue that has divided the world. For instance:\n",
    "\n",
    "```\n",
    "3,141.592\n",
    "```\n",
    "\n",
    "For Europeans, this is the $\\pi$ number, rounded to six decimal cases.\n",
    "While for Americans, this is more or less the number of million dollars that Donald Trump has (according to [Forbes](https://www.forbes.com/profile/donald-trump/), and it might be outdated now...).\n",
    "\n",
    "So, depending where our data comes from, we may need to specify the decimal separator to use when reading a file. For this, we can use the **decimal** argument."
   ]
  },
  {
   "cell_type": "code",
   "execution_count": 25,
   "metadata": {},
   "outputs": [
    {
     "data": {
      "text/html": [
       "<div>\n",
       "<style scoped>\n",
       "    .dataframe tbody tr th:only-of-type {\n",
       "        vertical-align: middle;\n",
       "    }\n",
       "\n",
       "    .dataframe tbody tr th {\n",
       "        vertical-align: top;\n",
       "    }\n",
       "\n",
       "    .dataframe thead th {\n",
       "        text-align: right;\n",
       "    }\n",
       "</style>\n",
       "<table border=\"1\" class=\"dataframe\">\n",
       "  <thead>\n",
       "    <tr style=\"text-align: right;\">\n",
       "      <th></th>\n",
       "      <th>#</th>\n",
       "      <th>Combats</th>\n",
       "      <th>Wins</th>\n",
       "      <th>Wins (%)</th>\n",
       "    </tr>\n",
       "  </thead>\n",
       "  <tbody>\n",
       "    <tr>\n",
       "      <th>0</th>\n",
       "      <td>1</td>\n",
       "      <td>133</td>\n",
       "      <td>37</td>\n",
       "      <td>0,2781954887218045</td>\n",
       "    </tr>\n",
       "    <tr>\n",
       "      <th>1</th>\n",
       "      <td>2</td>\n",
       "      <td>121</td>\n",
       "      <td>46</td>\n",
       "      <td>0,38016528925619836</td>\n",
       "    </tr>\n",
       "    <tr>\n",
       "      <th>2</th>\n",
       "      <td>3</td>\n",
       "      <td>132</td>\n",
       "      <td>89</td>\n",
       "      <td>0,6742424242424242</td>\n",
       "    </tr>\n",
       "    <tr>\n",
       "      <th>3</th>\n",
       "      <td>4</td>\n",
       "      <td>125</td>\n",
       "      <td>70</td>\n",
       "      <td>0,56</td>\n",
       "    </tr>\n",
       "    <tr>\n",
       "      <th>4</th>\n",
       "      <td>5</td>\n",
       "      <td>112</td>\n",
       "      <td>55</td>\n",
       "      <td>0,49107142857142855</td>\n",
       "    </tr>\n",
       "  </tbody>\n",
       "</table>\n",
       "</div>"
      ],
      "text/plain": [
       "   #  Combats  Wins             Wins (%)\n",
       "0  1      133    37   0,2781954887218045\n",
       "1  2      121    46  0,38016528925619836\n",
       "2  3      132    89   0,6742424242424242\n",
       "3  4      125    70                 0,56\n",
       "4  5      112    55  0,49107142857142855"
      ]
     },
     "execution_count": 25,
     "metadata": {},
     "output_type": "execute_result"
    }
   ],
   "source": [
    "# Reading a file with a dot as decimal separator (default)\n",
    "combats = pd.read_csv(os.path.join('data', 'pokemons', 'pokemons_stats.csv'), sep=';')\n",
    "combats"
   ]
  },
  {
   "cell_type": "code",
   "execution_count": 26,
   "metadata": {},
   "outputs": [
    {
     "data": {
      "text/plain": [
       "#            int64\n",
       "Combats      int64\n",
       "Wins         int64\n",
       "Wins (%)    object\n",
       "dtype: object"
      ]
     },
     "execution_count": 26,
     "metadata": {},
     "output_type": "execute_result"
    }
   ],
   "source": [
    "# read_csv interprets the \"Wins (%)\" columns as object (i.e, as strings)\n",
    "combats.dtypes"
   ]
  },
  {
   "cell_type": "code",
   "execution_count": 27,
   "metadata": {
    "scrolled": true
   },
   "outputs": [
    {
     "data": {
      "text/plain": [
       "#             int64\n",
       "Combats       int64\n",
       "Wins          int64\n",
       "Wins (%)    float64\n",
       "dtype: object"
      ]
     },
     "execution_count": 27,
     "metadata": {},
     "output_type": "execute_result"
    }
   ],
   "source": [
    "# reading a file with the right decimal separator specification\n",
    "combats = pd.read_csv(os.path.join('data', 'pokemons', 'pokemons_stats.csv'), sep=';', decimal=',')\n",
    "\n",
    "# read_csv interprets the \"Wins (%)\" columns as float\n",
    "combats.dtypes"
   ]
  },
  {
   "cell_type": "markdown",
   "metadata": {},
   "source": [
    "### 2. read_json\n",
    "\n",
    "[docs](https://pandas.pydata.org/docs/reference/api/pandas.io.json.read_json.html)\n",
    "\n",
    "* **Orientation**\n",
    "\n",
    "In the read_json function, we have a very important argument, which is **orient**.\n",
    "There are different ways to represent a DataFrame as a json object, and this argument allows to specify how should function read_json interpret the keys and the values in the json file.\n",
    "\n",
    "If we don't consider the json orientation when reading it, we may have ValueErrors or see our DataFrame transposed! So, make sure you check the documentation in order to understand the orientation of your json file and feed it correctly to read_json function."
   ]
  },
  {
   "cell_type": "code",
   "execution_count": 28,
   "metadata": {
    "tags": []
   },
   "outputs": [
    {
     "name": "stdout",
     "output_type": "stream",
     "text": [
      "Sorry, split orientation doesn't work for this json file... JSON data had unexpected key(s): 2, 1\n"
     ]
    }
   ],
   "source": [
    "# split orientation doesn't match our json file\n",
    "try:\n",
    "    pd.read_json(os.path.join('data', 'pokemons', 'pokemons.json'), orient='split')\n",
    "except Exception as e:\n",
    "    print(\"Sorry, split orientation doesn't work for this json file...\", e)"
   ]
  },
  {
   "cell_type": "code",
   "execution_count": 29,
   "metadata": {},
   "outputs": [
    {
     "data": {
      "text/html": [
       "<div>\n",
       "<style scoped>\n",
       "    .dataframe tbody tr th:only-of-type {\n",
       "        vertical-align: middle;\n",
       "    }\n",
       "\n",
       "    .dataframe tbody tr th {\n",
       "        vertical-align: top;\n",
       "    }\n",
       "\n",
       "    .dataframe thead th {\n",
       "        text-align: right;\n",
       "    }\n",
       "</style>\n",
       "<table border=\"1\" class=\"dataframe\">\n",
       "  <thead>\n",
       "    <tr style=\"text-align: right;\">\n",
       "      <th></th>\n",
       "      <th>1</th>\n",
       "      <th>2</th>\n",
       "    </tr>\n",
       "  </thead>\n",
       "  <tbody>\n",
       "    <tr>\n",
       "      <th>Name</th>\n",
       "      <td>Bulbasaur</td>\n",
       "      <td>Ivysaur</td>\n",
       "    </tr>\n",
       "    <tr>\n",
       "      <th>Types</th>\n",
       "      <td>[Grass, Poison]</td>\n",
       "      <td>[Grass, Poison]</td>\n",
       "    </tr>\n",
       "    <tr>\n",
       "      <th>HP</th>\n",
       "      <td>45</td>\n",
       "      <td>60</td>\n",
       "    </tr>\n",
       "    <tr>\n",
       "      <th>Attack</th>\n",
       "      <td>49</td>\n",
       "      <td>62</td>\n",
       "    </tr>\n",
       "    <tr>\n",
       "      <th>Defense</th>\n",
       "      <td>49</td>\n",
       "      <td>63</td>\n",
       "    </tr>\n",
       "    <tr>\n",
       "      <th>Sp. Atk</th>\n",
       "      <td>65</td>\n",
       "      <td>80</td>\n",
       "    </tr>\n",
       "    <tr>\n",
       "      <th>Sp. Def</th>\n",
       "      <td>65</td>\n",
       "      <td>80</td>\n",
       "    </tr>\n",
       "    <tr>\n",
       "      <th>Speed</th>\n",
       "      <td>45</td>\n",
       "      <td>60</td>\n",
       "    </tr>\n",
       "    <tr>\n",
       "      <th>Generation</th>\n",
       "      <td>1</td>\n",
       "      <td>1</td>\n",
       "    </tr>\n",
       "    <tr>\n",
       "      <th>Legendary</th>\n",
       "      <td>False</td>\n",
       "      <td>False</td>\n",
       "    </tr>\n",
       "  </tbody>\n",
       "</table>\n",
       "</div>"
      ],
      "text/plain": [
       "                          1                2\n",
       "Name              Bulbasaur          Ivysaur\n",
       "Types       [Grass, Poison]  [Grass, Poison]\n",
       "HP                       45               60\n",
       "Attack                   49               62\n",
       "Defense                  49               63\n",
       "Sp. Atk                  65               80\n",
       "Sp. Def                  65               80\n",
       "Speed                    45               60\n",
       "Generation                1                1\n",
       "Legendary             False            False"
      ]
     },
     "execution_count": 29,
     "metadata": {},
     "output_type": "execute_result"
    }
   ],
   "source": [
    "# neither does records orientation, as it returns the DataFrame transposed\n",
    "pd.read_json(os.path.join('data', 'pokemons', 'pokemons.json'), orient='records')"
   ]
  },
  {
   "cell_type": "code",
   "execution_count": 30,
   "metadata": {},
   "outputs": [
    {
     "data": {
      "text/html": [
       "<div>\n",
       "<style scoped>\n",
       "    .dataframe tbody tr th:only-of-type {\n",
       "        vertical-align: middle;\n",
       "    }\n",
       "\n",
       "    .dataframe tbody tr th {\n",
       "        vertical-align: top;\n",
       "    }\n",
       "\n",
       "    .dataframe thead th {\n",
       "        text-align: right;\n",
       "    }\n",
       "</style>\n",
       "<table border=\"1\" class=\"dataframe\">\n",
       "  <thead>\n",
       "    <tr style=\"text-align: right;\">\n",
       "      <th></th>\n",
       "      <th>Name</th>\n",
       "      <th>Types</th>\n",
       "      <th>HP</th>\n",
       "      <th>Attack</th>\n",
       "      <th>Defense</th>\n",
       "      <th>Sp. Atk</th>\n",
       "      <th>Sp. Def</th>\n",
       "      <th>Speed</th>\n",
       "      <th>Generation</th>\n",
       "      <th>Legendary</th>\n",
       "    </tr>\n",
       "  </thead>\n",
       "  <tbody>\n",
       "    <tr>\n",
       "      <th>1</th>\n",
       "      <td>Bulbasaur</td>\n",
       "      <td>[Grass, Poison]</td>\n",
       "      <td>45</td>\n",
       "      <td>49</td>\n",
       "      <td>49</td>\n",
       "      <td>65</td>\n",
       "      <td>65</td>\n",
       "      <td>45</td>\n",
       "      <td>1</td>\n",
       "      <td>False</td>\n",
       "    </tr>\n",
       "    <tr>\n",
       "      <th>2</th>\n",
       "      <td>Ivysaur</td>\n",
       "      <td>[Grass, Poison]</td>\n",
       "      <td>60</td>\n",
       "      <td>62</td>\n",
       "      <td>63</td>\n",
       "      <td>80</td>\n",
       "      <td>80</td>\n",
       "      <td>60</td>\n",
       "      <td>1</td>\n",
       "      <td>False</td>\n",
       "    </tr>\n",
       "  </tbody>\n",
       "</table>\n",
       "</div>"
      ],
      "text/plain": [
       "        Name            Types  HP  Attack  Defense  Sp. Atk  Sp. Def  Speed  \\\n",
       "1  Bulbasaur  [Grass, Poison]  45      49       49       65       65     45   \n",
       "2    Ivysaur  [Grass, Poison]  60      62       63       80       80     60   \n",
       "\n",
       "   Generation  Legendary  \n",
       "1           1      False  \n",
       "2           1      False  "
      ]
     },
     "execution_count": 30,
     "metadata": {},
     "output_type": "execute_result"
    }
   ],
   "source": [
    "# index orientation is what we're looking for\n",
    "pd.read_json(os.path.join('data', 'pokemons', 'pokemons.json'), orient='index')"
   ]
  },
  {
   "cell_type": "markdown",
   "metadata": {},
   "source": [
    "### 3. read_excel\n",
    "\n",
    "[docs](https://pandas.pydata.org/pandas-docs/stable/generated/pandas.read_excel.html)\n",
    "\n",
    "Since excel files are spreadsheets, there may be some cells whose content doesn't belong to the \"table\" we want to convert into a DataFrame.\n",
    "Often, these cells are either in the beginning or at the end of the file. And we have two convenient arguments for these situations!\n",
    "\n",
    "Consider the following DataFrame, read from an excel file."
   ]
  },
  {
   "cell_type": "code",
   "execution_count": 31,
   "metadata": {},
   "outputs": [
    {
     "data": {
      "text/html": [
       "<div>\n",
       "<style scoped>\n",
       "    .dataframe tbody tr th:only-of-type {\n",
       "        vertical-align: middle;\n",
       "    }\n",
       "\n",
       "    .dataframe tbody tr th {\n",
       "        vertical-align: top;\n",
       "    }\n",
       "\n",
       "    .dataframe thead th {\n",
       "        text-align: right;\n",
       "    }\n",
       "</style>\n",
       "<table border=\"1\" class=\"dataframe\">\n",
       "  <thead>\n",
       "    <tr style=\"text-align: right;\">\n",
       "      <th></th>\n",
       "      <th>Data gathered from https://www.kaggle.com/terminus7/pokemon-challenge/data</th>\n",
       "      <th>Unnamed: 1</th>\n",
       "      <th>Unnamed: 2</th>\n",
       "      <th>Unnamed: 3</th>\n",
       "      <th>Unnamed: 4</th>\n",
       "      <th>Unnamed: 5</th>\n",
       "      <th>Unnamed: 6</th>\n",
       "      <th>Unnamed: 7</th>\n",
       "      <th>Unnamed: 8</th>\n",
       "      <th>Unnamed: 9</th>\n",
       "      <th>Unnamed: 10</th>\n",
       "      <th>Unnamed: 11</th>\n",
       "    </tr>\n",
       "  </thead>\n",
       "  <tbody>\n",
       "    <tr>\n",
       "      <th>0</th>\n",
       "      <td>NaN</td>\n",
       "      <td>NaN</td>\n",
       "      <td>NaN</td>\n",
       "      <td>NaN</td>\n",
       "      <td>NaN</td>\n",
       "      <td>NaN</td>\n",
       "      <td>NaN</td>\n",
       "      <td>hello!!</td>\n",
       "      <td>NaN</td>\n",
       "      <td>NaN</td>\n",
       "      <td>NaN</td>\n",
       "      <td>NaN</td>\n",
       "    </tr>\n",
       "    <tr>\n",
       "      <th>1</th>\n",
       "      <td>NaN</td>\n",
       "      <td>NaN</td>\n",
       "      <td>Sometimes there's random data in excel files</td>\n",
       "      <td>NaN</td>\n",
       "      <td>NaN</td>\n",
       "      <td>Because they are spreadsheets!</td>\n",
       "      <td>NaN</td>\n",
       "      <td>NaN</td>\n",
       "      <td>NaN</td>\n",
       "      <td>NaN</td>\n",
       "      <td>NaN</td>\n",
       "      <td>NaN</td>\n",
       "    </tr>\n",
       "    <tr>\n",
       "      <th>2</th>\n",
       "      <td>NaN</td>\n",
       "      <td>NaN</td>\n",
       "      <td>NaN</td>\n",
       "      <td>NaN</td>\n",
       "      <td>NaN</td>\n",
       "      <td>NaN</td>\n",
       "      <td>NaN</td>\n",
       "      <td>NaN</td>\n",
       "      <td>NaN</td>\n",
       "      <td>NaN</td>\n",
       "      <td>NaN</td>\n",
       "      <td>NaN</td>\n",
       "    </tr>\n",
       "    <tr>\n",
       "      <th>3</th>\n",
       "      <td>#</td>\n",
       "      <td>Name</td>\n",
       "      <td>Type 1</td>\n",
       "      <td>Type 2</td>\n",
       "      <td>HP</td>\n",
       "      <td>Attack</td>\n",
       "      <td>Defense</td>\n",
       "      <td>Sp. Atk</td>\n",
       "      <td>Sp. Def</td>\n",
       "      <td>Speed</td>\n",
       "      <td>Generation</td>\n",
       "      <td>Legendary</td>\n",
       "    </tr>\n",
       "    <tr>\n",
       "      <th>4</th>\n",
       "      <td>1</td>\n",
       "      <td>Bulbasaur</td>\n",
       "      <td>Grass</td>\n",
       "      <td>Poison</td>\n",
       "      <td>45</td>\n",
       "      <td>49</td>\n",
       "      <td>49</td>\n",
       "      <td>65</td>\n",
       "      <td>65</td>\n",
       "      <td>45</td>\n",
       "      <td>1</td>\n",
       "      <td>False</td>\n",
       "    </tr>\n",
       "    <tr>\n",
       "      <th>5</th>\n",
       "      <td>2</td>\n",
       "      <td>Ivysaur</td>\n",
       "      <td>Grass</td>\n",
       "      <td>Poison</td>\n",
       "      <td>60</td>\n",
       "      <td>62</td>\n",
       "      <td>63</td>\n",
       "      <td>80</td>\n",
       "      <td>80</td>\n",
       "      <td>60</td>\n",
       "      <td>1</td>\n",
       "      <td>False</td>\n",
       "    </tr>\n",
       "    <tr>\n",
       "      <th>6</th>\n",
       "      <td>3</td>\n",
       "      <td>Venusaur</td>\n",
       "      <td>Grass</td>\n",
       "      <td>Poison</td>\n",
       "      <td>80</td>\n",
       "      <td>82</td>\n",
       "      <td>83</td>\n",
       "      <td>100</td>\n",
       "      <td>100</td>\n",
       "      <td>80</td>\n",
       "      <td>1</td>\n",
       "      <td>False</td>\n",
       "    </tr>\n",
       "    <tr>\n",
       "      <th>7</th>\n",
       "      <td>4</td>\n",
       "      <td>Mega Venusaur</td>\n",
       "      <td>Grass</td>\n",
       "      <td>Poison</td>\n",
       "      <td>80</td>\n",
       "      <td>100</td>\n",
       "      <td>123</td>\n",
       "      <td>122</td>\n",
       "      <td>120</td>\n",
       "      <td>80</td>\n",
       "      <td>1</td>\n",
       "      <td>False</td>\n",
       "    </tr>\n",
       "    <tr>\n",
       "      <th>8</th>\n",
       "      <td>NaN</td>\n",
       "      <td>NaN</td>\n",
       "      <td>NaN</td>\n",
       "      <td>NaN</td>\n",
       "      <td>NaN</td>\n",
       "      <td>NaN</td>\n",
       "      <td>NaN</td>\n",
       "      <td>NaN</td>\n",
       "      <td>123</td>\n",
       "      <td>NaN</td>\n",
       "      <td>NaN</td>\n",
       "      <td>NaN</td>\n",
       "    </tr>\n",
       "    <tr>\n",
       "      <th>9</th>\n",
       "      <td>And</td>\n",
       "      <td>in</td>\n",
       "      <td>the</td>\n",
       "      <td>footer</td>\n",
       "      <td>too!</td>\n",
       "      <td>NaN</td>\n",
       "      <td>NaN</td>\n",
       "      <td>NaN</td>\n",
       "      <td>123</td>\n",
       "      <td>NaN</td>\n",
       "      <td>NaN</td>\n",
       "      <td>NaN</td>\n",
       "    </tr>\n",
       "    <tr>\n",
       "      <th>10</th>\n",
       "      <td>NaN</td>\n",
       "      <td>NaN</td>\n",
       "      <td>NaN</td>\n",
       "      <td>NaN</td>\n",
       "      <td>NaN</td>\n",
       "      <td>Pure</td>\n",
       "      <td>GARBAGE!!!</td>\n",
       "      <td>NaN</td>\n",
       "      <td>NaN</td>\n",
       "      <td>NaN</td>\n",
       "      <td>NaN</td>\n",
       "      <td>NaN</td>\n",
       "    </tr>\n",
       "  </tbody>\n",
       "</table>\n",
       "</div>"
      ],
      "text/plain": [
       "   Data gathered from https://www.kaggle.com/terminus7/pokemon-challenge/data  \\\n",
       "0                                                 NaN                           \n",
       "1                                                 NaN                           \n",
       "2                                                 NaN                           \n",
       "3                                                   #                           \n",
       "4                                                   1                           \n",
       "5                                                   2                           \n",
       "6                                                   3                           \n",
       "7                                                   4                           \n",
       "8                                                 NaN                           \n",
       "9                                                And                            \n",
       "10                                                NaN                           \n",
       "\n",
       "       Unnamed: 1                                    Unnamed: 2 Unnamed: 3  \\\n",
       "0             NaN                                           NaN        NaN   \n",
       "1             NaN  Sometimes there's random data in excel files        NaN   \n",
       "2             NaN                                           NaN        NaN   \n",
       "3            Name                                        Type 1     Type 2   \n",
       "4       Bulbasaur                                         Grass     Poison   \n",
       "5         Ivysaur                                         Grass     Poison   \n",
       "6        Venusaur                                         Grass     Poison   \n",
       "7   Mega Venusaur                                         Grass     Poison   \n",
       "8             NaN                                           NaN        NaN   \n",
       "9              in                                           the     footer   \n",
       "10            NaN                                           NaN        NaN   \n",
       "\n",
       "   Unnamed: 4                      Unnamed: 5  Unnamed: 6 Unnamed: 7  \\\n",
       "0         NaN                             NaN         NaN    hello!!   \n",
       "1         NaN  Because they are spreadsheets!         NaN        NaN   \n",
       "2         NaN                             NaN         NaN        NaN   \n",
       "3          HP                          Attack     Defense    Sp. Atk   \n",
       "4          45                              49          49         65   \n",
       "5          60                              62          63         80   \n",
       "6          80                              82          83        100   \n",
       "7          80                             100         123        122   \n",
       "8         NaN                             NaN         NaN        NaN   \n",
       "9        too!                             NaN         NaN        NaN   \n",
       "10        NaN                            Pure  GARBAGE!!!        NaN   \n",
       "\n",
       "   Unnamed: 8 Unnamed: 9 Unnamed: 10 Unnamed: 11  \n",
       "0         NaN        NaN         NaN         NaN  \n",
       "1         NaN        NaN         NaN         NaN  \n",
       "2         NaN        NaN         NaN         NaN  \n",
       "3     Sp. Def      Speed  Generation   Legendary  \n",
       "4          65         45           1       False  \n",
       "5          80         60           1       False  \n",
       "6         100         80           1       False  \n",
       "7         120         80           1       False  \n",
       "8         123        NaN         NaN         NaN  \n",
       "9         123        NaN         NaN         NaN  \n",
       "10        NaN        NaN         NaN         NaN  "
      ]
     },
     "execution_count": 31,
     "metadata": {},
     "output_type": "execute_result"
    }
   ],
   "source": [
    "pd.read_excel(os.path.join('data', 'pokemons', 'pokemons_garbage_rows.xlsx'))"
   ]
  },
  {
   "cell_type": "markdown",
   "metadata": {},
   "source": [
    "* **Skip rows at the beginning of the file**\n",
    "\n",
    "In order to skip n rows at the beginning of the file, we can use argument **skiprows**."
   ]
  },
  {
   "cell_type": "code",
   "execution_count": 32,
   "metadata": {},
   "outputs": [
    {
     "data": {
      "text/html": [
       "<div>\n",
       "<style scoped>\n",
       "    .dataframe tbody tr th:only-of-type {\n",
       "        vertical-align: middle;\n",
       "    }\n",
       "\n",
       "    .dataframe tbody tr th {\n",
       "        vertical-align: top;\n",
       "    }\n",
       "\n",
       "    .dataframe thead th {\n",
       "        text-align: right;\n",
       "    }\n",
       "</style>\n",
       "<table border=\"1\" class=\"dataframe\">\n",
       "  <thead>\n",
       "    <tr style=\"text-align: right;\">\n",
       "      <th></th>\n",
       "      <th>#</th>\n",
       "      <th>Name</th>\n",
       "      <th>Type 1</th>\n",
       "      <th>Type 2</th>\n",
       "      <th>HP</th>\n",
       "      <th>Attack</th>\n",
       "      <th>Defense</th>\n",
       "      <th>Sp. Atk</th>\n",
       "      <th>Sp. Def</th>\n",
       "      <th>Speed</th>\n",
       "      <th>Generation</th>\n",
       "      <th>Legendary</th>\n",
       "    </tr>\n",
       "  </thead>\n",
       "  <tbody>\n",
       "    <tr>\n",
       "      <th>0</th>\n",
       "      <td>1</td>\n",
       "      <td>Bulbasaur</td>\n",
       "      <td>Grass</td>\n",
       "      <td>Poison</td>\n",
       "      <td>45</td>\n",
       "      <td>49</td>\n",
       "      <td>49</td>\n",
       "      <td>65.0</td>\n",
       "      <td>65.0</td>\n",
       "      <td>45.0</td>\n",
       "      <td>1.0</td>\n",
       "      <td>0.0</td>\n",
       "    </tr>\n",
       "    <tr>\n",
       "      <th>1</th>\n",
       "      <td>2</td>\n",
       "      <td>Ivysaur</td>\n",
       "      <td>Grass</td>\n",
       "      <td>Poison</td>\n",
       "      <td>60</td>\n",
       "      <td>62</td>\n",
       "      <td>63</td>\n",
       "      <td>80.0</td>\n",
       "      <td>80.0</td>\n",
       "      <td>60.0</td>\n",
       "      <td>1.0</td>\n",
       "      <td>0.0</td>\n",
       "    </tr>\n",
       "    <tr>\n",
       "      <th>2</th>\n",
       "      <td>3</td>\n",
       "      <td>Venusaur</td>\n",
       "      <td>Grass</td>\n",
       "      <td>Poison</td>\n",
       "      <td>80</td>\n",
       "      <td>82</td>\n",
       "      <td>83</td>\n",
       "      <td>100.0</td>\n",
       "      <td>100.0</td>\n",
       "      <td>80.0</td>\n",
       "      <td>1.0</td>\n",
       "      <td>0.0</td>\n",
       "    </tr>\n",
       "    <tr>\n",
       "      <th>3</th>\n",
       "      <td>4</td>\n",
       "      <td>Mega Venusaur</td>\n",
       "      <td>Grass</td>\n",
       "      <td>Poison</td>\n",
       "      <td>80</td>\n",
       "      <td>100</td>\n",
       "      <td>123</td>\n",
       "      <td>122.0</td>\n",
       "      <td>120.0</td>\n",
       "      <td>80.0</td>\n",
       "      <td>1.0</td>\n",
       "      <td>0.0</td>\n",
       "    </tr>\n",
       "    <tr>\n",
       "      <th>4</th>\n",
       "      <td>NaN</td>\n",
       "      <td>NaN</td>\n",
       "      <td>NaN</td>\n",
       "      <td>NaN</td>\n",
       "      <td>NaN</td>\n",
       "      <td>NaN</td>\n",
       "      <td>NaN</td>\n",
       "      <td>NaN</td>\n",
       "      <td>123.0</td>\n",
       "      <td>NaN</td>\n",
       "      <td>NaN</td>\n",
       "      <td>NaN</td>\n",
       "    </tr>\n",
       "    <tr>\n",
       "      <th>5</th>\n",
       "      <td>And</td>\n",
       "      <td>in</td>\n",
       "      <td>the</td>\n",
       "      <td>footer</td>\n",
       "      <td>too!</td>\n",
       "      <td>NaN</td>\n",
       "      <td>NaN</td>\n",
       "      <td>NaN</td>\n",
       "      <td>123.0</td>\n",
       "      <td>NaN</td>\n",
       "      <td>NaN</td>\n",
       "      <td>NaN</td>\n",
       "    </tr>\n",
       "    <tr>\n",
       "      <th>6</th>\n",
       "      <td>NaN</td>\n",
       "      <td>NaN</td>\n",
       "      <td>NaN</td>\n",
       "      <td>NaN</td>\n",
       "      <td>NaN</td>\n",
       "      <td>Pure</td>\n",
       "      <td>GARBAGE!!!</td>\n",
       "      <td>NaN</td>\n",
       "      <td>NaN</td>\n",
       "      <td>NaN</td>\n",
       "      <td>NaN</td>\n",
       "      <td>NaN</td>\n",
       "    </tr>\n",
       "  </tbody>\n",
       "</table>\n",
       "</div>"
      ],
      "text/plain": [
       "      #           Name Type 1  Type 2    HP Attack     Defense  Sp. Atk  \\\n",
       "0     1      Bulbasaur  Grass  Poison    45     49          49     65.0   \n",
       "1     2        Ivysaur  Grass  Poison    60     62          63     80.0   \n",
       "2     3       Venusaur  Grass  Poison    80     82          83    100.0   \n",
       "3     4  Mega Venusaur  Grass  Poison    80    100         123    122.0   \n",
       "4   NaN            NaN    NaN     NaN   NaN    NaN         NaN      NaN   \n",
       "5  And              in    the  footer  too!    NaN         NaN      NaN   \n",
       "6   NaN            NaN    NaN     NaN   NaN   Pure  GARBAGE!!!      NaN   \n",
       "\n",
       "   Sp. Def  Speed  Generation  Legendary  \n",
       "0     65.0   45.0         1.0        0.0  \n",
       "1     80.0   60.0         1.0        0.0  \n",
       "2    100.0   80.0         1.0        0.0  \n",
       "3    120.0   80.0         1.0        0.0  \n",
       "4    123.0    NaN         NaN        NaN  \n",
       "5    123.0    NaN         NaN        NaN  \n",
       "6      NaN    NaN         NaN        NaN  "
      ]
     },
     "execution_count": 32,
     "metadata": {},
     "output_type": "execute_result"
    }
   ],
   "source": [
    "pd.read_excel(os.path.join('data', 'pokemons', 'pokemons_garbage_rows.xlsx'), skiprows=4)"
   ]
  },
  {
   "cell_type": "markdown",
   "metadata": {},
   "source": [
    "* **Skip rows at the end of the file**\n",
    "\n",
    "And to skip rows at the end of the file, we can use argument **skipfooter**."
   ]
  },
  {
   "cell_type": "code",
   "execution_count": 33,
   "metadata": {},
   "outputs": [
    {
     "data": {
      "text/html": [
       "<div>\n",
       "<style scoped>\n",
       "    .dataframe tbody tr th:only-of-type {\n",
       "        vertical-align: middle;\n",
       "    }\n",
       "\n",
       "    .dataframe tbody tr th {\n",
       "        vertical-align: top;\n",
       "    }\n",
       "\n",
       "    .dataframe thead th {\n",
       "        text-align: right;\n",
       "    }\n",
       "</style>\n",
       "<table border=\"1\" class=\"dataframe\">\n",
       "  <thead>\n",
       "    <tr style=\"text-align: right;\">\n",
       "      <th></th>\n",
       "      <th>#</th>\n",
       "      <th>Name</th>\n",
       "      <th>Type 1</th>\n",
       "      <th>Type 2</th>\n",
       "      <th>HP</th>\n",
       "      <th>Attack</th>\n",
       "      <th>Defense</th>\n",
       "      <th>Sp. Atk</th>\n",
       "      <th>Sp. Def</th>\n",
       "      <th>Speed</th>\n",
       "      <th>Generation</th>\n",
       "      <th>Legendary</th>\n",
       "    </tr>\n",
       "  </thead>\n",
       "  <tbody>\n",
       "    <tr>\n",
       "      <th>0</th>\n",
       "      <td>1</td>\n",
       "      <td>Bulbasaur</td>\n",
       "      <td>Grass</td>\n",
       "      <td>Poison</td>\n",
       "      <td>45</td>\n",
       "      <td>49</td>\n",
       "      <td>49</td>\n",
       "      <td>65</td>\n",
       "      <td>65</td>\n",
       "      <td>45</td>\n",
       "      <td>1</td>\n",
       "      <td>False</td>\n",
       "    </tr>\n",
       "    <tr>\n",
       "      <th>1</th>\n",
       "      <td>2</td>\n",
       "      <td>Ivysaur</td>\n",
       "      <td>Grass</td>\n",
       "      <td>Poison</td>\n",
       "      <td>60</td>\n",
       "      <td>62</td>\n",
       "      <td>63</td>\n",
       "      <td>80</td>\n",
       "      <td>80</td>\n",
       "      <td>60</td>\n",
       "      <td>1</td>\n",
       "      <td>False</td>\n",
       "    </tr>\n",
       "    <tr>\n",
       "      <th>2</th>\n",
       "      <td>3</td>\n",
       "      <td>Venusaur</td>\n",
       "      <td>Grass</td>\n",
       "      <td>Poison</td>\n",
       "      <td>80</td>\n",
       "      <td>82</td>\n",
       "      <td>83</td>\n",
       "      <td>100</td>\n",
       "      <td>100</td>\n",
       "      <td>80</td>\n",
       "      <td>1</td>\n",
       "      <td>False</td>\n",
       "    </tr>\n",
       "    <tr>\n",
       "      <th>3</th>\n",
       "      <td>4</td>\n",
       "      <td>Mega Venusaur</td>\n",
       "      <td>Grass</td>\n",
       "      <td>Poison</td>\n",
       "      <td>80</td>\n",
       "      <td>100</td>\n",
       "      <td>123</td>\n",
       "      <td>122</td>\n",
       "      <td>120</td>\n",
       "      <td>80</td>\n",
       "      <td>1</td>\n",
       "      <td>False</td>\n",
       "    </tr>\n",
       "  </tbody>\n",
       "</table>\n",
       "</div>"
      ],
      "text/plain": [
       "   #           Name Type 1  Type 2  HP  Attack  Defense  Sp. Atk  Sp. Def  \\\n",
       "0  1      Bulbasaur  Grass  Poison  45      49       49       65       65   \n",
       "1  2        Ivysaur  Grass  Poison  60      62       63       80       80   \n",
       "2  3       Venusaur  Grass  Poison  80      82       83      100      100   \n",
       "3  4  Mega Venusaur  Grass  Poison  80     100      123      122      120   \n",
       "\n",
       "   Speed  Generation  Legendary  \n",
       "0     45           1      False  \n",
       "1     60           1      False  \n",
       "2     80           1      False  \n",
       "3     80           1      False  "
      ]
     },
     "execution_count": 33,
     "metadata": {},
     "output_type": "execute_result"
    }
   ],
   "source": [
    "pd.read_excel(os.path.join('data', 'pokemons', 'pokemons_garbage_rows.xlsx'), skiprows=4, skipfooter=3)"
   ]
  },
  {
   "cell_type": "markdown",
   "metadata": {},
   "source": [
    "You can also grab specific sheets using ***sheet_name*** "
   ]
  },
  {
   "cell_type": "code",
   "execution_count": 34,
   "metadata": {},
   "outputs": [
    {
     "data": {
      "text/html": [
       "<div>\n",
       "<style scoped>\n",
       "    .dataframe tbody tr th:only-of-type {\n",
       "        vertical-align: middle;\n",
       "    }\n",
       "\n",
       "    .dataframe tbody tr th {\n",
       "        vertical-align: top;\n",
       "    }\n",
       "\n",
       "    .dataframe thead th {\n",
       "        text-align: right;\n",
       "    }\n",
       "</style>\n",
       "<table border=\"1\" class=\"dataframe\">\n",
       "  <thead>\n",
       "    <tr style=\"text-align: right;\">\n",
       "      <th></th>\n",
       "      <th>#</th>\n",
       "      <th>Name</th>\n",
       "      <th>Type 1</th>\n",
       "      <th>Type 2</th>\n",
       "      <th>HP</th>\n",
       "      <th>Attack</th>\n",
       "      <th>Defense</th>\n",
       "      <th>Sp. Atk</th>\n",
       "      <th>Sp. Def</th>\n",
       "      <th>Speed</th>\n",
       "      <th>Generation</th>\n",
       "      <th>Legendary</th>\n",
       "    </tr>\n",
       "  </thead>\n",
       "  <tbody>\n",
       "    <tr>\n",
       "      <th>0</th>\n",
       "      <td>1</td>\n",
       "      <td>Bulbasaur</td>\n",
       "      <td>Grass</td>\n",
       "      <td>Poison</td>\n",
       "      <td>45</td>\n",
       "      <td>49</td>\n",
       "      <td>49</td>\n",
       "      <td>65</td>\n",
       "      <td>65</td>\n",
       "      <td>45</td>\n",
       "      <td>1</td>\n",
       "      <td>False</td>\n",
       "    </tr>\n",
       "    <tr>\n",
       "      <th>1</th>\n",
       "      <td>2</td>\n",
       "      <td>Ivysaur</td>\n",
       "      <td>Grass</td>\n",
       "      <td>Poison</td>\n",
       "      <td>60</td>\n",
       "      <td>62</td>\n",
       "      <td>63</td>\n",
       "      <td>80</td>\n",
       "      <td>80</td>\n",
       "      <td>60</td>\n",
       "      <td>1</td>\n",
       "      <td>False</td>\n",
       "    </tr>\n",
       "    <tr>\n",
       "      <th>2</th>\n",
       "      <td>3</td>\n",
       "      <td>Venusaur</td>\n",
       "      <td>Grass</td>\n",
       "      <td>Poison</td>\n",
       "      <td>80</td>\n",
       "      <td>82</td>\n",
       "      <td>83</td>\n",
       "      <td>100</td>\n",
       "      <td>100</td>\n",
       "      <td>80</td>\n",
       "      <td>1</td>\n",
       "      <td>False</td>\n",
       "    </tr>\n",
       "    <tr>\n",
       "      <th>3</th>\n",
       "      <td>4</td>\n",
       "      <td>Mega Venusaur</td>\n",
       "      <td>Grass</td>\n",
       "      <td>Poison</td>\n",
       "      <td>80</td>\n",
       "      <td>100</td>\n",
       "      <td>123</td>\n",
       "      <td>122</td>\n",
       "      <td>120</td>\n",
       "      <td>80</td>\n",
       "      <td>1</td>\n",
       "      <td>False</td>\n",
       "    </tr>\n",
       "  </tbody>\n",
       "</table>\n",
       "</div>"
      ],
      "text/plain": [
       "   #           Name Type 1  Type 2  HP  Attack  Defense  Sp. Atk  Sp. Def  \\\n",
       "0  1      Bulbasaur  Grass  Poison  45      49       49       65       65   \n",
       "1  2        Ivysaur  Grass  Poison  60      62       63       80       80   \n",
       "2  3       Venusaur  Grass  Poison  80      82       83      100      100   \n",
       "3  4  Mega Venusaur  Grass  Poison  80     100      123      122      120   \n",
       "\n",
       "   Speed  Generation  Legendary  \n",
       "0     45           1      False  \n",
       "1     60           1      False  \n",
       "2     80           1      False  \n",
       "3     80           1      False  "
      ]
     },
     "execution_count": 34,
     "metadata": {},
     "output_type": "execute_result"
    }
   ],
   "source": [
    "pd.read_excel(\n",
    "    os.path.join('data', 'pokemons', 'pokemons_garbage_rows.xlsx'),\n",
    "    sheet_name=\"Sheet1\",\n",
    "    skiprows=4,\n",
    "    skipfooter=3\n",
    ")"
   ]
  },
  {
   "cell_type": "markdown",
   "metadata": {},
   "source": [
    "### 4. read_html\n",
    "\n",
    "[docs](https://pandas.pydata.org/pandas-docs/version/0.23.4/generated/pandas.read_html.html)\n",
    "\n",
    "* **Return type is list!**\n",
    "\n",
    "The return type of the read_html function is a list of DataFrames, and not a single DataFrame as the other pandas read functions we've seen so far.\n",
    "\n",
    "So, if you want to read a html table into a DataFrame, you can do the following."
   ]
  },
  {
   "cell_type": "code",
   "execution_count": 35,
   "metadata": {},
   "outputs": [
    {
     "data": {
      "text/html": [
       "<div>\n",
       "<style scoped>\n",
       "    .dataframe tbody tr th:only-of-type {\n",
       "        vertical-align: middle;\n",
       "    }\n",
       "\n",
       "    .dataframe tbody tr th {\n",
       "        vertical-align: top;\n",
       "    }\n",
       "\n",
       "    .dataframe thead th {\n",
       "        text-align: right;\n",
       "    }\n",
       "</style>\n",
       "<table border=\"1\" class=\"dataframe\">\n",
       "  <thead>\n",
       "    <tr style=\"text-align: right;\">\n",
       "      <th></th>\n",
       "      <th>#</th>\n",
       "      <th>Name</th>\n",
       "      <th>Type 1</th>\n",
       "      <th>Type 2</th>\n",
       "      <th>HP</th>\n",
       "      <th>Attack</th>\n",
       "      <th>Defense</th>\n",
       "      <th>Sp. Atk</th>\n",
       "      <th>Sp. Def</th>\n",
       "      <th>Speed</th>\n",
       "      <th>Generation</th>\n",
       "      <th>Legendary</th>\n",
       "    </tr>\n",
       "  </thead>\n",
       "  <tbody>\n",
       "    <tr>\n",
       "      <th>0</th>\n",
       "      <td>1</td>\n",
       "      <td>Bulbasaur</td>\n",
       "      <td>Grass</td>\n",
       "      <td>Poison</td>\n",
       "      <td>45</td>\n",
       "      <td>49</td>\n",
       "      <td>49</td>\n",
       "      <td>65</td>\n",
       "      <td>65</td>\n",
       "      <td>45</td>\n",
       "      <td>1</td>\n",
       "      <td>False</td>\n",
       "    </tr>\n",
       "    <tr>\n",
       "      <th>1</th>\n",
       "      <td>2</td>\n",
       "      <td>Ivysaur</td>\n",
       "      <td>Grass</td>\n",
       "      <td>Poison</td>\n",
       "      <td>60</td>\n",
       "      <td>62</td>\n",
       "      <td>63</td>\n",
       "      <td>80</td>\n",
       "      <td>80</td>\n",
       "      <td>60</td>\n",
       "      <td>1</td>\n",
       "      <td>False</td>\n",
       "    </tr>\n",
       "  </tbody>\n",
       "</table>\n",
       "</div>"
      ],
      "text/plain": [
       "   #       Name Type 1  Type 2  HP  Attack  Defense  Sp. Atk  Sp. Def  Speed  \\\n",
       "0  1  Bulbasaur  Grass  Poison  45      49       49       65       65     45   \n",
       "1  2    Ivysaur  Grass  Poison  60      62       63       80       80     60   \n",
       "\n",
       "   Generation  Legendary  \n",
       "0           1      False  \n",
       "1           1      False  "
      ]
     },
     "execution_count": 35,
     "metadata": {},
     "output_type": "execute_result"
    }
   ],
   "source": [
    "pd.read_html(os.path.join('data', 'pokemons', 'pokemons.html'))[0]"
   ]
  },
  {
   "cell_type": "markdown",
   "metadata": {},
   "source": [
    "## 4. Encodings\n",
    "\n",
    "At its deepest level, computers can only understand two things: zeros and ones.\n",
    "So, everything that we handle with a computer (text, music clips, photos), is represented by a long sequence of zeros and ones, called *bits*.\n",
    "\n",
    "In particular, characters (like 'a' or '1' or '!') are represented in terms of bits too.\n",
    "When people started programming computers, they had to define that translation of characters in terms of bits, which is called an **encoding**. \n",
    "\n",
    "Seems easy, right? We have letters (a-z), digits (1-9), and a couple of special characters like punctuation. And then, an encoding called [ASCII](https://en.wikipedia.org/wiki/ASCII) was born.\n",
    "\n",
    "<br>\n",
    "<img src=\"./media/ASCII_code_chart.png\" width=\"500\">\n",
    "<br>\n",
    "    \n",
    "But as we know, nothing is easy... Different languages have different special characters (eg. 'ç'), accents (eg. 'ã') maybe even all the characters are different from latin characters (like Arabic or Chinese), we have lower and upper cases (eg. 'A' and 'a'), etc.\n",
    "\n",
    "Thus, many different encoding standards started emerging. And the encodings madness began...\n",
    "\n",
    "Nowadays, the [UTF-8](https://pt.wikipedia.org/wiki/UTF-8) encoding is the most used in the Web, however, there are still hundreds of encodings in use! For instance, [these](https://docs.python.org/3/library/codecs.html#standard-encodings) are the built-in encodings in Python.\n",
    "\n",
    "But enough about history, let's play with encodings!\n",
    "\n",
    "This file has pokemon names in English language. Let's start by previewing it."
   ]
  },
  {
   "cell_type": "code",
   "execution_count": 36,
   "metadata": {
    "tags": []
   },
   "outputs": [
    {
     "name": "stdout",
     "output_type": "stream",
     "text": [
      "#,English Name\r\n",
      "1,Bulbasaur\r\n",
      "2,Ivysaur\r\n",
      "3,Venusaur\r\n",
      "4,Charmander\r\n",
      "5,Charmeleon\r\n"
     ]
    }
   ],
   "source": [
    "# preview the file with pokemons english names\n",
    "# ! type data\\pokemons\\pokemons_english_names.csv\n",
    "! cat data/pokemons/pokemons_english_names.csv"
   ]
  },
  {
   "cell_type": "markdown",
   "metadata": {},
   "source": [
    "Now let's use function read_csv to read it, with argument **encoding** to specify the encoding we want to use.\n",
    "\n",
    "In this case, we're reading the file with the ASCII encoding."
   ]
  },
  {
   "cell_type": "code",
   "execution_count": 37,
   "metadata": {},
   "outputs": [
    {
     "data": {
      "text/html": [
       "<div>\n",
       "<style scoped>\n",
       "    .dataframe tbody tr th:only-of-type {\n",
       "        vertical-align: middle;\n",
       "    }\n",
       "\n",
       "    .dataframe tbody tr th {\n",
       "        vertical-align: top;\n",
       "    }\n",
       "\n",
       "    .dataframe thead th {\n",
       "        text-align: right;\n",
       "    }\n",
       "</style>\n",
       "<table border=\"1\" class=\"dataframe\">\n",
       "  <thead>\n",
       "    <tr style=\"text-align: right;\">\n",
       "      <th></th>\n",
       "      <th>#</th>\n",
       "      <th>English Name</th>\n",
       "    </tr>\n",
       "  </thead>\n",
       "  <tbody>\n",
       "    <tr>\n",
       "      <th>0</th>\n",
       "      <td>1</td>\n",
       "      <td>Bulbasaur</td>\n",
       "    </tr>\n",
       "    <tr>\n",
       "      <th>1</th>\n",
       "      <td>2</td>\n",
       "      <td>Ivysaur</td>\n",
       "    </tr>\n",
       "    <tr>\n",
       "      <th>2</th>\n",
       "      <td>3</td>\n",
       "      <td>Venusaur</td>\n",
       "    </tr>\n",
       "    <tr>\n",
       "      <th>3</th>\n",
       "      <td>4</td>\n",
       "      <td>Charmander</td>\n",
       "    </tr>\n",
       "    <tr>\n",
       "      <th>4</th>\n",
       "      <td>5</td>\n",
       "      <td>Charmeleon</td>\n",
       "    </tr>\n",
       "  </tbody>\n",
       "</table>\n",
       "</div>"
      ],
      "text/plain": [
       "   # English Name\n",
       "0  1    Bulbasaur\n",
       "1  2      Ivysaur\n",
       "2  3     Venusaur\n",
       "3  4   Charmander\n",
       "4  5   Charmeleon"
      ]
     },
     "execution_count": 37,
     "metadata": {},
     "output_type": "execute_result"
    }
   ],
   "source": [
    "# reading the file while specifying an encoding\n",
    "pd.read_csv(os.path.join('data', 'pokemons', 'pokemons_english_names.csv'), encoding='ascii')"
   ]
  },
  {
   "cell_type": "markdown",
   "metadata": {},
   "source": [
    "Ok, now let's try to read pokemon names in French. Again, we'll try to use the ASCII encoding. But this time we won't be very lucky...\n",
    "\n",
    "In fact, this makes sense, because in French there are some characters, like accents, that are not supported by ASCII."
   ]
  },
  {
   "cell_type": "code",
   "execution_count": 38,
   "metadata": {},
   "outputs": [
    {
     "name": "stdout",
     "output_type": "stream",
     "text": [
      "'ascii' codec can't decode byte 0xe8 in position 60: ordinal not in range(128)\n"
     ]
    }
   ],
   "source": [
    "# trying to read a file with the wrong encoding -> error\n",
    "try:\n",
    "    pd.read_csv(os.path.join('data', 'pokemons', 'pokemons_french_names.csv'), encoding='ascii')\n",
    "except Exception as e:\n",
    "    print(e)    "
   ]
  },
  {
   "cell_type": "markdown",
   "metadata": {},
   "source": [
    "Be very careful with encodings, because sometimes, we can use an encoding that doesn't cause an error in read_csv, but that doesn't quite work either! See that weird character in Pokemon #4?"
   ]
  },
  {
   "cell_type": "code",
   "execution_count": 39,
   "metadata": {},
   "outputs": [
    {
     "data": {
      "text/html": [
       "<div>\n",
       "<style scoped>\n",
       "    .dataframe tbody tr th:only-of-type {\n",
       "        vertical-align: middle;\n",
       "    }\n",
       "\n",
       "    .dataframe tbody tr th {\n",
       "        vertical-align: top;\n",
       "    }\n",
       "\n",
       "    .dataframe thead th {\n",
       "        text-align: right;\n",
       "    }\n",
       "</style>\n",
       "<table border=\"1\" class=\"dataframe\">\n",
       "  <thead>\n",
       "    <tr style=\"text-align: right;\">\n",
       "      <th></th>\n",
       "      <th>#</th>\n",
       "      <th>French Name</th>\n",
       "    </tr>\n",
       "  </thead>\n",
       "  <tbody>\n",
       "    <tr>\n",
       "      <th>0</th>\n",
       "      <td>1</td>\n",
       "      <td>Bulbizarre</td>\n",
       "    </tr>\n",
       "    <tr>\n",
       "      <th>1</th>\n",
       "      <td>2</td>\n",
       "      <td>Herbizarre</td>\n",
       "    </tr>\n",
       "    <tr>\n",
       "      <th>2</th>\n",
       "      <td>3</td>\n",
       "      <td>Florizarre</td>\n",
       "    </tr>\n",
       "    <tr>\n",
       "      <th>3</th>\n",
       "      <td>4</td>\n",
       "      <td>Salamטche</td>\n",
       "    </tr>\n",
       "    <tr>\n",
       "      <th>4</th>\n",
       "      <td>5</td>\n",
       "      <td>Reptincel</td>\n",
       "    </tr>\n",
       "  </tbody>\n",
       "</table>\n",
       "</div>"
      ],
      "text/plain": [
       "   # French Name\n",
       "0  1  Bulbizarre\n",
       "1  2  Herbizarre\n",
       "2  3  Florizarre\n",
       "3  4   Salamטche\n",
       "4  5   Reptincel"
      ]
     },
     "execution_count": 39,
     "metadata": {},
     "output_type": "execute_result"
    }
   ],
   "source": [
    "# trying to read a file with a wrong encoding -> weird characters!\n",
    "pd.read_csv(os.path.join('data', 'pokemons', 'pokemons_french_names.csv'), encoding='cp1255')"
   ]
  },
  {
   "cell_type": "markdown",
   "metadata": {},
   "source": [
    "Ok, so we're reaching the conclusion that reading a file without knowing its encoding can be very painful...\n",
    "\n",
    "<br>\n",
    "<img src=\"./media/tell_me_your_files_encodings.png\" width=\"500\">\n",
    "<br>\n",
    "\n",
    "But fear no more, because we have a very handy tool that can help us with encodings!\n",
    "Meet [chardet](https://chardet.readthedocs.io/en/latest/).\n",
    "\n",
    "Chardet can be used to make a very educated guess about the encoding of a file. Which we can use later to read the file."
   ]
  },
  {
   "cell_type": "code",
   "execution_count": 40,
   "metadata": {},
   "outputs": [
    {
     "data": {
      "text/plain": [
       "{'encoding': 'ISO-8859-1', 'confidence': 0.73, 'language': ''}"
      ]
     },
     "execution_count": 40,
     "metadata": {},
     "output_type": "execute_result"
    }
   ],
   "source": [
    "# using chardet to find the encoding of our pokemons french names file\n",
    "chardet.detect(open(os.path.join('data', 'pokemons', 'pokemons_french_names.csv'), 'rb').read())"
   ]
  },
  {
   "cell_type": "code",
   "execution_count": 41,
   "metadata": {},
   "outputs": [
    {
     "data": {
      "text/html": [
       "<div>\n",
       "<style scoped>\n",
       "    .dataframe tbody tr th:only-of-type {\n",
       "        vertical-align: middle;\n",
       "    }\n",
       "\n",
       "    .dataframe tbody tr th {\n",
       "        vertical-align: top;\n",
       "    }\n",
       "\n",
       "    .dataframe thead th {\n",
       "        text-align: right;\n",
       "    }\n",
       "</style>\n",
       "<table border=\"1\" class=\"dataframe\">\n",
       "  <thead>\n",
       "    <tr style=\"text-align: right;\">\n",
       "      <th></th>\n",
       "      <th>#</th>\n",
       "      <th>French Name</th>\n",
       "    </tr>\n",
       "  </thead>\n",
       "  <tbody>\n",
       "    <tr>\n",
       "      <th>0</th>\n",
       "      <td>1</td>\n",
       "      <td>Bulbizarre</td>\n",
       "    </tr>\n",
       "    <tr>\n",
       "      <th>1</th>\n",
       "      <td>2</td>\n",
       "      <td>Herbizarre</td>\n",
       "    </tr>\n",
       "    <tr>\n",
       "      <th>2</th>\n",
       "      <td>3</td>\n",
       "      <td>Florizarre</td>\n",
       "    </tr>\n",
       "    <tr>\n",
       "      <th>3</th>\n",
       "      <td>4</td>\n",
       "      <td>Salamèche</td>\n",
       "    </tr>\n",
       "    <tr>\n",
       "      <th>4</th>\n",
       "      <td>5</td>\n",
       "      <td>Reptincel</td>\n",
       "    </tr>\n",
       "  </tbody>\n",
       "</table>\n",
       "</div>"
      ],
      "text/plain": [
       "   # French Name\n",
       "0  1  Bulbizarre\n",
       "1  2  Herbizarre\n",
       "2  3  Florizarre\n",
       "3  4   Salamèche\n",
       "4  5   Reptincel"
      ]
     },
     "execution_count": 41,
     "metadata": {},
     "output_type": "execute_result"
    }
   ],
   "source": [
    "# reading the file specifying the encoding returned by chardet -> it works!\n",
    "pd.read_csv(os.path.join('data', 'pokemons', 'pokemons_french_names.csv'), encoding='ISO-8859-1')"
   ]
  },
  {
   "cell_type": "markdown",
   "metadata": {},
   "source": [
    "Let's see an example with a little more complicated characters."
   ]
  },
  {
   "cell_type": "code",
   "execution_count": 42,
   "metadata": {
    "tags": []
   },
   "outputs": [
    {
     "name": "stdout",
     "output_type": "stream",
     "text": [
      "#,���{�̖��O\r\n",
      "1,�t�V�M�_�l\r\n",
      "2,�t�V�M�\\�E\r\n",
      "3,�t�V�M�o�i\r\n",
      "4,�q�g�J�Q\r\n",
      "5,���U�[�h\r\n"
     ]
    }
   ],
   "source": [
    "# ! type data\\pokemons\\pokemons_japanese_names.csv \n",
    "! cat data/pokemons/pokemons_japanese_names.csv"
   ]
  },
  {
   "cell_type": "code",
   "execution_count": 43,
   "metadata": {},
   "outputs": [
    {
     "data": {
      "text/plain": [
       "{'encoding': 'SHIFT_JIS', 'confidence': 0.99, 'language': 'Japanese'}"
      ]
     },
     "execution_count": 43,
     "metadata": {},
     "output_type": "execute_result"
    }
   ],
   "source": [
    "# chardet to the rescue!\n",
    "chardet.detect(open(os.path.join('data', 'pokemons', 'pokemons_japanese_names.csv'), 'rb').read())"
   ]
  },
  {
   "cell_type": "code",
   "execution_count": 44,
   "metadata": {
    "scrolled": true
   },
   "outputs": [
    {
     "data": {
      "text/html": [
       "<div>\n",
       "<style scoped>\n",
       "    .dataframe tbody tr th:only-of-type {\n",
       "        vertical-align: middle;\n",
       "    }\n",
       "\n",
       "    .dataframe tbody tr th {\n",
       "        vertical-align: top;\n",
       "    }\n",
       "\n",
       "    .dataframe thead th {\n",
       "        text-align: right;\n",
       "    }\n",
       "</style>\n",
       "<table border=\"1\" class=\"dataframe\">\n",
       "  <thead>\n",
       "    <tr style=\"text-align: right;\">\n",
       "      <th></th>\n",
       "      <th>#</th>\n",
       "      <th>日本の名前</th>\n",
       "    </tr>\n",
       "  </thead>\n",
       "  <tbody>\n",
       "    <tr>\n",
       "      <th>0</th>\n",
       "      <td>1</td>\n",
       "      <td>フシギダネ</td>\n",
       "    </tr>\n",
       "    <tr>\n",
       "      <th>1</th>\n",
       "      <td>2</td>\n",
       "      <td>フシギソウ</td>\n",
       "    </tr>\n",
       "    <tr>\n",
       "      <th>2</th>\n",
       "      <td>3</td>\n",
       "      <td>フシギバナ</td>\n",
       "    </tr>\n",
       "    <tr>\n",
       "      <th>3</th>\n",
       "      <td>4</td>\n",
       "      <td>ヒトカゲ</td>\n",
       "    </tr>\n",
       "    <tr>\n",
       "      <th>4</th>\n",
       "      <td>5</td>\n",
       "      <td>リザード</td>\n",
       "    </tr>\n",
       "  </tbody>\n",
       "</table>\n",
       "</div>"
      ],
      "text/plain": [
       "   #  日本の名前\n",
       "0  1  フシギダネ\n",
       "1  2  フシギソウ\n",
       "2  3  フシギバナ\n",
       "3  4   ヒトカゲ\n",
       "4  5   リザード"
      ]
     },
     "execution_count": 44,
     "metadata": {},
     "output_type": "execute_result"
    }
   ],
   "source": [
    "# reading the file with the right encoding\n",
    "pd.read_csv(os.path.join('data', 'pokemons', 'pokemons_japanese_names.csv'), encoding='SHIFT_JIS')"
   ]
  }
 ],
 "metadata": {
  "kernelspec": {
   "display_name": "Python 3",
   "language": "python",
   "name": "python3"
  },
  "language_info": {
   "codemirror_mode": {
    "name": "ipython",
    "version": 3
   },
   "file_extension": ".py",
   "mimetype": "text/x-python",
   "name": "python",
   "nbconvert_exporter": "python",
   "pygments_lexer": "ipython3",
   "version": "3.7.11"
  }
 },
 "nbformat": 4,
 "nbformat_minor": 2
}
