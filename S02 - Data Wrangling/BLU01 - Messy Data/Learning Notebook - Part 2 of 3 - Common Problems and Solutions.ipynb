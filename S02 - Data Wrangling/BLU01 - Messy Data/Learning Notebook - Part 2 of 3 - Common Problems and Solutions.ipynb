{
 "cells": [
  {
   "cell_type": "markdown",
   "metadata": {},
   "source": [
    "# Learning Notebook - Part 2 of 3 - Common Problems and Solutions"
   ]
  },
  {
   "cell_type": "markdown",
   "metadata": {},
   "source": [
    "## 1. Introduction\n",
    "\n",
    "Sometimes, the data we receive to work with, has a few problems.\n",
    "These can be badly formatted lines, strange characters in strings, data in the wrong data type...\n",
    "\n",
    "Usually, we call **data cleaning** to the process of manually inspecting raw data and solving existing issues.\n",
    "Clean data can then be used in a data pipeline to train some cool machine learning models :)\n",
    "\n",
    "So, let's clean some data!\n",
    "\n",
    "<img src=\"./media/henry.jpeg\" width=\"400\" align='left'>"
   ]
  },
  {
   "cell_type": "code",
   "execution_count": 1,
   "metadata": {},
   "outputs": [],
   "source": [
    "# Some imports\n",
    "import csv\n",
    "import os\n",
    "import pandas as pd"
   ]
  },
  {
   "cell_type": "code",
   "execution_count": 2,
   "metadata": {},
   "outputs": [],
   "source": [
    "# Some helper functions to get the data files path\n",
    "def pokemons_filepath(filename):\n",
    "    return os.path.join('data', 'pokemons', filename)\n",
    "\n",
    "\n",
    "def sharks_filepath(filename):\n",
    "    return os.path.join('data', 'sharks', filename)"
   ]
  },
  {
   "cell_type": "markdown",
   "metadata": {},
   "source": [
    "## 2. Bad lines\n",
    "\n",
    "When a file has one or more lines, with more columns than the rest of the file, function read_csv is not capable of creating a DataFrame with the data, and a `ParserError` is thrown."
   ]
  },
  {
   "cell_type": "code",
   "execution_count": 3,
   "metadata": {},
   "outputs": [
    {
     "name": "stdout",
     "output_type": "stream",
     "text": [
      "Error tokenizing data. C error: Expected 12 fields in line 3, saw 16\n",
      "\n"
     ]
    }
   ],
   "source": [
    "# sometimes, there are bad lines in a csv file\n",
    "try:\n",
    "    pd.read_csv(pokemons_filepath('pokemons_bad_lines.csv'))\n",
    "except Exception as e:\n",
    "    print(e)"
   ]
  },
  {
   "cell_type": "markdown",
   "metadata": {},
   "source": [
    "One possible way of solving this problem is simply telling function read_csv not to throw an error, which will make it ignore these bad lines. For this, we should use the argument **error_bad_lines**. Also, a warning is shown, letting us know that some lines were ignored.\n",
    "\n",
    "*Attention: the warning starts indexing the lines with 1. So when it says that line 3 was skipped, it was the line with index 2 in the file.*"
   ]
  },
  {
   "cell_type": "code",
   "execution_count": 4,
   "metadata": {
    "tags": []
   },
   "outputs": [
    {
     "name": "stderr",
     "output_type": "stream",
     "text": [
      "b'Skipping line 3: expected 12 fields, saw 16\\nSkipping line 6: expected 12 fields, saw 13\\n'\n"
     ]
    },
    {
     "data": {
      "text/html": [
       "<div>\n",
       "<style scoped>\n",
       "    .dataframe tbody tr th:only-of-type {\n",
       "        vertical-align: middle;\n",
       "    }\n",
       "\n",
       "    .dataframe tbody tr th {\n",
       "        vertical-align: top;\n",
       "    }\n",
       "\n",
       "    .dataframe thead th {\n",
       "        text-align: right;\n",
       "    }\n",
       "</style>\n",
       "<table border=\"1\" class=\"dataframe\">\n",
       "  <thead>\n",
       "    <tr style=\"text-align: right;\">\n",
       "      <th></th>\n",
       "      <th>#</th>\n",
       "      <th>Name</th>\n",
       "      <th>Type 1</th>\n",
       "      <th>Type 2</th>\n",
       "      <th>HP</th>\n",
       "      <th>Attack</th>\n",
       "      <th>Defense</th>\n",
       "      <th>Sp. Atk</th>\n",
       "      <th>Sp. Def</th>\n",
       "      <th>Speed</th>\n",
       "      <th>Generation</th>\n",
       "      <th>Legendary</th>\n",
       "    </tr>\n",
       "  </thead>\n",
       "  <tbody>\n",
       "    <tr>\n",
       "      <th>0</th>\n",
       "      <td>1</td>\n",
       "      <td>Bulbasaur</td>\n",
       "      <td>Grass</td>\n",
       "      <td>Poison</td>\n",
       "      <td>45</td>\n",
       "      <td>49</td>\n",
       "      <td>49</td>\n",
       "      <td>65</td>\n",
       "      <td>65</td>\n",
       "      <td>45</td>\n",
       "      <td>1</td>\n",
       "      <td>False</td>\n",
       "    </tr>\n",
       "    <tr>\n",
       "      <th>1</th>\n",
       "      <td>3</td>\n",
       "      <td>Venusaur</td>\n",
       "      <td>Grass</td>\n",
       "      <td>Poison</td>\n",
       "      <td>80</td>\n",
       "      <td>82</td>\n",
       "      <td>83</td>\n",
       "      <td>100</td>\n",
       "      <td>100</td>\n",
       "      <td>80</td>\n",
       "      <td>1</td>\n",
       "      <td>False</td>\n",
       "    </tr>\n",
       "    <tr>\n",
       "      <th>2</th>\n",
       "      <td>4</td>\n",
       "      <td>Mega Venusaur</td>\n",
       "      <td>Grass</td>\n",
       "      <td>Poison</td>\n",
       "      <td>80</td>\n",
       "      <td>100</td>\n",
       "      <td>123</td>\n",
       "      <td>122</td>\n",
       "      <td>120</td>\n",
       "      <td>80</td>\n",
       "      <td>1</td>\n",
       "      <td>False</td>\n",
       "    </tr>\n",
       "    <tr>\n",
       "      <th>3</th>\n",
       "      <td>6</td>\n",
       "      <td>Charmeleon</td>\n",
       "      <td>Fire</td>\n",
       "      <td>NaN</td>\n",
       "      <td>58</td>\n",
       "      <td>64</td>\n",
       "      <td>58</td>\n",
       "      <td>80</td>\n",
       "      <td>65</td>\n",
       "      <td>80</td>\n",
       "      <td>1</td>\n",
       "      <td>False</td>\n",
       "    </tr>\n",
       "  </tbody>\n",
       "</table>\n",
       "</div>"
      ],
      "text/plain": [
       "   #           Name Type 1  Type 2  HP  Attack  Defense  Sp. Atk  Sp. Def  \\\n",
       "0  1      Bulbasaur  Grass  Poison  45      49       49       65       65   \n",
       "1  3       Venusaur  Grass  Poison  80      82       83      100      100   \n",
       "2  4  Mega Venusaur  Grass  Poison  80     100      123      122      120   \n",
       "3  6     Charmeleon   Fire     NaN  58      64       58       80       65   \n",
       "\n",
       "   Speed  Generation  Legendary  \n",
       "0     45           1      False  \n",
       "1     80           1      False  \n",
       "2     80           1      False  \n",
       "3     80           1      False  "
      ]
     },
     "execution_count": 4,
     "metadata": {},
     "output_type": "execute_result"
    }
   ],
   "source": [
    "# error_bad_lines=False ignores bad lines and builds the df by dropping the bad lines\n",
    "pd.read_csv(pokemons_filepath('pokemons_bad_lines.csv'), error_bad_lines=False)"
   ]
  },
  {
   "cell_type": "markdown",
   "metadata": {},
   "source": [
    "But what if we're not interested in losing data? We may inspect those lines to see what's actually causing the problem!\n",
    "\n",
    "So, first, we open the file and create a file object that we can work with. For this we use Python's function **open**.\n",
    "\n",
    "Then, we use function **readlines** on the file object in order to store each line as an element in a list.\n",
    "\n",
    "Now we can inspect the lines where we know there's something wrong.\n",
    "\n",
    "In the end, we should close the file object, using Python's function **close**.\n",
    "\n",
    "[docs](https://docs.python.org/3.3/tutorial/inputoutput.html#methods-of-file-objects)"
   ]
  },
  {
   "cell_type": "code",
   "execution_count": 5,
   "metadata": {
    "tags": []
   },
   "outputs": [
    {
     "name": "stdout",
     "output_type": "stream",
     "text": [
      "2,Ivysaur,Grass,Poison,60,62,63,80,80,60,1,False,,,,\n",
      "\n",
      "5,Charmander,Fire,,39,52,43,60,50,65,1,False,extra column\n",
      "\n"
     ]
    }
   ],
   "source": [
    "# create a file object f\n",
    "f = open(pokemons_filepath('pokemons_bad_lines.csv'), 'r')\n",
    "\n",
    "# create a list of lines\n",
    "lines_list = f.readlines()\n",
    "\n",
    "# print the content of specific lines\n",
    "print(lines_list[2])\n",
    "print(lines_list[5])\n",
    "\n",
    "# closing the file\n",
    "f.close()"
   ]
  },
  {
   "cell_type": "markdown",
   "metadata": {},
   "source": [
    "After all, the lines with extra columns didn't have any problem, other than the extra elements at the end.\n",
    "So we can try to do better than just dumping the lines.\n",
    "\n",
    "For this, we can use Python's **csv** module: it has the **reader** function that can read a csv file into a list of lists.\n",
    "\n",
    "Then, we just have to make sure that each inner list has the same number of elements.\n",
    "\n",
    "[docs](https://docs.python.org/3/library/csv.html)"
   ]
  },
  {
   "cell_type": "code",
   "execution_count": 6,
   "metadata": {},
   "outputs": [
    {
     "data": {
      "text/plain": [
       "[['#',\n",
       "  'Name',\n",
       "  'Type 1',\n",
       "  'Type 2',\n",
       "  'HP',\n",
       "  'Attack',\n",
       "  'Defense',\n",
       "  'Sp. Atk',\n",
       "  'Sp. Def',\n",
       "  'Speed',\n",
       "  'Generation',\n",
       "  'Legendary'],\n",
       " ['1',\n",
       "  'Bulbasaur',\n",
       "  'Grass',\n",
       "  'Poison',\n",
       "  '45',\n",
       "  '49',\n",
       "  '49',\n",
       "  '65',\n",
       "  '65',\n",
       "  '45',\n",
       "  '1',\n",
       "  'False']]"
      ]
     },
     "execution_count": 6,
     "metadata": {},
     "output_type": "execute_result"
    }
   ],
   "source": [
    "# we can even deal with the extra columns, if they happen in the end of the line\n",
    "f = open(pokemons_filepath('pokemons_bad_lines.csv'), 'r')\n",
    "\n",
    "# read the csv into a list of lists\n",
    "csv_list = list(csv.reader(f))\n",
    "\n",
    "# these two lists correspond to the first two lines of the file\n",
    "csv_list[:2]"
   ]
  },
  {
   "cell_type": "code",
   "execution_count": 7,
   "metadata": {},
   "outputs": [
    {
     "data": {
      "text/html": [
       "<div>\n",
       "<style scoped>\n",
       "    .dataframe tbody tr th:only-of-type {\n",
       "        vertical-align: middle;\n",
       "    }\n",
       "\n",
       "    .dataframe tbody tr th {\n",
       "        vertical-align: top;\n",
       "    }\n",
       "\n",
       "    .dataframe thead th {\n",
       "        text-align: right;\n",
       "    }\n",
       "</style>\n",
       "<table border=\"1\" class=\"dataframe\">\n",
       "  <thead>\n",
       "    <tr style=\"text-align: right;\">\n",
       "      <th></th>\n",
       "      <th>#</th>\n",
       "      <th>Name</th>\n",
       "      <th>Type 1</th>\n",
       "      <th>Type 2</th>\n",
       "      <th>HP</th>\n",
       "      <th>Attack</th>\n",
       "      <th>Defense</th>\n",
       "      <th>Sp. Atk</th>\n",
       "      <th>Sp. Def</th>\n",
       "      <th>Speed</th>\n",
       "      <th>Generation</th>\n",
       "      <th>Legendary</th>\n",
       "    </tr>\n",
       "  </thead>\n",
       "  <tbody>\n",
       "    <tr>\n",
       "      <th>0</th>\n",
       "      <td>1</td>\n",
       "      <td>Bulbasaur</td>\n",
       "      <td>Grass</td>\n",
       "      <td>Poison</td>\n",
       "      <td>45</td>\n",
       "      <td>49</td>\n",
       "      <td>49</td>\n",
       "      <td>65</td>\n",
       "      <td>65</td>\n",
       "      <td>45</td>\n",
       "      <td>1</td>\n",
       "      <td>False</td>\n",
       "    </tr>\n",
       "    <tr>\n",
       "      <th>1</th>\n",
       "      <td>2</td>\n",
       "      <td>Ivysaur</td>\n",
       "      <td>Grass</td>\n",
       "      <td>Poison</td>\n",
       "      <td>60</td>\n",
       "      <td>62</td>\n",
       "      <td>63</td>\n",
       "      <td>80</td>\n",
       "      <td>80</td>\n",
       "      <td>60</td>\n",
       "      <td>1</td>\n",
       "      <td>False</td>\n",
       "    </tr>\n",
       "    <tr>\n",
       "      <th>2</th>\n",
       "      <td>3</td>\n",
       "      <td>Venusaur</td>\n",
       "      <td>Grass</td>\n",
       "      <td>Poison</td>\n",
       "      <td>80</td>\n",
       "      <td>82</td>\n",
       "      <td>83</td>\n",
       "      <td>100</td>\n",
       "      <td>100</td>\n",
       "      <td>80</td>\n",
       "      <td>1</td>\n",
       "      <td>False</td>\n",
       "    </tr>\n",
       "    <tr>\n",
       "      <th>3</th>\n",
       "      <td>4</td>\n",
       "      <td>Mega Venusaur</td>\n",
       "      <td>Grass</td>\n",
       "      <td>Poison</td>\n",
       "      <td>80</td>\n",
       "      <td>100</td>\n",
       "      <td>123</td>\n",
       "      <td>122</td>\n",
       "      <td>120</td>\n",
       "      <td>80</td>\n",
       "      <td>1</td>\n",
       "      <td>False</td>\n",
       "    </tr>\n",
       "    <tr>\n",
       "      <th>4</th>\n",
       "      <td>5</td>\n",
       "      <td>Charmander</td>\n",
       "      <td>Fire</td>\n",
       "      <td></td>\n",
       "      <td>39</td>\n",
       "      <td>52</td>\n",
       "      <td>43</td>\n",
       "      <td>60</td>\n",
       "      <td>50</td>\n",
       "      <td>65</td>\n",
       "      <td>1</td>\n",
       "      <td>False</td>\n",
       "    </tr>\n",
       "    <tr>\n",
       "      <th>5</th>\n",
       "      <td>6</td>\n",
       "      <td>Charmeleon</td>\n",
       "      <td>Fire</td>\n",
       "      <td></td>\n",
       "      <td>58</td>\n",
       "      <td>64</td>\n",
       "      <td>58</td>\n",
       "      <td>80</td>\n",
       "      <td>65</td>\n",
       "      <td>80</td>\n",
       "      <td>1</td>\n",
       "      <td>False</td>\n",
       "    </tr>\n",
       "  </tbody>\n",
       "</table>\n",
       "</div>"
      ],
      "text/plain": [
       "   #           Name Type 1  Type 2  HP Attack Defense Sp. Atk Sp. Def Speed  \\\n",
       "0  1      Bulbasaur  Grass  Poison  45     49      49      65      65    45   \n",
       "1  2        Ivysaur  Grass  Poison  60     62      63      80      80    60   \n",
       "2  3       Venusaur  Grass  Poison  80     82      83     100     100    80   \n",
       "3  4  Mega Venusaur  Grass  Poison  80    100     123     122     120    80   \n",
       "4  5     Charmander   Fire          39     52      43      60      50    65   \n",
       "5  6     Charmeleon   Fire          58     64      58      80      65    80   \n",
       "\n",
       "  Generation Legendary  \n",
       "0          1     False  \n",
       "1          1     False  \n",
       "2          1     False  \n",
       "3          1     False  \n",
       "4          1     False  \n",
       "5          1     False  "
      ]
     },
     "execution_count": 7,
     "metadata": {},
     "output_type": "execute_result"
    }
   ],
   "source": [
    "# we want each line to have at most 12 elements\n",
    "n_elements = 12\n",
    "\n",
    "# each inner list can only have up to n_elements\n",
    "csv_list = [i[:n_elements] for i in csv_list]\n",
    "f.close()\n",
    "\n",
    "# we finally create a DataFrame, using the first list as the column names, and the other lists as data\n",
    "pd.DataFrame(csv_list[1:], columns=csv_list[0])"
   ]
  },
  {
   "cell_type": "markdown",
   "metadata": {},
   "source": [
    "## 3. Pandas for data cleaning\n",
    "\n",
    "<img src=\"./media/pandas_cleaning.jpeg\" width=\"500\" align='left'>"
   ]
  },
  {
   "cell_type": "markdown",
   "metadata": {},
   "source": [
    "Let's now see an example on how to use pandas to clean data in a DataFrame.\n",
    "Some of these methods were already shown to you, but here you'll get a more extended example on how to use them.\n",
    "\n",
    "We'll start by previewing our data."
   ]
  },
  {
   "cell_type": "code",
   "execution_count": 8,
   "metadata": {
    "tags": []
   },
   "outputs": [
    {
     "name": "stdout",
     "output_type": "stream",
     "text": [
      "Id,Scientific name,Common name,Population trend,IUCN status\r\n",
      "#027,Haploblepharus fuscus,   Brown/shyshark     ,unknown,Vulnerable[96]\r\n",
      "#041,Mustelus fasciatus,  Striped/smooth-hound    ,decreasing,Critically endangered[128]\r\n",
      "#023,Glyphis gangeticus,     Ganges/shark   ,decreasing,Critically endangered [88]\r\n",
      "#011,Carcharhinus plumbeus,   Sandbar/shark  ,decreasing,Vulnerable[54]\r\n"
     ]
    }
   ],
   "source": [
    "! head -5 data/sharks/endangered_sharks.csv"
   ]
  },
  {
   "cell_type": "markdown",
   "metadata": {},
   "source": [
    "And then read it into a pandas DataFrame."
   ]
  },
  {
   "cell_type": "code",
   "execution_count": 9,
   "metadata": {},
   "outputs": [
    {
     "data": {
      "text/html": [
       "<div>\n",
       "<style scoped>\n",
       "    .dataframe tbody tr th:only-of-type {\n",
       "        vertical-align: middle;\n",
       "    }\n",
       "\n",
       "    .dataframe tbody tr th {\n",
       "        vertical-align: top;\n",
       "    }\n",
       "\n",
       "    .dataframe thead th {\n",
       "        text-align: right;\n",
       "    }\n",
       "</style>\n",
       "<table border=\"1\" class=\"dataframe\">\n",
       "  <thead>\n",
       "    <tr style=\"text-align: right;\">\n",
       "      <th></th>\n",
       "      <th>Id</th>\n",
       "      <th>Scientific name</th>\n",
       "      <th>Common name</th>\n",
       "      <th>Population trend</th>\n",
       "      <th>IUCN status</th>\n",
       "    </tr>\n",
       "  </thead>\n",
       "  <tbody>\n",
       "    <tr>\n",
       "      <th>0</th>\n",
       "      <td>#027</td>\n",
       "      <td>Haploblepharus fuscus</td>\n",
       "      <td>Brown/shyshark</td>\n",
       "      <td>unknown</td>\n",
       "      <td>Vulnerable[96]</td>\n",
       "    </tr>\n",
       "    <tr>\n",
       "      <th>1</th>\n",
       "      <td>#041</td>\n",
       "      <td>Mustelus fasciatus</td>\n",
       "      <td>Striped/smooth-hound</td>\n",
       "      <td>decreasing</td>\n",
       "      <td>Critically endangered[128]</td>\n",
       "    </tr>\n",
       "    <tr>\n",
       "      <th>2</th>\n",
       "      <td>#023</td>\n",
       "      <td>Glyphis gangeticus</td>\n",
       "      <td>Ganges/shark</td>\n",
       "      <td>decreasing</td>\n",
       "      <td>Critically endangered [88]</td>\n",
       "    </tr>\n",
       "    <tr>\n",
       "      <th>3</th>\n",
       "      <td>#011</td>\n",
       "      <td>Carcharhinus plumbeus</td>\n",
       "      <td>Sandbar/shark</td>\n",
       "      <td>decreasing</td>\n",
       "      <td>Vulnerable[54]</td>\n",
       "    </tr>\n",
       "    <tr>\n",
       "      <th>4</th>\n",
       "      <td>#025</td>\n",
       "      <td>Glyphis glyphis</td>\n",
       "      <td>Speartooth/shark</td>\n",
       "      <td>decreasing</td>\n",
       "      <td>Endangered[92]</td>\n",
       "    </tr>\n",
       "  </tbody>\n",
       "</table>\n",
       "</div>"
      ],
      "text/plain": [
       "     Id        Scientific name                 Common name Population trend  \\\n",
       "0  #027  Haploblepharus fuscus         Brown/shyshark               unknown   \n",
       "1  #041     Mustelus fasciatus    Striped/smooth-hound           decreasing   \n",
       "2  #023     Glyphis gangeticus             Ganges/shark          decreasing   \n",
       "3  #011  Carcharhinus plumbeus             Sandbar/shark         decreasing   \n",
       "4  #025        Glyphis glyphis       Speartooth/shark            decreasing   \n",
       "\n",
       "                  IUCN status  \n",
       "0              Vulnerable[96]  \n",
       "1  Critically endangered[128]  \n",
       "2  Critically endangered [88]  \n",
       "3              Vulnerable[54]  \n",
       "4              Endangered[92]  "
      ]
     },
     "execution_count": 9,
     "metadata": {},
     "output_type": "execute_result"
    }
   ],
   "source": [
    "sharks = pd.read_csv(sharks_filepath('endangered_sharks.csv'))\n",
    "sharks.head()"
   ]
  },
  {
   "cell_type": "markdown",
   "metadata": {},
   "source": [
    "Gladly, the reading part went ok. But the need of some cleaning is very obvious!\n",
    "\n",
    "\n",
    "### String methods\n",
    "\n",
    "[docs](https://pandas.pydata.org/pandas-docs/stable/text.html)\n",
    "\n",
    "The first tool we'll use are the Python's string methods applied to pandas DataFrames.\n",
    "We can apply the same string methods, that we know from Python, to all the elements in a pandas Series, by calling them with a `.str` before the method name.\n",
    "\n",
    "Let's see some examples."
   ]
  },
  {
   "cell_type": "markdown",
   "metadata": {},
   "source": [
    "In the first example, we'll tackle column 'Common name'. We can see that the words in the sharks' names are separated by slashes ('/') instead of blank spaces (' ').\n",
    "\n",
    "In order to replace the slashes with blank spaces, we can use method **replace**.\n",
    "Notice that we call the method like .str.replace !"
   ]
  },
  {
   "cell_type": "code",
   "execution_count": 10,
   "metadata": {},
   "outputs": [
    {
     "data": {
      "text/html": [
       "<div>\n",
       "<style scoped>\n",
       "    .dataframe tbody tr th:only-of-type {\n",
       "        vertical-align: middle;\n",
       "    }\n",
       "\n",
       "    .dataframe tbody tr th {\n",
       "        vertical-align: top;\n",
       "    }\n",
       "\n",
       "    .dataframe thead th {\n",
       "        text-align: right;\n",
       "    }\n",
       "</style>\n",
       "<table border=\"1\" class=\"dataframe\">\n",
       "  <thead>\n",
       "    <tr style=\"text-align: right;\">\n",
       "      <th></th>\n",
       "      <th>Id</th>\n",
       "      <th>Scientific name</th>\n",
       "      <th>Common name</th>\n",
       "      <th>Population trend</th>\n",
       "      <th>IUCN status</th>\n",
       "    </tr>\n",
       "  </thead>\n",
       "  <tbody>\n",
       "    <tr>\n",
       "      <th>0</th>\n",
       "      <td>#027</td>\n",
       "      <td>Haploblepharus fuscus</td>\n",
       "      <td>Brown shyshark</td>\n",
       "      <td>unknown</td>\n",
       "      <td>Vulnerable[96]</td>\n",
       "    </tr>\n",
       "    <tr>\n",
       "      <th>1</th>\n",
       "      <td>#041</td>\n",
       "      <td>Mustelus fasciatus</td>\n",
       "      <td>Striped smooth-hound</td>\n",
       "      <td>decreasing</td>\n",
       "      <td>Critically endangered[128]</td>\n",
       "    </tr>\n",
       "    <tr>\n",
       "      <th>2</th>\n",
       "      <td>#023</td>\n",
       "      <td>Glyphis gangeticus</td>\n",
       "      <td>Ganges shark</td>\n",
       "      <td>decreasing</td>\n",
       "      <td>Critically endangered [88]</td>\n",
       "    </tr>\n",
       "    <tr>\n",
       "      <th>3</th>\n",
       "      <td>#011</td>\n",
       "      <td>Carcharhinus plumbeus</td>\n",
       "      <td>Sandbar shark</td>\n",
       "      <td>decreasing</td>\n",
       "      <td>Vulnerable[54]</td>\n",
       "    </tr>\n",
       "    <tr>\n",
       "      <th>4</th>\n",
       "      <td>#025</td>\n",
       "      <td>Glyphis glyphis</td>\n",
       "      <td>Speartooth shark</td>\n",
       "      <td>decreasing</td>\n",
       "      <td>Endangered[92]</td>\n",
       "    </tr>\n",
       "  </tbody>\n",
       "</table>\n",
       "</div>"
      ],
      "text/plain": [
       "     Id        Scientific name                 Common name Population trend  \\\n",
       "0  #027  Haploblepharus fuscus         Brown shyshark               unknown   \n",
       "1  #041     Mustelus fasciatus    Striped smooth-hound           decreasing   \n",
       "2  #023     Glyphis gangeticus             Ganges shark          decreasing   \n",
       "3  #011  Carcharhinus plumbeus             Sandbar shark         decreasing   \n",
       "4  #025        Glyphis glyphis       Speartooth shark            decreasing   \n",
       "\n",
       "                  IUCN status  \n",
       "0              Vulnerable[96]  \n",
       "1  Critically endangered[128]  \n",
       "2  Critically endangered [88]  \n",
       "3              Vulnerable[54]  \n",
       "4              Endangered[92]  "
      ]
     },
     "execution_count": 10,
     "metadata": {},
     "output_type": "execute_result"
    }
   ],
   "source": [
    "# replacing the slashes '/' with blank spaces ' ' in column 'Common name'\n",
    "sharks['Common name'] = sharks['Common name'].str.replace('/', ' ')\n",
    "sharks.head()"
   ]
  },
  {
   "cell_type": "markdown",
   "metadata": {},
   "source": [
    "When we previewed the file, we could see that the values in the 'Common name' column had some blank spaces at the beginning and at the end. We can see that again by selecting the first value of the column."
   ]
  },
  {
   "cell_type": "code",
   "execution_count": 11,
   "metadata": {},
   "outputs": [
    {
     "data": {
      "text/plain": [
       "'   Brown shyshark     '"
      ]
     },
     "execution_count": 11,
     "metadata": {},
     "output_type": "execute_result"
    }
   ],
   "source": [
    "sharks.loc[0, 'Common name']"
   ]
  },
  {
   "cell_type": "markdown",
   "metadata": {},
   "source": [
    "In order to remove these blank spaces, we'll use method **strip**. Remember that method strip only removes blank spaces at the beginning and at the end of the strings. All the blank spaces in the middle of the string will be kept, which is exactly what we want!"
   ]
  },
  {
   "cell_type": "code",
   "execution_count": 12,
   "metadata": {},
   "outputs": [
    {
     "data": {
      "text/plain": [
       "'Brown shyshark'"
      ]
     },
     "execution_count": 12,
     "metadata": {},
     "output_type": "execute_result"
    }
   ],
   "source": [
    "# remove blank spaces in column Common name\n",
    "sharks['Common name'] = sharks['Common name'].str.strip()\n",
    "sharks.loc[0, 'Common name']"
   ]
  },
  {
   "cell_type": "markdown",
   "metadata": {},
   "source": [
    "Method strip removes blank spaces by default. But we can also ask it to remove other character or set of characters.\n",
    "\n",
    "For instance, by calling method strip with ' -', we're removing both blank spaces ' ' and dashes '-'."
   ]
  },
  {
   "cell_type": "code",
   "execution_count": 13,
   "metadata": {},
   "outputs": [
    {
     "data": {
      "text/plain": [
       "0    1\n",
       "1    2\n",
       "2    3\n",
       "dtype: object"
      ]
     },
     "execution_count": 13,
     "metadata": {},
     "output_type": "execute_result"
    }
   ],
   "source": [
    "s = pd.Series(['---1--', '-  2  ', '  3   '])\n",
    "s.str.strip(' -')"
   ]
  },
  {
   "cell_type": "markdown",
   "metadata": {},
   "source": [
    "Then, in column 'IUCN status', we can see that all the strings end with [some_number]. We want to remove these from the strings. For this, we'll use methods **split** and **get**.\n",
    "\n",
    "As it's name suggests, method split splits the strings, according to some separator, into a list of parts.\n",
    "For instance, by calling split('[') for the first value of the column, we get the list ['Vulnerable', '96]'].\n",
    "\n",
    "Then, method get allows us to retrieve an element part from the lists."
   ]
  },
  {
   "cell_type": "code",
   "execution_count": 14,
   "metadata": {},
   "outputs": [
    {
     "data": {
      "text/html": [
       "<div>\n",
       "<style scoped>\n",
       "    .dataframe tbody tr th:only-of-type {\n",
       "        vertical-align: middle;\n",
       "    }\n",
       "\n",
       "    .dataframe tbody tr th {\n",
       "        vertical-align: top;\n",
       "    }\n",
       "\n",
       "    .dataframe thead th {\n",
       "        text-align: right;\n",
       "    }\n",
       "</style>\n",
       "<table border=\"1\" class=\"dataframe\">\n",
       "  <thead>\n",
       "    <tr style=\"text-align: right;\">\n",
       "      <th></th>\n",
       "      <th>Id</th>\n",
       "      <th>Scientific name</th>\n",
       "      <th>Common name</th>\n",
       "      <th>Population trend</th>\n",
       "      <th>IUCN status</th>\n",
       "    </tr>\n",
       "  </thead>\n",
       "  <tbody>\n",
       "    <tr>\n",
       "      <th>0</th>\n",
       "      <td>#027</td>\n",
       "      <td>Haploblepharus fuscus</td>\n",
       "      <td>Brown shyshark</td>\n",
       "      <td>unknown</td>\n",
       "      <td>Vulnerable</td>\n",
       "    </tr>\n",
       "    <tr>\n",
       "      <th>1</th>\n",
       "      <td>#041</td>\n",
       "      <td>Mustelus fasciatus</td>\n",
       "      <td>Striped smooth-hound</td>\n",
       "      <td>decreasing</td>\n",
       "      <td>Critically endangered</td>\n",
       "    </tr>\n",
       "    <tr>\n",
       "      <th>2</th>\n",
       "      <td>#023</td>\n",
       "      <td>Glyphis gangeticus</td>\n",
       "      <td>Ganges shark</td>\n",
       "      <td>decreasing</td>\n",
       "      <td>Critically endangered</td>\n",
       "    </tr>\n",
       "    <tr>\n",
       "      <th>3</th>\n",
       "      <td>#011</td>\n",
       "      <td>Carcharhinus plumbeus</td>\n",
       "      <td>Sandbar shark</td>\n",
       "      <td>decreasing</td>\n",
       "      <td>Vulnerable</td>\n",
       "    </tr>\n",
       "    <tr>\n",
       "      <th>4</th>\n",
       "      <td>#025</td>\n",
       "      <td>Glyphis glyphis</td>\n",
       "      <td>Speartooth shark</td>\n",
       "      <td>decreasing</td>\n",
       "      <td>Endangered</td>\n",
       "    </tr>\n",
       "  </tbody>\n",
       "</table>\n",
       "</div>"
      ],
      "text/plain": [
       "     Id        Scientific name           Common name Population trend  \\\n",
       "0  #027  Haploblepharus fuscus        Brown shyshark          unknown   \n",
       "1  #041     Mustelus fasciatus  Striped smooth-hound       decreasing   \n",
       "2  #023     Glyphis gangeticus          Ganges shark       decreasing   \n",
       "3  #011  Carcharhinus plumbeus         Sandbar shark       decreasing   \n",
       "4  #025        Glyphis glyphis      Speartooth shark       decreasing   \n",
       "\n",
       "              IUCN status  \n",
       "0              Vulnerable  \n",
       "1   Critically endangered  \n",
       "2  Critically endangered   \n",
       "3              Vulnerable  \n",
       "4              Endangered  "
      ]
     },
     "execution_count": 14,
     "metadata": {},
     "output_type": "execute_result"
    }
   ],
   "source": [
    "# remove [some_number] in column IUCN status\n",
    "sharks['IUCN status'] = sharks['IUCN status'].str.split('[').str.get(0)\n",
    "sharks.head()"
   ]
  },
  {
   "cell_type": "markdown",
   "metadata": {},
   "source": [
    "Next example is to separate column 'Scientific name' into two new columns: 'Genus' and 'Species', where the genus is the first word from the scientific name, and the species is the second word.\n",
    "\n",
    "We'll use again the split method. But this time, we have to give it an extra argument, which is the number of parts that we want to split the strings into. This way, we can assign each of the split parts to a different pandas Series and thus create two new columns."
   ]
  },
  {
   "cell_type": "code",
   "execution_count": 15,
   "metadata": {},
   "outputs": [
    {
     "name": "stderr",
     "output_type": "stream",
     "text": [
      "/home/ppribeir/dev/private/LDSSA/projects/batch5-instructors/venv_BLU01/lib/python3.7/site-packages/ipykernel_launcher.py:2: FutureWarning: Columnar iteration over characters will be deprecated in future releases.\n",
      "  \n"
     ]
    },
    {
     "data": {
      "text/html": [
       "<div>\n",
       "<style scoped>\n",
       "    .dataframe tbody tr th:only-of-type {\n",
       "        vertical-align: middle;\n",
       "    }\n",
       "\n",
       "    .dataframe tbody tr th {\n",
       "        vertical-align: top;\n",
       "    }\n",
       "\n",
       "    .dataframe thead th {\n",
       "        text-align: right;\n",
       "    }\n",
       "</style>\n",
       "<table border=\"1\" class=\"dataframe\">\n",
       "  <thead>\n",
       "    <tr style=\"text-align: right;\">\n",
       "      <th></th>\n",
       "      <th>Id</th>\n",
       "      <th>Scientific name</th>\n",
       "      <th>Common name</th>\n",
       "      <th>Population trend</th>\n",
       "      <th>IUCN status</th>\n",
       "      <th>Genus</th>\n",
       "      <th>Species</th>\n",
       "    </tr>\n",
       "  </thead>\n",
       "  <tbody>\n",
       "    <tr>\n",
       "      <th>0</th>\n",
       "      <td>#027</td>\n",
       "      <td>Haploblepharus fuscus</td>\n",
       "      <td>Brown shyshark</td>\n",
       "      <td>unknown</td>\n",
       "      <td>Vulnerable</td>\n",
       "      <td>Haploblepharus</td>\n",
       "      <td>fuscus</td>\n",
       "    </tr>\n",
       "    <tr>\n",
       "      <th>1</th>\n",
       "      <td>#041</td>\n",
       "      <td>Mustelus fasciatus</td>\n",
       "      <td>Striped smooth-hound</td>\n",
       "      <td>decreasing</td>\n",
       "      <td>Critically endangered</td>\n",
       "      <td>Mustelus</td>\n",
       "      <td>fasciatus</td>\n",
       "    </tr>\n",
       "    <tr>\n",
       "      <th>2</th>\n",
       "      <td>#023</td>\n",
       "      <td>Glyphis gangeticus</td>\n",
       "      <td>Ganges shark</td>\n",
       "      <td>decreasing</td>\n",
       "      <td>Critically endangered</td>\n",
       "      <td>Glyphis</td>\n",
       "      <td>gangeticus</td>\n",
       "    </tr>\n",
       "    <tr>\n",
       "      <th>3</th>\n",
       "      <td>#011</td>\n",
       "      <td>Carcharhinus plumbeus</td>\n",
       "      <td>Sandbar shark</td>\n",
       "      <td>decreasing</td>\n",
       "      <td>Vulnerable</td>\n",
       "      <td>Carcharhinus</td>\n",
       "      <td>plumbeus</td>\n",
       "    </tr>\n",
       "    <tr>\n",
       "      <th>4</th>\n",
       "      <td>#025</td>\n",
       "      <td>Glyphis glyphis</td>\n",
       "      <td>Speartooth shark</td>\n",
       "      <td>decreasing</td>\n",
       "      <td>Endangered</td>\n",
       "      <td>Glyphis</td>\n",
       "      <td>glyphis</td>\n",
       "    </tr>\n",
       "  </tbody>\n",
       "</table>\n",
       "</div>"
      ],
      "text/plain": [
       "     Id        Scientific name           Common name Population trend  \\\n",
       "0  #027  Haploblepharus fuscus        Brown shyshark          unknown   \n",
       "1  #041     Mustelus fasciatus  Striped smooth-hound       decreasing   \n",
       "2  #023     Glyphis gangeticus          Ganges shark       decreasing   \n",
       "3  #011  Carcharhinus plumbeus         Sandbar shark       decreasing   \n",
       "4  #025        Glyphis glyphis      Speartooth shark       decreasing   \n",
       "\n",
       "              IUCN status           Genus     Species  \n",
       "0              Vulnerable  Haploblepharus      fuscus  \n",
       "1   Critically endangered        Mustelus   fasciatus  \n",
       "2  Critically endangered          Glyphis  gangeticus  \n",
       "3              Vulnerable    Carcharhinus    plumbeus  \n",
       "4              Endangered         Glyphis     glyphis  "
      ]
     },
     "execution_count": 15,
     "metadata": {},
     "output_type": "execute_result"
    }
   ],
   "source": [
    "# split the Scientific name in two columns: genus and species\n",
    "sharks['Genus'], sharks['Species'] = sharks['Scientific name'].str.split(' ', 1).str\n",
    "sharks.head()"
   ]
  },
  {
   "cell_type": "markdown",
   "metadata": {},
   "source": [
    "Now we've got a genus and a species for each shark. But there is an inconsistency in the way we're presenting the genus, which is capitalized, and the species, which is not capitalized (it's starting with lower case).\n",
    "\n",
    "In order to fix this, we can use method **capitalize**, which makes the first character in a string uppercase."
   ]
  },
  {
   "cell_type": "code",
   "execution_count": 16,
   "metadata": {},
   "outputs": [
    {
     "data": {
      "text/html": [
       "<div>\n",
       "<style scoped>\n",
       "    .dataframe tbody tr th:only-of-type {\n",
       "        vertical-align: middle;\n",
       "    }\n",
       "\n",
       "    .dataframe tbody tr th {\n",
       "        vertical-align: top;\n",
       "    }\n",
       "\n",
       "    .dataframe thead th {\n",
       "        text-align: right;\n",
       "    }\n",
       "</style>\n",
       "<table border=\"1\" class=\"dataframe\">\n",
       "  <thead>\n",
       "    <tr style=\"text-align: right;\">\n",
       "      <th></th>\n",
       "      <th>Id</th>\n",
       "      <th>Scientific name</th>\n",
       "      <th>Common name</th>\n",
       "      <th>Population trend</th>\n",
       "      <th>IUCN status</th>\n",
       "      <th>Genus</th>\n",
       "      <th>Species</th>\n",
       "    </tr>\n",
       "  </thead>\n",
       "  <tbody>\n",
       "    <tr>\n",
       "      <th>0</th>\n",
       "      <td>#027</td>\n",
       "      <td>Haploblepharus fuscus</td>\n",
       "      <td>Brown shyshark</td>\n",
       "      <td>unknown</td>\n",
       "      <td>Vulnerable</td>\n",
       "      <td>Haploblepharus</td>\n",
       "      <td>Fuscus</td>\n",
       "    </tr>\n",
       "    <tr>\n",
       "      <th>1</th>\n",
       "      <td>#041</td>\n",
       "      <td>Mustelus fasciatus</td>\n",
       "      <td>Striped smooth-hound</td>\n",
       "      <td>decreasing</td>\n",
       "      <td>Critically endangered</td>\n",
       "      <td>Mustelus</td>\n",
       "      <td>Fasciatus</td>\n",
       "    </tr>\n",
       "    <tr>\n",
       "      <th>2</th>\n",
       "      <td>#023</td>\n",
       "      <td>Glyphis gangeticus</td>\n",
       "      <td>Ganges shark</td>\n",
       "      <td>decreasing</td>\n",
       "      <td>Critically endangered</td>\n",
       "      <td>Glyphis</td>\n",
       "      <td>Gangeticus</td>\n",
       "    </tr>\n",
       "    <tr>\n",
       "      <th>3</th>\n",
       "      <td>#011</td>\n",
       "      <td>Carcharhinus plumbeus</td>\n",
       "      <td>Sandbar shark</td>\n",
       "      <td>decreasing</td>\n",
       "      <td>Vulnerable</td>\n",
       "      <td>Carcharhinus</td>\n",
       "      <td>Plumbeus</td>\n",
       "    </tr>\n",
       "    <tr>\n",
       "      <th>4</th>\n",
       "      <td>#025</td>\n",
       "      <td>Glyphis glyphis</td>\n",
       "      <td>Speartooth shark</td>\n",
       "      <td>decreasing</td>\n",
       "      <td>Endangered</td>\n",
       "      <td>Glyphis</td>\n",
       "      <td>Glyphis</td>\n",
       "    </tr>\n",
       "  </tbody>\n",
       "</table>\n",
       "</div>"
      ],
      "text/plain": [
       "     Id        Scientific name           Common name Population trend  \\\n",
       "0  #027  Haploblepharus fuscus        Brown shyshark          unknown   \n",
       "1  #041     Mustelus fasciatus  Striped smooth-hound       decreasing   \n",
       "2  #023     Glyphis gangeticus          Ganges shark       decreasing   \n",
       "3  #011  Carcharhinus plumbeus         Sandbar shark       decreasing   \n",
       "4  #025        Glyphis glyphis      Speartooth shark       decreasing   \n",
       "\n",
       "              IUCN status           Genus     Species  \n",
       "0              Vulnerable  Haploblepharus      Fuscus  \n",
       "1   Critically endangered        Mustelus   Fasciatus  \n",
       "2  Critically endangered          Glyphis  Gangeticus  \n",
       "3              Vulnerable    Carcharhinus    Plumbeus  \n",
       "4              Endangered         Glyphis     Glyphis  "
      ]
     },
     "execution_count": 16,
     "metadata": {},
     "output_type": "execute_result"
    }
   ],
   "source": [
    "# capitalize the strings in column 'Species'\n",
    "sharks['Species'] = sharks['Species'].str.capitalize()\n",
    "sharks.head()"
   ]
  },
  {
   "cell_type": "markdown",
   "metadata": {},
   "source": [
    "The last example with string manipulation is in column 'Id', where we want to remove the number signs '#'."
   ]
  },
  {
   "cell_type": "code",
   "execution_count": 17,
   "metadata": {},
   "outputs": [
    {
     "data": {
      "text/html": [
       "<div>\n",
       "<style scoped>\n",
       "    .dataframe tbody tr th:only-of-type {\n",
       "        vertical-align: middle;\n",
       "    }\n",
       "\n",
       "    .dataframe tbody tr th {\n",
       "        vertical-align: top;\n",
       "    }\n",
       "\n",
       "    .dataframe thead th {\n",
       "        text-align: right;\n",
       "    }\n",
       "</style>\n",
       "<table border=\"1\" class=\"dataframe\">\n",
       "  <thead>\n",
       "    <tr style=\"text-align: right;\">\n",
       "      <th></th>\n",
       "      <th>Id</th>\n",
       "      <th>Scientific name</th>\n",
       "      <th>Common name</th>\n",
       "      <th>Population trend</th>\n",
       "      <th>IUCN status</th>\n",
       "      <th>Genus</th>\n",
       "      <th>Species</th>\n",
       "    </tr>\n",
       "  </thead>\n",
       "  <tbody>\n",
       "    <tr>\n",
       "      <th>0</th>\n",
       "      <td>027</td>\n",
       "      <td>Haploblepharus fuscus</td>\n",
       "      <td>Brown shyshark</td>\n",
       "      <td>unknown</td>\n",
       "      <td>Vulnerable</td>\n",
       "      <td>Haploblepharus</td>\n",
       "      <td>Fuscus</td>\n",
       "    </tr>\n",
       "    <tr>\n",
       "      <th>1</th>\n",
       "      <td>041</td>\n",
       "      <td>Mustelus fasciatus</td>\n",
       "      <td>Striped smooth-hound</td>\n",
       "      <td>decreasing</td>\n",
       "      <td>Critically endangered</td>\n",
       "      <td>Mustelus</td>\n",
       "      <td>Fasciatus</td>\n",
       "    </tr>\n",
       "    <tr>\n",
       "      <th>2</th>\n",
       "      <td>023</td>\n",
       "      <td>Glyphis gangeticus</td>\n",
       "      <td>Ganges shark</td>\n",
       "      <td>decreasing</td>\n",
       "      <td>Critically endangered</td>\n",
       "      <td>Glyphis</td>\n",
       "      <td>Gangeticus</td>\n",
       "    </tr>\n",
       "    <tr>\n",
       "      <th>3</th>\n",
       "      <td>011</td>\n",
       "      <td>Carcharhinus plumbeus</td>\n",
       "      <td>Sandbar shark</td>\n",
       "      <td>decreasing</td>\n",
       "      <td>Vulnerable</td>\n",
       "      <td>Carcharhinus</td>\n",
       "      <td>Plumbeus</td>\n",
       "    </tr>\n",
       "    <tr>\n",
       "      <th>4</th>\n",
       "      <td>025</td>\n",
       "      <td>Glyphis glyphis</td>\n",
       "      <td>Speartooth shark</td>\n",
       "      <td>decreasing</td>\n",
       "      <td>Endangered</td>\n",
       "      <td>Glyphis</td>\n",
       "      <td>Glyphis</td>\n",
       "    </tr>\n",
       "  </tbody>\n",
       "</table>\n",
       "</div>"
      ],
      "text/plain": [
       "    Id        Scientific name           Common name Population trend  \\\n",
       "0  027  Haploblepharus fuscus        Brown shyshark          unknown   \n",
       "1  041     Mustelus fasciatus  Striped smooth-hound       decreasing   \n",
       "2  023     Glyphis gangeticus          Ganges shark       decreasing   \n",
       "3  011  Carcharhinus plumbeus         Sandbar shark       decreasing   \n",
       "4  025        Glyphis glyphis      Speartooth shark       decreasing   \n",
       "\n",
       "              IUCN status           Genus     Species  \n",
       "0              Vulnerable  Haploblepharus      Fuscus  \n",
       "1   Critically endangered        Mustelus   Fasciatus  \n",
       "2  Critically endangered          Glyphis  Gangeticus  \n",
       "3              Vulnerable    Carcharhinus    Plumbeus  \n",
       "4              Endangered         Glyphis     Glyphis  "
      ]
     },
     "execution_count": 17,
     "metadata": {},
     "output_type": "execute_result"
    }
   ],
   "source": [
    "# remove the '#' from column 'Id'\n",
    "sharks['Id'] = sharks['Id'].str.lstrip('#')\n",
    "sharks.head()"
   ]
  },
  {
   "cell_type": "markdown",
   "metadata": {},
   "source": [
    "### Set data types\n",
    "\n",
    "Now that column 'Id' lost the '#', we can turn it into a numeric column.\n",
    "\n",
    "Method **astype** can be used to cast the values of the column to int data type."
   ]
  },
  {
   "cell_type": "code",
   "execution_count": 18,
   "metadata": {},
   "outputs": [
    {
     "data": {
      "text/html": [
       "<div>\n",
       "<style scoped>\n",
       "    .dataframe tbody tr th:only-of-type {\n",
       "        vertical-align: middle;\n",
       "    }\n",
       "\n",
       "    .dataframe tbody tr th {\n",
       "        vertical-align: top;\n",
       "    }\n",
       "\n",
       "    .dataframe thead th {\n",
       "        text-align: right;\n",
       "    }\n",
       "</style>\n",
       "<table border=\"1\" class=\"dataframe\">\n",
       "  <thead>\n",
       "    <tr style=\"text-align: right;\">\n",
       "      <th></th>\n",
       "      <th>Id</th>\n",
       "      <th>Scientific name</th>\n",
       "      <th>Common name</th>\n",
       "      <th>Population trend</th>\n",
       "      <th>IUCN status</th>\n",
       "      <th>Genus</th>\n",
       "      <th>Species</th>\n",
       "    </tr>\n",
       "  </thead>\n",
       "  <tbody>\n",
       "    <tr>\n",
       "      <th>0</th>\n",
       "      <td>27</td>\n",
       "      <td>Haploblepharus fuscus</td>\n",
       "      <td>Brown shyshark</td>\n",
       "      <td>unknown</td>\n",
       "      <td>Vulnerable</td>\n",
       "      <td>Haploblepharus</td>\n",
       "      <td>Fuscus</td>\n",
       "    </tr>\n",
       "    <tr>\n",
       "      <th>1</th>\n",
       "      <td>41</td>\n",
       "      <td>Mustelus fasciatus</td>\n",
       "      <td>Striped smooth-hound</td>\n",
       "      <td>decreasing</td>\n",
       "      <td>Critically endangered</td>\n",
       "      <td>Mustelus</td>\n",
       "      <td>Fasciatus</td>\n",
       "    </tr>\n",
       "    <tr>\n",
       "      <th>2</th>\n",
       "      <td>23</td>\n",
       "      <td>Glyphis gangeticus</td>\n",
       "      <td>Ganges shark</td>\n",
       "      <td>decreasing</td>\n",
       "      <td>Critically endangered</td>\n",
       "      <td>Glyphis</td>\n",
       "      <td>Gangeticus</td>\n",
       "    </tr>\n",
       "    <tr>\n",
       "      <th>3</th>\n",
       "      <td>11</td>\n",
       "      <td>Carcharhinus plumbeus</td>\n",
       "      <td>Sandbar shark</td>\n",
       "      <td>decreasing</td>\n",
       "      <td>Vulnerable</td>\n",
       "      <td>Carcharhinus</td>\n",
       "      <td>Plumbeus</td>\n",
       "    </tr>\n",
       "    <tr>\n",
       "      <th>4</th>\n",
       "      <td>25</td>\n",
       "      <td>Glyphis glyphis</td>\n",
       "      <td>Speartooth shark</td>\n",
       "      <td>decreasing</td>\n",
       "      <td>Endangered</td>\n",
       "      <td>Glyphis</td>\n",
       "      <td>Glyphis</td>\n",
       "    </tr>\n",
       "  </tbody>\n",
       "</table>\n",
       "</div>"
      ],
      "text/plain": [
       "   Id        Scientific name           Common name Population trend  \\\n",
       "0  27  Haploblepharus fuscus        Brown shyshark          unknown   \n",
       "1  41     Mustelus fasciatus  Striped smooth-hound       decreasing   \n",
       "2  23     Glyphis gangeticus          Ganges shark       decreasing   \n",
       "3  11  Carcharhinus plumbeus         Sandbar shark       decreasing   \n",
       "4  25        Glyphis glyphis      Speartooth shark       decreasing   \n",
       "\n",
       "              IUCN status           Genus     Species  \n",
       "0              Vulnerable  Haploblepharus      Fuscus  \n",
       "1   Critically endangered        Mustelus   Fasciatus  \n",
       "2  Critically endangered          Glyphis  Gangeticus  \n",
       "3              Vulnerable    Carcharhinus    Plumbeus  \n",
       "4              Endangered         Glyphis     Glyphis  "
      ]
     },
     "execution_count": 18,
     "metadata": {},
     "output_type": "execute_result"
    }
   ],
   "source": [
    "sharks['Id'] = sharks['Id'].astype(int)\n",
    "sharks.head()"
   ]
  },
  {
   "cell_type": "markdown",
   "metadata": {},
   "source": [
    "### Replace values & Rename columns\n",
    "\n",
    "Our data is starting to look much better! Now let's see an example of the **replace** method.\n",
    "We'll try to make the information in column 'Population trend' more legible.\n",
    "\n",
    "First thing to do is to replace the cells with value 'unknown' with the character '?', and the cells with value 'decreasing' with value True. Then, we'll change the column name to 'Decreasing population'."
   ]
  },
  {
   "cell_type": "code",
   "execution_count": 19,
   "metadata": {},
   "outputs": [
    {
     "data": {
      "text/plain": [
       "array(['unknown', 'decreasing'], dtype=object)"
      ]
     },
     "execution_count": 19,
     "metadata": {},
     "output_type": "execute_result"
    }
   ],
   "source": [
    "# besides \"decreasing\" labels, is there any oher labels, e.g. like \"increasing\"?\n",
    "sharks['Population trend'].unique()"
   ]
  },
  {
   "cell_type": "code",
   "execution_count": 20,
   "metadata": {},
   "outputs": [
    {
     "data": {
      "text/html": [
       "<div>\n",
       "<style scoped>\n",
       "    .dataframe tbody tr th:only-of-type {\n",
       "        vertical-align: middle;\n",
       "    }\n",
       "\n",
       "    .dataframe tbody tr th {\n",
       "        vertical-align: top;\n",
       "    }\n",
       "\n",
       "    .dataframe thead th {\n",
       "        text-align: right;\n",
       "    }\n",
       "</style>\n",
       "<table border=\"1\" class=\"dataframe\">\n",
       "  <thead>\n",
       "    <tr style=\"text-align: right;\">\n",
       "      <th></th>\n",
       "      <th>Id</th>\n",
       "      <th>Scientific name</th>\n",
       "      <th>Common name</th>\n",
       "      <th>Population trend</th>\n",
       "      <th>IUCN status</th>\n",
       "      <th>Genus</th>\n",
       "      <th>Species</th>\n",
       "    </tr>\n",
       "  </thead>\n",
       "  <tbody>\n",
       "    <tr>\n",
       "      <th>0</th>\n",
       "      <td>27</td>\n",
       "      <td>Haploblepharus fuscus</td>\n",
       "      <td>Brown shyshark</td>\n",
       "      <td>?</td>\n",
       "      <td>Vulnerable</td>\n",
       "      <td>Haploblepharus</td>\n",
       "      <td>Fuscus</td>\n",
       "    </tr>\n",
       "    <tr>\n",
       "      <th>1</th>\n",
       "      <td>41</td>\n",
       "      <td>Mustelus fasciatus</td>\n",
       "      <td>Striped smooth-hound</td>\n",
       "      <td>True</td>\n",
       "      <td>Critically endangered</td>\n",
       "      <td>Mustelus</td>\n",
       "      <td>Fasciatus</td>\n",
       "    </tr>\n",
       "    <tr>\n",
       "      <th>2</th>\n",
       "      <td>23</td>\n",
       "      <td>Glyphis gangeticus</td>\n",
       "      <td>Ganges shark</td>\n",
       "      <td>True</td>\n",
       "      <td>Critically endangered</td>\n",
       "      <td>Glyphis</td>\n",
       "      <td>Gangeticus</td>\n",
       "    </tr>\n",
       "    <tr>\n",
       "      <th>3</th>\n",
       "      <td>11</td>\n",
       "      <td>Carcharhinus plumbeus</td>\n",
       "      <td>Sandbar shark</td>\n",
       "      <td>True</td>\n",
       "      <td>Vulnerable</td>\n",
       "      <td>Carcharhinus</td>\n",
       "      <td>Plumbeus</td>\n",
       "    </tr>\n",
       "    <tr>\n",
       "      <th>4</th>\n",
       "      <td>25</td>\n",
       "      <td>Glyphis glyphis</td>\n",
       "      <td>Speartooth shark</td>\n",
       "      <td>True</td>\n",
       "      <td>Endangered</td>\n",
       "      <td>Glyphis</td>\n",
       "      <td>Glyphis</td>\n",
       "    </tr>\n",
       "  </tbody>\n",
       "</table>\n",
       "</div>"
      ],
      "text/plain": [
       "   Id        Scientific name           Common name Population trend  \\\n",
       "0  27  Haploblepharus fuscus        Brown shyshark                ?   \n",
       "1  41     Mustelus fasciatus  Striped smooth-hound             True   \n",
       "2  23     Glyphis gangeticus          Ganges shark             True   \n",
       "3  11  Carcharhinus plumbeus         Sandbar shark             True   \n",
       "4  25        Glyphis glyphis      Speartooth shark             True   \n",
       "\n",
       "              IUCN status           Genus     Species  \n",
       "0              Vulnerable  Haploblepharus      Fuscus  \n",
       "1   Critically endangered        Mustelus   Fasciatus  \n",
       "2  Critically endangered          Glyphis  Gangeticus  \n",
       "3              Vulnerable    Carcharhinus    Plumbeus  \n",
       "4              Endangered         Glyphis     Glyphis  "
      ]
     },
     "execution_count": 20,
     "metadata": {},
     "output_type": "execute_result"
    }
   ],
   "source": [
    "# replacing values in column 'Population trend'\n",
    "sharks['Population trend'] = sharks['Population trend'].replace({'unknown': '?', 'decreasing': True})\n",
    "sharks.head()"
   ]
  },
  {
   "cell_type": "code",
   "execution_count": 21,
   "metadata": {},
   "outputs": [
    {
     "data": {
      "text/html": [
       "<div>\n",
       "<style scoped>\n",
       "    .dataframe tbody tr th:only-of-type {\n",
       "        vertical-align: middle;\n",
       "    }\n",
       "\n",
       "    .dataframe tbody tr th {\n",
       "        vertical-align: top;\n",
       "    }\n",
       "\n",
       "    .dataframe thead th {\n",
       "        text-align: right;\n",
       "    }\n",
       "</style>\n",
       "<table border=\"1\" class=\"dataframe\">\n",
       "  <thead>\n",
       "    <tr style=\"text-align: right;\">\n",
       "      <th></th>\n",
       "      <th>Id</th>\n",
       "      <th>Scientific name</th>\n",
       "      <th>Common name</th>\n",
       "      <th>Decreasing population</th>\n",
       "      <th>IUCN status</th>\n",
       "      <th>Genus</th>\n",
       "      <th>Species</th>\n",
       "    </tr>\n",
       "  </thead>\n",
       "  <tbody>\n",
       "    <tr>\n",
       "      <th>0</th>\n",
       "      <td>27</td>\n",
       "      <td>Haploblepharus fuscus</td>\n",
       "      <td>Brown shyshark</td>\n",
       "      <td>?</td>\n",
       "      <td>Vulnerable</td>\n",
       "      <td>Haploblepharus</td>\n",
       "      <td>Fuscus</td>\n",
       "    </tr>\n",
       "    <tr>\n",
       "      <th>1</th>\n",
       "      <td>41</td>\n",
       "      <td>Mustelus fasciatus</td>\n",
       "      <td>Striped smooth-hound</td>\n",
       "      <td>True</td>\n",
       "      <td>Critically endangered</td>\n",
       "      <td>Mustelus</td>\n",
       "      <td>Fasciatus</td>\n",
       "    </tr>\n",
       "    <tr>\n",
       "      <th>2</th>\n",
       "      <td>23</td>\n",
       "      <td>Glyphis gangeticus</td>\n",
       "      <td>Ganges shark</td>\n",
       "      <td>True</td>\n",
       "      <td>Critically endangered</td>\n",
       "      <td>Glyphis</td>\n",
       "      <td>Gangeticus</td>\n",
       "    </tr>\n",
       "    <tr>\n",
       "      <th>3</th>\n",
       "      <td>11</td>\n",
       "      <td>Carcharhinus plumbeus</td>\n",
       "      <td>Sandbar shark</td>\n",
       "      <td>True</td>\n",
       "      <td>Vulnerable</td>\n",
       "      <td>Carcharhinus</td>\n",
       "      <td>Plumbeus</td>\n",
       "    </tr>\n",
       "    <tr>\n",
       "      <th>4</th>\n",
       "      <td>25</td>\n",
       "      <td>Glyphis glyphis</td>\n",
       "      <td>Speartooth shark</td>\n",
       "      <td>True</td>\n",
       "      <td>Endangered</td>\n",
       "      <td>Glyphis</td>\n",
       "      <td>Glyphis</td>\n",
       "    </tr>\n",
       "  </tbody>\n",
       "</table>\n",
       "</div>"
      ],
      "text/plain": [
       "   Id        Scientific name           Common name Decreasing population  \\\n",
       "0  27  Haploblepharus fuscus        Brown shyshark                     ?   \n",
       "1  41     Mustelus fasciatus  Striped smooth-hound                  True   \n",
       "2  23     Glyphis gangeticus          Ganges shark                  True   \n",
       "3  11  Carcharhinus plumbeus         Sandbar shark                  True   \n",
       "4  25        Glyphis glyphis      Speartooth shark                  True   \n",
       "\n",
       "              IUCN status           Genus     Species  \n",
       "0              Vulnerable  Haploblepharus      Fuscus  \n",
       "1   Critically endangered        Mustelus   Fasciatus  \n",
       "2  Critically endangered          Glyphis  Gangeticus  \n",
       "3              Vulnerable    Carcharhinus    Plumbeus  \n",
       "4              Endangered         Glyphis     Glyphis  "
      ]
     },
     "execution_count": 21,
     "metadata": {},
     "output_type": "execute_result"
    }
   ],
   "source": [
    "# Changing column's 'Population trend' name to 'Decreasing population'\n",
    "sharks = sharks.rename(columns={'Population trend': 'Decreasing population'})\n",
    "sharks.head()"
   ]
  },
  {
   "cell_type": "markdown",
   "metadata": {},
   "source": [
    "And finally our data seems much better, right?\n",
    "The only thing left is to sort the values using the 'Id' column, but I'll leave that one to you!"
   ]
  }
 ],
 "metadata": {
  "kernelspec": {
   "display_name": "Python 3",
   "language": "python",
   "name": "python3"
  },
  "language_info": {
   "codemirror_mode": {
    "name": "ipython",
    "version": 3
   },
   "file_extension": ".py",
   "mimetype": "text/x-python",
   "name": "python",
   "nbconvert_exporter": "python",
   "pygments_lexer": "ipython3",
   "version": "3.7.11"
  }
 },
 "nbformat": 4,
 "nbformat_minor": 2
}
