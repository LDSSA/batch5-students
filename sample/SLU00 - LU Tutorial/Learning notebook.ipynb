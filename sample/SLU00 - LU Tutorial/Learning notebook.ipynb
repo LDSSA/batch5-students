{
 "cells": [
  {
   "cell_type": "markdown",
   "metadata": {},
   "source": [
    "# SLU00 - LU Tutorial: Learning notebook\n",
    "\n",
    "All learning notebooks must start with the following sentence and bullet points:\n",
    "\n",
    "In this notebook we will be covering the following:\n",
    "\n",
    "- Make generous use of markdown cells\n",
    "- Use unambiguous definitions\n",
    "- Be sure to explain your imports\n",
    "- Preview your DataFrames\n",
    "- Follow the mathematical notation guide\n",
    "- Make sure to wrap up with important points\n",
    "- Include references and additional optional material\n",
    "- Be fun!"
   ]
  },
  {
   "cell_type": "markdown",
   "metadata": {},
   "source": [
    "## Make generous use of markdown cells"
   ]
  },
  {
   "cell_type": "markdown",
   "metadata": {},
   "source": [
    "Cells in Jypyter notebooks have different types. One of such types are Markdown Cells. You can see the different types by clicking \"Cell -> Cell Type\" and selecting \"Markdown\". Alternatively you can turn any cell that you are currently editing into a Markdown cell by \"ESC\" and them \"m\".\n",
    "\n",
    "Markdown allows you to embed images, use latex, bulleted lists, and lots of other stuff that's great for communication. You should use it and use it generously!"
   ]
  },
  {
   "cell_type": "markdown",
   "metadata": {},
   "source": [
    "## Use unambiguous definitions\n",
    "\n",
    "Take a moment at the top of the Learning Notebooks to set out any critical definitions that are used for the rest of the notebook. You won't want to set them all out at the exact same time because it might mess up the flow of the notebook but put as many as you can as early on as you can!"
   ]
  },
  {
   "cell_type": "markdown",
   "metadata": {},
   "source": [
    "## Be sure to explain your imports\n",
    "\n",
    "Any time you do an import, be sure to make a comment on it so that it's not just some magic that came from somewhere.\n",
    "\n",
    "For example, you would do the following to explain why pandas is imported as it is:"
   ]
  },
  {
   "cell_type": "code",
   "execution_count": 2,
   "metadata": {},
   "outputs": [],
   "source": [
    "import pandas as pd"
   ]
  },
  {
   "cell_type": "markdown",
   "metadata": {},
   "source": [
    "Notice that we import pandas as \"pd\". This is not required, but it's standard."
   ]
  },
  {
   "cell_type": "markdown",
   "metadata": {},
   "source": [
    "##  Always preview your DataFrames, Series or other data\n",
    "\n",
    "If you read a csv or even if you create a dataframe from scratch right inline, you should still let it be the last statement in a cell so that jupyter does a nice formatting of it that everyone can easily read."
   ]
  },
  {
   "cell_type": "markdown",
   "metadata": {},
   "source": [
    "Here's an example of displaying a series:"
   ]
  },
  {
   "cell_type": "code",
   "execution_count": 4,
   "metadata": {},
   "outputs": [
    {
     "data": {
      "text/plain": [
       "0       Google\n",
       "1    Microsoft\n",
       "2     Facebook\n",
       "3        Apple\n",
       "dtype: object"
      ]
     },
     "execution_count": 4,
     "metadata": {},
     "output_type": "execute_result"
    }
   ],
   "source": [
    "s1 = pd.Series([\"Google\", \"Microsoft\", \"Facebook\", \"Apple\"])\n",
    "s1"
   ]
  },
  {
   "cell_type": "markdown",
   "metadata": {},
   "source": [
    "And here's an example of displaying a DataFrame that is created inline"
   ]
  },
  {
   "cell_type": "code",
   "execution_count": 8,
   "metadata": {},
   "outputs": [],
   "source": [
    "df0 = pd.DataFrame([ [1, 2, 3, 7], [4.2, 6.1, 8.9, -4.1], [\"a\", \"b\", \"c\", \"z\"] ],\n",
    "                   columns=[\"col_1\", \"col_2\", \"col_3\", \"col_4\"])"
   ]
  },
  {
   "cell_type": "code",
   "execution_count": 9,
   "metadata": {},
   "outputs": [
    {
     "data": {
      "text/html": [
       "<div>\n",
       "<style scoped>\n",
       "    .dataframe tbody tr th:only-of-type {\n",
       "        vertical-align: middle;\n",
       "    }\n",
       "\n",
       "    .dataframe tbody tr th {\n",
       "        vertical-align: top;\n",
       "    }\n",
       "\n",
       "    .dataframe thead th {\n",
       "        text-align: right;\n",
       "    }\n",
       "</style>\n",
       "<table border=\"1\" class=\"dataframe\">\n",
       "  <thead>\n",
       "    <tr style=\"text-align: right;\">\n",
       "      <th></th>\n",
       "      <th>col_1</th>\n",
       "      <th>col_2</th>\n",
       "      <th>col_3</th>\n",
       "      <th>col_4</th>\n",
       "    </tr>\n",
       "  </thead>\n",
       "  <tbody>\n",
       "    <tr>\n",
       "      <th>0</th>\n",
       "      <td>1</td>\n",
       "      <td>2</td>\n",
       "      <td>3</td>\n",
       "      <td>7</td>\n",
       "    </tr>\n",
       "    <tr>\n",
       "      <th>1</th>\n",
       "      <td>4.2</td>\n",
       "      <td>6.1</td>\n",
       "      <td>8.9</td>\n",
       "      <td>-4.1</td>\n",
       "    </tr>\n",
       "    <tr>\n",
       "      <th>2</th>\n",
       "      <td>a</td>\n",
       "      <td>b</td>\n",
       "      <td>c</td>\n",
       "      <td>z</td>\n",
       "    </tr>\n",
       "  </tbody>\n",
       "</table>\n",
       "</div>"
      ],
      "text/plain": [
       "  col_1 col_2 col_3 col_4\n",
       "0     1     2     3     7\n",
       "1   4.2   6.1   8.9  -4.1\n",
       "2     a     b     c     z"
      ]
     },
     "execution_count": 9,
     "metadata": {},
     "output_type": "execute_result"
    }
   ],
   "source": [
    "df0"
   ]
  },
  {
   "cell_type": "markdown",
   "metadata": {},
   "source": [
    "If you want to display values that are in a regular array you can just display it like so:"
   ]
  },
  {
   "cell_type": "code",
   "execution_count": 12,
   "metadata": {},
   "outputs": [
    {
     "data": {
      "text/plain": [
       "['Wes', 'McKinney', 'Martin', 'Fowler']"
      ]
     },
     "execution_count": 12,
     "metadata": {},
     "output_type": "execute_result"
    }
   ],
   "source": [
    "my_arr = ['Wes', 'McKinney', 'Martin', 'Fowler']\n",
    "my_arr"
   ]
  },
  {
   "cell_type": "markdown",
   "metadata": {},
   "source": [
    "Or if it's too ugly, you can do some simple formatting using the `.join()` functin:"
   ]
  },
  {
   "cell_type": "code",
   "execution_count": 14,
   "metadata": {},
   "outputs": [
    {
     "name": "stdout",
     "output_type": "stream",
     "text": [
      "Wes\n",
      "McKinney\n",
      "Martin\n",
      "Fowler\n"
     ]
    }
   ],
   "source": [
    "print('\\n'.join(my_arr))"
   ]
  },
  {
   "cell_type": "markdown",
   "metadata": {},
   "source": [
    "In short, there are lots of ways to present data in the notebooks. Be sure to take a few minutes to figure out the best way to do it so that people don't get stuck squinting at something like a 100-element array that doesn't have proper wrapping."
   ]
  },
  {
   "cell_type": "markdown",
   "metadata": {},
   "source": [
    "## Follow the mathematical notation guide\n",
    "\n",
    "There is a very short and simple mathematical notation guide [available here](https://github.com/LDSSA/curriculum-development/files/3220556/ldssa_notation_guidelines.pdf) that should be followed. If you have requests to make of it or you feel that it is incorrect, contact Ascencao about it on slack."
   ]
  },
  {
   "cell_type": "markdown",
   "metadata": {},
   "source": [
    "## Wrap up with important points\n",
    "\n",
    "- Make a bulleted list\n",
    "- Of important points\n",
    "- That can serve as a quick reference of what was covered"
   ]
  },
  {
   "cell_type": "markdown",
   "metadata": {},
   "source": [
    "## Include references to optional material\n",
    "\n",
    "The students know that the more time they put into learning, the more they will get out of the academy. If there are important articles or further material that are not necessarily required but are related to the subject and they might benefit from, encourage them to follow it by leaving a list of references here."
   ]
  },
  {
   "cell_type": "markdown",
   "metadata": {},
   "source": [
    "## Be fun!\n",
    "\n",
    "I (Sam) am not good at being fun in my learning material. However, Pedro is and you can see some examples of how to be fun in some of batch2's notebooks such as [this one](https://github.com/LDSSA/batch2-BLU03/blob/master/learning_notebooks/Part%201%20-%20Predicting%20timeseries%20in%20the%20real%20world%20new.ipynb).\n",
    "\n",
    "Hint: it helps if you are fluent in meme!"
   ]
  }
 ],
 "metadata": {
  "kernelspec": {
   "display_name": "Python 3",
   "language": "python",
   "name": "python3"
  },
  "language_info": {
   "codemirror_mode": {
    "name": "ipython",
    "version": 3
   },
   "file_extension": ".py",
   "mimetype": "text/x-python",
   "name": "python",
   "nbconvert_exporter": "python",
   "pygments_lexer": "ipython3",
   "version": "3.7.6"
  }
 },
 "nbformat": 4,
 "nbformat_minor": 2
}
