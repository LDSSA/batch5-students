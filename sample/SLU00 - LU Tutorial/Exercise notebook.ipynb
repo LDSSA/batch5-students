{
 "cells": [
  {
   "cell_type": "markdown",
   "metadata": {
    "deletable": false,
    "editable": false,
    "nbgrader": {
     "grade": false,
     "grade_id": "cell-46d843154dcd7d0f",
     "locked": true,
     "schema_version": 1,
     "solution": false
    }
   },
   "source": [
    "# SLU00 - LU Tutorial: Exercise notebook\n",
    "\n",
    "The Exercise notebooks are the most delicate part of the Learning Unit. It is VERY important that these exercise notebooks are well-reviewed, understandable, and that students can get immediate feedback on whether or not their answers are right.\n",
    "\n",
    "The Exercise notebooks look very different for the students and the instructors. For the instructors, they look like something like this:\n",
    "\n",
    "<img width=\"500\" src=\"https://i.imgur.com/kTxbSON.png\"/>\n",
    "\n",
    "While for students they look like this:\n",
    "\n",
    "<img width=\"500\" src=\"https://i.imgur.com/LtfvXgg.png\"/>"
   ]
  },
  {
   "cell_type": "markdown",
   "metadata": {
    "deletable": false,
    "editable": false,
    "nbgrader": {
     "grade": false,
     "grade_id": "cell-6d2f06d701e19789",
     "locked": true,
     "schema_version": 1,
     "solution": false
    }
   },
   "source": [
    "## Basic Rules\n",
    "\n",
    "### Make stuff read-only\n",
    "\n",
    "Make as many cells read-only as possible. All markdown cells should be read-only. Many code cells that you don't want the students to be able to edit should be read-only. What the notebook should end up looking like is mostly read-only with sparsly distributed editable code cells in which the students implement focused exercises.\n",
    "\n",
    "### Mirror the topics in the Learning Notebook\n",
    "\n",
    "Just as in the Exercise notebooks, there should be a bulleted list that summarizes the topics that they will be tested on. In practice this will usually mirror the same bulleted list of topics that are covered in the Exercise notebook.\n",
    "\n",
    "### NEVER use hidden cells for grading\n",
    "\n",
    "This makes things a bit complicated to create graded cells that don't give away the answer but hidden cells make it impossible for the students to get immediate feedback on their answers which is a non-negotiable requirement.\n",
    "\n",
    "### Make the exercises self-contained if possible\n",
    "\n",
    "If a student cannot get the answer to an exercise in the middle of the notebook, it would be nice if they were able to continue on with the next ones. This may not always be possible but you should try to do so whenever possible.\n",
    "\n",
    "### Make every exercise notebook sum to 20 points\n",
    "\n",
    "If a student cannot get the answer to an exercise in the middle of the notebook, it would be nice if they were able to continue on with the next ones. This may not always be possible but you should try to do so whenever possible."
   ]
  },
  {
   "cell_type": "code",
   "execution_count": null,
   "metadata": {},
   "outputs": [],
   "source": [
    "# Place any important imports at the top of the notebook when possible\n",
    "import pandas as pd\n",
    "import hashlib\n",
    "import json"
   ]
  },
  {
   "cell_type": "markdown",
   "metadata": {
    "deletable": false,
    "editable": false,
    "nbgrader": {
     "grade": false,
     "grade_id": "cell-4a34bd8a41530e62",
     "locked": true,
     "schema_version": 1,
     "solution": false
    }
   },
   "source": [
    "In this notebook the following is tested:\n",
    "\n",
    "- Basic list usage\n",
    "- Dictionary definition\n",
    "- Addition and subtraction"
   ]
  },
  {
   "cell_type": "markdown",
   "metadata": {
    "deletable": false,
    "editable": false,
    "nbgrader": {
     "grade": false,
     "grade_id": "cell-13b85f82dcf86759",
     "locked": true,
     "schema_version": 1,
     "solution": false
    }
   },
   "source": [
    "## Basic List Usage"
   ]
  },
  {
   "cell_type": "markdown",
   "metadata": {
    "deletable": false,
    "editable": false,
    "nbgrader": {
     "grade": false,
     "grade_id": "cell-8cb295450c798c5e",
     "locked": true,
     "schema_version": 1,
     "solution": false
    }
   },
   "source": [
    "The first example Exercise will focus around list usage. The concept of an Exercise will serve to define a section where there will be a set of questions in it. The Exercises will be numbered and the actual questions will also be numbered subsections. This allows students to be able to say things like: \"In Exercise 3.2 I am having trouble understanding why it is wrong\"."
   ]
  },
  {
   "cell_type": "markdown",
   "metadata": {
    "deletable": false,
    "editable": false,
    "nbgrader": {
     "grade": false,
     "grade_id": "cell-338b88f7b1299ed2",
     "locked": true,
     "schema_version": 1,
     "solution": false
    }
   },
   "source": [
    "## Exercise 1: List Definition\n",
    "\n",
    "In this first exercise the goal is to demonstrate a basic understanding of the list data structure and how to perform the most important and basic functions with it."
   ]
  },
  {
   "cell_type": "markdown",
   "metadata": {
    "deletable": false,
    "editable": false,
    "nbgrader": {
     "grade": false,
     "grade_id": "cell-546708e14b12ee66",
     "locked": true,
     "schema_version": 1,
     "solution": false
    }
   },
   "source": [
    "#### 1.1) Create a list of numbers"
   ]
  },
  {
   "cell_type": "markdown",
   "metadata": {
    "deletable": false,
    "editable": false,
    "nbgrader": {
     "grade": false,
     "grade_id": "cell-0be1345e6313af0b",
     "locked": true,
     "schema_version": 1,
     "solution": false
    }
   },
   "source": [
    "The format of a cell where the students are to write code that is graded is the following:\n",
    "\n",
    "1. Some comments with general guidance.\n",
    "1. A commented out declaration of the variable name they are to populate with the correct answer.\n",
    "    - The correct answer.\n",
    "    - Printed hashes of the correct answer or subsets of the correct answer. This part can be kind of tricky to figure out how how to do fairly and correctly. It can also be a bit difficult to subset the answer and check only sub-parts of it but you really should in order to avoid a situation where it is all-or-nothing for the student and they have no idea what part of the answer they could have gotten wrong.\n",
    "\n",
    "I'm including a screenshot here so that anyone reading the student version of this notebook has an idea of what is going on behind the scenes. If you're looking at the instructor version of this notebook, the following image is probably redundant:\n",
    "\n",
    "<img width=\"500px\" src=\"https://i.imgur.com/nu91L9E.png\"/>"
   ]
  },
  {
   "cell_type": "code",
   "execution_count": null,
   "metadata": {
    "deletable": false,
    "nbgrader": {
     "grade": false,
     "grade_id": "cell-6e62f4a661edbaf0",
     "locked": false,
     "schema_version": 1,
     "solution": true
    }
   },
   "outputs": [],
   "source": [
    "# Create a list of numbers in a particular order\n",
    "\n",
    "# Create a list of integers 0-5 inclusive and assign it to the variable \"numbers\"\n",
    "# numbers = ...\n",
    "\n",
    "# YOUR CODE HERE\n",
    "raise NotImplementedError()"
   ]
  },
  {
   "cell_type": "markdown",
   "metadata": {
    "deletable": false,
    "editable": false,
    "nbgrader": {
     "grade": false,
     "grade_id": "cell-af7b28f3cfa91f60",
     "locked": true,
     "schema_version": 1,
     "solution": false
    }
   },
   "source": [
    "Next we have an auto-graded cell where we will check answers. In order for the students to get immediate feedback on whether or not they have answered a question correctly, we will manually copy-paste the printed hashes above into variables so that we can check the student answers against them.\n",
    "\n",
    "Don't worry, the print statements are removed when creating the student version of this notebook."
   ]
  },
  {
   "cell_type": "code",
   "execution_count": null,
   "metadata": {
    "deletable": false,
    "editable": false,
    "nbgrader": {
     "grade": true,
     "grade_id": "cell-e1f0144e6b6e35ff",
     "locked": true,
     "points": 10,
     "schema_version": 1,
     "solution": false
    }
   },
   "outputs": [],
   "source": [
    "first_element_hash = 'e3b0c44298fc1c149afbf4c8996fb92427ae41e4649b934ca495991b7852b855'\n",
    "numbers_hash = 'b0229c06acf4d5c98db175d4d054cd39e7fff51d8c37754b4a4b424f7967710d'\n",
    "\n",
    "assert isinstance(numbers, list), \"Should be of type list\"\n",
    "assert first_element_hash == hashlib.sha256(bytes(numbers[0])).hexdigest()\n",
    "assert numbers_hash == hashlib.sha256(json.dumps(numbers).encode()).hexdigest()"
   ]
  },
  {
   "cell_type": "markdown",
   "metadata": {
    "deletable": false,
    "editable": false,
    "nbgrader": {
     "grade": false,
     "grade_id": "cell-2778271fc0197c11",
     "locked": true,
     "schema_version": 1,
     "solution": false
    }
   },
   "source": [
    "1.1) Reverse sort the list of numbers"
   ]
  },
  {
   "cell_type": "code",
   "execution_count": null,
   "metadata": {
    "deletable": false,
    "nbgrader": {
     "grade": false,
     "grade_id": "cell-76c1342f063d35b5",
     "locked": false,
     "schema_version": 1,
     "solution": true
    }
   },
   "outputs": [],
   "source": [
    "# Create a list of numbers in a particular order\n",
    "\n",
    "# Create a list of integers 0-5 inclusive, reverse the order of the list, and assign\n",
    "# the result to a variable called numbers_reversed\n",
    "# numbers_reversed = ...\n",
    "\n",
    "# YOUR CODE HERE\n",
    "raise NotImplementedError()"
   ]
  },
  {
   "cell_type": "code",
   "execution_count": null,
   "metadata": {
    "deletable": false,
    "editable": false,
    "nbgrader": {
     "grade": true,
     "grade_id": "cell-33470e71829ec84a",
     "locked": true,
     "points": 10,
     "schema_version": 1,
     "solution": false
    }
   },
   "outputs": [],
   "source": [
    "reversed_first_element_hash = '8855508aade16ec573d21e6a485dfd0a7624085c1a14b5ecdd6485de0c6839a4'\n",
    "reversed_numbers_hash = 'b1df81229a625d18d32059097d1e89a7c7dea45dd3c75bdcfcd8fa33bcfcc1db'\n",
    "\n",
    "assert isinstance(numbers, list), \"Should be of type list\"\n",
    "assert reversed_first_element_hash == hashlib.sha256(bytes(numbers_reversed[0])).hexdigest()\n",
    "assert reversed_numbers_hash == hashlib.sha256(json.dumps(numbers_reversed).encode()).hexdigest()"
   ]
  }
 ],
 "metadata": {
  "kernelspec": {
   "display_name": "Python 3",
   "language": "python",
   "name": "python3"
  },
  "language_info": {
   "codemirror_mode": {
    "name": "ipython",
    "version": 3
   },
   "file_extension": ".py",
   "mimetype": "text/x-python",
   "name": "python",
   "nbconvert_exporter": "python",
   "pygments_lexer": "ipython3",
   "version": "3.7.6"
  }
 },
 "nbformat": 4,
 "nbformat_minor": 2
}
